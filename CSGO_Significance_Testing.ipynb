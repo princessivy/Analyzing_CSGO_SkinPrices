{
  "nbformat": 4,
  "nbformat_minor": 0,
  "metadata": {
    "colab": {
      "name": "CSGO_Significance-Testing.ipynb",
      "provenance": [],
      "mount_file_id": "1ZGQs_E0cwrr3FOBw6e6f8Y5H4hyl35oX",
      "authorship_tag": "ABX9TyO5gPw8fcSqbHjUU3oE5AML",
      "include_colab_link": true
    },
    "kernelspec": {
      "name": "python3",
      "display_name": "Python 3"
    },
    "language_info": {
      "name": "python"
    }
  },
  "cells": [
    {
      "cell_type": "markdown",
      "metadata": {
        "id": "view-in-github",
        "colab_type": "text"
      },
      "source": [
        "<a href=\"https://colab.research.google.com/github/princessivy/Analyzing_CSGO_SkinPrices/blob/main/CSGO_Significance_Testing.ipynb\" target=\"_parent\"><img src=\"https://colab.research.google.com/assets/colab-badge.svg\" alt=\"Open In Colab\"/></a>"
      ]
    },
    {
      "cell_type": "markdown",
      "source": [
        "#Imports"
      ],
      "metadata": {
        "id": "AoI3znXtvpBS"
      }
    },
    {
      "cell_type": "code",
      "source": [
        "import pandas as pd\n",
        "import numpy as np\n",
        "from google.colab import drive\n",
        "from pathlib import Path\n",
        "\n",
        "from sklearn.linear_model import LinearRegression\n",
        "import statsmodels.api as sm"
      ],
      "metadata": {
        "colab": {
          "base_uri": "https://localhost:8080/"
        },
        "id": "2IQzJE_cvohV",
        "outputId": "26e9532f-64dc-480b-af79-c8f06ff5f081"
      },
      "execution_count": 3,
      "outputs": [
        {
          "output_type": "stream",
          "name": "stderr",
          "text": [
            "/usr/local/lib/python3.7/dist-packages/statsmodels/tools/_testing.py:19: FutureWarning: pandas.util.testing is deprecated. Use the functions in the public API at pandas.testing instead.\n",
            "  import pandas.util.testing as tm\n"
          ]
        }
      ]
    },
    {
      "cell_type": "markdown",
      "source": [
        "#Daten einlesen"
      ],
      "metadata": {
        "id": "uwhdbuRWvyPq"
      }
    },
    {
      "cell_type": "code",
      "source": [
        "data = pd.read_csv(r'/content/drive/MyDrive/SA_BA/Data/allitems_cleaned_3.csv')"
      ],
      "metadata": {
        "id": "MtTEip7kvoGd"
      },
      "execution_count": 38,
      "outputs": []
    },
    {
      "cell_type": "markdown",
      "source": [
        "# Anpassung der Daten für die Tests"
      ],
      "metadata": {
        "id": "3xN-f9yaTVFQ"
      }
    },
    {
      "cell_type": "code",
      "source": [
        "data.salePrice.hist()"
      ],
      "metadata": {
        "colab": {
          "base_uri": "https://localhost:8080/",
          "height": 282
        },
        "id": "9K86kfAwTS-c",
        "outputId": "1215053f-4401-465d-e155-642bfad12bea"
      },
      "execution_count": 42,
      "outputs": [
        {
          "output_type": "execute_result",
          "data": {
            "text/plain": [
              "<matplotlib.axes._subplots.AxesSubplot at 0x7efd413a9890>"
            ]
          },
          "metadata": {},
          "execution_count": 42
        },
        {
          "output_type": "display_data",
          "data": {
            "text/plain": [
              "<Figure size 432x288 with 1 Axes>"
            ],
            "image/png": "[encoded data removed]"
          },
          "metadata": {
            "needs_background": "light"
          }
        }
      ]
    },
    {
      "cell_type": "code",
      "source": [
        "data['salePricelog'] = np.log(data['salePrice'])"
      ],
      "metadata": {
        "id": "AHTUu62fY2hm"
      },
      "execution_count": 184,
      "outputs": []
    },
    {
      "cell_type": "code",
      "source": [
        "data.salePricelog.hist()"
      ],
      "metadata": {
        "colab": {
          "base_uri": "https://localhost:8080/",
          "height": 282
        },
        "id": "zj1Oe-d2Y82l",
        "outputId": "e8ada9b5-f68c-4ba0-da2f-944c5189380b"
      },
      "execution_count": 106,
      "outputs": [
        {
          "output_type": "execute_result",
          "data": {
            "text/plain": [
              "<matplotlib.axes._subplots.AxesSubplot at 0x7efd41481f10>"
            ]
          },
          "metadata": {},
          "execution_count": 106
        },
        {
          "output_type": "display_data",
          "data": {
            "text/plain": [
              "<Figure size 432x288 with 1 Axes>"
            ],
            "image/png": "[encoded data removed]"
          },
          "metadata": {
            "needs_background": "light"
          }
        }
      ]
    },
    {
      "cell_type": "markdown",
      "source": [
        "Bisher wurden nur die Ausreißer nach oben entfernt. Allerdings gibt es sehr viele Skins, die sehr billig sind, was durch die vorherige EDA sehr deutlich wird und die folgenden Quantile ebenso beweisen. Auch der logarithmierte Preis zeigt eine unschöne Verteilung."
      ],
      "metadata": {
        "id": "PjGJIja3T8LG"
      }
    },
    {
      "cell_type": "code",
      "source": [
        "data.salePrice.quantile(0.5)"
      ],
      "metadata": {
        "colab": {
          "base_uri": "https://localhost:8080/"
        },
        "id": "3zG7vsYNUEO8",
        "outputId": "a9ba698e-7258-476b-8b9d-25f4932b3c1d"
      },
      "execution_count": 45,
      "outputs": [
        {
          "output_type": "execute_result",
          "data": {
            "text/plain": [
              "0.12"
            ]
          },
          "metadata": {},
          "execution_count": 45
        }
      ]
    },
    {
      "cell_type": "markdown",
      "source": [
        "Heißt, 50% der Skins kosten weniger als 12 Cent. "
      ],
      "metadata": {
        "id": "WiznarnjUGly"
      }
    },
    {
      "cell_type": "code",
      "source": [
        "data.salePrice.quantile(0.75)"
      ],
      "metadata": {
        "colab": {
          "base_uri": "https://localhost:8080/"
        },
        "id": "hHsbpJ8iUPJB",
        "outputId": "aca15205-f2e6-487c-dd8b-3ad6291ec761"
      },
      "execution_count": 46,
      "outputs": [
        {
          "output_type": "execute_result",
          "data": {
            "text/plain": [
              "3.0"
            ]
          },
          "metadata": {},
          "execution_count": 46
        }
      ]
    },
    {
      "cell_type": "markdown",
      "source": [
        "Heißt, 75% der Skins kosten weniger als 3 Euro."
      ],
      "metadata": {
        "id": "3skAdcQZUSmm"
      }
    },
    {
      "cell_type": "code",
      "source": [
        "# Mittelwert des Preises\n",
        "print(\"Mittelwert von salePrice (in EUR): \" + str(round(data.salePrice.mean(),2)))\n",
        "\n",
        "# Median des Preises\n",
        "print(\"Median von salePrice (in EUR): \" + str(round(data.salePrice.median(),2)))"
      ],
      "metadata": {
        "colab": {
          "base_uri": "https://localhost:8080/"
        },
        "id": "y-hP5Qn-WhCh",
        "outputId": "f1ef457f-d98d-4d1f-8091-42ddd1df596e"
      },
      "execution_count": 116,
      "outputs": [
        {
          "output_type": "stream",
          "name": "stdout",
          "text": [
            "Mittelwert von salePrice (in EUR): 31.34\n",
            "Median von salePrice (in EUR): 0.12\n"
          ]
        }
      ]
    },
    {
      "cell_type": "markdown",
      "source": [
        "Es ist nicht Sinn dieser Arbeit, der Signifikanz und dem Modell die Daten im unteren Preisbereich zu übergeben. Auf diesen Beobachtungen ist es uninteressant, Wissen über die Daten aufzubauen und würde das Ergebnis nur verzerren. Entsprechend wird sich ab jetzt auf die Skins konzentriert, die mindestens 5 Euro kosten."
      ],
      "metadata": {
        "id": "q5hAWf72UVy-"
      }
    },
    {
      "cell_type": "code",
      "source": [
        "data = data[data.salePrice >= 5]"
      ],
      "metadata": {
        "id": "oFNPQvEzURwb"
      },
      "execution_count": 185,
      "outputs": []
    },
    {
      "cell_type": "code",
      "source": [
        "# Mittelwert des Preises\n",
        "print(\"Mittelwert von salePrice (in EUR): \" + str(round(data.salePrice.mean(),2)))\n",
        "\n",
        "# Median des Preises\n",
        "print(\"Median von salePrice (in EUR): \" + str(round(data.salePrice.median(),2)))"
      ],
      "metadata": {
        "colab": {
          "base_uri": "https://localhost:8080/"
        },
        "id": "yiMe1fC1WWOQ",
        "outputId": "2c63f06f-3d48-43a8-adbd-113d8a65020c"
      },
      "execution_count": 118,
      "outputs": [
        {
          "output_type": "stream",
          "name": "stdout",
          "text": [
            "Mittelwert von salePrice (in EUR): 149.47\n",
            "Median von salePrice (in EUR): 34.5\n"
          ]
        }
      ]
    },
    {
      "cell_type": "code",
      "source": [
        "data.salePrice.hist()"
      ],
      "metadata": {
        "colab": {
          "base_uri": "https://localhost:8080/",
          "height": 282
        },
        "id": "Kj_Let-mYti4",
        "outputId": "7490b05e-d644-4ef0-dbf5-1e5a11f0bebc"
      },
      "execution_count": 110,
      "outputs": [
        {
          "output_type": "execute_result",
          "data": {
            "text/plain": [
              "<matplotlib.axes._subplots.AxesSubplot at 0x7efd3e8ebbd0>"
            ]
          },
          "metadata": {},
          "execution_count": 110
        },
        {
          "output_type": "display_data",
          "data": {
            "text/plain": [
              "<Figure size 432x288 with 1 Axes>"
            ],
            "image/png": "[encoded data removed]"
          },
          "metadata": {
            "needs_background": "light"
          }
        }
      ]
    },
    {
      "cell_type": "code",
      "source": [
        "data.salePricelog.hist()"
      ],
      "metadata": {
        "colab": {
          "base_uri": "https://localhost:8080/",
          "height": 285
        },
        "id": "NRuQNmT-XBbZ",
        "outputId": "38a6e03c-ca73-43ec-a2b0-6bc24cf3c702"
      },
      "execution_count": 111,
      "outputs": [
        {
          "output_type": "execute_result",
          "data": {
            "text/plain": [
              "<matplotlib.axes._subplots.AxesSubplot at 0x7efd3e7f5d90>"
            ]
          },
          "metadata": {},
          "execution_count": 111
        },
        {
          "output_type": "display_data",
          "data": {
            "text/plain": [
              "<Figure size 432x288 with 1 Axes>"
            ],
            "image/png": "[encoded data removed]"
          },
          "metadata": {
            "needs_background": "light"
          }
        }
      ]
    },
    {
      "cell_type": "markdown",
      "source": [
        "Beim logarithmierten salePrice mit Skinpreis-Werten mit mindestens 5 ist eine deutlich angenehmere Verteilung zu erkennen. Entsprechend wird mit diesen Daten weiter verfahren."
      ],
      "metadata": {
        "id": "b5FMfFY8ZPGt"
      }
    },
    {
      "cell_type": "code",
      "source": [
        "print(\"Von 132789 Beobachtungen sind durch die Kürzung der Daten bezüglich des Preises >= 5 Euro noch \" + str(len(data)) + \" Beobachtungen übrig.\")"
      ],
      "metadata": {
        "colab": {
          "base_uri": "https://localhost:8080/"
        },
        "id": "_caqXM1RZZDJ",
        "outputId": "013df120-fc2c-419f-b0c9-56e25da139d2"
      },
      "execution_count": 114,
      "outputs": [
        {
          "output_type": "stream",
          "name": "stdout",
          "text": [
            "Von 132789 Beobachtungen sind durch die Kürzung der Daten bezüglich des Preises >= 5 Euro noch 27460 Beobachtungen übrig.\n"
          ]
        }
      ]
    },
    {
      "cell_type": "markdown",
      "source": [
        "# Datenaufbereitung für Signifikanztest (und für Modell später)"
      ],
      "metadata": {
        "id": "kW7OTS4vwkBj"
      }
    },
    {
      "cell_type": "code",
      "execution_count": 145,
      "metadata": {
        "colab": {
          "base_uri": "https://localhost:8080/"
        },
        "id": "3wF4cCcrvc29",
        "outputId": "ba089e39-e2ed-485e-c54c-b27230a79d75"
      },
      "outputs": [
        {
          "output_type": "execute_result",
          "data": {
            "text/plain": [
              "Index(['index', 'assetId', 'family', 'lock', 'version', 'salePrice',\n",
              "       'category', 'subCategory', 'pattern', 'wear', 'exterior', 'quality',\n",
              "       'rarity', 'collection', 'stickers', 'souvenir', 'stattrak',\n",
              "       'colorfulness', 'cats_colorfulness', 'salePricelog'],\n",
              "      dtype='object')"
            ]
          },
          "metadata": {},
          "execution_count": 145
        }
      ],
      "source": [
        "# übrige Features:\n",
        "data.columns"
      ]
    },
    {
      "cell_type": "markdown",
      "source": [
        "Die Features *index* und *assetId* können direkt gelöscht werden, da diese nur zur Unterstützung der Visualisierungen dienten."
      ],
      "metadata": {
        "id": "boKYtbAYwspz"
      }
    },
    {
      "cell_type": "code",
      "source": [
        "data = data.drop(['index', 'assetId'], axis = 1)"
      ],
      "metadata": {
        "id": "SWIISxW2wo_n"
      },
      "execution_count": 146,
      "outputs": []
    },
    {
      "cell_type": "code",
      "source": [
        "# kategorische Features filtern\n",
        "data.dtypes"
      ],
      "metadata": {
        "colab": {
          "base_uri": "https://localhost:8080/"
        },
        "id": "bL0QGC2Rwu8D",
        "outputId": "6fff947e-555b-4429-920a-13b40c839882"
      },
      "execution_count": 147,
      "outputs": [
        {
          "output_type": "execute_result",
          "data": {
            "text/plain": [
              "family                object\n",
              "lock                   int64\n",
              "version               object\n",
              "salePrice            float64\n",
              "category              object\n",
              "subCategory           object\n",
              "pattern                int64\n",
              "wear                 float64\n",
              "exterior              object\n",
              "quality               object\n",
              "rarity                object\n",
              "collection            object\n",
              "stickers               int64\n",
              "souvenir               int64\n",
              "stattrak               int64\n",
              "colorfulness         float64\n",
              "cats_colorfulness     object\n",
              "salePricelog         float64\n",
              "dtype: object"
            ]
          },
          "metadata": {},
          "execution_count": 147
        }
      ]
    },
    {
      "cell_type": "markdown",
      "source": [
        "Kategorisch:\n",
        "* family\n",
        "* version\n",
        "* category\n",
        "* subCategory\n",
        "* exterior\n",
        "* quality\n",
        "* rarity\n",
        "* collection\n",
        "* cats_colorfulness"
      ],
      "metadata": {
        "id": "2DPLEvBEw3c6"
      }
    },
    {
      "cell_type": "markdown",
      "source": [
        "**Einordnung Skalenniveaus:**\n",
        "\n",
        "Davon ordinalskaliert mit Anzahl Ausprägungen:\n",
        "* exterior, 5\n",
        "* rarity, 7\n",
        "* cats_colorfulness, 6\n",
        "\n",
        "Davon nominalskaliert mit Anzahl Ausprägungen:\n",
        "* family, 818\n",
        "* version, 20\n",
        "* category, 6\n",
        "* subCategory, 61\n",
        "* quality, 5\n",
        "* collection, 75"
      ],
      "metadata": {
        "id": "CIUQVPZKw5EX"
      }
    },
    {
      "cell_type": "markdown",
      "source": [
        "## Ordinale Daten: Label-Encoding oder One-Hot-Encoding?"
      ],
      "metadata": {
        "id": "KvqdHpXLckPt"
      }
    },
    {
      "cell_type": "markdown",
      "source": [
        "### Version 1: Label-Encoding"
      ],
      "metadata": {
        "id": "-yupoYfiSzsK"
      }
    },
    {
      "cell_type": "markdown",
      "source": [
        "**Im Folgenden werden die ordinalskalierten Daten encodiert (Label-Encoding):**  \n",
        "*(mir ist bewusst, dass es hierfür auch from sklearn.preprocessing import LabelEncoder gibt, allerdings kann ich durch manuelles Arbeiten sicher gehen, dass die Zahlen in der richtigen Reihenfolge vergeben werden)*"
      ],
      "metadata": {
        "id": "7BLBGBqUw8gl"
      }
    },
    {
      "cell_type": "code",
      "source": [
        "data_lab = data.copy()"
      ],
      "metadata": {
        "id": "5zZDhEhxiIRz"
      },
      "execution_count": 197,
      "outputs": []
    },
    {
      "cell_type": "markdown",
      "source": [
        "**exterior**  \n",
        "Reihenfolge von gut zu schlecht: Factory New, Minimal Wear, Field-Tested, Well-Worn, Battle-Scarred.  \n",
        "Entsprechend enthält Battle-Scarred den niedrigsten und Factory New den höchsten Wert."
      ],
      "metadata": {
        "id": "LKFWoa1Zw_ph"
      }
    },
    {
      "cell_type": "code",
      "source": [
        "data_lab.exterior.unique()"
      ],
      "metadata": {
        "colab": {
          "base_uri": "https://localhost:8080/"
        },
        "id": "Y1bGd530w7vk",
        "outputId": "1e6098cd-6daf-41ba-9947-e4b14a388dbf"
      },
      "execution_count": 198,
      "outputs": [
        {
          "output_type": "execute_result",
          "data": {
            "text/plain": [
              "array(['Factory New', 'Minimal Wear', 'Field-Tested', 'Battle-Scarred',\n",
              "       'Well-Worn'], dtype=object)"
            ]
          },
          "metadata": {},
          "execution_count": 198
        }
      ]
    },
    {
      "cell_type": "code",
      "source": [
        "def encode_exterior(x):\n",
        "  if x == 'Factory New':\n",
        "    return 5\n",
        "  elif x == 'Minimal Wear':\n",
        "    return 4\n",
        "  elif x == 'Field-Tested':\n",
        "    return 3\n",
        "  elif x == 'Well-Worn':\n",
        "    return 2\n",
        "  elif x == 'Battle-Scarred':\n",
        "    return 1"
      ],
      "metadata": {
        "id": "CP619phGxFg6"
      },
      "execution_count": 148,
      "outputs": []
    },
    {
      "cell_type": "code",
      "source": [
        "data_lab.exterior = data_lab.exterior.apply(encode_exterior)"
      ],
      "metadata": {
        "id": "OyiMDDH1xIFq"
      },
      "execution_count": 199,
      "outputs": []
    },
    {
      "cell_type": "markdown",
      "source": [
        "**rarity**  \n",
        "Reihenfolge von gut zu schlecht: Extraordinary, Covert, Classified, Restricted, Mil-Spec Grade, Industrial Grade, Consumer Grade.  "
      ],
      "metadata": {
        "id": "9Ot7Yo5OxNkw"
      }
    },
    {
      "cell_type": "code",
      "source": [
        "data_lab.rarity.unique()"
      ],
      "metadata": {
        "colab": {
          "base_uri": "https://localhost:8080/"
        },
        "id": "O7_YSjNKxKDd",
        "outputId": "5826478e-e281-4515-ea1b-b27e6780ac8d"
      },
      "execution_count": 200,
      "outputs": [
        {
          "output_type": "execute_result",
          "data": {
            "text/plain": [
              "array(['Covert', 'Restricted', 'Mil-Spec Grade', 'Classified',\n",
              "       'Industrial Grade', 'Consumer Grade', 'Extraordinary'],\n",
              "      dtype=object)"
            ]
          },
          "metadata": {},
          "execution_count": 200
        }
      ]
    },
    {
      "cell_type": "markdown",
      "source": [
        "Bemerkung: In *Extraordinary* stecken alle Skins der Kategorie Gloves. Diese sind mit *Covert* gleichgestellt. Entsprechend werden diese in die gleichie Kategorie fallen."
      ],
      "metadata": {
        "id": "hp-60g4YxSyO"
      }
    },
    {
      "cell_type": "code",
      "source": [
        "data_lab[data_lab['rarity'] == 'Extraordinary'].category.unique()"
      ],
      "metadata": {
        "colab": {
          "base_uri": "https://localhost:8080/"
        },
        "id": "ceFAd3idxPub",
        "outputId": "8ce6442d-2f46-464c-d681-6669b0d8f8ab"
      },
      "execution_count": 201,
      "outputs": [
        {
          "output_type": "execute_result",
          "data": {
            "text/plain": [
              "array(['Gloves'], dtype=object)"
            ]
          },
          "metadata": {},
          "execution_count": 201
        }
      ]
    },
    {
      "cell_type": "code",
      "source": [
        "def encode_rarity(x):\n",
        "  if (x == 'Extraordinary') or (x == 'Covert'):\n",
        "    return 6\n",
        "  elif x == 'Classified':\n",
        "    return 5\n",
        "  elif x == 'Restricted':\n",
        "    return 4\n",
        "  elif x == 'Mil-Spec Grade':\n",
        "    return 3\n",
        "  elif x == 'Industrial Grade':\n",
        "    return 2\n",
        "  elif x == 'Consumer Grade':\n",
        "    return 1"
      ],
      "metadata": {
        "id": "tXZ2RcV7xViA"
      },
      "execution_count": 151,
      "outputs": []
    },
    {
      "cell_type": "code",
      "source": [
        "data_lab.rarity = data_lab.rarity.apply(encode_rarity)"
      ],
      "metadata": {
        "id": "KIcVwkj4xYZI"
      },
      "execution_count": 202,
      "outputs": []
    },
    {
      "cell_type": "markdown",
      "source": [
        "**cats_colorfulness**"
      ],
      "metadata": {
        "id": "oJnZOLoFxfML"
      }
    },
    {
      "cell_type": "markdown",
      "source": [
        "Reihenfolge von gut zu schlecht: extremely colorful, highly colorful, quite colorful, averagely colorful, moderately colorful, slightly colorful, not colorful."
      ],
      "metadata": {
        "id": "KN29VaHMxioQ"
      }
    },
    {
      "cell_type": "code",
      "source": [
        "data_lab.cats_colorfulness.unique()"
      ],
      "metadata": {
        "colab": {
          "base_uri": "https://localhost:8080/"
        },
        "id": "r1US_md6xaGe",
        "outputId": "ba16a5de-2932-4e01-d98c-639f095d4600"
      },
      "execution_count": 203,
      "outputs": [
        {
          "output_type": "execute_result",
          "data": {
            "text/plain": [
              "array(['highly colorful', 'quite colorful', 'slightly colorful',\n",
              "       'moderately colorful', 'averagely colorful', 'extemely colorful'],\n",
              "      dtype=object)"
            ]
          },
          "metadata": {},
          "execution_count": 203
        }
      ]
    },
    {
      "cell_type": "code",
      "source": [
        "def encode_colors(x):\n",
        "  if x == 'extemely colorful':\n",
        "    return 6\n",
        "  elif x == 'highly colorful':\n",
        "    return 5\n",
        "  elif x == 'quite colorful':\n",
        "    return 4\n",
        "  elif x == 'averagely colorful':\n",
        "    return 3\n",
        "  elif x == 'moderately colorful':\n",
        "    return 2\n",
        "  elif x == 'slightly colorful':\n",
        "    return 1\n",
        "  elif x == 'not colorful': #gibt's nicht\n",
        "    return 0"
      ],
      "metadata": {
        "id": "_njZj6Pgxnlv"
      },
      "execution_count": 153,
      "outputs": []
    },
    {
      "cell_type": "code",
      "source": [
        "data_lab.cats_colorfulness = data_lab.cats_colorfulness.apply(encode_colors)"
      ],
      "metadata": {
        "id": "xyu9vhsGxqO_"
      },
      "execution_count": 204,
      "outputs": []
    },
    {
      "cell_type": "markdown",
      "source": [
        "#### Signifikanztest"
      ],
      "metadata": {
        "id": "AN89p_9bc6jO"
      }
    },
    {
      "cell_type": "code",
      "source": [
        "y = data_lab['salePricelog']\n",
        "X = data_lab[['exterior', 'rarity', 'cats_colorfulness']]"
      ],
      "metadata": {
        "id": "b6nVeS3zc9dL"
      },
      "execution_count": 205,
      "outputs": []
    },
    {
      "cell_type": "code",
      "source": [
        "model_lr = LinearRegression()"
      ],
      "metadata": {
        "id": "VxeP2FsMdVZv"
      },
      "execution_count": 206,
      "outputs": []
    },
    {
      "cell_type": "code",
      "source": [
        "X = sm.add_constant(X)"
      ],
      "metadata": {
        "colab": {
          "base_uri": "https://localhost:8080/"
        },
        "id": "gR5o0esldVk2",
        "outputId": "95bbe5e6-8108-4f45-efac-b02613ffea82"
      },
      "execution_count": 207,
      "outputs": [
        {
          "output_type": "stream",
          "name": "stderr",
          "text": [
            "/usr/local/lib/python3.7/dist-packages/statsmodels/tsa/tsatools.py:117: FutureWarning: In a future version of pandas all arguments of concat except for the argument 'objs' will be keyword-only\n",
            "  x = pd.concat(x[::order], 1)\n"
          ]
        }
      ]
    },
    {
      "cell_type": "code",
      "source": [
        "model = sm.OLS(y,X)\n",
        "results = model.fit()"
      ],
      "metadata": {
        "id": "yFmDaXrtdZS3"
      },
      "execution_count": 208,
      "outputs": []
    },
    {
      "cell_type": "code",
      "source": [
        "print(results.summary())"
      ],
      "metadata": {
        "colab": {
          "base_uri": "https://localhost:8080/"
        },
        "id": "0LjJHejrdZcF",
        "outputId": "081e6243-caba-4760-94e4-0d7de332c6b1"
      },
      "execution_count": 209,
      "outputs": [
        {
          "output_type": "stream",
          "name": "stdout",
          "text": [
            "                            OLS Regression Results                            \n",
            "==============================================================================\n",
            "Dep. Variable:           salePricelog   R-squared:                       0.231\n",
            "Model:                            OLS   Adj. R-squared:                  0.231\n",
            "Method:                 Least Squares   F-statistic:                     2757.\n",
            "Date:                Thu, 05 May 2022   Prob (F-statistic):               0.00\n",
            "Time:                        09:25:26   Log-Likelihood:                -46328.\n",
            "No. Observations:               27460   AIC:                         9.266e+04\n",
            "Df Residuals:                   27456   BIC:                         9.270e+04\n",
            "Df Model:                           3                                         \n",
            "Covariance Type:            nonrobust                                         \n",
            "=====================================================================================\n",
            "                        coef    std err          t      P>|t|      [0.025      0.975]\n",
            "-------------------------------------------------------------------------------------\n",
            "const                 0.2147      0.049      4.359      0.000       0.118       0.311\n",
            "exterior              0.2018      0.007     27.980      0.000       0.188       0.216\n",
            "rarity                0.6223      0.007     90.356      0.000       0.609       0.636\n",
            "cats_colorfulness    -0.1847      0.009    -21.554      0.000      -0.202      -0.168\n",
            "==============================================================================\n",
            "Omnibus:                     1061.513   Durbin-Watson:                   0.473\n",
            "Prob(Omnibus):                  0.000   Jarque-Bera (JB):             1167.751\n",
            "Skew:                           0.496   Prob(JB):                    2.67e-254\n",
            "Kurtosis:                       2.808   Cond. No.                         42.9\n",
            "==============================================================================\n",
            "\n",
            "Warnings:\n",
            "[1] Standard Errors assume that the covariance matrix of the errors is correctly specified.\n"
          ]
        }
      ]
    },
    {
      "cell_type": "markdown",
      "source": [
        "23,10% der Varianz wird durch die Daten erklärt und alle Features sind signifikant."
      ],
      "metadata": {
        "id": "d_X9DUOheE0t"
      }
    },
    {
      "cell_type": "markdown",
      "source": [
        "### Speicher- & Ladepunkt"
      ],
      "metadata": {
        "id": "ywQJSQzKTEHT"
      }
    },
    {
      "cell_type": "markdown",
      "source": [
        "Diese Ladepunkt lädt die Daten ohne Label-Encoding. Die Daten enthalten das Feature salePricelog und sind reduziert auf salePrice >= 5."
      ],
      "metadata": {
        "id": "rzosllCRijFI"
      }
    },
    {
      "cell_type": "code",
      "source": [
        "data.to_csv(r'allitems_cleaned_4.csv', index=False, header=True)"
      ],
      "metadata": {
        "id": "Hba_sdCGxs4O"
      },
      "execution_count": 212,
      "outputs": []
    },
    {
      "cell_type": "code",
      "source": [
        "data = pd.read_csv(r'/content/drive/MyDrive/SA_BA/Data/allitems_cleaned_4.csv')"
      ],
      "metadata": {
        "id": "frcS-tNRxzQZ"
      },
      "execution_count": 4,
      "outputs": []
    },
    {
      "cell_type": "markdown",
      "source": [
        "### Version 2: One-Hot-Encoding"
      ],
      "metadata": {
        "id": "4n5nbgKRS7VR"
      }
    },
    {
      "cell_type": "markdown",
      "source": [
        "Nun wird geguckt, ob sich mittels One-Hot-Encoding eine höhere erklärbare Varianz ergibt."
      ],
      "metadata": {
        "id": "_Af53kqYe4Up"
      }
    },
    {
      "cell_type": "code",
      "source": [
        "# exterior\n",
        "data2 = pd.get_dummies(data.exterior, prefix='ext')\n",
        "data2 = pd.concat([data, data2], axis=1)"
      ],
      "metadata": {
        "id": "s1uiolo2fBL7"
      },
      "execution_count": 186,
      "outputs": []
    },
    {
      "cell_type": "code",
      "source": [
        "# rarity\n",
        "data3 = pd.get_dummies(data.rarity, prefix='rar')\n",
        "data2 = pd.concat([data2, data3], axis=1)"
      ],
      "metadata": {
        "id": "tHlmyIvhfBfY"
      },
      "execution_count": 187,
      "outputs": []
    },
    {
      "cell_type": "code",
      "source": [
        "# cats_colorfulness\n",
        "data3 = pd.get_dummies(data.cats_colorfulness, prefix='color')\n",
        "data2 = pd.concat([data2, data3], axis=1)"
      ],
      "metadata": {
        "id": "cKwyb6SFfBmx"
      },
      "execution_count": 188,
      "outputs": []
    },
    {
      "cell_type": "markdown",
      "source": [
        "#### Signifikanztest"
      ],
      "metadata": {
        "id": "rXpRqIJcjidr"
      }
    },
    {
      "cell_type": "code",
      "source": [
        "y = data['salePricelog']\n",
        "X = data2[['ext_Battle-Scarred', 'ext_Factory New', 'ext_Field-Tested',\n",
        "       'ext_Minimal Wear', 'ext_Well-Worn', 'rar_Classified',\n",
        "       'rar_Consumer Grade', 'rar_Covert', 'rar_Extraordinary',\n",
        "       'rar_Industrial Grade', 'rar_Mil-Spec Grade', 'rar_Restricted',\n",
        "       'color_averagely colorful', 'color_extemely colorful',\n",
        "       'color_highly colorful', 'color_moderately colorful',\n",
        "       'color_quite colorful', 'color_slightly colorful']]"
      ],
      "metadata": {
        "id": "v_wl0OLvfBt1"
      },
      "execution_count": 191,
      "outputs": []
    },
    {
      "cell_type": "code",
      "source": [
        "model_lr = LinearRegression()"
      ],
      "metadata": {
        "id": "EIZNHiCafB2p"
      },
      "execution_count": 192,
      "outputs": []
    },
    {
      "cell_type": "code",
      "source": [
        "X = sm.add_constant(X)"
      ],
      "metadata": {
        "colab": {
          "base_uri": "https://localhost:8080/"
        },
        "id": "8ix_6-hgfB__",
        "outputId": "de2905ea-4c71-4374-e897-8a175bd7c711"
      },
      "execution_count": 193,
      "outputs": [
        {
          "output_type": "stream",
          "name": "stderr",
          "text": [
            "/usr/local/lib/python3.7/dist-packages/statsmodels/tsa/tsatools.py:117: FutureWarning: In a future version of pandas all arguments of concat except for the argument 'objs' will be keyword-only\n",
            "  x = pd.concat(x[::order], 1)\n"
          ]
        }
      ]
    },
    {
      "cell_type": "code",
      "source": [
        "model = sm.OLS(y,X)\n",
        "results = model.fit()"
      ],
      "metadata": {
        "id": "3ZG6r0dIfzr_"
      },
      "execution_count": 194,
      "outputs": []
    },
    {
      "cell_type": "code",
      "source": [
        "print(results.summary())"
      ],
      "metadata": {
        "colab": {
          "base_uri": "https://localhost:8080/"
        },
        "id": "2RHT-V-Jfz6D",
        "outputId": "ce01ad66-9dbc-424f-f0cd-1855162c7d35"
      },
      "execution_count": 195,
      "outputs": [
        {
          "output_type": "stream",
          "name": "stdout",
          "text": [
            "                            OLS Regression Results                            \n",
            "==============================================================================\n",
            "Dep. Variable:           salePricelog   R-squared:                       0.329\n",
            "Model:                            OLS   Adj. R-squared:                  0.329\n",
            "Method:                 Least Squares   F-statistic:                     897.3\n",
            "Date:                Thu, 05 May 2022   Prob (F-statistic):               0.00\n",
            "Time:                        09:20:26   Log-Likelihood:                -44464.\n",
            "No. Observations:               27460   AIC:                         8.896e+04\n",
            "Df Residuals:                   27444   BIC:                         8.909e+04\n",
            "Df Model:                          15                                         \n",
            "Covariance Type:            nonrobust                                         \n",
            "=============================================================================================\n",
            "                                coef    std err          t      P>|t|      [0.025      0.975]\n",
            "---------------------------------------------------------------------------------------------\n",
            "const                         2.0427      0.031     66.042      0.000       1.982       2.103\n",
            "ext_Battle-Scarred            0.2410      0.028      8.684      0.000       0.187       0.295\n",
            "ext_Factory New               0.9526      0.015     63.119      0.000       0.923       0.982\n",
            "ext_Field-Tested              0.1695      0.016     10.636      0.000       0.138       0.201\n",
            "ext_Minimal Wear              0.4198      0.016     25.916      0.000       0.388       0.452\n",
            "ext_Well-Worn                 0.2597      0.031      8.480      0.000       0.200       0.320\n",
            "rar_Classified                0.0935      0.019      4.862      0.000       0.056       0.131\n",
            "rar_Consumer Grade           -0.5672      0.066     -8.563      0.000      -0.697      -0.437\n",
            "rar_Covert                    1.3803      0.017     82.937      0.000       1.348       1.413\n",
            "rar_Extraordinary             2.4072      0.030     79.235      0.000       2.348       2.467\n",
            "rar_Industrial Grade         -0.6266      0.040    -15.650      0.000      -0.705      -0.548\n",
            "rar_Mil-Spec Grade           -0.4649      0.026    -17.964      0.000      -0.516      -0.414\n",
            "rar_Restricted               -0.1796      0.021     -8.409      0.000      -0.221      -0.138\n",
            "color_averagely colorful      0.5502      0.043     12.744      0.000       0.466       0.635\n",
            "color_extemely colorful       0.2669      0.218      1.227      0.220      -0.159       0.693\n",
            "color_highly colorful        -0.2295      0.059     -3.863      0.000      -0.346      -0.113\n",
            "color_moderately colorful     0.4557      0.040     11.341      0.000       0.377       0.534\n",
            "color_quite colorful          0.3303      0.047      7.064      0.000       0.239       0.422\n",
            "color_slightly colorful       0.6691      0.041     16.467      0.000       0.589       0.749\n",
            "==============================================================================\n",
            "Omnibus:                     1890.052   Durbin-Watson:                   0.535\n",
            "Prob(Omnibus):                  0.000   Jarque-Bera (JB):             2318.211\n",
            "Skew:                           0.674   Prob(JB):                         0.00\n",
            "Kurtosis:                       3.455   Cond. No.                     4.51e+15\n",
            "==============================================================================\n",
            "\n",
            "Warnings:\n",
            "[1] Standard Errors assume that the covariance matrix of the errors is correctly specified.\n",
            "[2] The smallest eigenvalue is 2.61e-27. This might indicate that there are\n",
            "strong multicollinearity problems or that the design matrix is singular.\n"
          ]
        }
      ]
    },
    {
      "cell_type": "markdown",
      "source": [
        "Die Varianz der Daten lässt sich mittels One-Hot-Encoding der ordinalskalierten Daten zu 32,90% erklären. Nur das Feature 'color_extremely colorful' ist nicht signifikant. "
      ],
      "metadata": {
        "id": "gBJi_A55gbsk"
      }
    },
    {
      "cell_type": "markdown",
      "source": [
        "Somit werden die ordinalskalierten Daten im weiteren Verlauf mittels One-Hot-Encoding behandelt."
      ],
      "metadata": {
        "id": "RCm7Hf7TgpGL"
      }
    },
    {
      "cell_type": "markdown",
      "source": [
        "## Nominalskalierte Daten"
      ],
      "metadata": {
        "id": "I9KZbCbij2j2"
      }
    },
    {
      "cell_type": "markdown",
      "source": [
        "* family, 818\n",
        "* version, 20\n",
        "* category, 6\n",
        "* subCategory, 61\n",
        "* quality, 5\n",
        "* collection, 75"
      ],
      "metadata": {
        "id": "izLf_ETtyA3C"
      }
    },
    {
      "cell_type": "markdown",
      "source": [
        "**family**"
      ],
      "metadata": {
        "id": "vK06udiFd76w"
      }
    },
    {
      "cell_type": "code",
      "source": [
        "data2 = pd.get_dummies(data.family, prefix='fam')"
      ],
      "metadata": {
        "id": "lvFXOFMXmXry"
      },
      "execution_count": 215,
      "outputs": []
    },
    {
      "cell_type": "code",
      "source": [
        "cols = data2.columns"
      ],
      "metadata": {
        "id": "zVtZ8ruqmX4P"
      },
      "execution_count": 218,
      "outputs": []
    },
    {
      "cell_type": "code",
      "source": [
        "data2 = pd.concat([data, data2], axis=1)"
      ],
      "metadata": {
        "id": "-gElYUiRmYDO"
      },
      "execution_count": 219,
      "outputs": []
    },
    {
      "cell_type": "code",
      "source": [
        "y = data['salePricelog']\n",
        "X = data2[cols]"
      ],
      "metadata": {
        "id": "akIdlsWpmYNI"
      },
      "execution_count": 220,
      "outputs": []
    },
    {
      "cell_type": "code",
      "source": [
        "model_lr = LinearRegression()"
      ],
      "metadata": {
        "id": "Tgzq-HFcnIjX"
      },
      "execution_count": 222,
      "outputs": []
    },
    {
      "cell_type": "code",
      "source": [
        "X = sm.add_constant(X)"
      ],
      "metadata": {
        "colab": {
          "base_uri": "https://localhost:8080/"
        },
        "id": "F1d1i1HOnIyS",
        "outputId": "df5fb5fd-45f0-46c4-8689-0d106989dba7"
      },
      "execution_count": 223,
      "outputs": [
        {
          "output_type": "stream",
          "name": "stderr",
          "text": [
            "/usr/local/lib/python3.7/dist-packages/statsmodels/tsa/tsatools.py:117: FutureWarning: In a future version of pandas all arguments of concat except for the argument 'objs' will be keyword-only\n",
            "  x = pd.concat(x[::order], 1)\n"
          ]
        }
      ]
    },
    {
      "cell_type": "code",
      "source": [
        "model = sm.OLS(y,X)\n",
        "results = model.fit()"
      ],
      "metadata": {
        "id": "-H_VXCNjnJAk"
      },
      "execution_count": 224,
      "outputs": []
    },
    {
      "cell_type": "code",
      "source": [
        "print(results.summary())"
      ],
      "metadata": {
        "colab": {
          "base_uri": "https://localhost:8080/"
        },
        "id": "ei1uSwwdnOc-",
        "outputId": "a7b93144-7b20-41dc-fef0-9e2c69afce31"
      },
      "execution_count": 225,
      "outputs": [
        {
          "output_type": "stream",
          "name": "stdout",
          "text": [
            "                            OLS Regression Results                            \n",
            "==============================================================================\n",
            "Dep. Variable:           salePricelog   R-squared:                       0.665\n",
            "Model:                            OLS   Adj. R-squared:                  0.655\n",
            "Method:                 Least Squares   F-statistic:                     64.70\n",
            "Date:                Thu, 05 May 2022   Prob (F-statistic):               0.00\n",
            "Time:                        09:46:31   Log-Likelihood:                -34932.\n",
            "No. Observations:               27460   AIC:                         7.150e+04\n",
            "Df Residuals:                   26642   BIC:                         7.822e+04\n",
            "Df Model:                         817                                         \n",
            "Covariance Type:            nonrobust                                         \n",
            "=============================================================================================\n",
            "                                coef    std err          t      P>|t|      [0.025      0.975]\n",
            "---------------------------------------------------------------------------------------------\n",
            "const                         3.1995      0.015    206.430      0.000       3.169       3.230\n",
            "fam_3rd Commando Company      1.7157      0.213      8.058      0.000       1.298       2.133\n",
            "fam_Abyss                    -0.8348      0.219     -3.805      0.000      -1.265      -0.405\n",
            "fam_Abyssal Apparition       -0.5646      0.169     -3.337      0.001      -0.896      -0.233\n",
            "fam_Acheron                  -1.0114      0.253     -3.994      0.000      -1.508      -0.515\n",
            "fam_Acid Etched              -0.6555      0.392     -1.673      0.094      -1.424       0.113\n",
            "fam_Acid Fade                -1.0942      0.277     -3.946      0.000      -1.638      -0.551\n",
            "fam_Aerial                   -0.9468      0.506     -1.872      0.061      -1.938       0.044\n",
            "fam_Afterimage                0.4336      0.292      1.484      0.138      -0.139       1.006\n",
            "fam_Agent                    -0.7251      0.392     -1.851      0.064      -1.493       0.043\n",
            "fam_Airlock                  -0.7325      0.235     -3.124      0.002      -1.192      -0.273\n",
            "fam_Akihabara Accept          3.2040      0.227     14.140      0.000       2.760       3.648\n",
            "fam_Akoben                   -1.0093      0.392     -2.576      0.010      -1.777      -0.241\n",
            "fam_Allure                    0.5317      0.506      1.051      0.293      -0.460       1.523\n",
            "fam_Aloha                    -0.9320      0.438     -2.128      0.033      -1.791      -0.073\n",
            "fam_Amber Fade               -0.5703      0.158     -3.609      0.000      -0.880      -0.261\n",
            "fam_Amphibious                3.4417      0.207     16.631      0.000       3.036       3.847\n",
            "fam_Ancient Lore              0.5203      0.172      3.018      0.003       0.182       0.858\n",
            "fam_Ancient Ritual           -1.0286      0.506     -2.034      0.042      -2.020      -0.037\n",
            "fam_Ancient Visions           0.8171      0.133      6.148      0.000       0.557       1.078\n",
            "fam_Angry Mob                -0.9301      0.158     -5.886      0.000      -1.240      -0.620\n",
            "fam_Anodized Navy            -0.1524      0.331     -0.460      0.645      -0.802       0.497\n",
            "fam_Anolis                   -0.9891      0.876     -1.129      0.259      -2.705       0.727\n",
            "fam_Antique                  -0.9243      0.166     -5.562      0.000      -1.250      -0.599\n",
            "fam_Apocalypto               -0.7303      0.358     -2.041      0.041      -1.432      -0.029\n",
            "fam_Aqua Terrace              0.9515      0.876      1.087      0.277      -0.765       2.668\n",
            "fam_Aquamarine Revenge        0.3051      0.100      3.041      0.002       0.108       0.502\n",
            "fam_Arboreal                  1.4626      0.196      7.447      0.000       1.078       1.847\n",
            "fam_Arctic Wolf              -0.7266      0.179     -4.050      0.000      -1.078      -0.375\n",
            "fam_Arid                      2.6423      0.392      6.743      0.000       1.874       3.410\n",
            "fam_Aristocrat               -0.6666      0.506     -1.318      0.187      -1.658       0.325\n",
            "fam_Armor Core               -0.8200      0.876     -0.936      0.349      -2.536       0.896\n",
            "fam_Army Sheen               -1.0519      0.277     -3.793      0.000      -1.595      -0.508\n",
            "fam_Ash Wood                 -0.9915      0.310     -3.199      0.001      -1.599      -0.384\n",
            "fam_Asiimov                   0.7613      0.038     19.812      0.000       0.686       0.837\n",
            "fam_Assault                  -1.2620      0.619     -2.038      0.042      -2.476      -0.048\n",
            "fam_Astral Jörmungandr        1.9229      0.196      9.791      0.000       1.538       2.308\n",
            "fam_Atheris                  -0.7675      0.070    -10.948      0.000      -0.905      -0.630\n",
            "fam_Atlas                    -1.0436      0.506     -2.064      0.039      -2.035      -0.052\n",
            "fam_Atomic Alloy              0.3747      0.147      2.553      0.011       0.087       0.662\n",
            "fam_Autotronic                2.2996      0.077     29.998      0.000       2.149       2.450\n",
            "fam_Autumn Twilly            -0.4903      0.358     -1.370      0.171      -1.192       0.211\n",
            "fam_Avalanche                -0.4833      0.235     -2.061      0.039      -0.943      -0.024\n",
            "fam_Aztec                    -1.5901      0.876     -1.816      0.069      -3.306       0.126\n",
            "fam_Azure Zebra              -0.3647      0.619     -0.589      0.556      -1.579       0.849\n",
            "fam_BI83 Spectrum            -0.8016      0.876     -0.915      0.360      -2.518       0.915\n",
            "fam_BOOM                      1.6028      0.096     16.658      0.000       1.414       1.791\n",
            "fam_Badlands                  1.5640      0.264      5.915      0.000       1.046       2.082\n",
            "fam_Bamboo Forest            -1.1488      0.264     -4.344      0.000      -1.667      -0.630\n",
            "fam_Bamboo Print             -0.8837      0.619     -1.427      0.154      -2.098       0.330\n",
            "fam_Bamboozle                -0.8697      0.438     -1.985      0.047      -1.728      -0.011\n",
            "fam_Banana Leaf              -0.7657      0.358     -2.140      0.032      -1.467      -0.064\n",
            "fam_Baroque Orange            0.8637      0.392      2.204      0.028       0.096       1.632\n",
            "fam_Baroque Purple           -1.0586      0.130     -8.142      0.000      -1.313      -0.804\n",
            "fam_Baroque Red              -0.3119      0.619     -0.504      0.614      -1.526       0.902\n",
            "fam_Barricade                -0.9728      0.506     -1.924      0.054      -1.964       0.018\n",
            "fam_Basilisk                 -0.1496      0.172     -0.868      0.385      -0.488       0.188\n",
            "fam_Bengal Tiger             -0.2334      0.136     -1.716      0.086      -0.500       0.033\n",
            "fam_Berries And Cherries      0.3925      0.113      3.468      0.001       0.171       0.614\n",
            "fam_Big Game                  2.8542      0.235     12.171      0.000       2.395       3.314\n",
            "fam_Big Iron                 -0.3779      0.192     -1.971      0.049      -0.754      -0.002\n",
            "fam_Bioleak                  -0.8979      0.876     -1.025      0.305      -2.614       0.818\n",
            "fam_Black Laminate            1.9388      0.072     27.088      0.000       1.798       2.079\n",
            "fam_Black Limba              -0.7736      0.506     -1.530      0.126      -1.765       0.218\n",
            "fam_Black Lotus              -1.1281      0.145     -7.793      0.000      -1.412      -0.844\n",
            "fam_Black Sand               -1.1915      0.358     -3.330      0.001      -1.893      -0.490\n",
            "fam_Black Tie                 2.7461      0.156     17.654      0.000       2.441       3.051\n",
            "fam_Blast From the Past      -0.8162      0.133     -6.141      0.000      -1.077      -0.556\n",
            "fam_Blaze                     0.5271      0.093      5.693      0.000       0.346       0.709\n",
            "fam_Blaze Orange              0.7123      0.876      0.813      0.416      -1.004       2.429\n",
            "fam_Bleached                 -0.5076      0.619     -0.820      0.412      -1.721       0.706\n",
            "fam_Blind Spot               -0.1082      0.227     -0.478      0.633      -0.552       0.336\n",
            "fam_Blood Pressure            2.3836      0.158     15.085      0.000       2.074       2.693\n",
            "fam_Blood Tiger               0.4203      0.121      3.466      0.001       0.183       0.658\n",
            "fam_Blood in the Water        0.4549      0.122      3.716      0.000       0.215       0.695\n",
            "fam_Bloodshot                -0.7646      0.219     -3.484      0.000      -1.195      -0.334\n",
            "fam_Bloodsport                0.8073      0.054     14.817      0.000       0.700       0.914\n",
            "fam_Bloomstick                0.1172      0.438      0.268      0.789      -0.741       0.976\n",
            "fam_Blue Fissure              0.8661      0.196      4.410      0.000       0.481       1.251\n",
            "fam_Blue Laminate             0.3765      0.062      6.076      0.000       0.255       0.498\n",
            "fam_Blue Phosphor             2.4318      0.092     26.403      0.000       2.251       2.612\n",
            "fam_Blue Ply                 -1.3181      0.438     -3.009      0.003      -2.177      -0.460\n",
            "fam_Blue Spruce               1.9712      0.619      3.183      0.001       0.757       3.185\n",
            "fam_Blue Steel                1.9191      0.071     27.137      0.000       1.781       2.058\n",
            "fam_Blue Streak              -1.3307      0.619     -2.149      0.032      -2.545      -0.117\n",
            "fam_Blue Tire                 0.1077      0.876      0.123      0.902      -1.609       1.824\n",
            "fam_Blue Titanium            -0.4773      0.196     -2.431      0.015      -0.862      -0.092\n",
            "fam_Blueprint                -0.2079      0.133     -1.564      0.118      -0.468       0.053\n",
            "fam_Bone Forged              -0.7842      0.506     -1.551      0.121      -1.775       0.207\n",
            "fam_Bone Machine              0.2542      0.619      0.411      0.681      -0.960       1.468\n",
            "fam_Bone Mask                -1.1383      0.438     -2.599      0.009      -1.997      -0.280\n",
            "fam_Boom!                     2.3549      0.243      9.678      0.000       1.878       2.832\n",
            "fam_Boost Protocol           -0.5184      0.331     -1.565      0.118      -1.168       0.131\n",
            "fam_Boreal Forest             1.4442      0.086     16.707      0.000       1.275       1.614\n",
            "fam_Brake Light              -1.4094      0.876     -1.610      0.108      -3.126       0.307\n",
            "fam_Brass                     0.2151      0.213      1.010      0.312      -0.202       0.632\n",
            "fam_Bratatat                 -0.9166      0.392     -2.339      0.019      -1.685      -0.149\n",
            "fam_Briar                    -0.5119      0.264     -1.936      0.053      -1.030       0.006\n",
            "fam_Briefing                 -0.8530      0.183     -4.656      0.000      -1.212      -0.494\n",
            "fam_Bright Water              1.8872      0.095     19.837      0.000       1.701       2.074\n",
            "fam_Bronze Deco              -1.1779      0.264     -4.455      0.000      -1.696      -0.660\n",
            "fam_Bronze Morph              1.9940      0.172     11.566      0.000       1.656       2.332\n",
            "fam_Bronzed                   1.3590      0.219      6.193      0.000       0.929       1.789\n",
            "fam_Brother                  -0.7560      0.392     -1.929      0.054      -1.524       0.012\n",
            "fam_Buckshot                  1.2176      0.207      5.884      0.000       0.812       1.623\n",
            "fam_Buddy                    -1.4912      0.876     -1.703      0.089      -3.208       0.225\n",
            "fam_Bulkhead                 -0.8549      0.358     -2.390      0.017      -1.556      -0.154\n",
            "fam_Bulldozer                 0.2178      0.219      0.993      0.321      -0.212       0.648\n",
            "fam_Bullet Queen             -0.3870      0.090     -4.289      0.000      -0.564      -0.210\n",
            "fam_Bullet Rain              -0.1698      0.134     -1.263      0.206      -0.433       0.094\n",
            "fam_Bunsen Burner            -0.1870      0.438     -0.427      0.669      -1.046       0.672\n",
            "fam_Business Class            0.4891      0.876      0.559      0.576      -1.227       2.205\n",
            "fam_Button Masher            -1.5243      0.876     -1.741      0.082      -3.241       0.192\n",
            "fam_Buzz Kill                -0.3095      0.110     -2.822      0.005      -0.525      -0.095\n",
            "fam_CAUTION!                  1.9397      0.141     13.752      0.000       1.663       2.216\n",
            "fam_Caiman                    0.3729      0.201      1.851      0.064      -0.022       0.768\n",
            "fam_Calf Skin                -1.1779      0.392     -3.006      0.003      -1.946      -0.410\n",
            "fam_CaliCamo                 -0.6354      0.619     -1.026      0.305      -1.849       0.578\n",
            "fam_Candy Apple              -0.3523      0.111     -3.188      0.001      -0.569      -0.136\n",
            "fam_Capillary                -0.4158      0.213     -1.953      0.051      -0.833       0.002\n",
            "fam_Caramel                  -1.1310      0.392     -2.886      0.004      -1.899      -0.363\n",
            "fam_Carbon Fiber             -0.4354      0.292     -1.490      0.136      -1.008       0.137\n",
            "fam_Cardiac                   0.0801      0.438      0.183      0.855      -0.778       0.939\n",
            "fam_Carnivore                -0.6738      0.876     -0.769      0.442      -2.390       1.043\n",
            "fam_Cartel                   -0.7909      0.109     -7.264      0.000      -1.004      -0.577\n",
            "fam_Carved Jade              -0.3731      0.115     -3.244      0.001      -0.599      -0.148\n",
            "fam_Case Hardened             1.6787      0.040     42.195      0.000       1.601       1.757\n",
            "fam_Cassette                 -0.8079      0.438     -1.844      0.065      -1.667       0.051\n",
            "fam_Catacombs                -0.8879      0.392     -2.266      0.023      -1.656      -0.120\n",
            "fam_Cerberus                  0.1691      0.187      0.903      0.367      -0.198       0.536\n",
            "fam_Chainmail                -0.4447      0.172     -2.580      0.010      -0.783      -0.107\n",
            "fam_Chalice                   2.7103      0.292      9.274      0.000       2.137       3.283\n",
            "fam_Chameleon                -0.4138      0.227     -1.826      0.068      -0.858       0.030\n",
            "fam_Chantico's Fire           0.5133      0.088      5.829      0.000       0.341       0.686\n",
            "fam_Charred                   1.4790      0.163      9.056      0.000       1.159       1.799\n",
            "fam_Chatterbox               -0.3939      0.196     -2.006      0.045      -0.779      -0.009\n",
            "fam_Check Engine             -0.3709      0.358     -1.037      0.300      -1.072       0.330\n",
            "fam_Chemical Green           -1.1407      0.277     -4.113      0.000      -1.684      -0.597\n",
            "fam_Chopper                  -0.7184      0.438     -1.640      0.101      -1.577       0.140\n",
            "fam_Chromatic Aberration     -0.7574      0.187     -4.043      0.000      -1.124      -0.390\n",
            "fam_Chronos                   1.8919      0.876      2.161      0.031       0.176       3.608\n",
            "fam_Cinquedea                 2.7908      0.392      7.122      0.000       2.023       3.559\n",
            "fam_Circaetus                -1.1850      0.506     -2.343      0.019      -2.176      -0.194\n",
            "fam_Cirrus                   -0.9963      0.331     -3.008      0.003      -1.646      -0.347\n",
            "fam_Classic Crate            -0.8237      0.876     -0.941      0.347      -2.540       0.893\n",
            "fam_Clear Polymer            -1.1917      0.264     -4.506      0.000      -1.710      -0.673\n",
            "fam_Coach Class               0.1598      0.876      0.182      0.855      -1.557       1.876\n",
            "fam_Cobalt Core              -0.8992      0.619     -1.452      0.147      -2.113       0.315\n",
            "fam_Cobalt Disruption         1.1495      0.127      9.029      0.000       0.900       1.399\n",
            "fam_Cobalt Halftone          -1.4044      0.876     -1.604      0.109      -3.121       0.312\n",
            "fam_Cobalt Quartz            -1.2255      0.876     -1.399      0.162      -2.942       0.491\n",
            "fam_Cobalt Skulls             2.9067      0.176     16.535      0.000       2.562       3.251\n",
            "fam_Cobra Strike              0.5738      0.506      1.135      0.257      -0.417       1.565\n",
            "fam_Cocoa Rampage            -1.1795      0.506     -2.332      0.020      -2.171      -0.188\n",
            "fam_Code Red                  0.2534      0.098      2.588      0.010       0.061       0.445\n",
            "fam_Cold Blooded              0.7093      0.264      2.682      0.007       0.191       1.228\n",
            "fam_Cold Fusion              -1.0218      0.619     -1.650      0.099      -2.236       0.192\n",
            "fam_Colony                   -0.8901      0.310     -2.872      0.004      -1.498      -0.283\n",
            "fam_Colony IV                -0.4069      0.213     -1.911      0.056      -0.824       0.010\n",
            "fam_Commemoration            -0.2537      0.121     -2.092      0.036      -0.491      -0.016\n",
            "fam_Commuter                 -0.7142      0.506     -1.412      0.158      -1.705       0.277\n",
            "fam_Connexion                -0.4782      0.438     -1.092      0.275      -1.337       0.380\n",
            "fam_Conspiracy               -1.0462      0.076    -13.743      0.000      -1.195      -0.897\n",
            "fam_Constrictor               1.2516      0.219      5.704      0.000       0.821       1.682\n",
            "fam_Containment Breach        0.9904      0.076     12.965      0.000       0.841       1.140\n",
            "fam_Contaminant              -1.4078      0.619     -2.273      0.023      -2.622      -0.194\n",
            "fam_Contamination            -0.2153      0.438     -0.492      0.623      -1.074       0.643\n",
            "fam_Contractor               -0.4505      0.358     -1.259      0.208      -1.152       0.251\n",
            "fam_Contrast Spray            0.0314      0.506      0.062      0.951      -0.960       1.023\n",
            "fam_Control Panel            -0.0874      0.213     -0.411      0.681      -0.505       0.330\n",
            "fam_Converter                -1.1676      0.207     -5.642      0.000      -1.573      -0.762\n",
            "fam_Convoy                    1.2487      0.172      7.243      0.000       0.911       1.587\n",
            "fam_Cool Mint                 2.2377      0.292      7.657      0.000       1.665       2.811\n",
            "fam_Coolant                  -1.0718      0.438     -2.447      0.014      -1.930      -0.213\n",
            "fam_Copper                    1.6210      0.392      4.137      0.000       0.853       2.389\n",
            "fam_Copper Borre              1.0083      0.253      3.982      0.000       0.512       1.505\n",
            "fam_Copper Galaxy            -0.9076      0.169     -5.364      0.000      -1.239      -0.576\n",
            "fam_Copperhead                1.4623      0.619      2.361      0.018       0.248       2.676\n",
            "fam_Corinthian               -0.7503      0.253     -2.963      0.003      -1.247      -0.254\n",
            "fam_Corporal                 -0.2976      0.876     -0.340      0.734      -2.014       1.419\n",
            "fam_Cortex                   -0.8541      0.076    -11.298      0.000      -1.002      -0.706\n",
            "fam_Corticera                -0.3472      0.138     -2.523      0.012      -0.617      -0.077\n",
            "fam_Counter Terrace           1.5028      0.392      3.835      0.000       0.735       2.271\n",
            "fam_Cracked Opal             -1.2551      0.876     -1.433      0.152      -2.971       0.461\n",
            "fam_Crime Scene               0.3737      0.156      2.403      0.016       0.069       0.679\n",
            "fam_Crimson Blossom           0.9010      0.253      3.558      0.000       0.405       1.397\n",
            "fam_Crimson Kimono            1.3191      0.207      6.374      0.000       0.914       1.725\n",
            "fam_Crimson Tsunami          -1.5762      0.876     -1.800      0.072      -3.293       0.140\n",
            "fam_Crimson Weave             2.4698      0.201     12.260      0.000       2.075       2.865\n",
            "fam_Crimson Web               1.8350      0.052     35.127      0.000       1.733       1.937\n",
            "fam_Crypsis                  -0.9695      0.876     -1.107      0.268      -2.686       0.747\n",
            "fam_Curse                    -1.0728      0.619     -1.732      0.083      -2.287       0.141\n",
            "fam_Cut Out                  -0.7155      0.876     -0.817      0.414      -2.432       1.001\n",
            "fam_Cyber Security           -0.3771      0.107     -3.539      0.000      -0.586      -0.168\n",
            "fam_Cyber Shell              -0.4448      0.438     -1.015      0.310      -1.303       0.414\n",
            "fam_Cyrex                    -0.0635      0.053     -1.198      0.231      -0.167       0.040\n",
            "fam_Daedalus                 -1.2551      0.876     -1.433      0.152      -2.971       0.461\n",
            "fam_Damascus Steel            1.8550      0.061     30.200      0.000       1.735       1.975\n",
            "fam_Dark Age                  0.9310      0.227      4.109      0.000       0.487       1.375\n",
            "fam_Dark Blossom             -0.7438      0.207     -3.594      0.000      -1.149      -0.338\n",
            "fam_Dark Filigree            -1.1339      0.876     -1.295      0.195      -2.850       0.582\n",
            "fam_Dark Water                0.2590      0.088      2.955      0.003       0.087       0.431\n",
            "fam_Darkwing                 -0.7244      0.331     -2.187      0.029      -1.374      -0.075\n",
            "fam_Day Lily                  0.3477      0.331      1.050      0.294      -0.302       0.997\n",
            "fam_Daybreak                  2.1883      0.253      8.642      0.000       1.692       2.685\n",
            "fam_Dazzle                   -0.9760      0.876     -1.115      0.265      -2.692       0.740\n",
            "fam_Deadly Poison            -1.1220      0.619     -1.812      0.070      -2.336       0.092\n",
            "fam_Death Grip               -1.1201      0.876     -1.279      0.201      -2.836       0.596\n",
            "fam_Death Rattle             -1.0293      0.392     -2.627      0.009      -1.797      -0.261\n",
            "fam_Death Strike              1.9163      0.219      8.733      0.000       1.486       2.346\n",
            "fam_Death by Kitty            0.8377      0.253      3.308      0.001       0.341       1.334\n",
            "fam_Death by Puppy           -0.8366      0.253     -3.304      0.001      -1.333      -0.340\n",
            "fam_Death's Head             -1.4408      0.392     -3.677      0.000      -2.209      -0.673\n",
            "fam_Decimator                -0.4536      0.054     -8.367      0.000      -0.560      -0.347\n",
            "fam_Decommissioned           -1.5206      0.619     -2.455      0.014      -2.734      -0.307\n",
            "fam_Deep Relief              -1.1796      0.619     -1.905      0.057      -2.393       0.034\n",
            "fam_Delusion                 -0.9580      0.438     -2.187      0.029      -1.817      -0.099\n",
            "fam_Demeter                  -1.0124      0.438     -2.311      0.021      -1.871      -0.154\n",
            "fam_Demolition               -1.1596      0.876     -1.324      0.185      -2.876       0.557\n",
            "fam_Desert Blossom           -0.9780      0.134     -7.276      0.000      -1.241      -0.715\n",
            "fam_Desert DDPAT             -0.6031      0.619     -0.974      0.330      -1.817       0.611\n",
            "fam_Desert Hydra              4.3107      0.156     27.713      0.000       4.006       4.616\n",
            "fam_Desert Shamagh            1.3418      0.163      8.216      0.000       1.022       1.662\n",
            "fam_Desert Storm             -0.0224      0.277     -0.081      0.936      -0.566       0.521\n",
            "fam_Desert Strike            -0.7146      0.876     -0.816      0.414      -2.431       1.002\n",
            "fam_Desert Warfare           -0.2816      0.331     -0.850      0.395      -0.931       0.368\n",
            "fam_Desert-Strike            -0.3650      0.235     -1.556      0.120      -0.825       0.095\n",
            "fam_Desolate Space           -0.7058      0.097     -7.251      0.000      -0.897      -0.515\n",
            "fam_Detour                   -0.4973      0.243     -2.044      0.041      -0.974      -0.020\n",
            "fam_Devourer                 -0.7067      0.196     -3.599      0.000      -1.092      -0.322\n",
            "fam_Diamondback               1.5874      0.438      3.624      0.000       0.729       2.446\n",
            "fam_Digital Architect         0.4906      0.292      1.679      0.093      -0.082       1.063\n",
            "fam_Digital Mesh             -0.8801      0.619     -1.421      0.155      -2.094       0.334\n",
            "fam_Directive                -1.0979      0.292     -3.757      0.000      -1.671      -0.525\n",
            "fam_Disco Tech               -0.9488      0.139     -6.812      0.000      -1.222      -0.676\n",
            "fam_Dispatch                 -0.9739      0.243     -4.002      0.000      -1.451      -0.497\n",
            "fam_Distressed                0.7161      0.876      0.818      0.414      -1.000       2.432\n",
            "fam_Djinn                    -1.0818      0.392     -2.761      0.006      -1.850      -0.314\n",
            "fam_Doomkitty                 2.1204      0.876      2.421      0.015       0.404       3.837\n",
            "fam_Doppler                   2.7393      0.032     84.308      0.000       2.676       2.803\n",
            "fam_Dragon Lore               5.2675      0.310     16.996      0.000       4.660       5.875\n",
            "fam_Dragon Tattoo             1.4492      0.156      9.317      0.000       1.144       1.754\n",
            "fam_Dragonfire               -0.5431      0.074     -7.330      0.000      -0.688      -0.398\n",
            "fam_Dream Glade              -1.4451      0.506     -2.858      0.004      -2.436      -0.454\n",
            "fam_Drought                  -1.3050      0.161     -8.126      0.000      -1.620      -0.990\n",
            "fam_Dualing Dragons          -1.3911      0.506     -2.751      0.006      -2.382      -0.400\n",
            "fam_Duct Tape                 1.2135      0.163      7.430      0.000       0.893       1.534\n",
            "fam_Duelist                   0.8520      0.619      1.376      0.169      -0.362       2.066\n",
            "fam_Dusk Ruins               -0.5835      0.133     -4.390      0.000      -0.844      -0.323\n",
            "fam_Eclipse                   2.1167      0.235      9.026      0.000       1.657       2.576\n",
            "fam_Eco                      -0.7092      0.310     -2.288      0.022      -1.317      -0.102\n",
            "fam_Electric Hive             1.1085      0.103     10.767      0.000       0.907       1.310\n",
            "fam_Elegant Vines             0.4467      0.176      2.541      0.011       0.102       0.791\n",
            "fam_Elite Build              -0.6636      0.072     -9.272      0.000      -0.804      -0.523\n",
            "fam_Embargo                  -0.7677      0.331     -2.317      0.020      -1.417      -0.118\n",
            "fam_Emerald                   0.6463      0.095      6.793      0.000       0.460       0.833\n",
            "fam_Emerald Dragon            1.5514      0.264      5.867      0.000       1.033       2.070\n",
            "fam_Emerald Jörmungandr       2.1845      0.097     22.442      0.000       1.994       2.375\n",
            "fam_Emerald Pinstripe        -0.7981      0.119     -6.703      0.000      -1.031      -0.565\n",
            "fam_Emerald Poison Dart      -0.2976      0.876     -0.340      0.734      -2.014       1.419\n",
            "fam_Emerald Quartz            0.8781      0.277      3.167      0.002       0.335       1.422\n",
            "fam_Emerald Web               2.8264      0.213     13.275      0.000       2.409       3.244\n",
            "fam_Enforcer                 -1.0221      0.392     -2.608      0.009      -1.790      -0.254\n",
            "fam_Ensnared                 -0.9121      0.358     -2.549      0.011      -1.613      -0.211\n",
            "fam_Entombed                 -0.9607      0.163     -5.882      0.000      -1.281      -0.641\n",
            "fam_Evil Daimyo              -0.9118      0.120     -7.589      0.000      -1.147      -0.676\n",
            "fam_Exo                      -0.8969      0.876     -1.024      0.306      -2.613       0.819\n",
            "fam_Exoskeleton              -0.9946      0.107     -9.336      0.000      -1.203      -0.786\n",
            "fam_Exposure                 -1.2551      0.876     -1.433      0.152      -2.971       0.461\n",
            "fam_Eye of Athena            -1.0348      0.149     -6.954      0.000      -1.326      -0.743\n",
            "fam_Facets                   -0.3140      0.392     -0.801      0.423      -1.082       0.454\n",
            "fam_Facility Dark            -0.4843      0.392     -1.236      0.217      -1.252       0.284\n",
            "fam_Facility Negative        -0.2818      0.876     -0.322      0.748      -1.998       1.435\n",
            "fam_Facility Sketch           0.4536      0.619      0.733      0.464      -0.760       1.667\n",
            "fam_Fade                      1.8267      0.044     41.192      0.000       1.740       1.914\n",
            "fam_Faded Zebra               0.2233      0.219      1.018      0.309      -0.207       0.653\n",
            "fam_Fairy Tale               -0.6488      0.145     -4.482      0.000      -0.933      -0.365\n",
            "fam_Fall Hazard               2.1129      0.264      7.990      0.000       1.595       2.631\n",
            "fam_Fallout Warning          -0.1308      0.264     -0.495      0.621      -0.649       0.387\n",
            "fam_Fennec Fox                2.3253      0.112     20.712      0.000       2.105       2.545\n",
            "fam_Fever Dream              -0.9731      0.062    -15.740      0.000      -1.094      -0.852\n",
            "fam_Field Agent               2.9863      0.196     15.206      0.000       2.601       3.371\n",
            "fam_Finish Line               2.5279      0.227     11.156      0.000       2.084       2.972\n",
            "fam_Fire Elemental           -0.2894      0.163     -1.772      0.076      -0.609       0.031\n",
            "fam_Fire Serpent              3.5524      0.125     28.468      0.000       3.308       3.797\n",
            "fam_Firefight                -0.9851      0.506     -1.948      0.051      -1.976       0.006\n",
            "fam_Firestarter              -0.8350      0.506     -1.651      0.099      -1.826       0.156\n",
            "fam_First Class               0.6604      0.331      1.994      0.046       0.011       1.310\n",
            "fam_Fizzy POP                -1.2029      0.292     -4.116      0.000      -1.776      -0.630\n",
            "fam_Flame Jörmungandr         2.0176      0.201     10.015      0.000       1.623       2.412\n",
            "fam_Flame Test               -1.5150      0.876     -1.730      0.084      -3.231       0.201\n",
            "fam_Flashback                -1.0430      0.090    -11.615      0.000      -1.219      -0.867\n",
            "fam_Fleet Flock              -1.0502      0.253     -4.147      0.000      -1.547      -0.554\n",
            "fam_Flux                     -0.6066      0.219     -2.764      0.006      -1.037      -0.176\n",
            "fam_Food Chain               -1.1083      0.093    -11.907      0.000      -1.291      -0.926\n",
            "fam_Foresight                -0.8101      0.506     -1.602      0.109      -1.801       0.181\n",
            "fam_Forest DDPAT              1.6825      0.084     20.075      0.000       1.518       1.847\n",
            "fam_Forest Leaves            -0.6029      0.438     -1.376      0.169      -1.461       0.256\n",
            "fam_Forest Night             -0.4916      0.506     -0.972      0.331      -1.483       0.500\n",
            "fam_Foundation                2.3265      0.213     10.927      0.000       1.909       2.744\n",
            "fam_Fowl Play                -1.0237      0.292     -3.503      0.000      -1.597      -0.451\n",
            "fam_Framework                -0.8969      0.876     -1.024      0.306      -2.613       0.819\n",
            "fam_Franklin                  0.3276      0.117      2.800      0.005       0.098       0.557\n",
            "fam_Freehand                  2.0584      0.082     25.181      0.000       1.898       2.219\n",
            "fam_Freight                  -1.4576      0.506     -2.882      0.004      -2.449      -0.466\n",
            "fam_Frontside Misty          -0.0686      0.080     -0.856      0.392      -0.226       0.088\n",
            "fam_Frost Borre               1.0027      0.243      4.121      0.000       0.526       1.480\n",
            "fam_Fubar                    -1.3966      0.438     -3.188      0.001      -2.255      -0.538\n",
            "fam_Fuel Injector             1.0905      0.091     11.963      0.000       0.912       1.269\n",
            "fam_Fuel Rod                 -1.4181      0.619     -2.290      0.022      -2.632      -0.204\n",
            "fam_Full Stop                -1.0374      0.876     -1.185      0.236      -2.754       0.679\n",
            "fam_Gamma Doppler             0.8044      0.028     28.378      0.000       0.749       0.860\n",
            "fam_Gator Mesh                0.4150      0.392      1.059      0.290      -0.353       1.183\n",
            "fam_Ghost Camo               -0.1040      0.876     -0.119      0.906      -1.820       1.612\n",
            "fam_Ghost Crusader           -1.1513      0.392     -2.938      0.003      -1.919      -0.383\n",
            "fam_Gila                     -0.8979      0.876     -1.025      0.305      -2.614       0.818\n",
            "fam_Giraffe                   1.7524      0.219      7.986      0.000       1.322       2.183\n",
            "fam_Glacier Mesh             -1.0595      0.876     -1.210      0.226      -2.776       0.657\n",
            "fam_Global Offensive         -0.8081      0.153     -5.275      0.000      -1.108      -0.508\n",
            "fam_Gnarled                  -1.0307      0.506     -2.038      0.042      -2.022      -0.039\n",
            "fam_Gold Arabesque            4.0616      0.163     24.869      0.000       3.741       4.382\n",
            "fam_Gold Bismuth             -0.2551      0.876     -0.291      0.771      -1.971       1.461\n",
            "fam_Gold Brick                0.6444      0.179      3.592      0.000       0.293       0.996\n",
            "fam_Golden Coil               0.9065      0.097      9.312      0.000       0.716       1.097\n",
            "fam_Golden Koi                0.7470      0.183      4.077      0.000       0.388       1.106\n",
            "fam_Goo                      -1.4857      0.876     -1.697      0.090      -3.202       0.231\n",
            "fam_Graphite                  1.4987      0.118     12.698      0.000       1.267       1.730\n",
            "fam_Grassland                -1.3702      0.876     -1.565      0.118      -3.087       0.346\n",
            "fam_Grassland Leaves          0.6071      0.876      0.693      0.488      -1.109       2.323\n",
            "fam_Graven                    0.6386      0.358      1.785      0.074      -0.063       1.340\n",
            "fam_Green Apple               0.0523      0.179      0.292      0.770      -0.299       0.404\n",
            "fam_Green Laminate           -0.2055      0.169     -1.215      0.225      -0.537       0.126\n",
            "fam_Green Marine             -1.5413      0.876     -1.760      0.078      -3.258       0.175\n",
            "fam_Green Plaid              -0.8959      0.876     -1.023      0.306      -2.612       0.820\n",
            "fam_Griffin                  -0.0016      0.227     -0.007      0.994      -0.446       0.442\n",
            "fam_Grim                     -1.2021      0.619     -1.941      0.052      -2.416       0.012\n",
            "fam_Grinder                  -0.8334      0.253     -3.291      0.001      -1.330      -0.337\n",
            "fam_Grip                     -1.5664      0.876     -1.789      0.074      -3.283       0.150\n",
            "fam_Grotto                   -0.5307      0.392     -1.354      0.176      -1.299       0.237\n",
            "fam_Groundwater               0.9049      0.392      2.309      0.021       0.137       1.673\n",
            "fam_Guardian                  0.2572      0.085      3.030      0.002       0.091       0.424\n",
            "fam_Guerrilla                 0.9479      0.227      4.183      0.000       0.504       1.392\n",
            "fam_Gungnir                   5.4743      0.506     10.825      0.000       4.483       6.466\n",
            "fam_Gunsmoke                 -0.2552      0.292     -0.873      0.383      -0.828       0.318\n",
            "fam_Hand Brake               -0.2684      0.619     -0.433      0.665      -1.482       0.945\n",
            "fam_Hand Cannon               2.6444      0.213     12.420      0.000       2.227       3.062\n",
            "fam_Handgun                  -0.9438      0.277     -3.404      0.001      -1.487      -0.400\n",
            "fam_Hazard                   -1.3386      0.876     -1.529      0.126      -3.055       0.378\n",
            "fam_Hazard Pay                1.9678      0.219      8.968      0.000       1.538       2.398\n",
            "fam_Heat                     -0.6174      0.176     -3.512      0.000      -0.962      -0.273\n",
            "fam_Heaven Guard             -1.3277      0.876     -1.516      0.129      -3.044       0.389\n",
            "fam_Heavy Metal              -1.0024      0.506     -1.982      0.047      -1.994      -0.011\n",
            "fam_Hedge Maze                3.8608      0.358     10.791      0.000       3.160       4.562\n",
            "fam_Heirloom                 -0.5193      0.207     -2.509      0.012      -0.925      -0.114\n",
            "fam_Hellfire                  0.8370      0.139      6.009      0.000       0.564       1.110\n",
            "fam_Hemoglobin               -0.9588      0.219     -4.370      0.000      -1.389      -0.529\n",
            "fam_Hexane                   -0.0989      0.277     -0.357      0.721      -0.642       0.445\n",
            "fam_High Beam                -0.9069      0.227     -4.002      0.000      -1.351      -0.463\n",
            "fam_High Roller              -0.8240      0.219     -3.755      0.000      -1.254      -0.394\n",
            "fam_High Seas                -0.4322      0.438     -0.987      0.324      -1.291       0.426\n",
            "fam_Hive                      0.4501      0.331      1.359      0.174      -0.199       1.099\n",
            "fam_Hot Rod                   0.9232      0.112      8.223      0.000       0.703       1.143\n",
            "fam_Hot Shot                 -0.4906      0.310     -1.583      0.113      -1.098       0.117\n",
            "fam_Hot Snakes                2.1466      0.183     11.716      0.000       1.788       2.506\n",
            "fam_Houndstooth              -0.6245      0.619     -1.008      0.313      -1.838       0.589\n",
            "fam_Howl                      5.0491      0.213     23.714      0.000       4.632       5.466\n",
            "fam_Humidor                  -1.0776      0.438     -2.460      0.014      -1.936      -0.219\n",
            "fam_Hunting Blind            -0.4390      0.358     -1.227      0.220      -1.140       0.262\n",
            "fam_Hydra                    -0.7967      0.183     -4.348      0.000      -1.156      -0.438\n",
            "fam_Hydroponic                3.4354      0.163     21.035      0.000       3.115       3.756\n",
            "fam_Hyper Beast               0.4454      0.046      9.760      0.000       0.356       0.535\n",
            "fam_Hypnotic                  0.7203      0.093      7.739      0.000       0.538       0.903\n",
            "fam_Icarus Fell               2.6313      0.156     16.917      0.000       2.326       2.936\n",
            "fam_Ice Cap                  -1.1646      0.506     -2.303      0.021      -2.156      -0.173\n",
            "fam_Imminent Danger           3.7185      0.219     16.946      0.000       3.288       4.149\n",
            "fam_Imperial                 -0.7247      0.876     -0.828      0.408      -2.441       0.992\n",
            "fam_Imperial Dragon          -1.0840      0.196     -5.520      0.000      -1.469      -0.699\n",
            "fam_Imperial Plaid            2.4986      0.139     17.937      0.000       2.226       2.772\n",
            "fam_Impire                   -1.5191      0.438     -3.468      0.001      -2.378      -0.660\n",
            "fam_Imprint                  -0.7439      0.619     -1.201      0.230      -1.958       0.470\n",
            "fam_In Living Color          -0.1826      0.099     -1.843      0.065      -0.377       0.012\n",
            "fam_Incinegator               0.5153      0.876      0.588      0.556      -1.201       2.232\n",
            "fam_Indigo                   -0.7573      0.219     -3.451      0.001      -1.187      -0.327\n",
            "fam_Inferno                  -1.4111      0.876     -1.611      0.107      -3.127       0.305\n",
            "fam_Infrastructure           -0.0215      0.876     -0.025      0.980      -1.738       1.695\n",
            "fam_Integrale                 0.5674      0.219      2.586      0.010       0.137       0.997\n",
            "fam_Interlock                -0.8270      0.438     -1.888      0.059      -1.686       0.032\n",
            "fam_Iron Clad                -1.4451      0.876     -1.650      0.099      -3.161       0.271\n",
            "fam_Ironwork                 -0.3678      0.506     -0.727      0.467      -1.359       0.623\n",
            "fam_Irradiated Alert         -0.0162      0.619     -0.026      0.979      -1.230       1.198\n",
            "fam_Isaac                    -0.9329      0.264     -3.528      0.000      -1.451      -0.415\n",
            "fam_Ivory                    -1.4189      0.438     -3.239      0.001      -2.277      -0.560\n",
            "fam_Jade                      1.9609      0.151     12.991      0.000       1.665       2.257\n",
            "fam_Jaguar                    0.4781      0.158      3.026      0.002       0.168       0.788\n",
            "fam_Jambiya                  -1.5079      0.619     -2.435      0.015      -2.722      -0.294\n",
            "fam_Jet Set                   1.9483      0.310      6.286      0.000       1.341       2.556\n",
            "fam_Judgement of Anubis      -1.0164      0.207     -4.912      0.000      -1.422      -0.611\n",
            "fam_Jungle                   -1.1335      0.619     -1.830      0.067      -2.347       0.080\n",
            "fam_Jungle DDPAT             -1.1994      0.876     -1.370      0.171      -2.916       0.517\n",
            "fam_Jungle Dashed            -1.2354      0.619     -1.995      0.046      -2.449      -0.022\n",
            "fam_Jungle Slipstream        -0.9341      0.506     -1.847      0.065      -1.925       0.057\n",
            "fam_Jungle Spray              0.1741      0.331      0.526      0.599      -0.475       0.823\n",
            "fam_Jungle Tiger             -0.5439      0.292     -1.861      0.063      -1.117       0.029\n",
            "fam_Justice                  -0.5538      0.201     -2.749      0.006      -0.949      -0.159\n",
            "fam_Kami                      0.1534      0.253      0.606      0.545      -0.343       0.650\n",
            "fam_Keeping Tabs             -0.9582      0.619     -1.547      0.122      -2.172       0.256\n",
            "fam_Kill Confirmed            1.0923      0.071     15.353      0.000       0.953       1.232\n",
            "fam_King Snake                3.2284      0.201     16.025      0.000       2.834       3.623\n",
            "fam_Kitbash                  -0.3758      0.876     -0.429      0.668      -2.092       1.341\n",
            "fam_Knight                    4.3532      0.277     15.699      0.000       3.810       4.897\n",
            "fam_Kumicho Dragon           -0.4016      0.086     -4.667      0.000      -0.570      -0.233\n",
            "fam_Lab Rats                 -1.1716      0.331     -3.537      0.000      -1.821      -0.522\n",
            "fam_Labyrinth                -1.2051      0.438     -2.751      0.006      -2.064      -0.346\n",
            "fam_Last Dive                -0.1566      0.619     -0.253      0.800      -1.370       1.057\n",
            "fam_Lead Conduit             -0.6203      0.506     -1.226      0.220      -1.612       0.371\n",
            "fam_Leaded Glass             -0.9645      0.083    -11.655      0.000      -1.127      -0.802\n",
            "fam_Leather                   1.4928      0.207      7.214      0.000       1.087       1.898\n",
            "fam_Leet Museo                0.0200      0.090      0.221      0.825      -0.157       0.197\n",
            "fam_Legion of Anubis          0.0779      0.066      1.188      0.235      -0.051       0.206\n",
            "fam_Light Rail               -1.0207      0.124     -8.260      0.000      -1.263      -0.779\n",
            "fam_Lightning Strike          2.9727      0.136     21.861      0.000       2.706       3.239\n",
            "fam_Limelight                -0.4844      0.506     -0.958      0.338      -1.476       0.507\n",
            "fam_Llama Cannon             -0.7687      0.438     -1.755      0.079      -1.627       0.090\n",
            "fam_Lore                      2.6938      0.074     36.474      0.000       2.549       2.839\n",
            "fam_Lt. Commander             2.3936      0.310      7.723      0.000       1.786       3.001\n",
            "fam_Lumen                    -0.5265      0.619     -0.850      0.395      -1.740       0.687\n",
            "fam_Lunar Weave               1.8144      0.176     10.322      0.000       1.470       2.159\n",
            "fam_Lush Ruins               -1.2559      0.331     -3.791      0.000      -1.905      -0.607\n",
            "fam_Macabre                  -1.5683      0.876     -1.791      0.073      -3.285       0.148\n",
            "fam_Magna Carta              -0.6406      0.187     -3.420      0.001      -1.008      -0.273\n",
            "fam_Magnesium                -0.7864      0.235     -3.353      0.001      -1.246      -0.327\n",
            "fam_Mainframe                -0.1768      0.331     -0.534      0.594      -0.826       0.473\n",
            "fam_Mainframe 001            -0.5279      0.358     -1.476      0.140      -1.229       0.173\n",
            "fam_Man-o'-war                0.3543      0.151      2.347      0.019       0.058       0.650\n",
            "fam_Mandrel                  -0.0985      0.876     -0.113      0.910      -1.815       1.618\n",
            "fam_Mangrove                  0.9234      0.179      5.148      0.000       0.572       1.275\n",
            "fam_Marble Fade               2.5851      0.054     48.216      0.000       2.480       2.690\n",
            "fam_Marina                   -0.4508      0.358     -1.260      0.208      -1.152       0.250\n",
            "fam_Master Piece              1.2744      0.183      6.955      0.000       0.915       1.633\n",
            "fam_Mecha Industries         -0.6961      0.056    -12.459      0.000      -0.806      -0.587\n",
            "fam_Mechanism                -0.6354      0.876     -0.726      0.468      -2.352       1.081\n",
            "fam_Medusa                    4.3806      0.292     14.989      0.000       3.808       4.953\n",
            "fam_Mehndi                   -0.5201      0.264     -1.967      0.049      -1.038      -0.002\n",
            "fam_Melondrama               -0.5545      0.179     -3.091      0.002      -0.906      -0.203\n",
            "fam_Meltdown                 -0.6731      0.095     -7.075      0.000      -0.860      -0.487\n",
            "fam_Memento                  -0.5077      0.310     -1.638      0.101      -1.115       0.100\n",
            "fam_Metal Flowers            -0.5110      0.876     -0.584      0.560      -2.227       1.205\n",
            "fam_Metallic DDPAT           -0.5727      0.227     -2.527      0.011      -1.017      -0.129\n",
            "fam_Meteorite                -1.1496      0.392     -2.934      0.003      -1.918      -0.382\n",
            "fam_Midnight Lily             1.8420      0.253      7.274      0.000       1.346       2.338\n",
            "fam_Midnight Palm            -0.5667      0.392     -1.446      0.148      -1.335       0.201\n",
            "fam_Midnight Storm           -0.4470      0.107     -4.196      0.000      -0.656      -0.238\n",
            "fam_Minotaur's Labyrinth      1.4370      0.506      2.841      0.004       0.446       2.428\n",
            "fam_Mjölnir                   3.9730      0.253     15.690      0.000       3.477       4.469\n",
            "fam_Modern Hunter             0.5191      0.331      1.567      0.117      -0.130       1.168\n",
            "fam_Modest Threat            -1.1480      0.619     -1.854      0.064      -2.362       0.066\n",
            "fam_Module                   -0.1089      0.331     -0.329      0.742      -0.758       0.540\n",
            "fam_Mogul                     2.1853      0.213     10.264      0.000       1.768       2.603\n",
            "fam_Momentum                 -0.6281      0.176     -3.573      0.000      -0.973      -0.283\n",
            "fam_Monkey Business          -0.6554      0.201     -3.253      0.001      -1.050      -0.261\n",
            "fam_Monster Call             -1.1486      0.438     -2.622      0.009      -2.007      -0.290\n",
            "fam_Monster Mashup           -0.6665      0.090     -7.423      0.000      -0.843      -0.491\n",
            "fam_Moonrise                 -0.6852      0.105     -6.522      0.000      -0.891      -0.479\n",
            "fam_Morris                   -1.0689      0.876     -1.221      0.222      -2.785       0.647\n",
            "fam_Mortis                   -0.7846      0.096     -8.154      0.000      -0.973      -0.596\n",
            "fam_Moss Quartz              -0.7238      0.169     -4.278      0.000      -1.055      -0.392\n",
            "fam_Motherboard              -1.3167      0.619     -2.126      0.033      -2.531      -0.103\n",
            "fam_Mount Fuji               -1.0289      0.143     -7.201      0.000      -1.309      -0.749\n",
            "fam_Mudder                   -0.3476      0.619     -0.561      0.575      -1.561       0.866\n",
            "fam_Muertos                  -0.9219      0.141     -6.536      0.000      -1.198      -0.645\n",
            "fam_Music Box                -0.7643      0.235     -3.259      0.001      -1.224      -0.305\n",
            "fam_Naga                     -0.9525      0.277     -3.435      0.001      -1.496      -0.409\n",
            "fam_Navy Sheen               -0.6273      0.438     -1.432      0.152      -1.486       0.231\n",
            "fam_Nebula Crusader          -0.2283      0.392     -0.583      0.560      -0.996       0.540\n",
            "fam_Necro Jr.                -0.7982      0.619     -1.289      0.197      -2.012       0.416\n",
            "fam_Necropos                 -0.9295      0.876     -1.061      0.288      -2.646       0.787\n",
            "fam_Needle Point              1.0737      0.143      7.515      0.000       0.794       1.354\n",
            "fam_Nemesis                  -0.7645      0.145     -5.281      0.000      -1.048      -0.481\n",
            "fam_Neo-Noir                  0.0865      0.037      2.306      0.021       0.013       0.160\n",
            "fam_Neon Kimono               2.2251      0.392      5.678      0.000       1.457       2.993\n",
            "fam_Neon Ply                 -0.7257      0.506     -1.435      0.151      -1.717       0.266\n",
            "fam_Neon Revolution          -0.0828      0.068     -1.225      0.221      -0.215       0.050\n",
            "fam_Neon Rider                0.0117      0.058      0.203      0.839      -0.101       0.124\n",
            "fam_Neural Net               -0.6166      0.438     -1.408      0.159      -1.475       0.242\n",
            "fam_Nevermore                -0.5492      0.506     -1.086      0.278      -1.540       0.442\n",
            "fam_Night                     1.5441      0.088     17.534      0.000       1.371       1.717\n",
            "fam_Night Heist              -0.3700      0.069     -5.399      0.000      -0.504      -0.236\n",
            "fam_Night Ops                -0.4223      0.506     -0.835      0.404      -1.414       0.569\n",
            "fam_Night Riot               -1.5901      0.876     -1.816      0.069      -3.306       0.126\n",
            "fam_Night Stripe              1.6959      0.111     15.225      0.000       1.478       1.914\n",
            "fam_Night Terror             -0.8040      0.108     -7.439      0.000      -1.016      -0.592\n",
            "fam_Nightmare                 0.1514      0.085      1.790      0.073      -0.014       0.317\n",
            "fam_Nightshade                0.8969      0.331      2.707      0.007       0.248       1.546\n",
            "fam_Nightwish                 1.3207      0.136      9.712      0.000       1.054       1.587\n",
            "fam_Nitro                    -0.3874      0.097     -4.003      0.000      -0.577      -0.198\n",
            "fam_Nocts                     2.7982      0.172     16.230      0.000       2.460       3.136\n",
            "fam_Nostalgia                -0.6830      0.201     -3.390      0.001      -1.078      -0.288\n",
            "fam_Nuclear Garden           -1.0010      0.147     -6.822      0.000      -1.289      -0.713\n",
            "fam_Nuclear Threat            0.2657      0.264      1.005      0.315      -0.253       0.784\n",
            "fam_Nuclear Waste            -0.1811      0.358     -0.506      0.613      -0.882       0.520\n",
            "fam_Obsidian                 -0.7844      0.331     -2.368      0.018      -1.434      -0.135\n",
            "fam_Ocean Drive              -0.0375      0.077     -0.484      0.628      -0.189       0.114\n",
            "fam_Ocean Foam                0.4394      0.207      2.123      0.034       0.034       0.845\n",
            "fam_Oceanic                  -0.7818      0.876     -0.893      0.372      -2.498       0.935\n",
            "fam_Off World                -0.1628      0.292     -0.557      0.577      -0.736       0.410\n",
            "fam_Ol' Rusty                -1.3761      0.619     -2.222      0.026      -2.590      -0.162\n",
            "fam_Old Roots                -1.1763      0.392     -3.002      0.003      -1.944      -0.408\n",
            "fam_Omega                     3.1731      0.156     20.400      0.000       2.868       3.478\n",
            "fam_Oni Taiji                 2.5276      0.131     19.231      0.000       2.270       2.785\n",
            "fam_Orange Anolis             0.2869      0.145      1.982      0.048       0.003       0.571\n",
            "fam_Orange DDPAT              0.0527      0.264      0.199      0.842      -0.466       0.571\n",
            "fam_Orange Filigree          -0.0238      0.438     -0.054      0.957      -0.882       0.835\n",
            "fam_Orange Kimono            -1.5881      0.876     -1.814      0.070      -3.304       0.128\n",
            "fam_Orange Peel              -0.6644      0.331     -2.006      0.045      -1.314      -0.015\n",
            "fam_Orbit Mk01               -0.5391      0.138     -3.917      0.000      -0.809      -0.269\n",
            "fam_Orion                     0.4581      0.082      5.558      0.000       0.297       0.620\n",
            "fam_Oscillator               -0.7530      0.358     -2.105      0.035      -1.454      -0.052\n",
            "fam_Osiris                    0.2866      0.876      0.327      0.743      -1.430       2.003\n",
            "fam_Ossified                 -0.8256      0.876     -0.943      0.346      -2.542       0.891\n",
            "fam_Outbreak                 -1.5664      0.876     -1.789      0.074      -3.283       0.150\n",
            "fam_Overgrowth                0.5404      0.179      3.012      0.003       0.189       0.892\n",
            "fam_Overprint                 2.4358      0.163     14.915      0.000       2.116       2.756\n",
            "fam_Overtake                  1.5743      0.101     15.591      0.000       1.376       1.772\n",
            "fam_Oxide Blaze              -1.0621      0.331     -3.206      0.001      -1.711      -0.413\n",
            "fam_Oxide Oasis               1.8830      0.243      7.739      0.000       1.406       2.360\n",
            "fam_PAW                      -0.8068      0.131     -6.138      0.000      -1.064      -0.549\n",
            "fam_POP AWP                  -1.3103      0.143     -9.171      0.000      -1.590      -1.030\n",
            "fam_POW!                      2.8747      0.253     11.353      0.000       2.378       3.371\n",
            "fam_Palm                     -0.9499      0.438     -2.169      0.030      -1.809      -0.091\n",
            "fam_Pandora's Box             2.2211      0.213     10.432      0.000       1.804       2.638\n",
            "fam_Panther                  -0.4083      0.392     -1.042      0.297      -1.176       0.360\n",
            "fam_Panther Camo             -1.0034      0.876     -1.146      0.252      -2.720       0.713\n",
            "fam_Panthera onca             2.3587      0.111     21.339      0.000       2.142       2.575\n",
            "fam_Para Green               -1.1061      0.292     -3.785      0.000      -1.679      -0.533\n",
            "fam_Parallax                 -1.3426      0.125    -10.759      0.000      -1.587      -1.098\n",
            "fam_Parched                  -0.6520      0.438     -1.488      0.137      -1.511       0.207\n",
            "fam_Pathfinder               -0.6819      0.158     -4.316      0.000      -0.992      -0.372\n",
            "fam_Phantom                  -0.6730      0.876     -0.769      0.442      -2.389       1.043\n",
            "fam_Phantom Disruptor        -0.9778      0.072    -13.578      0.000      -1.119      -0.837\n",
            "fam_Phobos                   -1.0839      0.183     -5.916      0.000      -1.443      -0.725\n",
            "fam_Phoenix Blacklight        0.9604      0.156      6.174      0.000       0.656       1.265\n",
            "fam_Phoenix Marker           -1.4206      0.506     -2.809      0.005      -2.412      -0.429\n",
            "fam_Phoenix Stencil          -0.7592      0.161     -4.728      0.000      -1.074      -0.444\n",
            "fam_Phosphor                 -0.8908      0.219     -4.060      0.000      -1.321      -0.461\n",
            "fam_Photic Zone              -0.4035      0.438     -0.921      0.357      -1.262       0.455\n",
            "fam_Pilot                     0.8907      0.331      2.688      0.007       0.241       1.540\n",
            "fam_Pink DDPAT                0.5249      0.099      5.297      0.000       0.331       0.719\n",
            "fam_Pipe Down                -0.6132      0.392     -1.565      0.118      -1.381       0.155\n",
            "fam_Pit Viper                -0.4806      0.331     -1.451      0.147      -1.130       0.169\n",
            "fam_Plague                   -0.9141      0.876     -1.044      0.297      -2.630       0.802\n",
            "fam_Plastique                -0.3646      0.619     -0.589      0.556      -1.578       0.849\n",
            "fam_Player Two                0.6105      0.070      8.683      0.000       0.473       0.748\n",
            "fam_Plume                    -0.6186      0.876     -0.706      0.480      -2.335       1.098\n",
            "fam_Point Disarray           -0.2506      0.078     -3.198      0.001      -0.404      -0.097\n",
            "fam_Poison Dart               0.4891      0.876      0.559      0.576      -1.227       2.205\n",
            "fam_Polar Camo                0.0193      0.876      0.022      0.982      -1.697       1.736\n",
            "fam_Polar Mesh               -1.0930      0.876     -1.248      0.212      -2.809       0.623\n",
            "fam_Pole Position            -0.0173      0.876     -0.020      0.984      -1.734       1.699\n",
            "fam_Polygon                   2.2887      0.172     13.275      0.000       1.951       2.627\n",
            "fam_Polymer                  -1.1994      0.876     -1.370      0.171      -2.916       0.517\n",
            "fam_Poseidon                  3.5999      0.219     16.406      0.000       3.170       4.030\n",
            "fam_Poultrygeist             -0.9461      0.619     -1.528      0.127      -2.160       0.268\n",
            "fam_Power Loader             -0.2342      0.392     -0.598      0.550      -1.002       0.534\n",
            "fam_Powercore                -1.0493      0.438     -2.395      0.017      -1.908      -0.191\n",
            "fam_Praetorian               -1.2413      0.506     -2.455      0.014      -2.233      -0.250\n",
            "fam_Predator                 -0.4662      0.243     -1.916      0.055      -0.943       0.011\n",
            "fam_Prey                     -0.7157      0.438     -1.634      0.102      -1.574       0.143\n",
            "fam_Primal Saber             -0.8753      0.196     -4.457      0.000      -1.260      -0.490\n",
            "fam_Prime Conspiracy          0.2987      0.172      1.733      0.083      -0.039       0.637\n",
            "fam_Printstream               1.2899      0.045     28.354      0.000       1.201       1.379\n",
            "fam_Prism Terrace             0.4302      0.264      1.627      0.104      -0.088       0.949\n",
            "fam_Propaganda               -0.8313      0.129     -6.462      0.000      -1.083      -0.579\n",
            "fam_Prototype                -1.4591      0.876     -1.666      0.096      -3.175       0.257\n",
            "fam_Pulse                    -0.5733      0.156     -3.685      0.000      -0.878      -0.268\n",
            "fam_Purple DDPAT             -0.8794      0.130     -6.763      0.000      -1.134      -0.625\n",
            "fam_Pyre                     -0.4664      0.292     -1.596      0.111      -1.039       0.106\n",
            "fam_Queen Jaguar              1.6055      0.179      8.950      0.000       1.254       1.957\n",
            "fam_Quick Sand               -1.1971      0.438     -2.733      0.006      -2.056      -0.339\n",
            "fam_Quicksilver              -1.2737      0.506     -2.519      0.012      -2.265      -0.282\n",
            "fam_Racing Green              0.9334      0.145      6.447      0.000       0.650       1.217\n",
            "fam_Radiation Hazard          0.9258      0.201      4.596      0.000       0.531       1.321\n",
            "fam_Random Access            -0.7850      0.331     -2.369      0.018      -1.434      -0.136\n",
            "fam_Rangeen                  -0.2220      0.619     -0.358      0.720      -1.436       0.992\n",
            "fam_Rapid Eye Movement       -0.6637      0.196     -3.380      0.001      -1.049      -0.279\n",
            "fam_Rat Rod                  -0.7172      0.096     -7.453      0.000      -0.906      -0.529\n",
            "fam_Rattler                   1.0132      0.172      5.877      0.000       0.675       1.351\n",
            "fam_Re-Entry                 -0.7982      0.392     -2.037      0.042      -1.566      -0.030\n",
            "fam_Reactor                  -0.0585      0.183     -0.319      0.750      -0.418       0.301\n",
            "fam_Reboot                   -1.1048      0.619     -1.784      0.074      -2.319       0.109\n",
            "fam_Red Astor                -1.3313      0.619     -2.150      0.032      -2.545      -0.117\n",
            "fam_Red DDPAT                 0.2810      0.192      1.466      0.143      -0.095       0.657\n",
            "fam_Red Filigree              1.2273      0.310      3.960      0.000       0.620       1.835\n",
            "fam_Red FragCam              -0.3908      0.277     -1.409      0.159      -0.934       0.153\n",
            "fam_Red Laminate              1.1181      0.122      9.135      0.000       0.878       1.358\n",
            "fam_Red Python               -0.9957      0.876     -1.137      0.256      -2.712       0.721\n",
            "fam_Red Quartz               -0.4662      0.331     -1.407      0.159      -1.116       0.183\n",
            "fam_Red Rock                 -1.2270      0.619     -1.981      0.048      -2.441      -0.013\n",
            "fam_Red Stone                -1.4094      0.876     -1.610      0.108      -3.126       0.307\n",
            "fam_Red Tire                 -1.1467      0.876     -1.310      0.190      -2.863       0.570\n",
            "fam_Redline                   0.2579      0.039      6.665      0.000       0.182       0.334\n",
            "fam_Remote Control           -0.9517      0.438     -2.173      0.030      -1.810      -0.093\n",
            "fam_Retribution              -1.2269      0.619     -1.981      0.048      -2.441      -0.013\n",
            "fam_Retrobution              -1.5462      0.438     -3.530      0.000      -2.405      -0.688\n",
            "fam_Rezan the Red             1.4971      0.136     11.010      0.000       1.231       1.764\n",
            "fam_Ricochet                 -1.2774      0.619     -2.063      0.039      -2.491      -0.064\n",
            "fam_Riot                     -1.4094      0.876     -1.610      0.108      -3.126       0.307\n",
            "fam_Ripple                   -0.4175      0.619     -0.674      0.500      -1.631       0.796\n",
            "fam_Rising Skull             -0.9130      0.358     -2.552      0.011      -1.614      -0.212\n",
            "fam_Road Rash                 0.3946      0.179      2.200      0.028       0.043       0.746\n",
            "fam_Rocket Pop               -0.7428      0.187     -3.966      0.000      -1.110      -0.376\n",
            "fam_Roll Cage                -0.6950      0.213     -3.264      0.001      -1.112      -0.278\n",
            "fam_Rose Iron                -0.7042      0.196     -3.586      0.000      -1.089      -0.319\n",
            "fam_Royal Blue               -0.2768      0.183     -1.511      0.131      -0.636       0.082\n",
            "fam_Royal Consorts           -1.0039      0.392     -2.562      0.010      -1.772      -0.236\n",
            "fam_Royal Legion             -0.1340      0.392     -0.342      0.732      -0.902       0.634\n",
            "fam_Royal Paladin             0.2973      0.151      1.969      0.049       0.001       0.593\n",
            "fam_Ruby Poison Dart         -0.9466      0.392     -2.416      0.016      -1.715      -0.178\n",
            "fam_Run and Hide              2.1739      0.264      8.221      0.000       1.656       2.692\n",
            "fam_Runic                    -1.3020      0.506     -2.575      0.010      -2.293      -0.311\n",
            "fam_Rust Coat                 1.3993      0.068     20.474      0.000       1.265       1.533\n",
            "fam_Rust Leaf                -1.1709      0.292     -4.007      0.000      -1.744      -0.598\n",
            "fam_SWAG-7                    2.7919      0.876      3.188      0.001       1.076       4.508\n",
            "fam_Sacrifice                -0.9667      0.253     -3.818      0.000      -1.463      -0.470\n",
            "fam_Safari Mesh               0.9395      0.086     10.869      0.000       0.770       1.109\n",
            "fam_Safety Net               -0.5034      0.243     -2.069      0.039      -0.980      -0.026\n",
            "fam_Sage Spray               -0.4218      0.331     -1.273      0.203      -1.071       0.228\n",
            "fam_Sand Dashed               0.5663      0.876      0.647      0.518      -1.150       2.283\n",
            "fam_Sand Dune                 0.7797      0.243      3.204      0.001       0.303       1.257\n",
            "fam_Sand Mesh                -0.9180      0.619     -1.482      0.138      -2.132       0.296\n",
            "fam_Sand Scale               -1.2415      0.619     -2.005      0.045      -2.455      -0.028\n",
            "fam_Sand Spray               -0.4981      0.506     -0.985      0.325      -1.489       0.493\n",
            "fam_Sand Storm                0.6916      0.163      4.235      0.000       0.371       1.012\n",
            "fam_Sandstorm                 0.3048      0.310      0.984      0.325      -0.303       0.912\n",
            "fam_Scaffold                 -0.9226      0.619     -1.490      0.136      -2.136       0.291\n",
            "fam_Scarlet Shamagh           2.6276      0.163     16.089      0.000       2.307       2.948\n",
            "fam_Schematic                -1.0259      0.392     -2.618      0.009      -1.794      -0.258\n",
            "fam_Scorched                  1.5595      0.098     15.926      0.000       1.368       1.751\n",
            "fam_Scorpion                  0.1053      0.619      0.170      0.865      -1.109       1.319\n",
            "fam_Scrawl                   -1.1805      0.506     -2.334      0.020      -2.172      -0.189\n",
            "fam_Scumbria                 -1.0853      0.506     -2.146      0.032      -2.077      -0.094\n",
            "fam_Sea Calico                1.9002      0.438      4.338      0.000       1.042       2.759\n",
            "fam_Seasons                  -0.6198      0.179     -3.455      0.001      -0.971      -0.268\n",
            "fam_See Ya Later             -0.9117      0.112     -8.121      0.000      -1.132      -0.692\n",
            "fam_Serenity                 -1.5021      0.876     -1.715      0.086      -3.218       0.214\n",
            "fam_Sergeant                 -0.0978      0.331     -0.295      0.768      -0.747       0.552\n",
            "fam_Serum                     0.8359      0.213      3.926      0.000       0.419       1.253\n",
            "fam_Setting Sun              -0.0859      0.392     -0.219      0.827      -0.854       0.682\n",
            "fam_Shallow Grave            -0.8423      0.310     -2.718      0.007      -1.450      -0.235\n",
            "fam_Shapewood                -0.9935      0.876     -1.135      0.257      -2.710       0.723\n",
            "fam_Shattered                 0.6555      0.438      1.496      0.135      -0.203       1.514\n",
            "fam_Shipping Forecast        -0.9583      0.392     -2.446      0.014      -1.726      -0.190\n",
            "fam_Shred                    -0.9482      0.876     -1.083      0.279      -2.665       0.768\n",
            "fam_Sienna Damask            -0.7155      0.876     -0.817      0.414      -2.432       1.001\n",
            "fam_Signal                   -0.6304      0.438     -1.439      0.150      -1.489       0.228\n",
            "fam_Silk Tiger                2.3040      0.151     15.264      0.000       2.008       2.600\n",
            "fam_Silver                   -0.7494      0.166     -4.509      0.000      -1.075      -0.424\n",
            "fam_Skulls                   -0.4266      0.310     -1.376      0.169      -1.034       0.181\n",
            "fam_Slashed                   1.8110      0.876      2.068      0.039       0.095       3.527\n",
            "fam_Slate                    -0.6853      0.048    -14.149      0.000      -0.780      -0.590\n",
            "fam_Slaughter                 2.5223      0.057     44.590      0.000       2.411       2.633\n",
            "fam_Slide                    -0.7595      0.619     -1.226      0.220      -1.973       0.454\n",
            "fam_Slingshot                 3.3323      0.176     18.956      0.000       2.988       3.677\n",
            "fam_Smoke Out                 2.5852      0.207     12.492      0.000       2.180       2.991\n",
            "fam_Snack Attack             -0.6886      0.183     -3.758      0.000      -1.048      -0.329\n",
            "fam_Snake Camo                1.2095      0.619      1.953      0.051      -0.004       2.423\n",
            "fam_Snakebite                 1.3722      0.201      6.811      0.000       0.977       1.767\n",
            "fam_Snow Leopard              3.3348      0.264     12.611      0.000       2.817       3.853\n",
            "fam_Sonar                    -1.3734      0.506     -2.716      0.007      -2.365      -0.382\n",
            "fam_Space Cat                -1.0828      0.392     -2.763      0.006      -1.851      -0.315\n",
            "fam_Spalted Wood             -0.6774      0.392     -1.729      0.084      -1.445       0.091\n",
            "fam_Spearmint                 3.6631      0.358     10.239      0.000       2.962       4.364\n",
            "fam_Special Delivery         -1.1480      0.876     -1.311      0.190      -2.864       0.568\n",
            "fam_Spectre                  -1.5547      0.876     -1.775      0.076      -3.271       0.162\n",
            "fam_Spider Lily              -0.8217      0.176     -4.674      0.000      -1.166      -0.477\n",
            "fam_Spitfire                 -0.2937      0.438     -0.671      0.503      -1.152       0.565\n",
            "fam_Splash                    0.9508      0.235      4.054      0.000       0.491       1.410\n",
            "fam_Splash Jam                1.7774      0.619      2.870      0.004       0.564       2.991\n",
            "fam_Spring Twilly            -0.7146      0.876     -0.816      0.414      -2.431       1.002\n",
            "fam_Spruce DDPAT              2.9719      0.619      4.799      0.000       1.758       4.186\n",
            "fam_Sputnik                  -0.8917      0.264     -3.372      0.001      -1.410      -0.373\n",
            "fam_Stained                   1.9012      0.080     23.632      0.000       1.744       2.059\n",
            "fam_Stained Glass             1.2994      0.207      6.279      0.000       0.894       1.705\n",
            "fam_Stainless                -0.3038      0.161     -1.892      0.059      -0.619       0.011\n",
            "fam_Stalker                  -0.3512      0.149     -2.360      0.018      -0.643      -0.060\n",
            "fam_Starlight Protector       0.5302      0.187      2.830      0.005       0.163       0.897\n",
            "fam_Steel Disruption         -0.2929      0.201     -1.454      0.146      -0.688       0.102\n",
            "fam_Stinger                  -0.7407      0.438     -1.691      0.091      -1.599       0.118\n",
            "fam_Stone Cold               -1.2048      0.264     -4.556      0.000      -1.723      -0.687\n",
            "fam_Storm                    -0.6800      0.277     -2.452      0.014      -1.224      -0.136\n",
            "fam_Strats                   -1.5901      0.876     -1.816      0.069      -3.306       0.126\n",
            "fam_Stymphalian              -0.6715      0.187     -3.585      0.000      -1.039      -0.304\n",
            "fam_Styx                     -0.6119      0.310     -1.974      0.048      -1.219      -0.004\n",
            "fam_Sugar Rush                0.7823      0.331      2.361      0.018       0.133       1.432\n",
            "fam_Sun in Leo               -0.5186      0.117     -4.433      0.000      -0.748      -0.289\n",
            "fam_Sundown                   0.2461      0.292      0.842      0.400      -0.327       0.819\n",
            "fam_Sunset Lily              -1.1603      0.253     -4.582      0.000      -1.657      -0.664\n",
            "fam_Sunset Storm 壱            1.9195      0.310      6.193      0.000       1.312       2.527\n",
            "fam_Sunset Storm 弐            2.0762      0.235      8.854      0.000       1.617       2.536\n",
            "fam_Superconductor            3.8207      0.264     14.448      0.000       3.302       4.339\n",
            "fam_Supernova                -0.2262      0.331     -0.683      0.495      -0.875       0.423\n",
            "fam_Surveillance             -0.7246      0.619     -1.170      0.242      -1.938       0.489\n",
            "fam_Sweeper                   0.5836      0.235      2.489      0.013       0.124       1.043\n",
            "fam_Switch Board             -1.0506      0.619     -1.696      0.090      -2.264       0.163\n",
            "fam_Syd Mead                 -0.9711      0.310     -3.133      0.002      -1.579      -0.364\n",
            "fam_Syndicate                -0.7321      0.310     -2.362      0.018      -1.340      -0.125\n",
            "fam_Synth Leaf                1.8619      0.213      8.745      0.000       1.445       2.279\n",
            "fam_Tacticat                  0.0667      0.619      0.108      0.914      -1.147       1.281\n",
            "fam_Tall Grass               -0.8243      0.331     -2.488      0.013      -1.474      -0.175\n",
            "fam_Target Acquired           1.7868      0.127     14.034      0.000       1.537       2.036\n",
            "fam_Tatter                   -1.0134      0.619     -1.636      0.102      -2.227       0.200\n",
            "fam_Teal Blossom              0.5055      0.310      1.631      0.103      -0.102       1.113\n",
            "fam_Teclu Burner             -0.5992      0.619     -0.968      0.333      -1.813       0.615\n",
            "fam_Terrace                   1.0074      0.506      1.992      0.046       0.016       1.999\n",
            "fam_Terrain                  -0.8200      0.876     -0.936      0.349      -2.536       0.896\n",
            "fam_The Battlestar           -0.3533      0.187     -1.886      0.059      -0.720       0.014\n",
            "fam_The Coalition            -0.1035      0.153     -0.676      0.499      -0.404       0.197\n",
            "fam_The Emperor               0.3327      0.089      3.724      0.000       0.158       0.508\n",
            "fam_The Empress               0.4365      0.060      7.229      0.000       0.318       0.555\n",
            "fam_The Executioner           1.2657      0.619      2.044      0.041       0.052       2.480\n",
            "fam_The Fuschia Is Now        0.2464      0.196      1.255      0.210      -0.139       0.631\n",
            "fam_The Kraken               -1.3430      0.438     -3.066      0.002      -2.202      -0.484\n",
            "fam_The Prince                4.7230      0.331     14.257      0.000       4.074       5.372\n",
            "fam_The Traitor               0.3784      0.076      4.971      0.000       0.229       0.528\n",
            "fam_Threat Detected          -0.4356      0.213     -2.046      0.041      -0.853      -0.018\n",
            "fam_Ticket to Hell           -1.0320      0.134     -7.678      0.000      -1.295      -0.769\n",
            "fam_Tiger Moth               -0.4042      0.358     -1.130      0.259      -1.105       0.297\n",
            "fam_Tiger Pit                -0.6793      0.169     -4.014      0.000      -1.011      -0.348\n",
            "fam_Tiger Strike              3.3501      0.310     10.809      0.000       2.743       3.958\n",
            "fam_Tiger Tooth               2.3902      0.056     42.329      0.000       2.280       2.501\n",
            "fam_Tigris                   -0.5732      0.292     -1.961      0.050      -1.146      -0.000\n",
            "fam_Titanium Bit             -0.6932      0.253     -2.738      0.006      -1.190      -0.197\n",
            "fam_Tom Cat                  -1.2268      0.876     -1.401      0.161      -2.943       0.490\n",
            "fam_Tooth Fairy              -1.0147      0.129     -7.887      0.000      -1.267      -0.763\n",
            "fam_Torn                     -0.5821      0.876     -0.665      0.506      -2.298       1.134\n",
            "fam_Tornado                  -0.5883      0.292     -2.013      0.044      -1.161      -0.015\n",
            "fam_Torque                   -0.9946      0.176     -5.658      0.000      -1.339      -0.650\n",
            "fam_Toxic                    -0.0993      0.358     -0.278      0.781      -0.801       0.602\n",
            "fam_Toy Soldier              -1.3094      0.876     -1.495      0.135      -3.026       0.407\n",
            "fam_Toybox                   -0.7959      0.196     -4.053      0.000      -1.181      -0.411\n",
            "fam_Tranquility              -0.5089      0.506     -1.006      0.314      -1.500       0.482\n",
            "fam_Transport                 1.3810      0.207      6.673      0.000       0.975       1.787\n",
            "fam_Traveler                 -0.2954      0.876     -0.337      0.736      -2.012       1.421\n",
            "fam_Tread                    -1.3955      0.506     -2.759      0.006      -2.387      -0.404\n",
            "fam_Tread Plate              -0.6067      0.331     -1.831      0.067      -1.256       0.043\n",
            "fam_Triarch                  -1.2071      0.438     -2.756      0.006      -2.066      -0.348\n",
            "fam_Trigger Discipline       -1.0716      0.108     -9.915      0.000      -1.283      -0.860\n",
            "fam_Trigon                   -0.8910      0.158     -5.639      0.000      -1.201      -0.581\n",
            "fam_Triumvirate              -1.0964      0.438     -2.503      0.012      -1.955      -0.238\n",
            "fam_Tropical Storm           -1.1272      0.619     -1.820      0.069      -2.341       0.087\n",
            "fam_Turbo Peek               -0.8424      0.115     -7.323      0.000      -1.068      -0.617\n",
            "fam_Turf                     -0.6159      0.438     -1.406      0.160      -1.475       0.243\n",
            "fam_Turtle                    2.3029      0.201     11.431      0.000       1.908       2.698\n",
            "fam_Tuxedo                   -1.0157      0.876     -1.160      0.246      -2.732       0.701\n",
            "fam_Twilight Galaxy           0.7481      0.179      4.170      0.000       0.396       1.100\n",
            "fam_Twin Turbo               -1.1769      0.310     -3.797      0.000      -1.784      -0.569\n",
            "fam_Twist                    -1.4111      0.876     -1.611      0.107      -3.127       0.305\n",
            "fam_Ultralight               -1.3127      0.438     -2.997      0.003      -2.171      -0.454\n",
            "fam_Ultraviolet               1.5987      0.071     22.538      0.000       1.460       1.738\n",
            "fam_Uncharted                -0.6215      0.196     -3.165      0.002      -1.006      -0.237\n",
            "fam_Undertow                  0.8808      0.176      5.011      0.000       0.536       1.225\n",
            "fam_Unhinged                  1.3005      0.141      9.220      0.000       1.024       1.577\n",
            "fam_Urban DDPAT              -0.8268      0.227     -3.649      0.000      -1.271      -0.383\n",
            "fam_Urban Dashed             -0.5941      0.619     -0.959      0.337      -1.808       0.620\n",
            "fam_Urban Hazard             -0.5152      0.292     -1.763      0.078      -1.088       0.058\n",
            "fam_Urban Masked              1.7024      0.092     18.484      0.000       1.522       1.883\n",
            "fam_Urban Rubble             -0.2132      0.506     -0.422      0.673      -1.204       0.778\n",
            "fam_Urban Shock              -0.2772      0.438     -0.633      0.527      -1.136       0.581\n",
            "fam_Valence                  -0.8499      0.227     -3.751      0.000      -1.294      -0.406\n",
            "fam_Vandal                   -1.0525      0.619     -1.700      0.089      -2.266       0.161\n",
            "fam_VariCamo                 -0.2225      0.292     -0.761      0.446      -0.795       0.350\n",
            "fam_VariCamo Blue            -0.3092      0.876     -0.353      0.724      -2.026       1.407\n",
            "fam_Vendetta                 -0.7528      0.876     -0.860      0.390      -2.469       0.964\n",
            "fam_Ventilator               -1.2064      0.619     -1.948      0.051      -2.420       0.007\n",
            "fam_Ventilators              -0.2974      0.619     -0.480      0.631      -1.511       0.916\n",
            "fam_Verdant Growth           -1.1562      0.619     -1.867      0.062      -2.370       0.058\n",
            "fam_Verdigris                -0.3866      0.619     -0.624      0.532      -1.600       0.827\n",
            "fam_Vice                      3.9156      0.196     19.938      0.000       3.531       4.300\n",
            "fam_Victoria                  0.3893      0.264      1.472      0.141      -0.129       0.908\n",
            "fam_Vino Primo               -0.6341      0.292     -2.170      0.030      -1.207      -0.061\n",
            "fam_Violent Daimyo           -0.7200      0.506     -1.424      0.155      -1.711       0.271\n",
            "fam_Violet Murano            -0.1120      0.331     -0.338      0.735      -0.761       0.537\n",
            "fam_Virus                    -0.5893      0.392     -1.504      0.133      -1.357       0.179\n",
            "fam_Vogue                    -0.8742      0.092     -9.492      0.000      -1.055      -0.694\n",
            "fam_Vulcan                    2.1460      0.086     24.939      0.000       1.977       2.315\n",
            "fam_Walnut                   -0.6382      0.358     -1.784      0.074      -1.339       0.063\n",
            "fam_Warbird                  -0.5254      0.876     -0.600      0.549      -2.242       1.191\n",
            "fam_Warhawk                  -1.4452      0.506     -2.858      0.004      -2.436      -0.454\n",
            "fam_Wasteland Princess       -0.7145      0.392     -1.823      0.068      -1.483       0.054\n",
            "fam_Wasteland Rebel          -0.0154      0.117     -0.132      0.895      -0.245       0.214\n",
            "fam_Watchdog                 -1.1394      0.392     -2.908      0.004      -1.907      -0.371\n",
            "fam_Water Elemental          -1.0557      0.060    -17.661      0.000      -1.173      -0.939\n",
            "fam_Water Sigil              -1.2330      0.619     -1.991      0.046      -2.447      -0.019\n",
            "fam_Wave Spray                0.6097      0.506      1.206      0.228      -0.382       1.601\n",
            "fam_Waves Perforated         -0.3215      0.876     -0.367      0.714      -2.038       1.395\n",
            "fam_Weasel                   -0.5359      0.310     -1.729      0.084      -1.143       0.072\n",
            "fam_Welcome to the Jungle     3.9093      0.196     19.906      0.000       3.524       4.294\n",
            "fam_Whitefish                -0.9482      0.876     -1.083      0.279      -2.665       0.768\n",
            "fam_Whiteout                 -0.1790      0.076     -2.351      0.019      -0.328      -0.030\n",
            "fam_Wild Lily                 3.5688      0.277     12.870      0.000       3.025       4.112\n",
            "fam_Wild Lotus                5.3807      0.506     10.640      0.000       4.389       6.372\n",
            "fam_Wild Six                 -1.2551      0.619     -2.027      0.043      -2.469      -0.041\n",
            "fam_Wildfire                  1.0852      0.065     16.763      0.000       0.958       1.212\n",
            "fam_Wings                    -0.1121      0.310     -0.362      0.717      -0.720       0.495\n",
            "fam_Wingshot                 -1.1613      0.243     -4.772      0.000      -1.638      -0.684\n",
            "fam_Withered Vine            -0.4915      0.876     -0.561      0.575      -2.208       1.225\n",
            "fam_Wood Fired               -1.2255      0.876     -1.399      0.162      -2.942       0.491\n",
            "fam_Woodsman                 -1.3040      0.358     -3.645      0.000      -2.005      -0.603\n",
            "fam_Worm God                 -0.9439      0.183     -5.152      0.000      -1.303      -0.585\n",
            "fam_Wraiths                  -0.9295      0.277     -3.352      0.001      -1.473      -0.386\n",
            "fam_X-Ray                     1.6538      0.143     11.576      0.000       1.374       1.934\n",
            "fam_XOXO                     -0.3092      0.183     -1.687      0.092      -0.668       0.050\n",
            "fam_Xiangliu                 -1.0321      0.153     -6.737      0.000      -1.332      -0.732\n",
            "fam_Yellow Jacket            -0.8411      0.227     -3.712      0.000      -1.285      -0.397\n",
            "fam_Yellow-banded             1.6969      0.179      9.459      0.000       1.345       2.049\n",
            "fam_ZX Spectron              -1.0872      0.187     -5.804      0.000      -1.454      -0.720\n",
            "fam_Ziggy                    -1.1682      0.506     -2.310      0.021      -2.159      -0.177\n",
            "fam_Zirka                     1.0121      0.227      4.466      0.000       0.568       1.456\n",
            "fam_Zombie Offensive          0.1881      0.619      0.304      0.761      -1.026       1.402\n",
            "fam_龍王 (Dragon King)         -0.3030      0.138     -2.202      0.028      -0.573      -0.033\n",
            "==============================================================================\n",
            "Omnibus:                     2961.174   Durbin-Watson:                   1.103\n",
            "Prob(Omnibus):                  0.000   Jarque-Bera (JB):             7678.009\n",
            "Skew:                           0.620   Prob(JB):                         0.00\n",
            "Kurtosis:                       5.275   Cond. No.                     1.25e+16\n",
            "==============================================================================\n",
            "\n",
            "Warnings:\n",
            "[1] Standard Errors assume that the covariance matrix of the errors is correctly specified.\n",
            "[2] The smallest eigenvalue is 1.79e-28. This might indicate that there are\n",
            "strong multicollinearity problems or that the design matrix is singular.\n"
          ]
        }
      ]
    },
    {
      "cell_type": "code",
      "source": [
        "p_family = pd.DataFrame({'family_characters':results.pvalues.index, 'p-value':results.pvalues.values})"
      ],
      "metadata": {
        "id": "DVfLs853nPJ-"
      },
      "execution_count": 231,
      "outputs": []
    },
    {
      "cell_type": "code",
      "source": [
        "p_family_sig = p_family[~(p_family['p-value'] > 0.05)]"
      ],
      "metadata": {
        "id": "nQkrFDf_aGhe"
      },
      "execution_count": 242,
      "outputs": []
    },
    {
      "cell_type": "code",
      "source": [
        "p_family_sig = p_family_sig.reset_index()"
      ],
      "metadata": {
        "id": "o76AkusUaspa"
      },
      "execution_count": 247,
      "outputs": []
    },
    {
      "cell_type": "code",
      "source": [
        "p_family_sig"
      ],
      "metadata": {
        "colab": {
          "base_uri": "https://localhost:8080/",
          "height": 424
        },
        "id": "6DqpoTu-eNve",
        "outputId": "c1a8bee2-73ea-4bb0-afd3-1ca15e3bcfe7"
      },
      "execution_count": 248,
      "outputs": [
        {
          "output_type": "execute_result",
          "data": {
            "text/plain": [
              "     index         family_characters       p-value\n",
              "0        0                     const  0.000000e+00\n",
              "1        1  fam_3rd Commando Company  8.067527e-16\n",
              "2        2                 fam_Abyss  1.423783e-04\n",
              "3        3    fam_Abyssal Apparition  8.483180e-04\n",
              "4        4               fam_Acheron  6.510742e-05\n",
              "..     ...                       ...           ...\n",
              "500    813         fam_Yellow-banded  3.345097e-21\n",
              "501    814           fam_ZX Spectron  6.540603e-09\n",
              "502    815                 fam_Ziggy  2.089990e-02\n",
              "503    816                 fam_Zirka  7.986285e-06\n",
              "504    818      fam_龍王 (Dragon King)  2.768425e-02\n",
              "\n",
              "[505 rows x 3 columns]"
            ],
            "text/html": [
              "\n",
              "  <div id=\"df-5c3c0a82-d939-41ca-95ea-f672cf04ae4a\">\n",
              "    <div class=\"colab-df-container\">\n",
              "      <div>\n",
              "<style scoped>\n",
              "    .dataframe tbody tr th:only-of-type {\n",
              "        vertical-align: middle;\n",
              "    }\n",
              "\n",
              "    .dataframe tbody tr th {\n",
              "        vertical-align: top;\n",
              "    }\n",
              "\n",
              "    .dataframe thead th {\n",
              "        text-align: right;\n",
              "    }\n",
              "</style>\n",
              "<table border=\"1\" class=\"dataframe\">\n",
              "  <thead>\n",
              "    <tr style=\"text-align: right;\">\n",
              "      <th></th>\n",
              "      <th>index</th>\n",
              "      <th>family_characters</th>\n",
              "      <th>p-value</th>\n",
              "    </tr>\n",
              "  </thead>\n",
              "  <tbody>\n",
              "    <tr>\n",
              "      <th>0</th>\n",
              "      <td>0</td>\n",
              "      <td>const</td>\n",
              "      <td>0.000000e+00</td>\n",
              "    </tr>\n",
              "    <tr>\n",
              "      <th>1</th>\n",
              "      <td>1</td>\n",
              "      <td>fam_3rd Commando Company</td>\n",
              "      <td>8.067527e-16</td>\n",
              "    </tr>\n",
              "    <tr>\n",
              "      <th>2</th>\n",
              "      <td>2</td>\n",
              "      <td>fam_Abyss</td>\n",
              "      <td>1.423783e-04</td>\n",
              "    </tr>\n",
              "    <tr>\n",
              "      <th>3</th>\n",
              "      <td>3</td>\n",
              "      <td>fam_Abyssal Apparition</td>\n",
              "      <td>8.483180e-04</td>\n",
              "    </tr>\n",
              "    <tr>\n",
              "      <th>4</th>\n",
              "      <td>4</td>\n",
              "      <td>fam_Acheron</td>\n",
              "      <td>6.510742e-05</td>\n",
              "    </tr>\n",
              "    <tr>\n",
              "      <th>...</th>\n",
              "      <td>...</td>\n",
              "      <td>...</td>\n",
              "      <td>...</td>\n",
              "    </tr>\n",
              "    <tr>\n",
              "      <th>500</th>\n",
              "      <td>813</td>\n",
              "      <td>fam_Yellow-banded</td>\n",
              "      <td>3.345097e-21</td>\n",
              "    </tr>\n",
              "    <tr>\n",
              "      <th>501</th>\n",
              "      <td>814</td>\n",
              "      <td>fam_ZX Spectron</td>\n",
              "      <td>6.540603e-09</td>\n",
              "    </tr>\n",
              "    <tr>\n",
              "      <th>502</th>\n",
              "      <td>815</td>\n",
              "      <td>fam_Ziggy</td>\n",
              "      <td>2.089990e-02</td>\n",
              "    </tr>\n",
              "    <tr>\n",
              "      <th>503</th>\n",
              "      <td>816</td>\n",
              "      <td>fam_Zirka</td>\n",
              "      <td>7.986285e-06</td>\n",
              "    </tr>\n",
              "    <tr>\n",
              "      <th>504</th>\n",
              "      <td>818</td>\n",
              "      <td>fam_龍王 (Dragon King)</td>\n",
              "      <td>2.768425e-02</td>\n",
              "    </tr>\n",
              "  </tbody>\n",
              "</table>\n",
              "<p>505 rows × 3 columns</p>\n",
              "</div>\n",
              "      <button class=\"colab-df-convert\" onclick=\"convertToInteractive('df-5c3c0a82-d939-41ca-95ea-f672cf04ae4a')\"\n",
              "              title=\"Convert this dataframe to an interactive table.\"\n",
              "              style=\"display:none;\">\n",
              "        \n",
              "  <svg xmlns=\"http://www.w3.org/2000/svg\" height=\"24px\"viewBox=\"0 0 24 24\"\n",
              "       width=\"24px\">\n",
              "    <path d=\"M0 0h24v24H0V0z\" fill=\"none\"/>\n",
              "    <path d=\"M18.56 5.44l.94 2.06.94-2.06 2.06-.94-2.06-.94-.94-2.06-.94 2.06-2.06.94zm-11 1L8.5 8.5l.94-2.06 2.06-.94-2.06-.94L8.5 2.5l-.94 2.06-2.06.94zm10 10l.94 2.06.94-2.06 2.06-.94-2.06-.94-.94-2.06-.94 2.06-2.06.94z\"/><path d=\"M17.41 7.96l-1.37-1.37c-.4-.4-.92-.59-1.43-.59-.52 0-1.04.2-1.43.59L10.3 9.45l-7.72 7.72c-.78.78-.78 2.05 0 2.83L4 21.41c.39.39.9.59 1.41.59.51 0 1.02-.2 1.41-.59l7.78-7.78 2.81-2.81c.8-.78.8-2.07 0-2.86zM5.41 20L4 18.59l7.72-7.72 1.47 1.35L5.41 20z\"/>\n",
              "  </svg>\n",
              "      </button>\n",
              "      \n",
              "  <style>\n",
              "    .colab-df-container {\n",
              "      display:flex;\n",
              "      flex-wrap:wrap;\n",
              "      gap: 12px;\n",
              "    }\n",
              "\n",
              "    .colab-df-convert {\n",
              "      background-color: #E8F0FE;\n",
              "      border: none;\n",
              "      border-radius: 50%;\n",
              "      cursor: pointer;\n",
              "      display: none;\n",
              "      fill: #1967D2;\n",
              "      height: 32px;\n",
              "      padding: 0 0 0 0;\n",
              "      width: 32px;\n",
              "    }\n",
              "\n",
              "    .colab-df-convert:hover {\n",
              "      background-color: #E2EBFA;\n",
              "      box-shadow: 0px 1px 2px rgba(60, 64, 67, 0.3), 0px 1px 3px 1px rgba(60, 64, 67, 0.15);\n",
              "      fill: #174EA6;\n",
              "    }\n",
              "\n",
              "    [theme=dark] .colab-df-convert {\n",
              "      background-color: #3B4455;\n",
              "      fill: #D2E3FC;\n",
              "    }\n",
              "\n",
              "    [theme=dark] .colab-df-convert:hover {\n",
              "      background-color: #434B5C;\n",
              "      box-shadow: 0px 1px 3px 1px rgba(0, 0, 0, 0.15);\n",
              "      filter: drop-shadow(0px 1px 2px rgba(0, 0, 0, 0.3));\n",
              "      fill: #FFFFFF;\n",
              "    }\n",
              "  </style>\n",
              "\n",
              "      <script>\n",
              "        const buttonEl =\n",
              "          document.querySelector('#df-5c3c0a82-d939-41ca-95ea-f672cf04ae4a button.colab-df-convert');\n",
              "        buttonEl.style.display =\n",
              "          google.colab.kernel.accessAllowed ? 'block' : 'none';\n",
              "\n",
              "        async function convertToInteractive(key) {\n",
              "          const element = document.querySelector('#df-5c3c0a82-d939-41ca-95ea-f672cf04ae4a');\n",
              "          const dataTable =\n",
              "            await google.colab.kernel.invokeFunction('convertToInteractive',\n",
              "                                                     [key], {});\n",
              "          if (!dataTable) return;\n",
              "\n",
              "          const docLinkHtml = 'Like what you see? Visit the ' +\n",
              "            '<a target=\"_blank\" href=https://colab.research.google.com/notebooks/data_table.ipynb>data table notebook</a>'\n",
              "            + ' to learn more about interactive tables.';\n",
              "          element.innerHTML = '';\n",
              "          dataTable['output_type'] = 'display_data';\n",
              "          await google.colab.output.renderOutput(dataTable, element);\n",
              "          const docLink = document.createElement('div');\n",
              "          docLink.innerHTML = docLinkHtml;\n",
              "          element.appendChild(docLink);\n",
              "        }\n",
              "      </script>\n",
              "    </div>\n",
              "  </div>\n",
              "  "
            ]
          },
          "metadata": {},
          "execution_count": 248
        }
      ]
    },
    {
      "cell_type": "markdown",
      "source": [
        "**version**"
      ],
      "metadata": {
        "id": "iHj3M9vzeR4u"
      }
    },
    {
      "cell_type": "code",
      "source": [
        "data2 = pd.get_dummies(data.version, prefix='vers')"
      ],
      "metadata": {
        "id": "vH4--GQpbZS6"
      },
      "execution_count": 249,
      "outputs": []
    },
    {
      "cell_type": "code",
      "source": [
        "cols = data2.columns"
      ],
      "metadata": {
        "id": "DMjSJc1_exnR"
      },
      "execution_count": 251,
      "outputs": []
    },
    {
      "cell_type": "code",
      "source": [
        "data2 = pd.concat([data, data2], axis=1)"
      ],
      "metadata": {
        "id": "xvo9gcYtex3y"
      },
      "execution_count": 253,
      "outputs": []
    },
    {
      "cell_type": "code",
      "source": [
        "y = data['salePricelog']\n",
        "X = data2[cols]"
      ],
      "metadata": {
        "id": "g_ObbbIKeyAe"
      },
      "execution_count": 255,
      "outputs": []
    },
    {
      "cell_type": "code",
      "source": [
        "model_lr = LinearRegression()"
      ],
      "metadata": {
        "id": "odYfJ2r3fEDJ"
      },
      "execution_count": 256,
      "outputs": []
    },
    {
      "cell_type": "code",
      "source": [
        "X = sm.add_constant(X)"
      ],
      "metadata": {
        "colab": {
          "base_uri": "https://localhost:8080/"
        },
        "id": "QjiCxvtlfER8",
        "outputId": "b8340169-d2bf-449a-f5fb-56f41ffe9ea5"
      },
      "execution_count": 257,
      "outputs": [
        {
          "output_type": "stream",
          "name": "stderr",
          "text": [
            "/usr/local/lib/python3.7/dist-packages/statsmodels/tsa/tsatools.py:117: FutureWarning: In a future version of pandas all arguments of concat except for the argument 'objs' will be keyword-only\n",
            "  x = pd.concat(x[::order], 1)\n"
          ]
        }
      ]
    },
    {
      "cell_type": "code",
      "source": [
        "model = sm.OLS(y,X)\n",
        "results = model.fit()"
      ],
      "metadata": {
        "id": "k7_8zSw8fEiC"
      },
      "execution_count": 258,
      "outputs": []
    },
    {
      "cell_type": "code",
      "source": [
        "print(results.summary())"
      ],
      "metadata": {
        "colab": {
          "base_uri": "https://localhost:8080/"
        },
        "id": "fQAvr2KifEwm",
        "outputId": "0ae22742-8685-45f6-9278-e79ab3a9e4b6"
      },
      "execution_count": 259,
      "outputs": [
        {
          "output_type": "stream",
          "name": "stdout",
          "text": [
            "                            OLS Regression Results                            \n",
            "==============================================================================\n",
            "Dep. Variable:           salePricelog   R-squared:                       0.064\n",
            "Model:                            OLS   Adj. R-squared:                  0.064\n",
            "Method:                 Least Squares   F-statistic:                     99.26\n",
            "Date:                Thu, 05 May 2022   Prob (F-statistic):               0.00\n",
            "Time:                        13:50:48   Log-Likelihood:                -49031.\n",
            "No. Observations:               27460   AIC:                         9.810e+04\n",
            "Df Residuals:                   27440   BIC:                         9.827e+04\n",
            "Df Model:                          19                                         \n",
            "Covariance Type:            nonrobust                                         \n",
            "====================================================================================\n",
            "                       coef    std err          t      P>|t|      [0.025      0.975]\n",
            "------------------------------------------------------------------------------------\n",
            "const                5.3076      0.161     33.048      0.000       4.993       5.622\n",
            "vers_2nd Max         0.9793      0.984      0.995      0.320      -0.949       2.908\n",
            "vers_3rd Max        -0.2641      0.984     -0.268      0.788      -2.193       1.665\n",
            "vers_4th Max        -0.2349      0.583     -0.403      0.687      -1.378       0.908\n",
            "vers_5th Max        -0.2083      0.984     -0.212      0.832      -2.137       1.720\n",
            "vers_6th Max        -0.3308      1.382     -0.239      0.811      -3.040       2.378\n",
            "vers_7th Max        -0.3803      1.382     -0.275      0.783      -3.090       2.329\n",
            "vers_Black Pearl     1.3155      0.285      4.616      0.000       0.757       1.874\n",
            "vers_Emerald         0.1519      0.192      0.790      0.430      -0.225       0.529\n",
            "vers_FFI             1.5403      0.543      2.836      0.005       0.476       2.605\n",
            "vers_Max Fake        2.3371      1.382      1.691      0.091      -0.372       5.046\n",
            "vers_Phase 1        -0.7662      0.174     -4.405      0.000      -1.107      -0.425\n",
            "vers_Phase 2        -0.8086      0.169     -4.783      0.000      -1.140      -0.477\n",
            "vers_Phase 3        -0.7392      0.175     -4.229      0.000      -1.082      -0.397\n",
            "vers_Phase 4        -0.6610      0.172     -3.834      0.000      -0.999      -0.323\n",
            "vers_Rank 4          1.2687      0.984      1.289      0.197      -0.660       3.197\n",
            "vers_Ruby            1.8571      0.239      7.764      0.000       1.388       2.326\n",
            "vers_Sapphire        1.8087      0.234      7.727      0.000       1.350       2.267\n",
            "vers_Tier 1          0.7017      0.379      1.852      0.064      -0.041       1.444\n",
            "vers_Tier 2         -0.6233      0.220     -2.830      0.005      -1.055      -0.192\n",
            "vers_default        -1.6361      0.161    -10.172      0.000      -1.951      -1.321\n",
            "==============================================================================\n",
            "Omnibus:                     1641.166   Durbin-Watson:                   0.397\n",
            "Prob(Omnibus):                  0.000   Jarque-Bera (JB):             1481.003\n",
            "Skew:                           0.505   Prob(JB):                         0.00\n",
            "Kurtosis:                       2.476   Cond. No.                     1.72e+15\n",
            "==============================================================================\n",
            "\n",
            "Warnings:\n",
            "[1] Standard Errors assume that the covariance matrix of the errors is correctly specified.\n",
            "[2] The smallest eigenvalue is 1.74e-26. This might indicate that there are\n",
            "strong multicollinearity problems or that the design matrix is singular.\n"
          ]
        }
      ]
    },
    {
      "cell_type": "code",
      "source": [
        "p_version = pd.DataFrame({'version_characters':results.pvalues.index, 'p-value':results.pvalues.values})"
      ],
      "metadata": {
        "id": "yC1JTCl-fE72"
      },
      "execution_count": 260,
      "outputs": []
    },
    {
      "cell_type": "code",
      "source": [
        "p_version_sig = p_version[~(p_version['p-value'] > 0.05)]"
      ],
      "metadata": {
        "id": "DVmZgmB4fhYq"
      },
      "execution_count": 261,
      "outputs": []
    },
    {
      "cell_type": "code",
      "source": [
        "p_version_sig = p_version_sig.reset_index()"
      ],
      "metadata": {
        "id": "hMQgoVgCfhpO"
      },
      "execution_count": 263,
      "outputs": []
    },
    {
      "cell_type": "code",
      "source": [
        "p_version_sig"
      ],
      "metadata": {
        "colab": {
          "base_uri": "https://localhost:8080/",
          "height": 394
        },
        "id": "28KJbFH4fh53",
        "outputId": "d539cdb6-817a-4e90-df96-90c7985d713b"
      },
      "execution_count": 264,
      "outputs": [
        {
          "output_type": "execute_result",
          "data": {
            "text/plain": [
              "    index version_characters        p-value\n",
              "0       0              const  6.665340e-235\n",
              "1       7   vers_Black Pearl   3.934689e-06\n",
              "2       9           vers_FFI   4.575889e-03\n",
              "3      11       vers_Phase 1   1.062900e-05\n",
              "4      12       vers_Phase 2   1.732095e-06\n",
              "5      13       vers_Phase 3   2.357031e-05\n",
              "6      14       vers_Phase 4   1.265914e-04\n",
              "7      16          vers_Ruby   8.484077e-15\n",
              "8      17      vers_Sapphire   1.138888e-14\n",
              "9      19        vers_Tier 2   4.655640e-03\n",
              "10     20       vers_default   2.907940e-24"
            ],
            "text/html": [
              "\n",
              "  <div id=\"df-dfce0a0a-e70d-4f68-907c-12ad2e41ce7f\">\n",
              "    <div class=\"colab-df-container\">\n",
              "      <div>\n",
              "<style scoped>\n",
              "    .dataframe tbody tr th:only-of-type {\n",
              "        vertical-align: middle;\n",
              "    }\n",
              "\n",
              "    .dataframe tbody tr th {\n",
              "        vertical-align: top;\n",
              "    }\n",
              "\n",
              "    .dataframe thead th {\n",
              "        text-align: right;\n",
              "    }\n",
              "</style>\n",
              "<table border=\"1\" class=\"dataframe\">\n",
              "  <thead>\n",
              "    <tr style=\"text-align: right;\">\n",
              "      <th></th>\n",
              "      <th>index</th>\n",
              "      <th>version_characters</th>\n",
              "      <th>p-value</th>\n",
              "    </tr>\n",
              "  </thead>\n",
              "  <tbody>\n",
              "    <tr>\n",
              "      <th>0</th>\n",
              "      <td>0</td>\n",
              "      <td>const</td>\n",
              "      <td>6.665340e-235</td>\n",
              "    </tr>\n",
              "    <tr>\n",
              "      <th>1</th>\n",
              "      <td>7</td>\n",
              "      <td>vers_Black Pearl</td>\n",
              "      <td>3.934689e-06</td>\n",
              "    </tr>\n",
              "    <tr>\n",
              "      <th>2</th>\n",
              "      <td>9</td>\n",
              "      <td>vers_FFI</td>\n",
              "      <td>4.575889e-03</td>\n",
              "    </tr>\n",
              "    <tr>\n",
              "      <th>3</th>\n",
              "      <td>11</td>\n",
              "      <td>vers_Phase 1</td>\n",
              "      <td>1.062900e-05</td>\n",
              "    </tr>\n",
              "    <tr>\n",
              "      <th>4</th>\n",
              "      <td>12</td>\n",
              "      <td>vers_Phase 2</td>\n",
              "      <td>1.732095e-06</td>\n",
              "    </tr>\n",
              "    <tr>\n",
              "      <th>5</th>\n",
              "      <td>13</td>\n",
              "      <td>vers_Phase 3</td>\n",
              "      <td>2.357031e-05</td>\n",
              "    </tr>\n",
              "    <tr>\n",
              "      <th>6</th>\n",
              "      <td>14</td>\n",
              "      <td>vers_Phase 4</td>\n",
              "      <td>1.265914e-04</td>\n",
              "    </tr>\n",
              "    <tr>\n",
              "      <th>7</th>\n",
              "      <td>16</td>\n",
              "      <td>vers_Ruby</td>\n",
              "      <td>8.484077e-15</td>\n",
              "    </tr>\n",
              "    <tr>\n",
              "      <th>8</th>\n",
              "      <td>17</td>\n",
              "      <td>vers_Sapphire</td>\n",
              "      <td>1.138888e-14</td>\n",
              "    </tr>\n",
              "    <tr>\n",
              "      <th>9</th>\n",
              "      <td>19</td>\n",
              "      <td>vers_Tier 2</td>\n",
              "      <td>4.655640e-03</td>\n",
              "    </tr>\n",
              "    <tr>\n",
              "      <th>10</th>\n",
              "      <td>20</td>\n",
              "      <td>vers_default</td>\n",
              "      <td>2.907940e-24</td>\n",
              "    </tr>\n",
              "  </tbody>\n",
              "</table>\n",
              "</div>\n",
              "      <button class=\"colab-df-convert\" onclick=\"convertToInteractive('df-dfce0a0a-e70d-4f68-907c-12ad2e41ce7f')\"\n",
              "              title=\"Convert this dataframe to an interactive table.\"\n",
              "              style=\"display:none;\">\n",
              "        \n",
              "  <svg xmlns=\"http://www.w3.org/2000/svg\" height=\"24px\"viewBox=\"0 0 24 24\"\n",
              "       width=\"24px\">\n",
              "    <path d=\"M0 0h24v24H0V0z\" fill=\"none\"/>\n",
              "    <path d=\"M18.56 5.44l.94 2.06.94-2.06 2.06-.94-2.06-.94-.94-2.06-.94 2.06-2.06.94zm-11 1L8.5 8.5l.94-2.06 2.06-.94-2.06-.94L8.5 2.5l-.94 2.06-2.06.94zm10 10l.94 2.06.94-2.06 2.06-.94-2.06-.94-.94-2.06-.94 2.06-2.06.94z\"/><path d=\"M17.41 7.96l-1.37-1.37c-.4-.4-.92-.59-1.43-.59-.52 0-1.04.2-1.43.59L10.3 9.45l-7.72 7.72c-.78.78-.78 2.05 0 2.83L4 21.41c.39.39.9.59 1.41.59.51 0 1.02-.2 1.41-.59l7.78-7.78 2.81-2.81c.8-.78.8-2.07 0-2.86zM5.41 20L4 18.59l7.72-7.72 1.47 1.35L5.41 20z\"/>\n",
              "  </svg>\n",
              "      </button>\n",
              "      \n",
              "  <style>\n",
              "    .colab-df-container {\n",
              "      display:flex;\n",
              "      flex-wrap:wrap;\n",
              "      gap: 12px;\n",
              "    }\n",
              "\n",
              "    .colab-df-convert {\n",
              "      background-color: #E8F0FE;\n",
              "      border: none;\n",
              "      border-radius: 50%;\n",
              "      cursor: pointer;\n",
              "      display: none;\n",
              "      fill: #1967D2;\n",
              "      height: 32px;\n",
              "      padding: 0 0 0 0;\n",
              "      width: 32px;\n",
              "    }\n",
              "\n",
              "    .colab-df-convert:hover {\n",
              "      background-color: #E2EBFA;\n",
              "      box-shadow: 0px 1px 2px rgba(60, 64, 67, 0.3), 0px 1px 3px 1px rgba(60, 64, 67, 0.15);\n",
              "      fill: #174EA6;\n",
              "    }\n",
              "\n",
              "    [theme=dark] .colab-df-convert {\n",
              "      background-color: #3B4455;\n",
              "      fill: #D2E3FC;\n",
              "    }\n",
              "\n",
              "    [theme=dark] .colab-df-convert:hover {\n",
              "      background-color: #434B5C;\n",
              "      box-shadow: 0px 1px 3px 1px rgba(0, 0, 0, 0.15);\n",
              "      filter: drop-shadow(0px 1px 2px rgba(0, 0, 0, 0.3));\n",
              "      fill: #FFFFFF;\n",
              "    }\n",
              "  </style>\n",
              "\n",
              "      <script>\n",
              "        const buttonEl =\n",
              "          document.querySelector('#df-dfce0a0a-e70d-4f68-907c-12ad2e41ce7f button.colab-df-convert');\n",
              "        buttonEl.style.display =\n",
              "          google.colab.kernel.accessAllowed ? 'block' : 'none';\n",
              "\n",
              "        async function convertToInteractive(key) {\n",
              "          const element = document.querySelector('#df-dfce0a0a-e70d-4f68-907c-12ad2e41ce7f');\n",
              "          const dataTable =\n",
              "            await google.colab.kernel.invokeFunction('convertToInteractive',\n",
              "                                                     [key], {});\n",
              "          if (!dataTable) return;\n",
              "\n",
              "          const docLinkHtml = 'Like what you see? Visit the ' +\n",
              "            '<a target=\"_blank\" href=https://colab.research.google.com/notebooks/data_table.ipynb>data table notebook</a>'\n",
              "            + ' to learn more about interactive tables.';\n",
              "          element.innerHTML = '';\n",
              "          dataTable['output_type'] = 'display_data';\n",
              "          await google.colab.output.renderOutput(dataTable, element);\n",
              "          const docLink = document.createElement('div');\n",
              "          docLink.innerHTML = docLinkHtml;\n",
              "          element.appendChild(docLink);\n",
              "        }\n",
              "      </script>\n",
              "    </div>\n",
              "  </div>\n",
              "  "
            ]
          },
          "metadata": {},
          "execution_count": 264
        }
      ]
    },
    {
      "cell_type": "markdown",
      "source": [
        "**category**"
      ],
      "metadata": {
        "id": "mF5KfWMkgBb0"
      }
    },
    {
      "cell_type": "code",
      "source": [
        "data2 = pd.get_dummies(data.category, prefix='cat')"
      ],
      "metadata": {
        "id": "N47sMraMfiJY"
      },
      "execution_count": 290,
      "outputs": []
    },
    {
      "cell_type": "code",
      "source": [
        "cols = data2.columns"
      ],
      "metadata": {
        "id": "wDBgicbffiWV"
      },
      "execution_count": 291,
      "outputs": []
    },
    {
      "cell_type": "code",
      "source": [
        "data2 = pd.concat([data, data2], axis=1)"
      ],
      "metadata": {
        "id": "4Pq5wMOugNAE"
      },
      "execution_count": 292,
      "outputs": []
    },
    {
      "cell_type": "code",
      "source": [
        "y = data['salePricelog']\n",
        "X = data2[cols]"
      ],
      "metadata": {
        "id": "0IGsITHagNRA"
      },
      "execution_count": 293,
      "outputs": []
    },
    {
      "cell_type": "code",
      "source": [
        "model_lr = LinearRegression()"
      ],
      "metadata": {
        "id": "A-WmSw0MgNl_"
      },
      "execution_count": 294,
      "outputs": []
    },
    {
      "cell_type": "code",
      "source": [
        "X = sm.add_constant(X)"
      ],
      "metadata": {
        "colab": {
          "base_uri": "https://localhost:8080/"
        },
        "id": "wv3AWbPPgUnN",
        "outputId": "ddf111a4-8711-4d8f-dad7-730b2953324f"
      },
      "execution_count": 295,
      "outputs": [
        {
          "output_type": "stream",
          "name": "stderr",
          "text": [
            "/usr/local/lib/python3.7/dist-packages/statsmodels/tsa/tsatools.py:117: FutureWarning: In a future version of pandas all arguments of concat except for the argument 'objs' will be keyword-only\n",
            "  x = pd.concat(x[::order], 1)\n"
          ]
        }
      ]
    },
    {
      "cell_type": "code",
      "source": [
        "model = sm.OLS(y,X)\n",
        "results = model.fit()"
      ],
      "metadata": {
        "id": "ifSke-bngU2f"
      },
      "execution_count": 296,
      "outputs": []
    },
    {
      "cell_type": "code",
      "source": [
        "print(results.summary())"
      ],
      "metadata": {
        "colab": {
          "base_uri": "https://localhost:8080/"
        },
        "id": "2PYItwDDgVKT",
        "outputId": "37ffdc05-fbfc-4b20-c8c0-091bc213a8c7"
      },
      "execution_count": 297,
      "outputs": [
        {
          "output_type": "stream",
          "name": "stdout",
          "text": [
            "                            OLS Regression Results                            \n",
            "==============================================================================\n",
            "Dep. Variable:           salePricelog   R-squared:                       0.400\n",
            "Model:                            OLS   Adj. R-squared:                  0.400\n",
            "Method:                 Least Squares   F-statistic:                     3047.\n",
            "Date:                Thu, 05 May 2022   Prob (F-statistic):               0.00\n",
            "Time:                        14:03:39   Log-Likelihood:                -42936.\n",
            "No. Observations:               27460   AIC:                         8.589e+04\n",
            "Df Residuals:                   27453   BIC:                         8.594e+04\n",
            "Df Model:                           6                                         \n",
            "Covariance Type:            nonrobust                                         \n",
            "==============================================================================\n",
            "                 coef    std err          t      P>|t|      [0.025      0.975]\n",
            "------------------------------------------------------------------------------\n",
            "const      -5.402e+11   1.14e+12     -0.476      0.634   -2.77e+12    1.69e+12\n",
            "cat_Gloves  5.402e+11   1.14e+12      0.476      0.634   -1.69e+12    2.77e+12\n",
            "cat_Heavy   5.402e+11   1.14e+12      0.476      0.634   -1.69e+12    2.77e+12\n",
            "cat_Knife   5.402e+11   1.14e+12      0.476      0.634   -1.69e+12    2.77e+12\n",
            "cat_Pistol  5.402e+11   1.14e+12      0.476      0.634   -1.69e+12    2.77e+12\n",
            "cat_Rifle   5.402e+11   1.14e+12      0.476      0.634   -1.69e+12    2.77e+12\n",
            "cat_SMG     5.402e+11   1.14e+12      0.476      0.634   -1.69e+12    2.77e+12\n",
            "==============================================================================\n",
            "Omnibus:                     3641.501   Durbin-Watson:                   0.646\n",
            "Prob(Omnibus):                  0.000   Jarque-Bera (JB):             5527.834\n",
            "Skew:                           0.961   Prob(JB):                         0.00\n",
            "Kurtosis:                       4.067   Cond. No.                     4.92e+14\n",
            "==============================================================================\n",
            "\n",
            "Warnings:\n",
            "[1] Standard Errors assume that the covariance matrix of the errors is correctly specified.\n",
            "[2] The smallest eigenvalue is 1.48e-25. This might indicate that there are\n",
            "strong multicollinearity problems or that the design matrix is singular.\n"
          ]
        }
      ]
    },
    {
      "cell_type": "markdown",
      "source": [
        "**subCategory**"
      ],
      "metadata": {
        "id": "kw9mNgp0g8sC"
      }
    },
    {
      "cell_type": "code",
      "source": [
        "data2 = pd.get_dummies(data.subCategory, prefix='subCat')"
      ],
      "metadata": {
        "id": "RpBEgDquhBmh"
      },
      "execution_count": 274,
      "outputs": []
    },
    {
      "cell_type": "code",
      "source": [
        "cols = data2.columns"
      ],
      "metadata": {
        "id": "ELF35S1ahGMb"
      },
      "execution_count": 275,
      "outputs": []
    },
    {
      "cell_type": "code",
      "source": [
        "data2 = pd.concat([data, data2], axis=1)"
      ],
      "metadata": {
        "id": "qX6XitImhGmG"
      },
      "execution_count": 276,
      "outputs": []
    },
    {
      "cell_type": "code",
      "source": [
        "y = data['salePricelog']\n",
        "X = data2[cols]"
      ],
      "metadata": {
        "id": "CZj66LJ4hG1h"
      },
      "execution_count": 277,
      "outputs": []
    },
    {
      "cell_type": "code",
      "source": [
        "model_lr = LinearRegression()"
      ],
      "metadata": {
        "id": "6lcNu560hHEJ"
      },
      "execution_count": 278,
      "outputs": []
    },
    {
      "cell_type": "code",
      "source": [
        "X = sm.add_constant(X)"
      ],
      "metadata": {
        "colab": {
          "base_uri": "https://localhost:8080/"
        },
        "id": "XsHAHDqGhHRD",
        "outputId": "38b124fe-26a2-45a5-95e0-bf8748d5968f"
      },
      "execution_count": 279,
      "outputs": [
        {
          "output_type": "stream",
          "name": "stderr",
          "text": [
            "/usr/local/lib/python3.7/dist-packages/statsmodels/tsa/tsatools.py:117: FutureWarning: In a future version of pandas all arguments of concat except for the argument 'objs' will be keyword-only\n",
            "  x = pd.concat(x[::order], 1)\n"
          ]
        }
      ]
    },
    {
      "cell_type": "code",
      "source": [
        "model = sm.OLS(y,X)\n",
        "results = model.fit()"
      ],
      "metadata": {
        "id": "G2I_Jqq6hHbG"
      },
      "execution_count": 280,
      "outputs": []
    },
    {
      "cell_type": "code",
      "source": [
        "print(results.summary())"
      ],
      "metadata": {
        "colab": {
          "base_uri": "https://localhost:8080/"
        },
        "id": "feZNv1AWhO5M",
        "outputId": "c0bfea01-d007-489f-b19b-c3202786fdf3"
      },
      "execution_count": 281,
      "outputs": [
        {
          "output_type": "stream",
          "name": "stdout",
          "text": [
            "                            OLS Regression Results                            \n",
            "==============================================================================\n",
            "Dep. Variable:           salePricelog   R-squared:                       0.462\n",
            "Model:                            OLS   Adj. R-squared:                  0.461\n",
            "Method:                 Least Squares   F-statistic:                     392.5\n",
            "Date:                Thu, 05 May 2022   Prob (F-statistic):               0.00\n",
            "Time:                        14:00:05   Log-Likelihood:                -41426.\n",
            "No. Observations:               27460   AIC:                         8.297e+04\n",
            "Df Residuals:                   27399   BIC:                         8.348e+04\n",
            "Df Model:                          60                                         \n",
            "Covariance Type:            nonrobust                                         \n",
            "=============================================================================================\n",
            "                                coef    std err          t      P>|t|      [0.025      0.975]\n",
            "---------------------------------------------------------------------------------------------\n",
            "const                         3.9571      0.011    365.051      0.000       3.936       3.978\n",
            "subCat_AK-47                 -0.3834      0.020    -19.069      0.000      -0.423      -0.344\n",
            "subCat_AUG                   -0.6488      0.063    -10.377      0.000      -0.771      -0.526\n",
            "subCat_AWP                   -0.1961      0.024     -8.093      0.000      -0.244      -0.149\n",
            "subCat_Bayonet                1.9259      0.058     32.961      0.000       1.811       2.040\n",
            "subCat_Bloodhound Gloves      0.6280      0.123      5.096      0.000       0.386       0.870\n",
            "subCat_Bowie Knife            1.3347      0.055     24.294      0.000       1.227       1.442\n",
            "subCat_Broken Fang Gloves     0.7159      0.093      7.669      0.000       0.533       0.899\n",
            "subCat_Butterfly Knife        2.7371      0.065     42.073      0.000       2.610       2.865\n",
            "subCat_CZ75-Auto             -1.0915      0.081    -13.546      0.000      -1.249      -0.934\n",
            "subCat_Classic Knife          1.2369      0.101     12.295      0.000       1.040       1.434\n",
            "subCat_Desert Eagle          -0.6653      0.028    -23.348      0.000      -0.721      -0.609\n",
            "subCat_Driver Gloves          1.1360      0.058     19.548      0.000       1.022       1.250\n",
            "subCat_Dual Berettas         -1.3663      0.093    -14.690      0.000      -1.549      -1.184\n",
            "subCat_FAMAS                 -1.3415      0.053    -25.195      0.000      -1.446      -1.237\n",
            "subCat_Falchion Knife         1.1314      0.066     17.271      0.000       1.003       1.260\n",
            "subCat_Five-SeveN            -0.7769      0.052    -15.057      0.000      -0.878      -0.676\n",
            "subCat_Flip Knife             1.4795      0.067     22.185      0.000       1.349       1.610\n",
            "subCat_G3SG1                 -1.3429      0.138     -9.707      0.000      -1.614      -1.072\n",
            "subCat_Galil AR              -1.0033      0.067    -14.935      0.000      -1.135      -0.872\n",
            "subCat_Glock-18              -0.9040      0.027    -34.081      0.000      -0.956      -0.852\n",
            "subCat_Gut Knife              0.8318      0.058     14.294      0.000       0.718       0.946\n",
            "subCat_Hand Wraps             1.1549      0.070     16.544      0.000       1.018       1.292\n",
            "subCat_Huntsman Knife         1.3371      0.052     25.668      0.000       1.235       1.439\n",
            "subCat_Hydra Gloves           0.3929      0.087      4.492      0.000       0.221       0.564\n",
            "subCat_Karambit               2.5104      0.054     46.883      0.000       2.405       2.615\n",
            "subCat_M249                  -1.5219      0.194     -7.854      0.000      -1.902      -1.142\n",
            "subCat_M4A1-S                -0.2856      0.025    -11.233      0.000      -0.335      -0.236\n",
            "subCat_M4A4                  -0.7960      0.033    -24.009      0.000      -0.861      -0.731\n",
            "subCat_M9 Bayonet             2.1716      0.061     35.759      0.000       2.053       2.291\n",
            "subCat_MAC-10                -1.1554      0.047    -24.649      0.000      -1.247      -1.063\n",
            "subCat_MAG-7                 -1.0527      0.090    -11.642      0.000      -1.230      -0.875\n",
            "subCat_MP5-SD                -0.9671      0.144     -6.700      0.000      -1.250      -0.684\n",
            "subCat_MP7                   -1.4400      0.080    -17.966      0.000      -1.597      -1.283\n",
            "subCat_MP9                   -1.0351      0.056    -18.404      0.000      -1.145      -0.925\n",
            "subCat_Moto Gloves            1.5277      0.077     19.759      0.000       1.376       1.679\n",
            "subCat_Navaja Knife           0.6058      0.087      6.948      0.000       0.435       0.777\n",
            "subCat_Negev                 -0.7031      0.127     -5.556      0.000      -0.951      -0.455\n",
            "subCat_Nomad Knife            1.7402      0.148     11.729      0.000       1.449       2.031\n",
            "subCat_Nova                  -1.2210      0.088    -13.913      0.000      -1.393      -1.049\n",
            "subCat_P2000                 -1.2518      0.086    -14.492      0.000      -1.421      -1.083\n",
            "subCat_P250                  -1.2009      0.051    -23.518      0.000      -1.301      -1.101\n",
            "subCat_P90                   -0.8909      0.061    -14.670      0.000      -1.010      -0.772\n",
            "subCat_PP-Bizon              -1.5698      0.107    -14.714      0.000      -1.779      -1.361\n",
            "subCat_Paracord Knife         1.2377      0.106     11.712      0.000       1.031       1.445\n",
            "subCat_R8 Revolver           -1.4883      0.151     -9.841      0.000      -1.785      -1.192\n",
            "subCat_SCAR-20               -1.1571      0.110    -10.474      0.000      -1.374      -0.941\n",
            "subCat_SG 553                -0.9609      0.066    -14.591      0.000      -1.090      -0.832\n",
            "subCat_SSG 08                -1.2444      0.051    -24.344      0.000      -1.345      -1.144\n",
            "subCat_Sawed-Off             -1.2825      0.133     -9.640      0.000      -1.543      -1.022\n",
            "subCat_Shadow Daggers         0.8566      0.066     13.054      0.000       0.728       0.985\n",
            "subCat_Skeleton Knife         2.1714      0.106     20.546      0.000       1.964       2.378\n",
            "subCat_Specialist Gloves      1.7859      0.072     24.856      0.000       1.645       1.927\n",
            "subCat_Sport Gloves           2.3033      0.074     31.298      0.000       2.159       2.448\n",
            "subCat_Stiletto Knife         1.3316      0.087     15.319      0.000       1.161       1.502\n",
            "subCat_Survival Knife         1.2716      0.117     10.837      0.000       1.042       1.502\n",
            "subCat_Talon Knife            2.0276      0.072     28.039      0.000       1.886       2.169\n",
            "subCat_Tec-9                 -1.4281      0.069    -20.742      0.000      -1.563      -1.293\n",
            "subCat_UMP-45                -0.8083      0.072    -11.154      0.000      -0.950      -0.666\n",
            "subCat_USP-S                 -0.8039      0.029    -27.893      0.000      -0.860      -0.747\n",
            "subCat_Ursus Knife            1.2717      0.078     16.243      0.000       1.118       1.425\n",
            "subCat_XM1014                -0.9133      0.081    -11.243      0.000      -1.073      -0.754\n",
            "==============================================================================\n",
            "Omnibus:                     4143.106   Durbin-Watson:                   0.720\n",
            "Prob(Omnibus):                  0.000   Jarque-Bera (JB):             7176.964\n",
            "Skew:                           0.993   Prob(JB):                         0.00\n",
            "Kurtosis:                       4.525   Cond. No.                     4.17e+15\n",
            "==============================================================================\n",
            "\n",
            "Warnings:\n",
            "[1] Standard Errors assume that the covariance matrix of the errors is correctly specified.\n",
            "[2] The smallest eigenvalue is 1.67e-27. This might indicate that there are\n",
            "strong multicollinearity problems or that the design matrix is singular.\n"
          ]
        }
      ]
    },
    {
      "cell_type": "markdown",
      "source": [
        "**quality**"
      ],
      "metadata": {
        "id": "cNI2xtKlhqQv"
      }
    },
    {
      "cell_type": "code",
      "source": [
        "data2 = pd.get_dummies(data.quality, prefix='quality')"
      ],
      "metadata": {
        "id": "KuQtG5Y4hPAt"
      },
      "execution_count": 282,
      "outputs": []
    },
    {
      "cell_type": "code",
      "source": [
        "cols = data2.columns"
      ],
      "metadata": {
        "id": "ZXLbDFVEhrfV"
      },
      "execution_count": 283,
      "outputs": []
    },
    {
      "cell_type": "code",
      "source": [
        "data2 = pd.concat([data, data2], axis=1)"
      ],
      "metadata": {
        "id": "1WEpqFighrqV"
      },
      "execution_count": 284,
      "outputs": []
    },
    {
      "cell_type": "code",
      "source": [
        "y = data['salePricelog']\n",
        "X = data2[cols]"
      ],
      "metadata": {
        "id": "d77i8bnvhr6S"
      },
      "execution_count": 285,
      "outputs": []
    },
    {
      "cell_type": "code",
      "source": [
        "model_lr = LinearRegression()"
      ],
      "metadata": {
        "id": "GXjyKotThsEP"
      },
      "execution_count": 286,
      "outputs": []
    },
    {
      "cell_type": "code",
      "source": [
        "X = sm.add_constant(X)"
      ],
      "metadata": {
        "colab": {
          "base_uri": "https://localhost:8080/"
        },
        "id": "Xee0MNQohsNv",
        "outputId": "56d4166b-8648-4b31-e248-87f41c0d6d58"
      },
      "execution_count": 287,
      "outputs": [
        {
          "output_type": "stream",
          "name": "stderr",
          "text": [
            "/usr/local/lib/python3.7/dist-packages/statsmodels/tsa/tsatools.py:117: FutureWarning: In a future version of pandas all arguments of concat except for the argument 'objs' will be keyword-only\n",
            "  x = pd.concat(x[::order], 1)\n"
          ]
        }
      ]
    },
    {
      "cell_type": "code",
      "source": [
        "model = sm.OLS(y,X)\n",
        "results = model.fit()"
      ],
      "metadata": {
        "id": "RKDf-sF8h1II"
      },
      "execution_count": 288,
      "outputs": []
    },
    {
      "cell_type": "code",
      "source": [
        "print(results.summary())"
      ],
      "metadata": {
        "colab": {
          "base_uri": "https://localhost:8080/"
        },
        "id": "5DhjlILFh1Uc",
        "outputId": "abb07b31-f318-43b2-ce66-34b5b0b529bf"
      },
      "execution_count": 289,
      "outputs": [
        {
          "output_type": "stream",
          "name": "stdout",
          "text": [
            "                            OLS Regression Results                            \n",
            "==============================================================================\n",
            "Dep. Variable:           salePricelog   R-squared:                       0.383\n",
            "Model:                            OLS   Adj. R-squared:                  0.383\n",
            "Method:                 Least Squares   F-statistic:                     4256.\n",
            "Date:                Thu, 05 May 2022   Prob (F-statistic):               0.00\n",
            "Time:                        14:02:38   Log-Likelihood:                -43319.\n",
            "No. Observations:               27460   AIC:                         8.665e+04\n",
            "Df Residuals:                   27455   BIC:                         8.669e+04\n",
            "Df Model:                           4                                         \n",
            "Covariance Type:            nonrobust                                         \n",
            "=======================================================================================\n",
            "                          coef    std err          t      P>|t|      [0.025      0.975]\n",
            "---------------------------------------------------------------------------------------\n",
            "const                   3.5245      0.011    306.530      0.000       3.502       3.547\n",
            "quality_Normal         -0.2886      0.014    -20.967      0.000      -0.316      -0.262\n",
            "quality_Souvenir       -0.2561      0.039     -6.525      0.000      -0.333      -0.179\n",
            "quality_StatTrak™      -0.1130      0.018     -6.211      0.000      -0.149      -0.077\n",
            "quality_★               1.9060      0.017    110.465      0.000       1.872       1.940\n",
            "quality_★ StatTrak™     2.2762      0.038     59.272      0.000       2.201       2.352\n",
            "==============================================================================\n",
            "Omnibus:                     3964.840   Durbin-Watson:                   0.601\n",
            "Prob(Omnibus):                  0.000   Jarque-Bera (JB):             6282.317\n",
            "Skew:                           1.007   Prob(JB):                         0.00\n",
            "Kurtosis:                       4.196   Cond. No.                     1.53e+15\n",
            "==============================================================================\n",
            "\n",
            "Warnings:\n",
            "[1] Standard Errors assume that the covariance matrix of the errors is correctly specified.\n",
            "[2] The smallest eigenvalue is 1.7e-26. This might indicate that there are\n",
            "strong multicollinearity problems or that the design matrix is singular.\n"
          ]
        }
      ]
    },
    {
      "cell_type": "markdown",
      "source": [
        "**collection**"
      ],
      "metadata": {
        "id": "YFycX32liMuF"
      }
    },
    {
      "cell_type": "code",
      "source": [
        "data2 = pd.get_dummies(data.collection, prefix='col')"
      ],
      "metadata": {
        "id": "dkaEmvxbh1eS"
      },
      "execution_count": 298,
      "outputs": []
    },
    {
      "cell_type": "code",
      "source": [
        "cols = data2.columns"
      ],
      "metadata": {
        "id": "kerEUS12iOhk"
      },
      "execution_count": 299,
      "outputs": []
    },
    {
      "cell_type": "code",
      "source": [
        "data2 = pd.concat([data, data2], axis=1)"
      ],
      "metadata": {
        "id": "8mQprzSliOru"
      },
      "execution_count": 300,
      "outputs": []
    },
    {
      "cell_type": "code",
      "source": [
        "y = data['salePricelog']\n",
        "X = data2[cols]"
      ],
      "metadata": {
        "id": "mlTRV6ariO6w"
      },
      "execution_count": 301,
      "outputs": []
    },
    {
      "cell_type": "code",
      "source": [
        "model_lr = LinearRegression()"
      ],
      "metadata": {
        "id": "UAVWLvGbiPKR"
      },
      "execution_count": 302,
      "outputs": []
    },
    {
      "cell_type": "code",
      "source": [
        "X = sm.add_constant(X)"
      ],
      "metadata": {
        "colab": {
          "base_uri": "https://localhost:8080/"
        },
        "id": "-EqHU5Y8iZkB",
        "outputId": "14caf02f-24bd-4e4f-f6d4-b5f8ab37117d"
      },
      "execution_count": 303,
      "outputs": [
        {
          "output_type": "stream",
          "name": "stderr",
          "text": [
            "/usr/local/lib/python3.7/dist-packages/statsmodels/tsa/tsatools.py:117: FutureWarning: In a future version of pandas all arguments of concat except for the argument 'objs' will be keyword-only\n",
            "  x = pd.concat(x[::order], 1)\n"
          ]
        }
      ]
    },
    {
      "cell_type": "code",
      "source": [
        "model = sm.OLS(y,X)\n",
        "results = model.fit()"
      ],
      "metadata": {
        "id": "vObnXgvoiZw9"
      },
      "execution_count": 304,
      "outputs": []
    },
    {
      "cell_type": "code",
      "source": [
        "print(results.summary())"
      ],
      "metadata": {
        "colab": {
          "base_uri": "https://localhost:8080/"
        },
        "id": "CfmeShu0iZ9R",
        "outputId": "568e73ce-fe9d-4d1b-d5f2-9ebf7b0548b0"
      },
      "execution_count": 305,
      "outputs": [
        {
          "output_type": "stream",
          "name": "stdout",
          "text": [
            "                            OLS Regression Results                            \n",
            "==============================================================================\n",
            "Dep. Variable:           salePricelog   R-squared:                       0.415\n",
            "Model:                            OLS   Adj. R-squared:                  0.413\n",
            "Method:                 Least Squares   F-statistic:                     262.5\n",
            "Date:                Thu, 05 May 2022   Prob (F-statistic):               0.00\n",
            "Time:                        14:05:06   Log-Likelihood:                -42584.\n",
            "No. Observations:               27460   AIC:                         8.532e+04\n",
            "Df Residuals:                   27385   BIC:                         8.593e+04\n",
            "Df Model:                          74                                         \n",
            "Covariance Type:            nonrobust                                         \n",
            "============================================================================================================\n",
            "                                               coef    std err          t      P>|t|      [0.025      0.975]\n",
            "------------------------------------------------------------------------------------------------------------\n",
            "const                                        3.3861      0.017    199.998      0.000       3.353       3.419\n",
            "col_No Collection                            2.1163      0.024     88.943      0.000       2.070       2.163\n",
            "col_The 2018 Inferno Collection             -0.6628      0.092     -7.195      0.000      -0.843      -0.482\n",
            "col_The 2018 Nuke Collection                -0.9249      0.114     -8.114      0.000      -1.148      -0.701\n",
            "col_The 2021 Dust 2 Collection               0.8652      0.083     10.464      0.000       0.703       1.027\n",
            "col_The 2021 Mirage Collection               0.4235      0.063      6.684      0.000       0.299       0.548\n",
            "col_The 2021 Train Collection               -0.3173      0.035     -9.038      0.000      -0.386      -0.249\n",
            "col_The 2021 Vertigo Collection              0.7298      0.106      6.854      0.000       0.521       0.938\n",
            "col_The Alpha Collection                    -0.2811      0.259     -1.085      0.278      -0.789       0.227\n",
            "col_The Ancient Collection                   0.1861      0.057      3.248      0.001       0.074       0.298\n",
            "col_The Arms Deal 2 Collection               0.0968      0.062      1.553      0.121      -0.025       0.219\n",
            "col_The Arms Deal 3 Collection              -0.2498      0.083     -2.999      0.003      -0.413      -0.087\n",
            "col_The Arms Deal Collection                 1.7121      0.065     26.427      0.000       1.585       1.839\n",
            "col_The Assault Collection                   2.0734      0.184     11.289      0.000       1.713       2.433\n",
            "col_The Aztec Collection                    -0.4513      0.274     -1.648      0.099      -0.988       0.086\n",
            "col_The Baggage Collection                   0.5883      0.207      2.849      0.004       0.184       0.993\n",
            "col_The Bank Collection                     -0.9793      0.119     -8.247      0.000      -1.212      -0.747\n",
            "col_The Blacksite Collection                -1.3581      0.426     -3.185      0.001      -2.194      -0.522\n",
            "col_The Bravo Collection                     1.5903      0.079     20.156      0.000       1.436       1.745\n",
            "col_The Breakout Collection                  0.4065      0.040     10.225      0.000       0.329       0.484\n",
            "col_The CS20 Collection                      0.2065      0.065      3.201      0.001       0.080       0.333\n",
            "col_The Cache Collection                    -0.4054      0.111     -3.642      0.000      -0.624      -0.187\n",
            "col_The Canals Collection                   -0.0675      0.100     -0.678      0.498      -0.263       0.128\n",
            "col_The Chop Shop Collection                -0.2765      0.078     -3.528      0.000      -0.430      -0.123\n",
            "col_The Chroma 2 Collection                 -0.5018      0.055     -9.168      0.000      -0.609      -0.395\n",
            "col_The Chroma 3 Collection                 -0.4589      0.075     -6.118      0.000      -0.606      -0.312\n",
            "col_The Chroma Collection                   -0.7117      0.078     -9.159      0.000      -0.864      -0.559\n",
            "col_The Clutch Collection                   -0.9308      0.056    -16.639      0.000      -1.041      -0.821\n",
            "col_The Cobblestone Collection               0.7168      0.092      7.782      0.000       0.536       0.897\n",
            "col_The Control Collection                   0.8686      0.060     14.571      0.000       0.752       0.985\n",
            "col_The Danger Zone Collection              -0.1839      0.044     -4.176      0.000      -0.270      -0.098\n",
            "col_The Dreams & Nightmares Collection      -0.5454      0.071     -7.731      0.000      -0.684      -0.407\n",
            "col_The Dust 2 Collection                   -0.3337      0.137     -2.440      0.015      -0.602      -0.066\n",
            "col_The Dust Collection                      1.1353      0.153      7.423      0.000       0.836       1.435\n",
            "col_The Falchion Collection                  0.4946      0.046     10.853      0.000       0.405       0.584\n",
            "col_The Fracture Collection                 -0.0827      0.048     -1.725      0.085      -0.177       0.011\n",
            "col_The Gamma 2 Collection                  -0.5131      0.071     -7.261      0.000      -0.652      -0.375\n",
            "col_The Gamma Collection                    -0.6994      0.072     -9.723      0.000      -0.840      -0.558\n",
            "col_The Glove Collection                    -0.8712      0.060    -14.545      0.000      -0.989      -0.754\n",
            "col_The Gods and Monsters Collection         1.0074      0.098     10.265      0.000       0.815       1.200\n",
            "col_The Havoc Collection                     0.1791      0.055      3.257      0.001       0.071       0.287\n",
            "col_The Horizon Collection                  -0.0788      0.055     -1.425      0.154      -0.187       0.030\n",
            "col_The Huntsman Collection                  1.3228      0.043     30.564      0.000       1.238       1.408\n",
            "col_The Inferno Collection                  -0.3790      0.200     -1.895      0.058      -0.771       0.013\n",
            "col_The Italy Collection                    -0.2770      0.200     -1.385      0.166      -0.669       0.115\n",
            "col_The Lake Collection                     -0.1080      0.184     -0.588      0.557      -0.468       0.252\n",
            "col_The Militia Collection                   0.3550      0.313      1.134      0.257      -0.259       0.969\n",
            "col_The Mirage Collection                   -0.1707      0.089     -1.915      0.055      -0.345       0.004\n",
            "col_The Norse Collection                     0.9050      0.071     12.807      0.000       0.767       1.044\n",
            "col_The Nuke Collection                      0.3230      0.184      1.759      0.079      -0.037       0.683\n",
            "col_The Office Collection                    0.0870      0.399      0.218      0.827      -0.695       0.869\n",
            "col_The Operation Broken Fang Collection    -0.1833      0.049     -3.762      0.000      -0.279      -0.088\n",
            "col_The Operation Hydra Collection           0.1752      0.075      2.346      0.019       0.029       0.322\n",
            "col_The Operation Riptide Collection        -0.6682      0.054    -12.301      0.000      -0.775      -0.562\n",
            "col_The Overpass Collection                  0.1163      0.097      1.194      0.233      -0.075       0.307\n",
            "col_The Phoenix Collection                   0.0647      0.042      1.524      0.127      -0.018       0.148\n",
            "col_The Prisma 2 Collection                 -0.5262      0.052    -10.147      0.000      -0.628      -0.425\n",
            "col_The Prisma Collection                   -0.6937      0.059    -11.691      0.000      -0.810      -0.577\n",
            "col_The Revolver Case Collection            -0.4425      0.075     -5.876      0.000      -0.590      -0.295\n",
            "col_The Rising Sun Collection                0.8469      0.084     10.037      0.000       0.681       1.012\n",
            "col_The Safehouse Collection                -0.6081      0.119     -5.093      0.000      -0.842      -0.374\n",
            "col_The Shadow Collection                    0.6628      0.045     14.720      0.000       0.575       0.751\n",
            "col_The Shattered Web Collection            -0.2223      0.060     -3.703      0.000      -0.340      -0.105\n",
            "col_The Snakebite Collection                -0.7184      0.043    -16.669      0.000      -0.803      -0.634\n",
            "col_The Spectrum 2 Collection               -0.4028      0.056     -7.155      0.000      -0.513      -0.292\n",
            "col_The Spectrum Collection                 -0.2979      0.040     -7.451      0.000      -0.376      -0.220\n",
            "col_The St. Marc Collection                  0.4955      0.101      4.921      0.000       0.298       0.693\n",
            "col_The Train Collection                    -0.8103      0.133     -6.091      0.000      -1.071      -0.550\n",
            "col_The Vanguard Collection                 -0.3321      0.094     -3.537      0.000      -0.516      -0.148\n",
            "col_The Vertigo Collection                   0.2882      0.181      1.590      0.112      -0.067       0.644\n",
            "col_The Wildfire Collection                  0.9110      0.045     20.433      0.000       0.824       0.998\n",
            "col_The Winter Offensive Collection          0.5275      0.064      8.246      0.000       0.402       0.653\n",
            "col_The X-Ray Collection                    -1.2118      0.651     -1.861      0.063      -2.488       0.064\n",
            "col_The eSports 2013 Collection              0.9250      0.082     11.297      0.000       0.765       1.086\n",
            "col_The eSports 2013 Winter Collection       0.3911      0.059      6.645      0.000       0.276       0.506\n",
            "col_The eSports 2014 Summer Collection      -0.4697      0.073     -6.434      0.000      -0.613      -0.327\n",
            "==============================================================================\n",
            "Omnibus:                     1547.091   Durbin-Watson:                   0.661\n",
            "Prob(Omnibus):                  0.000   Jarque-Bera (JB):             1891.784\n",
            "Skew:                           0.575   Prob(JB):                         0.00\n",
            "Kurtosis:                       3.577   Cond. No.                     5.62e+15\n",
            "==============================================================================\n",
            "\n",
            "Warnings:\n",
            "[1] Standard Errors assume that the covariance matrix of the errors is correctly specified.\n",
            "[2] The smallest eigenvalue is 9.1e-28. This might indicate that there are\n",
            "strong multicollinearity problems or that the design matrix is singular.\n"
          ]
        }
      ]
    },
    {
      "cell_type": "markdown",
      "source": [
        "# Signifikantzest über alle Daten"
      ],
      "metadata": {
        "id": "3o5cwnCWx7x3"
      }
    },
    {
      "cell_type": "code",
      "source": [
        "data.head()"
      ],
      "metadata": {
        "colab": {
          "base_uri": "https://localhost:8080/",
          "height": 337
        },
        "id": "tFZx9iF2ktAy",
        "outputId": "ed1bfe78-6c8e-4bad-b712-e84f21ea7069"
      },
      "execution_count": 5,
      "outputs": [
        {
          "output_type": "execute_result",
          "data": {
            "text/plain": [
              "   index   assetId       family  lock  version  salePrice category  \\\n",
              "0      0  46917102  Tiger Tooth     0  default     399.13    Knife   \n",
              "1      1  60753316  Tiger Tooth     1  default     362.44    Knife   \n",
              "2      2  55716802  Tiger Tooth     0  default     400.00    Knife   \n",
              "3      3  43496004  Tiger Tooth     0  default     420.73    Knife   \n",
              "4      4  60829717  Tiger Tooth     1  default     355.00    Knife   \n",
              "\n",
              "  subCategory  pattern      wear     exterior      quality  rarity  \\\n",
              "0     Bayonet      168  0.033243  Factory New            ★  Covert   \n",
              "1     Bayonet      972  0.025035  Factory New  ★ StatTrak™  Covert   \n",
              "2     Bayonet      455  0.006977  Factory New            ★  Covert   \n",
              "3     Bayonet      397  0.006662  Factory New            ★  Covert   \n",
              "4     Bayonet      627  0.062841  Factory New            ★  Covert   \n",
              "\n",
              "      collection  stickers  souvenir  stattrak  colorfulness  \\\n",
              "0  No Collection         0         0         0     59.790243   \n",
              "1  No Collection         0         0         1     57.181995   \n",
              "2  No Collection         0         0         0     58.160273   \n",
              "3  No Collection         0         0         0     58.489647   \n",
              "4  No Collection         0         0         0     60.797777   \n",
              "\n",
              "  cats_colorfulness  salePricelog  \n",
              "0   highly colorful      5.989287  \n",
              "1    quite colorful      5.892859  \n",
              "2    quite colorful      5.991465  \n",
              "3    quite colorful      6.041991  \n",
              "4   highly colorful      5.872118  "
            ],
            "text/html": [
              "\n",
              "  <div id=\"df-5f059b1c-38ef-4d5c-8231-193e09239231\">\n",
              "    <div class=\"colab-df-container\">\n",
              "      <div>\n",
              "<style scoped>\n",
              "    .dataframe tbody tr th:only-of-type {\n",
              "        vertical-align: middle;\n",
              "    }\n",
              "\n",
              "    .dataframe tbody tr th {\n",
              "        vertical-align: top;\n",
              "    }\n",
              "\n",
              "    .dataframe thead th {\n",
              "        text-align: right;\n",
              "    }\n",
              "</style>\n",
              "<table border=\"1\" class=\"dataframe\">\n",
              "  <thead>\n",
              "    <tr style=\"text-align: right;\">\n",
              "      <th></th>\n",
              "      <th>index</th>\n",
              "      <th>assetId</th>\n",
              "      <th>family</th>\n",
              "      <th>lock</th>\n",
              "      <th>version</th>\n",
              "      <th>salePrice</th>\n",
              "      <th>category</th>\n",
              "      <th>subCategory</th>\n",
              "      <th>pattern</th>\n",
              "      <th>wear</th>\n",
              "      <th>exterior</th>\n",
              "      <th>quality</th>\n",
              "      <th>rarity</th>\n",
              "      <th>collection</th>\n",
              "      <th>stickers</th>\n",
              "      <th>souvenir</th>\n",
              "      <th>stattrak</th>\n",
              "      <th>colorfulness</th>\n",
              "      <th>cats_colorfulness</th>\n",
              "      <th>salePricelog</th>\n",
              "    </tr>\n",
              "  </thead>\n",
              "  <tbody>\n",
              "    <tr>\n",
              "      <th>0</th>\n",
              "      <td>0</td>\n",
              "      <td>46917102</td>\n",
              "      <td>Tiger Tooth</td>\n",
              "      <td>0</td>\n",
              "      <td>default</td>\n",
              "      <td>399.13</td>\n",
              "      <td>Knife</td>\n",
              "      <td>Bayonet</td>\n",
              "      <td>168</td>\n",
              "      <td>0.033243</td>\n",
              "      <td>Factory New</td>\n",
              "      <td>★</td>\n",
              "      <td>Covert</td>\n",
              "      <td>No Collection</td>\n",
              "      <td>0</td>\n",
              "      <td>0</td>\n",
              "      <td>0</td>\n",
              "      <td>59.790243</td>\n",
              "      <td>highly colorful</td>\n",
              "      <td>5.989287</td>\n",
              "    </tr>\n",
              "    <tr>\n",
              "      <th>1</th>\n",
              "      <td>1</td>\n",
              "      <td>60753316</td>\n",
              "      <td>Tiger Tooth</td>\n",
              "      <td>1</td>\n",
              "      <td>default</td>\n",
              "      <td>362.44</td>\n",
              "      <td>Knife</td>\n",
              "      <td>Bayonet</td>\n",
              "      <td>972</td>\n",
              "      <td>0.025035</td>\n",
              "      <td>Factory New</td>\n",
              "      <td>★ StatTrak™</td>\n",
              "      <td>Covert</td>\n",
              "      <td>No Collection</td>\n",
              "      <td>0</td>\n",
              "      <td>0</td>\n",
              "      <td>1</td>\n",
              "      <td>57.181995</td>\n",
              "      <td>quite colorful</td>\n",
              "      <td>5.892859</td>\n",
              "    </tr>\n",
              "    <tr>\n",
              "      <th>2</th>\n",
              "      <td>2</td>\n",
              "      <td>55716802</td>\n",
              "      <td>Tiger Tooth</td>\n",
              "      <td>0</td>\n",
              "      <td>default</td>\n",
              "      <td>400.00</td>\n",
              "      <td>Knife</td>\n",
              "      <td>Bayonet</td>\n",
              "      <td>455</td>\n",
              "      <td>0.006977</td>\n",
              "      <td>Factory New</td>\n",
              "      <td>★</td>\n",
              "      <td>Covert</td>\n",
              "      <td>No Collection</td>\n",
              "      <td>0</td>\n",
              "      <td>0</td>\n",
              "      <td>0</td>\n",
              "      <td>58.160273</td>\n",
              "      <td>quite colorful</td>\n",
              "      <td>5.991465</td>\n",
              "    </tr>\n",
              "    <tr>\n",
              "      <th>3</th>\n",
              "      <td>3</td>\n",
              "      <td>43496004</td>\n",
              "      <td>Tiger Tooth</td>\n",
              "      <td>0</td>\n",
              "      <td>default</td>\n",
              "      <td>420.73</td>\n",
              "      <td>Knife</td>\n",
              "      <td>Bayonet</td>\n",
              "      <td>397</td>\n",
              "      <td>0.006662</td>\n",
              "      <td>Factory New</td>\n",
              "      <td>★</td>\n",
              "      <td>Covert</td>\n",
              "      <td>No Collection</td>\n",
              "      <td>0</td>\n",
              "      <td>0</td>\n",
              "      <td>0</td>\n",
              "      <td>58.489647</td>\n",
              "      <td>quite colorful</td>\n",
              "      <td>6.041991</td>\n",
              "    </tr>\n",
              "    <tr>\n",
              "      <th>4</th>\n",
              "      <td>4</td>\n",
              "      <td>60829717</td>\n",
              "      <td>Tiger Tooth</td>\n",
              "      <td>1</td>\n",
              "      <td>default</td>\n",
              "      <td>355.00</td>\n",
              "      <td>Knife</td>\n",
              "      <td>Bayonet</td>\n",
              "      <td>627</td>\n",
              "      <td>0.062841</td>\n",
              "      <td>Factory New</td>\n",
              "      <td>★</td>\n",
              "      <td>Covert</td>\n",
              "      <td>No Collection</td>\n",
              "      <td>0</td>\n",
              "      <td>0</td>\n",
              "      <td>0</td>\n",
              "      <td>60.797777</td>\n",
              "      <td>highly colorful</td>\n",
              "      <td>5.872118</td>\n",
              "    </tr>\n",
              "  </tbody>\n",
              "</table>\n",
              "</div>\n",
              "      <button class=\"colab-df-convert\" onclick=\"convertToInteractive('df-5f059b1c-38ef-4d5c-8231-193e09239231')\"\n",
              "              title=\"Convert this dataframe to an interactive table.\"\n",
              "              style=\"display:none;\">\n",
              "        \n",
              "  <svg xmlns=\"http://www.w3.org/2000/svg\" height=\"24px\"viewBox=\"0 0 24 24\"\n",
              "       width=\"24px\">\n",
              "    <path d=\"M0 0h24v24H0V0z\" fill=\"none\"/>\n",
              "    <path d=\"M18.56 5.44l.94 2.06.94-2.06 2.06-.94-2.06-.94-.94-2.06-.94 2.06-2.06.94zm-11 1L8.5 8.5l.94-2.06 2.06-.94-2.06-.94L8.5 2.5l-.94 2.06-2.06.94zm10 10l.94 2.06.94-2.06 2.06-.94-2.06-.94-.94-2.06-.94 2.06-2.06.94z\"/><path d=\"M17.41 7.96l-1.37-1.37c-.4-.4-.92-.59-1.43-.59-.52 0-1.04.2-1.43.59L10.3 9.45l-7.72 7.72c-.78.78-.78 2.05 0 2.83L4 21.41c.39.39.9.59 1.41.59.51 0 1.02-.2 1.41-.59l7.78-7.78 2.81-2.81c.8-.78.8-2.07 0-2.86zM5.41 20L4 18.59l7.72-7.72 1.47 1.35L5.41 20z\"/>\n",
              "  </svg>\n",
              "      </button>\n",
              "      \n",
              "  <style>\n",
              "    .colab-df-container {\n",
              "      display:flex;\n",
              "      flex-wrap:wrap;\n",
              "      gap: 12px;\n",
              "    }\n",
              "\n",
              "    .colab-df-convert {\n",
              "      background-color: #E8F0FE;\n",
              "      border: none;\n",
              "      border-radius: 50%;\n",
              "      cursor: pointer;\n",
              "      display: none;\n",
              "      fill: #1967D2;\n",
              "      height: 32px;\n",
              "      padding: 0 0 0 0;\n",
              "      width: 32px;\n",
              "    }\n",
              "\n",
              "    .colab-df-convert:hover {\n",
              "      background-color: #E2EBFA;\n",
              "      box-shadow: 0px 1px 2px rgba(60, 64, 67, 0.3), 0px 1px 3px 1px rgba(60, 64, 67, 0.15);\n",
              "      fill: #174EA6;\n",
              "    }\n",
              "\n",
              "    [theme=dark] .colab-df-convert {\n",
              "      background-color: #3B4455;\n",
              "      fill: #D2E3FC;\n",
              "    }\n",
              "\n",
              "    [theme=dark] .colab-df-convert:hover {\n",
              "      background-color: #434B5C;\n",
              "      box-shadow: 0px 1px 3px 1px rgba(0, 0, 0, 0.15);\n",
              "      filter: drop-shadow(0px 1px 2px rgba(0, 0, 0, 0.3));\n",
              "      fill: #FFFFFF;\n",
              "    }\n",
              "  </style>\n",
              "\n",
              "      <script>\n",
              "        const buttonEl =\n",
              "          document.querySelector('#df-5f059b1c-38ef-4d5c-8231-193e09239231 button.colab-df-convert');\n",
              "        buttonEl.style.display =\n",
              "          google.colab.kernel.accessAllowed ? 'block' : 'none';\n",
              "\n",
              "        async function convertToInteractive(key) {\n",
              "          const element = document.querySelector('#df-5f059b1c-38ef-4d5c-8231-193e09239231');\n",
              "          const dataTable =\n",
              "            await google.colab.kernel.invokeFunction('convertToInteractive',\n",
              "                                                     [key], {});\n",
              "          if (!dataTable) return;\n",
              "\n",
              "          const docLinkHtml = 'Like what you see? Visit the ' +\n",
              "            '<a target=\"_blank\" href=https://colab.research.google.com/notebooks/data_table.ipynb>data table notebook</a>'\n",
              "            + ' to learn more about interactive tables.';\n",
              "          element.innerHTML = '';\n",
              "          dataTable['output_type'] = 'display_data';\n",
              "          await google.colab.output.renderOutput(dataTable, element);\n",
              "          const docLink = document.createElement('div');\n",
              "          docLink.innerHTML = docLinkHtml;\n",
              "          element.appendChild(docLink);\n",
              "        }\n",
              "      </script>\n",
              "    </div>\n",
              "  </div>\n",
              "  "
            ]
          },
          "metadata": {},
          "execution_count": 5
        }
      ]
    },
    {
      "cell_type": "code",
      "source": [
        "# ordinal\n",
        "dum_exterior = pd.get_dummies(data.exterior, prefix='ext')\n",
        "dum_rarity = pd.get_dummies(data.rarity, prefix='rar')\n",
        "dum_color = pd.get_dummies(data.cats_colorfulness, prefix='color')\n",
        "\n",
        "# nominal\n",
        "dum_fam = pd.get_dummies(data.family, prefix='fam')\n",
        "dum_version = pd.get_dummies(data.version, prefix='vers')\n",
        "dum_cat = pd.get_dummies(data.category, prefix='cat')\n",
        "dum_subCat = pd.get_dummies(data.subCategory, prefix='subCat')\n",
        "dum_quality = pd.get_dummies(data.quality, prefix='qual')\n",
        "dum_coll = pd.get_dummies(data.collection, prefix='col')"
      ],
      "metadata": {
        "id": "Z2GDuwAPkz2j"
      },
      "execution_count": 6,
      "outputs": []
    },
    {
      "cell_type": "code",
      "source": [
        "datalist = [dum_exterior, dum_rarity, dum_color, dum_fam, dum_version, dum_cat, dum_subCat, dum_quality, dum_coll]"
      ],
      "metadata": {
        "id": "NhB4dlGBk0Ve"
      },
      "execution_count": 7,
      "outputs": []
    },
    {
      "cell_type": "code",
      "source": [
        "all_categorical_data = pd.concat(datalist, axis = 1)"
      ],
      "metadata": {
        "id": "MhF8vGzQk0jp"
      },
      "execution_count": 8,
      "outputs": []
    },
    {
      "cell_type": "code",
      "source": [
        "all_categorical_data"
      ],
      "metadata": {
        "colab": {
          "base_uri": "https://localhost:8080/",
          "height": 557
        },
        "id": "c0T5bd-zk0wE",
        "outputId": "ba3f8a1e-c0b3-4e53-bf69-c611c1d5cf79"
      },
      "execution_count": 9,
      "outputs": [
        {
          "output_type": "execute_result",
          "data": {
            "text/plain": [
              "       ext_Battle-Scarred  ext_Factory New  ext_Field-Tested  \\\n",
              "0                       0                1                 0   \n",
              "1                       0                1                 0   \n",
              "2                       0                1                 0   \n",
              "3                       0                1                 0   \n",
              "4                       0                1                 0   \n",
              "...                   ...              ...               ...   \n",
              "27455                   0                0                 1   \n",
              "27456                   0                0                 1   \n",
              "27457                   0                0                 1   \n",
              "27458                   0                0                 1   \n",
              "27459                   0                0                 1   \n",
              "\n",
              "       ext_Minimal Wear  ext_Well-Worn  rar_Classified  rar_Consumer Grade  \\\n",
              "0                     0              0               0                   0   \n",
              "1                     0              0               0                   0   \n",
              "2                     0              0               0                   0   \n",
              "3                     0              0               0                   0   \n",
              "4                     0              0               0                   0   \n",
              "...                 ...            ...             ...                 ...   \n",
              "27455                 0              0               0                   0   \n",
              "27456                 0              0               0                   0   \n",
              "27457                 0              0               0                   0   \n",
              "27458                 0              0               0                   0   \n",
              "27459                 0              0               0                   0   \n",
              "\n",
              "       rar_Covert  rar_Extraordinary  rar_Industrial Grade  ...  \\\n",
              "0               1                  0                     0  ...   \n",
              "1               1                  0                     0  ...   \n",
              "2               1                  0                     0  ...   \n",
              "3               1                  0                     0  ...   \n",
              "4               1                  0                     0  ...   \n",
              "...           ...                ...                   ...  ...   \n",
              "27455           0                  1                     0  ...   \n",
              "27456           0                  1                     0  ...   \n",
              "27457           0                  1                     0  ...   \n",
              "27458           0                  1                     0  ...   \n",
              "27459           0                  1                     0  ...   \n",
              "\n",
              "       col_The St. Marc Collection  col_The Train Collection  \\\n",
              "0                                0                         0   \n",
              "1                                0                         0   \n",
              "2                                0                         0   \n",
              "3                                0                         0   \n",
              "4                                0                         0   \n",
              "...                            ...                       ...   \n",
              "27455                            0                         0   \n",
              "27456                            0                         0   \n",
              "27457                            0                         0   \n",
              "27458                            0                         0   \n",
              "27459                            0                         0   \n",
              "\n",
              "       col_The Vanguard Collection  col_The Vertigo Collection  \\\n",
              "0                                0                           0   \n",
              "1                                0                           0   \n",
              "2                                0                           0   \n",
              "3                                0                           0   \n",
              "4                                0                           0   \n",
              "...                            ...                         ...   \n",
              "27455                            0                           0   \n",
              "27456                            0                           0   \n",
              "27457                            0                           0   \n",
              "27458                            0                           0   \n",
              "27459                            0                           0   \n",
              "\n",
              "       col_The Wildfire Collection  col_The Winter Offensive Collection  \\\n",
              "0                                0                                    0   \n",
              "1                                0                                    0   \n",
              "2                                0                                    0   \n",
              "3                                0                                    0   \n",
              "4                                0                                    0   \n",
              "...                            ...                                  ...   \n",
              "27455                            0                                    0   \n",
              "27456                            0                                    0   \n",
              "27457                            0                                    0   \n",
              "27458                            0                                    0   \n",
              "27459                            0                                    0   \n",
              "\n",
              "       col_The X-Ray Collection  col_The eSports 2013 Collection  \\\n",
              "0                             0                                0   \n",
              "1                             0                                0   \n",
              "2                             0                                0   \n",
              "3                             0                                0   \n",
              "4                             0                                0   \n",
              "...                         ...                              ...   \n",
              "27455                         0                                0   \n",
              "27456                         0                                0   \n",
              "27457                         0                                0   \n",
              "27458                         0                                0   \n",
              "27459                         0                                0   \n",
              "\n",
              "       col_The eSports 2013 Winter Collection  \\\n",
              "0                                           0   \n",
              "1                                           0   \n",
              "2                                           0   \n",
              "3                                           0   \n",
              "4                                           0   \n",
              "...                                       ...   \n",
              "27455                                       0   \n",
              "27456                                       0   \n",
              "27457                                       0   \n",
              "27458                                       0   \n",
              "27459                                       0   \n",
              "\n",
              "       col_The eSports 2014 Summer Collection  \n",
              "0                                           0  \n",
              "1                                           0  \n",
              "2                                           0  \n",
              "3                                           0  \n",
              "4                                           0  \n",
              "...                                       ...  \n",
              "27455                                       0  \n",
              "27456                                       0  \n",
              "27457                                       0  \n",
              "27458                                       0  \n",
              "27459                                       0  \n",
              "\n",
              "[27460 rows x 1003 columns]"
            ],
            "text/html": [
              "\n",
              "  <div id=\"df-171b60a3-212a-4db3-869b-f458680b5ad2\">\n",
              "    <div class=\"colab-df-container\">\n",
              "      <div>\n",
              "<style scoped>\n",
              "    .dataframe tbody tr th:only-of-type {\n",
              "        vertical-align: middle;\n",
              "    }\n",
              "\n",
              "    .dataframe tbody tr th {\n",
              "        vertical-align: top;\n",
              "    }\n",
              "\n",
              "    .dataframe thead th {\n",
              "        text-align: right;\n",
              "    }\n",
              "</style>\n",
              "<table border=\"1\" class=\"dataframe\">\n",
              "  <thead>\n",
              "    <tr style=\"text-align: right;\">\n",
              "      <th></th>\n",
              "      <th>ext_Battle-Scarred</th>\n",
              "      <th>ext_Factory New</th>\n",
              "      <th>ext_Field-Tested</th>\n",
              "      <th>ext_Minimal Wear</th>\n",
              "      <th>ext_Well-Worn</th>\n",
              "      <th>rar_Classified</th>\n",
              "      <th>rar_Consumer Grade</th>\n",
              "      <th>rar_Covert</th>\n",
              "      <th>rar_Extraordinary</th>\n",
              "      <th>rar_Industrial Grade</th>\n",
              "      <th>...</th>\n",
              "      <th>col_The St. Marc Collection</th>\n",
              "      <th>col_The Train Collection</th>\n",
              "      <th>col_The Vanguard Collection</th>\n",
              "      <th>col_The Vertigo Collection</th>\n",
              "      <th>col_The Wildfire Collection</th>\n",
              "      <th>col_The Winter Offensive Collection</th>\n",
              "      <th>col_The X-Ray Collection</th>\n",
              "      <th>col_The eSports 2013 Collection</th>\n",
              "      <th>col_The eSports 2013 Winter Collection</th>\n",
              "      <th>col_The eSports 2014 Summer Collection</th>\n",
              "    </tr>\n",
              "  </thead>\n",
              "  <tbody>\n",
              "    <tr>\n",
              "      <th>0</th>\n",
              "      <td>0</td>\n",
              "      <td>1</td>\n",
              "      <td>0</td>\n",
              "      <td>0</td>\n",
              "      <td>0</td>\n",
              "      <td>0</td>\n",
              "      <td>0</td>\n",
              "      <td>1</td>\n",
              "      <td>0</td>\n",
              "      <td>0</td>\n",
              "      <td>...</td>\n",
              "      <td>0</td>\n",
              "      <td>0</td>\n",
              "      <td>0</td>\n",
              "      <td>0</td>\n",
              "      <td>0</td>\n",
              "      <td>0</td>\n",
              "      <td>0</td>\n",
              "      <td>0</td>\n",
              "      <td>0</td>\n",
              "      <td>0</td>\n",
              "    </tr>\n",
              "    <tr>\n",
              "      <th>1</th>\n",
              "      <td>0</td>\n",
              "      <td>1</td>\n",
              "      <td>0</td>\n",
              "      <td>0</td>\n",
              "      <td>0</td>\n",
              "      <td>0</td>\n",
              "      <td>0</td>\n",
              "      <td>1</td>\n",
              "      <td>0</td>\n",
              "      <td>0</td>\n",
              "      <td>...</td>\n",
              "      <td>0</td>\n",
              "      <td>0</td>\n",
              "      <td>0</td>\n",
              "      <td>0</td>\n",
              "      <td>0</td>\n",
              "      <td>0</td>\n",
              "      <td>0</td>\n",
              "      <td>0</td>\n",
              "      <td>0</td>\n",
              "      <td>0</td>\n",
              "    </tr>\n",
              "    <tr>\n",
              "      <th>2</th>\n",
              "      <td>0</td>\n",
              "      <td>1</td>\n",
              "      <td>0</td>\n",
              "      <td>0</td>\n",
              "      <td>0</td>\n",
              "      <td>0</td>\n",
              "      <td>0</td>\n",
              "      <td>1</td>\n",
              "      <td>0</td>\n",
              "      <td>0</td>\n",
              "      <td>...</td>\n",
              "      <td>0</td>\n",
              "      <td>0</td>\n",
              "      <td>0</td>\n",
              "      <td>0</td>\n",
              "      <td>0</td>\n",
              "      <td>0</td>\n",
              "      <td>0</td>\n",
              "      <td>0</td>\n",
              "      <td>0</td>\n",
              "      <td>0</td>\n",
              "    </tr>\n",
              "    <tr>\n",
              "      <th>3</th>\n",
              "      <td>0</td>\n",
              "      <td>1</td>\n",
              "      <td>0</td>\n",
              "      <td>0</td>\n",
              "      <td>0</td>\n",
              "      <td>0</td>\n",
              "      <td>0</td>\n",
              "      <td>1</td>\n",
              "      <td>0</td>\n",
              "      <td>0</td>\n",
              "      <td>...</td>\n",
              "      <td>0</td>\n",
              "      <td>0</td>\n",
              "      <td>0</td>\n",
              "      <td>0</td>\n",
              "      <td>0</td>\n",
              "      <td>0</td>\n",
              "      <td>0</td>\n",
              "      <td>0</td>\n",
              "      <td>0</td>\n",
              "      <td>0</td>\n",
              "    </tr>\n",
              "    <tr>\n",
              "      <th>4</th>\n",
              "      <td>0</td>\n",
              "      <td>1</td>\n",
              "      <td>0</td>\n",
              "      <td>0</td>\n",
              "      <td>0</td>\n",
              "      <td>0</td>\n",
              "      <td>0</td>\n",
              "      <td>1</td>\n",
              "      <td>0</td>\n",
              "      <td>0</td>\n",
              "      <td>...</td>\n",
              "      <td>0</td>\n",
              "      <td>0</td>\n",
              "      <td>0</td>\n",
              "      <td>0</td>\n",
              "      <td>0</td>\n",
              "      <td>0</td>\n",
              "      <td>0</td>\n",
              "      <td>0</td>\n",
              "      <td>0</td>\n",
              "      <td>0</td>\n",
              "    </tr>\n",
              "    <tr>\n",
              "      <th>...</th>\n",
              "      <td>...</td>\n",
              "      <td>...</td>\n",
              "      <td>...</td>\n",
              "      <td>...</td>\n",
              "      <td>...</td>\n",
              "      <td>...</td>\n",
              "      <td>...</td>\n",
              "      <td>...</td>\n",
              "      <td>...</td>\n",
              "      <td>...</td>\n",
              "      <td>...</td>\n",
              "      <td>...</td>\n",
              "      <td>...</td>\n",
              "      <td>...</td>\n",
              "      <td>...</td>\n",
              "      <td>...</td>\n",
              "      <td>...</td>\n",
              "      <td>...</td>\n",
              "      <td>...</td>\n",
              "      <td>...</td>\n",
              "      <td>...</td>\n",
              "    </tr>\n",
              "    <tr>\n",
              "      <th>27455</th>\n",
              "      <td>0</td>\n",
              "      <td>0</td>\n",
              "      <td>1</td>\n",
              "      <td>0</td>\n",
              "      <td>0</td>\n",
              "      <td>0</td>\n",
              "      <td>0</td>\n",
              "      <td>0</td>\n",
              "      <td>1</td>\n",
              "      <td>0</td>\n",
              "      <td>...</td>\n",
              "      <td>0</td>\n",
              "      <td>0</td>\n",
              "      <td>0</td>\n",
              "      <td>0</td>\n",
              "      <td>0</td>\n",
              "      <td>0</td>\n",
              "      <td>0</td>\n",
              "      <td>0</td>\n",
              "      <td>0</td>\n",
              "      <td>0</td>\n",
              "    </tr>\n",
              "    <tr>\n",
              "      <th>27456</th>\n",
              "      <td>0</td>\n",
              "      <td>0</td>\n",
              "      <td>1</td>\n",
              "      <td>0</td>\n",
              "      <td>0</td>\n",
              "      <td>0</td>\n",
              "      <td>0</td>\n",
              "      <td>0</td>\n",
              "      <td>1</td>\n",
              "      <td>0</td>\n",
              "      <td>...</td>\n",
              "      <td>0</td>\n",
              "      <td>0</td>\n",
              "      <td>0</td>\n",
              "      <td>0</td>\n",
              "      <td>0</td>\n",
              "      <td>0</td>\n",
              "      <td>0</td>\n",
              "      <td>0</td>\n",
              "      <td>0</td>\n",
              "      <td>0</td>\n",
              "    </tr>\n",
              "    <tr>\n",
              "      <th>27457</th>\n",
              "      <td>0</td>\n",
              "      <td>0</td>\n",
              "      <td>1</td>\n",
              "      <td>0</td>\n",
              "      <td>0</td>\n",
              "      <td>0</td>\n",
              "      <td>0</td>\n",
              "      <td>0</td>\n",
              "      <td>1</td>\n",
              "      <td>0</td>\n",
              "      <td>...</td>\n",
              "      <td>0</td>\n",
              "      <td>0</td>\n",
              "      <td>0</td>\n",
              "      <td>0</td>\n",
              "      <td>0</td>\n",
              "      <td>0</td>\n",
              "      <td>0</td>\n",
              "      <td>0</td>\n",
              "      <td>0</td>\n",
              "      <td>0</td>\n",
              "    </tr>\n",
              "    <tr>\n",
              "      <th>27458</th>\n",
              "      <td>0</td>\n",
              "      <td>0</td>\n",
              "      <td>1</td>\n",
              "      <td>0</td>\n",
              "      <td>0</td>\n",
              "      <td>0</td>\n",
              "      <td>0</td>\n",
              "      <td>0</td>\n",
              "      <td>1</td>\n",
              "      <td>0</td>\n",
              "      <td>...</td>\n",
              "      <td>0</td>\n",
              "      <td>0</td>\n",
              "      <td>0</td>\n",
              "      <td>0</td>\n",
              "      <td>0</td>\n",
              "      <td>0</td>\n",
              "      <td>0</td>\n",
              "      <td>0</td>\n",
              "      <td>0</td>\n",
              "      <td>0</td>\n",
              "    </tr>\n",
              "    <tr>\n",
              "      <th>27459</th>\n",
              "      <td>0</td>\n",
              "      <td>0</td>\n",
              "      <td>1</td>\n",
              "      <td>0</td>\n",
              "      <td>0</td>\n",
              "      <td>0</td>\n",
              "      <td>0</td>\n",
              "      <td>0</td>\n",
              "      <td>1</td>\n",
              "      <td>0</td>\n",
              "      <td>...</td>\n",
              "      <td>0</td>\n",
              "      <td>0</td>\n",
              "      <td>0</td>\n",
              "      <td>0</td>\n",
              "      <td>0</td>\n",
              "      <td>0</td>\n",
              "      <td>0</td>\n",
              "      <td>0</td>\n",
              "      <td>0</td>\n",
              "      <td>0</td>\n",
              "    </tr>\n",
              "  </tbody>\n",
              "</table>\n",
              "<p>27460 rows × 1003 columns</p>\n",
              "</div>\n",
              "      <button class=\"colab-df-convert\" onclick=\"convertToInteractive('df-171b60a3-212a-4db3-869b-f458680b5ad2')\"\n",
              "              title=\"Convert this dataframe to an interactive table.\"\n",
              "              style=\"display:none;\">\n",
              "        \n",
              "  <svg xmlns=\"http://www.w3.org/2000/svg\" height=\"24px\"viewBox=\"0 0 24 24\"\n",
              "       width=\"24px\">\n",
              "    <path d=\"M0 0h24v24H0V0z\" fill=\"none\"/>\n",
              "    <path d=\"M18.56 5.44l.94 2.06.94-2.06 2.06-.94-2.06-.94-.94-2.06-.94 2.06-2.06.94zm-11 1L8.5 8.5l.94-2.06 2.06-.94-2.06-.94L8.5 2.5l-.94 2.06-2.06.94zm10 10l.94 2.06.94-2.06 2.06-.94-2.06-.94-.94-2.06-.94 2.06-2.06.94z\"/><path d=\"M17.41 7.96l-1.37-1.37c-.4-.4-.92-.59-1.43-.59-.52 0-1.04.2-1.43.59L10.3 9.45l-7.72 7.72c-.78.78-.78 2.05 0 2.83L4 21.41c.39.39.9.59 1.41.59.51 0 1.02-.2 1.41-.59l7.78-7.78 2.81-2.81c.8-.78.8-2.07 0-2.86zM5.41 20L4 18.59l7.72-7.72 1.47 1.35L5.41 20z\"/>\n",
              "  </svg>\n",
              "      </button>\n",
              "      \n",
              "  <style>\n",
              "    .colab-df-container {\n",
              "      display:flex;\n",
              "      flex-wrap:wrap;\n",
              "      gap: 12px;\n",
              "    }\n",
              "\n",
              "    .colab-df-convert {\n",
              "      background-color: #E8F0FE;\n",
              "      border: none;\n",
              "      border-radius: 50%;\n",
              "      cursor: pointer;\n",
              "      display: none;\n",
              "      fill: #1967D2;\n",
              "      height: 32px;\n",
              "      padding: 0 0 0 0;\n",
              "      width: 32px;\n",
              "    }\n",
              "\n",
              "    .colab-df-convert:hover {\n",
              "      background-color: #E2EBFA;\n",
              "      box-shadow: 0px 1px 2px rgba(60, 64, 67, 0.3), 0px 1px 3px 1px rgba(60, 64, 67, 0.15);\n",
              "      fill: #174EA6;\n",
              "    }\n",
              "\n",
              "    [theme=dark] .colab-df-convert {\n",
              "      background-color: #3B4455;\n",
              "      fill: #D2E3FC;\n",
              "    }\n",
              "\n",
              "    [theme=dark] .colab-df-convert:hover {\n",
              "      background-color: #434B5C;\n",
              "      box-shadow: 0px 1px 3px 1px rgba(0, 0, 0, 0.15);\n",
              "      filter: drop-shadow(0px 1px 2px rgba(0, 0, 0, 0.3));\n",
              "      fill: #FFFFFF;\n",
              "    }\n",
              "  </style>\n",
              "\n",
              "      <script>\n",
              "        const buttonEl =\n",
              "          document.querySelector('#df-171b60a3-212a-4db3-869b-f458680b5ad2 button.colab-df-convert');\n",
              "        buttonEl.style.display =\n",
              "          google.colab.kernel.accessAllowed ? 'block' : 'none';\n",
              "\n",
              "        async function convertToInteractive(key) {\n",
              "          const element = document.querySelector('#df-171b60a3-212a-4db3-869b-f458680b5ad2');\n",
              "          const dataTable =\n",
              "            await google.colab.kernel.invokeFunction('convertToInteractive',\n",
              "                                                     [key], {});\n",
              "          if (!dataTable) return;\n",
              "\n",
              "          const docLinkHtml = 'Like what you see? Visit the ' +\n",
              "            '<a target=\"_blank\" href=https://colab.research.google.com/notebooks/data_table.ipynb>data table notebook</a>'\n",
              "            + ' to learn more about interactive tables.';\n",
              "          element.innerHTML = '';\n",
              "          dataTable['output_type'] = 'display_data';\n",
              "          await google.colab.output.renderOutput(dataTable, element);\n",
              "          const docLink = document.createElement('div');\n",
              "          docLink.innerHTML = docLinkHtml;\n",
              "          element.appendChild(docLink);\n",
              "        }\n",
              "      </script>\n",
              "    </div>\n",
              "  </div>\n",
              "  "
            ]
          },
          "metadata": {},
          "execution_count": 9
        }
      ]
    },
    {
      "cell_type": "code",
      "source": [
        "all_numerical_data = data[['lock', 'pattern', 'wear', 'stickers', 'souvenir', 'stattrak', 'colorfulness']]"
      ],
      "metadata": {
        "id": "eBZEIEPhk07-"
      },
      "execution_count": 10,
      "outputs": []
    },
    {
      "cell_type": "code",
      "source": [
        "all_data = pd.concat([all_categorical_data, all_numerical_data], axis = 1)"
      ],
      "metadata": {
        "id": "unUUSnpvk1IF"
      },
      "execution_count": 11,
      "outputs": []
    },
    {
      "cell_type": "code",
      "source": [
        "cols = all_data.columns"
      ],
      "metadata": {
        "id": "-nJpWc8Lk1a4"
      },
      "execution_count": 12,
      "outputs": []
    },
    {
      "cell_type": "code",
      "source": [
        "y = data['salePricelog']\n",
        "X = all_data[cols]"
      ],
      "metadata": {
        "id": "PjLwx7KDqhyp"
      },
      "execution_count": 13,
      "outputs": []
    },
    {
      "cell_type": "code",
      "source": [
        "model_lr = LinearRegression()"
      ],
      "metadata": {
        "id": "FtXLkg6HqiEa"
      },
      "execution_count": 14,
      "outputs": []
    },
    {
      "cell_type": "code",
      "source": [
        "X = sm.add_constant(X)"
      ],
      "metadata": {
        "colab": {
          "base_uri": "https://localhost:8080/"
        },
        "id": "zOX9UjXyqiV7",
        "outputId": "9234c9cf-a8ff-4a40-c6db-6bd12004f224"
      },
      "execution_count": 15,
      "outputs": [
        {
          "output_type": "stream",
          "name": "stderr",
          "text": [
            "/usr/local/lib/python3.7/dist-packages/statsmodels/tsa/tsatools.py:117: FutureWarning: In a future version of pandas all arguments of concat except for the argument 'objs' will be keyword-only\n",
            "  x = pd.concat(x[::order], 1)\n"
          ]
        }
      ]
    },
    {
      "cell_type": "code",
      "source": [
        "model = sm.OLS(y,X)\n",
        "results = model.fit()"
      ],
      "metadata": {
        "id": "T4-GDfb3qitC"
      },
      "execution_count": 16,
      "outputs": []
    },
    {
      "cell_type": "code",
      "source": [
        "print(results.summary())"
      ],
      "metadata": {
        "colab": {
          "base_uri": "https://localhost:8080/"
        },
        "id": "UXJlBCL3qvX9",
        "outputId": "b7271771-f2cd-4472-c8cc-8c4269d8794a"
      },
      "execution_count": 17,
      "outputs": [
        {
          "output_type": "stream",
          "name": "stdout",
          "text": [
            "                            OLS Regression Results                            \n",
            "==============================================================================\n",
            "Dep. Variable:           salePricelog   R-squared:                       0.878\n",
            "Model:                            OLS   Adj. R-squared:                  0.873\n",
            "Method:                 Least Squares   F-statistic:                     194.3\n",
            "Date:                Thu, 05 May 2022   Prob (F-statistic):               0.00\n",
            "Time:                        15:55:56   Log-Likelihood:                -21083.\n",
            "No. Observations:               27460   AIC:                         4.413e+04\n",
            "Df Residuals:                   26480   BIC:                         5.218e+04\n",
            "Df Model:                         979                                         \n",
            "Covariance Type:            nonrobust                                         \n",
            "============================================================================================================\n",
            "                                               coef    std err          t      P>|t|      [0.025      0.975]\n",
            "------------------------------------------------------------------------------------------------------------\n",
            "const                                        1.8516      0.058     31.931      0.000       1.738       1.965\n",
            "ext_Battle-Scarred                           0.2990      0.030     10.028      0.000       0.241       0.357\n",
            "ext_Factory New                              0.7445      0.020     38.009      0.000       0.706       0.783\n",
            "ext_Field-Tested                             0.1942      0.014     14.364      0.000       0.168       0.221\n",
            "ext_Minimal Wear                             0.4116      0.017     24.601      0.000       0.379       0.444\n",
            "ext_Well-Worn                                0.2023      0.020     10.303      0.000       0.164       0.241\n",
            "rar_Classified                               0.7095      0.057     12.358      0.000       0.597       0.822\n",
            "rar_Consumer Grade                          -0.1871      0.144     -1.300      0.194      -0.469       0.095\n",
            "rar_Covert                                   1.3875      0.095     14.634      0.000       1.202       1.573\n",
            "rar_Extraordinary                            0.8358      0.044     18.927      0.000       0.749       0.922\n",
            "rar_Industrial Grade                        -0.6999      0.078     -8.998      0.000      -0.852      -0.547\n",
            "rar_Mil-Spec Grade                          -0.3064      0.053     -5.783      0.000      -0.410      -0.203\n",
            "rar_Restricted                               0.1122      0.063      1.777      0.076      -0.012       0.236\n",
            "color_averagely colorful                     0.3202      0.033      9.624      0.000       0.255       0.385\n",
            "color_extemely colorful                      0.2426      0.147      1.653      0.098      -0.045       0.530\n",
            "color_highly colorful                        0.1202      0.049      2.451      0.014       0.024       0.216\n",
            "color_moderately colorful                    0.4133      0.037     11.255      0.000       0.341       0.485\n",
            "color_quite colorful                         0.3318      0.035      9.385      0.000       0.263       0.401\n",
            "color_slightly colorful                      0.4235      0.044      9.691      0.000       0.338       0.509\n",
            "fam_3rd Commando Company                    -0.6992      0.125     -5.606      0.000      -0.944      -0.455\n",
            "fam_Abyss                                    0.8069      0.288      2.797      0.005       0.241       1.372\n",
            "fam_Abyssal Apparition                       0.3066      0.180      1.705      0.088      -0.046       0.659\n",
            "fam_Acheron                                 -0.7046      0.235     -3.003      0.003      -1.164      -0.245\n",
            "fam_Acid Etched                             -0.4864      0.365     -1.334      0.182      -1.201       0.228\n",
            "fam_Acid Fade                               -1.3834      0.394     -3.511      0.000      -2.156      -0.611\n",
            "fam_Aerial                                   0.4615      0.347      1.331      0.183      -0.218       1.141\n",
            "fam_Afterimage                               0.7321      0.263      2.785      0.005       0.217       1.247\n",
            "fam_Agent                                    0.1334      0.459      0.290      0.771      -0.767       1.034\n",
            "fam_Airlock                                  0.5808      0.303      1.914      0.056      -0.014       1.176\n",
            "fam_Akihabara Accept                         3.2703      0.361      9.054      0.000       2.562       3.978\n",
            "fam_Akoben                                   0.2874      0.286      1.005      0.315      -0.273       0.848\n",
            "fam_Allure                                   2.2633      0.360      6.293      0.000       1.558       2.968\n",
            "fam_Aloha                                    0.4347      0.289      1.502      0.133      -0.133       1.002\n",
            "fam_Amber Fade                              -0.6950      0.155     -4.496      0.000      -0.998      -0.392\n",
            "fam_Amphibious                              -0.2325      0.559     -0.416      0.677      -1.328       0.863\n",
            "fam_Ancient Lore                             0.7251      0.358      2.025      0.043       0.023       1.427\n",
            "fam_Ancient Ritual                           0.1237      0.445      0.278      0.781      -0.749       0.997\n",
            "fam_Ancient Visions                          1.1712      0.201      5.819      0.000       0.777       1.566\n",
            "fam_Angry Mob                               -1.4510      0.229     -6.339      0.000      -1.900      -1.002\n",
            "fam_Anodized Navy                           -0.5945      0.262     -2.269      0.023      -1.108      -0.081\n",
            "fam_Anolis                                  -2.4324      0.607     -4.010      0.000      -3.621      -1.244\n",
            "fam_Antique                                 -1.9153      0.172    -11.110      0.000      -2.253      -1.577\n",
            "fam_Apocalypto                              -0.5138      0.374     -1.375      0.169      -1.246       0.218\n",
            "fam_Aqua Terrace                             2.0513      0.622      3.297      0.001       0.832       3.271\n",
            "fam_Aquamarine Revenge                      -0.8764      0.169     -5.179      0.000      -1.208      -0.545\n",
            "fam_Arboreal                                -0.7844      0.174     -4.509      0.000      -1.125      -0.443\n",
            "fam_Arctic Wolf                             -0.4698      0.198     -2.373      0.018      -0.858      -0.082\n",
            "fam_Arid                                    -0.9628      0.594     -1.621      0.105      -2.127       0.201\n",
            "fam_Aristocrat                              -0.1410      0.353     -0.400      0.689      -0.833       0.551\n",
            "fam_Armor Core                               1.0909      0.555      1.965      0.049       0.003       2.179\n",
            "fam_Army Sheen                              -0.2768      0.252     -1.097      0.273      -0.772       0.218\n",
            "fam_Ash Wood                                -0.8564      0.264     -3.246      0.001      -1.373      -0.339\n",
            "fam_Asiimov                                  0.0418      0.106      0.394      0.694      -0.166       0.250\n",
            "fam_Assault                                  0.1522      0.380      0.401      0.688      -0.592       0.896\n",
            "fam_Astral Jörmungandr                       0.2775      0.286      0.969      0.333      -0.284       0.839\n",
            "fam_Atheris                                 -0.8381      0.196     -4.265      0.000      -1.223      -0.453\n",
            "fam_Atlas                                    0.1894      0.362      0.523      0.601      -0.520       0.899\n",
            "fam_Atomic Alloy                            -0.7043      0.224     -3.150      0.002      -1.143      -0.266\n",
            "fam_Autotronic                               0.6301      0.075      8.405      0.000       0.483       0.777\n",
            "fam_Autumn Twilly                            1.4420      0.465      3.104      0.002       0.531       2.353\n",
            "fam_Avalanche                                1.3699      0.339      4.037      0.000       0.705       2.035\n",
            "fam_Aztec                                    0.6581      0.678      0.971      0.331      -0.670       1.986\n",
            "fam_Azure Zebra                             -0.5010      0.484     -1.035      0.301      -1.450       0.448\n",
            "fam_BI83 Spectrum                            1.3112      0.536      2.446      0.014       0.260       2.362\n",
            "fam_BOOM                                    -0.0130      0.634     -0.020      0.984      -1.256       1.230\n",
            "fam_Badlands                                -0.6373      0.206     -3.089      0.002      -1.042      -0.233\n",
            "fam_Bamboo Forest                           -0.0862      0.364     -0.237      0.813      -0.799       0.626\n",
            "fam_Bamboo Print                            -0.1440      0.516     -0.279      0.780      -1.155       0.867\n",
            "fam_Bamboozle                                0.2026      0.350      0.579      0.563      -0.483       0.889\n",
            "fam_Banana Leaf                             -1.3080      0.360     -3.633      0.000      -2.014      -0.602\n",
            "fam_Baroque Orange                           0.4381      0.326      1.344      0.179      -0.201       1.077\n",
            "fam_Baroque Purple                          -1.4689      0.212     -6.935      0.000      -1.884      -1.054\n",
            "fam_Baroque Red                             -0.5972      0.438     -1.364      0.173      -1.455       0.261\n",
            "fam_Barricade                               -1.7149      0.410     -4.182      0.000      -2.519      -0.911\n",
            "fam_Basilisk                                -0.2094      0.228     -0.920      0.358      -0.656       0.237\n",
            "fam_Bengal Tiger                            -0.5737      0.163     -3.511      0.000      -0.894      -0.253\n",
            "fam_Berries And Cherries                    -0.6812      0.199     -3.430      0.001      -1.070      -0.292\n",
            "fam_Big Game                                -0.9720      0.563     -1.728      0.084      -2.075       0.131\n",
            "fam_Big Iron                                 0.6216      0.772      0.805      0.421      -0.892       2.135\n",
            "fam_Bioleak                                  0.6418      0.570      1.126      0.260      -0.476       1.759\n",
            "fam_Black Laminate                           0.4766      0.076      6.236      0.000       0.327       0.626\n",
            "fam_Black Limba                             -1.1326      0.390     -2.904      0.004      -1.897      -0.368\n",
            "fam_Black Lotus                             -0.4735      0.168     -2.825      0.005      -0.802      -0.145\n",
            "fam_Black Sand                               0.3490      0.259      1.345      0.179      -0.159       0.857\n",
            "fam_Black Tie                                0.7714      0.094      8.247      0.000       0.588       0.955\n",
            "fam_Blast From the Past                      0.4589      0.224      2.047      0.041       0.019       0.898\n",
            "fam_Blaze                                    0.4812      0.154      3.124      0.002       0.179       0.783\n",
            "fam_Blaze Orange                             2.3607      0.902      2.616      0.009       0.592       4.129\n",
            "fam_Bleached                                -0.5714      0.432     -1.323      0.186      -1.418       0.275\n",
            "fam_Blind Spot                               0.0066      0.247      0.027      0.979      -0.477       0.490\n",
            "fam_Blood Pressure                           0.0760      0.096      0.791      0.429      -0.112       0.264\n",
            "fam_Blood Tiger                              0.2257      0.140      1.608      0.108      -0.049       0.501\n",
            "fam_Blood in the Water                      -0.9317      0.277     -3.369      0.001      -1.474      -0.390\n",
            "fam_Bloodshot                               -1.4065      0.319     -4.412      0.000      -2.031      -0.782\n",
            "fam_Bloodsport                              -0.3662      0.118     -3.105      0.002      -0.597      -0.135\n",
            "fam_Bloomstick                              -0.2887      0.315     -0.917      0.359      -0.906       0.329\n",
            "fam_Blue Fissure                             1.2155      0.293      4.146      0.000       0.641       1.790\n",
            "fam_Blue Laminate                           -0.1831      0.198     -0.924      0.356      -0.572       0.205\n",
            "fam_Blue Phosphor                           -0.1432      0.172     -0.834      0.404      -0.480       0.194\n",
            "fam_Blue Ply                                -0.3881      0.368     -1.054      0.292      -1.110       0.334\n",
            "fam_Blue Spruce                              1.0957      0.503      2.179      0.029       0.110       2.081\n",
            "fam_Blue Steel                               0.1412      0.073      1.934      0.053      -0.002       0.284\n",
            "fam_Blue Streak                             -1.0171      0.422     -2.411      0.016      -1.844      -0.190\n",
            "fam_Blue Tire                                0.1444      0.685      0.211      0.833      -1.198       1.487\n",
            "fam_Blue Titanium                           -0.3233      0.193     -1.679      0.093      -0.701       0.054\n",
            "fam_Blueprint                                0.3746      0.210      1.783      0.075      -0.037       0.786\n",
            "fam_Bone Forged                              0.0766      0.434      0.176      0.860      -0.774       0.927\n",
            "fam_Bone Machine                            -0.5301      0.498     -1.065      0.287      -1.506       0.446\n",
            "fam_Bone Mask                               -0.5513      0.325     -1.697      0.090      -1.188       0.085\n",
            "fam_Boom!                                   -0.0691      0.141     -0.490      0.624      -0.346       0.207\n",
            "fam_Boost Protocol                          -0.2229      0.244     -0.913      0.361      -0.701       0.256\n",
            "fam_Boreal Forest                           -0.0856      0.079     -1.088      0.276      -0.240       0.069\n",
            "fam_Brake Light                             -0.9718      0.584     -1.664      0.096      -2.117       0.173\n",
            "fam_Brass                                   -0.5733      0.189     -3.030      0.002      -0.944      -0.202\n",
            "fam_Bratatat                                -0.2287      0.716     -0.319      0.749      -1.632       1.174\n",
            "fam_Briar                                   -0.6179      0.339     -1.821      0.069      -1.283       0.047\n",
            "fam_Briefing                                -0.5490      0.223     -2.464      0.014      -0.986      -0.112\n",
            "fam_Bright Water                            -0.1937      0.085     -2.277      0.023      -0.360      -0.027\n",
            "fam_Bronze Deco                             -0.8150      0.214     -3.814      0.000      -1.234      -0.396\n",
            "fam_Bronze Morph                            -1.6715      0.554     -3.015      0.003      -2.758      -0.585\n",
            "fam_Bronzed                                  1.0001      0.359      2.785      0.005       0.296       1.704\n",
            "fam_Brother                                  0.5280      0.347      1.523      0.128      -0.152       1.208\n",
            "fam_Buckshot                                -1.0126      0.145     -6.962      0.000      -1.298      -0.727\n",
            "fam_Buddy                                   -1.1072      0.513     -2.156      0.031      -2.114      -0.101\n",
            "fam_Bulkhead                                -0.0400      0.685     -0.058      0.953      -1.382       1.302\n",
            "fam_Bulldozer                                0.9969      0.246      4.046      0.000       0.514       1.480\n",
            "fam_Bullet Queen                            -0.3825      0.283     -1.352      0.176      -0.937       0.172\n",
            "fam_Bullet Rain                             -0.7428      0.185     -4.023      0.000      -1.105      -0.381\n",
            "fam_Bunsen Burner                            0.6767      0.318      2.129      0.033       0.054       1.300\n",
            "fam_Business Class                           0.5318      0.781      0.681      0.496      -0.999       2.063\n",
            "fam_Button Masher                           -1.4896      0.675     -2.208      0.027      -2.812      -0.167\n",
            "fam_Buzz Kill                               -0.3317      0.186     -1.786      0.074      -0.696       0.032\n",
            "fam_CAUTION!                                 0.3750      0.159      2.355      0.019       0.063       0.687\n",
            "fam_Caiman                                  -0.1596      0.254     -0.628      0.530      -0.657       0.338\n",
            "fam_Calf Skin                                0.1386      0.305      0.454      0.650      -0.460       0.737\n",
            "fam_CaliCamo                                -1.2513      0.442     -2.833      0.005      -2.117      -0.386\n",
            "fam_Candy Apple                             -0.2300      0.139     -1.653      0.098      -0.503       0.043\n",
            "fam_Capillary                               -0.2333      0.248     -0.941      0.347      -0.719       0.253\n",
            "fam_Caramel                                 -2.8820      0.313     -9.208      0.000      -3.495      -2.269\n",
            "fam_Carbon Fiber                            -0.0777      0.226     -0.344      0.731      -0.521       0.365\n",
            "fam_Cardiac                                 -0.2901      0.341     -0.851      0.395      -0.959       0.378\n",
            "fam_Carnivore                                1.2405      0.551      2.250      0.024       0.160       2.321\n",
            "fam_Cartel                                  -0.2734      0.263     -1.040      0.298      -0.789       0.242\n",
            "fam_Carved Jade                              0.4335      0.209      2.077      0.038       0.024       0.843\n",
            "fam_Case Hardened                            0.4838      0.066      7.380      0.000       0.355       0.612\n",
            "fam_Cassette                                 0.7188      0.343      2.096      0.036       0.047       1.391\n",
            "fam_Catacombs                                1.2703      0.394      3.227      0.001       0.499       2.042\n",
            "fam_Cerberus                                 0.0248      0.245      0.101      0.919      -0.455       0.504\n",
            "fam_Chainmail                               -0.1033      0.230     -0.449      0.653      -0.554       0.347\n",
            "fam_Chalice                                  2.3533      0.296      7.953      0.000       1.773       2.933\n",
            "fam_Chameleon                               -1.5527      0.222     -7.008      0.000      -1.987      -1.118\n",
            "fam_Chantico's Fire                         -0.2092      0.217     -0.962      0.336      -0.635       0.217\n",
            "fam_Charred                                  1.1848      0.349      3.394      0.001       0.501       1.869\n",
            "fam_Chatterbox                               0.7442      0.343      2.172      0.030       0.073       1.416\n",
            "fam_Check Engine                             0.1967      0.291      0.676      0.499      -0.374       0.767\n",
            "fam_Chemical Green                          -1.3943      0.273     -5.110      0.000      -1.929      -0.860\n",
            "fam_Chopper                                 -0.8228      0.310     -2.654      0.008      -1.431      -0.215\n",
            "fam_Chromatic Aberration                    -1.5107      0.469     -3.219      0.001      -2.431      -0.591\n",
            "fam_Chronos                                  0.4638      0.748      0.620      0.535      -1.002       1.930\n",
            "fam_Cinquedea                                3.4019      0.331     10.293      0.000       2.754       4.050\n",
            "fam_Circaetus                               -1.0318      0.511     -2.018      0.044      -2.034      -0.029\n",
            "fam_Cirrus                                   0.9805      0.256      3.827      0.000       0.478       1.483\n",
            "fam_Classic Crate                            0.1992      0.511      0.390      0.697      -0.802       1.200\n",
            "fam_Clear Polymer                           -1.1190      0.311     -3.596      0.000      -1.729      -0.509\n",
            "fam_Coach Class                              0.8135      0.781      1.042      0.298      -0.717       2.344\n",
            "fam_Cobalt Core                              2.7027      0.843      3.206      0.001       1.051       4.355\n",
            "fam_Cobalt Disruption                        0.5531      0.211      2.622      0.009       0.140       0.967\n",
            "fam_Cobalt Halftone                         -2.2430      0.570     -3.938      0.000      -3.359      -1.127\n",
            "fam_Cobalt Quartz                           -1.6791      0.591     -2.841      0.005      -2.838      -0.520\n",
            "fam_Cobalt Skulls                            0.6945      0.170      4.094      0.000       0.362       1.027\n",
            "fam_Cobra Strike                             0.8865      0.400      2.219      0.027       0.103       1.670\n",
            "fam_Cocoa Rampage                            0.1234      0.352      0.350      0.726      -0.567       0.814\n",
            "fam_Code Red                                -0.8041      0.222     -3.627      0.000      -1.239      -0.370\n",
            "fam_Cold Blooded                            -0.4100      0.239     -1.712      0.087      -0.879       0.059\n",
            "fam_Cold Fusion                              0.4739      0.423      1.121      0.262      -0.355       1.302\n",
            "fam_Colony                                  -0.3293      0.278     -1.186      0.235      -0.873       0.215\n",
            "fam_Colony IV                               -0.2133      0.232     -0.921      0.357      -0.667       0.241\n",
            "fam_Commemoration                           -0.0324      0.164     -0.197      0.844      -0.354       0.289\n",
            "fam_Commuter                                 0.5209      0.644      0.809      0.418      -0.741       1.782\n",
            "fam_Connexion                                0.6990      0.364      1.918      0.055      -0.015       1.413\n",
            "fam_Conspiracy                              -0.2554      0.159     -1.606      0.108      -0.567       0.056\n",
            "fam_Constrictor                             -0.8558      0.183     -4.673      0.000      -1.215      -0.497\n",
            "fam_Containment Breach                      -0.3346      0.180     -1.856      0.064      -0.688       0.019\n",
            "fam_Contaminant                              0.6128      0.407      1.506      0.132      -0.185       1.410\n",
            "fam_Contamination                           -0.1230      0.313     -0.393      0.695      -0.737       0.491\n",
            "fam_Contractor                               0.2018      0.278      0.725      0.468      -0.343       0.747\n",
            "fam_Contrast Spray                           1.1102      0.603      1.841      0.066      -0.072       2.292\n",
            "fam_Control Panel                           -0.1056      0.222     -0.475      0.635      -0.541       0.330\n",
            "fam_Converter                               -0.6303      0.209     -3.017      0.003      -1.040      -0.221\n",
            "fam_Convoy                                  -0.8834      0.102     -8.639      0.000      -1.084      -0.683\n",
            "fam_Cool Mint                                0.0767      0.167      0.458      0.647      -0.251       0.405\n",
            "fam_Coolant                                 -0.0065      0.344     -0.019      0.985      -0.680       0.667\n",
            "fam_Copper                                   0.3182      0.362      0.879      0.379      -0.391       1.028\n",
            "fam_Copper Borre                             0.5377      0.288      1.866      0.062      -0.027       1.102\n",
            "fam_Copper Galaxy                           -1.1203      0.303     -3.696      0.000      -1.714      -0.526\n",
            "fam_Copperhead                               0.6418      0.434      1.479      0.139      -0.209       1.492\n",
            "fam_Corinthian                               1.2952      0.308      4.205      0.000       0.691       1.899\n",
            "fam_Corporal                                 0.2419      0.547      0.442      0.659      -0.831       1.315\n",
            "fam_Cortex                                  -0.2397      0.146     -1.646      0.100      -0.525       0.046\n",
            "fam_Corticera                               -0.7371      0.149     -4.935      0.000      -1.030      -0.444\n",
            "fam_Counter Terrace                          3.2496      0.395      8.226      0.000       2.475       4.024\n",
            "fam_Cracked Opal                            -1.3608      0.654     -2.080      0.038      -2.643      -0.078\n",
            "fam_Crime Scene                             -0.3495      0.216     -1.620      0.105      -0.772       0.073\n",
            "fam_Crimson Blossom                          0.2992      0.190      1.573      0.116      -0.074       0.672\n",
            "fam_Crimson Kimono                           1.3885      0.208      6.684      0.000       0.981       1.796\n",
            "fam_Crimson Tsunami                         -1.5762      0.570     -2.763      0.006      -2.694      -0.458\n",
            "fam_Crimson Weave                            0.5017      0.118      4.255      0.000       0.271       0.733\n",
            "fam_Crimson Web                              0.5819      0.067      8.707      0.000       0.451       0.713\n",
            "fam_Crypsis                                  1.1215      0.571      1.964      0.050       0.002       2.241\n",
            "fam_Curse                                   -0.9388      0.413     -2.272      0.023      -1.749      -0.129\n",
            "fam_Cut Out                                  0.5376      0.574      0.937      0.349      -0.587       1.662\n",
            "fam_Cyber Security                           0.1102      0.193      0.571      0.568      -0.268       0.488\n",
            "fam_Cyber Shell                             -1.0677      0.505     -2.114      0.035      -2.058      -0.078\n",
            "fam_Cyrex                                   -0.0609      0.126     -0.485      0.628      -0.307       0.185\n",
            "fam_Daedalus                                -2.5927      0.717     -3.618      0.000      -3.997      -1.188\n",
            "fam_Damascus Steel                           0.0127      0.070      0.182      0.856      -0.125       0.150\n",
            "fam_Dark Age                                 1.0298      0.262      3.923      0.000       0.515       1.544\n",
            "fam_Dark Blossom                            -1.1419      0.172     -6.626      0.000      -1.480      -0.804\n",
            "fam_Dark Filigree                           -0.8781      0.569     -1.544      0.123      -1.993       0.237\n",
            "fam_Dark Water                               0.8785      0.124      7.058      0.000       0.635       1.122\n",
            "fam_Darkwing                                 0.3210      0.321      1.000      0.317      -0.308       0.950\n",
            "fam_Day Lily                                -0.0623      0.222     -0.280      0.779      -0.498       0.374\n",
            "fam_Daybreak                                 2.4837      0.341      7.286      0.000       1.816       3.152\n",
            "fam_Dazzle                                   1.1967      0.888      1.347      0.178      -0.544       2.938\n",
            "fam_Deadly Poison                            0.8212      0.489      1.678      0.093      -0.138       1.780\n",
            "fam_Death Grip                              -0.5989      0.564     -1.063      0.288      -1.703       0.506\n",
            "fam_Death Rattle                             0.7170      0.344      2.086      0.037       0.043       1.391\n",
            "fam_Death Strike                             0.2304      0.279      0.825      0.410      -0.317       0.778\n",
            "fam_Death by Kitty                          -0.6165      0.664     -0.929      0.353      -1.917       0.684\n",
            "fam_Death by Puppy                          -0.3918      0.207     -1.890      0.059      -0.798       0.014\n",
            "fam_Death's Head                            -1.4416      0.372     -3.871      0.000      -2.172      -0.712\n",
            "fam_Decimator                               -0.6090      0.126     -4.842      0.000      -0.855      -0.362\n",
            "fam_Decommissioned                           0.1263      0.378      0.335      0.738      -0.614       0.866\n",
            "fam_Deep Relief                              1.6793      0.619      2.713      0.007       0.466       2.893\n",
            "fam_Delusion                                -0.3831      0.350     -1.094      0.274      -1.069       0.303\n",
            "fam_Demeter                                 -1.8424      0.397     -4.646      0.000      -2.620      -1.065\n",
            "fam_Demolition                               0.1657      0.594      0.279      0.780      -0.998       1.330\n",
            "fam_Desert Blossom                          -1.3590      0.248     -5.476      0.000      -1.845      -0.873\n",
            "fam_Desert DDPAT                            -1.7188      0.432     -3.978      0.000      -2.566      -0.872\n",
            "fam_Desert Hydra                             1.2651      0.277      4.564      0.000       0.722       1.808\n",
            "fam_Desert Shamagh                          -0.8489      0.161     -5.279      0.000      -1.164      -0.534\n",
            "fam_Desert Storm                            -0.5448      0.239     -2.278      0.023      -1.014      -0.076\n",
            "fam_Desert Strike                            0.6218      0.712      0.873      0.382      -0.774       2.017\n",
            "fam_Desert Warfare                          -0.2446      0.273     -0.896      0.370      -0.780       0.291\n",
            "fam_Desert-Strike                           -1.5252      0.242     -6.311      0.000      -1.999      -1.051\n",
            "fam_Desolate Space                          -0.1112      0.191     -0.583      0.560      -0.485       0.263\n",
            "fam_Detour                                  -0.7788      0.297     -2.618      0.009      -1.362      -0.196\n",
            "fam_Devourer                                -1.4521      0.276     -5.263      0.000      -1.993      -0.911\n",
            "fam_Diamondback                             -0.4867      0.247     -1.973      0.048      -0.970      -0.003\n",
            "fam_Digital Architect                        0.9327      0.313      2.981      0.003       0.320       1.546\n",
            "fam_Digital Mesh                             0.5224      0.471      1.108      0.268      -0.402       1.446\n",
            "fam_Directive                                0.2980      0.337      0.884      0.377      -0.363       0.959\n",
            "fam_Disco Tech                              -0.3304      0.296     -1.118      0.264      -0.910       0.249\n",
            "fam_Dispatch                                -1.6810      0.254     -6.617      0.000      -2.179      -1.183\n",
            "fam_Distressed                               1.7381      0.602      2.886      0.004       0.558       2.919\n",
            "fam_Djinn                                   -0.6180      0.277     -2.229      0.026      -1.161      -0.075\n",
            "fam_Doomkitty                                2.4070      0.830      2.898      0.004       0.779       4.035\n",
            "fam_Doppler                                  0.3496      0.085      4.109      0.000       0.183       0.516\n",
            "fam_Dragon Lore                              3.1352      0.273     11.469      0.000       2.599       3.671\n",
            "fam_Dragon Tattoo                            0.8406      0.161      5.228      0.000       0.525       1.156\n",
            "fam_Dragonfire                              -0.7669      0.261     -2.937      0.003      -1.279      -0.255\n",
            "fam_Dream Glade                             -1.6926      0.384     -4.412      0.000      -2.444      -0.941\n",
            "fam_Drought                                 -2.4239      0.272     -8.906      0.000      -2.957      -1.890\n",
            "fam_Dualing Dragons                          0.9768      0.821      1.190      0.234      -0.632       2.585\n",
            "fam_Duct Tape                               -0.8519      0.160     -5.318      0.000      -1.166      -0.538\n",
            "fam_Duelist                                  1.4459      0.450      3.213      0.001       0.564       2.328\n",
            "fam_Dusk Ruins                               0.2846      0.222      1.282      0.200      -0.151       0.720\n",
            "fam_Eclipse                                 -0.1903      0.136     -1.396      0.163      -0.457       0.077\n",
            "fam_Eco                                     -0.3800      0.249     -1.526      0.127      -0.868       0.108\n",
            "fam_Electric Hive                            0.1043      0.191      0.546      0.585      -0.270       0.479\n",
            "fam_Elegant Vines                           -0.8981      0.398     -2.256      0.024      -1.679      -0.118\n",
            "fam_Elite Build                             -0.6766      0.139     -4.854      0.000      -0.950      -0.403\n",
            "fam_Embargo                                 -1.1029      0.310     -3.556      0.000      -1.711      -0.495\n",
            "fam_Emerald                                  0.2349      0.105      2.244      0.025       0.030       0.440\n",
            "fam_Emerald Dragon                          -0.1912      0.244     -0.783      0.434      -0.670       0.288\n",
            "fam_Emerald Jörmungandr                      0.4885      0.257      1.897      0.058      -0.016       0.993\n",
            "fam_Emerald Pinstripe                       -0.8673      0.207     -4.199      0.000      -1.272      -0.462\n",
            "fam_Emerald Poison Dart                      0.8867      0.724      1.225      0.221      -0.532       2.306\n",
            "fam_Emerald Quartz                           0.8379      0.320      2.617      0.009       0.210       1.465\n",
            "fam_Emerald Web                              0.6551      0.150      4.380      0.000       0.362       0.948\n",
            "fam_Enforcer                                 0.3899      0.357      1.092      0.275      -0.310       1.090\n",
            "fam_Ensnared                                 0.7109      0.231      3.075      0.002       0.258       1.164\n",
            "fam_Entombed                                -0.7162      0.377     -1.900      0.057      -1.455       0.023\n",
            "fam_Evil Daimyo                             -0.5962      0.163     -3.664      0.000      -0.915      -0.277\n",
            "fam_Exo                                      0.0800      0.551      0.145      0.885      -1.000       1.160\n",
            "fam_Exoskeleton                             -0.6489      0.164     -3.949      0.000      -0.971      -0.327\n",
            "fam_Exposure                                -1.0163      0.648     -1.569      0.117      -2.286       0.254\n",
            "fam_Eye of Athena                           -0.9747      0.209     -4.656      0.000      -1.385      -0.564\n",
            "fam_Facets                                  -0.0026      0.365     -0.007      0.994      -0.719       0.713\n",
            "fam_Facility Dark                            0.8970      0.323      2.775      0.006       0.264       1.531\n",
            "fam_Facility Negative                        0.5705      0.557      1.024      0.306      -0.521       1.662\n",
            "fam_Facility Sketch                          0.9315      0.446      2.089      0.037       0.057       1.806\n",
            "fam_Fade                                     0.4311      0.063      6.804      0.000       0.307       0.555\n",
            "fam_Faded Zebra                              0.5257      0.646      0.814      0.416      -0.741       1.792\n",
            "fam_Fairy Tale                               0.3219      0.178      1.809      0.070      -0.027       0.671\n",
            "fam_Fall Hazard                              1.8983      0.323      5.876      0.000       1.265       2.532\n",
            "fam_Fallout Warning                         -0.2729      0.302     -0.903      0.366      -0.865       0.319\n",
            "fam_Fennec Fox                               0.4906      0.252      1.948      0.051      -0.003       0.984\n",
            "fam_Fever Dream                             -1.3489      0.149     -9.079      0.000      -1.640      -1.058\n",
            "fam_Field Agent                              0.6288      0.140      4.475      0.000       0.353       0.904\n",
            "fam_Finish Line                              0.1795      0.132      1.360      0.174      -0.079       0.438\n",
            "fam_Fire Elemental                          -1.3296      0.250     -5.316      0.000      -1.820      -0.839\n",
            "fam_Fire Serpent                             0.5141      0.200      2.576      0.010       0.123       0.905\n",
            "fam_Firefight                               -0.7798      0.365     -2.139      0.032      -1.494      -0.065\n",
            "fam_Firestarter                              1.1346      0.393      2.885      0.004       0.364       1.906\n",
            "fam_First Class                              0.3537      0.609      0.581      0.561      -0.839       1.547\n",
            "fam_Fizzy POP                                0.2245      0.237      0.947      0.344      -0.240       0.689\n",
            "fam_Flame Jörmungandr                        0.6279      0.293      2.142      0.032       0.053       1.203\n",
            "fam_Flame Test                              -0.0957      0.551     -0.174      0.862      -1.175       0.984\n",
            "fam_Flashback                               -0.4329      0.116     -3.733      0.000      -0.660      -0.206\n",
            "fam_Fleet Flock                             -0.4626      0.246     -1.881      0.060      -0.945       0.019\n",
            "fam_Flux                                     1.1049      0.786      1.406      0.160      -0.436       2.646\n",
            "fam_Food Chain                              -1.5243      0.448     -3.401      0.001      -2.403      -0.646\n",
            "fam_Foresight                                0.9616      0.325      2.962      0.003       0.325       1.598\n",
            "fam_Forest DDPAT                            -0.2332      0.078     -3.002      0.003      -0.385      -0.081\n",
            "fam_Forest Leaves                            0.5830      0.486      1.200      0.230      -0.369       1.535\n",
            "fam_Forest Night                            -0.6584      0.372     -1.770      0.077      -1.387       0.071\n",
            "fam_Foundation                               0.0530      0.150      0.354      0.723      -0.240       0.346\n",
            "fam_Fowl Play                                0.0661      0.239      0.276      0.782      -0.403       0.535\n",
            "fam_Framework                               -0.3739      0.631     -0.592      0.554      -1.611       0.863\n",
            "fam_Franklin                                -0.3630      0.161     -2.259      0.024      -0.678      -0.048\n",
            "fam_Freehand                                 0.0411      0.078      0.530      0.596      -0.111       0.193\n",
            "fam_Freight                                 -0.6877      0.378     -1.820      0.069      -1.428       0.053\n",
            "fam_Frontside Misty                          0.6345      0.753      0.842      0.400      -0.842       2.111\n",
            "fam_Frost Borre                             -0.2767      0.414     -0.668      0.504      -1.089       0.535\n",
            "fam_Fubar                                    0.8883      0.315      2.819      0.005       0.271       1.506\n",
            "fam_Fuel Injector                            0.4693      0.200      2.346      0.019       0.077       0.861\n",
            "fam_Fuel Rod                                -0.2591      0.483     -0.536      0.592      -1.207       0.688\n",
            "fam_Full Stop                                0.6533      0.551      1.187      0.235      -0.426       1.732\n",
            "fam_Gamma Doppler                            0.5149      0.087      5.887      0.000       0.343       0.686\n",
            "fam_Gator Mesh                               1.3905      0.297      4.686      0.000       0.809       1.972\n",
            "fam_Ghost Camo                               0.1147      0.566      0.203      0.839      -0.994       1.223\n",
            "fam_Ghost Crusader                          -0.4698      0.362     -1.299      0.194      -1.179       0.239\n",
            "fam_Gila                                    -0.9460      0.551     -1.716      0.086      -2.026       0.134\n",
            "fam_Giraffe                                 -0.4205      0.183     -2.294      0.022      -0.780      -0.061\n",
            "fam_Glacier Mesh                            -0.6580      0.555     -1.186      0.236      -1.746       0.430\n",
            "fam_Global Offensive                        -1.2658      0.187     -6.777      0.000      -1.632      -0.900\n",
            "fam_Gnarled                                  0.1553      0.385      0.404      0.686      -0.599       0.909\n",
            "fam_Gold Arabesque                           1.1661      0.182      6.420      0.000       0.810       1.522\n",
            "fam_Gold Bismuth                             0.5949      0.553      1.076      0.282      -0.489       1.678\n",
            "fam_Gold Brick                               1.5411      0.217      7.091      0.000       1.115       1.967\n",
            "fam_Golden Coil                              1.3240      0.760      1.743      0.081      -0.165       2.813\n",
            "fam_Golden Koi                              -2.0369      0.239     -8.531      0.000      -2.505      -1.569\n",
            "fam_Goo                                     -1.6551      0.653     -2.535      0.011      -2.935      -0.375\n",
            "fam_Graphite                                -0.6482      0.152     -4.265      0.000      -0.946      -0.350\n",
            "fam_Grassland                               -1.1053      0.565     -1.956      0.050      -2.213       0.002\n",
            "fam_Grassland Leaves                         3.3178      0.860      3.856      0.000       1.631       5.004\n",
            "fam_Graven                                   0.1296      0.272      0.476      0.634      -0.404       0.663\n",
            "fam_Green Apple                             -0.3878      0.248     -1.566      0.117      -0.873       0.098\n",
            "fam_Green Laminate                          -0.3317      0.291     -1.142      0.254      -0.901       0.238\n",
            "fam_Green Marine                             1.0079      0.927      1.087      0.277      -0.809       2.825\n",
            "fam_Green Plaid                             -0.1345      0.794     -0.169      0.865      -1.691       1.422\n",
            "fam_Griffin                                  0.3408      0.263      1.294      0.196      -0.176       0.857\n",
            "fam_Grim                                     0.3323      0.478      0.695      0.487      -0.605       1.270\n",
            "fam_Grinder                                 -0.4563      0.288     -1.586      0.113      -1.020       0.108\n",
            "fam_Grip                                     0.0234      0.571      0.041      0.967      -1.096       1.143\n",
            "fam_Grotto                                   1.6369      0.372      4.397      0.000       0.907       2.367\n",
            "fam_Groundwater                              2.3246      0.282      8.241      0.000       1.772       2.877\n",
            "fam_Guardian                                -0.8302      0.151     -5.514      0.000      -1.125      -0.535\n",
            "fam_Guerrilla                                0.7490      0.314      2.387      0.017       0.134       1.364\n",
            "fam_Gungnir                                  2.4085      0.400      6.025      0.000       1.625       3.192\n",
            "fam_Gunsmoke                                -0.2918      0.251     -1.164      0.245      -0.783       0.200\n",
            "fam_Hand Brake                              -0.0620      0.454     -0.137      0.891      -0.952       0.828\n",
            "fam_Hand Cannon                              1.8438      0.231      7.990      0.000       1.391       2.296\n",
            "fam_Handgun                                 -0.8383      0.242     -3.459      0.001      -1.313      -0.363\n",
            "fam_Hazard                                  -0.2516      0.603     -0.417      0.676      -1.433       0.930\n",
            "fam_Hazard Pay                               2.1256      0.310      6.849      0.000       1.517       2.734\n",
            "fam_Heat                                    -0.2037      0.155     -1.311      0.190      -0.508       0.101\n",
            "fam_Heaven Guard                             0.9843      0.560      1.757      0.079      -0.114       2.082\n",
            "fam_Heavy Metal                             -0.5605      0.507     -1.107      0.268      -1.553       0.432\n",
            "fam_Hedge Maze                               0.3016      0.586      0.515      0.607      -0.847       1.450\n",
            "fam_Heirloom                                -0.9382      0.303     -3.100      0.002      -1.531      -0.345\n",
            "fam_Hellfire                                 0.3302      0.206      1.605      0.108      -0.073       0.733\n",
            "fam_Hemoglobin                              -0.2162      0.278     -0.777      0.437      -0.762       0.329\n",
            "fam_Hexane                                   0.3912      0.218      1.791      0.073      -0.037       0.819\n",
            "fam_High Beam                               -0.0687      0.242     -0.284      0.776      -0.543       0.405\n",
            "fam_High Roller                             -2.0039      0.444     -4.518      0.000      -2.873      -1.135\n",
            "fam_High Seas                               -0.3225      0.408     -0.791      0.429      -1.122       0.477\n",
            "fam_Hive                                     0.6812      0.250      2.722      0.006       0.191       1.172\n",
            "fam_Hot Rod                                  0.8841      0.146      6.040      0.000       0.597       1.171\n",
            "fam_Hot Shot                                 0.1116      0.258      0.433      0.665      -0.393       0.617\n",
            "fam_Hot Snakes                               1.2128      0.214      5.680      0.000       0.794       1.631\n",
            "fam_Houndstooth                             -0.6850      0.421     -1.628      0.103      -1.510       0.140\n",
            "fam_Howl                                     3.7023      0.169     21.956      0.000       3.372       4.033\n",
            "fam_Humidor                                 -0.6426      0.629     -1.022      0.307      -1.875       0.590\n",
            "fam_Hunting Blind                           -0.3605      0.306     -1.178      0.239      -0.960       0.239\n",
            "fam_Hydra                                   -0.1191      0.199     -0.599      0.549      -0.509       0.271\n",
            "fam_Hydroponic                               2.6045      0.320      8.144      0.000       1.978       3.231\n",
            "fam_Hyper Beast                             -0.5089      0.136     -3.740      0.000      -0.776      -0.242\n",
            "fam_Hypnotic                                 0.0648      0.122      0.532      0.594      -0.174       0.303\n",
            "fam_Icarus Fell                              0.1302      0.480      0.271      0.786      -0.811       1.071\n",
            "fam_Ice Cap                                  0.4730      0.360      1.313      0.189      -0.233       1.179\n",
            "fam_Imminent Danger                          2.5553      0.308      8.303      0.000       1.952       3.159\n",
            "fam_Imperial                                 0.5058      0.617      0.819      0.413      -0.705       1.716\n",
            "fam_Imperial Dragon                         -0.9226      0.227     -4.062      0.000      -1.368      -0.477\n",
            "fam_Imperial Plaid                           0.5637      0.085      6.647      0.000       0.397       0.730\n",
            "fam_Impire                                  -0.0526      0.323     -0.163      0.871      -0.685       0.580\n",
            "fam_Imprint                                  1.7636      0.479      3.679      0.000       0.824       2.703\n",
            "fam_In Living Color                         -1.3938      0.454     -3.071      0.002      -2.283      -0.504\n",
            "fam_Incinegator                              0.4996      0.643      0.777      0.437      -0.761       1.761\n",
            "fam_Indigo                                  -0.7764      0.268     -2.898      0.004      -1.302      -0.251\n",
            "fam_Inferno                                 -0.5224      0.515     -1.015      0.310      -1.531       0.486\n",
            "fam_Infrastructure                           0.7186      0.885      0.812      0.417      -1.016       2.454\n",
            "fam_Integrale                                1.2191      0.224      5.451      0.000       0.781       1.658\n",
            "fam_Interlock                               -0.4627      0.387     -1.195      0.232      -1.221       0.296\n",
            "fam_Iron Clad                                0.1492      0.552      0.270      0.787      -0.934       1.232\n",
            "fam_Ironwork                                 1.4876      0.340      4.381      0.000       0.822       2.153\n",
            "fam_Irradiated Alert                        -0.5358      0.495     -1.082      0.279      -1.507       0.435\n",
            "fam_Isaac                                   -0.4027      0.272     -1.479      0.139      -0.936       0.131\n",
            "fam_Ivory                                    0.4081      0.321      1.272      0.203      -0.221       1.037\n",
            "fam_Jade                                     0.3307      0.081      4.073      0.000       0.172       0.490\n",
            "fam_Jaguar                                  -0.5673      0.167     -3.397      0.001      -0.895      -0.240\n",
            "fam_Jambiya                                 -0.0324      0.437     -0.074      0.941      -0.888       0.824\n",
            "fam_Jet Set                                  0.6276      0.601      1.044      0.297      -0.551       1.806\n",
            "fam_Judgement of Anubis                     -1.8352      0.309     -5.948      0.000      -2.440      -1.230\n",
            "fam_Jungle                                  -0.9169      0.579     -1.584      0.113      -2.051       0.217\n",
            "fam_Jungle DDPAT                            -0.2261      0.774     -0.292      0.770      -1.743       1.291\n",
            "fam_Jungle Dashed                           -0.6301      0.484     -1.303      0.193      -1.578       0.318\n",
            "fam_Jungle Slipstream                       -0.6742      0.406     -1.659      0.097      -1.471       0.122\n",
            "fam_Jungle Spray                             0.1579      0.222      0.712      0.477      -0.277       0.593\n",
            "fam_Jungle Tiger                             0.3493      0.216      1.620      0.105      -0.073       0.772\n",
            "fam_Justice                                  0.4129      0.316      1.305      0.192      -0.207       1.033\n",
            "fam_Kami                                    -0.1868      0.225     -0.830      0.407      -0.628       0.254\n",
            "fam_Keeping Tabs                            -0.0386      0.448     -0.086      0.931      -0.917       0.840\n",
            "fam_Kill Confirmed                           2.1171      0.770      2.748      0.006       0.607       3.627\n",
            "fam_King Snake                               1.1942      0.117     10.174      0.000       0.964       1.424\n",
            "fam_Kitbash                                  1.0315      0.693      1.488      0.137      -0.327       2.390\n",
            "fam_Knight                                   2.1630      0.252      8.581      0.000       1.669       2.657\n",
            "fam_Kumicho Dragon                           0.1080      0.171      0.631      0.528      -0.228       0.444\n",
            "fam_Lab Rats                                -0.4768      0.234     -2.040      0.041      -0.935      -0.019\n",
            "fam_Labyrinth                                0.7993      0.308      2.594      0.009       0.195       1.403\n",
            "fam_Last Dive                                0.6592      0.405      1.628      0.103      -0.134       1.453\n",
            "fam_Lead Conduit                             0.4504      0.367      1.227      0.220      -0.269       1.170\n",
            "fam_Leaded Glass                            -2.0658      0.366     -5.640      0.000      -2.784      -1.348\n",
            "fam_Leather                                 -0.3831      0.179     -2.145      0.032      -0.733      -0.033\n",
            "fam_Leet Museo                              -1.1774      0.159     -7.426      0.000      -1.488      -0.867\n",
            "fam_Legion of Anubis                        -0.8476      0.173     -4.888      0.000      -1.188      -0.508\n",
            "fam_Light Rail                              -0.8589      0.204     -4.219      0.000      -1.258      -0.460\n",
            "fam_Lightning Strike                         0.1404      0.147      0.954      0.340      -0.148       0.429\n",
            "fam_Limelight                               -0.2543      0.385     -0.661      0.509      -1.009       0.500\n",
            "fam_Llama Cannon                            -1.2705      0.492     -2.583      0.010      -2.235      -0.306\n",
            "fam_Lore                                     0.6584      0.077      8.581      0.000       0.508       0.809\n",
            "fam_Lt. Commander                            0.2902      0.202      1.439      0.150      -0.105       0.686\n",
            "fam_Lumen                                   -0.4911      0.404     -1.215      0.224      -1.283       0.301\n",
            "fam_Lunar Weave                             -0.1476      0.104     -1.421      0.155      -0.351       0.056\n",
            "fam_Lush Ruins                              -0.5207      0.293     -1.777      0.076      -1.095       0.054\n",
            "fam_Macabre                                 -0.5428      0.564     -0.963      0.336      -1.648       0.562\n",
            "fam_Magna Carta                             -0.9388      0.213     -4.409      0.000      -1.356      -0.521\n",
            "fam_Magnesium                                1.0043      0.192      5.224      0.000       0.627       1.381\n",
            "fam_Mainframe                                1.2336      0.275      4.486      0.000       0.695       1.773\n",
            "fam_Mainframe 001                            0.5197      0.364      1.429      0.153      -0.193       1.233\n",
            "fam_Man-o'-war                               0.3038      0.291      1.043      0.297      -0.267       0.874\n",
            "fam_Mandrel                                  0.3862      0.562      0.687      0.492      -0.715       1.488\n",
            "fam_Mangrove                                -0.0394      0.142     -0.278      0.781      -0.317       0.238\n",
            "fam_Marble Fade                              0.2048      0.068      3.030      0.002       0.072       0.337\n",
            "fam_Marina                                  -0.9500      0.346     -2.747      0.006      -1.628      -0.272\n",
            "fam_Master Piece                             0.2674      0.205      1.307      0.191      -0.134       0.668\n",
            "fam_Mecha Industries                        -0.2822      0.109     -2.580      0.010      -0.497      -0.068\n",
            "fam_Mechanism                                0.8078      0.603      1.339      0.180      -0.374       1.990\n",
            "fam_Medusa                                   1.2822      0.507      2.527      0.012       0.288       2.277\n",
            "fam_Mehndi                                  -1.3254      0.232     -5.721      0.000      -1.780      -0.871\n",
            "fam_Melondrama                               0.1836      0.240      0.765      0.444      -0.287       0.654\n",
            "fam_Meltdown                                 0.4401      0.171      2.572      0.010       0.105       0.776\n",
            "fam_Memento                                  0.2662      0.572      0.465      0.642      -0.856       1.388\n",
            "fam_Metal Flowers                            0.5148      0.565      0.910      0.363      -0.594       1.623\n",
            "fam_Metallic DDPAT                          -0.0201      0.223     -0.090      0.928      -0.457       0.417\n",
            "fam_Meteorite                               -0.4129      0.310     -1.332      0.183      -1.020       0.195\n",
            "fam_Midnight Lily                            0.8273      0.202      4.090      0.000       0.431       1.224\n",
            "fam_Midnight Palm                            0.2939      0.461      0.638      0.524      -0.610       1.197\n",
            "fam_Midnight Storm                           0.8775      0.297      2.956      0.003       0.296       1.459\n",
            "fam_Minotaur's Labyrinth                     0.8504      0.562      1.514      0.130      -0.251       1.952\n",
            "fam_Mjölnir                                  1.7470      0.721      2.423      0.015       0.334       3.160\n",
            "fam_Modern Hunter                            2.4428      0.685      3.566      0.000       1.100       3.785\n",
            "fam_Modest Threat                            0.9193      0.408      2.254      0.024       0.120       1.719\n",
            "fam_Module                                  -0.2670      0.274     -0.973      0.330      -0.805       0.271\n",
            "fam_Mogul                                    0.0343      0.149      0.231      0.818      -0.257       0.326\n",
            "fam_Momentum                                -0.0919      0.157     -0.587      0.557      -0.399       0.215\n",
            "fam_Monkey Business                         -0.4794      0.203     -2.360      0.018      -0.878      -0.081\n",
            "fam_Monster Call                             0.5186      0.355      1.460      0.144      -0.178       1.215\n",
            "fam_Monster Mashup                          -0.0510      0.158     -0.323      0.747      -0.361       0.259\n",
            "fam_Moonrise                                 0.4636      0.158      2.927      0.003       0.153       0.774\n",
            "fam_Morris                                  -0.8684      0.667     -1.302      0.193      -2.176       0.439\n",
            "fam_Mortis                                  -1.1724      0.132     -8.889      0.000      -1.431      -0.914\n",
            "fam_Moss Quartz                             -1.8166      0.258     -7.039      0.000      -2.322      -1.311\n",
            "fam_Motherboard                              1.1192      0.421      2.660      0.008       0.295       1.944\n",
            "fam_Mount Fuji                              -0.4872      0.191     -2.551      0.011      -0.862      -0.113\n",
            "fam_Mudder                                   0.9651      0.441      2.191      0.028       0.102       1.828\n",
            "fam_Muertos                                  0.3570      0.332      1.075      0.282      -0.294       1.008\n",
            "fam_Music Box                               -0.9709      0.278     -3.493      0.000      -1.516      -0.426\n",
            "fam_Naga                                     0.5876      0.335      1.756      0.079      -0.068       1.244\n",
            "fam_Navy Sheen                              -0.9073      0.370     -2.455      0.014      -1.632      -0.183\n",
            "fam_Nebula Crusader                          2.4365      0.900      2.706      0.007       0.672       4.201\n",
            "fam_Necro Jr.                                0.7943      0.532      1.493      0.135      -0.248       1.837\n",
            "fam_Necropos                                -0.8789      0.593     -1.483      0.138      -2.041       0.283\n",
            "fam_Needle Point                            -0.4718      0.078     -6.056      0.000      -0.625      -0.319\n",
            "fam_Nemesis                                 -0.2824      0.181     -1.563      0.118      -0.636       0.072\n",
            "fam_Neo-Noir                                -0.0540      0.103     -0.524      0.600      -0.256       0.148\n",
            "fam_Neon Kimono                              2.7559      0.391      7.054      0.000       1.990       3.522\n",
            "fam_Neon Ply                                 0.1021      0.373      0.274      0.784      -0.629       0.833\n",
            "fam_Neon Revolution                         -0.3373      0.322     -1.047      0.295      -0.969       0.294\n",
            "fam_Neon Rider                              -1.0736      0.177     -6.055      0.000      -1.421      -0.726\n",
            "fam_Neural Net                              -0.2465      0.313     -0.787      0.431      -0.860       0.367\n",
            "fam_Nevermore                                0.4497      0.335      1.344      0.179      -0.206       1.106\n",
            "fam_Night                                    0.1808      0.080      2.257      0.024       0.024       0.338\n",
            "fam_Night Heist                             -1.3251      0.163     -8.127      0.000      -1.645      -1.005\n",
            "fam_Night Ops                               -0.9298      0.352     -2.640      0.008      -1.620      -0.240\n",
            "fam_Night Riot                              -0.1576      0.563     -0.280      0.779      -1.261       0.946\n",
            "fam_Night Stripe                             0.0201      0.092      0.219      0.827      -0.160       0.200\n",
            "fam_Night Terror                            -0.5768      0.126     -4.563      0.000      -0.825      -0.329\n",
            "fam_Nightmare                               -0.7302      0.168     -4.342      0.000      -1.060      -0.401\n",
            "fam_Nightshade                               1.6635      0.275      6.049      0.000       1.124       2.203\n",
            "fam_Nightwish                                0.2103      0.140      1.500      0.134      -0.065       0.485\n",
            "fam_Nitro                                   -0.7256      0.292     -2.482      0.013      -1.299      -0.152\n",
            "fam_Nocts                                   -0.7421      0.554     -1.339      0.181      -1.828       0.344\n",
            "fam_Nostalgia                               -0.7808      0.184     -4.243      0.000      -1.142      -0.420\n",
            "fam_Nuclear Garden                          -0.0917      0.159     -0.578      0.563      -0.403       0.219\n",
            "fam_Nuclear Threat                          -0.1913      0.349     -0.548      0.584      -0.876       0.493\n",
            "fam_Nuclear Waste                           -0.2673      0.678     -0.394      0.694      -1.597       1.062\n",
            "fam_Obsidian                                -1.0240      0.300     -3.418      0.001      -1.611      -0.437\n",
            "fam_Ocean Drive                             -0.4884      0.183     -2.665      0.008      -0.848      -0.129\n",
            "fam_Ocean Foam                              -0.0217      0.190     -0.114      0.909      -0.395       0.352\n",
            "fam_Oceanic                                  1.0311      0.567      1.818      0.069      -0.080       2.143\n",
            "fam_Off World                                0.1803      0.331      0.544      0.586      -0.469       0.830\n",
            "fam_Ol' Rusty                                0.4834      0.421      1.149      0.251      -0.341       1.308\n",
            "fam_Old Roots                               -1.3595      0.303     -4.490      0.000      -1.953      -0.766\n",
            "fam_Omega                                   -0.4875      0.553     -0.882      0.378      -1.571       0.596\n",
            "fam_Oni Taiji                                0.8358      0.201      4.162      0.000       0.442       1.229\n",
            "fam_Orange Anolis                           -0.7038      0.159     -4.415      0.000      -1.016      -0.391\n",
            "fam_Orange DDPAT                            -0.0697      0.655     -0.106      0.915      -1.353       1.214\n",
            "fam_Orange Filigree                         -0.1634      0.388     -0.421      0.673      -0.923       0.596\n",
            "fam_Orange Kimono                           -1.1977      0.641     -1.870      0.062      -2.453       0.058\n",
            "fam_Orange Peel                              0.3503      0.240      1.458      0.145      -0.121       0.821\n",
            "fam_Orbit Mk01                              -0.9933      0.212     -4.693      0.000      -1.408      -0.578\n",
            "fam_Orion                                   -0.1522      0.230     -0.663      0.507      -0.602       0.298\n",
            "fam_Oscillator                              -0.4815      0.458     -1.052      0.293      -1.378       0.415\n",
            "fam_Osiris                                   1.1546      0.568      2.032      0.042       0.041       2.268\n",
            "fam_Ossified                                -0.0872      0.420     -0.208      0.836      -0.911       0.737\n",
            "fam_Outbreak                                 0.8391      0.604      1.390      0.165      -0.344       2.022\n",
            "fam_Overgrowth                              -0.6052      0.173     -3.503      0.000      -0.944      -0.267\n",
            "fam_Overprint                                0.3330      0.161      2.073      0.038       0.018       0.648\n",
            "fam_Overtake                                -0.4852      0.066     -7.355      0.000      -0.614      -0.356\n",
            "fam_Oxide Blaze                             -0.0373      0.233     -0.160      0.873      -0.493       0.418\n",
            "fam_Oxide Oasis                              0.6733      0.517      1.301      0.193      -0.341       1.688\n",
            "fam_PAW                                     -1.8839      0.183    -10.300      0.000      -2.242      -1.525\n",
            "fam_POP AWP                                 -0.6276      0.183     -3.428      0.001      -0.987      -0.269\n",
            "fam_POW!                                     0.4662      0.147      3.181      0.001       0.179       0.753\n",
            "fam_Palm                                    -0.6026      0.333     -1.807      0.071      -1.256       0.051\n",
            "fam_Pandora's Box                            0.2970      0.508      0.584      0.559      -0.699       1.293\n",
            "fam_Panther                                  0.0003      0.398      0.001      0.999      -0.780       0.781\n",
            "fam_Panther Camo                             0.0963      0.577      0.167      0.868      -1.035       1.228\n",
            "fam_Panthera onca                            1.3778      0.173      7.952      0.000       1.038       1.717\n",
            "fam_Para Green                              -0.0580      0.225     -0.258      0.796      -0.498       0.382\n",
            "fam_Parallax                                -0.8620      0.280     -3.083      0.002      -1.410      -0.314\n",
            "fam_Parched                                 -1.6514      0.367     -4.503      0.000      -2.370      -0.933\n",
            "fam_Pathfinder                              -1.2559      0.256     -4.906      0.000      -1.758      -0.754\n",
            "fam_Phantom                                 -0.2912      0.646     -0.451      0.652      -1.557       0.974\n",
            "fam_Phantom Disruptor                       -1.3737      0.258     -5.316      0.000      -1.880      -0.867\n",
            "fam_Phobos                                  -1.2816      0.186     -6.906      0.000      -1.645      -0.918\n",
            "fam_Phoenix Blacklight                      -0.3329      0.223     -1.495      0.135      -0.769       0.104\n",
            "fam_Phoenix Marker                          -2.0461      0.388     -5.270      0.000      -2.807      -1.285\n",
            "fam_Phoenix Stencil                         -1.6255      0.687     -2.365      0.018      -2.972      -0.279\n",
            "fam_Phosphor                                 0.2672      0.446      0.599      0.549      -0.607       1.141\n",
            "fam_Photic Zone                             -0.4010      0.344     -1.165      0.244      -1.076       0.274\n",
            "fam_Pilot                                    1.0320      0.609      1.694      0.090      -0.162       2.226\n",
            "fam_Pink DDPAT                              -0.2890      0.181     -1.593      0.111      -0.645       0.067\n",
            "fam_Pipe Down                                0.5647      0.260      2.173      0.030       0.055       1.074\n",
            "fam_Pit Viper                               -1.4860      0.264     -5.632      0.000      -2.003      -0.969\n",
            "fam_Plague                                   0.2590      0.533      0.486      0.627      -0.785       1.303\n",
            "fam_Plastique                                0.8589      0.376      2.283      0.022       0.122       1.596\n",
            "fam_Player Two                              -0.2205      0.261     -0.844      0.399      -0.733       0.292\n",
            "fam_Plume                                    0.3273      0.566      0.578      0.563      -0.782       1.437\n",
            "fam_Point Disarray                           0.3633      0.271      1.339      0.181      -0.169       0.895\n",
            "fam_Poison Dart                              2.5987      0.569      4.567      0.000       1.483       3.714\n",
            "fam_Polar Camo                              -0.4953      0.594     -0.834      0.405      -1.660       0.669\n",
            "fam_Polar Mesh                              -1.5944      0.577     -2.763      0.006      -2.725      -0.464\n",
            "fam_Pole Position                            1.0275      0.557      1.845      0.065      -0.064       2.119\n",
            "fam_Polygon                                 -0.0036      0.104     -0.035      0.972      -0.207       0.200\n",
            "fam_Polymer                                  0.9417      0.555      1.698      0.089      -0.145       2.029\n",
            "fam_Poseidon                                 1.4623      0.495      2.956      0.003       0.493       2.432\n",
            "fam_Poultrygeist                            -0.1587      0.375     -0.424      0.672      -0.893       0.576\n",
            "fam_Power Loader                             0.9815      0.746      1.317      0.188      -0.480       2.443\n",
            "fam_Powercore                               -0.9783      0.335     -2.924      0.003      -1.634      -0.322\n",
            "fam_Praetorian                              -0.2051      0.366     -0.560      0.575      -0.922       0.512\n",
            "fam_Predator                                -1.6490      0.201     -8.194      0.000      -2.043      -1.255\n",
            "fam_Prey                                    -1.5105      0.370     -4.081      0.000      -2.236      -0.785\n",
            "fam_Primal Saber                            -0.2657      0.210     -1.264      0.206      -0.678       0.146\n",
            "fam_Prime Conspiracy                        -0.2956      0.217     -1.365      0.172      -0.720       0.129\n",
            "fam_Printstream                              1.3441      0.153      8.766      0.000       1.044       1.645\n",
            "fam_Prism Terrace                            1.6143      0.323      5.002      0.000       0.982       2.247\n",
            "fam_Propaganda                               0.5029      0.158      3.186      0.001       0.194       0.812\n",
            "fam_Prototype                               -1.0853      0.886     -1.225      0.220      -2.821       0.651\n",
            "fam_Pulse                                   -0.7843      0.164     -4.776      0.000      -1.106      -0.462\n",
            "fam_Purple DDPAT                            -1.6504      0.240     -6.879      0.000      -2.121      -1.180\n",
            "fam_Pyre                                    -0.1144      0.347     -0.330      0.742      -0.794       0.565\n",
            "fam_Queen Jaguar                            -0.4877      0.106     -4.598      0.000      -0.696      -0.280\n",
            "fam_Quick Sand                              -1.8659      0.306     -6.095      0.000      -2.466      -1.266\n",
            "fam_Quicksilver                              0.6556      0.520      1.261      0.207      -0.364       1.675\n",
            "fam_Racing Green                            -1.1501      0.088    -13.068      0.000      -1.323      -0.978\n",
            "fam_Radiation Hazard                         0.5738      0.273      2.105      0.035       0.040       1.108\n",
            "fam_Random Access                           -0.3629      0.278     -1.305      0.192      -0.908       0.182\n",
            "fam_Rangeen                                  2.1604      0.838      2.578      0.010       0.518       3.803\n",
            "fam_Rapid Eye Movement                       0.0226      0.168      0.134      0.893      -0.307       0.352\n",
            "fam_Rat Rod                                 -1.4334      0.192     -7.454      0.000      -1.810      -1.056\n",
            "fam_Rattler                                  0.0524      0.140      0.375      0.708      -0.221       0.326\n",
            "fam_Re-Entry                                 0.2281      0.317      0.720      0.471      -0.393       0.849\n",
            "fam_Reactor                                 -0.0198      0.218     -0.091      0.927      -0.447       0.407\n",
            "fam_Reboot                                  -0.4047      0.439     -0.922      0.357      -1.265       0.456\n",
            "fam_Red Astor                               -0.0256      0.426     -0.060      0.952      -0.861       0.809\n",
            "fam_Red DDPAT                               -0.7240      0.176     -4.104      0.000      -1.070      -0.378\n",
            "fam_Red Filigree                             1.2652      0.279      4.528      0.000       0.717       1.813\n",
            "fam_Red FragCam                             -0.8223      0.335     -2.458      0.014      -1.478      -0.167\n",
            "fam_Red Laminate                            -0.2917      0.631     -0.462      0.644      -1.529       0.945\n",
            "fam_Red Python                              -0.2789      0.620     -0.450      0.653      -1.494       0.936\n",
            "fam_Red Quartz                              -0.5187      0.258     -2.013      0.044      -1.024      -0.014\n",
            "fam_Red Rock                                -0.7579      0.424     -1.787      0.074      -1.589       0.074\n",
            "fam_Red Stone                               -2.6595      0.628     -4.232      0.000      -3.891      -1.428\n",
            "fam_Red Tire                                -0.0358      0.611     -0.059      0.953      -1.234       1.162\n",
            "fam_Redline                                 -0.8367      0.128     -6.525      0.000      -1.088      -0.585\n",
            "fam_Remote Control                          -0.0690      0.335     -0.206      0.837      -0.725       0.587\n",
            "fam_Retribution                              0.0365      0.454      0.080      0.936      -0.854       0.927\n",
            "fam_Retrobution                              0.5639      0.395      1.427      0.154      -0.211       1.338\n",
            "fam_Rezan the Red                           -0.4726      0.083     -5.683      0.000      -0.636      -0.310\n",
            "fam_Ricochet                                 0.6952      0.473      1.469      0.142      -0.232       1.622\n",
            "fam_Riot                                    -0.3400      0.555     -0.613      0.540      -1.427       0.747\n",
            "fam_Ripple                                   0.7525      0.402      1.872      0.061      -0.035       1.540\n",
            "fam_Rising Skull                            -2.3133      0.267     -8.655      0.000      -2.837      -1.789\n",
            "fam_Road Rash                                0.1289      0.206      0.627      0.531      -0.274       0.532\n",
            "fam_Rocket Pop                               0.0020      0.209      0.009      0.992      -0.407       0.411\n",
            "fam_Roll Cage                               -0.0252      0.322     -0.078      0.938      -0.656       0.606\n",
            "fam_Rose Iron                               -1.5774      0.223     -7.059      0.000      -2.015      -1.139\n",
            "fam_Royal Blue                               0.0553      0.226      0.245      0.806      -0.387       0.497\n",
            "fam_Royal Consorts                           0.3737      0.330      1.132      0.258      -0.273       1.021\n",
            "fam_Royal Legion                             0.4767      0.303      1.571      0.116      -0.118       1.071\n",
            "fam_Royal Paladin                            1.0484      0.265      3.959      0.000       0.529       1.568\n",
            "fam_Ruby Poison Dart                        -0.4355      0.304     -1.434      0.152      -1.031       0.160\n",
            "fam_Run and Hide                             2.1782      0.242      9.002      0.000       1.704       2.653\n",
            "fam_Runic                                   -0.2334      0.387     -0.603      0.547      -0.992       0.525\n",
            "fam_Rust Coat                                0.2263      0.073      3.091      0.002       0.083       0.370\n",
            "fam_Rust Leaf                               -1.1595      0.229     -5.069      0.000      -1.608      -0.711\n",
            "fam_SWAG-7                                   4.4405      0.562      7.902      0.000       3.339       5.542\n",
            "fam_Sacrifice                               -0.0881      0.205     -0.430      0.667      -0.490       0.314\n",
            "fam_Safari Mesh                             -0.2685      0.085     -3.163      0.002      -0.435      -0.102\n",
            "fam_Safety Net                              -0.8673      0.214     -4.057      0.000      -1.286      -0.448\n",
            "fam_Sage Spray                              -0.7379      0.280     -2.633      0.008      -1.287      -0.189\n",
            "fam_Sand Dashed                              0.5952      0.567      1.050      0.294      -0.516       1.706\n",
            "fam_Sand Dune                                0.9287      0.227      4.084      0.000       0.483       1.374\n",
            "fam_Sand Mesh                               -0.4600      0.421     -1.093      0.275      -1.285       0.365\n",
            "fam_Sand Scale                               0.6924      0.413      1.678      0.093      -0.116       1.501\n",
            "fam_Sand Spray                              -0.8251      0.358     -2.305      0.021      -1.527      -0.124\n",
            "fam_Sand Storm                              -0.4452      0.278     -1.603      0.109      -0.990       0.099\n",
            "fam_Sandstorm                                0.4197      0.244      1.721      0.085      -0.058       0.898\n",
            "fam_Scaffold                                -0.0632      0.410     -0.154      0.877      -0.866       0.740\n",
            "fam_Scarlet Shamagh                         -0.8933      0.553     -1.614      0.106      -1.978       0.191\n",
            "fam_Schematic                               -0.6491      0.368     -1.763      0.078      -1.371       0.073\n",
            "fam_Scorched                                -0.0816      0.084     -0.976      0.329      -0.245       0.082\n",
            "fam_Scorpion                                -2.0107      0.429     -4.682      0.000      -2.852      -1.169\n",
            "fam_Scrawl                                  -0.3261      0.314     -1.040      0.299      -0.941       0.289\n",
            "fam_Scumbria                                 1.0930      0.583      1.875      0.061      -0.049       2.235\n",
            "fam_Sea Calico                               0.2690      0.337      0.799      0.425      -0.391       0.929\n",
            "fam_Seasons                                 -0.2791      0.359     -0.777      0.437      -0.984       0.425\n",
            "fam_See Ya Later                            -1.8675      0.380     -4.910      0.000      -2.613      -1.122\n",
            "fam_Serenity                                -0.6207      0.627     -0.991      0.322      -1.849       0.607\n",
            "fam_Sergeant                                 0.5799      0.244      2.377      0.017       0.102       1.058\n",
            "fam_Serum                                   -0.0419      0.198     -0.212      0.832      -0.430       0.346\n",
            "fam_Setting Sun                              0.1998      0.304      0.656      0.512      -0.397       0.797\n",
            "fam_Shallow Grave                           -0.6211      0.236     -2.630      0.009      -1.084      -0.158\n",
            "fam_Shapewood                               -0.0924      0.594     -0.156      0.876      -1.257       1.072\n",
            "fam_Shattered                               -0.1502      0.331     -0.453      0.650      -0.800       0.499\n",
            "fam_Shipping Forecast                       -0.4670      0.684     -0.683      0.495      -1.807       0.873\n",
            "fam_Shred                                    0.5167      0.580      0.891      0.373      -0.620       1.653\n",
            "fam_Sienna Damask                           -1.7245      0.582     -2.964      0.003      -2.865      -0.584\n",
            "fam_Signal                                   0.1344      0.315      0.427      0.669      -0.482       0.751\n",
            "fam_Silk Tiger                              -0.2533      0.187     -1.353      0.176      -0.620       0.114\n",
            "fam_Silver                                   0.6955      0.204      3.405      0.001       0.295       1.096\n",
            "fam_Skulls                                   0.5969      0.248      2.411      0.016       0.112       1.082\n",
            "fam_Slashed                                  1.9775      0.596      3.316      0.001       0.808       3.146\n",
            "fam_Slate                                   -1.5312      0.414     -3.700      0.000      -2.342      -0.720\n",
            "fam_Slaughter                                0.1817      0.068      2.665      0.008       0.048       0.315\n",
            "fam_Slide                                    0.2240      0.453      0.495      0.621      -0.664       1.112\n",
            "fam_Slingshot                               -0.2306      0.555     -0.416      0.678      -1.318       0.857\n",
            "fam_Smoke Out                                0.2980      0.122      2.443      0.015       0.059       0.537\n",
            "fam_Snack Attack                            -0.5830      0.179     -3.254      0.001      -0.934      -0.232\n",
            "fam_Snake Camo                               0.7151      0.408      1.753      0.080      -0.084       1.515\n",
            "fam_Snakebite                                0.9305      0.356      2.617      0.009       0.234       1.627\n",
            "fam_Snow Leopard                             1.3468      0.151      8.901      0.000       1.050       1.643\n",
            "fam_Sonar                                    0.9175      0.351      2.613      0.009       0.229       1.606\n",
            "fam_Space Cat                               -1.3878      0.286     -4.857      0.000      -1.948      -0.828\n",
            "fam_Spalted Wood                            -0.6820      0.294     -2.322      0.020      -1.258      -0.106\n",
            "fam_Spearmint                                1.4837      0.203      7.304      0.000       1.086       1.882\n",
            "fam_Special Delivery                         1.0915      0.917      1.191      0.234      -0.705       2.888\n",
            "fam_Spectre                                  0.2062      0.718      0.287      0.774      -1.201       1.613\n",
            "fam_Spider Lily                             -0.3922      0.172     -2.285      0.022      -0.729      -0.056\n",
            "fam_Spitfire                                -0.0816      0.382     -0.214      0.831      -0.830       0.667\n",
            "fam_Splash                                   0.8923      0.639      1.397      0.162      -0.360       2.144\n",
            "fam_Splash Jam                               3.1132      0.772      4.035      0.000       1.601       4.625\n",
            "fam_Spring Twilly                            0.7443      0.589      1.264      0.206      -0.410       1.898\n",
            "fam_Spruce DDPAT                             0.5063      0.395      1.280      0.200      -0.269       1.281\n",
            "fam_Sputnik                                  1.0073      0.213      4.731      0.000       0.590       1.425\n",
            "fam_Stained                                  0.0334      0.077      0.433      0.665      -0.118       0.185\n",
            "fam_Stained Glass                            1.2723      0.255      4.993      0.000       0.773       1.772\n",
            "fam_Stainless                               -0.1747      0.287     -0.609      0.543      -0.737       0.388\n",
            "fam_Stalker                                 -0.6627      0.206     -3.223      0.001      -1.066      -0.260\n",
            "fam_Starlight Protector                      0.6221      0.200      3.105      0.002       0.229       1.015\n",
            "fam_Steel Disruption                         0.1210      0.170      0.711      0.477      -0.213       0.455\n",
            "fam_Stinger                                 -0.3531      0.381     -0.928      0.354      -1.099       0.393\n",
            "fam_Stone Cold                               0.6242      0.759      0.822      0.411      -0.864       2.112\n",
            "fam_Storm                                   -0.6203      0.239     -2.599      0.009      -1.088      -0.152\n",
            "fam_Strats                                   0.1869      0.622      0.301      0.764      -1.032       1.406\n",
            "fam_Stymphalian                             -0.3727      0.196     -1.900      0.057      -0.757       0.012\n",
            "fam_Styx                                    -0.7066      0.267     -2.644      0.008      -1.231      -0.183\n",
            "fam_Sugar Rush                               0.1882      0.292      0.644      0.520      -0.384       0.761\n",
            "fam_Sun in Leo                              -1.8489      0.456     -4.056      0.000      -2.742      -0.955\n",
            "fam_Sundown                                  0.3021      0.207      1.457      0.145      -0.104       0.709\n",
            "fam_Sunset Lily                             -1.6940      0.197     -8.584      0.000      -2.081      -1.307\n",
            "fam_Sunset Storm 壱                           2.1285      0.363      5.865      0.000       1.417       2.840\n",
            "fam_Sunset Storm 弐                           2.3315      0.341      6.828      0.000       1.662       3.001\n",
            "fam_Superconductor                           0.2690      0.567      0.474      0.635      -0.843       1.381\n",
            "fam_Supernova                                1.4589      0.267      5.470      0.000       0.936       1.982\n",
            "fam_Surveillance                            -1.4795      0.450     -3.288      0.001      -2.361      -0.597\n",
            "fam_Sweeper                                  0.8212      0.279      2.946      0.003       0.275       1.368\n",
            "fam_Switch Board                            -0.6377      0.465     -1.373      0.170      -1.548       0.273\n",
            "fam_Syd Mead                                -0.0056      0.331     -0.017      0.987      -0.655       0.643\n",
            "fam_Syndicate                                1.3960      0.263      5.314      0.000       0.881       1.911\n",
            "fam_Synth Leaf                               0.8737      0.164      5.321      0.000       0.552       1.196\n",
            "fam_Tacticat                                 1.1380      0.536      2.123      0.034       0.088       2.188\n",
            "fam_Tall Grass                               1.1085      0.295      3.763      0.000       0.531       1.686\n",
            "fam_Target Acquired                          0.1692      0.167      1.011      0.312      -0.159       0.497\n",
            "fam_Tatter                                  -1.0507      0.413     -2.544      0.011      -1.860      -0.241\n",
            "fam_Teal Blossom                             0.5431      0.221      2.460      0.014       0.110       0.976\n",
            "fam_Teclu Burner                             0.0746      0.552      0.135      0.892      -1.007       1.156\n",
            "fam_Terrace                                  2.1289      0.445      4.789      0.000       1.258       3.000\n",
            "fam_Terrain                                 -0.0897      0.854     -0.105      0.916      -1.763       1.584\n",
            "fam_The Battlestar                          -1.0599      0.207     -5.115      0.000      -1.466      -0.654\n",
            "fam_The Coalition                            0.7801      0.162      4.819      0.000       0.463       1.097\n",
            "fam_The Emperor                             -0.0450      0.208     -0.216      0.829      -0.453       0.363\n",
            "fam_The Empress                             -1.3736      0.373     -3.685      0.000      -2.104      -0.643\n",
            "fam_The Executioner                          2.7119      0.508      5.341      0.000       1.717       3.707\n",
            "fam_The Fuschia Is Now                      -0.0945      0.262     -0.361      0.718      -0.608       0.419\n",
            "fam_The Kraken                              -3.2391      0.358     -9.045      0.000      -3.941      -2.537\n",
            "fam_The Prince                               2.5646      0.290      8.833      0.000       1.995       3.134\n",
            "fam_The Traitor                             -0.8940      0.436     -2.050      0.040      -1.749      -0.039\n",
            "fam_Threat Detected                         -1.4553      0.295     -4.941      0.000      -2.033      -0.878\n",
            "fam_Ticket to Hell                          -0.1483      0.129     -1.148      0.251      -0.401       0.105\n",
            "fam_Tiger Moth                               1.4050      0.356      3.948      0.000       0.707       2.103\n",
            "fam_Tiger Pit                               -1.6011      0.211     -7.578      0.000      -2.015      -1.187\n",
            "fam_Tiger Strike                             0.9464      0.203      4.673      0.000       0.549       1.343\n",
            "fam_Tiger Tooth                             -0.1571      0.074     -2.123      0.034      -0.302      -0.012\n",
            "fam_Tigris                                   1.1234      0.253      4.447      0.000       0.628       1.619\n",
            "fam_Titanium Bit                            -0.9733      0.341     -2.855      0.004      -1.641      -0.305\n",
            "fam_Tom Cat                                  0.2712      0.598      0.453      0.650      -0.901       1.444\n",
            "fam_Tooth Fairy                             -0.2760      0.232     -1.190      0.234      -0.731       0.179\n",
            "fam_Torn                                     1.0281      0.567      1.813      0.070      -0.083       2.140\n",
            "fam_Tornado                                 -1.2648      0.241     -5.239      0.000      -1.738      -0.792\n",
            "fam_Torque                                  -0.5811      0.200     -2.908      0.004      -0.973      -0.189\n",
            "fam_Toxic                                    0.0167      0.289      0.058      0.954      -0.551       0.584\n",
            "fam_Toy Soldier                             -2.5720      0.568     -4.530      0.000      -3.685      -1.459\n",
            "fam_Toybox                                  -0.4584      0.181     -2.528      0.011      -0.814      -0.103\n",
            "fam_Tranquility                             -0.9760      0.485     -2.014      0.044      -1.926      -0.026\n",
            "fam_Transport                               -0.9908      0.123     -8.075      0.000      -1.231      -0.750\n",
            "fam_Traveler                                 0.6811      0.777      0.876      0.381      -0.842       2.204\n",
            "fam_Tread                                   -0.0524      0.364     -0.144      0.885      -0.765       0.660\n",
            "fam_Tread Plate                             -0.4279      0.308     -1.389      0.165      -1.032       0.176\n",
            "fam_Triarch                                  0.6795      0.384      1.768      0.077      -0.074       1.433\n",
            "fam_Trigger Discipline                      -1.5911      0.420     -3.787      0.000      -2.415      -0.768\n",
            "fam_Trigon                                  -1.1109      0.178     -6.234      0.000      -1.460      -0.762\n",
            "fam_Triumvirate                             -0.6332      0.328     -1.933      0.053      -1.275       0.009\n",
            "fam_Tropical Storm                          -0.5329      0.459     -1.161      0.246      -1.433       0.367\n",
            "fam_Turbo Peek                              -1.3578      0.249     -5.463      0.000      -1.845      -0.871\n",
            "fam_Turf                                     0.6702      0.306      2.187      0.029       0.070       1.271\n",
            "fam_Turtle                                  -0.1124      0.119     -0.945      0.345      -0.346       0.121\n",
            "fam_Tuxedo                                   0.2900      0.582      0.498      0.618      -0.851       1.431\n",
            "fam_Twilight Galaxy                          0.3592      0.167      2.151      0.031       0.032       0.687\n",
            "fam_Twin Turbo                              -0.3805      0.307     -1.241      0.215      -0.981       0.220\n",
            "fam_Twist                                   -0.3024      0.569     -0.531      0.595      -1.418       0.814\n",
            "fam_Ultralight                               0.1950      0.739      0.264      0.792      -1.253       1.643\n",
            "fam_Ultraviolet                              0.1866      0.073      2.562      0.010       0.044       0.329\n",
            "fam_Uncharted                               -0.7447      0.231     -3.228      0.001      -1.197      -0.293\n",
            "fam_Undertow                                -0.0404      0.304     -0.133      0.895      -0.637       0.556\n",
            "fam_Unhinged                                -0.1144      0.078     -1.475      0.140      -0.267       0.038\n",
            "fam_Urban DDPAT                             -0.1643      0.192     -0.856      0.392      -0.541       0.212\n",
            "fam_Urban Dashed                            -1.1525      0.470     -2.453      0.014      -2.073      -0.232\n",
            "fam_Urban Hazard                             0.2356      0.270      0.872      0.383      -0.294       0.765\n",
            "fam_Urban Masked                            -0.0211      0.083     -0.255      0.799      -0.183       0.141\n",
            "fam_Urban Rubble                            -0.7482      0.357     -2.093      0.036      -1.449      -0.048\n",
            "fam_Urban Shock                              1.8836      0.458      4.117      0.000       0.987       2.780\n",
            "fam_Valence                                  0.1161      0.192      0.604      0.546      -0.260       0.493\n",
            "fam_Vandal                                   0.0727      0.423      0.172      0.864      -0.757       0.902\n",
            "fam_VariCamo                                -0.5089      0.223     -2.283      0.022      -0.946      -0.072\n",
            "fam_VariCamo Blue                           -0.4670      0.629     -0.742      0.458      -1.700       0.766\n",
            "fam_Vendetta                                 1.2543      0.556      2.255      0.024       0.164       2.345\n",
            "fam_Ventilator                               0.7587      0.517      1.469      0.142      -0.254       1.771\n",
            "fam_Ventilators                              1.4360      0.447      3.211      0.001       0.559       2.313\n",
            "fam_Verdant Growth                          -1.8406      0.449     -4.100      0.000      -2.720      -0.961\n",
            "fam_Verdigris                                0.7515      0.425      1.770      0.077      -0.081       1.584\n",
            "fam_Vice                                     0.3205      0.557      0.575      0.565      -0.772       1.413\n",
            "fam_Victoria                                -0.9665      0.297     -3.254      0.001      -1.549      -0.384\n",
            "fam_Vino Primo                               0.0318      0.251      0.126      0.899      -0.461       0.524\n",
            "fam_Violent Daimyo                           0.2297      0.343      0.669      0.504      -0.443       0.903\n",
            "fam_Violet Murano                           -0.1157      0.377     -0.307      0.759      -0.855       0.623\n",
            "fam_Virus                                   -0.0683      0.282     -0.242      0.809      -0.621       0.485\n",
            "fam_Vogue                                   -0.2073      0.183     -1.131      0.258      -0.567       0.152\n",
            "fam_Vulcan                                   0.3253      0.210      1.547      0.122      -0.087       0.737\n",
            "fam_Walnut                                  -2.0318      0.338     -6.007      0.000      -2.695      -1.369\n",
            "fam_Warbird                                  1.7166      0.725      2.368      0.018       0.296       3.137\n",
            "fam_Warhawk                                 -1.0223      0.357     -2.864      0.004      -1.722      -0.323\n",
            "fam_Wasteland Princess                      -0.4401      0.321     -1.369      0.171      -1.070       0.190\n",
            "fam_Wasteland Rebel                         -0.7956      0.183     -4.354      0.000      -1.154      -0.437\n",
            "fam_Watchdog                                -0.7342      0.388     -1.894      0.058      -1.494       0.025\n",
            "fam_Water Elemental                          0.0252      0.178      0.142      0.887      -0.324       0.374\n",
            "fam_Water Sigil                             -1.5150      0.442     -3.424      0.001      -2.382      -0.648\n",
            "fam_Wave Spray                               0.4209      0.345      1.220      0.222      -0.255       1.097\n",
            "fam_Waves Perforated                        -0.3611      0.565     -0.640      0.522      -1.468       0.746\n",
            "fam_Weasel                                   0.4425      0.335      1.319      0.187      -0.215       1.100\n",
            "fam_Welcome to the Jungle                    2.8208      0.218     12.932      0.000       2.393       3.248\n",
            "fam_Whitefish                                1.0213      0.566      1.805      0.071      -0.088       2.131\n",
            "fam_Whiteout                                 1.1276      0.118      9.536      0.000       0.896       1.359\n",
            "fam_Wild Lily                                2.4900      0.225     11.077      0.000       2.049       2.931\n",
            "fam_Wild Lotus                               2.0830      0.317      6.578      0.000       1.462       2.704\n",
            "fam_Wild Six                                -0.5305      0.404     -1.315      0.189      -1.321       0.260\n",
            "fam_Wildfire                                 0.1119      0.133      0.842      0.400      -0.148       0.372\n",
            "fam_Wings                                   -0.1586      0.248     -0.639      0.523      -0.645       0.328\n",
            "fam_Wingshot                                 0.7169      0.763      0.939      0.348      -0.779       2.213\n",
            "fam_Withered Vine                           -0.4495      0.557     -0.806      0.420      -1.542       0.643\n",
            "fam_Wood Fired                               0.0228      0.547      0.042      0.967      -1.049       1.094\n",
            "fam_Woodsman                                -1.1360      0.304     -3.740      0.000      -1.731      -0.541\n",
            "fam_Worm God                                -1.2285      0.177     -6.936      0.000      -1.576      -0.881\n",
            "fam_Wraiths                                  1.5939      0.776      2.054      0.040       0.073       3.115\n",
            "fam_X-Ray                                   -0.0712      0.194     -0.368      0.713      -0.451       0.308\n",
            "fam_XOXO                                    -1.8267      0.533     -3.428      0.001      -2.871      -0.782\n",
            "fam_Xiangliu                                -0.2072      0.209     -0.992      0.321      -0.617       0.202\n",
            "fam_Yellow Jacket                           -0.6150      0.235     -2.616      0.009      -1.076      -0.154\n",
            "fam_Yellow-banded                            0.0456      0.094      0.487      0.626      -0.138       0.229\n",
            "fam_ZX Spectron                             -0.4090      0.187     -2.182      0.029      -0.776      -0.042\n",
            "fam_Ziggy                                   -2.3031      0.574     -4.009      0.000      -3.429      -1.177\n",
            "fam_Zirka                                   -0.0297      0.208     -0.142      0.887      -0.438       0.379\n",
            "fam_Zombie Offensive                         0.0018      0.462      0.004      0.997      -0.903       0.907\n",
            "fam_龍王 (Dragon King)                         0.8810      0.323      2.724      0.006       0.247       1.515\n",
            "vers_2nd Max                                 0.4729      0.359      1.316      0.188      -0.232       1.177\n",
            "vers_3rd Max                                -0.4489      0.360     -1.248      0.212      -1.154       0.256\n",
            "vers_4th Max                                -0.3828      0.221     -1.735      0.083      -0.815       0.050\n",
            "vers_5th Max                                -0.2849      0.360     -0.792      0.428      -0.990       0.420\n",
            "vers_6th Max                                -0.5053      0.500     -1.010      0.312      -1.486       0.475\n",
            "vers_7th Max                                -0.3561      0.500     -0.712      0.477      -1.337       0.624\n",
            "vers_Black Pearl                             0.3879      0.087      4.455      0.000       0.217       0.559\n",
            "vers_Emerald                                 1.2975      0.053     24.357      0.000       1.193       1.402\n",
            "vers_FFI                                     0.0729      0.207      0.352      0.725      -0.333       0.479\n",
            "vers_Max Fake                                0.2536      0.501      0.506      0.613      -0.728       1.235\n",
            "vers_Phase 1                                -0.6880      0.036    -19.194      0.000      -0.758      -0.618\n",
            "vers_Phase 2                                -0.5269      0.033    -15.993      0.000      -0.591      -0.462\n",
            "vers_Phase 3                                -0.6978      0.036    -19.162      0.000      -0.769      -0.626\n",
            "vers_Phase 4                                -0.5525      0.034    -16.224      0.000      -0.619      -0.486\n",
            "vers_Rank 4                                  0.2096      0.362      0.580      0.562      -0.499       0.919\n",
            "vers_Ruby                                    0.8494      0.068     12.527      0.000       0.717       0.982\n",
            "vers_Sapphire                                0.7947      0.070     11.396      0.000       0.658       0.931\n",
            "vers_Tier 1                                  1.8782      0.157     11.997      0.000       1.571       2.185\n",
            "vers_Tier 2                                  0.4751      0.111      4.288      0.000       0.258       0.692\n",
            "vers_default                                -0.3971      0.091     -4.363      0.000      -0.575      -0.219\n",
            "cat_Gloves                                   0.8358      0.044     18.927      0.000       0.749       0.922\n",
            "cat_Heavy                                    0.0588      0.104      0.564      0.573      -0.146       0.263\n",
            "cat_Knife                                    0.5205      0.079      6.616      0.000       0.366       0.675\n",
            "cat_Pistol                                   0.0483      0.048      1.013      0.311      -0.045       0.142\n",
            "cat_Rifle                                    0.3879      0.043      8.937      0.000       0.303       0.473\n",
            "cat_SMG                                      0.0004      0.061      0.007      0.995      -0.120       0.121\n",
            "subCat_AK-47                                 0.8491      0.077     11.053      0.000       0.698       1.000\n",
            "subCat_AUG                                  -0.2698      0.118     -2.290      0.022      -0.501      -0.039\n",
            "subCat_AWP                                   0.7217      0.056     12.923      0.000       0.612       0.831\n",
            "subCat_Bayonet                              -0.0438      0.033     -1.309      0.191      -0.109       0.022\n",
            "subCat_Bloodhound Gloves                    -1.4363      0.300     -4.791      0.000      -2.024      -0.849\n",
            "subCat_Bowie Knife                           0.5518      0.150      3.675      0.000       0.257       0.846\n",
            "subCat_Broken Fang Gloves                   -0.2100      0.067     -3.130      0.002      -0.341      -0.078\n",
            "subCat_Butterfly Knife                       2.9683      0.153     19.373      0.000       2.668       3.269\n",
            "subCat_CZ75-Auto                            -0.4184      0.123     -3.388      0.001      -0.660      -0.176\n",
            "subCat_Classic Knife                        -0.4974      0.051     -9.790      0.000      -0.597      -0.398\n",
            "subCat_Desert Eagle                          0.2750      0.079      3.497      0.000       0.121       0.429\n",
            "subCat_Driver Gloves                         0.2647      0.073      3.607      0.000       0.121       0.409\n",
            "subCat_Dual Berettas                        -0.5345      0.186     -2.875      0.004      -0.899      -0.170\n",
            "subCat_FAMAS                                -0.5489      0.100     -5.500      0.000      -0.745      -0.353\n",
            "subCat_Falchion Knife                        0.0976      0.141      0.690      0.490      -0.180       0.375\n",
            "subCat_Five-SeveN                           -0.0324      0.097     -0.333      0.739      -0.223       0.158\n",
            "subCat_Flip Knife                           -0.4681      0.037    -12.624      0.000      -0.541      -0.395\n",
            "subCat_G3SG1                                -0.0790      0.237     -0.333      0.739      -0.544       0.386\n",
            "subCat_Galil AR                             -0.1392      0.129     -1.082      0.279      -0.391       0.113\n",
            "subCat_Glock-18                              0.0592      0.086      0.690      0.490      -0.109       0.227\n",
            "subCat_Gut Knife                            -1.3594      0.035    -38.693      0.000      -1.428      -1.291\n",
            "subCat_Hand Wraps                            0.3021      0.145      2.085      0.037       0.018       0.586\n",
            "subCat_Huntsman Knife                       -0.2288      0.177     -1.293      0.196      -0.576       0.118\n",
            "subCat_Hydra Gloves                         -0.8836      0.122     -7.253      0.000      -1.122      -0.645\n",
            "subCat_Karambit                              0.5021      0.032     15.776      0.000       0.440       0.564\n",
            "subCat_M249                                 -1.0150      0.420     -2.418      0.016      -1.838      -0.192\n",
            "subCat_M4A1-S                                0.5883      0.078      7.554      0.000       0.436       0.741\n",
            "subCat_M4A4                                 -0.1314      0.087     -1.510      0.131      -0.302       0.039\n",
            "subCat_M9 Bayonet                            0.2653      0.035      7.674      0.000       0.198       0.333\n",
            "subCat_MAC-10                               -0.2177      0.092     -2.356      0.018      -0.399      -0.037\n",
            "subCat_MAG-7                                -0.8303      0.175     -4.733      0.000      -1.174      -0.486\n",
            "subCat_MP5-SD                               -0.1582      0.371     -0.426      0.670      -0.886       0.570\n",
            "subCat_MP7                                  -0.5281      0.127     -4.152      0.000      -0.777      -0.279\n",
            "subCat_MP9                                  -0.1585      0.134     -1.180      0.238      -0.422       0.105\n",
            "subCat_Moto Gloves                           0.5148      0.075      6.862      0.000       0.368       0.662\n",
            "subCat_Navaja Knife                         -1.3606      0.045    -30.123      0.000      -1.449      -1.272\n",
            "subCat_Negev                                 0.4036      0.580      0.696      0.486      -0.733       1.540\n",
            "subCat_Nomad Knife                           0.0572      0.071      0.801      0.423      -0.083       0.197\n",
            "subCat_Nova                                  0.6828      0.169      4.031      0.000       0.351       1.015\n",
            "subCat_P2000                                 0.2746      0.123      2.228      0.026       0.033       0.516\n",
            "subCat_P250                                  0.0042      0.090      0.047      0.962      -0.172       0.180\n",
            "subCat_P90                                   0.4152      0.108      3.830      0.000       0.203       0.628\n",
            "subCat_PP-Bizon                              0.7077      0.153      4.627      0.000       0.408       1.007\n",
            "subCat_Paracord Knife                       -0.4108      0.053     -7.753      0.000      -0.515      -0.307\n",
            "subCat_R8 Revolver                           0.2758      0.187      1.478      0.139      -0.090       0.642\n",
            "subCat_SCAR-20                              -0.3439      0.108     -3.195      0.001      -0.555      -0.133\n",
            "subCat_SG 553                               -0.5778      0.090     -6.412      0.000      -0.754      -0.401\n",
            "subCat_SSG 08                                0.3188      0.203      1.573      0.116      -0.078       0.716\n",
            "subCat_Sawed-Off                             0.2843      0.203      1.400      0.161      -0.114       0.682\n",
            "subCat_Shadow Daggers                        1.1431      0.651      1.756      0.079      -0.133       2.419\n",
            "subCat_Skeleton Knife                        0.5476      0.053     10.290      0.000       0.443       0.652\n",
            "subCat_Specialist Gloves                     0.4769      0.112      4.254      0.000       0.257       0.697\n",
            "subCat_Sport Gloves                          1.8071      0.493      3.665      0.000       0.841       2.773\n",
            "subCat_Stiletto Knife                       -0.3734      0.045     -8.352      0.000      -0.461      -0.286\n",
            "subCat_Survival Knife                       -0.5140      0.058     -8.849      0.000      -0.628      -0.400\n",
            "subCat_Talon Knife                           0.1742      0.039      4.521      0.000       0.099       0.250\n",
            "subCat_Tec-9                                -0.1046      0.127     -0.821      0.412      -0.354       0.145\n",
            "subCat_UMP-45                               -0.0599      0.100     -0.599      0.549      -0.256       0.136\n",
            "subCat_USP-S                                 0.2492      0.082      3.045      0.002       0.089       0.410\n",
            "subCat_Ursus Knife                          -0.5305      0.041    -13.014      0.000      -0.610      -0.451\n",
            "subCat_XM1014                                0.5334      0.291      1.833      0.067      -0.037       1.104\n",
            "qual_Normal                                  0.0820      0.028      2.893      0.004       0.026       0.137\n",
            "qual_Souvenir                                0.2428      0.019     12.739      0.000       0.205       0.280\n",
            "qual_StatTrak™                               0.1706      0.028      6.031      0.000       0.115       0.226\n",
            "qual_★                                       0.9258      0.042     21.856      0.000       0.843       1.009\n",
            "qual_★ StatTrak™                             0.4304      0.034     12.505      0.000       0.363       0.498\n",
            "col_No Collection                            0.5265      0.105      5.004      0.000       0.320       0.733\n",
            "col_The 2018 Inferno Collection             -0.1954      0.138     -1.413      0.158      -0.466       0.076\n",
            "col_The 2018 Nuke Collection                -0.6637      0.165     -4.032      0.000      -0.986      -0.341\n",
            "col_The 2021 Dust 2 Collection               1.0343      0.098     10.537      0.000       0.842       1.227\n",
            "col_The 2021 Mirage Collection               1.3430      0.221      6.086      0.000       0.910       1.776\n",
            "col_The 2021 Train Collection               -1.4502      0.122    -11.915      0.000      -1.689      -1.212\n",
            "col_The 2021 Vertigo Collection             -0.0749      0.251     -0.299      0.765      -0.566       0.416\n",
            "col_The Alpha Collection                     0.8728      0.244      3.578      0.000       0.395       1.351\n",
            "col_The Ancient Collection                  -0.2225      0.150     -1.480      0.139      -0.517       0.072\n",
            "col_The Arms Deal 2 Collection               0.1136      0.112      1.015      0.310      -0.106       0.333\n",
            "col_The Arms Deal 3 Collection               0.5470      0.257      2.131      0.033       0.044       1.050\n",
            "col_The Arms Deal Collection                 0.4747      0.092      5.157      0.000       0.294       0.655\n",
            "col_The Assault Collection                   2.9783      0.123     24.247      0.000       2.738       3.219\n",
            "col_The Aztec Collection                     0.4199      0.158      2.660      0.008       0.110       0.729\n",
            "col_The Baggage Collection                   0.3135      0.562      0.558      0.577      -0.788       1.415\n",
            "col_The Bank Collection                     -0.2524      0.178     -1.417      0.156      -0.601       0.097\n",
            "col_The Blacksite Collection                -0.4768      0.234     -2.040      0.041      -0.935      -0.019\n",
            "col_The Bravo Collection                     1.3469      0.131     10.244      0.000       1.089       1.605\n",
            "col_The Breakout Collection                 -1.4304      0.124    -11.540      0.000      -1.673      -1.187\n",
            "col_The CS20 Collection                     -0.8018      0.099     -8.077      0.000      -0.996      -0.607\n",
            "col_The Cache Collection                     0.4541      0.152      2.983      0.003       0.156       0.752\n",
            "col_The Canals Collection                    0.6187      0.178      3.479      0.001       0.270       0.967\n",
            "col_The Chop Shop Collection                 0.0727      0.087      0.834      0.404      -0.098       0.244\n",
            "col_The Chroma 2 Collection                 -0.5287      0.112     -4.740      0.000      -0.747      -0.310\n",
            "col_The Chroma 3 Collection                 -0.8443      0.159     -5.312      0.000      -1.156      -0.533\n",
            "col_The Chroma Collection                   -1.7186      0.283     -6.072      0.000      -2.273      -1.164\n",
            "col_The Clutch Collection                   -1.2460      0.105    -11.858      0.000      -1.452      -1.040\n",
            "col_The Cobblestone Collection               0.7994      0.168      4.766      0.000       0.471       1.128\n",
            "col_The Control Collection                   1.2447      0.137      9.093      0.000       0.976       1.513\n",
            "col_The Danger Zone Collection              -1.2774      0.081    -15.849      0.000      -1.435      -1.119\n",
            "col_The Dreams & Nightmares Collection      -0.4766      0.075     -6.382      0.000      -0.623      -0.330\n",
            "col_The Dust 2 Collection                    0.5809      0.119      4.877      0.000       0.347       0.814\n",
            "col_The Dust Collection                      1.8809      0.161     11.673      0.000       1.565       2.197\n",
            "col_The Falchion Collection                 -0.4539      0.124     -3.673      0.000      -0.696      -0.212\n",
            "col_The Fracture Collection                 -1.0246      0.182     -5.640      0.000      -1.381      -0.669\n",
            "col_The Gamma 2 Collection                  -1.4965      0.259     -5.781      0.000      -2.004      -0.989\n",
            "col_The Gamma Collection                    -0.9340      0.131     -7.122      0.000      -1.191      -0.677\n",
            "col_The Glove Collection                    -1.1196      0.099    -11.329      0.000      -1.313      -0.926\n",
            "col_The Gods and Monsters Collection         1.7689      0.462      3.828      0.000       0.863       2.675\n",
            "col_The Havoc Collection                     1.4194      0.138     10.322      0.000       1.150       1.689\n",
            "col_The Horizon Collection                   0.0186      0.158      0.118      0.906      -0.291       0.328\n",
            "col_The Huntsman Collection                  0.0467      0.165      0.283      0.777      -0.277       0.371\n",
            "col_The Inferno Collection                   1.3450      0.189      7.100      0.000       0.974       1.716\n",
            "col_The Italy Collection                     0.7835      0.154      5.098      0.000       0.482       1.085\n",
            "col_The Lake Collection                      1.0976      0.142      7.741      0.000       0.820       1.375\n",
            "col_The Militia Collection                  -1.2850      0.658     -1.954      0.051      -2.574       0.004\n",
            "col_The Mirage Collection                    0.1220      0.132      0.921      0.357      -0.138       0.382\n",
            "col_The Norse Collection                     1.6155      0.235      6.886      0.000       1.156       2.075\n",
            "col_The Nuke Collection                      1.3267      0.283      4.694      0.000       0.773       1.881\n",
            "col_The Office Collection                    1.0717      0.256      4.184      0.000       0.570       1.574\n",
            "col_The Operation Broken Fang Collection    -0.9786      0.124     -7.869      0.000      -1.222      -0.735\n",
            "col_The Operation Hydra Collection          -0.1817      0.163     -1.115      0.265      -0.501       0.138\n",
            "col_The Operation Riptide Collection        -0.4954      0.106     -4.652      0.000      -0.704      -0.287\n",
            "col_The Overpass Collection                  0.4611      0.149      3.087      0.002       0.168       0.754\n",
            "col_The Phoenix Collection                  -0.0104      0.097     -0.107      0.915      -0.201       0.180\n",
            "col_The Prisma 2 Collection                 -0.7089      0.248     -2.858      0.004      -1.195      -0.223\n",
            "col_The Prisma Collection                   -0.5582      0.180     -3.094      0.002      -0.912      -0.205\n",
            "col_The Revolver Case Collection            -1.7657      0.268     -6.584      0.000      -2.291      -1.240\n",
            "col_The Rising Sun Collection               -0.2999      0.287     -1.043      0.297      -0.863       0.263\n",
            "col_The Safehouse Collection                 0.2795      0.283      0.987      0.324      -0.275       0.834\n",
            "col_The Shadow Collection                   -1.8797      0.741     -2.537      0.011      -3.332      -0.427\n",
            "col_The Shattered Web Collection            -0.1282      0.169     -0.760      0.447      -0.459       0.202\n",
            "col_The Snakebite Collection                 0.2704      0.407      0.665      0.506      -0.527       1.068\n",
            "col_The Spectrum 2 Collection                0.0904      0.361      0.250      0.802      -0.617       0.798\n",
            "col_The Spectrum Collection                 -0.6635      0.123     -5.401      0.000      -0.904      -0.423\n",
            "col_The St. Marc Collection                  1.4049      0.067     21.027      0.000       1.274       1.536\n",
            "col_The Train Collection                     0.7282      0.145      5.018      0.000       0.444       1.013\n",
            "col_The Vanguard Collection                 -0.4356      0.202     -2.152      0.031      -0.832      -0.039\n",
            "col_The Vertigo Collection                   0.2327      0.131      1.780      0.075      -0.024       0.489\n",
            "col_The Wildfire Collection                 -0.7197      0.153     -4.715      0.000      -1.019      -0.421\n",
            "col_The Winter Offensive Collection          0.8479      0.134      6.321      0.000       0.585       1.111\n",
            "col_The X-Ray Collection                    -1.3974      0.387     -3.610      0.000      -2.156      -0.639\n",
            "col_The eSports 2013 Collection              0.3019      0.617      0.489      0.625      -0.908       1.512\n",
            "col_The eSports 2013 Winter Collection      -0.1854      0.166     -1.115      0.265      -0.511       0.140\n",
            "col_The eSports 2014 Summer Collection      -0.6212      0.099     -6.263      0.000      -0.816      -0.427\n",
            "lock                                        -0.2272      0.007    -31.928      0.000      -0.241      -0.213\n",
            "pattern                                  -1.925e-05   1.13e-05     -1.709      0.087   -4.13e-05    2.83e-06\n",
            "wear                                        -0.8534      0.065    -13.179      0.000      -0.980      -0.727\n",
            "stickers                                     0.0816      0.009      9.300      0.000       0.064       0.099\n",
            "souvenir                                     0.2428      0.019     12.739      0.000       0.205       0.280\n",
            "stattrak                                     0.6010      0.015     40.159      0.000       0.572       0.630\n",
            "colorfulness                                 0.0096      0.001      7.220      0.000       0.007       0.012\n",
            "==============================================================================\n",
            "Omnibus:                    14073.374   Durbin-Watson:                   1.731\n",
            "Prob(Omnibus):                  0.000   Jarque-Bera (JB):           192791.479\n",
            "Skew:                           2.142   Prob(JB):                         0.00\n",
            "Kurtosis:                      15.253   Cond. No.                     8.61e+18\n",
            "==============================================================================\n",
            "\n",
            "Warnings:\n",
            "[1] Standard Errors assume that the covariance matrix of the errors is correctly specified.\n",
            "[2] The smallest eigenvalue is 1.24e-28. This might indicate that there are\n",
            "strong multicollinearity problems or that the design matrix is singular.\n"
          ]
        }
      ]
    },
    {
      "cell_type": "code",
      "source": [
        "all_p = pd.DataFrame({'features':results.pvalues.index, 'p-value':results.pvalues.values})"
      ],
      "metadata": {
        "id": "aLieCG5Gqww9"
      },
      "execution_count": 18,
      "outputs": []
    },
    {
      "cell_type": "code",
      "source": [
        "all_p_sig = all_p[~(all_p['p-value'] > 0.05)]"
      ],
      "metadata": {
        "id": "6hqzxFc0rLSm"
      },
      "execution_count": 19,
      "outputs": []
    },
    {
      "cell_type": "code",
      "source": [
        "all_p_sig = all_p_sig.reset_index()"
      ],
      "metadata": {
        "id": "hwaYoAZPrLgx"
      },
      "execution_count": 20,
      "outputs": []
    },
    {
      "cell_type": "code",
      "source": [
        "all_p_sig"
      ],
      "metadata": {
        "colab": {
          "base_uri": "https://localhost:8080/",
          "height": 424
        },
        "id": "HrViI09TrLty",
        "outputId": "82413056-a61c-4d44-9d04-7bae78627606"
      },
      "execution_count": 21,
      "outputs": [
        {
          "output_type": "execute_result",
          "data": {
            "text/plain": [
              "     index            features        p-value\n",
              "0        0               const  1.432063e-219\n",
              "1        1  ext_Battle-Scarred   1.262078e-23\n",
              "2        2     ext_Factory New  7.619337e-308\n",
              "3        3    ext_Field-Tested   1.297259e-46\n",
              "4        4    ext_Minimal Wear  3.795540e-132\n",
              "..     ...                 ...            ...\n",
              "526   1006                wear   1.536288e-39\n",
              "527   1007            stickers   1.507194e-20\n",
              "528   1008            souvenir   4.590598e-37\n",
              "529   1009            stattrak   0.000000e+00\n",
              "530   1010        colorfulness   5.327650e-13\n",
              "\n",
              "[531 rows x 3 columns]"
            ],
            "text/html": [
              "\n",
              "  <div id=\"df-6857f92d-d742-42eb-a812-699b3e110b5d\">\n",
              "    <div class=\"colab-df-container\">\n",
              "      <div>\n",
              "<style scoped>\n",
              "    .dataframe tbody tr th:only-of-type {\n",
              "        vertical-align: middle;\n",
              "    }\n",
              "\n",
              "    .dataframe tbody tr th {\n",
              "        vertical-align: top;\n",
              "    }\n",
              "\n",
              "    .dataframe thead th {\n",
              "        text-align: right;\n",
              "    }\n",
              "</style>\n",
              "<table border=\"1\" class=\"dataframe\">\n",
              "  <thead>\n",
              "    <tr style=\"text-align: right;\">\n",
              "      <th></th>\n",
              "      <th>index</th>\n",
              "      <th>features</th>\n",
              "      <th>p-value</th>\n",
              "    </tr>\n",
              "  </thead>\n",
              "  <tbody>\n",
              "    <tr>\n",
              "      <th>0</th>\n",
              "      <td>0</td>\n",
              "      <td>const</td>\n",
              "      <td>1.432063e-219</td>\n",
              "    </tr>\n",
              "    <tr>\n",
              "      <th>1</th>\n",
              "      <td>1</td>\n",
              "      <td>ext_Battle-Scarred</td>\n",
              "      <td>1.262078e-23</td>\n",
              "    </tr>\n",
              "    <tr>\n",
              "      <th>2</th>\n",
              "      <td>2</td>\n",
              "      <td>ext_Factory New</td>\n",
              "      <td>7.619337e-308</td>\n",
              "    </tr>\n",
              "    <tr>\n",
              "      <th>3</th>\n",
              "      <td>3</td>\n",
              "      <td>ext_Field-Tested</td>\n",
              "      <td>1.297259e-46</td>\n",
              "    </tr>\n",
              "    <tr>\n",
              "      <th>4</th>\n",
              "      <td>4</td>\n",
              "      <td>ext_Minimal Wear</td>\n",
              "      <td>3.795540e-132</td>\n",
              "    </tr>\n",
              "    <tr>\n",
              "      <th>...</th>\n",
              "      <td>...</td>\n",
              "      <td>...</td>\n",
              "      <td>...</td>\n",
              "    </tr>\n",
              "    <tr>\n",
              "      <th>526</th>\n",
              "      <td>1006</td>\n",
              "      <td>wear</td>\n",
              "      <td>1.536288e-39</td>\n",
              "    </tr>\n",
              "    <tr>\n",
              "      <th>527</th>\n",
              "      <td>1007</td>\n",
              "      <td>stickers</td>\n",
              "      <td>1.507194e-20</td>\n",
              "    </tr>\n",
              "    <tr>\n",
              "      <th>528</th>\n",
              "      <td>1008</td>\n",
              "      <td>souvenir</td>\n",
              "      <td>4.590598e-37</td>\n",
              "    </tr>\n",
              "    <tr>\n",
              "      <th>529</th>\n",
              "      <td>1009</td>\n",
              "      <td>stattrak</td>\n",
              "      <td>0.000000e+00</td>\n",
              "    </tr>\n",
              "    <tr>\n",
              "      <th>530</th>\n",
              "      <td>1010</td>\n",
              "      <td>colorfulness</td>\n",
              "      <td>5.327650e-13</td>\n",
              "    </tr>\n",
              "  </tbody>\n",
              "</table>\n",
              "<p>531 rows × 3 columns</p>\n",
              "</div>\n",
              "      <button class=\"colab-df-convert\" onclick=\"convertToInteractive('df-6857f92d-d742-42eb-a812-699b3e110b5d')\"\n",
              "              title=\"Convert this dataframe to an interactive table.\"\n",
              "              style=\"display:none;\">\n",
              "        \n",
              "  <svg xmlns=\"http://www.w3.org/2000/svg\" height=\"24px\"viewBox=\"0 0 24 24\"\n",
              "       width=\"24px\">\n",
              "    <path d=\"M0 0h24v24H0V0z\" fill=\"none\"/>\n",
              "    <path d=\"M18.56 5.44l.94 2.06.94-2.06 2.06-.94-2.06-.94-.94-2.06-.94 2.06-2.06.94zm-11 1L8.5 8.5l.94-2.06 2.06-.94-2.06-.94L8.5 2.5l-.94 2.06-2.06.94zm10 10l.94 2.06.94-2.06 2.06-.94-2.06-.94-.94-2.06-.94 2.06-2.06.94z\"/><path d=\"M17.41 7.96l-1.37-1.37c-.4-.4-.92-.59-1.43-.59-.52 0-1.04.2-1.43.59L10.3 9.45l-7.72 7.72c-.78.78-.78 2.05 0 2.83L4 21.41c.39.39.9.59 1.41.59.51 0 1.02-.2 1.41-.59l7.78-7.78 2.81-2.81c.8-.78.8-2.07 0-2.86zM5.41 20L4 18.59l7.72-7.72 1.47 1.35L5.41 20z\"/>\n",
              "  </svg>\n",
              "      </button>\n",
              "      \n",
              "  <style>\n",
              "    .colab-df-container {\n",
              "      display:flex;\n",
              "      flex-wrap:wrap;\n",
              "      gap: 12px;\n",
              "    }\n",
              "\n",
              "    .colab-df-convert {\n",
              "      background-color: #E8F0FE;\n",
              "      border: none;\n",
              "      border-radius: 50%;\n",
              "      cursor: pointer;\n",
              "      display: none;\n",
              "      fill: #1967D2;\n",
              "      height: 32px;\n",
              "      padding: 0 0 0 0;\n",
              "      width: 32px;\n",
              "    }\n",
              "\n",
              "    .colab-df-convert:hover {\n",
              "      background-color: #E2EBFA;\n",
              "      box-shadow: 0px 1px 2px rgba(60, 64, 67, 0.3), 0px 1px 3px 1px rgba(60, 64, 67, 0.15);\n",
              "      fill: #174EA6;\n",
              "    }\n",
              "\n",
              "    [theme=dark] .colab-df-convert {\n",
              "      background-color: #3B4455;\n",
              "      fill: #D2E3FC;\n",
              "    }\n",
              "\n",
              "    [theme=dark] .colab-df-convert:hover {\n",
              "      background-color: #434B5C;\n",
              "      box-shadow: 0px 1px 3px 1px rgba(0, 0, 0, 0.15);\n",
              "      filter: drop-shadow(0px 1px 2px rgba(0, 0, 0, 0.3));\n",
              "      fill: #FFFFFF;\n",
              "    }\n",
              "  </style>\n",
              "\n",
              "      <script>\n",
              "        const buttonEl =\n",
              "          document.querySelector('#df-6857f92d-d742-42eb-a812-699b3e110b5d button.colab-df-convert');\n",
              "        buttonEl.style.display =\n",
              "          google.colab.kernel.accessAllowed ? 'block' : 'none';\n",
              "\n",
              "        async function convertToInteractive(key) {\n",
              "          const element = document.querySelector('#df-6857f92d-d742-42eb-a812-699b3e110b5d');\n",
              "          const dataTable =\n",
              "            await google.colab.kernel.invokeFunction('convertToInteractive',\n",
              "                                                     [key], {});\n",
              "          if (!dataTable) return;\n",
              "\n",
              "          const docLinkHtml = 'Like what you see? Visit the ' +\n",
              "            '<a target=\"_blank\" href=https://colab.research.google.com/notebooks/data_table.ipynb>data table notebook</a>'\n",
              "            + ' to learn more about interactive tables.';\n",
              "          element.innerHTML = '';\n",
              "          dataTable['output_type'] = 'display_data';\n",
              "          await google.colab.output.renderOutput(dataTable, element);\n",
              "          const docLink = document.createElement('div');\n",
              "          docLink.innerHTML = docLinkHtml;\n",
              "          element.appendChild(docLink);\n",
              "        }\n",
              "      </script>\n",
              "    </div>\n",
              "  </div>\n",
              "  "
            ]
          },
          "metadata": {},
          "execution_count": 21
        }
      ]
    },
    {
      "cell_type": "markdown",
      "source": [
        "Aus anfangs 1010 Features sind 531 signifikant.  \n",
        "87,80% der Varianz kann durch die Variablen erklärt werden."
      ],
      "metadata": {
        "id": "q8I7mbWuv5aF"
      }
    },
    {
      "cell_type": "markdown",
      "source": [
        "# Speicherung der Daten für das Modell"
      ],
      "metadata": {
        "id": "luKYWjCb637C"
      }
    },
    {
      "cell_type": "code",
      "source": [
        "sig_features = all_p_sig.features.unique()"
      ],
      "metadata": {
        "id": "p84tfsbD17wT"
      },
      "execution_count": 25,
      "outputs": []
    },
    {
      "cell_type": "code",
      "source": [
        "# feature 'const' löschen\n",
        "sig_features = sig_features[1:]"
      ],
      "metadata": {
        "id": "NdmPojaD81JG"
      },
      "execution_count": 33,
      "outputs": []
    },
    {
      "cell_type": "code",
      "source": [
        "sig_data = all_data[sig_features]"
      ],
      "metadata": {
        "id": "ZgCyMs7I8Nja"
      },
      "execution_count": 34,
      "outputs": []
    },
    {
      "cell_type": "code",
      "source": [
        "temp = data[['salePrice', 'salePricelog']]"
      ],
      "metadata": {
        "id": "N0dbIF-78Bh7"
      },
      "execution_count": 35,
      "outputs": []
    },
    {
      "cell_type": "code",
      "source": [
        "finish = pd.concat([temp, sig_data], axis=1)"
      ],
      "metadata": {
        "id": "z91_1nJx8nwE"
      },
      "execution_count": 36,
      "outputs": []
    },
    {
      "cell_type": "code",
      "source": [
        "finish"
      ],
      "metadata": {
        "colab": {
          "base_uri": "https://localhost:8080/",
          "height": 557
        },
        "id": "-TjqCcjt9LED",
        "outputId": "463964cc-3ede-4211-ca23-816c3b5256f9"
      },
      "execution_count": 37,
      "outputs": [
        {
          "output_type": "execute_result",
          "data": {
            "text/plain": [
              "       salePrice  salePricelog  ext_Battle-Scarred  ext_Factory New  \\\n",
              "0         399.13      5.989287                   0                1   \n",
              "1         362.44      5.892859                   0                1   \n",
              "2         400.00      5.991465                   0                1   \n",
              "3         420.73      6.041991                   0                1   \n",
              "4         355.00      5.872118                   0                1   \n",
              "...          ...           ...                 ...              ...   \n",
              "27455      71.84      4.274441                   0                0   \n",
              "27456      73.42      4.296196                   0                0   \n",
              "27457      75.00      4.317488                   0                0   \n",
              "27458      75.00      4.317488                   0                0   \n",
              "27459      86.62      4.461531                   0                0   \n",
              "\n",
              "       ext_Field-Tested  ext_Minimal Wear  ext_Well-Worn  rar_Classified  \\\n",
              "0                     0                 0              0               0   \n",
              "1                     0                 0              0               0   \n",
              "2                     0                 0              0               0   \n",
              "3                     0                 0              0               0   \n",
              "4                     0                 0              0               0   \n",
              "...                 ...               ...            ...             ...   \n",
              "27455                 1                 0              0               0   \n",
              "27456                 1                 0              0               0   \n",
              "27457                 1                 0              0               0   \n",
              "27458                 1                 0              0               0   \n",
              "27459                 1                 0              0               0   \n",
              "\n",
              "       rar_Covert  rar_Extraordinary  ...  col_The Wildfire Collection  \\\n",
              "0               1                  0  ...                            0   \n",
              "1               1                  0  ...                            0   \n",
              "2               1                  0  ...                            0   \n",
              "3               1                  0  ...                            0   \n",
              "4               1                  0  ...                            0   \n",
              "...           ...                ...  ...                          ...   \n",
              "27455           0                  1  ...                            0   \n",
              "27456           0                  1  ...                            0   \n",
              "27457           0                  1  ...                            0   \n",
              "27458           0                  1  ...                            0   \n",
              "27459           0                  1  ...                            0   \n",
              "\n",
              "       col_The Winter Offensive Collection  col_The X-Ray Collection  \\\n",
              "0                                        0                         0   \n",
              "1                                        0                         0   \n",
              "2                                        0                         0   \n",
              "3                                        0                         0   \n",
              "4                                        0                         0   \n",
              "...                                    ...                       ...   \n",
              "27455                                    0                         0   \n",
              "27456                                    0                         0   \n",
              "27457                                    0                         0   \n",
              "27458                                    0                         0   \n",
              "27459                                    0                         0   \n",
              "\n",
              "       col_The eSports 2014 Summer Collection  lock      wear  stickers  \\\n",
              "0                                           0     0  0.033243         0   \n",
              "1                                           0     1  0.025035         0   \n",
              "2                                           0     0  0.006977         0   \n",
              "3                                           0     0  0.006662         0   \n",
              "4                                           0     1  0.062841         0   \n",
              "...                                       ...   ...       ...       ...   \n",
              "27455                                       0     1  0.293997         0   \n",
              "27456                                       0     1  0.185491         0   \n",
              "27457                                       0     1  0.169524         0   \n",
              "27458                                       0     1  0.160716         0   \n",
              "27459                                       0     1  0.329445         0   \n",
              "\n",
              "       souvenir  stattrak  colorfulness  \n",
              "0             0         0     59.790243  \n",
              "1             0         1     57.181995  \n",
              "2             0         0     58.160273  \n",
              "3             0         0     58.489647  \n",
              "4             0         0     60.797777  \n",
              "...         ...       ...           ...  \n",
              "27455         0         0     10.935599  \n",
              "27456         0         0     10.850061  \n",
              "27457         0         0     10.913781  \n",
              "27458         0         0     10.794303  \n",
              "27459         0         0     10.900296  \n",
              "\n",
              "[27460 rows x 532 columns]"
            ],
            "text/html": [
              "\n",
              "  <div id=\"df-79e82e18-3b69-4a56-9088-1105934463e4\">\n",
              "    <div class=\"colab-df-container\">\n",
              "      <div>\n",
              "<style scoped>\n",
              "    .dataframe tbody tr th:only-of-type {\n",
              "        vertical-align: middle;\n",
              "    }\n",
              "\n",
              "    .dataframe tbody tr th {\n",
              "        vertical-align: top;\n",
              "    }\n",
              "\n",
              "    .dataframe thead th {\n",
              "        text-align: right;\n",
              "    }\n",
              "</style>\n",
              "<table border=\"1\" class=\"dataframe\">\n",
              "  <thead>\n",
              "    <tr style=\"text-align: right;\">\n",
              "      <th></th>\n",
              "      <th>salePrice</th>\n",
              "      <th>salePricelog</th>\n",
              "      <th>ext_Battle-Scarred</th>\n",
              "      <th>ext_Factory New</th>\n",
              "      <th>ext_Field-Tested</th>\n",
              "      <th>ext_Minimal Wear</th>\n",
              "      <th>ext_Well-Worn</th>\n",
              "      <th>rar_Classified</th>\n",
              "      <th>rar_Covert</th>\n",
              "      <th>rar_Extraordinary</th>\n",
              "      <th>...</th>\n",
              "      <th>col_The Wildfire Collection</th>\n",
              "      <th>col_The Winter Offensive Collection</th>\n",
              "      <th>col_The X-Ray Collection</th>\n",
              "      <th>col_The eSports 2014 Summer Collection</th>\n",
              "      <th>lock</th>\n",
              "      <th>wear</th>\n",
              "      <th>stickers</th>\n",
              "      <th>souvenir</th>\n",
              "      <th>stattrak</th>\n",
              "      <th>colorfulness</th>\n",
              "    </tr>\n",
              "  </thead>\n",
              "  <tbody>\n",
              "    <tr>\n",
              "      <th>0</th>\n",
              "      <td>399.13</td>\n",
              "      <td>5.989287</td>\n",
              "      <td>0</td>\n",
              "      <td>1</td>\n",
              "      <td>0</td>\n",
              "      <td>0</td>\n",
              "      <td>0</td>\n",
              "      <td>0</td>\n",
              "      <td>1</td>\n",
              "      <td>0</td>\n",
              "      <td>...</td>\n",
              "      <td>0</td>\n",
              "      <td>0</td>\n",
              "      <td>0</td>\n",
              "      <td>0</td>\n",
              "      <td>0</td>\n",
              "      <td>0.033243</td>\n",
              "      <td>0</td>\n",
              "      <td>0</td>\n",
              "      <td>0</td>\n",
              "      <td>59.790243</td>\n",
              "    </tr>\n",
              "    <tr>\n",
              "      <th>1</th>\n",
              "      <td>362.44</td>\n",
              "      <td>5.892859</td>\n",
              "      <td>0</td>\n",
              "      <td>1</td>\n",
              "      <td>0</td>\n",
              "      <td>0</td>\n",
              "      <td>0</td>\n",
              "      <td>0</td>\n",
              "      <td>1</td>\n",
              "      <td>0</td>\n",
              "      <td>...</td>\n",
              "      <td>0</td>\n",
              "      <td>0</td>\n",
              "      <td>0</td>\n",
              "      <td>0</td>\n",
              "      <td>1</td>\n",
              "      <td>0.025035</td>\n",
              "      <td>0</td>\n",
              "      <td>0</td>\n",
              "      <td>1</td>\n",
              "      <td>57.181995</td>\n",
              "    </tr>\n",
              "    <tr>\n",
              "      <th>2</th>\n",
              "      <td>400.00</td>\n",
              "      <td>5.991465</td>\n",
              "      <td>0</td>\n",
              "      <td>1</td>\n",
              "      <td>0</td>\n",
              "      <td>0</td>\n",
              "      <td>0</td>\n",
              "      <td>0</td>\n",
              "      <td>1</td>\n",
              "      <td>0</td>\n",
              "      <td>...</td>\n",
              "      <td>0</td>\n",
              "      <td>0</td>\n",
              "      <td>0</td>\n",
              "      <td>0</td>\n",
              "      <td>0</td>\n",
              "      <td>0.006977</td>\n",
              "      <td>0</td>\n",
              "      <td>0</td>\n",
              "      <td>0</td>\n",
              "      <td>58.160273</td>\n",
              "    </tr>\n",
              "    <tr>\n",
              "      <th>3</th>\n",
              "      <td>420.73</td>\n",
              "      <td>6.041991</td>\n",
              "      <td>0</td>\n",
              "      <td>1</td>\n",
              "      <td>0</td>\n",
              "      <td>0</td>\n",
              "      <td>0</td>\n",
              "      <td>0</td>\n",
              "      <td>1</td>\n",
              "      <td>0</td>\n",
              "      <td>...</td>\n",
              "      <td>0</td>\n",
              "      <td>0</td>\n",
              "      <td>0</td>\n",
              "      <td>0</td>\n",
              "      <td>0</td>\n",
              "      <td>0.006662</td>\n",
              "      <td>0</td>\n",
              "      <td>0</td>\n",
              "      <td>0</td>\n",
              "      <td>58.489647</td>\n",
              "    </tr>\n",
              "    <tr>\n",
              "      <th>4</th>\n",
              "      <td>355.00</td>\n",
              "      <td>5.872118</td>\n",
              "      <td>0</td>\n",
              "      <td>1</td>\n",
              "      <td>0</td>\n",
              "      <td>0</td>\n",
              "      <td>0</td>\n",
              "      <td>0</td>\n",
              "      <td>1</td>\n",
              "      <td>0</td>\n",
              "      <td>...</td>\n",
              "      <td>0</td>\n",
              "      <td>0</td>\n",
              "      <td>0</td>\n",
              "      <td>0</td>\n",
              "      <td>1</td>\n",
              "      <td>0.062841</td>\n",
              "      <td>0</td>\n",
              "      <td>0</td>\n",
              "      <td>0</td>\n",
              "      <td>60.797777</td>\n",
              "    </tr>\n",
              "    <tr>\n",
              "      <th>...</th>\n",
              "      <td>...</td>\n",
              "      <td>...</td>\n",
              "      <td>...</td>\n",
              "      <td>...</td>\n",
              "      <td>...</td>\n",
              "      <td>...</td>\n",
              "      <td>...</td>\n",
              "      <td>...</td>\n",
              "      <td>...</td>\n",
              "      <td>...</td>\n",
              "      <td>...</td>\n",
              "      <td>...</td>\n",
              "      <td>...</td>\n",
              "      <td>...</td>\n",
              "      <td>...</td>\n",
              "      <td>...</td>\n",
              "      <td>...</td>\n",
              "      <td>...</td>\n",
              "      <td>...</td>\n",
              "      <td>...</td>\n",
              "      <td>...</td>\n",
              "    </tr>\n",
              "    <tr>\n",
              "      <th>27455</th>\n",
              "      <td>71.84</td>\n",
              "      <td>4.274441</td>\n",
              "      <td>0</td>\n",
              "      <td>0</td>\n",
              "      <td>1</td>\n",
              "      <td>0</td>\n",
              "      <td>0</td>\n",
              "      <td>0</td>\n",
              "      <td>0</td>\n",
              "      <td>1</td>\n",
              "      <td>...</td>\n",
              "      <td>0</td>\n",
              "      <td>0</td>\n",
              "      <td>0</td>\n",
              "      <td>0</td>\n",
              "      <td>1</td>\n",
              "      <td>0.293997</td>\n",
              "      <td>0</td>\n",
              "      <td>0</td>\n",
              "      <td>0</td>\n",
              "      <td>10.935599</td>\n",
              "    </tr>\n",
              "    <tr>\n",
              "      <th>27456</th>\n",
              "      <td>73.42</td>\n",
              "      <td>4.296196</td>\n",
              "      <td>0</td>\n",
              "      <td>0</td>\n",
              "      <td>1</td>\n",
              "      <td>0</td>\n",
              "      <td>0</td>\n",
              "      <td>0</td>\n",
              "      <td>0</td>\n",
              "      <td>1</td>\n",
              "      <td>...</td>\n",
              "      <td>0</td>\n",
              "      <td>0</td>\n",
              "      <td>0</td>\n",
              "      <td>0</td>\n",
              "      <td>1</td>\n",
              "      <td>0.185491</td>\n",
              "      <td>0</td>\n",
              "      <td>0</td>\n",
              "      <td>0</td>\n",
              "      <td>10.850061</td>\n",
              "    </tr>\n",
              "    <tr>\n",
              "      <th>27457</th>\n",
              "      <td>75.00</td>\n",
              "      <td>4.317488</td>\n",
              "      <td>0</td>\n",
              "      <td>0</td>\n",
              "      <td>1</td>\n",
              "      <td>0</td>\n",
              "      <td>0</td>\n",
              "      <td>0</td>\n",
              "      <td>0</td>\n",
              "      <td>1</td>\n",
              "      <td>...</td>\n",
              "      <td>0</td>\n",
              "      <td>0</td>\n",
              "      <td>0</td>\n",
              "      <td>0</td>\n",
              "      <td>1</td>\n",
              "      <td>0.169524</td>\n",
              "      <td>0</td>\n",
              "      <td>0</td>\n",
              "      <td>0</td>\n",
              "      <td>10.913781</td>\n",
              "    </tr>\n",
              "    <tr>\n",
              "      <th>27458</th>\n",
              "      <td>75.00</td>\n",
              "      <td>4.317488</td>\n",
              "      <td>0</td>\n",
              "      <td>0</td>\n",
              "      <td>1</td>\n",
              "      <td>0</td>\n",
              "      <td>0</td>\n",
              "      <td>0</td>\n",
              "      <td>0</td>\n",
              "      <td>1</td>\n",
              "      <td>...</td>\n",
              "      <td>0</td>\n",
              "      <td>0</td>\n",
              "      <td>0</td>\n",
              "      <td>0</td>\n",
              "      <td>1</td>\n",
              "      <td>0.160716</td>\n",
              "      <td>0</td>\n",
              "      <td>0</td>\n",
              "      <td>0</td>\n",
              "      <td>10.794303</td>\n",
              "    </tr>\n",
              "    <tr>\n",
              "      <th>27459</th>\n",
              "      <td>86.62</td>\n",
              "      <td>4.461531</td>\n",
              "      <td>0</td>\n",
              "      <td>0</td>\n",
              "      <td>1</td>\n",
              "      <td>0</td>\n",
              "      <td>0</td>\n",
              "      <td>0</td>\n",
              "      <td>0</td>\n",
              "      <td>1</td>\n",
              "      <td>...</td>\n",
              "      <td>0</td>\n",
              "      <td>0</td>\n",
              "      <td>0</td>\n",
              "      <td>0</td>\n",
              "      <td>1</td>\n",
              "      <td>0.329445</td>\n",
              "      <td>0</td>\n",
              "      <td>0</td>\n",
              "      <td>0</td>\n",
              "      <td>10.900296</td>\n",
              "    </tr>\n",
              "  </tbody>\n",
              "</table>\n",
              "<p>27460 rows × 532 columns</p>\n",
              "</div>\n",
              "      <button class=\"colab-df-convert\" onclick=\"convertToInteractive('df-79e82e18-3b69-4a56-9088-1105934463e4')\"\n",
              "              title=\"Convert this dataframe to an interactive table.\"\n",
              "              style=\"display:none;\">\n",
              "        \n",
              "  <svg xmlns=\"http://www.w3.org/2000/svg\" height=\"24px\"viewBox=\"0 0 24 24\"\n",
              "       width=\"24px\">\n",
              "    <path d=\"M0 0h24v24H0V0z\" fill=\"none\"/>\n",
              "    <path d=\"M18.56 5.44l.94 2.06.94-2.06 2.06-.94-2.06-.94-.94-2.06-.94 2.06-2.06.94zm-11 1L8.5 8.5l.94-2.06 2.06-.94-2.06-.94L8.5 2.5l-.94 2.06-2.06.94zm10 10l.94 2.06.94-2.06 2.06-.94-2.06-.94-.94-2.06-.94 2.06-2.06.94z\"/><path d=\"M17.41 7.96l-1.37-1.37c-.4-.4-.92-.59-1.43-.59-.52 0-1.04.2-1.43.59L10.3 9.45l-7.72 7.72c-.78.78-.78 2.05 0 2.83L4 21.41c.39.39.9.59 1.41.59.51 0 1.02-.2 1.41-.59l7.78-7.78 2.81-2.81c.8-.78.8-2.07 0-2.86zM5.41 20L4 18.59l7.72-7.72 1.47 1.35L5.41 20z\"/>\n",
              "  </svg>\n",
              "      </button>\n",
              "      \n",
              "  <style>\n",
              "    .colab-df-container {\n",
              "      display:flex;\n",
              "      flex-wrap:wrap;\n",
              "      gap: 12px;\n",
              "    }\n",
              "\n",
              "    .colab-df-convert {\n",
              "      background-color: #E8F0FE;\n",
              "      border: none;\n",
              "      border-radius: 50%;\n",
              "      cursor: pointer;\n",
              "      display: none;\n",
              "      fill: #1967D2;\n",
              "      height: 32px;\n",
              "      padding: 0 0 0 0;\n",
              "      width: 32px;\n",
              "    }\n",
              "\n",
              "    .colab-df-convert:hover {\n",
              "      background-color: #E2EBFA;\n",
              "      box-shadow: 0px 1px 2px rgba(60, 64, 67, 0.3), 0px 1px 3px 1px rgba(60, 64, 67, 0.15);\n",
              "      fill: #174EA6;\n",
              "    }\n",
              "\n",
              "    [theme=dark] .colab-df-convert {\n",
              "      background-color: #3B4455;\n",
              "      fill: #D2E3FC;\n",
              "    }\n",
              "\n",
              "    [theme=dark] .colab-df-convert:hover {\n",
              "      background-color: #434B5C;\n",
              "      box-shadow: 0px 1px 3px 1px rgba(0, 0, 0, 0.15);\n",
              "      filter: drop-shadow(0px 1px 2px rgba(0, 0, 0, 0.3));\n",
              "      fill: #FFFFFF;\n",
              "    }\n",
              "  </style>\n",
              "\n",
              "      <script>\n",
              "        const buttonEl =\n",
              "          document.querySelector('#df-79e82e18-3b69-4a56-9088-1105934463e4 button.colab-df-convert');\n",
              "        buttonEl.style.display =\n",
              "          google.colab.kernel.accessAllowed ? 'block' : 'none';\n",
              "\n",
              "        async function convertToInteractive(key) {\n",
              "          const element = document.querySelector('#df-79e82e18-3b69-4a56-9088-1105934463e4');\n",
              "          const dataTable =\n",
              "            await google.colab.kernel.invokeFunction('convertToInteractive',\n",
              "                                                     [key], {});\n",
              "          if (!dataTable) return;\n",
              "\n",
              "          const docLinkHtml = 'Like what you see? Visit the ' +\n",
              "            '<a target=\"_blank\" href=https://colab.research.google.com/notebooks/data_table.ipynb>data table notebook</a>'\n",
              "            + ' to learn more about interactive tables.';\n",
              "          element.innerHTML = '';\n",
              "          dataTable['output_type'] = 'display_data';\n",
              "          await google.colab.output.renderOutput(dataTable, element);\n",
              "          const docLink = document.createElement('div');\n",
              "          docLink.innerHTML = docLinkHtml;\n",
              "          element.appendChild(docLink);\n",
              "        }\n",
              "      </script>\n",
              "    </div>\n",
              "  </div>\n",
              "  "
            ]
          },
          "metadata": {},
          "execution_count": 37
        }
      ]
    },
    {
      "cell_type": "code",
      "source": [
        "data.to_csv(r'allitems_ready_for_model.csv', index=False, header=True)"
      ],
      "metadata": {
        "id": "R-GqCvHr9L7Q"
      },
      "execution_count": null,
      "outputs": []
    }
  ]
}
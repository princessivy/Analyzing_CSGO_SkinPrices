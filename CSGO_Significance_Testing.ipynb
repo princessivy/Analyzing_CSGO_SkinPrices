{
  "nbformat": 4,
  "nbformat_minor": 0,
  "metadata": {
    "colab": {
      "name": "CSGO_Significance-Testing.ipynb",
      "provenance": [],
      "mount_file_id": "1ZGQs_E0cwrr3FOBw6e6f8Y5H4hyl35oX",
      "authorship_tag": "ABX9TyNfi6nMu3pbT+zpSKvvM5Rx",
      "include_colab_link": true
    },
    "kernelspec": {
      "name": "python3",
      "display_name": "Python 3"
    },
    "language_info": {
      "name": "python"
    }
  },
  "cells": [
    {
      "cell_type": "markdown",
      "metadata": {
        "id": "view-in-github",
        "colab_type": "text"
      },
      "source": [
        "<a href=\"https://colab.research.google.com/github/princessivy/Analyzing_CSGO_SkinPrices/blob/main/CSGO_Significance_Testing.ipynb\" target=\"_parent\"><img src=\"https://colab.research.google.com/assets/colab-badge.svg\" alt=\"Open In Colab\"/></a>"
      ]
    },
    {
      "cell_type": "markdown",
      "source": [
        "#Imports"
      ],
      "metadata": {
        "id": "AoI3znXtvpBS"
      }
    },
    {
      "cell_type": "code",
      "source": [
        "import pandas as pd\n",
        "import numpy as np\n",
        "from google.colab import drive\n",
        "from pathlib import Path\n",
        "\n",
        "from sklearn.linear_model import LinearRegression\n",
        "import statsmodels.api as sm"
      ],
      "metadata": {
        "id": "2IQzJE_cvohV"
      },
      "execution_count": 40,
      "outputs": []
    },
    {
      "cell_type": "markdown",
      "source": [
        "#Daten einlesen"
      ],
      "metadata": {
        "id": "uwhdbuRWvyPq"
      }
    },
    {
      "cell_type": "code",
      "source": [
        "data = pd.read_csv(r'/content/drive/MyDrive/SA_BA/Data/allitems_cleaned_3.csv')"
      ],
      "metadata": {
        "id": "MtTEip7kvoGd"
      },
      "execution_count": 183,
      "outputs": []
    },
    {
      "cell_type": "markdown",
      "source": [
        "# Anpassung der Daten für die Tests"
      ],
      "metadata": {
        "id": "3xN-f9yaTVFQ"
      }
    },
    {
      "cell_type": "code",
      "source": [
        "data.salePrice.hist()"
      ],
      "metadata": {
        "colab": {
          "base_uri": "https://localhost:8080/",
          "height": 282
        },
        "id": "9K86kfAwTS-c",
        "outputId": "1215053f-4401-465d-e155-642bfad12bea"
      },
      "execution_count": 42,
      "outputs": [
        {
          "output_type": "execute_result",
          "data": {
            "text/plain": [
              "<matplotlib.axes._subplots.AxesSubplot at 0x7efd413a9890>"
            ]
          },
          "metadata": {},
          "execution_count": 42
        },
        {
          "output_type": "display_data",
          "data": {
            "text/plain": [
              "<Figure size 432x288 with 1 Axes>"
            ],
            "image/png": "[encoded data removed]"
          },
          "metadata": {
            "needs_background": "light"
          }
        }
      ]
    },
    {
      "cell_type": "code",
      "source": [
        "data['salePricelog'] = np.log(data['salePrice'])"
      ],
      "metadata": {
        "id": "AHTUu62fY2hm"
      },
      "execution_count": 184,
      "outputs": []
    },
    {
      "cell_type": "code",
      "source": [
        "data.salePricelog.hist()"
      ],
      "metadata": {
        "colab": {
          "base_uri": "https://localhost:8080/",
          "height": 282
        },
        "id": "zj1Oe-d2Y82l",
        "outputId": "e8ada9b5-f68c-4ba0-da2f-944c5189380b"
      },
      "execution_count": 106,
      "outputs": [
        {
          "output_type": "execute_result",
          "data": {
            "text/plain": [
              "<matplotlib.axes._subplots.AxesSubplot at 0x7efd41481f10>"
            ]
          },
          "metadata": {},
          "execution_count": 106
        },
        {
          "output_type": "display_data",
          "data": {
            "text/plain": [
              "<Figure size 432x288 with 1 Axes>"
            ],
            "image/png": "[encoded data removed]"
          },
          "metadata": {
            "needs_background": "light"
          }
        }
      ]
    },
    {
      "cell_type": "markdown",
      "source": [
        "Bisher wurden nur die Ausreißer nach oben entfernt. Allerdings gibt es sehr viele Skins, die sehr billig sind, was durch die vorherige EDA sehr deutlich wird und die folgenden Quantile ebenso beweisen. Auch der logarithmierte Preis zeigt eine unschöne Verteilung."
      ],
      "metadata": {
        "id": "PjGJIja3T8LG"
      }
    },
    {
      "cell_type": "code",
      "source": [
        "data.salePrice.quantile(0.5)"
      ],
      "metadata": {
        "colab": {
          "base_uri": "https://localhost:8080/"
        },
        "id": "3zG7vsYNUEO8",
        "outputId": "a9ba698e-7258-476b-8b9d-25f4932b3c1d"
      },
      "execution_count": 45,
      "outputs": [
        {
          "output_type": "execute_result",
          "data": {
            "text/plain": [
              "0.12"
            ]
          },
          "metadata": {},
          "execution_count": 45
        }
      ]
    },
    {
      "cell_type": "markdown",
      "source": [
        "Heißt, 50% der Skins kosten weniger als 12 Cent. "
      ],
      "metadata": {
        "id": "WiznarnjUGly"
      }
    },
    {
      "cell_type": "code",
      "source": [
        "data.salePrice.quantile(0.75)"
      ],
      "metadata": {
        "colab": {
          "base_uri": "https://localhost:8080/"
        },
        "id": "hHsbpJ8iUPJB",
        "outputId": "aca15205-f2e6-487c-dd8b-3ad6291ec761"
      },
      "execution_count": 46,
      "outputs": [
        {
          "output_type": "execute_result",
          "data": {
            "text/plain": [
              "3.0"
            ]
          },
          "metadata": {},
          "execution_count": 46
        }
      ]
    },
    {
      "cell_type": "markdown",
      "source": [
        "Heißt, 75% der Skins kosten weniger als 3 Euro."
      ],
      "metadata": {
        "id": "3skAdcQZUSmm"
      }
    },
    {
      "cell_type": "code",
      "source": [
        "# Mittelwert des Preises\n",
        "print(\"Mittelwert von salePrice (in EUR): \" + str(round(data.salePrice.mean(),2)))\n",
        "\n",
        "# Median des Preises\n",
        "print(\"Median von salePrice (in EUR): \" + str(round(data.salePrice.median(),2)))"
      ],
      "metadata": {
        "colab": {
          "base_uri": "https://localhost:8080/"
        },
        "id": "y-hP5Qn-WhCh",
        "outputId": "f1ef457f-d98d-4d1f-8091-42ddd1df596e"
      },
      "execution_count": 116,
      "outputs": [
        {
          "output_type": "stream",
          "name": "stdout",
          "text": [
            "Mittelwert von salePrice (in EUR): 31.34\n",
            "Median von salePrice (in EUR): 0.12\n"
          ]
        }
      ]
    },
    {
      "cell_type": "markdown",
      "source": [
        "Es ist nicht Sinn dieser Arbeit, der Signifikanz und dem Modell die Daten im unteren Preisbereich zu übergeben. Auf diesen Beobachtungen ist es uninteressant, Wissen über die Daten aufzubauen und würde das Ergebnis nur verzerren. Entsprechend wird sich ab jetzt auf die Skins konzentriert, die mindestens 5 Euro kosten."
      ],
      "metadata": {
        "id": "q5hAWf72UVy-"
      }
    },
    {
      "cell_type": "code",
      "source": [
        "data = data[data.salePrice >= 5]"
      ],
      "metadata": {
        "id": "oFNPQvEzURwb"
      },
      "execution_count": 185,
      "outputs": []
    },
    {
      "cell_type": "code",
      "source": [
        "# Mittelwert des Preises\n",
        "print(\"Mittelwert von salePrice (in EUR): \" + str(round(data.salePrice.mean(),2)))\n",
        "\n",
        "# Median des Preises\n",
        "print(\"Median von salePrice (in EUR): \" + str(round(data.salePrice.median(),2)))"
      ],
      "metadata": {
        "colab": {
          "base_uri": "https://localhost:8080/"
        },
        "id": "yiMe1fC1WWOQ",
        "outputId": "2c63f06f-3d48-43a8-adbd-113d8a65020c"
      },
      "execution_count": 118,
      "outputs": [
        {
          "output_type": "stream",
          "name": "stdout",
          "text": [
            "Mittelwert von salePrice (in EUR): 149.47\n",
            "Median von salePrice (in EUR): 34.5\n"
          ]
        }
      ]
    },
    {
      "cell_type": "code",
      "source": [
        "data.salePrice.hist()"
      ],
      "metadata": {
        "colab": {
          "base_uri": "https://localhost:8080/",
          "height": 282
        },
        "id": "Kj_Let-mYti4",
        "outputId": "7490b05e-d644-4ef0-dbf5-1e5a11f0bebc"
      },
      "execution_count": 110,
      "outputs": [
        {
          "output_type": "execute_result",
          "data": {
            "text/plain": [
              "<matplotlib.axes._subplots.AxesSubplot at 0x7efd3e8ebbd0>"
            ]
          },
          "metadata": {},
          "execution_count": 110
        },
        {
          "output_type": "display_data",
          "data": {
            "text/plain": [
              "<Figure size 432x288 with 1 Axes>"
            ],
            "image/png": "[encoded data removed]"
          },
          "metadata": {
            "needs_background": "light"
          }
        }
      ]
    },
    {
      "cell_type": "code",
      "source": [
        "data.salePricelog.hist()"
      ],
      "metadata": {
        "colab": {
          "base_uri": "https://localhost:8080/",
          "height": 285
        },
        "id": "NRuQNmT-XBbZ",
        "outputId": "38a6e03c-ca73-43ec-a2b0-6bc24cf3c702"
      },
      "execution_count": 111,
      "outputs": [
        {
          "output_type": "execute_result",
          "data": {
            "text/plain": [
              "<matplotlib.axes._subplots.AxesSubplot at 0x7efd3e7f5d90>"
            ]
          },
          "metadata": {},
          "execution_count": 111
        },
        {
          "output_type": "display_data",
          "data": {
            "text/plain": [
              "<Figure size 432x288 with 1 Axes>"
            ],
            "image/png": "[encoded data removed]"
          },
          "metadata": {
            "needs_background": "light"
          }
        }
      ]
    },
    {
      "cell_type": "markdown",
      "source": [
        "Beim logarithmierten salePrice mit Skinpreis-Werten mit mindestens 5 ist eine deutlich angenehmere Verteilung zu erkennen. Entsprechend wird mit diesen Daten weiter verfahren."
      ],
      "metadata": {
        "id": "b5FMfFY8ZPGt"
      }
    },
    {
      "cell_type": "code",
      "source": [
        "print(\"Von 132789 Beobachtungen sind durch die Kürzung der Daten bezüglich des Preises >= 5 Euro noch \" + str(len(data)) + \" Beobachtungen übrig.\")"
      ],
      "metadata": {
        "colab": {
          "base_uri": "https://localhost:8080/"
        },
        "id": "_caqXM1RZZDJ",
        "outputId": "013df120-fc2c-419f-b0c9-56e25da139d2"
      },
      "execution_count": 114,
      "outputs": [
        {
          "output_type": "stream",
          "name": "stdout",
          "text": [
            "Von 132789 Beobachtungen sind durch die Kürzung der Daten bezüglich des Preises >= 5 Euro noch 27460 Beobachtungen übrig.\n"
          ]
        }
      ]
    },
    {
      "cell_type": "markdown",
      "source": [
        "# Datenaufbereitung für Signifikanztest (und für Modell später)"
      ],
      "metadata": {
        "id": "kW7OTS4vwkBj"
      }
    },
    {
      "cell_type": "code",
      "execution_count": 145,
      "metadata": {
        "colab": {
          "base_uri": "https://localhost:8080/"
        },
        "id": "3wF4cCcrvc29",
        "outputId": "ba089e39-e2ed-485e-c54c-b27230a79d75"
      },
      "outputs": [
        {
          "output_type": "execute_result",
          "data": {
            "text/plain": [
              "Index(['index', 'assetId', 'family', 'lock', 'version', 'salePrice',\n",
              "       'category', 'subCategory', 'pattern', 'wear', 'exterior', 'quality',\n",
              "       'rarity', 'collection', 'stickers', 'souvenir', 'stattrak',\n",
              "       'colorfulness', 'cats_colorfulness', 'salePricelog'],\n",
              "      dtype='object')"
            ]
          },
          "metadata": {},
          "execution_count": 145
        }
      ],
      "source": [
        "# übrige Features:\n",
        "data.columns"
      ]
    },
    {
      "cell_type": "markdown",
      "source": [
        "Die Features *index* und *assetId* können direkt gelöscht werden, da diese nur zur Unterstützung der Visualisierungen dienten."
      ],
      "metadata": {
        "id": "boKYtbAYwspz"
      }
    },
    {
      "cell_type": "code",
      "source": [
        "data = data.drop(['index', 'assetId'], axis = 1)"
      ],
      "metadata": {
        "id": "SWIISxW2wo_n"
      },
      "execution_count": 146,
      "outputs": []
    },
    {
      "cell_type": "code",
      "source": [
        "# kategorische Features filtern\n",
        "data.dtypes"
      ],
      "metadata": {
        "colab": {
          "base_uri": "https://localhost:8080/"
        },
        "id": "bL0QGC2Rwu8D",
        "outputId": "6fff947e-555b-4429-920a-13b40c839882"
      },
      "execution_count": 147,
      "outputs": [
        {
          "output_type": "execute_result",
          "data": {
            "text/plain": [
              "family                object\n",
              "lock                   int64\n",
              "version               object\n",
              "salePrice            float64\n",
              "category              object\n",
              "subCategory           object\n",
              "pattern                int64\n",
              "wear                 float64\n",
              "exterior              object\n",
              "quality               object\n",
              "rarity                object\n",
              "collection            object\n",
              "stickers               int64\n",
              "souvenir               int64\n",
              "stattrak               int64\n",
              "colorfulness         float64\n",
              "cats_colorfulness     object\n",
              "salePricelog         float64\n",
              "dtype: object"
            ]
          },
          "metadata": {},
          "execution_count": 147
        }
      ]
    },
    {
      "cell_type": "markdown",
      "source": [
        "Kategorisch:\n",
        "* family\n",
        "* version\n",
        "* category\n",
        "* subCategory\n",
        "* exterior\n",
        "* quality\n",
        "* rarity\n",
        "* collection\n",
        "* cats_colorfulness"
      ],
      "metadata": {
        "id": "2DPLEvBEw3c6"
      }
    },
    {
      "cell_type": "markdown",
      "source": [
        "**Einordnung Skalenniveaus:**\n",
        "\n",
        "Davon ordinalskaliert mit Anzahl Ausprägungen:\n",
        "* exterior, 5\n",
        "* rarity, 7\n",
        "* cats_colorfulness, 6\n",
        "\n",
        "Davon nominalskaliert mit Anzahl Ausprägungen:\n",
        "* family, 818\n",
        "* version, 20\n",
        "* category, 6\n",
        "* subCategory, 61\n",
        "* quality, 5\n",
        "* collection, 75"
      ],
      "metadata": {
        "id": "CIUQVPZKw5EX"
      }
    },
    {
      "cell_type": "markdown",
      "source": [
        "## Ordinale Daten: Label-Encoding oder One-Hot-Encoding?"
      ],
      "metadata": {
        "id": "KvqdHpXLckPt"
      }
    },
    {
      "cell_type": "markdown",
      "source": [
        "### Version 1: Label-Encoding"
      ],
      "metadata": {
        "id": "-yupoYfiSzsK"
      }
    },
    {
      "cell_type": "markdown",
      "source": [
        "**Im Folgenden werden die ordinalskalierten Daten encodiert (Label-Encoding):**  \n",
        "*(mir ist bewusst, dass es hierfür auch from sklearn.preprocessing import LabelEncoder gibt, allerdings kann ich durch manuelles Arbeiten sicher gehen, dass die Zahlen in der richtigen Reihenfolge vergeben werden)*"
      ],
      "metadata": {
        "id": "7BLBGBqUw8gl"
      }
    },
    {
      "cell_type": "code",
      "source": [
        "data_lab = data.copy()"
      ],
      "metadata": {
        "id": "5zZDhEhxiIRz"
      },
      "execution_count": 197,
      "outputs": []
    },
    {
      "cell_type": "markdown",
      "source": [
        "**exterior**  \n",
        "Reihenfolge von gut zu schlecht: Factory New, Minimal Wear, Field-Tested, Well-Worn, Battle-Scarred.  \n",
        "Entsprechend enthält Battle-Scarred den niedrigsten und Factory New den höchsten Wert."
      ],
      "metadata": {
        "id": "LKFWoa1Zw_ph"
      }
    },
    {
      "cell_type": "code",
      "source": [
        "data_lab.exterior.unique()"
      ],
      "metadata": {
        "colab": {
          "base_uri": "https://localhost:8080/"
        },
        "id": "Y1bGd530w7vk",
        "outputId": "1e6098cd-6daf-41ba-9947-e4b14a388dbf"
      },
      "execution_count": 198,
      "outputs": [
        {
          "output_type": "execute_result",
          "data": {
            "text/plain": [
              "array(['Factory New', 'Minimal Wear', 'Field-Tested', 'Battle-Scarred',\n",
              "       'Well-Worn'], dtype=object)"
            ]
          },
          "metadata": {},
          "execution_count": 198
        }
      ]
    },
    {
      "cell_type": "code",
      "source": [
        "def encode_exterior(x):\n",
        "  if x == 'Factory New':\n",
        "    return 5\n",
        "  elif x == 'Minimal Wear':\n",
        "    return 4\n",
        "  elif x == 'Field-Tested':\n",
        "    return 3\n",
        "  elif x == 'Well-Worn':\n",
        "    return 2\n",
        "  elif x == 'Battle-Scarred':\n",
        "    return 1"
      ],
      "metadata": {
        "id": "CP619phGxFg6"
      },
      "execution_count": 148,
      "outputs": []
    },
    {
      "cell_type": "code",
      "source": [
        "data_lab.exterior = data_lab.exterior.apply(encode_exterior)"
      ],
      "metadata": {
        "id": "OyiMDDH1xIFq"
      },
      "execution_count": 199,
      "outputs": []
    },
    {
      "cell_type": "markdown",
      "source": [
        "**rarity**  \n",
        "Reihenfolge von gut zu schlecht: Extraordinary, Covert, Classified, Restricted, Mil-Spec Grade, Industrial Grade, Consumer Grade.  "
      ],
      "metadata": {
        "id": "9Ot7Yo5OxNkw"
      }
    },
    {
      "cell_type": "code",
      "source": [
        "data_lab.rarity.unique()"
      ],
      "metadata": {
        "colab": {
          "base_uri": "https://localhost:8080/"
        },
        "id": "O7_YSjNKxKDd",
        "outputId": "5826478e-e281-4515-ea1b-b27e6780ac8d"
      },
      "execution_count": 200,
      "outputs": [
        {
          "output_type": "execute_result",
          "data": {
            "text/plain": [
              "array(['Covert', 'Restricted', 'Mil-Spec Grade', 'Classified',\n",
              "       'Industrial Grade', 'Consumer Grade', 'Extraordinary'],\n",
              "      dtype=object)"
            ]
          },
          "metadata": {},
          "execution_count": 200
        }
      ]
    },
    {
      "cell_type": "markdown",
      "source": [
        "Bemerkung: In *Extraordinary* stecken alle Skins der Kategorie Gloves. Diese sind mit *Covert* gleichgestellt. Entsprechend werden diese in die gleichie Kategorie fallen."
      ],
      "metadata": {
        "id": "hp-60g4YxSyO"
      }
    },
    {
      "cell_type": "code",
      "source": [
        "data_lab[data_lab['rarity'] == 'Extraordinary'].category.unique()"
      ],
      "metadata": {
        "colab": {
          "base_uri": "https://localhost:8080/"
        },
        "id": "ceFAd3idxPub",
        "outputId": "8ce6442d-2f46-464c-d681-6669b0d8f8ab"
      },
      "execution_count": 201,
      "outputs": [
        {
          "output_type": "execute_result",
          "data": {
            "text/plain": [
              "array(['Gloves'], dtype=object)"
            ]
          },
          "metadata": {},
          "execution_count": 201
        }
      ]
    },
    {
      "cell_type": "code",
      "source": [
        "def encode_rarity(x):\n",
        "  if (x == 'Extraordinary') or (x == 'Covert'):\n",
        "    return 6\n",
        "  elif x == 'Classified':\n",
        "    return 5\n",
        "  elif x == 'Restricted':\n",
        "    return 4\n",
        "  elif x == 'Mil-Spec Grade':\n",
        "    return 3\n",
        "  elif x == 'Industrial Grade':\n",
        "    return 2\n",
        "  elif x == 'Consumer Grade':\n",
        "    return 1"
      ],
      "metadata": {
        "id": "tXZ2RcV7xViA"
      },
      "execution_count": 151,
      "outputs": []
    },
    {
      "cell_type": "code",
      "source": [
        "data_lab.rarity = data_lab.rarity.apply(encode_rarity)"
      ],
      "metadata": {
        "id": "KIcVwkj4xYZI"
      },
      "execution_count": 202,
      "outputs": []
    },
    {
      "cell_type": "markdown",
      "source": [
        "**cats_colorfulness**"
      ],
      "metadata": {
        "id": "oJnZOLoFxfML"
      }
    },
    {
      "cell_type": "markdown",
      "source": [
        "Reihenfolge von gut zu schlecht: extremely colorful, highly colorful, quite colorful, averagely colorful, moderately colorful, slightly colorful, not colorful."
      ],
      "metadata": {
        "id": "KN29VaHMxioQ"
      }
    },
    {
      "cell_type": "code",
      "source": [
        "data_lab.cats_colorfulness.unique()"
      ],
      "metadata": {
        "colab": {
          "base_uri": "https://localhost:8080/"
        },
        "id": "r1US_md6xaGe",
        "outputId": "ba16a5de-2932-4e01-d98c-639f095d4600"
      },
      "execution_count": 203,
      "outputs": [
        {
          "output_type": "execute_result",
          "data": {
            "text/plain": [
              "array(['highly colorful', 'quite colorful', 'slightly colorful',\n",
              "       'moderately colorful', 'averagely colorful', 'extemely colorful'],\n",
              "      dtype=object)"
            ]
          },
          "metadata": {},
          "execution_count": 203
        }
      ]
    },
    {
      "cell_type": "code",
      "source": [
        "def encode_colors(x):\n",
        "  if x == 'extemely colorful':\n",
        "    return 6\n",
        "  elif x == 'highly colorful':\n",
        "    return 5\n",
        "  elif x == 'quite colorful':\n",
        "    return 4\n",
        "  elif x == 'averagely colorful':\n",
        "    return 3\n",
        "  elif x == 'moderately colorful':\n",
        "    return 2\n",
        "  elif x == 'slightly colorful':\n",
        "    return 1\n",
        "  elif x == 'not colorful': #gibt's nicht\n",
        "    return 0"
      ],
      "metadata": {
        "id": "_njZj6Pgxnlv"
      },
      "execution_count": 153,
      "outputs": []
    },
    {
      "cell_type": "code",
      "source": [
        "data_lab.cats_colorfulness = data_lab.cats_colorfulness.apply(encode_colors)"
      ],
      "metadata": {
        "id": "xyu9vhsGxqO_"
      },
      "execution_count": 204,
      "outputs": []
    },
    {
      "cell_type": "markdown",
      "source": [
        "#### Signifikanztest"
      ],
      "metadata": {
        "id": "AN89p_9bc6jO"
      }
    },
    {
      "cell_type": "code",
      "source": [
        "y = data_lab['salePricelog']\n",
        "X = data_lab[['exterior', 'rarity', 'cats_colorfulness']]"
      ],
      "metadata": {
        "id": "b6nVeS3zc9dL"
      },
      "execution_count": 205,
      "outputs": []
    },
    {
      "cell_type": "code",
      "source": [
        "model_lr = LinearRegression()"
      ],
      "metadata": {
        "id": "VxeP2FsMdVZv"
      },
      "execution_count": 206,
      "outputs": []
    },
    {
      "cell_type": "code",
      "source": [
        "X = sm.add_constant(X)"
      ],
      "metadata": {
        "colab": {
          "base_uri": "https://localhost:8080/"
        },
        "id": "gR5o0esldVk2",
        "outputId": "95bbe5e6-8108-4f45-efac-b02613ffea82"
      },
      "execution_count": 207,
      "outputs": [
        {
          "output_type": "stream",
          "name": "stderr",
          "text": [
            "/usr/local/lib/python3.7/dist-packages/statsmodels/tsa/tsatools.py:117: FutureWarning: In a future version of pandas all arguments of concat except for the argument 'objs' will be keyword-only\n",
            "  x = pd.concat(x[::order], 1)\n"
          ]
        }
      ]
    },
    {
      "cell_type": "code",
      "source": [
        "model = sm.OLS(y,X)\n",
        "results = model.fit()"
      ],
      "metadata": {
        "id": "yFmDaXrtdZS3"
      },
      "execution_count": 208,
      "outputs": []
    },
    {
      "cell_type": "code",
      "source": [
        "print(results.summary())"
      ],
      "metadata": {
        "colab": {
          "base_uri": "https://localhost:8080/"
        },
        "id": "0LjJHejrdZcF",
        "outputId": "081e6243-caba-4760-94e4-0d7de332c6b1"
      },
      "execution_count": 209,
      "outputs": [
        {
          "output_type": "stream",
          "name": "stdout",
          "text": [
            "                            OLS Regression Results                            \n",
            "==============================================================================\n",
            "Dep. Variable:           salePricelog   R-squared:                       0.231\n",
            "Model:                            OLS   Adj. R-squared:                  0.231\n",
            "Method:                 Least Squares   F-statistic:                     2757.\n",
            "Date:                Thu, 05 May 2022   Prob (F-statistic):               0.00\n",
            "Time:                        09:25:26   Log-Likelihood:                -46328.\n",
            "No. Observations:               27460   AIC:                         9.266e+04\n",
            "Df Residuals:                   27456   BIC:                         9.270e+04\n",
            "Df Model:                           3                                         \n",
            "Covariance Type:            nonrobust                                         \n",
            "=====================================================================================\n",
            "                        coef    std err          t      P>|t|      [0.025      0.975]\n",
            "-------------------------------------------------------------------------------------\n",
            "const                 0.2147      0.049      4.359      0.000       0.118       0.311\n",
            "exterior              0.2018      0.007     27.980      0.000       0.188       0.216\n",
            "rarity                0.6223      0.007     90.356      0.000       0.609       0.636\n",
            "cats_colorfulness    -0.1847      0.009    -21.554      0.000      -0.202      -0.168\n",
            "==============================================================================\n",
            "Omnibus:                     1061.513   Durbin-Watson:                   0.473\n",
            "Prob(Omnibus):                  0.000   Jarque-Bera (JB):             1167.751\n",
            "Skew:                           0.496   Prob(JB):                    2.67e-254\n",
            "Kurtosis:                       2.808   Cond. No.                         42.9\n",
            "==============================================================================\n",
            "\n",
            "Warnings:\n",
            "[1] Standard Errors assume that the covariance matrix of the errors is correctly specified.\n"
          ]
        }
      ]
    },
    {
      "cell_type": "markdown",
      "source": [
        "23,10% der Varianz wird durch die Daten erklärt und alle Features sind signifikant."
      ],
      "metadata": {
        "id": "d_X9DUOheE0t"
      }
    },
    {
      "cell_type": "markdown",
      "source": [
        "### Speicher- & Ladepunkt"
      ],
      "metadata": {
        "id": "ywQJSQzKTEHT"
      }
    },
    {
      "cell_type": "markdown",
      "source": [
        "Diese Ladepunkt lädt die Daten ohne Label-Encoding. Die Daten enthalten das Feature salePricelog und sind reduziert auf salePrice >= 5."
      ],
      "metadata": {
        "id": "rzosllCRijFI"
      }
    },
    {
      "cell_type": "code",
      "source": [
        "data.to_csv(r'allitems_cleaned_4.csv', index=False, header=True)"
      ],
      "metadata": {
        "id": "Hba_sdCGxs4O"
      },
      "execution_count": 212,
      "outputs": []
    },
    {
      "cell_type": "code",
      "source": [
        "data = pd.read_csv(r'/content/drive/MyDrive/SA_BA/Data/allitems_cleaned_4.csv')"
      ],
      "metadata": {
        "id": "frcS-tNRxzQZ"
      },
      "execution_count": 213,
      "outputs": []
    },
    {
      "cell_type": "markdown",
      "source": [
        "### Version 2: One-Hot-Encoding"
      ],
      "metadata": {
        "id": "4n5nbgKRS7VR"
      }
    },
    {
      "cell_type": "markdown",
      "source": [
        "Nun wird geguckt, ob sich mittels One-Hot-Encoding eine höhere erklärbare Varianz ergibt."
      ],
      "metadata": {
        "id": "_Af53kqYe4Up"
      }
    },
    {
      "cell_type": "code",
      "source": [
        "# exterior\n",
        "data2 = pd.get_dummies(data.exterior, prefix='ext')\n",
        "data2 = pd.concat([data, data2], axis=1)"
      ],
      "metadata": {
        "id": "s1uiolo2fBL7"
      },
      "execution_count": 186,
      "outputs": []
    },
    {
      "cell_type": "code",
      "source": [
        "# rarity\n",
        "data3 = pd.get_dummies(data.rarity, prefix='rar')\n",
        "data2 = pd.concat([data2, data3], axis=1)"
      ],
      "metadata": {
        "id": "tHlmyIvhfBfY"
      },
      "execution_count": 187,
      "outputs": []
    },
    {
      "cell_type": "code",
      "source": [
        "# cats_colorfulness\n",
        "data3 = pd.get_dummies(data.cats_colorfulness, prefix='color')\n",
        "data2 = pd.concat([data2, data3], axis=1)"
      ],
      "metadata": {
        "id": "cKwyb6SFfBmx"
      },
      "execution_count": 188,
      "outputs": []
    },
    {
      "cell_type": "markdown",
      "source": [
        "#### Signifikanztest"
      ],
      "metadata": {
        "id": "rXpRqIJcjidr"
      }
    },
    {
      "cell_type": "code",
      "source": [
        "y = data['salePricelog']\n",
        "X = data2[['ext_Battle-Scarred', 'ext_Factory New', 'ext_Field-Tested',\n",
        "       'ext_Minimal Wear', 'ext_Well-Worn', 'rar_Classified',\n",
        "       'rar_Consumer Grade', 'rar_Covert', 'rar_Extraordinary',\n",
        "       'rar_Industrial Grade', 'rar_Mil-Spec Grade', 'rar_Restricted',\n",
        "       'color_averagely colorful', 'color_extemely colorful',\n",
        "       'color_highly colorful', 'color_moderately colorful',\n",
        "       'color_quite colorful', 'color_slightly colorful']]"
      ],
      "metadata": {
        "id": "v_wl0OLvfBt1"
      },
      "execution_count": 191,
      "outputs": []
    },
    {
      "cell_type": "code",
      "source": [
        "model_lr = LinearRegression()"
      ],
      "metadata": {
        "id": "EIZNHiCafB2p"
      },
      "execution_count": 192,
      "outputs": []
    },
    {
      "cell_type": "code",
      "source": [
        "X = sm.add_constant(X)"
      ],
      "metadata": {
        "colab": {
          "base_uri": "https://localhost:8080/"
        },
        "id": "8ix_6-hgfB__",
        "outputId": "de2905ea-4c71-4374-e897-8a175bd7c711"
      },
      "execution_count": 193,
      "outputs": [
        {
          "output_type": "stream",
          "name": "stderr",
          "text": [
            "/usr/local/lib/python3.7/dist-packages/statsmodels/tsa/tsatools.py:117: FutureWarning: In a future version of pandas all arguments of concat except for the argument 'objs' will be keyword-only\n",
            "  x = pd.concat(x[::order], 1)\n"
          ]
        }
      ]
    },
    {
      "cell_type": "code",
      "source": [
        "model = sm.OLS(y,X)\n",
        "results = model.fit()"
      ],
      "metadata": {
        "id": "3ZG6r0dIfzr_"
      },
      "execution_count": 194,
      "outputs": []
    },
    {
      "cell_type": "code",
      "source": [
        "print(results.summary())"
      ],
      "metadata": {
        "colab": {
          "base_uri": "https://localhost:8080/"
        },
        "id": "2RHT-V-Jfz6D",
        "outputId": "ce01ad66-9dbc-424f-f0cd-1855162c7d35"
      },
      "execution_count": 195,
      "outputs": [
        {
          "output_type": "stream",
          "name": "stdout",
          "text": [
            "                            OLS Regression Results                            \n",
            "==============================================================================\n",
            "Dep. Variable:           salePricelog   R-squared:                       0.329\n",
            "Model:                            OLS   Adj. R-squared:                  0.329\n",
            "Method:                 Least Squares   F-statistic:                     897.3\n",
            "Date:                Thu, 05 May 2022   Prob (F-statistic):               0.00\n",
            "Time:                        09:20:26   Log-Likelihood:                -44464.\n",
            "No. Observations:               27460   AIC:                         8.896e+04\n",
            "Df Residuals:                   27444   BIC:                         8.909e+04\n",
            "Df Model:                          15                                         \n",
            "Covariance Type:            nonrobust                                         \n",
            "=============================================================================================\n",
            "                                coef    std err          t      P>|t|      [0.025      0.975]\n",
            "---------------------------------------------------------------------------------------------\n",
            "const                         2.0427      0.031     66.042      0.000       1.982       2.103\n",
            "ext_Battle-Scarred            0.2410      0.028      8.684      0.000       0.187       0.295\n",
            "ext_Factory New               0.9526      0.015     63.119      0.000       0.923       0.982\n",
            "ext_Field-Tested              0.1695      0.016     10.636      0.000       0.138       0.201\n",
            "ext_Minimal Wear              0.4198      0.016     25.916      0.000       0.388       0.452\n",
            "ext_Well-Worn                 0.2597      0.031      8.480      0.000       0.200       0.320\n",
            "rar_Classified                0.0935      0.019      4.862      0.000       0.056       0.131\n",
            "rar_Consumer Grade           -0.5672      0.066     -8.563      0.000      -0.697      -0.437\n",
            "rar_Covert                    1.3803      0.017     82.937      0.000       1.348       1.413\n",
            "rar_Extraordinary             2.4072      0.030     79.235      0.000       2.348       2.467\n",
            "rar_Industrial Grade         -0.6266      0.040    -15.650      0.000      -0.705      -0.548\n",
            "rar_Mil-Spec Grade           -0.4649      0.026    -17.964      0.000      -0.516      -0.414\n",
            "rar_Restricted               -0.1796      0.021     -8.409      0.000      -0.221      -0.138\n",
            "color_averagely colorful      0.5502      0.043     12.744      0.000       0.466       0.635\n",
            "color_extemely colorful       0.2669      0.218      1.227      0.220      -0.159       0.693\n",
            "color_highly colorful        -0.2295      0.059     -3.863      0.000      -0.346      -0.113\n",
            "color_moderately colorful     0.4557      0.040     11.341      0.000       0.377       0.534\n",
            "color_quite colorful          0.3303      0.047      7.064      0.000       0.239       0.422\n",
            "color_slightly colorful       0.6691      0.041     16.467      0.000       0.589       0.749\n",
            "==============================================================================\n",
            "Omnibus:                     1890.052   Durbin-Watson:                   0.535\n",
            "Prob(Omnibus):                  0.000   Jarque-Bera (JB):             2318.211\n",
            "Skew:                           0.674   Prob(JB):                         0.00\n",
            "Kurtosis:                       3.455   Cond. No.                     4.51e+15\n",
            "==============================================================================\n",
            "\n",
            "Warnings:\n",
            "[1] Standard Errors assume that the covariance matrix of the errors is correctly specified.\n",
            "[2] The smallest eigenvalue is 2.61e-27. This might indicate that there are\n",
            "strong multicollinearity problems or that the design matrix is singular.\n"
          ]
        }
      ]
    },
    {
      "cell_type": "markdown",
      "source": [
        "Die Varianz der Daten lässt sich mittels One-Hot-Encoding der ordinalskalierten Daten zu 32,90% erklären. Nur das Feature 'color_extremely colorful' ist nicht signifikant. "
      ],
      "metadata": {
        "id": "gBJi_A55gbsk"
      }
    },
    {
      "cell_type": "markdown",
      "source": [
        "Somit werden die ordinalskalierten Daten im weiteren Verlauf mittels One-Hot-Encoding behandelt."
      ],
      "metadata": {
        "id": "RCm7Hf7TgpGL"
      }
    },
    {
      "cell_type": "markdown",
      "source": [
        "## Nominalskalierte Daten"
      ],
      "metadata": {
        "id": "I9KZbCbij2j2"
      }
    },
    {
      "cell_type": "markdown",
      "source": [
        "* family, 818\n",
        "* version, 20\n",
        "* category, 6\n",
        "* subCategory, 61\n",
        "* quality, 5\n",
        "* collection, 75"
      ],
      "metadata": {
        "id": "izLf_ETtyA3C"
      }
    },
    {
      "cell_type": "markdown",
      "source": [
        "**family**"
      ],
      "metadata": {
        "id": "vK06udiFd76w"
      }
    },
    {
      "cell_type": "code",
      "source": [
        "data2 = pd.get_dummies(data.family, prefix='fam')"
      ],
      "metadata": {
        "id": "lvFXOFMXmXry"
      },
      "execution_count": 215,
      "outputs": []
    },
    {
      "cell_type": "code",
      "source": [
        "cols = data2.columns"
      ],
      "metadata": {
        "id": "zVtZ8ruqmX4P"
      },
      "execution_count": 218,
      "outputs": []
    },
    {
      "cell_type": "code",
      "source": [
        "data2 = pd.concat([data, data2], axis=1)"
      ],
      "metadata": {
        "id": "-gElYUiRmYDO"
      },
      "execution_count": 219,
      "outputs": []
    },
    {
      "cell_type": "code",
      "source": [
        "y = data['salePricelog']\n",
        "X = data2[cols]"
      ],
      "metadata": {
        "id": "akIdlsWpmYNI"
      },
      "execution_count": 220,
      "outputs": []
    },
    {
      "cell_type": "code",
      "source": [
        "model_lr = LinearRegression()"
      ],
      "metadata": {
        "id": "Tgzq-HFcnIjX"
      },
      "execution_count": 222,
      "outputs": []
    },
    {
      "cell_type": "code",
      "source": [
        "X = sm.add_constant(X)"
      ],
      "metadata": {
        "colab": {
          "base_uri": "https://localhost:8080/"
        },
        "id": "F1d1i1HOnIyS",
        "outputId": "df5fb5fd-45f0-46c4-8689-0d106989dba7"
      },
      "execution_count": 223,
      "outputs": [
        {
          "output_type": "stream",
          "name": "stderr",
          "text": [
            "/usr/local/lib/python3.7/dist-packages/statsmodels/tsa/tsatools.py:117: FutureWarning: In a future version of pandas all arguments of concat except for the argument 'objs' will be keyword-only\n",
            "  x = pd.concat(x[::order], 1)\n"
          ]
        }
      ]
    },
    {
      "cell_type": "code",
      "source": [
        "model = sm.OLS(y,X)\n",
        "results = model.fit()"
      ],
      "metadata": {
        "id": "-H_VXCNjnJAk"
      },
      "execution_count": 224,
      "outputs": []
    },
    {
      "cell_type": "code",
      "source": [
        "print(results.summary())"
      ],
      "metadata": {
        "colab": {
          "base_uri": "https://localhost:8080/"
        },
        "id": "ei1uSwwdnOc-",
        "outputId": "a7b93144-7b20-41dc-fef0-9e2c69afce31"
      },
      "execution_count": 225,
      "outputs": [
        {
          "output_type": "stream",
          "name": "stdout",
          "text": [
            "                            OLS Regression Results                            \n",
            "==============================================================================\n",
            "Dep. Variable:           salePricelog   R-squared:                       0.665\n",
            "Model:                            OLS   Adj. R-squared:                  0.655\n",
            "Method:                 Least Squares   F-statistic:                     64.70\n",
            "Date:                Thu, 05 May 2022   Prob (F-statistic):               0.00\n",
            "Time:                        09:46:31   Log-Likelihood:                -34932.\n",
            "No. Observations:               27460   AIC:                         7.150e+04\n",
            "Df Residuals:                   26642   BIC:                         7.822e+04\n",
            "Df Model:                         817                                         \n",
            "Covariance Type:            nonrobust                                         \n",
            "=============================================================================================\n",
            "                                coef    std err          t      P>|t|      [0.025      0.975]\n",
            "---------------------------------------------------------------------------------------------\n",
            "const                         3.1995      0.015    206.430      0.000       3.169       3.230\n",
            "fam_3rd Commando Company      1.7157      0.213      8.058      0.000       1.298       2.133\n",
            "fam_Abyss                    -0.8348      0.219     -3.805      0.000      -1.265      -0.405\n",
            "fam_Abyssal Apparition       -0.5646      0.169     -3.337      0.001      -0.896      -0.233\n",
            "fam_Acheron                  -1.0114      0.253     -3.994      0.000      -1.508      -0.515\n",
            "fam_Acid Etched              -0.6555      0.392     -1.673      0.094      -1.424       0.113\n",
            "fam_Acid Fade                -1.0942      0.277     -3.946      0.000      -1.638      -0.551\n",
            "fam_Aerial                   -0.9468      0.506     -1.872      0.061      -1.938       0.044\n",
            "fam_Afterimage                0.4336      0.292      1.484      0.138      -0.139       1.006\n",
            "fam_Agent                    -0.7251      0.392     -1.851      0.064      -1.493       0.043\n",
            "fam_Airlock                  -0.7325      0.235     -3.124      0.002      -1.192      -0.273\n",
            "fam_Akihabara Accept          3.2040      0.227     14.140      0.000       2.760       3.648\n",
            "fam_Akoben                   -1.0093      0.392     -2.576      0.010      -1.777      -0.241\n",
            "fam_Allure                    0.5317      0.506      1.051      0.293      -0.460       1.523\n",
            "fam_Aloha                    -0.9320      0.438     -2.128      0.033      -1.791      -0.073\n",
            "fam_Amber Fade               -0.5703      0.158     -3.609      0.000      -0.880      -0.261\n",
            "fam_Amphibious                3.4417      0.207     16.631      0.000       3.036       3.847\n",
            "fam_Ancient Lore              0.5203      0.172      3.018      0.003       0.182       0.858\n",
            "fam_Ancient Ritual           -1.0286      0.506     -2.034      0.042      -2.020      -0.037\n",
            "fam_Ancient Visions           0.8171      0.133      6.148      0.000       0.557       1.078\n",
            "fam_Angry Mob                -0.9301      0.158     -5.886      0.000      -1.240      -0.620\n",
            "fam_Anodized Navy            -0.1524      0.331     -0.460      0.645      -0.802       0.497\n",
            "fam_Anolis                   -0.9891      0.876     -1.129      0.259      -2.705       0.727\n",
            "fam_Antique                  -0.9243      0.166     -5.562      0.000      -1.250      -0.599\n",
            "fam_Apocalypto               -0.7303      0.358     -2.041      0.041      -1.432      -0.029\n",
            "fam_Aqua Terrace              0.9515      0.876      1.087      0.277      -0.765       2.668\n",
            "fam_Aquamarine Revenge        0.3051      0.100      3.041      0.002       0.108       0.502\n",
            "fam_Arboreal                  1.4626      0.196      7.447      0.000       1.078       1.847\n",
            "fam_Arctic Wolf              -0.7266      0.179     -4.050      0.000      -1.078      -0.375\n",
            "fam_Arid                      2.6423      0.392      6.743      0.000       1.874       3.410\n",
            "fam_Aristocrat               -0.6666      0.506     -1.318      0.187      -1.658       0.325\n",
            "fam_Armor Core               -0.8200      0.876     -0.936      0.349      -2.536       0.896\n",
            "fam_Army Sheen               -1.0519      0.277     -3.793      0.000      -1.595      -0.508\n",
            "fam_Ash Wood                 -0.9915      0.310     -3.199      0.001      -1.599      -0.384\n",
            "fam_Asiimov                   0.7613      0.038     19.812      0.000       0.686       0.837\n",
            "fam_Assault                  -1.2620      0.619     -2.038      0.042      -2.476      -0.048\n",
            "fam_Astral Jörmungandr        1.9229      0.196      9.791      0.000       1.538       2.308\n",
            "fam_Atheris                  -0.7675      0.070    -10.948      0.000      -0.905      -0.630\n",
            "fam_Atlas                    -1.0436      0.506     -2.064      0.039      -2.035      -0.052\n",
            "fam_Atomic Alloy              0.3747      0.147      2.553      0.011       0.087       0.662\n",
            "fam_Autotronic                2.2996      0.077     29.998      0.000       2.149       2.450\n",
            "fam_Autumn Twilly            -0.4903      0.358     -1.370      0.171      -1.192       0.211\n",
            "fam_Avalanche                -0.4833      0.235     -2.061      0.039      -0.943      -0.024\n",
            "fam_Aztec                    -1.5901      0.876     -1.816      0.069      -3.306       0.126\n",
            "fam_Azure Zebra              -0.3647      0.619     -0.589      0.556      -1.579       0.849\n",
            "fam_BI83 Spectrum            -0.8016      0.876     -0.915      0.360      -2.518       0.915\n",
            "fam_BOOM                      1.6028      0.096     16.658      0.000       1.414       1.791\n",
            "fam_Badlands                  1.5640      0.264      5.915      0.000       1.046       2.082\n",
            "fam_Bamboo Forest            -1.1488      0.264     -4.344      0.000      -1.667      -0.630\n",
            "fam_Bamboo Print             -0.8837      0.619     -1.427      0.154      -2.098       0.330\n",
            "fam_Bamboozle                -0.8697      0.438     -1.985      0.047      -1.728      -0.011\n",
            "fam_Banana Leaf              -0.7657      0.358     -2.140      0.032      -1.467      -0.064\n",
            "fam_Baroque Orange            0.8637      0.392      2.204      0.028       0.096       1.632\n",
            "fam_Baroque Purple           -1.0586      0.130     -8.142      0.000      -1.313      -0.804\n",
            "fam_Baroque Red              -0.3119      0.619     -0.504      0.614      -1.526       0.902\n",
            "fam_Barricade                -0.9728      0.506     -1.924      0.054      -1.964       0.018\n",
            "fam_Basilisk                 -0.1496      0.172     -0.868      0.385      -0.488       0.188\n",
            "fam_Bengal Tiger             -0.2334      0.136     -1.716      0.086      -0.500       0.033\n",
            "fam_Berries And Cherries      0.3925      0.113      3.468      0.001       0.171       0.614\n",
            "fam_Big Game                  2.8542      0.235     12.171      0.000       2.395       3.314\n",
            "fam_Big Iron                 -0.3779      0.192     -1.971      0.049      -0.754      -0.002\n",
            "fam_Bioleak                  -0.8979      0.876     -1.025      0.305      -2.614       0.818\n",
            "fam_Black Laminate            1.9388      0.072     27.088      0.000       1.798       2.079\n",
            "fam_Black Limba              -0.7736      0.506     -1.530      0.126      -1.765       0.218\n",
            "fam_Black Lotus              -1.1281      0.145     -7.793      0.000      -1.412      -0.844\n",
            "fam_Black Sand               -1.1915      0.358     -3.330      0.001      -1.893      -0.490\n",
            "fam_Black Tie                 2.7461      0.156     17.654      0.000       2.441       3.051\n",
            "fam_Blast From the Past      -0.8162      0.133     -6.141      0.000      -1.077      -0.556\n",
            "fam_Blaze                     0.5271      0.093      5.693      0.000       0.346       0.709\n",
            "fam_Blaze Orange              0.7123      0.876      0.813      0.416      -1.004       2.429\n",
            "fam_Bleached                 -0.5076      0.619     -0.820      0.412      -1.721       0.706\n",
            "fam_Blind Spot               -0.1082      0.227     -0.478      0.633      -0.552       0.336\n",
            "fam_Blood Pressure            2.3836      0.158     15.085      0.000       2.074       2.693\n",
            "fam_Blood Tiger               0.4203      0.121      3.466      0.001       0.183       0.658\n",
            "fam_Blood in the Water        0.4549      0.122      3.716      0.000       0.215       0.695\n",
            "fam_Bloodshot                -0.7646      0.219     -3.484      0.000      -1.195      -0.334\n",
            "fam_Bloodsport                0.8073      0.054     14.817      0.000       0.700       0.914\n",
            "fam_Bloomstick                0.1172      0.438      0.268      0.789      -0.741       0.976\n",
            "fam_Blue Fissure              0.8661      0.196      4.410      0.000       0.481       1.251\n",
            "fam_Blue Laminate             0.3765      0.062      6.076      0.000       0.255       0.498\n",
            "fam_Blue Phosphor             2.4318      0.092     26.403      0.000       2.251       2.612\n",
            "fam_Blue Ply                 -1.3181      0.438     -3.009      0.003      -2.177      -0.460\n",
            "fam_Blue Spruce               1.9712      0.619      3.183      0.001       0.757       3.185\n",
            "fam_Blue Steel                1.9191      0.071     27.137      0.000       1.781       2.058\n",
            "fam_Blue Streak              -1.3307      0.619     -2.149      0.032      -2.545      -0.117\n",
            "fam_Blue Tire                 0.1077      0.876      0.123      0.902      -1.609       1.824\n",
            "fam_Blue Titanium            -0.4773      0.196     -2.431      0.015      -0.862      -0.092\n",
            "fam_Blueprint                -0.2079      0.133     -1.564      0.118      -0.468       0.053\n",
            "fam_Bone Forged              -0.7842      0.506     -1.551      0.121      -1.775       0.207\n",
            "fam_Bone Machine              0.2542      0.619      0.411      0.681      -0.960       1.468\n",
            "fam_Bone Mask                -1.1383      0.438     -2.599      0.009      -1.997      -0.280\n",
            "fam_Boom!                     2.3549      0.243      9.678      0.000       1.878       2.832\n",
            "fam_Boost Protocol           -0.5184      0.331     -1.565      0.118      -1.168       0.131\n",
            "fam_Boreal Forest             1.4442      0.086     16.707      0.000       1.275       1.614\n",
            "fam_Brake Light              -1.4094      0.876     -1.610      0.108      -3.126       0.307\n",
            "fam_Brass                     0.2151      0.213      1.010      0.312      -0.202       0.632\n",
            "fam_Bratatat                 -0.9166      0.392     -2.339      0.019      -1.685      -0.149\n",
            "fam_Briar                    -0.5119      0.264     -1.936      0.053      -1.030       0.006\n",
            "fam_Briefing                 -0.8530      0.183     -4.656      0.000      -1.212      -0.494\n",
            "fam_Bright Water              1.8872      0.095     19.837      0.000       1.701       2.074\n",
            "fam_Bronze Deco              -1.1779      0.264     -4.455      0.000      -1.696      -0.660\n",
            "fam_Bronze Morph              1.9940      0.172     11.566      0.000       1.656       2.332\n",
            "fam_Bronzed                   1.3590      0.219      6.193      0.000       0.929       1.789\n",
            "fam_Brother                  -0.7560      0.392     -1.929      0.054      -1.524       0.012\n",
            "fam_Buckshot                  1.2176      0.207      5.884      0.000       0.812       1.623\n",
            "fam_Buddy                    -1.4912      0.876     -1.703      0.089      -3.208       0.225\n",
            "fam_Bulkhead                 -0.8549      0.358     -2.390      0.017      -1.556      -0.154\n",
            "fam_Bulldozer                 0.2178      0.219      0.993      0.321      -0.212       0.648\n",
            "fam_Bullet Queen             -0.3870      0.090     -4.289      0.000      -0.564      -0.210\n",
            "fam_Bullet Rain              -0.1698      0.134     -1.263      0.206      -0.433       0.094\n",
            "fam_Bunsen Burner            -0.1870      0.438     -0.427      0.669      -1.046       0.672\n",
            "fam_Business Class            0.4891      0.876      0.559      0.576      -1.227       2.205\n",
            "fam_Button Masher            -1.5243      0.876     -1.741      0.082      -3.241       0.192\n",
            "fam_Buzz Kill                -0.3095      0.110     -2.822      0.005      -0.525      -0.095\n",
            "fam_CAUTION!                  1.9397      0.141     13.752      0.000       1.663       2.216\n",
            "fam_Caiman                    0.3729      0.201      1.851      0.064      -0.022       0.768\n",
            "fam_Calf Skin                -1.1779      0.392     -3.006      0.003      -1.946      -0.410\n",
            "fam_CaliCamo                 -0.6354      0.619     -1.026      0.305      -1.849       0.578\n",
            "fam_Candy Apple              -0.3523      0.111     -3.188      0.001      -0.569      -0.136\n",
            "fam_Capillary                -0.4158      0.213     -1.953      0.051      -0.833       0.002\n",
            "fam_Caramel                  -1.1310      0.392     -2.886      0.004      -1.899      -0.363\n",
            "fam_Carbon Fiber             -0.4354      0.292     -1.490      0.136      -1.008       0.137\n",
            "fam_Cardiac                   0.0801      0.438      0.183      0.855      -0.778       0.939\n",
            "fam_Carnivore                -0.6738      0.876     -0.769      0.442      -2.390       1.043\n",
            "fam_Cartel                   -0.7909      0.109     -7.264      0.000      -1.004      -0.577\n",
            "fam_Carved Jade              -0.3731      0.115     -3.244      0.001      -0.599      -0.148\n",
            "fam_Case Hardened             1.6787      0.040     42.195      0.000       1.601       1.757\n",
            "fam_Cassette                 -0.8079      0.438     -1.844      0.065      -1.667       0.051\n",
            "fam_Catacombs                -0.8879      0.392     -2.266      0.023      -1.656      -0.120\n",
            "fam_Cerberus                  0.1691      0.187      0.903      0.367      -0.198       0.536\n",
            "fam_Chainmail                -0.4447      0.172     -2.580      0.010      -0.783      -0.107\n",
            "fam_Chalice                   2.7103      0.292      9.274      0.000       2.137       3.283\n",
            "fam_Chameleon                -0.4138      0.227     -1.826      0.068      -0.858       0.030\n",
            "fam_Chantico's Fire           0.5133      0.088      5.829      0.000       0.341       0.686\n",
            "fam_Charred                   1.4790      0.163      9.056      0.000       1.159       1.799\n",
            "fam_Chatterbox               -0.3939      0.196     -2.006      0.045      -0.779      -0.009\n",
            "fam_Check Engine             -0.3709      0.358     -1.037      0.300      -1.072       0.330\n",
            "fam_Chemical Green           -1.1407      0.277     -4.113      0.000      -1.684      -0.597\n",
            "fam_Chopper                  -0.7184      0.438     -1.640      0.101      -1.577       0.140\n",
            "fam_Chromatic Aberration     -0.7574      0.187     -4.043      0.000      -1.124      -0.390\n",
            "fam_Chronos                   1.8919      0.876      2.161      0.031       0.176       3.608\n",
            "fam_Cinquedea                 2.7908      0.392      7.122      0.000       2.023       3.559\n",
            "fam_Circaetus                -1.1850      0.506     -2.343      0.019      -2.176      -0.194\n",
            "fam_Cirrus                   -0.9963      0.331     -3.008      0.003      -1.646      -0.347\n",
            "fam_Classic Crate            -0.8237      0.876     -0.941      0.347      -2.540       0.893\n",
            "fam_Clear Polymer            -1.1917      0.264     -4.506      0.000      -1.710      -0.673\n",
            "fam_Coach Class               0.1598      0.876      0.182      0.855      -1.557       1.876\n",
            "fam_Cobalt Core              -0.8992      0.619     -1.452      0.147      -2.113       0.315\n",
            "fam_Cobalt Disruption         1.1495      0.127      9.029      0.000       0.900       1.399\n",
            "fam_Cobalt Halftone          -1.4044      0.876     -1.604      0.109      -3.121       0.312\n",
            "fam_Cobalt Quartz            -1.2255      0.876     -1.399      0.162      -2.942       0.491\n",
            "fam_Cobalt Skulls             2.9067      0.176     16.535      0.000       2.562       3.251\n",
            "fam_Cobra Strike              0.5738      0.506      1.135      0.257      -0.417       1.565\n",
            "fam_Cocoa Rampage            -1.1795      0.506     -2.332      0.020      -2.171      -0.188\n",
            "fam_Code Red                  0.2534      0.098      2.588      0.010       0.061       0.445\n",
            "fam_Cold Blooded              0.7093      0.264      2.682      0.007       0.191       1.228\n",
            "fam_Cold Fusion              -1.0218      0.619     -1.650      0.099      -2.236       0.192\n",
            "fam_Colony                   -0.8901      0.310     -2.872      0.004      -1.498      -0.283\n",
            "fam_Colony IV                -0.4069      0.213     -1.911      0.056      -0.824       0.010\n",
            "fam_Commemoration            -0.2537      0.121     -2.092      0.036      -0.491      -0.016\n",
            "fam_Commuter                 -0.7142      0.506     -1.412      0.158      -1.705       0.277\n",
            "fam_Connexion                -0.4782      0.438     -1.092      0.275      -1.337       0.380\n",
            "fam_Conspiracy               -1.0462      0.076    -13.743      0.000      -1.195      -0.897\n",
            "fam_Constrictor               1.2516      0.219      5.704      0.000       0.821       1.682\n",
            "fam_Containment Breach        0.9904      0.076     12.965      0.000       0.841       1.140\n",
            "fam_Contaminant              -1.4078      0.619     -2.273      0.023      -2.622      -0.194\n",
            "fam_Contamination            -0.2153      0.438     -0.492      0.623      -1.074       0.643\n",
            "fam_Contractor               -0.4505      0.358     -1.259      0.208      -1.152       0.251\n",
            "fam_Contrast Spray            0.0314      0.506      0.062      0.951      -0.960       1.023\n",
            "fam_Control Panel            -0.0874      0.213     -0.411      0.681      -0.505       0.330\n",
            "fam_Converter                -1.1676      0.207     -5.642      0.000      -1.573      -0.762\n",
            "fam_Convoy                    1.2487      0.172      7.243      0.000       0.911       1.587\n",
            "fam_Cool Mint                 2.2377      0.292      7.657      0.000       1.665       2.811\n",
            "fam_Coolant                  -1.0718      0.438     -2.447      0.014      -1.930      -0.213\n",
            "fam_Copper                    1.6210      0.392      4.137      0.000       0.853       2.389\n",
            "fam_Copper Borre              1.0083      0.253      3.982      0.000       0.512       1.505\n",
            "fam_Copper Galaxy            -0.9076      0.169     -5.364      0.000      -1.239      -0.576\n",
            "fam_Copperhead                1.4623      0.619      2.361      0.018       0.248       2.676\n",
            "fam_Corinthian               -0.7503      0.253     -2.963      0.003      -1.247      -0.254\n",
            "fam_Corporal                 -0.2976      0.876     -0.340      0.734      -2.014       1.419\n",
            "fam_Cortex                   -0.8541      0.076    -11.298      0.000      -1.002      -0.706\n",
            "fam_Corticera                -0.3472      0.138     -2.523      0.012      -0.617      -0.077\n",
            "fam_Counter Terrace           1.5028      0.392      3.835      0.000       0.735       2.271\n",
            "fam_Cracked Opal             -1.2551      0.876     -1.433      0.152      -2.971       0.461\n",
            "fam_Crime Scene               0.3737      0.156      2.403      0.016       0.069       0.679\n",
            "fam_Crimson Blossom           0.9010      0.253      3.558      0.000       0.405       1.397\n",
            "fam_Crimson Kimono            1.3191      0.207      6.374      0.000       0.914       1.725\n",
            "fam_Crimson Tsunami          -1.5762      0.876     -1.800      0.072      -3.293       0.140\n",
            "fam_Crimson Weave             2.4698      0.201     12.260      0.000       2.075       2.865\n",
            "fam_Crimson Web               1.8350      0.052     35.127      0.000       1.733       1.937\n",
            "fam_Crypsis                  -0.9695      0.876     -1.107      0.268      -2.686       0.747\n",
            "fam_Curse                    -1.0728      0.619     -1.732      0.083      -2.287       0.141\n",
            "fam_Cut Out                  -0.7155      0.876     -0.817      0.414      -2.432       1.001\n",
            "fam_Cyber Security           -0.3771      0.107     -3.539      0.000      -0.586      -0.168\n",
            "fam_Cyber Shell              -0.4448      0.438     -1.015      0.310      -1.303       0.414\n",
            "fam_Cyrex                    -0.0635      0.053     -1.198      0.231      -0.167       0.040\n",
            "fam_Daedalus                 -1.2551      0.876     -1.433      0.152      -2.971       0.461\n",
            "fam_Damascus Steel            1.8550      0.061     30.200      0.000       1.735       1.975\n",
            "fam_Dark Age                  0.9310      0.227      4.109      0.000       0.487       1.375\n",
            "fam_Dark Blossom             -0.7438      0.207     -3.594      0.000      -1.149      -0.338\n",
            "fam_Dark Filigree            -1.1339      0.876     -1.295      0.195      -2.850       0.582\n",
            "fam_Dark Water                0.2590      0.088      2.955      0.003       0.087       0.431\n",
            "fam_Darkwing                 -0.7244      0.331     -2.187      0.029      -1.374      -0.075\n",
            "fam_Day Lily                  0.3477      0.331      1.050      0.294      -0.302       0.997\n",
            "fam_Daybreak                  2.1883      0.253      8.642      0.000       1.692       2.685\n",
            "fam_Dazzle                   -0.9760      0.876     -1.115      0.265      -2.692       0.740\n",
            "fam_Deadly Poison            -1.1220      0.619     -1.812      0.070      -2.336       0.092\n",
            "fam_Death Grip               -1.1201      0.876     -1.279      0.201      -2.836       0.596\n",
            "fam_Death Rattle             -1.0293      0.392     -2.627      0.009      -1.797      -0.261\n",
            "fam_Death Strike              1.9163      0.219      8.733      0.000       1.486       2.346\n",
            "fam_Death by Kitty            0.8377      0.253      3.308      0.001       0.341       1.334\n",
            "fam_Death by Puppy           -0.8366      0.253     -3.304      0.001      -1.333      -0.340\n",
            "fam_Death's Head             -1.4408      0.392     -3.677      0.000      -2.209      -0.673\n",
            "fam_Decimator                -0.4536      0.054     -8.367      0.000      -0.560      -0.347\n",
            "fam_Decommissioned           -1.5206      0.619     -2.455      0.014      -2.734      -0.307\n",
            "fam_Deep Relief              -1.1796      0.619     -1.905      0.057      -2.393       0.034\n",
            "fam_Delusion                 -0.9580      0.438     -2.187      0.029      -1.817      -0.099\n",
            "fam_Demeter                  -1.0124      0.438     -2.311      0.021      -1.871      -0.154\n",
            "fam_Demolition               -1.1596      0.876     -1.324      0.185      -2.876       0.557\n",
            "fam_Desert Blossom           -0.9780      0.134     -7.276      0.000      -1.241      -0.715\n",
            "fam_Desert DDPAT             -0.6031      0.619     -0.974      0.330      -1.817       0.611\n",
            "fam_Desert Hydra              4.3107      0.156     27.713      0.000       4.006       4.616\n",
            "fam_Desert Shamagh            1.3418      0.163      8.216      0.000       1.022       1.662\n",
            "fam_Desert Storm             -0.0224      0.277     -0.081      0.936      -0.566       0.521\n",
            "fam_Desert Strike            -0.7146      0.876     -0.816      0.414      -2.431       1.002\n",
            "fam_Desert Warfare           -0.2816      0.331     -0.850      0.395      -0.931       0.368\n",
            "fam_Desert-Strike            -0.3650      0.235     -1.556      0.120      -0.825       0.095\n",
            "fam_Desolate Space           -0.7058      0.097     -7.251      0.000      -0.897      -0.515\n",
            "fam_Detour                   -0.4973      0.243     -2.044      0.041      -0.974      -0.020\n",
            "fam_Devourer                 -0.7067      0.196     -3.599      0.000      -1.092      -0.322\n",
            "fam_Diamondback               1.5874      0.438      3.624      0.000       0.729       2.446\n",
            "fam_Digital Architect         0.4906      0.292      1.679      0.093      -0.082       1.063\n",
            "fam_Digital Mesh             -0.8801      0.619     -1.421      0.155      -2.094       0.334\n",
            "fam_Directive                -1.0979      0.292     -3.757      0.000      -1.671      -0.525\n",
            "fam_Disco Tech               -0.9488      0.139     -6.812      0.000      -1.222      -0.676\n",
            "fam_Dispatch                 -0.9739      0.243     -4.002      0.000      -1.451      -0.497\n",
            "fam_Distressed                0.7161      0.876      0.818      0.414      -1.000       2.432\n",
            "fam_Djinn                    -1.0818      0.392     -2.761      0.006      -1.850      -0.314\n",
            "fam_Doomkitty                 2.1204      0.876      2.421      0.015       0.404       3.837\n",
            "fam_Doppler                   2.7393      0.032     84.308      0.000       2.676       2.803\n",
            "fam_Dragon Lore               5.2675      0.310     16.996      0.000       4.660       5.875\n",
            "fam_Dragon Tattoo             1.4492      0.156      9.317      0.000       1.144       1.754\n",
            "fam_Dragonfire               -0.5431      0.074     -7.330      0.000      -0.688      -0.398\n",
            "fam_Dream Glade              -1.4451      0.506     -2.858      0.004      -2.436      -0.454\n",
            "fam_Drought                  -1.3050      0.161     -8.126      0.000      -1.620      -0.990\n",
            "fam_Dualing Dragons          -1.3911      0.506     -2.751      0.006      -2.382      -0.400\n",
            "fam_Duct Tape                 1.2135      0.163      7.430      0.000       0.893       1.534\n",
            "fam_Duelist                   0.8520      0.619      1.376      0.169      -0.362       2.066\n",
            "fam_Dusk Ruins               -0.5835      0.133     -4.390      0.000      -0.844      -0.323\n",
            "fam_Eclipse                   2.1167      0.235      9.026      0.000       1.657       2.576\n",
            "fam_Eco                      -0.7092      0.310     -2.288      0.022      -1.317      -0.102\n",
            "fam_Electric Hive             1.1085      0.103     10.767      0.000       0.907       1.310\n",
            "fam_Elegant Vines             0.4467      0.176      2.541      0.011       0.102       0.791\n",
            "fam_Elite Build              -0.6636      0.072     -9.272      0.000      -0.804      -0.523\n",
            "fam_Embargo                  -0.7677      0.331     -2.317      0.020      -1.417      -0.118\n",
            "fam_Emerald                   0.6463      0.095      6.793      0.000       0.460       0.833\n",
            "fam_Emerald Dragon            1.5514      0.264      5.867      0.000       1.033       2.070\n",
            "fam_Emerald Jörmungandr       2.1845      0.097     22.442      0.000       1.994       2.375\n",
            "fam_Emerald Pinstripe        -0.7981      0.119     -6.703      0.000      -1.031      -0.565\n",
            "fam_Emerald Poison Dart      -0.2976      0.876     -0.340      0.734      -2.014       1.419\n",
            "fam_Emerald Quartz            0.8781      0.277      3.167      0.002       0.335       1.422\n",
            "fam_Emerald Web               2.8264      0.213     13.275      0.000       2.409       3.244\n",
            "fam_Enforcer                 -1.0221      0.392     -2.608      0.009      -1.790      -0.254\n",
            "fam_Ensnared                 -0.9121      0.358     -2.549      0.011      -1.613      -0.211\n",
            "fam_Entombed                 -0.9607      0.163     -5.882      0.000      -1.281      -0.641\n",
            "fam_Evil Daimyo              -0.9118      0.120     -7.589      0.000      -1.147      -0.676\n",
            "fam_Exo                      -0.8969      0.876     -1.024      0.306      -2.613       0.819\n",
            "fam_Exoskeleton              -0.9946      0.107     -9.336      0.000      -1.203      -0.786\n",
            "fam_Exposure                 -1.2551      0.876     -1.433      0.152      -2.971       0.461\n",
            "fam_Eye of Athena            -1.0348      0.149     -6.954      0.000      -1.326      -0.743\n",
            "fam_Facets                   -0.3140      0.392     -0.801      0.423      -1.082       0.454\n",
            "fam_Facility Dark            -0.4843      0.392     -1.236      0.217      -1.252       0.284\n",
            "fam_Facility Negative        -0.2818      0.876     -0.322      0.748      -1.998       1.435\n",
            "fam_Facility Sketch           0.4536      0.619      0.733      0.464      -0.760       1.667\n",
            "fam_Fade                      1.8267      0.044     41.192      0.000       1.740       1.914\n",
            "fam_Faded Zebra               0.2233      0.219      1.018      0.309      -0.207       0.653\n",
            "fam_Fairy Tale               -0.6488      0.145     -4.482      0.000      -0.933      -0.365\n",
            "fam_Fall Hazard               2.1129      0.264      7.990      0.000       1.595       2.631\n",
            "fam_Fallout Warning          -0.1308      0.264     -0.495      0.621      -0.649       0.387\n",
            "fam_Fennec Fox                2.3253      0.112     20.712      0.000       2.105       2.545\n",
            "fam_Fever Dream              -0.9731      0.062    -15.740      0.000      -1.094      -0.852\n",
            "fam_Field Agent               2.9863      0.196     15.206      0.000       2.601       3.371\n",
            "fam_Finish Line               2.5279      0.227     11.156      0.000       2.084       2.972\n",
            "fam_Fire Elemental           -0.2894      0.163     -1.772      0.076      -0.609       0.031\n",
            "fam_Fire Serpent              3.5524      0.125     28.468      0.000       3.308       3.797\n",
            "fam_Firefight                -0.9851      0.506     -1.948      0.051      -1.976       0.006\n",
            "fam_Firestarter              -0.8350      0.506     -1.651      0.099      -1.826       0.156\n",
            "fam_First Class               0.6604      0.331      1.994      0.046       0.011       1.310\n",
            "fam_Fizzy POP                -1.2029      0.292     -4.116      0.000      -1.776      -0.630\n",
            "fam_Flame Jörmungandr         2.0176      0.201     10.015      0.000       1.623       2.412\n",
            "fam_Flame Test               -1.5150      0.876     -1.730      0.084      -3.231       0.201\n",
            "fam_Flashback                -1.0430      0.090    -11.615      0.000      -1.219      -0.867\n",
            "fam_Fleet Flock              -1.0502      0.253     -4.147      0.000      -1.547      -0.554\n",
            "fam_Flux                     -0.6066      0.219     -2.764      0.006      -1.037      -0.176\n",
            "fam_Food Chain               -1.1083      0.093    -11.907      0.000      -1.291      -0.926\n",
            "fam_Foresight                -0.8101      0.506     -1.602      0.109      -1.801       0.181\n",
            "fam_Forest DDPAT              1.6825      0.084     20.075      0.000       1.518       1.847\n",
            "fam_Forest Leaves            -0.6029      0.438     -1.376      0.169      -1.461       0.256\n",
            "fam_Forest Night             -0.4916      0.506     -0.972      0.331      -1.483       0.500\n",
            "fam_Foundation                2.3265      0.213     10.927      0.000       1.909       2.744\n",
            "fam_Fowl Play                -1.0237      0.292     -3.503      0.000      -1.597      -0.451\n",
            "fam_Framework                -0.8969      0.876     -1.024      0.306      -2.613       0.819\n",
            "fam_Franklin                  0.3276      0.117      2.800      0.005       0.098       0.557\n",
            "fam_Freehand                  2.0584      0.082     25.181      0.000       1.898       2.219\n",
            "fam_Freight                  -1.4576      0.506     -2.882      0.004      -2.449      -0.466\n",
            "fam_Frontside Misty          -0.0686      0.080     -0.856      0.392      -0.226       0.088\n",
            "fam_Frost Borre               1.0027      0.243      4.121      0.000       0.526       1.480\n",
            "fam_Fubar                    -1.3966      0.438     -3.188      0.001      -2.255      -0.538\n",
            "fam_Fuel Injector             1.0905      0.091     11.963      0.000       0.912       1.269\n",
            "fam_Fuel Rod                 -1.4181      0.619     -2.290      0.022      -2.632      -0.204\n",
            "fam_Full Stop                -1.0374      0.876     -1.185      0.236      -2.754       0.679\n",
            "fam_Gamma Doppler             0.8044      0.028     28.378      0.000       0.749       0.860\n",
            "fam_Gator Mesh                0.4150      0.392      1.059      0.290      -0.353       1.183\n",
            "fam_Ghost Camo               -0.1040      0.876     -0.119      0.906      -1.820       1.612\n",
            "fam_Ghost Crusader           -1.1513      0.392     -2.938      0.003      -1.919      -0.383\n",
            "fam_Gila                     -0.8979      0.876     -1.025      0.305      -2.614       0.818\n",
            "fam_Giraffe                   1.7524      0.219      7.986      0.000       1.322       2.183\n",
            "fam_Glacier Mesh             -1.0595      0.876     -1.210      0.226      -2.776       0.657\n",
            "fam_Global Offensive         -0.8081      0.153     -5.275      0.000      -1.108      -0.508\n",
            "fam_Gnarled                  -1.0307      0.506     -2.038      0.042      -2.022      -0.039\n",
            "fam_Gold Arabesque            4.0616      0.163     24.869      0.000       3.741       4.382\n",
            "fam_Gold Bismuth             -0.2551      0.876     -0.291      0.771      -1.971       1.461\n",
            "fam_Gold Brick                0.6444      0.179      3.592      0.000       0.293       0.996\n",
            "fam_Golden Coil               0.9065      0.097      9.312      0.000       0.716       1.097\n",
            "fam_Golden Koi                0.7470      0.183      4.077      0.000       0.388       1.106\n",
            "fam_Goo                      -1.4857      0.876     -1.697      0.090      -3.202       0.231\n",
            "fam_Graphite                  1.4987      0.118     12.698      0.000       1.267       1.730\n",
            "fam_Grassland                -1.3702      0.876     -1.565      0.118      -3.087       0.346\n",
            "fam_Grassland Leaves          0.6071      0.876      0.693      0.488      -1.109       2.323\n",
            "fam_Graven                    0.6386      0.358      1.785      0.074      -0.063       1.340\n",
            "fam_Green Apple               0.0523      0.179      0.292      0.770      -0.299       0.404\n",
            "fam_Green Laminate           -0.2055      0.169     -1.215      0.225      -0.537       0.126\n",
            "fam_Green Marine             -1.5413      0.876     -1.760      0.078      -3.258       0.175\n",
            "fam_Green Plaid              -0.8959      0.876     -1.023      0.306      -2.612       0.820\n",
            "fam_Griffin                  -0.0016      0.227     -0.007      0.994      -0.446       0.442\n",
            "fam_Grim                     -1.2021      0.619     -1.941      0.052      -2.416       0.012\n",
            "fam_Grinder                  -0.8334      0.253     -3.291      0.001      -1.330      -0.337\n",
            "fam_Grip                     -1.5664      0.876     -1.789      0.074      -3.283       0.150\n",
            "fam_Grotto                   -0.5307      0.392     -1.354      0.176      -1.299       0.237\n",
            "fam_Groundwater               0.9049      0.392      2.309      0.021       0.137       1.673\n",
            "fam_Guardian                  0.2572      0.085      3.030      0.002       0.091       0.424\n",
            "fam_Guerrilla                 0.9479      0.227      4.183      0.000       0.504       1.392\n",
            "fam_Gungnir                   5.4743      0.506     10.825      0.000       4.483       6.466\n",
            "fam_Gunsmoke                 -0.2552      0.292     -0.873      0.383      -0.828       0.318\n",
            "fam_Hand Brake               -0.2684      0.619     -0.433      0.665      -1.482       0.945\n",
            "fam_Hand Cannon               2.6444      0.213     12.420      0.000       2.227       3.062\n",
            "fam_Handgun                  -0.9438      0.277     -3.404      0.001      -1.487      -0.400\n",
            "fam_Hazard                   -1.3386      0.876     -1.529      0.126      -3.055       0.378\n",
            "fam_Hazard Pay                1.9678      0.219      8.968      0.000       1.538       2.398\n",
            "fam_Heat                     -0.6174      0.176     -3.512      0.000      -0.962      -0.273\n",
            "fam_Heaven Guard             -1.3277      0.876     -1.516      0.129      -3.044       0.389\n",
            "fam_Heavy Metal              -1.0024      0.506     -1.982      0.047      -1.994      -0.011\n",
            "fam_Hedge Maze                3.8608      0.358     10.791      0.000       3.160       4.562\n",
            "fam_Heirloom                 -0.5193      0.207     -2.509      0.012      -0.925      -0.114\n",
            "fam_Hellfire                  0.8370      0.139      6.009      0.000       0.564       1.110\n",
            "fam_Hemoglobin               -0.9588      0.219     -4.370      0.000      -1.389      -0.529\n",
            "fam_Hexane                   -0.0989      0.277     -0.357      0.721      -0.642       0.445\n",
            "fam_High Beam                -0.9069      0.227     -4.002      0.000      -1.351      -0.463\n",
            "fam_High Roller              -0.8240      0.219     -3.755      0.000      -1.254      -0.394\n",
            "fam_High Seas                -0.4322      0.438     -0.987      0.324      -1.291       0.426\n",
            "fam_Hive                      0.4501      0.331      1.359      0.174      -0.199       1.099\n",
            "fam_Hot Rod                   0.9232      0.112      8.223      0.000       0.703       1.143\n",
            "fam_Hot Shot                 -0.4906      0.310     -1.583      0.113      -1.098       0.117\n",
            "fam_Hot Snakes                2.1466      0.183     11.716      0.000       1.788       2.506\n",
            "fam_Houndstooth              -0.6245      0.619     -1.008      0.313      -1.838       0.589\n",
            "fam_Howl                      5.0491      0.213     23.714      0.000       4.632       5.466\n",
            "fam_Humidor                  -1.0776      0.438     -2.460      0.014      -1.936      -0.219\n",
            "fam_Hunting Blind            -0.4390      0.358     -1.227      0.220      -1.140       0.262\n",
            "fam_Hydra                    -0.7967      0.183     -4.348      0.000      -1.156      -0.438\n",
            "fam_Hydroponic                3.4354      0.163     21.035      0.000       3.115       3.756\n",
            "fam_Hyper Beast               0.4454      0.046      9.760      0.000       0.356       0.535\n",
            "fam_Hypnotic                  0.7203      0.093      7.739      0.000       0.538       0.903\n",
            "fam_Icarus Fell               2.6313      0.156     16.917      0.000       2.326       2.936\n",
            "fam_Ice Cap                  -1.1646      0.506     -2.303      0.021      -2.156      -0.173\n",
            "fam_Imminent Danger           3.7185      0.219     16.946      0.000       3.288       4.149\n",
            "fam_Imperial                 -0.7247      0.876     -0.828      0.408      -2.441       0.992\n",
            "fam_Imperial Dragon          -1.0840      0.196     -5.520      0.000      -1.469      -0.699\n",
            "fam_Imperial Plaid            2.4986      0.139     17.937      0.000       2.226       2.772\n",
            "fam_Impire                   -1.5191      0.438     -3.468      0.001      -2.378      -0.660\n",
            "fam_Imprint                  -0.7439      0.619     -1.201      0.230      -1.958       0.470\n",
            "fam_In Living Color          -0.1826      0.099     -1.843      0.065      -0.377       0.012\n",
            "fam_Incinegator               0.5153      0.876      0.588      0.556      -1.201       2.232\n",
            "fam_Indigo                   -0.7573      0.219     -3.451      0.001      -1.187      -0.327\n",
            "fam_Inferno                  -1.4111      0.876     -1.611      0.107      -3.127       0.305\n",
            "fam_Infrastructure           -0.0215      0.876     -0.025      0.980      -1.738       1.695\n",
            "fam_Integrale                 0.5674      0.219      2.586      0.010       0.137       0.997\n",
            "fam_Interlock                -0.8270      0.438     -1.888      0.059      -1.686       0.032\n",
            "fam_Iron Clad                -1.4451      0.876     -1.650      0.099      -3.161       0.271\n",
            "fam_Ironwork                 -0.3678      0.506     -0.727      0.467      -1.359       0.623\n",
            "fam_Irradiated Alert         -0.0162      0.619     -0.026      0.979      -1.230       1.198\n",
            "fam_Isaac                    -0.9329      0.264     -3.528      0.000      -1.451      -0.415\n",
            "fam_Ivory                    -1.4189      0.438     -3.239      0.001      -2.277      -0.560\n",
            "fam_Jade                      1.9609      0.151     12.991      0.000       1.665       2.257\n",
            "fam_Jaguar                    0.4781      0.158      3.026      0.002       0.168       0.788\n",
            "fam_Jambiya                  -1.5079      0.619     -2.435      0.015      -2.722      -0.294\n",
            "fam_Jet Set                   1.9483      0.310      6.286      0.000       1.341       2.556\n",
            "fam_Judgement of Anubis      -1.0164      0.207     -4.912      0.000      -1.422      -0.611\n",
            "fam_Jungle                   -1.1335      0.619     -1.830      0.067      -2.347       0.080\n",
            "fam_Jungle DDPAT             -1.1994      0.876     -1.370      0.171      -2.916       0.517\n",
            "fam_Jungle Dashed            -1.2354      0.619     -1.995      0.046      -2.449      -0.022\n",
            "fam_Jungle Slipstream        -0.9341      0.506     -1.847      0.065      -1.925       0.057\n",
            "fam_Jungle Spray              0.1741      0.331      0.526      0.599      -0.475       0.823\n",
            "fam_Jungle Tiger             -0.5439      0.292     -1.861      0.063      -1.117       0.029\n",
            "fam_Justice                  -0.5538      0.201     -2.749      0.006      -0.949      -0.159\n",
            "fam_Kami                      0.1534      0.253      0.606      0.545      -0.343       0.650\n",
            "fam_Keeping Tabs             -0.9582      0.619     -1.547      0.122      -2.172       0.256\n",
            "fam_Kill Confirmed            1.0923      0.071     15.353      0.000       0.953       1.232\n",
            "fam_King Snake                3.2284      0.201     16.025      0.000       2.834       3.623\n",
            "fam_Kitbash                  -0.3758      0.876     -0.429      0.668      -2.092       1.341\n",
            "fam_Knight                    4.3532      0.277     15.699      0.000       3.810       4.897\n",
            "fam_Kumicho Dragon           -0.4016      0.086     -4.667      0.000      -0.570      -0.233\n",
            "fam_Lab Rats                 -1.1716      0.331     -3.537      0.000      -1.821      -0.522\n",
            "fam_Labyrinth                -1.2051      0.438     -2.751      0.006      -2.064      -0.346\n",
            "fam_Last Dive                -0.1566      0.619     -0.253      0.800      -1.370       1.057\n",
            "fam_Lead Conduit             -0.6203      0.506     -1.226      0.220      -1.612       0.371\n",
            "fam_Leaded Glass             -0.9645      0.083    -11.655      0.000      -1.127      -0.802\n",
            "fam_Leather                   1.4928      0.207      7.214      0.000       1.087       1.898\n",
            "fam_Leet Museo                0.0200      0.090      0.221      0.825      -0.157       0.197\n",
            "fam_Legion of Anubis          0.0779      0.066      1.188      0.235      -0.051       0.206\n",
            "fam_Light Rail               -1.0207      0.124     -8.260      0.000      -1.263      -0.779\n",
            "fam_Lightning Strike          2.9727      0.136     21.861      0.000       2.706       3.239\n",
            "fam_Limelight                -0.4844      0.506     -0.958      0.338      -1.476       0.507\n",
            "fam_Llama Cannon             -0.7687      0.438     -1.755      0.079      -1.627       0.090\n",
            "fam_Lore                      2.6938      0.074     36.474      0.000       2.549       2.839\n",
            "fam_Lt. Commander             2.3936      0.310      7.723      0.000       1.786       3.001\n",
            "fam_Lumen                    -0.5265      0.619     -0.850      0.395      -1.740       0.687\n",
            "fam_Lunar Weave               1.8144      0.176     10.322      0.000       1.470       2.159\n",
            "fam_Lush Ruins               -1.2559      0.331     -3.791      0.000      -1.905      -0.607\n",
            "fam_Macabre                  -1.5683      0.876     -1.791      0.073      -3.285       0.148\n",
            "fam_Magna Carta              -0.6406      0.187     -3.420      0.001      -1.008      -0.273\n",
            "fam_Magnesium                -0.7864      0.235     -3.353      0.001      -1.246      -0.327\n",
            "fam_Mainframe                -0.1768      0.331     -0.534      0.594      -0.826       0.473\n",
            "fam_Mainframe 001            -0.5279      0.358     -1.476      0.140      -1.229       0.173\n",
            "fam_Man-o'-war                0.3543      0.151      2.347      0.019       0.058       0.650\n",
            "fam_Mandrel                  -0.0985      0.876     -0.113      0.910      -1.815       1.618\n",
            "fam_Mangrove                  0.9234      0.179      5.148      0.000       0.572       1.275\n",
            "fam_Marble Fade               2.5851      0.054     48.216      0.000       2.480       2.690\n",
            "fam_Marina                   -0.4508      0.358     -1.260      0.208      -1.152       0.250\n",
            "fam_Master Piece              1.2744      0.183      6.955      0.000       0.915       1.633\n",
            "fam_Mecha Industries         -0.6961      0.056    -12.459      0.000      -0.806      -0.587\n",
            "fam_Mechanism                -0.6354      0.876     -0.726      0.468      -2.352       1.081\n",
            "fam_Medusa                    4.3806      0.292     14.989      0.000       3.808       4.953\n",
            "fam_Mehndi                   -0.5201      0.264     -1.967      0.049      -1.038      -0.002\n",
            "fam_Melondrama               -0.5545      0.179     -3.091      0.002      -0.906      -0.203\n",
            "fam_Meltdown                 -0.6731      0.095     -7.075      0.000      -0.860      -0.487\n",
            "fam_Memento                  -0.5077      0.310     -1.638      0.101      -1.115       0.100\n",
            "fam_Metal Flowers            -0.5110      0.876     -0.584      0.560      -2.227       1.205\n",
            "fam_Metallic DDPAT           -0.5727      0.227     -2.527      0.011      -1.017      -0.129\n",
            "fam_Meteorite                -1.1496      0.392     -2.934      0.003      -1.918      -0.382\n",
            "fam_Midnight Lily             1.8420      0.253      7.274      0.000       1.346       2.338\n",
            "fam_Midnight Palm            -0.5667      0.392     -1.446      0.148      -1.335       0.201\n",
            "fam_Midnight Storm           -0.4470      0.107     -4.196      0.000      -0.656      -0.238\n",
            "fam_Minotaur's Labyrinth      1.4370      0.506      2.841      0.004       0.446       2.428\n",
            "fam_Mjölnir                   3.9730      0.253     15.690      0.000       3.477       4.469\n",
            "fam_Modern Hunter             0.5191      0.331      1.567      0.117      -0.130       1.168\n",
            "fam_Modest Threat            -1.1480      0.619     -1.854      0.064      -2.362       0.066\n",
            "fam_Module                   -0.1089      0.331     -0.329      0.742      -0.758       0.540\n",
            "fam_Mogul                     2.1853      0.213     10.264      0.000       1.768       2.603\n",
            "fam_Momentum                 -0.6281      0.176     -3.573      0.000      -0.973      -0.283\n",
            "fam_Monkey Business          -0.6554      0.201     -3.253      0.001      -1.050      -0.261\n",
            "fam_Monster Call             -1.1486      0.438     -2.622      0.009      -2.007      -0.290\n",
            "fam_Monster Mashup           -0.6665      0.090     -7.423      0.000      -0.843      -0.491\n",
            "fam_Moonrise                 -0.6852      0.105     -6.522      0.000      -0.891      -0.479\n",
            "fam_Morris                   -1.0689      0.876     -1.221      0.222      -2.785       0.647\n",
            "fam_Mortis                   -0.7846      0.096     -8.154      0.000      -0.973      -0.596\n",
            "fam_Moss Quartz              -0.7238      0.169     -4.278      0.000      -1.055      -0.392\n",
            "fam_Motherboard              -1.3167      0.619     -2.126      0.033      -2.531      -0.103\n",
            "fam_Mount Fuji               -1.0289      0.143     -7.201      0.000      -1.309      -0.749\n",
            "fam_Mudder                   -0.3476      0.619     -0.561      0.575      -1.561       0.866\n",
            "fam_Muertos                  -0.9219      0.141     -6.536      0.000      -1.198      -0.645\n",
            "fam_Music Box                -0.7643      0.235     -3.259      0.001      -1.224      -0.305\n",
            "fam_Naga                     -0.9525      0.277     -3.435      0.001      -1.496      -0.409\n",
            "fam_Navy Sheen               -0.6273      0.438     -1.432      0.152      -1.486       0.231\n",
            "fam_Nebula Crusader          -0.2283      0.392     -0.583      0.560      -0.996       0.540\n",
            "fam_Necro Jr.                -0.7982      0.619     -1.289      0.197      -2.012       0.416\n",
            "fam_Necropos                 -0.9295      0.876     -1.061      0.288      -2.646       0.787\n",
            "fam_Needle Point              1.0737      0.143      7.515      0.000       0.794       1.354\n",
            "fam_Nemesis                  -0.7645      0.145     -5.281      0.000      -1.048      -0.481\n",
            "fam_Neo-Noir                  0.0865      0.037      2.306      0.021       0.013       0.160\n",
            "fam_Neon Kimono               2.2251      0.392      5.678      0.000       1.457       2.993\n",
            "fam_Neon Ply                 -0.7257      0.506     -1.435      0.151      -1.717       0.266\n",
            "fam_Neon Revolution          -0.0828      0.068     -1.225      0.221      -0.215       0.050\n",
            "fam_Neon Rider                0.0117      0.058      0.203      0.839      -0.101       0.124\n",
            "fam_Neural Net               -0.6166      0.438     -1.408      0.159      -1.475       0.242\n",
            "fam_Nevermore                -0.5492      0.506     -1.086      0.278      -1.540       0.442\n",
            "fam_Night                     1.5441      0.088     17.534      0.000       1.371       1.717\n",
            "fam_Night Heist              -0.3700      0.069     -5.399      0.000      -0.504      -0.236\n",
            "fam_Night Ops                -0.4223      0.506     -0.835      0.404      -1.414       0.569\n",
            "fam_Night Riot               -1.5901      0.876     -1.816      0.069      -3.306       0.126\n",
            "fam_Night Stripe              1.6959      0.111     15.225      0.000       1.478       1.914\n",
            "fam_Night Terror             -0.8040      0.108     -7.439      0.000      -1.016      -0.592\n",
            "fam_Nightmare                 0.1514      0.085      1.790      0.073      -0.014       0.317\n",
            "fam_Nightshade                0.8969      0.331      2.707      0.007       0.248       1.546\n",
            "fam_Nightwish                 1.3207      0.136      9.712      0.000       1.054       1.587\n",
            "fam_Nitro                    -0.3874      0.097     -4.003      0.000      -0.577      -0.198\n",
            "fam_Nocts                     2.7982      0.172     16.230      0.000       2.460       3.136\n",
            "fam_Nostalgia                -0.6830      0.201     -3.390      0.001      -1.078      -0.288\n",
            "fam_Nuclear Garden           -1.0010      0.147     -6.822      0.000      -1.289      -0.713\n",
            "fam_Nuclear Threat            0.2657      0.264      1.005      0.315      -0.253       0.784\n",
            "fam_Nuclear Waste            -0.1811      0.358     -0.506      0.613      -0.882       0.520\n",
            "fam_Obsidian                 -0.7844      0.331     -2.368      0.018      -1.434      -0.135\n",
            "fam_Ocean Drive              -0.0375      0.077     -0.484      0.628      -0.189       0.114\n",
            "fam_Ocean Foam                0.4394      0.207      2.123      0.034       0.034       0.845\n",
            "fam_Oceanic                  -0.7818      0.876     -0.893      0.372      -2.498       0.935\n",
            "fam_Off World                -0.1628      0.292     -0.557      0.577      -0.736       0.410\n",
            "fam_Ol' Rusty                -1.3761      0.619     -2.222      0.026      -2.590      -0.162\n",
            "fam_Old Roots                -1.1763      0.392     -3.002      0.003      -1.944      -0.408\n",
            "fam_Omega                     3.1731      0.156     20.400      0.000       2.868       3.478\n",
            "fam_Oni Taiji                 2.5276      0.131     19.231      0.000       2.270       2.785\n",
            "fam_Orange Anolis             0.2869      0.145      1.982      0.048       0.003       0.571\n",
            "fam_Orange DDPAT              0.0527      0.264      0.199      0.842      -0.466       0.571\n",
            "fam_Orange Filigree          -0.0238      0.438     -0.054      0.957      -0.882       0.835\n",
            "fam_Orange Kimono            -1.5881      0.876     -1.814      0.070      -3.304       0.128\n",
            "fam_Orange Peel              -0.6644      0.331     -2.006      0.045      -1.314      -0.015\n",
            "fam_Orbit Mk01               -0.5391      0.138     -3.917      0.000      -0.809      -0.269\n",
            "fam_Orion                     0.4581      0.082      5.558      0.000       0.297       0.620\n",
            "fam_Oscillator               -0.7530      0.358     -2.105      0.035      -1.454      -0.052\n",
            "fam_Osiris                    0.2866      0.876      0.327      0.743      -1.430       2.003\n",
            "fam_Ossified                 -0.8256      0.876     -0.943      0.346      -2.542       0.891\n",
            "fam_Outbreak                 -1.5664      0.876     -1.789      0.074      -3.283       0.150\n",
            "fam_Overgrowth                0.5404      0.179      3.012      0.003       0.189       0.892\n",
            "fam_Overprint                 2.4358      0.163     14.915      0.000       2.116       2.756\n",
            "fam_Overtake                  1.5743      0.101     15.591      0.000       1.376       1.772\n",
            "fam_Oxide Blaze              -1.0621      0.331     -3.206      0.001      -1.711      -0.413\n",
            "fam_Oxide Oasis               1.8830      0.243      7.739      0.000       1.406       2.360\n",
            "fam_PAW                      -0.8068      0.131     -6.138      0.000      -1.064      -0.549\n",
            "fam_POP AWP                  -1.3103      0.143     -9.171      0.000      -1.590      -1.030\n",
            "fam_POW!                      2.8747      0.253     11.353      0.000       2.378       3.371\n",
            "fam_Palm                     -0.9499      0.438     -2.169      0.030      -1.809      -0.091\n",
            "fam_Pandora's Box             2.2211      0.213     10.432      0.000       1.804       2.638\n",
            "fam_Panther                  -0.4083      0.392     -1.042      0.297      -1.176       0.360\n",
            "fam_Panther Camo             -1.0034      0.876     -1.146      0.252      -2.720       0.713\n",
            "fam_Panthera onca             2.3587      0.111     21.339      0.000       2.142       2.575\n",
            "fam_Para Green               -1.1061      0.292     -3.785      0.000      -1.679      -0.533\n",
            "fam_Parallax                 -1.3426      0.125    -10.759      0.000      -1.587      -1.098\n",
            "fam_Parched                  -0.6520      0.438     -1.488      0.137      -1.511       0.207\n",
            "fam_Pathfinder               -0.6819      0.158     -4.316      0.000      -0.992      -0.372\n",
            "fam_Phantom                  -0.6730      0.876     -0.769      0.442      -2.389       1.043\n",
            "fam_Phantom Disruptor        -0.9778      0.072    -13.578      0.000      -1.119      -0.837\n",
            "fam_Phobos                   -1.0839      0.183     -5.916      0.000      -1.443      -0.725\n",
            "fam_Phoenix Blacklight        0.9604      0.156      6.174      0.000       0.656       1.265\n",
            "fam_Phoenix Marker           -1.4206      0.506     -2.809      0.005      -2.412      -0.429\n",
            "fam_Phoenix Stencil          -0.7592      0.161     -4.728      0.000      -1.074      -0.444\n",
            "fam_Phosphor                 -0.8908      0.219     -4.060      0.000      -1.321      -0.461\n",
            "fam_Photic Zone              -0.4035      0.438     -0.921      0.357      -1.262       0.455\n",
            "fam_Pilot                     0.8907      0.331      2.688      0.007       0.241       1.540\n",
            "fam_Pink DDPAT                0.5249      0.099      5.297      0.000       0.331       0.719\n",
            "fam_Pipe Down                -0.6132      0.392     -1.565      0.118      -1.381       0.155\n",
            "fam_Pit Viper                -0.4806      0.331     -1.451      0.147      -1.130       0.169\n",
            "fam_Plague                   -0.9141      0.876     -1.044      0.297      -2.630       0.802\n",
            "fam_Plastique                -0.3646      0.619     -0.589      0.556      -1.578       0.849\n",
            "fam_Player Two                0.6105      0.070      8.683      0.000       0.473       0.748\n",
            "fam_Plume                    -0.6186      0.876     -0.706      0.480      -2.335       1.098\n",
            "fam_Point Disarray           -0.2506      0.078     -3.198      0.001      -0.404      -0.097\n",
            "fam_Poison Dart               0.4891      0.876      0.559      0.576      -1.227       2.205\n",
            "fam_Polar Camo                0.0193      0.876      0.022      0.982      -1.697       1.736\n",
            "fam_Polar Mesh               -1.0930      0.876     -1.248      0.212      -2.809       0.623\n",
            "fam_Pole Position            -0.0173      0.876     -0.020      0.984      -1.734       1.699\n",
            "fam_Polygon                   2.2887      0.172     13.275      0.000       1.951       2.627\n",
            "fam_Polymer                  -1.1994      0.876     -1.370      0.171      -2.916       0.517\n",
            "fam_Poseidon                  3.5999      0.219     16.406      0.000       3.170       4.030\n",
            "fam_Poultrygeist             -0.9461      0.619     -1.528      0.127      -2.160       0.268\n",
            "fam_Power Loader             -0.2342      0.392     -0.598      0.550      -1.002       0.534\n",
            "fam_Powercore                -1.0493      0.438     -2.395      0.017      -1.908      -0.191\n",
            "fam_Praetorian               -1.2413      0.506     -2.455      0.014      -2.233      -0.250\n",
            "fam_Predator                 -0.4662      0.243     -1.916      0.055      -0.943       0.011\n",
            "fam_Prey                     -0.7157      0.438     -1.634      0.102      -1.574       0.143\n",
            "fam_Primal Saber             -0.8753      0.196     -4.457      0.000      -1.260      -0.490\n",
            "fam_Prime Conspiracy          0.2987      0.172      1.733      0.083      -0.039       0.637\n",
            "fam_Printstream               1.2899      0.045     28.354      0.000       1.201       1.379\n",
            "fam_Prism Terrace             0.4302      0.264      1.627      0.104      -0.088       0.949\n",
            "fam_Propaganda               -0.8313      0.129     -6.462      0.000      -1.083      -0.579\n",
            "fam_Prototype                -1.4591      0.876     -1.666      0.096      -3.175       0.257\n",
            "fam_Pulse                    -0.5733      0.156     -3.685      0.000      -0.878      -0.268\n",
            "fam_Purple DDPAT             -0.8794      0.130     -6.763      0.000      -1.134      -0.625\n",
            "fam_Pyre                     -0.4664      0.292     -1.596      0.111      -1.039       0.106\n",
            "fam_Queen Jaguar              1.6055      0.179      8.950      0.000       1.254       1.957\n",
            "fam_Quick Sand               -1.1971      0.438     -2.733      0.006      -2.056      -0.339\n",
            "fam_Quicksilver              -1.2737      0.506     -2.519      0.012      -2.265      -0.282\n",
            "fam_Racing Green              0.9334      0.145      6.447      0.000       0.650       1.217\n",
            "fam_Radiation Hazard          0.9258      0.201      4.596      0.000       0.531       1.321\n",
            "fam_Random Access            -0.7850      0.331     -2.369      0.018      -1.434      -0.136\n",
            "fam_Rangeen                  -0.2220      0.619     -0.358      0.720      -1.436       0.992\n",
            "fam_Rapid Eye Movement       -0.6637      0.196     -3.380      0.001      -1.049      -0.279\n",
            "fam_Rat Rod                  -0.7172      0.096     -7.453      0.000      -0.906      -0.529\n",
            "fam_Rattler                   1.0132      0.172      5.877      0.000       0.675       1.351\n",
            "fam_Re-Entry                 -0.7982      0.392     -2.037      0.042      -1.566      -0.030\n",
            "fam_Reactor                  -0.0585      0.183     -0.319      0.750      -0.418       0.301\n",
            "fam_Reboot                   -1.1048      0.619     -1.784      0.074      -2.319       0.109\n",
            "fam_Red Astor                -1.3313      0.619     -2.150      0.032      -2.545      -0.117\n",
            "fam_Red DDPAT                 0.2810      0.192      1.466      0.143      -0.095       0.657\n",
            "fam_Red Filigree              1.2273      0.310      3.960      0.000       0.620       1.835\n",
            "fam_Red FragCam              -0.3908      0.277     -1.409      0.159      -0.934       0.153\n",
            "fam_Red Laminate              1.1181      0.122      9.135      0.000       0.878       1.358\n",
            "fam_Red Python               -0.9957      0.876     -1.137      0.256      -2.712       0.721\n",
            "fam_Red Quartz               -0.4662      0.331     -1.407      0.159      -1.116       0.183\n",
            "fam_Red Rock                 -1.2270      0.619     -1.981      0.048      -2.441      -0.013\n",
            "fam_Red Stone                -1.4094      0.876     -1.610      0.108      -3.126       0.307\n",
            "fam_Red Tire                 -1.1467      0.876     -1.310      0.190      -2.863       0.570\n",
            "fam_Redline                   0.2579      0.039      6.665      0.000       0.182       0.334\n",
            "fam_Remote Control           -0.9517      0.438     -2.173      0.030      -1.810      -0.093\n",
            "fam_Retribution              -1.2269      0.619     -1.981      0.048      -2.441      -0.013\n",
            "fam_Retrobution              -1.5462      0.438     -3.530      0.000      -2.405      -0.688\n",
            "fam_Rezan the Red             1.4971      0.136     11.010      0.000       1.231       1.764\n",
            "fam_Ricochet                 -1.2774      0.619     -2.063      0.039      -2.491      -0.064\n",
            "fam_Riot                     -1.4094      0.876     -1.610      0.108      -3.126       0.307\n",
            "fam_Ripple                   -0.4175      0.619     -0.674      0.500      -1.631       0.796\n",
            "fam_Rising Skull             -0.9130      0.358     -2.552      0.011      -1.614      -0.212\n",
            "fam_Road Rash                 0.3946      0.179      2.200      0.028       0.043       0.746\n",
            "fam_Rocket Pop               -0.7428      0.187     -3.966      0.000      -1.110      -0.376\n",
            "fam_Roll Cage                -0.6950      0.213     -3.264      0.001      -1.112      -0.278\n",
            "fam_Rose Iron                -0.7042      0.196     -3.586      0.000      -1.089      -0.319\n",
            "fam_Royal Blue               -0.2768      0.183     -1.511      0.131      -0.636       0.082\n",
            "fam_Royal Consorts           -1.0039      0.392     -2.562      0.010      -1.772      -0.236\n",
            "fam_Royal Legion             -0.1340      0.392     -0.342      0.732      -0.902       0.634\n",
            "fam_Royal Paladin             0.2973      0.151      1.969      0.049       0.001       0.593\n",
            "fam_Ruby Poison Dart         -0.9466      0.392     -2.416      0.016      -1.715      -0.178\n",
            "fam_Run and Hide              2.1739      0.264      8.221      0.000       1.656       2.692\n",
            "fam_Runic                    -1.3020      0.506     -2.575      0.010      -2.293      -0.311\n",
            "fam_Rust Coat                 1.3993      0.068     20.474      0.000       1.265       1.533\n",
            "fam_Rust Leaf                -1.1709      0.292     -4.007      0.000      -1.744      -0.598\n",
            "fam_SWAG-7                    2.7919      0.876      3.188      0.001       1.076       4.508\n",
            "fam_Sacrifice                -0.9667      0.253     -3.818      0.000      -1.463      -0.470\n",
            "fam_Safari Mesh               0.9395      0.086     10.869      0.000       0.770       1.109\n",
            "fam_Safety Net               -0.5034      0.243     -2.069      0.039      -0.980      -0.026\n",
            "fam_Sage Spray               -0.4218      0.331     -1.273      0.203      -1.071       0.228\n",
            "fam_Sand Dashed               0.5663      0.876      0.647      0.518      -1.150       2.283\n",
            "fam_Sand Dune                 0.7797      0.243      3.204      0.001       0.303       1.257\n",
            "fam_Sand Mesh                -0.9180      0.619     -1.482      0.138      -2.132       0.296\n",
            "fam_Sand Scale               -1.2415      0.619     -2.005      0.045      -2.455      -0.028\n",
            "fam_Sand Spray               -0.4981      0.506     -0.985      0.325      -1.489       0.493\n",
            "fam_Sand Storm                0.6916      0.163      4.235      0.000       0.371       1.012\n",
            "fam_Sandstorm                 0.3048      0.310      0.984      0.325      -0.303       0.912\n",
            "fam_Scaffold                 -0.9226      0.619     -1.490      0.136      -2.136       0.291\n",
            "fam_Scarlet Shamagh           2.6276      0.163     16.089      0.000       2.307       2.948\n",
            "fam_Schematic                -1.0259      0.392     -2.618      0.009      -1.794      -0.258\n",
            "fam_Scorched                  1.5595      0.098     15.926      0.000       1.368       1.751\n",
            "fam_Scorpion                  0.1053      0.619      0.170      0.865      -1.109       1.319\n",
            "fam_Scrawl                   -1.1805      0.506     -2.334      0.020      -2.172      -0.189\n",
            "fam_Scumbria                 -1.0853      0.506     -2.146      0.032      -2.077      -0.094\n",
            "fam_Sea Calico                1.9002      0.438      4.338      0.000       1.042       2.759\n",
            "fam_Seasons                  -0.6198      0.179     -3.455      0.001      -0.971      -0.268\n",
            "fam_See Ya Later             -0.9117      0.112     -8.121      0.000      -1.132      -0.692\n",
            "fam_Serenity                 -1.5021      0.876     -1.715      0.086      -3.218       0.214\n",
            "fam_Sergeant                 -0.0978      0.331     -0.295      0.768      -0.747       0.552\n",
            "fam_Serum                     0.8359      0.213      3.926      0.000       0.419       1.253\n",
            "fam_Setting Sun              -0.0859      0.392     -0.219      0.827      -0.854       0.682\n",
            "fam_Shallow Grave            -0.8423      0.310     -2.718      0.007      -1.450      -0.235\n",
            "fam_Shapewood                -0.9935      0.876     -1.135      0.257      -2.710       0.723\n",
            "fam_Shattered                 0.6555      0.438      1.496      0.135      -0.203       1.514\n",
            "fam_Shipping Forecast        -0.9583      0.392     -2.446      0.014      -1.726      -0.190\n",
            "fam_Shred                    -0.9482      0.876     -1.083      0.279      -2.665       0.768\n",
            "fam_Sienna Damask            -0.7155      0.876     -0.817      0.414      -2.432       1.001\n",
            "fam_Signal                   -0.6304      0.438     -1.439      0.150      -1.489       0.228\n",
            "fam_Silk Tiger                2.3040      0.151     15.264      0.000       2.008       2.600\n",
            "fam_Silver                   -0.7494      0.166     -4.509      0.000      -1.075      -0.424\n",
            "fam_Skulls                   -0.4266      0.310     -1.376      0.169      -1.034       0.181\n",
            "fam_Slashed                   1.8110      0.876      2.068      0.039       0.095       3.527\n",
            "fam_Slate                    -0.6853      0.048    -14.149      0.000      -0.780      -0.590\n",
            "fam_Slaughter                 2.5223      0.057     44.590      0.000       2.411       2.633\n",
            "fam_Slide                    -0.7595      0.619     -1.226      0.220      -1.973       0.454\n",
            "fam_Slingshot                 3.3323      0.176     18.956      0.000       2.988       3.677\n",
            "fam_Smoke Out                 2.5852      0.207     12.492      0.000       2.180       2.991\n",
            "fam_Snack Attack             -0.6886      0.183     -3.758      0.000      -1.048      -0.329\n",
            "fam_Snake Camo                1.2095      0.619      1.953      0.051      -0.004       2.423\n",
            "fam_Snakebite                 1.3722      0.201      6.811      0.000       0.977       1.767\n",
            "fam_Snow Leopard              3.3348      0.264     12.611      0.000       2.817       3.853\n",
            "fam_Sonar                    -1.3734      0.506     -2.716      0.007      -2.365      -0.382\n",
            "fam_Space Cat                -1.0828      0.392     -2.763      0.006      -1.851      -0.315\n",
            "fam_Spalted Wood             -0.6774      0.392     -1.729      0.084      -1.445       0.091\n",
            "fam_Spearmint                 3.6631      0.358     10.239      0.000       2.962       4.364\n",
            "fam_Special Delivery         -1.1480      0.876     -1.311      0.190      -2.864       0.568\n",
            "fam_Spectre                  -1.5547      0.876     -1.775      0.076      -3.271       0.162\n",
            "fam_Spider Lily              -0.8217      0.176     -4.674      0.000      -1.166      -0.477\n",
            "fam_Spitfire                 -0.2937      0.438     -0.671      0.503      -1.152       0.565\n",
            "fam_Splash                    0.9508      0.235      4.054      0.000       0.491       1.410\n",
            "fam_Splash Jam                1.7774      0.619      2.870      0.004       0.564       2.991\n",
            "fam_Spring Twilly            -0.7146      0.876     -0.816      0.414      -2.431       1.002\n",
            "fam_Spruce DDPAT              2.9719      0.619      4.799      0.000       1.758       4.186\n",
            "fam_Sputnik                  -0.8917      0.264     -3.372      0.001      -1.410      -0.373\n",
            "fam_Stained                   1.9012      0.080     23.632      0.000       1.744       2.059\n",
            "fam_Stained Glass             1.2994      0.207      6.279      0.000       0.894       1.705\n",
            "fam_Stainless                -0.3038      0.161     -1.892      0.059      -0.619       0.011\n",
            "fam_Stalker                  -0.3512      0.149     -2.360      0.018      -0.643      -0.060\n",
            "fam_Starlight Protector       0.5302      0.187      2.830      0.005       0.163       0.897\n",
            "fam_Steel Disruption         -0.2929      0.201     -1.454      0.146      -0.688       0.102\n",
            "fam_Stinger                  -0.7407      0.438     -1.691      0.091      -1.599       0.118\n",
            "fam_Stone Cold               -1.2048      0.264     -4.556      0.000      -1.723      -0.687\n",
            "fam_Storm                    -0.6800      0.277     -2.452      0.014      -1.224      -0.136\n",
            "fam_Strats                   -1.5901      0.876     -1.816      0.069      -3.306       0.126\n",
            "fam_Stymphalian              -0.6715      0.187     -3.585      0.000      -1.039      -0.304\n",
            "fam_Styx                     -0.6119      0.310     -1.974      0.048      -1.219      -0.004\n",
            "fam_Sugar Rush                0.7823      0.331      2.361      0.018       0.133       1.432\n",
            "fam_Sun in Leo               -0.5186      0.117     -4.433      0.000      -0.748      -0.289\n",
            "fam_Sundown                   0.2461      0.292      0.842      0.400      -0.327       0.819\n",
            "fam_Sunset Lily              -1.1603      0.253     -4.582      0.000      -1.657      -0.664\n",
            "fam_Sunset Storm 壱            1.9195      0.310      6.193      0.000       1.312       2.527\n",
            "fam_Sunset Storm 弐            2.0762      0.235      8.854      0.000       1.617       2.536\n",
            "fam_Superconductor            3.8207      0.264     14.448      0.000       3.302       4.339\n",
            "fam_Supernova                -0.2262      0.331     -0.683      0.495      -0.875       0.423\n",
            "fam_Surveillance             -0.7246      0.619     -1.170      0.242      -1.938       0.489\n",
            "fam_Sweeper                   0.5836      0.235      2.489      0.013       0.124       1.043\n",
            "fam_Switch Board             -1.0506      0.619     -1.696      0.090      -2.264       0.163\n",
            "fam_Syd Mead                 -0.9711      0.310     -3.133      0.002      -1.579      -0.364\n",
            "fam_Syndicate                -0.7321      0.310     -2.362      0.018      -1.340      -0.125\n",
            "fam_Synth Leaf                1.8619      0.213      8.745      0.000       1.445       2.279\n",
            "fam_Tacticat                  0.0667      0.619      0.108      0.914      -1.147       1.281\n",
            "fam_Tall Grass               -0.8243      0.331     -2.488      0.013      -1.474      -0.175\n",
            "fam_Target Acquired           1.7868      0.127     14.034      0.000       1.537       2.036\n",
            "fam_Tatter                   -1.0134      0.619     -1.636      0.102      -2.227       0.200\n",
            "fam_Teal Blossom              0.5055      0.310      1.631      0.103      -0.102       1.113\n",
            "fam_Teclu Burner             -0.5992      0.619     -0.968      0.333      -1.813       0.615\n",
            "fam_Terrace                   1.0074      0.506      1.992      0.046       0.016       1.999\n",
            "fam_Terrain                  -0.8200      0.876     -0.936      0.349      -2.536       0.896\n",
            "fam_The Battlestar           -0.3533      0.187     -1.886      0.059      -0.720       0.014\n",
            "fam_The Coalition            -0.1035      0.153     -0.676      0.499      -0.404       0.197\n",
            "fam_The Emperor               0.3327      0.089      3.724      0.000       0.158       0.508\n",
            "fam_The Empress               0.4365      0.060      7.229      0.000       0.318       0.555\n",
            "fam_The Executioner           1.2657      0.619      2.044      0.041       0.052       2.480\n",
            "fam_The Fuschia Is Now        0.2464      0.196      1.255      0.210      -0.139       0.631\n",
            "fam_The Kraken               -1.3430      0.438     -3.066      0.002      -2.202      -0.484\n",
            "fam_The Prince                4.7230      0.331     14.257      0.000       4.074       5.372\n",
            "fam_The Traitor               0.3784      0.076      4.971      0.000       0.229       0.528\n",
            "fam_Threat Detected          -0.4356      0.213     -2.046      0.041      -0.853      -0.018\n",
            "fam_Ticket to Hell           -1.0320      0.134     -7.678      0.000      -1.295      -0.769\n",
            "fam_Tiger Moth               -0.4042      0.358     -1.130      0.259      -1.105       0.297\n",
            "fam_Tiger Pit                -0.6793      0.169     -4.014      0.000      -1.011      -0.348\n",
            "fam_Tiger Strike              3.3501      0.310     10.809      0.000       2.743       3.958\n",
            "fam_Tiger Tooth               2.3902      0.056     42.329      0.000       2.280       2.501\n",
            "fam_Tigris                   -0.5732      0.292     -1.961      0.050      -1.146      -0.000\n",
            "fam_Titanium Bit             -0.6932      0.253     -2.738      0.006      -1.190      -0.197\n",
            "fam_Tom Cat                  -1.2268      0.876     -1.401      0.161      -2.943       0.490\n",
            "fam_Tooth Fairy              -1.0147      0.129     -7.887      0.000      -1.267      -0.763\n",
            "fam_Torn                     -0.5821      0.876     -0.665      0.506      -2.298       1.134\n",
            "fam_Tornado                  -0.5883      0.292     -2.013      0.044      -1.161      -0.015\n",
            "fam_Torque                   -0.9946      0.176     -5.658      0.000      -1.339      -0.650\n",
            "fam_Toxic                    -0.0993      0.358     -0.278      0.781      -0.801       0.602\n",
            "fam_Toy Soldier              -1.3094      0.876     -1.495      0.135      -3.026       0.407\n",
            "fam_Toybox                   -0.7959      0.196     -4.053      0.000      -1.181      -0.411\n",
            "fam_Tranquility              -0.5089      0.506     -1.006      0.314      -1.500       0.482\n",
            "fam_Transport                 1.3810      0.207      6.673      0.000       0.975       1.787\n",
            "fam_Traveler                 -0.2954      0.876     -0.337      0.736      -2.012       1.421\n",
            "fam_Tread                    -1.3955      0.506     -2.759      0.006      -2.387      -0.404\n",
            "fam_Tread Plate              -0.6067      0.331     -1.831      0.067      -1.256       0.043\n",
            "fam_Triarch                  -1.2071      0.438     -2.756      0.006      -2.066      -0.348\n",
            "fam_Trigger Discipline       -1.0716      0.108     -9.915      0.000      -1.283      -0.860\n",
            "fam_Trigon                   -0.8910      0.158     -5.639      0.000      -1.201      -0.581\n",
            "fam_Triumvirate              -1.0964      0.438     -2.503      0.012      -1.955      -0.238\n",
            "fam_Tropical Storm           -1.1272      0.619     -1.820      0.069      -2.341       0.087\n",
            "fam_Turbo Peek               -0.8424      0.115     -7.323      0.000      -1.068      -0.617\n",
            "fam_Turf                     -0.6159      0.438     -1.406      0.160      -1.475       0.243\n",
            "fam_Turtle                    2.3029      0.201     11.431      0.000       1.908       2.698\n",
            "fam_Tuxedo                   -1.0157      0.876     -1.160      0.246      -2.732       0.701\n",
            "fam_Twilight Galaxy           0.7481      0.179      4.170      0.000       0.396       1.100\n",
            "fam_Twin Turbo               -1.1769      0.310     -3.797      0.000      -1.784      -0.569\n",
            "fam_Twist                    -1.4111      0.876     -1.611      0.107      -3.127       0.305\n",
            "fam_Ultralight               -1.3127      0.438     -2.997      0.003      -2.171      -0.454\n",
            "fam_Ultraviolet               1.5987      0.071     22.538      0.000       1.460       1.738\n",
            "fam_Uncharted                -0.6215      0.196     -3.165      0.002      -1.006      -0.237\n",
            "fam_Undertow                  0.8808      0.176      5.011      0.000       0.536       1.225\n",
            "fam_Unhinged                  1.3005      0.141      9.220      0.000       1.024       1.577\n",
            "fam_Urban DDPAT              -0.8268      0.227     -3.649      0.000      -1.271      -0.383\n",
            "fam_Urban Dashed             -0.5941      0.619     -0.959      0.337      -1.808       0.620\n",
            "fam_Urban Hazard             -0.5152      0.292     -1.763      0.078      -1.088       0.058\n",
            "fam_Urban Masked              1.7024      0.092     18.484      0.000       1.522       1.883\n",
            "fam_Urban Rubble             -0.2132      0.506     -0.422      0.673      -1.204       0.778\n",
            "fam_Urban Shock              -0.2772      0.438     -0.633      0.527      -1.136       0.581\n",
            "fam_Valence                  -0.8499      0.227     -3.751      0.000      -1.294      -0.406\n",
            "fam_Vandal                   -1.0525      0.619     -1.700      0.089      -2.266       0.161\n",
            "fam_VariCamo                 -0.2225      0.292     -0.761      0.446      -0.795       0.350\n",
            "fam_VariCamo Blue            -0.3092      0.876     -0.353      0.724      -2.026       1.407\n",
            "fam_Vendetta                 -0.7528      0.876     -0.860      0.390      -2.469       0.964\n",
            "fam_Ventilator               -1.2064      0.619     -1.948      0.051      -2.420       0.007\n",
            "fam_Ventilators              -0.2974      0.619     -0.480      0.631      -1.511       0.916\n",
            "fam_Verdant Growth           -1.1562      0.619     -1.867      0.062      -2.370       0.058\n",
            "fam_Verdigris                -0.3866      0.619     -0.624      0.532      -1.600       0.827\n",
            "fam_Vice                      3.9156      0.196     19.938      0.000       3.531       4.300\n",
            "fam_Victoria                  0.3893      0.264      1.472      0.141      -0.129       0.908\n",
            "fam_Vino Primo               -0.6341      0.292     -2.170      0.030      -1.207      -0.061\n",
            "fam_Violent Daimyo           -0.7200      0.506     -1.424      0.155      -1.711       0.271\n",
            "fam_Violet Murano            -0.1120      0.331     -0.338      0.735      -0.761       0.537\n",
            "fam_Virus                    -0.5893      0.392     -1.504      0.133      -1.357       0.179\n",
            "fam_Vogue                    -0.8742      0.092     -9.492      0.000      -1.055      -0.694\n",
            "fam_Vulcan                    2.1460      0.086     24.939      0.000       1.977       2.315\n",
            "fam_Walnut                   -0.6382      0.358     -1.784      0.074      -1.339       0.063\n",
            "fam_Warbird                  -0.5254      0.876     -0.600      0.549      -2.242       1.191\n",
            "fam_Warhawk                  -1.4452      0.506     -2.858      0.004      -2.436      -0.454\n",
            "fam_Wasteland Princess       -0.7145      0.392     -1.823      0.068      -1.483       0.054\n",
            "fam_Wasteland Rebel          -0.0154      0.117     -0.132      0.895      -0.245       0.214\n",
            "fam_Watchdog                 -1.1394      0.392     -2.908      0.004      -1.907      -0.371\n",
            "fam_Water Elemental          -1.0557      0.060    -17.661      0.000      -1.173      -0.939\n",
            "fam_Water Sigil              -1.2330      0.619     -1.991      0.046      -2.447      -0.019\n",
            "fam_Wave Spray                0.6097      0.506      1.206      0.228      -0.382       1.601\n",
            "fam_Waves Perforated         -0.3215      0.876     -0.367      0.714      -2.038       1.395\n",
            "fam_Weasel                   -0.5359      0.310     -1.729      0.084      -1.143       0.072\n",
            "fam_Welcome to the Jungle     3.9093      0.196     19.906      0.000       3.524       4.294\n",
            "fam_Whitefish                -0.9482      0.876     -1.083      0.279      -2.665       0.768\n",
            "fam_Whiteout                 -0.1790      0.076     -2.351      0.019      -0.328      -0.030\n",
            "fam_Wild Lily                 3.5688      0.277     12.870      0.000       3.025       4.112\n",
            "fam_Wild Lotus                5.3807      0.506     10.640      0.000       4.389       6.372\n",
            "fam_Wild Six                 -1.2551      0.619     -2.027      0.043      -2.469      -0.041\n",
            "fam_Wildfire                  1.0852      0.065     16.763      0.000       0.958       1.212\n",
            "fam_Wings                    -0.1121      0.310     -0.362      0.717      -0.720       0.495\n",
            "fam_Wingshot                 -1.1613      0.243     -4.772      0.000      -1.638      -0.684\n",
            "fam_Withered Vine            -0.4915      0.876     -0.561      0.575      -2.208       1.225\n",
            "fam_Wood Fired               -1.2255      0.876     -1.399      0.162      -2.942       0.491\n",
            "fam_Woodsman                 -1.3040      0.358     -3.645      0.000      -2.005      -0.603\n",
            "fam_Worm God                 -0.9439      0.183     -5.152      0.000      -1.303      -0.585\n",
            "fam_Wraiths                  -0.9295      0.277     -3.352      0.001      -1.473      -0.386\n",
            "fam_X-Ray                     1.6538      0.143     11.576      0.000       1.374       1.934\n",
            "fam_XOXO                     -0.3092      0.183     -1.687      0.092      -0.668       0.050\n",
            "fam_Xiangliu                 -1.0321      0.153     -6.737      0.000      -1.332      -0.732\n",
            "fam_Yellow Jacket            -0.8411      0.227     -3.712      0.000      -1.285      -0.397\n",
            "fam_Yellow-banded             1.6969      0.179      9.459      0.000       1.345       2.049\n",
            "fam_ZX Spectron              -1.0872      0.187     -5.804      0.000      -1.454      -0.720\n",
            "fam_Ziggy                    -1.1682      0.506     -2.310      0.021      -2.159      -0.177\n",
            "fam_Zirka                     1.0121      0.227      4.466      0.000       0.568       1.456\n",
            "fam_Zombie Offensive          0.1881      0.619      0.304      0.761      -1.026       1.402\n",
            "fam_龍王 (Dragon King)         -0.3030      0.138     -2.202      0.028      -0.573      -0.033\n",
            "==============================================================================\n",
            "Omnibus:                     2961.174   Durbin-Watson:                   1.103\n",
            "Prob(Omnibus):                  0.000   Jarque-Bera (JB):             7678.009\n",
            "Skew:                           0.620   Prob(JB):                         0.00\n",
            "Kurtosis:                       5.275   Cond. No.                     1.25e+16\n",
            "==============================================================================\n",
            "\n",
            "Warnings:\n",
            "[1] Standard Errors assume that the covariance matrix of the errors is correctly specified.\n",
            "[2] The smallest eigenvalue is 1.79e-28. This might indicate that there are\n",
            "strong multicollinearity problems or that the design matrix is singular.\n"
          ]
        }
      ]
    },
    {
      "cell_type": "code",
      "source": [
        "p_family = pd.DataFrame({'family_characters':results.pvalues.index, 'p-value':results.pvalues.values})"
      ],
      "metadata": {
        "id": "DVfLs853nPJ-"
      },
      "execution_count": 231,
      "outputs": []
    },
    {
      "cell_type": "code",
      "source": [
        "p_family_sig = p_family[~(p_family['p-value'] > 0.05)]"
      ],
      "metadata": {
        "id": "nQkrFDf_aGhe"
      },
      "execution_count": 242,
      "outputs": []
    },
    {
      "cell_type": "code",
      "source": [
        "p_family_sig = p_family_sig.reset_index()"
      ],
      "metadata": {
        "id": "o76AkusUaspa"
      },
      "execution_count": 247,
      "outputs": []
    },
    {
      "cell_type": "code",
      "source": [
        "p_family_sig"
      ],
      "metadata": {
        "colab": {
          "base_uri": "https://localhost:8080/",
          "height": 424
        },
        "id": "6DqpoTu-eNve",
        "outputId": "c1a8bee2-73ea-4bb0-afd3-1ca15e3bcfe7"
      },
      "execution_count": 248,
      "outputs": [
        {
          "output_type": "execute_result",
          "data": {
            "text/plain": [
              "     index         family_characters       p-value\n",
              "0        0                     const  0.000000e+00\n",
              "1        1  fam_3rd Commando Company  8.067527e-16\n",
              "2        2                 fam_Abyss  1.423783e-04\n",
              "3        3    fam_Abyssal Apparition  8.483180e-04\n",
              "4        4               fam_Acheron  6.510742e-05\n",
              "..     ...                       ...           ...\n",
              "500    813         fam_Yellow-banded  3.345097e-21\n",
              "501    814           fam_ZX Spectron  6.540603e-09\n",
              "502    815                 fam_Ziggy  2.089990e-02\n",
              "503    816                 fam_Zirka  7.986285e-06\n",
              "504    818      fam_龍王 (Dragon King)  2.768425e-02\n",
              "\n",
              "[505 rows x 3 columns]"
            ],
            "text/html": [
              "\n",
              "  <div id=\"df-5c3c0a82-d939-41ca-95ea-f672cf04ae4a\">\n",
              "    <div class=\"colab-df-container\">\n",
              "      <div>\n",
              "<style scoped>\n",
              "    .dataframe tbody tr th:only-of-type {\n",
              "        vertical-align: middle;\n",
              "    }\n",
              "\n",
              "    .dataframe tbody tr th {\n",
              "        vertical-align: top;\n",
              "    }\n",
              "\n",
              "    .dataframe thead th {\n",
              "        text-align: right;\n",
              "    }\n",
              "</style>\n",
              "<table border=\"1\" class=\"dataframe\">\n",
              "  <thead>\n",
              "    <tr style=\"text-align: right;\">\n",
              "      <th></th>\n",
              "      <th>index</th>\n",
              "      <th>family_characters</th>\n",
              "      <th>p-value</th>\n",
              "    </tr>\n",
              "  </thead>\n",
              "  <tbody>\n",
              "    <tr>\n",
              "      <th>0</th>\n",
              "      <td>0</td>\n",
              "      <td>const</td>\n",
              "      <td>0.000000e+00</td>\n",
              "    </tr>\n",
              "    <tr>\n",
              "      <th>1</th>\n",
              "      <td>1</td>\n",
              "      <td>fam_3rd Commando Company</td>\n",
              "      <td>8.067527e-16</td>\n",
              "    </tr>\n",
              "    <tr>\n",
              "      <th>2</th>\n",
              "      <td>2</td>\n",
              "      <td>fam_Abyss</td>\n",
              "      <td>1.423783e-04</td>\n",
              "    </tr>\n",
              "    <tr>\n",
              "      <th>3</th>\n",
              "      <td>3</td>\n",
              "      <td>fam_Abyssal Apparition</td>\n",
              "      <td>8.483180e-04</td>\n",
              "    </tr>\n",
              "    <tr>\n",
              "      <th>4</th>\n",
              "      <td>4</td>\n",
              "      <td>fam_Acheron</td>\n",
              "      <td>6.510742e-05</td>\n",
              "    </tr>\n",
              "    <tr>\n",
              "      <th>...</th>\n",
              "      <td>...</td>\n",
              "      <td>...</td>\n",
              "      <td>...</td>\n",
              "    </tr>\n",
              "    <tr>\n",
              "      <th>500</th>\n",
              "      <td>813</td>\n",
              "      <td>fam_Yellow-banded</td>\n",
              "      <td>3.345097e-21</td>\n",
              "    </tr>\n",
              "    <tr>\n",
              "      <th>501</th>\n",
              "      <td>814</td>\n",
              "      <td>fam_ZX Spectron</td>\n",
              "      <td>6.540603e-09</td>\n",
              "    </tr>\n",
              "    <tr>\n",
              "      <th>502</th>\n",
              "      <td>815</td>\n",
              "      <td>fam_Ziggy</td>\n",
              "      <td>2.089990e-02</td>\n",
              "    </tr>\n",
              "    <tr>\n",
              "      <th>503</th>\n",
              "      <td>816</td>\n",
              "      <td>fam_Zirka</td>\n",
              "      <td>7.986285e-06</td>\n",
              "    </tr>\n",
              "    <tr>\n",
              "      <th>504</th>\n",
              "      <td>818</td>\n",
              "      <td>fam_龍王 (Dragon King)</td>\n",
              "      <td>2.768425e-02</td>\n",
              "    </tr>\n",
              "  </tbody>\n",
              "</table>\n",
              "<p>505 rows × 3 columns</p>\n",
              "</div>\n",
              "      <button class=\"colab-df-convert\" onclick=\"convertToInteractive('df-5c3c0a82-d939-41ca-95ea-f672cf04ae4a')\"\n",
              "              title=\"Convert this dataframe to an interactive table.\"\n",
              "              style=\"display:none;\">\n",
              "        \n",
              "  <svg xmlns=\"http://www.w3.org/2000/svg\" height=\"24px\"viewBox=\"0 0 24 24\"\n",
              "       width=\"24px\">\n",
              "    <path d=\"M0 0h24v24H0V0z\" fill=\"none\"/>\n",
              "    <path d=\"M18.56 5.44l.94 2.06.94-2.06 2.06-.94-2.06-.94-.94-2.06-.94 2.06-2.06.94zm-11 1L8.5 8.5l.94-2.06 2.06-.94-2.06-.94L8.5 2.5l-.94 2.06-2.06.94zm10 10l.94 2.06.94-2.06 2.06-.94-2.06-.94-.94-2.06-.94 2.06-2.06.94z\"/><path d=\"M17.41 7.96l-1.37-1.37c-.4-.4-.92-.59-1.43-.59-.52 0-1.04.2-1.43.59L10.3 9.45l-7.72 7.72c-.78.78-.78 2.05 0 2.83L4 21.41c.39.39.9.59 1.41.59.51 0 1.02-.2 1.41-.59l7.78-7.78 2.81-2.81c.8-.78.8-2.07 0-2.86zM5.41 20L4 18.59l7.72-7.72 1.47 1.35L5.41 20z\"/>\n",
              "  </svg>\n",
              "      </button>\n",
              "      \n",
              "  <style>\n",
              "    .colab-df-container {\n",
              "      display:flex;\n",
              "      flex-wrap:wrap;\n",
              "      gap: 12px;\n",
              "    }\n",
              "\n",
              "    .colab-df-convert {\n",
              "      background-color: #E8F0FE;\n",
              "      border: none;\n",
              "      border-radius: 50%;\n",
              "      cursor: pointer;\n",
              "      display: none;\n",
              "      fill: #1967D2;\n",
              "      height: 32px;\n",
              "      padding: 0 0 0 0;\n",
              "      width: 32px;\n",
              "    }\n",
              "\n",
              "    .colab-df-convert:hover {\n",
              "      background-color: #E2EBFA;\n",
              "      box-shadow: 0px 1px 2px rgba(60, 64, 67, 0.3), 0px 1px 3px 1px rgba(60, 64, 67, 0.15);\n",
              "      fill: #174EA6;\n",
              "    }\n",
              "\n",
              "    [theme=dark] .colab-df-convert {\n",
              "      background-color: #3B4455;\n",
              "      fill: #D2E3FC;\n",
              "    }\n",
              "\n",
              "    [theme=dark] .colab-df-convert:hover {\n",
              "      background-color: #434B5C;\n",
              "      box-shadow: 0px 1px 3px 1px rgba(0, 0, 0, 0.15);\n",
              "      filter: drop-shadow(0px 1px 2px rgba(0, 0, 0, 0.3));\n",
              "      fill: #FFFFFF;\n",
              "    }\n",
              "  </style>\n",
              "\n",
              "      <script>\n",
              "        const buttonEl =\n",
              "          document.querySelector('#df-5c3c0a82-d939-41ca-95ea-f672cf04ae4a button.colab-df-convert');\n",
              "        buttonEl.style.display =\n",
              "          google.colab.kernel.accessAllowed ? 'block' : 'none';\n",
              "\n",
              "        async function convertToInteractive(key) {\n",
              "          const element = document.querySelector('#df-5c3c0a82-d939-41ca-95ea-f672cf04ae4a');\n",
              "          const dataTable =\n",
              "            await google.colab.kernel.invokeFunction('convertToInteractive',\n",
              "                                                     [key], {});\n",
              "          if (!dataTable) return;\n",
              "\n",
              "          const docLinkHtml = 'Like what you see? Visit the ' +\n",
              "            '<a target=\"_blank\" href=https://colab.research.google.com/notebooks/data_table.ipynb>data table notebook</a>'\n",
              "            + ' to learn more about interactive tables.';\n",
              "          element.innerHTML = '';\n",
              "          dataTable['output_type'] = 'display_data';\n",
              "          await google.colab.output.renderOutput(dataTable, element);\n",
              "          const docLink = document.createElement('div');\n",
              "          docLink.innerHTML = docLinkHtml;\n",
              "          element.appendChild(docLink);\n",
              "        }\n",
              "      </script>\n",
              "    </div>\n",
              "  </div>\n",
              "  "
            ]
          },
          "metadata": {},
          "execution_count": 248
        }
      ]
    },
    {
      "cell_type": "markdown",
      "source": [
        "Dieses Beispiel am Feature Family zeigt, dass von 818 Featureausprägungen nur 505 das Signifikanzniveau von 5% erreichen.  \n",
        "Die restlichen 313 Features sind für den weiteren Verlauf ausgeschieden."
      ],
      "metadata": {
        "id": "exlyfWWLbaGa"
      }
    },
    {
      "cell_type": "markdown",
      "source": [
        "**version**"
      ],
      "metadata": {
        "id": "iHj3M9vzeR4u"
      }
    },
    {
      "cell_type": "code",
      "source": [
        ""
      ],
      "metadata": {
        "id": "vH4--GQpbZS6"
      },
      "execution_count": null,
      "outputs": []
    },
    {
      "cell_type": "markdown",
      "source": [
        "**Im folgenden werden die nominalskalierten Daten encodiert:**"
      ],
      "metadata": {
        "id": "3o5cwnCWx7x3"
      }
    },
    {
      "cell_type": "markdown",
      "source": [
        "##Beispiel Feature Category!"
      ],
      "metadata": {
        "id": "yqw6xVOYyEmS"
      }
    },
    {
      "cell_type": "code",
      "source": [
        "data['salePricelog'] = np.log(data['salePrice'])"
      ],
      "metadata": {
        "id": "9qJwmePB1tEh"
      },
      "execution_count": 37,
      "outputs": []
    },
    {
      "cell_type": "code",
      "source": [
        "data.salePricelog.hist()"
      ],
      "metadata": {
        "colab": {
          "base_uri": "https://localhost:8080/",
          "height": 282
        },
        "id": "5-bAl6nFZ6iW",
        "outputId": "59f77b4a-43cd-4744-f9b6-be9a6618fded"
      },
      "execution_count": 38,
      "outputs": [
        {
          "output_type": "execute_result",
          "data": {
            "text/plain": [
              "<matplotlib.axes._subplots.AxesSubplot at 0x7efd4143e490>"
            ]
          },
          "metadata": {},
          "execution_count": 38
        },
        {
          "output_type": "display_data",
          "data": {
            "text/plain": [
              "<Figure size 432x288 with 1 Axes>"
            ],
            "image/png": "[encoded data removed]"
          },
          "metadata": {
            "needs_background": "light"
          }
        }
      ]
    },
    {
      "cell_type": "code",
      "source": [
        "data.salePrice.quantile(0.75)"
      ],
      "metadata": {
        "colab": {
          "base_uri": "https://localhost:8080/"
        },
        "id": "q9ZVbF67aBSx",
        "outputId": "f733a41d-0437-4673-c46a-9fd06d203c7c"
      },
      "execution_count": 39,
      "outputs": [
        {
          "output_type": "execute_result",
          "data": {
            "text/plain": [
              "3.0"
            ]
          },
          "metadata": {},
          "execution_count": 39
        }
      ]
    },
    {
      "cell_type": "code",
      "source": [
        "data2 = pd.get_dummies(data.category, prefix='cat')"
      ],
      "metadata": {
        "id": "-v7WhhkH1GHl"
      },
      "execution_count": 25,
      "outputs": []
    },
    {
      "cell_type": "code",
      "source": [
        "data3 = pd.concat([data, data2], axis=1)"
      ],
      "metadata": {
        "id": "M_3C9w6p1aAL"
      },
      "execution_count": 26,
      "outputs": []
    },
    {
      "cell_type": "code",
      "source": [
        "y = data3['salePricelog']\n",
        "X = data3[['rarity', 'wear', 'lock', 'cat_Gloves', 'cat_Heavy', 'cat_Knife', 'cat_Pistol', 'cat_Rifle', 'cat_SMG']]"
      ],
      "metadata": {
        "id": "aGdeEzcOx7C0"
      },
      "execution_count": 27,
      "outputs": []
    },
    {
      "cell_type": "code",
      "source": [
        "model_lr = LinearRegression()"
      ],
      "metadata": {
        "id": "TnUS6lhDx1Us"
      },
      "execution_count": 30,
      "outputs": []
    },
    {
      "cell_type": "code",
      "source": [
        "X = sm.add_constant(X)"
      ],
      "metadata": {
        "colab": {
          "base_uri": "https://localhost:8080/"
        },
        "id": "oDqW5Nlt1LgO",
        "outputId": "250abca2-050d-453c-ff67-8b6ffb55a1a2"
      },
      "execution_count": 31,
      "outputs": [
        {
          "output_type": "stream",
          "name": "stderr",
          "text": [
            "/usr/local/lib/python3.7/dist-packages/statsmodels/tsa/tsatools.py:117: FutureWarning: In a future version of pandas all arguments of concat except for the argument 'objs' will be keyword-only\n",
            "  x = pd.concat(x[::order], 1)\n"
          ]
        }
      ]
    },
    {
      "cell_type": "code",
      "source": [
        "model = sm.OLS(y,X)\n",
        "results = model.fit()"
      ],
      "metadata": {
        "id": "YQxpyGKN1Nd2"
      },
      "execution_count": 32,
      "outputs": []
    },
    {
      "cell_type": "code",
      "source": [
        "print(results.summary())"
      ],
      "metadata": {
        "colab": {
          "base_uri": "https://localhost:8080/"
        },
        "id": "TfucZr0y1PD5",
        "outputId": "77abdfb2-1e4e-4d6f-e1d0-9ce9a2bd355d"
      },
      "execution_count": 33,
      "outputs": [
        {
          "output_type": "stream",
          "name": "stdout",
          "text": [
            "                            OLS Regression Results                            \n",
            "==============================================================================\n",
            "Dep. Variable:           salePricelog   R-squared:                       0.770\n",
            "Model:                            OLS   Adj. R-squared:                  0.770\n",
            "Method:                 Least Squares   F-statistic:                 5.564e+04\n",
            "Date:                Wed, 04 May 2022   Prob (F-statistic):               0.00\n",
            "Time:                        16:12:02   Log-Likelihood:            -2.3590e+05\n",
            "No. Observations:              132807   AIC:                         4.718e+05\n",
            "Df Residuals:                  132798   BIC:                         4.719e+05\n",
            "Df Model:                           8                                         \n",
            "Covariance Type:            nonrobust                                         \n",
            "==============================================================================\n",
            "                 coef    std err          t      P>|t|      [0.025      0.975]\n",
            "------------------------------------------------------------------------------\n",
            "const         -2.6416      0.012   -217.998      0.000      -2.665      -2.618\n",
            "rarity         1.2969      0.003    454.197      0.000       1.291       1.303\n",
            "wear          -2.9832      0.023   -131.729      0.000      -3.028      -2.939\n",
            "lock          -0.1864      0.010    -18.002      0.000      -0.207      -0.166\n",
            "cat_Gloves     1.1555      0.032     36.222      0.000       1.093       1.218\n",
            "cat_Heavy     -1.3788      0.012   -118.779      0.000      -1.402      -1.356\n",
            "cat_Knife      0.9877      0.020     48.346      0.000       0.948       1.028\n",
            "cat_Pistol    -1.0993      0.009   -122.124      0.000      -1.117      -1.082\n",
            "cat_Rifle     -0.8887      0.009   -102.368      0.000      -0.906      -0.872\n",
            "cat_SMG       -1.4181      0.010   -141.217      0.000      -1.438      -1.398\n",
            "==============================================================================\n",
            "Omnibus:                    21106.697   Durbin-Watson:                   0.728\n",
            "Prob(Omnibus):                  0.000   Jarque-Bera (JB):            39446.455\n",
            "Skew:                           1.004   Prob(JB):                         0.00\n",
            "Kurtosis:                       4.759   Cond. No.                     1.70e+15\n",
            "==============================================================================\n",
            "\n",
            "Warnings:\n",
            "[1] Standard Errors assume that the covariance matrix of the errors is correctly specified.\n",
            "[2] The smallest eigenvalue is 5.15e-25. This might indicate that there are\n",
            "strong multicollinearity problems or that the design matrix is singular.\n"
          ]
        }
      ]
    },
    {
      "cell_type": "code",
      "source": [
        ""
      ],
      "metadata": {
        "id": "p84tfsbD17wT"
      },
      "execution_count": null,
      "outputs": []
    }
  ]
}
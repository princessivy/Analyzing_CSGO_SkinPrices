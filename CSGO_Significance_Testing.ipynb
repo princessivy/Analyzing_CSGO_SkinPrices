{
  "nbformat": 4,
  "nbformat_minor": 0,
  "metadata": {
    "colab": {
      "name": "CSGO_Significance-Testing.ipynb",
      "provenance": [],
      "mount_file_id": "1ZGQs_E0cwrr3FOBw6e6f8Y5H4hyl35oX",
      "authorship_tag": "ABX9TyPN8JOElln6W7f74K2nUzaG",
      "include_colab_link": true
    },
    "kernelspec": {
      "name": "python3",
      "display_name": "Python 3"
    },
    "language_info": {
      "name": "python"
    }
  },
  "cells": [
    {
      "cell_type": "markdown",
      "metadata": {
        "id": "view-in-github",
        "colab_type": "text"
      },
      "source": [
        "<a href=\"https://colab.research.google.com/github/princessivy/Analyzing_CSGO_SkinPrices/blob/main/CSGO_Significance_Testing.ipynb\" target=\"_parent\"><img src=\"https://colab.research.google.com/assets/colab-badge.svg\" alt=\"Open In Colab\"/></a>"
      ]
    },
    {
      "cell_type": "markdown",
      "source": [
        "#Imports"
      ],
      "metadata": {
        "id": "AoI3znXtvpBS"
      }
    },
    {
      "cell_type": "code",
      "source": [
        "import pandas as pd\n",
        "import numpy as np\n",
        "from google.colab import drive\n",
        "from pathlib import Path\n",
        "\n",
        "from sklearn.linear_model import LinearRegression\n",
        "import statsmodels.api as sm"
      ],
      "metadata": {
        "id": "2IQzJE_cvohV"
      },
      "execution_count": 34,
      "outputs": []
    },
    {
      "cell_type": "markdown",
      "source": [
        "#Daten einlesen"
      ],
      "metadata": {
        "id": "uwhdbuRWvyPq"
      }
    },
    {
      "cell_type": "code",
      "source": [
        "data = pd.read_csv(r'/content/drive/MyDrive/SA_BA/Data/allitems_cleaned_3.csv')"
      ],
      "metadata": {
        "id": "MtTEip7kvoGd"
      },
      "execution_count": 5,
      "outputs": []
    },
    {
      "cell_type": "markdown",
      "source": [
        "# Datenaufbereitung für Signifikanztest"
      ],
      "metadata": {
        "id": "kW7OTS4vwkBj"
      }
    },
    {
      "cell_type": "code",
      "execution_count": 6,
      "metadata": {
        "colab": {
          "base_uri": "https://localhost:8080/"
        },
        "id": "3wF4cCcrvc29",
        "outputId": "2c0dd2fe-a4fb-4c00-abf9-46d4d0817a3e"
      },
      "outputs": [
        {
          "output_type": "execute_result",
          "data": {
            "text/plain": [
              "Index(['index', 'assetId', 'family', 'lock', 'version', 'salePrice',\n",
              "       'category', 'subCategory', 'pattern', 'wear', 'exterior', 'quality',\n",
              "       'rarity', 'collection', 'stickers', 'souvenir', 'stattrak',\n",
              "       'colorfulness', 'cats_colorfulness'],\n",
              "      dtype='object')"
            ]
          },
          "metadata": {},
          "execution_count": 6
        }
      ],
      "source": [
        "# übrige Features:\n",
        "data.columns"
      ]
    },
    {
      "cell_type": "markdown",
      "source": [
        "Die Features *index* und *assetId* können direkt gelöscht werden, da diese nur zur Unterstützung der Visualisierungen dienten."
      ],
      "metadata": {
        "id": "boKYtbAYwspz"
      }
    },
    {
      "cell_type": "code",
      "source": [
        "data = data.drop(['index', 'assetId'], axis = 1)"
      ],
      "metadata": {
        "id": "SWIISxW2wo_n"
      },
      "execution_count": 7,
      "outputs": []
    },
    {
      "cell_type": "markdown",
      "source": [
        "Nun werden die kategorischen Features in nummerische umgewandelt. "
      ],
      "metadata": {
        "id": "2HpXqKkNwv31"
      }
    },
    {
      "cell_type": "code",
      "source": [
        "# kategorische Features filtern\n",
        "data.dtypes"
      ],
      "metadata": {
        "colab": {
          "base_uri": "https://localhost:8080/"
        },
        "id": "bL0QGC2Rwu8D",
        "outputId": "a8c15d74-5ee3-4661-c07f-a4b6440419f2"
      },
      "execution_count": 8,
      "outputs": [
        {
          "output_type": "execute_result",
          "data": {
            "text/plain": [
              "family                object\n",
              "lock                   int64\n",
              "version               object\n",
              "salePrice            float64\n",
              "category              object\n",
              "subCategory           object\n",
              "pattern                int64\n",
              "wear                 float64\n",
              "exterior              object\n",
              "quality               object\n",
              "rarity                object\n",
              "collection            object\n",
              "stickers               int64\n",
              "souvenir               int64\n",
              "stattrak               int64\n",
              "colorfulness         float64\n",
              "cats_colorfulness     object\n",
              "dtype: object"
            ]
          },
          "metadata": {},
          "execution_count": 8
        }
      ]
    },
    {
      "cell_type": "markdown",
      "source": [
        "Kategorisch:\n",
        "* family\n",
        "* version\n",
        "* category\n",
        "* subCategory\n",
        "* exterior\n",
        "* quality\n",
        "* rarity\n",
        "* collection\n",
        "* cats_colorfulness"
      ],
      "metadata": {
        "id": "2DPLEvBEw3c6"
      }
    },
    {
      "cell_type": "markdown",
      "source": [
        "**Einordnung Skalenniveaus:**\n",
        "\n",
        "Davon ordinalskaliert mit Anzahl Ausprägungen:\n",
        "* exterior, 5\n",
        "* rarity, 7\n",
        "* cats_colorfulness, 6\n",
        "\n",
        "Davon nominalskaliert mit Anzahl Ausprägungen:\n",
        "* family, 911\n",
        "* version, 20\n",
        "* category, 6\n",
        "* subCategory, 61\n",
        "* quality, 5\n",
        "* collection, 75"
      ],
      "metadata": {
        "id": "CIUQVPZKw5EX"
      }
    },
    {
      "cell_type": "markdown",
      "source": [
        "**Im Folgenden werden die ordinalskalierten Daten encodiert (Label-Encoding):**  \n",
        "*(mir ist bewusst, dass es hierfür auch from sklearn.preprocessing import LabelEncoder gibt, allerdings kann ich durch manuelles Arbeiten sicher gehen, dass die Zahlen in der richtigen Reihenfolge vergeben werden)*"
      ],
      "metadata": {
        "id": "7BLBGBqUw8gl"
      }
    },
    {
      "cell_type": "markdown",
      "source": [
        "**exterior**  \n",
        "Reihenfolge von gut zu schlecht: Factory New, Minimal Wear, Field-Tested, Well-Worn, Battle-Scarred.  \n",
        "Entsprechend enthält Battle-Scarred den niedrigsten und Factory New den höchsten Wert."
      ],
      "metadata": {
        "id": "LKFWoa1Zw_ph"
      }
    },
    {
      "cell_type": "code",
      "source": [
        "data.exterior.unique()"
      ],
      "metadata": {
        "colab": {
          "base_uri": "https://localhost:8080/"
        },
        "id": "Y1bGd530w7vk",
        "outputId": "d87c1f6a-81bc-4952-d94e-52b03ba4992e"
      },
      "execution_count": 9,
      "outputs": [
        {
          "output_type": "execute_result",
          "data": {
            "text/plain": [
              "array(['Factory New', 'Minimal Wear', 'Field-Tested', 'Battle-Scarred',\n",
              "       'Well-Worn'], dtype=object)"
            ]
          },
          "metadata": {},
          "execution_count": 9
        }
      ]
    },
    {
      "cell_type": "code",
      "source": [
        "def encode_exterior(x):\n",
        "  if x == 'Factory New':\n",
        "    return 5\n",
        "  elif x == 'Minimal Wear':\n",
        "    return 4\n",
        "  elif x == 'Field-Tested':\n",
        "    return 3\n",
        "  elif x == 'Well-Worn':\n",
        "    return 2\n",
        "  elif x == 'Battle-Scarred':\n",
        "    return 1"
      ],
      "metadata": {
        "id": "CP619phGxFg6"
      },
      "execution_count": 10,
      "outputs": []
    },
    {
      "cell_type": "code",
      "source": [
        "data.exterior = data.exterior.apply(encode_exterior)"
      ],
      "metadata": {
        "id": "OyiMDDH1xIFq"
      },
      "execution_count": 11,
      "outputs": []
    },
    {
      "cell_type": "markdown",
      "source": [
        "**rarity**  \n",
        "Reihenfolge von gut zu schlecht: Extraordinary, Covert, Classified, Restricted, Mil-Spec Grade, Industrial Grade, Consumer Grade.  "
      ],
      "metadata": {
        "id": "9Ot7Yo5OxNkw"
      }
    },
    {
      "cell_type": "code",
      "source": [
        "data.rarity.unique()"
      ],
      "metadata": {
        "colab": {
          "base_uri": "https://localhost:8080/"
        },
        "id": "O7_YSjNKxKDd",
        "outputId": "2aad1c3b-b656-492b-c433-3c1ab867ff0d"
      },
      "execution_count": 12,
      "outputs": [
        {
          "output_type": "execute_result",
          "data": {
            "text/plain": [
              "array(['Covert', 'Restricted', 'Mil-Spec Grade', 'Classified',\n",
              "       'Industrial Grade', 'Consumer Grade', 'Extraordinary'],\n",
              "      dtype=object)"
            ]
          },
          "metadata": {},
          "execution_count": 12
        }
      ]
    },
    {
      "cell_type": "markdown",
      "source": [
        "Bemerkung: In *Extraordinary* stecken alle Skins der Kategorie Gloves. Diese sind mit *Covert* gleichgestellt. Entsprechend werden diese in die gleichie Kategorie fallen."
      ],
      "metadata": {
        "id": "hp-60g4YxSyO"
      }
    },
    {
      "cell_type": "code",
      "source": [
        "data[data['rarity'] == 'Extraordinary'].category.unique()"
      ],
      "metadata": {
        "colab": {
          "base_uri": "https://localhost:8080/"
        },
        "id": "ceFAd3idxPub",
        "outputId": "e7b66705-e3dc-49cc-e93d-3e02b1e5228c"
      },
      "execution_count": 13,
      "outputs": [
        {
          "output_type": "execute_result",
          "data": {
            "text/plain": [
              "array(['Gloves'], dtype=object)"
            ]
          },
          "metadata": {},
          "execution_count": 13
        }
      ]
    },
    {
      "cell_type": "code",
      "source": [
        "def encode_rarity(x):\n",
        "  if (x == 'Extraordinary') or (x == 'Covert'):\n",
        "    return 6\n",
        "  elif x == 'Classified':\n",
        "    return 5\n",
        "  elif x == 'Restricted':\n",
        "    return 4\n",
        "  elif x == 'Mil-Spec Grade':\n",
        "    return 3\n",
        "  elif x == 'Industrial Grade':\n",
        "    return 2\n",
        "  elif x == 'Consumer Grade':\n",
        "    return 1"
      ],
      "metadata": {
        "id": "tXZ2RcV7xViA"
      },
      "execution_count": 14,
      "outputs": []
    },
    {
      "cell_type": "code",
      "source": [
        "data.rarity = data.rarity.apply(encode_rarity)"
      ],
      "metadata": {
        "id": "KIcVwkj4xYZI"
      },
      "execution_count": 15,
      "outputs": []
    },
    {
      "cell_type": "markdown",
      "source": [
        "**cats_colorfulness**"
      ],
      "metadata": {
        "id": "oJnZOLoFxfML"
      }
    },
    {
      "cell_type": "markdown",
      "source": [
        "Reihenfolge von gut zu schlecht: extremely colorful, highly colorful, quite colorful, averagely colorful, moderately colorful, slightly colorful, not colorful."
      ],
      "metadata": {
        "id": "KN29VaHMxioQ"
      }
    },
    {
      "cell_type": "code",
      "source": [
        "data.cats_colorfulness.unique()"
      ],
      "metadata": {
        "colab": {
          "base_uri": "https://localhost:8080/"
        },
        "id": "r1US_md6xaGe",
        "outputId": "599fd13f-a98b-489c-de3f-e1a141c808bb"
      },
      "execution_count": 16,
      "outputs": [
        {
          "output_type": "execute_result",
          "data": {
            "text/plain": [
              "array(['highly colorful', 'quite colorful', 'slightly colorful',\n",
              "       'moderately colorful', 'averagely colorful', 'extemely colorful'],\n",
              "      dtype=object)"
            ]
          },
          "metadata": {},
          "execution_count": 16
        }
      ]
    },
    {
      "cell_type": "code",
      "source": [
        "def encode_colors(x):\n",
        "  if x == 'extemely colorful':\n",
        "    return 6\n",
        "  elif x == 'highly colorful':\n",
        "    return 5\n",
        "  elif x == 'quite colorful':\n",
        "    return 4\n",
        "  elif x == 'averagely colorful':\n",
        "    return 3\n",
        "  elif x == 'moderately colorful':\n",
        "    return 2\n",
        "  elif x == 'slightly colorful':\n",
        "    return 1\n",
        "  elif x == 'not colorful': #gibt's nicht\n",
        "    return 0"
      ],
      "metadata": {
        "id": "_njZj6Pgxnlv"
      },
      "execution_count": 17,
      "outputs": []
    },
    {
      "cell_type": "code",
      "source": [
        "data.cats_colorfulness = data.cats_colorfulness.apply(encode_colors)"
      ],
      "metadata": {
        "id": "xyu9vhsGxqO_"
      },
      "execution_count": 18,
      "outputs": []
    },
    {
      "cell_type": "markdown",
      "source": [
        "Speicherpunkt 4:"
      ],
      "metadata": {
        "id": "gxCv25Fzxu1w"
      }
    },
    {
      "cell_type": "code",
      "source": [
        "data.to_csv(r'allitems_cleaned_4.csv', index=False, header=True)"
      ],
      "metadata": {
        "id": "Hba_sdCGxs4O"
      },
      "execution_count": null,
      "outputs": []
    },
    {
      "cell_type": "code",
      "source": [
        "data = pd.read_csv(r'/content/drive/MyDrive/SA_BA/Data/allitems_cleaned_4.csv')"
      ],
      "metadata": {
        "id": "frcS-tNRxzQZ"
      },
      "execution_count": 35,
      "outputs": []
    },
    {
      "cell_type": "markdown",
      "source": [
        "**Im folgenden werden die nominalskalierten Daten encodiert:**"
      ],
      "metadata": {
        "id": "3o5cwnCWx7x3"
      }
    },
    {
      "cell_type": "markdown",
      "source": [
        "* family, 911\n",
        "* version, 20\n",
        "* category, 6 - OHE?\n",
        "* subCategory, 61\n",
        "* quality, 5 - OHE?\n",
        "* collection, 75\n",
        "* pattern..?"
      ],
      "metadata": {
        "id": "izLf_ETtyA3C"
      }
    },
    {
      "cell_type": "markdown",
      "source": [
        "##Beispiel Feature Category!"
      ],
      "metadata": {
        "id": "yqw6xVOYyEmS"
      }
    },
    {
      "cell_type": "code",
      "source": [
        "data['salePricelog'] = np.log(data['salePrice'])"
      ],
      "metadata": {
        "id": "9qJwmePB1tEh"
      },
      "execution_count": 24,
      "outputs": []
    },
    {
      "cell_type": "code",
      "source": [
        "data2 = pd.get_dummies(data.category, prefix='cat')"
      ],
      "metadata": {
        "id": "-v7WhhkH1GHl"
      },
      "execution_count": 25,
      "outputs": []
    },
    {
      "cell_type": "code",
      "source": [
        "data3 = pd.concat([data, data2], axis=1)"
      ],
      "metadata": {
        "id": "M_3C9w6p1aAL"
      },
      "execution_count": 26,
      "outputs": []
    },
    {
      "cell_type": "code",
      "source": [
        "y = data3['salePricelog']\n",
        "X = data3[['rarity', 'wear', 'lock', 'cat_Gloves', 'cat_Heavy', 'cat_Knife', 'cat_Pistol', 'cat_Rifle', 'cat_SMG']]"
      ],
      "metadata": {
        "id": "aGdeEzcOx7C0"
      },
      "execution_count": 27,
      "outputs": []
    },
    {
      "cell_type": "code",
      "source": [
        "model_lr = LinearRegression()"
      ],
      "metadata": {
        "id": "TnUS6lhDx1Us"
      },
      "execution_count": 30,
      "outputs": []
    },
    {
      "cell_type": "code",
      "source": [
        "X = sm.add_constant(X)"
      ],
      "metadata": {
        "colab": {
          "base_uri": "https://localhost:8080/"
        },
        "id": "oDqW5Nlt1LgO",
        "outputId": "250abca2-050d-453c-ff67-8b6ffb55a1a2"
      },
      "execution_count": 31,
      "outputs": [
        {
          "output_type": "stream",
          "name": "stderr",
          "text": [
            "/usr/local/lib/python3.7/dist-packages/statsmodels/tsa/tsatools.py:117: FutureWarning: In a future version of pandas all arguments of concat except for the argument 'objs' will be keyword-only\n",
            "  x = pd.concat(x[::order], 1)\n"
          ]
        }
      ]
    },
    {
      "cell_type": "code",
      "source": [
        "model = sm.OLS(y,X)\n",
        "results = model.fit()"
      ],
      "metadata": {
        "id": "YQxpyGKN1Nd2"
      },
      "execution_count": 32,
      "outputs": []
    },
    {
      "cell_type": "code",
      "source": [
        "print(results.summary())"
      ],
      "metadata": {
        "colab": {
          "base_uri": "https://localhost:8080/"
        },
        "id": "TfucZr0y1PD5",
        "outputId": "77abdfb2-1e4e-4d6f-e1d0-9ce9a2bd355d"
      },
      "execution_count": 33,
      "outputs": [
        {
          "output_type": "stream",
          "name": "stdout",
          "text": [
            "                            OLS Regression Results                            \n",
            "==============================================================================\n",
            "Dep. Variable:           salePricelog   R-squared:                       0.770\n",
            "Model:                            OLS   Adj. R-squared:                  0.770\n",
            "Method:                 Least Squares   F-statistic:                 5.564e+04\n",
            "Date:                Wed, 04 May 2022   Prob (F-statistic):               0.00\n",
            "Time:                        16:12:02   Log-Likelihood:            -2.3590e+05\n",
            "No. Observations:              132807   AIC:                         4.718e+05\n",
            "Df Residuals:                  132798   BIC:                         4.719e+05\n",
            "Df Model:                           8                                         \n",
            "Covariance Type:            nonrobust                                         \n",
            "==============================================================================\n",
            "                 coef    std err          t      P>|t|      [0.025      0.975]\n",
            "------------------------------------------------------------------------------\n",
            "const         -2.6416      0.012   -217.998      0.000      -2.665      -2.618\n",
            "rarity         1.2969      0.003    454.197      0.000       1.291       1.303\n",
            "wear          -2.9832      0.023   -131.729      0.000      -3.028      -2.939\n",
            "lock          -0.1864      0.010    -18.002      0.000      -0.207      -0.166\n",
            "cat_Gloves     1.1555      0.032     36.222      0.000       1.093       1.218\n",
            "cat_Heavy     -1.3788      0.012   -118.779      0.000      -1.402      -1.356\n",
            "cat_Knife      0.9877      0.020     48.346      0.000       0.948       1.028\n",
            "cat_Pistol    -1.0993      0.009   -122.124      0.000      -1.117      -1.082\n",
            "cat_Rifle     -0.8887      0.009   -102.368      0.000      -0.906      -0.872\n",
            "cat_SMG       -1.4181      0.010   -141.217      0.000      -1.438      -1.398\n",
            "==============================================================================\n",
            "Omnibus:                    21106.697   Durbin-Watson:                   0.728\n",
            "Prob(Omnibus):                  0.000   Jarque-Bera (JB):            39446.455\n",
            "Skew:                           1.004   Prob(JB):                         0.00\n",
            "Kurtosis:                       4.759   Cond. No.                     1.70e+15\n",
            "==============================================================================\n",
            "\n",
            "Warnings:\n",
            "[1] Standard Errors assume that the covariance matrix of the errors is correctly specified.\n",
            "[2] The smallest eigenvalue is 5.15e-25. This might indicate that there are\n",
            "strong multicollinearity problems or that the design matrix is singular.\n"
          ]
        }
      ]
    },
    {
      "cell_type": "code",
      "source": [
        ""
      ],
      "metadata": {
        "id": "p84tfsbD17wT"
      },
      "execution_count": null,
      "outputs": []
    }
  ]
}
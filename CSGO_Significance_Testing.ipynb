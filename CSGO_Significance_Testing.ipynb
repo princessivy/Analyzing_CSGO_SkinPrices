{
  "nbformat": 4,
  "nbformat_minor": 0,
  "metadata": {
    "colab": {
      "name": "CSGO_Significance-Testing.ipynb",
      "provenance": [],
      "mount_file_id": "1ZGQs_E0cwrr3FOBw6e6f8Y5H4hyl35oX",
      "authorship_tag": "ABX9TyN1VZRUMNkd++IXoqHWDMxw",
      "include_colab_link": true
    },
    "kernelspec": {
      "name": "python3",
      "display_name": "Python 3"
    },
    "language_info": {
      "name": "python"
    }
  },
  "cells": [
    {
      "cell_type": "markdown",
      "metadata": {
        "id": "view-in-github",
        "colab_type": "text"
      },
      "source": [
        "<a href=\"https://colab.research.google.com/github/princessivy/Analyzing_CSGO_SkinPrices/blob/main/CSGO_Significance_Testing.ipynb\" target=\"_parent\"><img src=\"https://colab.research.google.com/assets/colab-badge.svg\" alt=\"Open In Colab\"/></a>"
      ]
    },
    {
      "cell_type": "markdown",
      "source": [
        "#Imports"
      ],
      "metadata": {
        "id": "AoI3znXtvpBS"
      }
    },
    {
      "cell_type": "code",
      "source": [
        "import pandas as pd\n",
        "import numpy as np\n",
        "from google.colab import drive\n",
        "from pathlib import Path\n",
        "\n",
        "from sklearn.linear_model import LinearRegression\n",
        "import statsmodels.api as sm"
      ],
      "metadata": {
        "id": "2IQzJE_cvohV"
      },
      "execution_count": 40,
      "outputs": []
    },
    {
      "cell_type": "markdown",
      "source": [
        "#Daten einlesen"
      ],
      "metadata": {
        "id": "uwhdbuRWvyPq"
      }
    },
    {
      "cell_type": "code",
      "source": [
        "data = pd.read_csv(r'/content/drive/MyDrive/SA_BA/Data/allitems_cleaned_3.csv')"
      ],
      "metadata": {
        "id": "MtTEip7kvoGd"
      },
      "execution_count": 183,
      "outputs": []
    },
    {
      "cell_type": "markdown",
      "source": [
        "# Anpassung der Daten für die Tests"
      ],
      "metadata": {
        "id": "3xN-f9yaTVFQ"
      }
    },
    {
      "cell_type": "code",
      "source": [
        "data.salePrice.hist()"
      ],
      "metadata": {
        "colab": {
          "base_uri": "https://localhost:8080/",
          "height": 282
        },
        "id": "9K86kfAwTS-c",
        "outputId": "1215053f-4401-465d-e155-642bfad12bea"
      },
      "execution_count": 42,
      "outputs": [
        {
          "output_type": "execute_result",
          "data": {
            "text/plain": [
              "<matplotlib.axes._subplots.AxesSubplot at 0x7efd413a9890>"
            ]
          },
          "metadata": {},
          "execution_count": 42
        },
        {
          "output_type": "display_data",
          "data": {
            "text/plain": [
              "<Figure size 432x288 with 1 Axes>"
            ],
            "image/png": "[encoded data removed]"
          },
          "metadata": {
            "needs_background": "light"
          }
        }
      ]
    },
    {
      "cell_type": "code",
      "source": [
        "data['salePricelog'] = np.log(data['salePrice'])"
      ],
      "metadata": {
        "id": "AHTUu62fY2hm"
      },
      "execution_count": 184,
      "outputs": []
    },
    {
      "cell_type": "code",
      "source": [
        "data.salePricelog.hist()"
      ],
      "metadata": {
        "colab": {
          "base_uri": "https://localhost:8080/",
          "height": 282
        },
        "id": "zj1Oe-d2Y82l",
        "outputId": "e8ada9b5-f68c-4ba0-da2f-944c5189380b"
      },
      "execution_count": 106,
      "outputs": [
        {
          "output_type": "execute_result",
          "data": {
            "text/plain": [
              "<matplotlib.axes._subplots.AxesSubplot at 0x7efd41481f10>"
            ]
          },
          "metadata": {},
          "execution_count": 106
        },
        {
          "output_type": "display_data",
          "data": {
            "text/plain": [
              "<Figure size 432x288 with 1 Axes>"
            ],
            "image/png": "[encoded data removed]"
          },
          "metadata": {
            "needs_background": "light"
          }
        }
      ]
    },
    {
      "cell_type": "markdown",
      "source": [
        "Bisher wurden nur die Ausreißer nach oben entfernt. Allerdings gibt es sehr viele Skins, die sehr billig sind, was durch die vorherige EDA sehr deutlich wird und die folgenden Quantile ebenso beweisen. Auch der logarithmierte Preis zeigt eine unschöne Verteilung."
      ],
      "metadata": {
        "id": "PjGJIja3T8LG"
      }
    },
    {
      "cell_type": "code",
      "source": [
        "data.salePrice.quantile(0.5)"
      ],
      "metadata": {
        "colab": {
          "base_uri": "https://localhost:8080/"
        },
        "id": "3zG7vsYNUEO8",
        "outputId": "a9ba698e-7258-476b-8b9d-25f4932b3c1d"
      },
      "execution_count": 45,
      "outputs": [
        {
          "output_type": "execute_result",
          "data": {
            "text/plain": [
              "0.12"
            ]
          },
          "metadata": {},
          "execution_count": 45
        }
      ]
    },
    {
      "cell_type": "markdown",
      "source": [
        "Heißt, 50% der Skins kosten weniger als 12 Cent. "
      ],
      "metadata": {
        "id": "WiznarnjUGly"
      }
    },
    {
      "cell_type": "code",
      "source": [
        "data.salePrice.quantile(0.75)"
      ],
      "metadata": {
        "colab": {
          "base_uri": "https://localhost:8080/"
        },
        "id": "hHsbpJ8iUPJB",
        "outputId": "aca15205-f2e6-487c-dd8b-3ad6291ec761"
      },
      "execution_count": 46,
      "outputs": [
        {
          "output_type": "execute_result",
          "data": {
            "text/plain": [
              "3.0"
            ]
          },
          "metadata": {},
          "execution_count": 46
        }
      ]
    },
    {
      "cell_type": "markdown",
      "source": [
        "Heißt, 75% der Skins kosten weniger als 3 Euro."
      ],
      "metadata": {
        "id": "3skAdcQZUSmm"
      }
    },
    {
      "cell_type": "code",
      "source": [
        "# Mittelwert des Preises\n",
        "print(\"Mittelwert von salePrice (in EUR): \" + str(round(data.salePrice.mean(),2)))\n",
        "\n",
        "# Median des Preises\n",
        "print(\"Median von salePrice (in EUR): \" + str(round(data.salePrice.median(),2)))"
      ],
      "metadata": {
        "colab": {
          "base_uri": "https://localhost:8080/"
        },
        "id": "y-hP5Qn-WhCh",
        "outputId": "f1ef457f-d98d-4d1f-8091-42ddd1df596e"
      },
      "execution_count": 116,
      "outputs": [
        {
          "output_type": "stream",
          "name": "stdout",
          "text": [
            "Mittelwert von salePrice (in EUR): 31.34\n",
            "Median von salePrice (in EUR): 0.12\n"
          ]
        }
      ]
    },
    {
      "cell_type": "markdown",
      "source": [
        "Es ist nicht Sinn dieser Arbeit, der Signifikanz und dem Modell die Daten im unteren Preisbereich zu übergeben. Auf diesen Beobachtungen ist es uninteressant, Wissen über die Daten aufzubauen und würde das Ergebnis nur verzerren. Entsprechend wird sich ab jetzt auf die Skins konzentriert, die mindestens 5 Euro kosten."
      ],
      "metadata": {
        "id": "q5hAWf72UVy-"
      }
    },
    {
      "cell_type": "code",
      "source": [
        "data = data[data.salePrice >= 5]"
      ],
      "metadata": {
        "id": "oFNPQvEzURwb"
      },
      "execution_count": 185,
      "outputs": []
    },
    {
      "cell_type": "code",
      "source": [
        "# Mittelwert des Preises\n",
        "print(\"Mittelwert von salePrice (in EUR): \" + str(round(data.salePrice.mean(),2)))\n",
        "\n",
        "# Median des Preises\n",
        "print(\"Median von salePrice (in EUR): \" + str(round(data.salePrice.median(),2)))"
      ],
      "metadata": {
        "colab": {
          "base_uri": "https://localhost:8080/"
        },
        "id": "yiMe1fC1WWOQ",
        "outputId": "2c63f06f-3d48-43a8-adbd-113d8a65020c"
      },
      "execution_count": 118,
      "outputs": [
        {
          "output_type": "stream",
          "name": "stdout",
          "text": [
            "Mittelwert von salePrice (in EUR): 149.47\n",
            "Median von salePrice (in EUR): 34.5\n"
          ]
        }
      ]
    },
    {
      "cell_type": "code",
      "source": [
        "data.salePrice.hist()"
      ],
      "metadata": {
        "colab": {
          "base_uri": "https://localhost:8080/",
          "height": 282
        },
        "id": "Kj_Let-mYti4",
        "outputId": "7490b05e-d644-4ef0-dbf5-1e5a11f0bebc"
      },
      "execution_count": 110,
      "outputs": [
        {
          "output_type": "execute_result",
          "data": {
            "text/plain": [
              "<matplotlib.axes._subplots.AxesSubplot at 0x7efd3e8ebbd0>"
            ]
          },
          "metadata": {},
          "execution_count": 110
        },
        {
          "output_type": "display_data",
          "data": {
            "text/plain": [
              "<Figure size 432x288 with 1 Axes>"
            ],
            "image/png": "[encoded data removed]"
          },
          "metadata": {
            "needs_background": "light"
          }
        }
      ]
    },
    {
      "cell_type": "code",
      "source": [
        "data.salePricelog.hist()"
      ],
      "metadata": {
        "colab": {
          "base_uri": "https://localhost:8080/",
          "height": 285
        },
        "id": "NRuQNmT-XBbZ",
        "outputId": "38a6e03c-ca73-43ec-a2b0-6bc24cf3c702"
      },
      "execution_count": 111,
      "outputs": [
        {
          "output_type": "execute_result",
          "data": {
            "text/plain": [
              "<matplotlib.axes._subplots.AxesSubplot at 0x7efd3e7f5d90>"
            ]
          },
          "metadata": {},
          "execution_count": 111
        },
        {
          "output_type": "display_data",
          "data": {
            "text/plain": [
              "<Figure size 432x288 with 1 Axes>"
            ],
            "image/png": "[encoded data removed]"
          },
          "metadata": {
            "needs_background": "light"
          }
        }
      ]
    },
    {
      "cell_type": "markdown",
      "source": [
        "Beim logarithmierten salePrice mit Skinpreis-Werten mit mindestens 5 ist eine deutlich angenehmere Verteilung zu erkennen. Entsprechend wird mit diesen Daten weiter verfahren."
      ],
      "metadata": {
        "id": "b5FMfFY8ZPGt"
      }
    },
    {
      "cell_type": "code",
      "source": [
        "print(\"Von 132789 Beobachtungen sind durch die Kürzung der Daten bezüglich des Preises >= 5 Euro noch \" + str(len(data)) + \" Beobachtungen übrig.\")"
      ],
      "metadata": {
        "colab": {
          "base_uri": "https://localhost:8080/"
        },
        "id": "_caqXM1RZZDJ",
        "outputId": "013df120-fc2c-419f-b0c9-56e25da139d2"
      },
      "execution_count": 114,
      "outputs": [
        {
          "output_type": "stream",
          "name": "stdout",
          "text": [
            "Von 132789 Beobachtungen sind durch die Kürzung der Daten bezüglich des Preises >= 5 Euro noch 27460 Beobachtungen übrig.\n"
          ]
        }
      ]
    },
    {
      "cell_type": "markdown",
      "source": [
        "# Datenaufbereitung für Signifikanztest (und für Modell später)"
      ],
      "metadata": {
        "id": "kW7OTS4vwkBj"
      }
    },
    {
      "cell_type": "code",
      "execution_count": 145,
      "metadata": {
        "colab": {
          "base_uri": "https://localhost:8080/"
        },
        "id": "3wF4cCcrvc29",
        "outputId": "ba089e39-e2ed-485e-c54c-b27230a79d75"
      },
      "outputs": [
        {
          "output_type": "execute_result",
          "data": {
            "text/plain": [
              "Index(['index', 'assetId', 'family', 'lock', 'version', 'salePrice',\n",
              "       'category', 'subCategory', 'pattern', 'wear', 'exterior', 'quality',\n",
              "       'rarity', 'collection', 'stickers', 'souvenir', 'stattrak',\n",
              "       'colorfulness', 'cats_colorfulness', 'salePricelog'],\n",
              "      dtype='object')"
            ]
          },
          "metadata": {},
          "execution_count": 145
        }
      ],
      "source": [
        "# übrige Features:\n",
        "data.columns"
      ]
    },
    {
      "cell_type": "markdown",
      "source": [
        "Die Features *index* und *assetId* können direkt gelöscht werden, da diese nur zur Unterstützung der Visualisierungen dienten."
      ],
      "metadata": {
        "id": "boKYtbAYwspz"
      }
    },
    {
      "cell_type": "code",
      "source": [
        "data = data.drop(['index', 'assetId'], axis = 1)"
      ],
      "metadata": {
        "id": "SWIISxW2wo_n"
      },
      "execution_count": 146,
      "outputs": []
    },
    {
      "cell_type": "code",
      "source": [
        "# kategorische Features filtern\n",
        "data.dtypes"
      ],
      "metadata": {
        "colab": {
          "base_uri": "https://localhost:8080/"
        },
        "id": "bL0QGC2Rwu8D",
        "outputId": "6fff947e-555b-4429-920a-13b40c839882"
      },
      "execution_count": 147,
      "outputs": [
        {
          "output_type": "execute_result",
          "data": {
            "text/plain": [
              "family                object\n",
              "lock                   int64\n",
              "version               object\n",
              "salePrice            float64\n",
              "category              object\n",
              "subCategory           object\n",
              "pattern                int64\n",
              "wear                 float64\n",
              "exterior              object\n",
              "quality               object\n",
              "rarity                object\n",
              "collection            object\n",
              "stickers               int64\n",
              "souvenir               int64\n",
              "stattrak               int64\n",
              "colorfulness         float64\n",
              "cats_colorfulness     object\n",
              "salePricelog         float64\n",
              "dtype: object"
            ]
          },
          "metadata": {},
          "execution_count": 147
        }
      ]
    },
    {
      "cell_type": "markdown",
      "source": [
        "Kategorisch:\n",
        "* family\n",
        "* version\n",
        "* category\n",
        "* subCategory\n",
        "* exterior\n",
        "* quality\n",
        "* rarity\n",
        "* collection\n",
        "* cats_colorfulness"
      ],
      "metadata": {
        "id": "2DPLEvBEw3c6"
      }
    },
    {
      "cell_type": "markdown",
      "source": [
        "**Einordnung Skalenniveaus:**\n",
        "\n",
        "Davon ordinalskaliert mit Anzahl Ausprägungen:\n",
        "* exterior, 5\n",
        "* rarity, 7\n",
        "* cats_colorfulness, 6\n",
        "\n",
        "Davon nominalskaliert mit Anzahl Ausprägungen:\n",
        "* family, 818\n",
        "* version, 20\n",
        "* category, 6\n",
        "* subCategory, 61\n",
        "* quality, 5\n",
        "* collection, 75"
      ],
      "metadata": {
        "id": "CIUQVPZKw5EX"
      }
    },
    {
      "cell_type": "markdown",
      "source": [
        "## Ordinale Daten: Label-Encoding oder One-Hot-Encoding?"
      ],
      "metadata": {
        "id": "KvqdHpXLckPt"
      }
    },
    {
      "cell_type": "markdown",
      "source": [
        "### Version 1: Label-Encoding"
      ],
      "metadata": {
        "id": "-yupoYfiSzsK"
      }
    },
    {
      "cell_type": "markdown",
      "source": [
        "**Im Folgenden werden die ordinalskalierten Daten encodiert (Label-Encoding):**  \n",
        "*(mir ist bewusst, dass es hierfür auch from sklearn.preprocessing import LabelEncoder gibt, allerdings kann ich durch manuelles Arbeiten sicher gehen, dass die Zahlen in der richtigen Reihenfolge vergeben werden)*"
      ],
      "metadata": {
        "id": "7BLBGBqUw8gl"
      }
    },
    {
      "cell_type": "code",
      "source": [
        "data_lab = data.copy()"
      ],
      "metadata": {
        "id": "5zZDhEhxiIRz"
      },
      "execution_count": 197,
      "outputs": []
    },
    {
      "cell_type": "markdown",
      "source": [
        "**exterior**  \n",
        "Reihenfolge von gut zu schlecht: Factory New, Minimal Wear, Field-Tested, Well-Worn, Battle-Scarred.  \n",
        "Entsprechend enthält Battle-Scarred den niedrigsten und Factory New den höchsten Wert."
      ],
      "metadata": {
        "id": "LKFWoa1Zw_ph"
      }
    },
    {
      "cell_type": "code",
      "source": [
        "data_lab.exterior.unique()"
      ],
      "metadata": {
        "colab": {
          "base_uri": "https://localhost:8080/"
        },
        "id": "Y1bGd530w7vk",
        "outputId": "1e6098cd-6daf-41ba-9947-e4b14a388dbf"
      },
      "execution_count": 198,
      "outputs": [
        {
          "output_type": "execute_result",
          "data": {
            "text/plain": [
              "array(['Factory New', 'Minimal Wear', 'Field-Tested', 'Battle-Scarred',\n",
              "       'Well-Worn'], dtype=object)"
            ]
          },
          "metadata": {},
          "execution_count": 198
        }
      ]
    },
    {
      "cell_type": "code",
      "source": [
        "def encode_exterior(x):\n",
        "  if x == 'Factory New':\n",
        "    return 5\n",
        "  elif x == 'Minimal Wear':\n",
        "    return 4\n",
        "  elif x == 'Field-Tested':\n",
        "    return 3\n",
        "  elif x == 'Well-Worn':\n",
        "    return 2\n",
        "  elif x == 'Battle-Scarred':\n",
        "    return 1"
      ],
      "metadata": {
        "id": "CP619phGxFg6"
      },
      "execution_count": 148,
      "outputs": []
    },
    {
      "cell_type": "code",
      "source": [
        "data_lab.exterior = data_lab.exterior.apply(encode_exterior)"
      ],
      "metadata": {
        "id": "OyiMDDH1xIFq"
      },
      "execution_count": 199,
      "outputs": []
    },
    {
      "cell_type": "markdown",
      "source": [
        "**rarity**  \n",
        "Reihenfolge von gut zu schlecht: Extraordinary, Covert, Classified, Restricted, Mil-Spec Grade, Industrial Grade, Consumer Grade.  "
      ],
      "metadata": {
        "id": "9Ot7Yo5OxNkw"
      }
    },
    {
      "cell_type": "code",
      "source": [
        "data_lab.rarity.unique()"
      ],
      "metadata": {
        "colab": {
          "base_uri": "https://localhost:8080/"
        },
        "id": "O7_YSjNKxKDd",
        "outputId": "5826478e-e281-4515-ea1b-b27e6780ac8d"
      },
      "execution_count": 200,
      "outputs": [
        {
          "output_type": "execute_result",
          "data": {
            "text/plain": [
              "array(['Covert', 'Restricted', 'Mil-Spec Grade', 'Classified',\n",
              "       'Industrial Grade', 'Consumer Grade', 'Extraordinary'],\n",
              "      dtype=object)"
            ]
          },
          "metadata": {},
          "execution_count": 200
        }
      ]
    },
    {
      "cell_type": "markdown",
      "source": [
        "Bemerkung: In *Extraordinary* stecken alle Skins der Kategorie Gloves. Diese sind mit *Covert* gleichgestellt. Entsprechend werden diese in die gleichie Kategorie fallen."
      ],
      "metadata": {
        "id": "hp-60g4YxSyO"
      }
    },
    {
      "cell_type": "code",
      "source": [
        "data_lab[data_lab['rarity'] == 'Extraordinary'].category.unique()"
      ],
      "metadata": {
        "colab": {
          "base_uri": "https://localhost:8080/"
        },
        "id": "ceFAd3idxPub",
        "outputId": "8ce6442d-2f46-464c-d681-6669b0d8f8ab"
      },
      "execution_count": 201,
      "outputs": [
        {
          "output_type": "execute_result",
          "data": {
            "text/plain": [
              "array(['Gloves'], dtype=object)"
            ]
          },
          "metadata": {},
          "execution_count": 201
        }
      ]
    },
    {
      "cell_type": "code",
      "source": [
        "def encode_rarity(x):\n",
        "  if (x == 'Extraordinary') or (x == 'Covert'):\n",
        "    return 6\n",
        "  elif x == 'Classified':\n",
        "    return 5\n",
        "  elif x == 'Restricted':\n",
        "    return 4\n",
        "  elif x == 'Mil-Spec Grade':\n",
        "    return 3\n",
        "  elif x == 'Industrial Grade':\n",
        "    return 2\n",
        "  elif x == 'Consumer Grade':\n",
        "    return 1"
      ],
      "metadata": {
        "id": "tXZ2RcV7xViA"
      },
      "execution_count": 151,
      "outputs": []
    },
    {
      "cell_type": "code",
      "source": [
        "data_lab.rarity = data_lab.rarity.apply(encode_rarity)"
      ],
      "metadata": {
        "id": "KIcVwkj4xYZI"
      },
      "execution_count": 202,
      "outputs": []
    },
    {
      "cell_type": "markdown",
      "source": [
        "**cats_colorfulness**"
      ],
      "metadata": {
        "id": "oJnZOLoFxfML"
      }
    },
    {
      "cell_type": "markdown",
      "source": [
        "Reihenfolge von gut zu schlecht: extremely colorful, highly colorful, quite colorful, averagely colorful, moderately colorful, slightly colorful, not colorful."
      ],
      "metadata": {
        "id": "KN29VaHMxioQ"
      }
    },
    {
      "cell_type": "code",
      "source": [
        "data_lab.cats_colorfulness.unique()"
      ],
      "metadata": {
        "colab": {
          "base_uri": "https://localhost:8080/"
        },
        "id": "r1US_md6xaGe",
        "outputId": "ba16a5de-2932-4e01-d98c-639f095d4600"
      },
      "execution_count": 203,
      "outputs": [
        {
          "output_type": "execute_result",
          "data": {
            "text/plain": [
              "array(['highly colorful', 'quite colorful', 'slightly colorful',\n",
              "       'moderately colorful', 'averagely colorful', 'extemely colorful'],\n",
              "      dtype=object)"
            ]
          },
          "metadata": {},
          "execution_count": 203
        }
      ]
    },
    {
      "cell_type": "code",
      "source": [
        "def encode_colors(x):\n",
        "  if x == 'extemely colorful':\n",
        "    return 6\n",
        "  elif x == 'highly colorful':\n",
        "    return 5\n",
        "  elif x == 'quite colorful':\n",
        "    return 4\n",
        "  elif x == 'averagely colorful':\n",
        "    return 3\n",
        "  elif x == 'moderately colorful':\n",
        "    return 2\n",
        "  elif x == 'slightly colorful':\n",
        "    return 1\n",
        "  elif x == 'not colorful': #gibt's nicht\n",
        "    return 0"
      ],
      "metadata": {
        "id": "_njZj6Pgxnlv"
      },
      "execution_count": 153,
      "outputs": []
    },
    {
      "cell_type": "code",
      "source": [
        "data_lab.cats_colorfulness = data_lab.cats_colorfulness.apply(encode_colors)"
      ],
      "metadata": {
        "id": "xyu9vhsGxqO_"
      },
      "execution_count": 204,
      "outputs": []
    },
    {
      "cell_type": "markdown",
      "source": [
        "#### Signifikanztest"
      ],
      "metadata": {
        "id": "AN89p_9bc6jO"
      }
    },
    {
      "cell_type": "code",
      "source": [
        "y = data_lab['salePricelog']\n",
        "X = data_lab[['exterior', 'rarity', 'cats_colorfulness']]"
      ],
      "metadata": {
        "id": "b6nVeS3zc9dL"
      },
      "execution_count": 205,
      "outputs": []
    },
    {
      "cell_type": "code",
      "source": [
        "model_lr = LinearRegression()"
      ],
      "metadata": {
        "id": "VxeP2FsMdVZv"
      },
      "execution_count": 206,
      "outputs": []
    },
    {
      "cell_type": "code",
      "source": [
        "X = sm.add_constant(X)"
      ],
      "metadata": {
        "colab": {
          "base_uri": "https://localhost:8080/"
        },
        "id": "gR5o0esldVk2",
        "outputId": "95bbe5e6-8108-4f45-efac-b02613ffea82"
      },
      "execution_count": 207,
      "outputs": [
        {
          "output_type": "stream",
          "name": "stderr",
          "text": [
            "/usr/local/lib/python3.7/dist-packages/statsmodels/tsa/tsatools.py:117: FutureWarning: In a future version of pandas all arguments of concat except for the argument 'objs' will be keyword-only\n",
            "  x = pd.concat(x[::order], 1)\n"
          ]
        }
      ]
    },
    {
      "cell_type": "code",
      "source": [
        "model = sm.OLS(y,X)\n",
        "results = model.fit()"
      ],
      "metadata": {
        "id": "yFmDaXrtdZS3"
      },
      "execution_count": 208,
      "outputs": []
    },
    {
      "cell_type": "code",
      "source": [
        "print(results.summary())"
      ],
      "metadata": {
        "colab": {
          "base_uri": "https://localhost:8080/"
        },
        "id": "0LjJHejrdZcF",
        "outputId": "081e6243-caba-4760-94e4-0d7de332c6b1"
      },
      "execution_count": 209,
      "outputs": [
        {
          "output_type": "stream",
          "name": "stdout",
          "text": [
            "                            OLS Regression Results                            \n",
            "==============================================================================\n",
            "Dep. Variable:           salePricelog   R-squared:                       0.231\n",
            "Model:                            OLS   Adj. R-squared:                  0.231\n",
            "Method:                 Least Squares   F-statistic:                     2757.\n",
            "Date:                Thu, 05 May 2022   Prob (F-statistic):               0.00\n",
            "Time:                        09:25:26   Log-Likelihood:                -46328.\n",
            "No. Observations:               27460   AIC:                         9.266e+04\n",
            "Df Residuals:                   27456   BIC:                         9.270e+04\n",
            "Df Model:                           3                                         \n",
            "Covariance Type:            nonrobust                                         \n",
            "=====================================================================================\n",
            "                        coef    std err          t      P>|t|      [0.025      0.975]\n",
            "-------------------------------------------------------------------------------------\n",
            "const                 0.2147      0.049      4.359      0.000       0.118       0.311\n",
            "exterior              0.2018      0.007     27.980      0.000       0.188       0.216\n",
            "rarity                0.6223      0.007     90.356      0.000       0.609       0.636\n",
            "cats_colorfulness    -0.1847      0.009    -21.554      0.000      -0.202      -0.168\n",
            "==============================================================================\n",
            "Omnibus:                     1061.513   Durbin-Watson:                   0.473\n",
            "Prob(Omnibus):                  0.000   Jarque-Bera (JB):             1167.751\n",
            "Skew:                           0.496   Prob(JB):                    2.67e-254\n",
            "Kurtosis:                       2.808   Cond. No.                         42.9\n",
            "==============================================================================\n",
            "\n",
            "Warnings:\n",
            "[1] Standard Errors assume that the covariance matrix of the errors is correctly specified.\n"
          ]
        }
      ]
    },
    {
      "cell_type": "markdown",
      "source": [
        "23,10% der Varianz wird durch die Daten erklärt und alle Features sind signifikant."
      ],
      "metadata": {
        "id": "d_X9DUOheE0t"
      }
    },
    {
      "cell_type": "markdown",
      "source": [
        "### Speicher- & Ladepunkt"
      ],
      "metadata": {
        "id": "ywQJSQzKTEHT"
      }
    },
    {
      "cell_type": "markdown",
      "source": [
        "Diese Ladepunkt lädt die Daten ohne Label-Encoding. Die Daten enthalten das Feature salePricelog und sind reduziert auf salePrice >= 5."
      ],
      "metadata": {
        "id": "rzosllCRijFI"
      }
    },
    {
      "cell_type": "code",
      "source": [
        "data.to_csv(r'allitems_cleaned_4.csv', index=False, header=True)"
      ],
      "metadata": {
        "id": "Hba_sdCGxs4O"
      },
      "execution_count": 212,
      "outputs": []
    },
    {
      "cell_type": "code",
      "source": [
        "data = pd.read_csv(r'/content/drive/MyDrive/SA_BA/Data/allitems_cleaned_4.csv')"
      ],
      "metadata": {
        "id": "frcS-tNRxzQZ"
      },
      "execution_count": 213,
      "outputs": []
    },
    {
      "cell_type": "markdown",
      "source": [
        "### Version 2: One-Hot-Encoding"
      ],
      "metadata": {
        "id": "4n5nbgKRS7VR"
      }
    },
    {
      "cell_type": "markdown",
      "source": [
        "Nun wird geguckt, ob sich mittels One-Hot-Encoding eine höhere erklärbare Varianz ergibt."
      ],
      "metadata": {
        "id": "_Af53kqYe4Up"
      }
    },
    {
      "cell_type": "code",
      "source": [
        "# exterior\n",
        "data2 = pd.get_dummies(data.exterior, prefix='ext')\n",
        "data2 = pd.concat([data, data2], axis=1)"
      ],
      "metadata": {
        "id": "s1uiolo2fBL7"
      },
      "execution_count": 186,
      "outputs": []
    },
    {
      "cell_type": "code",
      "source": [
        "# rarity\n",
        "data3 = pd.get_dummies(data.rarity, prefix='rar')\n",
        "data2 = pd.concat([data2, data3], axis=1)"
      ],
      "metadata": {
        "id": "tHlmyIvhfBfY"
      },
      "execution_count": 187,
      "outputs": []
    },
    {
      "cell_type": "code",
      "source": [
        "# cats_colorfulness\n",
        "data3 = pd.get_dummies(data.cats_colorfulness, prefix='color')\n",
        "data2 = pd.concat([data2, data3], axis=1)"
      ],
      "metadata": {
        "id": "cKwyb6SFfBmx"
      },
      "execution_count": 188,
      "outputs": []
    },
    {
      "cell_type": "markdown",
      "source": [
        "#### Signifikanztest"
      ],
      "metadata": {
        "id": "rXpRqIJcjidr"
      }
    },
    {
      "cell_type": "code",
      "source": [
        "y = data['salePricelog']\n",
        "X = data2[['ext_Battle-Scarred', 'ext_Factory New', 'ext_Field-Tested',\n",
        "       'ext_Minimal Wear', 'ext_Well-Worn', 'rar_Classified',\n",
        "       'rar_Consumer Grade', 'rar_Covert', 'rar_Extraordinary',\n",
        "       'rar_Industrial Grade', 'rar_Mil-Spec Grade', 'rar_Restricted',\n",
        "       'color_averagely colorful', 'color_extemely colorful',\n",
        "       'color_highly colorful', 'color_moderately colorful',\n",
        "       'color_quite colorful', 'color_slightly colorful']]"
      ],
      "metadata": {
        "id": "v_wl0OLvfBt1"
      },
      "execution_count": 191,
      "outputs": []
    },
    {
      "cell_type": "code",
      "source": [
        "model_lr = LinearRegression()"
      ],
      "metadata": {
        "id": "EIZNHiCafB2p"
      },
      "execution_count": 192,
      "outputs": []
    },
    {
      "cell_type": "code",
      "source": [
        "X = sm.add_constant(X)"
      ],
      "metadata": {
        "colab": {
          "base_uri": "https://localhost:8080/"
        },
        "id": "8ix_6-hgfB__",
        "outputId": "de2905ea-4c71-4374-e897-8a175bd7c711"
      },
      "execution_count": 193,
      "outputs": [
        {
          "output_type": "stream",
          "name": "stderr",
          "text": [
            "/usr/local/lib/python3.7/dist-packages/statsmodels/tsa/tsatools.py:117: FutureWarning: In a future version of pandas all arguments of concat except for the argument 'objs' will be keyword-only\n",
            "  x = pd.concat(x[::order], 1)\n"
          ]
        }
      ]
    },
    {
      "cell_type": "code",
      "source": [
        "model = sm.OLS(y,X)\n",
        "results = model.fit()"
      ],
      "metadata": {
        "id": "3ZG6r0dIfzr_"
      },
      "execution_count": 194,
      "outputs": []
    },
    {
      "cell_type": "code",
      "source": [
        "print(results.summary())"
      ],
      "metadata": {
        "colab": {
          "base_uri": "https://localhost:8080/"
        },
        "id": "2RHT-V-Jfz6D",
        "outputId": "ce01ad66-9dbc-424f-f0cd-1855162c7d35"
      },
      "execution_count": 195,
      "outputs": [
        {
          "output_type": "stream",
          "name": "stdout",
          "text": [
            "                            OLS Regression Results                            \n",
            "==============================================================================\n",
            "Dep. Variable:           salePricelog   R-squared:                       0.329\n",
            "Model:                            OLS   Adj. R-squared:                  0.329\n",
            "Method:                 Least Squares   F-statistic:                     897.3\n",
            "Date:                Thu, 05 May 2022   Prob (F-statistic):               0.00\n",
            "Time:                        09:20:26   Log-Likelihood:                -44464.\n",
            "No. Observations:               27460   AIC:                         8.896e+04\n",
            "Df Residuals:                   27444   BIC:                         8.909e+04\n",
            "Df Model:                          15                                         \n",
            "Covariance Type:            nonrobust                                         \n",
            "=============================================================================================\n",
            "                                coef    std err          t      P>|t|      [0.025      0.975]\n",
            "---------------------------------------------------------------------------------------------\n",
            "const                         2.0427      0.031     66.042      0.000       1.982       2.103\n",
            "ext_Battle-Scarred            0.2410      0.028      8.684      0.000       0.187       0.295\n",
            "ext_Factory New               0.9526      0.015     63.119      0.000       0.923       0.982\n",
            "ext_Field-Tested              0.1695      0.016     10.636      0.000       0.138       0.201\n",
            "ext_Minimal Wear              0.4198      0.016     25.916      0.000       0.388       0.452\n",
            "ext_Well-Worn                 0.2597      0.031      8.480      0.000       0.200       0.320\n",
            "rar_Classified                0.0935      0.019      4.862      0.000       0.056       0.131\n",
            "rar_Consumer Grade           -0.5672      0.066     -8.563      0.000      -0.697      -0.437\n",
            "rar_Covert                    1.3803      0.017     82.937      0.000       1.348       1.413\n",
            "rar_Extraordinary             2.4072      0.030     79.235      0.000       2.348       2.467\n",
            "rar_Industrial Grade         -0.6266      0.040    -15.650      0.000      -0.705      -0.548\n",
            "rar_Mil-Spec Grade           -0.4649      0.026    -17.964      0.000      -0.516      -0.414\n",
            "rar_Restricted               -0.1796      0.021     -8.409      0.000      -0.221      -0.138\n",
            "color_averagely colorful      0.5502      0.043     12.744      0.000       0.466       0.635\n",
            "color_extemely colorful       0.2669      0.218      1.227      0.220      -0.159       0.693\n",
            "color_highly colorful        -0.2295      0.059     -3.863      0.000      -0.346      -0.113\n",
            "color_moderately colorful     0.4557      0.040     11.341      0.000       0.377       0.534\n",
            "color_quite colorful          0.3303      0.047      7.064      0.000       0.239       0.422\n",
            "color_slightly colorful       0.6691      0.041     16.467      0.000       0.589       0.749\n",
            "==============================================================================\n",
            "Omnibus:                     1890.052   Durbin-Watson:                   0.535\n",
            "Prob(Omnibus):                  0.000   Jarque-Bera (JB):             2318.211\n",
            "Skew:                           0.674   Prob(JB):                         0.00\n",
            "Kurtosis:                       3.455   Cond. No.                     4.51e+15\n",
            "==============================================================================\n",
            "\n",
            "Warnings:\n",
            "[1] Standard Errors assume that the covariance matrix of the errors is correctly specified.\n",
            "[2] The smallest eigenvalue is 2.61e-27. This might indicate that there are\n",
            "strong multicollinearity problems or that the design matrix is singular.\n"
          ]
        }
      ]
    },
    {
      "cell_type": "markdown",
      "source": [
        "Die Varianz der Daten lässt sich mittels One-Hot-Encoding der ordinalskalierten Daten zu 32,90% erklären. Nur das Feature 'color_extremely colorful' ist nicht signifikant. "
      ],
      "metadata": {
        "id": "gBJi_A55gbsk"
      }
    },
    {
      "cell_type": "markdown",
      "source": [
        "Somit werden die ordinalskalierten Daten im weiteren Verlauf mittels One-Hot-Encoding behandelt."
      ],
      "metadata": {
        "id": "RCm7Hf7TgpGL"
      }
    },
    {
      "cell_type": "markdown",
      "source": [
        "## Nominalskalierte Daten"
      ],
      "metadata": {
        "id": "I9KZbCbij2j2"
      }
    },
    {
      "cell_type": "markdown",
      "source": [
        "* family, 818\n",
        "* version, 20\n",
        "* category, 6\n",
        "* subCategory, 61\n",
        "* quality, 5\n",
        "* collection, 75"
      ],
      "metadata": {
        "id": "izLf_ETtyA3C"
      }
    },
    {
      "cell_type": "code",
      "source": [
        ""
      ],
      "metadata": {
        "id": "lvFXOFMXmXry"
      },
      "execution_count": null,
      "outputs": []
    },
    {
      "cell_type": "code",
      "source": [
        ""
      ],
      "metadata": {
        "id": "zVtZ8ruqmX4P"
      },
      "execution_count": null,
      "outputs": []
    },
    {
      "cell_type": "code",
      "source": [
        ""
      ],
      "metadata": {
        "id": "-gElYUiRmYDO"
      },
      "execution_count": null,
      "outputs": []
    },
    {
      "cell_type": "code",
      "source": [
        ""
      ],
      "metadata": {
        "id": "akIdlsWpmYNI"
      },
      "execution_count": null,
      "outputs": []
    },
    {
      "cell_type": "markdown",
      "source": [
        "**Im folgenden werden die nominalskalierten Daten encodiert:**"
      ],
      "metadata": {
        "id": "3o5cwnCWx7x3"
      }
    },
    {
      "cell_type": "markdown",
      "source": [
        "##Beispiel Feature Category!"
      ],
      "metadata": {
        "id": "yqw6xVOYyEmS"
      }
    },
    {
      "cell_type": "code",
      "source": [
        "data['salePricelog'] = np.log(data['salePrice'])"
      ],
      "metadata": {
        "id": "9qJwmePB1tEh"
      },
      "execution_count": 37,
      "outputs": []
    },
    {
      "cell_type": "code",
      "source": [
        "data.salePricelog.hist()"
      ],
      "metadata": {
        "colab": {
          "base_uri": "https://localhost:8080/",
          "height": 282
        },
        "id": "5-bAl6nFZ6iW",
        "outputId": "59f77b4a-43cd-4744-f9b6-be9a6618fded"
      },
      "execution_count": 38,
      "outputs": [
        {
          "output_type": "execute_result",
          "data": {
            "text/plain": [
              "<matplotlib.axes._subplots.AxesSubplot at 0x7efd4143e490>"
            ]
          },
          "metadata": {},
          "execution_count": 38
        },
        {
          "output_type": "display_data",
          "data": {
            "text/plain": [
              "<Figure size 432x288 with 1 Axes>"
            ],
            "image/png": "[encoded data removed]"
          },
          "metadata": {
            "needs_background": "light"
          }
        }
      ]
    },
    {
      "cell_type": "code",
      "source": [
        "data.salePrice.quantile(0.75)"
      ],
      "metadata": {
        "colab": {
          "base_uri": "https://localhost:8080/"
        },
        "id": "q9ZVbF67aBSx",
        "outputId": "f733a41d-0437-4673-c46a-9fd06d203c7c"
      },
      "execution_count": 39,
      "outputs": [
        {
          "output_type": "execute_result",
          "data": {
            "text/plain": [
              "3.0"
            ]
          },
          "metadata": {},
          "execution_count": 39
        }
      ]
    },
    {
      "cell_type": "code",
      "source": [
        "data2 = pd.get_dummies(data.category, prefix='cat')"
      ],
      "metadata": {
        "id": "-v7WhhkH1GHl"
      },
      "execution_count": 25,
      "outputs": []
    },
    {
      "cell_type": "code",
      "source": [
        "data3 = pd.concat([data, data2], axis=1)"
      ],
      "metadata": {
        "id": "M_3C9w6p1aAL"
      },
      "execution_count": 26,
      "outputs": []
    },
    {
      "cell_type": "code",
      "source": [
        "y = data3['salePricelog']\n",
        "X = data3[['rarity', 'wear', 'lock', 'cat_Gloves', 'cat_Heavy', 'cat_Knife', 'cat_Pistol', 'cat_Rifle', 'cat_SMG']]"
      ],
      "metadata": {
        "id": "aGdeEzcOx7C0"
      },
      "execution_count": 27,
      "outputs": []
    },
    {
      "cell_type": "code",
      "source": [
        "model_lr = LinearRegression()"
      ],
      "metadata": {
        "id": "TnUS6lhDx1Us"
      },
      "execution_count": 30,
      "outputs": []
    },
    {
      "cell_type": "code",
      "source": [
        "X = sm.add_constant(X)"
      ],
      "metadata": {
        "colab": {
          "base_uri": "https://localhost:8080/"
        },
        "id": "oDqW5Nlt1LgO",
        "outputId": "250abca2-050d-453c-ff67-8b6ffb55a1a2"
      },
      "execution_count": 31,
      "outputs": [
        {
          "output_type": "stream",
          "name": "stderr",
          "text": [
            "/usr/local/lib/python3.7/dist-packages/statsmodels/tsa/tsatools.py:117: FutureWarning: In a future version of pandas all arguments of concat except for the argument 'objs' will be keyword-only\n",
            "  x = pd.concat(x[::order], 1)\n"
          ]
        }
      ]
    },
    {
      "cell_type": "code",
      "source": [
        "model = sm.OLS(y,X)\n",
        "results = model.fit()"
      ],
      "metadata": {
        "id": "YQxpyGKN1Nd2"
      },
      "execution_count": 32,
      "outputs": []
    },
    {
      "cell_type": "code",
      "source": [
        "print(results.summary())"
      ],
      "metadata": {
        "colab": {
          "base_uri": "https://localhost:8080/"
        },
        "id": "TfucZr0y1PD5",
        "outputId": "77abdfb2-1e4e-4d6f-e1d0-9ce9a2bd355d"
      },
      "execution_count": 33,
      "outputs": [
        {
          "output_type": "stream",
          "name": "stdout",
          "text": [
            "                            OLS Regression Results                            \n",
            "==============================================================================\n",
            "Dep. Variable:           salePricelog   R-squared:                       0.770\n",
            "Model:                            OLS   Adj. R-squared:                  0.770\n",
            "Method:                 Least Squares   F-statistic:                 5.564e+04\n",
            "Date:                Wed, 04 May 2022   Prob (F-statistic):               0.00\n",
            "Time:                        16:12:02   Log-Likelihood:            -2.3590e+05\n",
            "No. Observations:              132807   AIC:                         4.718e+05\n",
            "Df Residuals:                  132798   BIC:                         4.719e+05\n",
            "Df Model:                           8                                         \n",
            "Covariance Type:            nonrobust                                         \n",
            "==============================================================================\n",
            "                 coef    std err          t      P>|t|      [0.025      0.975]\n",
            "------------------------------------------------------------------------------\n",
            "const         -2.6416      0.012   -217.998      0.000      -2.665      -2.618\n",
            "rarity         1.2969      0.003    454.197      0.000       1.291       1.303\n",
            "wear          -2.9832      0.023   -131.729      0.000      -3.028      -2.939\n",
            "lock          -0.1864      0.010    -18.002      0.000      -0.207      -0.166\n",
            "cat_Gloves     1.1555      0.032     36.222      0.000       1.093       1.218\n",
            "cat_Heavy     -1.3788      0.012   -118.779      0.000      -1.402      -1.356\n",
            "cat_Knife      0.9877      0.020     48.346      0.000       0.948       1.028\n",
            "cat_Pistol    -1.0993      0.009   -122.124      0.000      -1.117      -1.082\n",
            "cat_Rifle     -0.8887      0.009   -102.368      0.000      -0.906      -0.872\n",
            "cat_SMG       -1.4181      0.010   -141.217      0.000      -1.438      -1.398\n",
            "==============================================================================\n",
            "Omnibus:                    21106.697   Durbin-Watson:                   0.728\n",
            "Prob(Omnibus):                  0.000   Jarque-Bera (JB):            39446.455\n",
            "Skew:                           1.004   Prob(JB):                         0.00\n",
            "Kurtosis:                       4.759   Cond. No.                     1.70e+15\n",
            "==============================================================================\n",
            "\n",
            "Warnings:\n",
            "[1] Standard Errors assume that the covariance matrix of the errors is correctly specified.\n",
            "[2] The smallest eigenvalue is 5.15e-25. This might indicate that there are\n",
            "strong multicollinearity problems or that the design matrix is singular.\n"
          ]
        }
      ]
    },
    {
      "cell_type": "code",
      "source": [
        ""
      ],
      "metadata": {
        "id": "p84tfsbD17wT"
      },
      "execution_count": null,
      "outputs": []
    }
  ]
}
{
  "nbformat": 4,
  "nbformat_minor": 0,
  "metadata": {
    "colab": {
      "name": "CSGO_ML-Model.ipynb",
      "provenance": [],
      "toc_visible": true,
      "mount_file_id": "1I89Z9DQutS0Od7fxYmCbGs1vwpnMPb9U",
      "authorship_tag": "ABX9TyPEs/5AGD00mJ7EYham8wmr",
      "include_colab_link": true
    },
    "kernelspec": {
      "name": "python3",
      "display_name": "Python 3"
    },
    "language_info": {
      "name": "python"
    }
  },
  "cells": [
    {
      "cell_type": "markdown",
      "metadata": {
        "id": "view-in-github",
        "colab_type": "text"
      },
      "source": [
        "<a href=\"https://colab.research.google.com/github/princessivy/Analyzing_CSGO_SkinPrices/blob/main/CSGO_ML_Model.ipynb\" target=\"_parent\"><img src=\"https://colab.research.google.com/assets/colab-badge.svg\" alt=\"Open In Colab\"/></a>"
      ]
    },
    {
      "cell_type": "markdown",
      "source": [
        "#Imports"
      ],
      "metadata": {
        "id": "YSKA4bKh_5qd"
      }
    },
    {
      "cell_type": "code",
      "source": [
        "import pandas as pd\n",
        "import numpy as np\n",
        "from google.colab import drive\n",
        "from pathlib import Path\n",
        "\n",
        "from xgboost import XGBRegressor\n",
        "from sklearn.model_selection import train_test_split\n",
        "import xgboost as xgb\n",
        "from sklearn.preprocessing import MinMaxScaler, StandardScaler\n",
        "from sklearn.model_selection import RandomizedSearchCV\n",
        "from sklearn.metrics import mean_absolute_error"
      ],
      "metadata": {
        "id": "u_Hlj5yp_6vx"
      },
      "execution_count": 1,
      "outputs": []
    },
    {
      "cell_type": "markdown",
      "source": [
        "# Daten einlesen"
      ],
      "metadata": {
        "id": "44xU8MtT__C6"
      }
    },
    {
      "cell_type": "code",
      "source": [
        "data = pd.read_csv(r'/content/drive/MyDrive/SA_BA/Data/allitems_ready_for_model.csv')"
      ],
      "metadata": {
        "id": "NIEs7H5z2kJA"
      },
      "execution_count": 2,
      "outputs": []
    },
    {
      "cell_type": "markdown",
      "source": [
        ""
      ],
      "metadata": {
        "id": "hE71OTTtEFeu"
      }
    },
    {
      "cell_type": "code",
      "source": [
        "data"
      ],
      "metadata": {
        "colab": {
          "base_uri": "https://localhost:8080/",
          "height": 537
        },
        "id": "MKrqFSCe2ygi",
        "outputId": "cee5c3de-bc76-4490-daf6-a68076101197"
      },
      "execution_count": 79,
      "outputs": [
        {
          "output_type": "execute_result",
          "data": {
            "text/plain": [
              "       salePrice  salePricelog  suggestedPrice  ext_Battle-Scarred  \\\n",
              "0         399.13      5.989287          397.21                   0   \n",
              "1         362.44      5.892859          442.03                   0   \n",
              "2         400.00      5.991465          397.21                   0   \n",
              "3         420.73      6.041991          397.21                   0   \n",
              "4         355.00      5.872118          397.21                   0   \n",
              "...          ...           ...             ...                 ...   \n",
              "27455      71.84      4.274441           70.72                   0   \n",
              "27456      73.42      4.296196           70.72                   0   \n",
              "27457      75.00      4.317488           70.72                   0   \n",
              "27458      75.00      4.317488           70.72                   0   \n",
              "27459      86.62      4.461531           70.72                   0   \n",
              "\n",
              "       ext_Factory New  ext_Field-Tested  ext_Minimal Wear  ext_Well-Worn  \\\n",
              "0                    1                 0                 0              0   \n",
              "1                    1                 0                 0              0   \n",
              "2                    1                 0                 0              0   \n",
              "3                    1                 0                 0              0   \n",
              "4                    1                 0                 0              0   \n",
              "...                ...               ...               ...            ...   \n",
              "27455                0                 1                 0              0   \n",
              "27456                0                 1                 0              0   \n",
              "27457                0                 1                 0              0   \n",
              "27458                0                 1                 0              0   \n",
              "27459                0                 1                 0              0   \n",
              "\n",
              "       rar_Classified  rar_Covert  ...  col_The Wildfire Collection  \\\n",
              "0                   0           1  ...                            0   \n",
              "1                   0           1  ...                            0   \n",
              "2                   0           1  ...                            0   \n",
              "3                   0           1  ...                            0   \n",
              "4                   0           1  ...                            0   \n",
              "...               ...         ...  ...                          ...   \n",
              "27455               0           0  ...                            0   \n",
              "27456               0           0  ...                            0   \n",
              "27457               0           0  ...                            0   \n",
              "27458               0           0  ...                            0   \n",
              "27459               0           0  ...                            0   \n",
              "\n",
              "       col_The Winter Offensive Collection  col_The X-Ray Collection  \\\n",
              "0                                        0                         0   \n",
              "1                                        0                         0   \n",
              "2                                        0                         0   \n",
              "3                                        0                         0   \n",
              "4                                        0                         0   \n",
              "...                                    ...                       ...   \n",
              "27455                                    0                         0   \n",
              "27456                                    0                         0   \n",
              "27457                                    0                         0   \n",
              "27458                                    0                         0   \n",
              "27459                                    0                         0   \n",
              "\n",
              "       col_The eSports 2014 Summer Collection  lock      wear  stickers  \\\n",
              "0                                           0     0  0.033243         0   \n",
              "1                                           0     1  0.025035         0   \n",
              "2                                           0     0  0.006977         0   \n",
              "3                                           0     0  0.006662         0   \n",
              "4                                           0     1  0.062841         0   \n",
              "...                                       ...   ...       ...       ...   \n",
              "27455                                       0     1  0.293997         0   \n",
              "27456                                       0     1  0.185491         0   \n",
              "27457                                       0     1  0.169524         0   \n",
              "27458                                       0     1  0.160716         0   \n",
              "27459                                       0     1  0.329445         0   \n",
              "\n",
              "       souvenir  stattrak  colorfulness  \n",
              "0             0         0     59.790243  \n",
              "1             0         1     57.181995  \n",
              "2             0         0     58.160273  \n",
              "3             0         0     58.489647  \n",
              "4             0         0     60.797777  \n",
              "...         ...       ...           ...  \n",
              "27455         0         0     10.935599  \n",
              "27456         0         0     10.850061  \n",
              "27457         0         0     10.913781  \n",
              "27458         0         0     10.794303  \n",
              "27459         0         0     10.900296  \n",
              "\n",
              "[27460 rows x 533 columns]"
            ],
            "text/html": [
              "\n",
              "  <div id=\"df-ca1f0bb5-0451-4230-b808-cde38ce9850f\">\n",
              "    <div class=\"colab-df-container\">\n",
              "      <div>\n",
              "<style scoped>\n",
              "    .dataframe tbody tr th:only-of-type {\n",
              "        vertical-align: middle;\n",
              "    }\n",
              "\n",
              "    .dataframe tbody tr th {\n",
              "        vertical-align: top;\n",
              "    }\n",
              "\n",
              "    .dataframe thead th {\n",
              "        text-align: right;\n",
              "    }\n",
              "</style>\n",
              "<table border=\"1\" class=\"dataframe\">\n",
              "  <thead>\n",
              "    <tr style=\"text-align: right;\">\n",
              "      <th></th>\n",
              "      <th>salePrice</th>\n",
              "      <th>salePricelog</th>\n",
              "      <th>suggestedPrice</th>\n",
              "      <th>ext_Battle-Scarred</th>\n",
              "      <th>ext_Factory New</th>\n",
              "      <th>ext_Field-Tested</th>\n",
              "      <th>ext_Minimal Wear</th>\n",
              "      <th>ext_Well-Worn</th>\n",
              "      <th>rar_Classified</th>\n",
              "      <th>rar_Covert</th>\n",
              "      <th>...</th>\n",
              "      <th>col_The Wildfire Collection</th>\n",
              "      <th>col_The Winter Offensive Collection</th>\n",
              "      <th>col_The X-Ray Collection</th>\n",
              "      <th>col_The eSports 2014 Summer Collection</th>\n",
              "      <th>lock</th>\n",
              "      <th>wear</th>\n",
              "      <th>stickers</th>\n",
              "      <th>souvenir</th>\n",
              "      <th>stattrak</th>\n",
              "      <th>colorfulness</th>\n",
              "    </tr>\n",
              "  </thead>\n",
              "  <tbody>\n",
              "    <tr>\n",
              "      <th>0</th>\n",
              "      <td>399.13</td>\n",
              "      <td>5.989287</td>\n",
              "      <td>397.21</td>\n",
              "      <td>0</td>\n",
              "      <td>1</td>\n",
              "      <td>0</td>\n",
              "      <td>0</td>\n",
              "      <td>0</td>\n",
              "      <td>0</td>\n",
              "      <td>1</td>\n",
              "      <td>...</td>\n",
              "      <td>0</td>\n",
              "      <td>0</td>\n",
              "      <td>0</td>\n",
              "      <td>0</td>\n",
              "      <td>0</td>\n",
              "      <td>0.033243</td>\n",
              "      <td>0</td>\n",
              "      <td>0</td>\n",
              "      <td>0</td>\n",
              "      <td>59.790243</td>\n",
              "    </tr>\n",
              "    <tr>\n",
              "      <th>1</th>\n",
              "      <td>362.44</td>\n",
              "      <td>5.892859</td>\n",
              "      <td>442.03</td>\n",
              "      <td>0</td>\n",
              "      <td>1</td>\n",
              "      <td>0</td>\n",
              "      <td>0</td>\n",
              "      <td>0</td>\n",
              "      <td>0</td>\n",
              "      <td>1</td>\n",
              "      <td>...</td>\n",
              "      <td>0</td>\n",
              "      <td>0</td>\n",
              "      <td>0</td>\n",
              "      <td>0</td>\n",
              "      <td>1</td>\n",
              "      <td>0.025035</td>\n",
              "      <td>0</td>\n",
              "      <td>0</td>\n",
              "      <td>1</td>\n",
              "      <td>57.181995</td>\n",
              "    </tr>\n",
              "    <tr>\n",
              "      <th>2</th>\n",
              "      <td>400.00</td>\n",
              "      <td>5.991465</td>\n",
              "      <td>397.21</td>\n",
              "      <td>0</td>\n",
              "      <td>1</td>\n",
              "      <td>0</td>\n",
              "      <td>0</td>\n",
              "      <td>0</td>\n",
              "      <td>0</td>\n",
              "      <td>1</td>\n",
              "      <td>...</td>\n",
              "      <td>0</td>\n",
              "      <td>0</td>\n",
              "      <td>0</td>\n",
              "      <td>0</td>\n",
              "      <td>0</td>\n",
              "      <td>0.006977</td>\n",
              "      <td>0</td>\n",
              "      <td>0</td>\n",
              "      <td>0</td>\n",
              "      <td>58.160273</td>\n",
              "    </tr>\n",
              "    <tr>\n",
              "      <th>3</th>\n",
              "      <td>420.73</td>\n",
              "      <td>6.041991</td>\n",
              "      <td>397.21</td>\n",
              "      <td>0</td>\n",
              "      <td>1</td>\n",
              "      <td>0</td>\n",
              "      <td>0</td>\n",
              "      <td>0</td>\n",
              "      <td>0</td>\n",
              "      <td>1</td>\n",
              "      <td>...</td>\n",
              "      <td>0</td>\n",
              "      <td>0</td>\n",
              "      <td>0</td>\n",
              "      <td>0</td>\n",
              "      <td>0</td>\n",
              "      <td>0.006662</td>\n",
              "      <td>0</td>\n",
              "      <td>0</td>\n",
              "      <td>0</td>\n",
              "      <td>58.489647</td>\n",
              "    </tr>\n",
              "    <tr>\n",
              "      <th>4</th>\n",
              "      <td>355.00</td>\n",
              "      <td>5.872118</td>\n",
              "      <td>397.21</td>\n",
              "      <td>0</td>\n",
              "      <td>1</td>\n",
              "      <td>0</td>\n",
              "      <td>0</td>\n",
              "      <td>0</td>\n",
              "      <td>0</td>\n",
              "      <td>1</td>\n",
              "      <td>...</td>\n",
              "      <td>0</td>\n",
              "      <td>0</td>\n",
              "      <td>0</td>\n",
              "      <td>0</td>\n",
              "      <td>1</td>\n",
              "      <td>0.062841</td>\n",
              "      <td>0</td>\n",
              "      <td>0</td>\n",
              "      <td>0</td>\n",
              "      <td>60.797777</td>\n",
              "    </tr>\n",
              "    <tr>\n",
              "      <th>...</th>\n",
              "      <td>...</td>\n",
              "      <td>...</td>\n",
              "      <td>...</td>\n",
              "      <td>...</td>\n",
              "      <td>...</td>\n",
              "      <td>...</td>\n",
              "      <td>...</td>\n",
              "      <td>...</td>\n",
              "      <td>...</td>\n",
              "      <td>...</td>\n",
              "      <td>...</td>\n",
              "      <td>...</td>\n",
              "      <td>...</td>\n",
              "      <td>...</td>\n",
              "      <td>...</td>\n",
              "      <td>...</td>\n",
              "      <td>...</td>\n",
              "      <td>...</td>\n",
              "      <td>...</td>\n",
              "      <td>...</td>\n",
              "      <td>...</td>\n",
              "    </tr>\n",
              "    <tr>\n",
              "      <th>27455</th>\n",
              "      <td>71.84</td>\n",
              "      <td>4.274441</td>\n",
              "      <td>70.72</td>\n",
              "      <td>0</td>\n",
              "      <td>0</td>\n",
              "      <td>1</td>\n",
              "      <td>0</td>\n",
              "      <td>0</td>\n",
              "      <td>0</td>\n",
              "      <td>0</td>\n",
              "      <td>...</td>\n",
              "      <td>0</td>\n",
              "      <td>0</td>\n",
              "      <td>0</td>\n",
              "      <td>0</td>\n",
              "      <td>1</td>\n",
              "      <td>0.293997</td>\n",
              "      <td>0</td>\n",
              "      <td>0</td>\n",
              "      <td>0</td>\n",
              "      <td>10.935599</td>\n",
              "    </tr>\n",
              "    <tr>\n",
              "      <th>27456</th>\n",
              "      <td>73.42</td>\n",
              "      <td>4.296196</td>\n",
              "      <td>70.72</td>\n",
              "      <td>0</td>\n",
              "      <td>0</td>\n",
              "      <td>1</td>\n",
              "      <td>0</td>\n",
              "      <td>0</td>\n",
              "      <td>0</td>\n",
              "      <td>0</td>\n",
              "      <td>...</td>\n",
              "      <td>0</td>\n",
              "      <td>0</td>\n",
              "      <td>0</td>\n",
              "      <td>0</td>\n",
              "      <td>1</td>\n",
              "      <td>0.185491</td>\n",
              "      <td>0</td>\n",
              "      <td>0</td>\n",
              "      <td>0</td>\n",
              "      <td>10.850061</td>\n",
              "    </tr>\n",
              "    <tr>\n",
              "      <th>27457</th>\n",
              "      <td>75.00</td>\n",
              "      <td>4.317488</td>\n",
              "      <td>70.72</td>\n",
              "      <td>0</td>\n",
              "      <td>0</td>\n",
              "      <td>1</td>\n",
              "      <td>0</td>\n",
              "      <td>0</td>\n",
              "      <td>0</td>\n",
              "      <td>0</td>\n",
              "      <td>...</td>\n",
              "      <td>0</td>\n",
              "      <td>0</td>\n",
              "      <td>0</td>\n",
              "      <td>0</td>\n",
              "      <td>1</td>\n",
              "      <td>0.169524</td>\n",
              "      <td>0</td>\n",
              "      <td>0</td>\n",
              "      <td>0</td>\n",
              "      <td>10.913781</td>\n",
              "    </tr>\n",
              "    <tr>\n",
              "      <th>27458</th>\n",
              "      <td>75.00</td>\n",
              "      <td>4.317488</td>\n",
              "      <td>70.72</td>\n",
              "      <td>0</td>\n",
              "      <td>0</td>\n",
              "      <td>1</td>\n",
              "      <td>0</td>\n",
              "      <td>0</td>\n",
              "      <td>0</td>\n",
              "      <td>0</td>\n",
              "      <td>...</td>\n",
              "      <td>0</td>\n",
              "      <td>0</td>\n",
              "      <td>0</td>\n",
              "      <td>0</td>\n",
              "      <td>1</td>\n",
              "      <td>0.160716</td>\n",
              "      <td>0</td>\n",
              "      <td>0</td>\n",
              "      <td>0</td>\n",
              "      <td>10.794303</td>\n",
              "    </tr>\n",
              "    <tr>\n",
              "      <th>27459</th>\n",
              "      <td>86.62</td>\n",
              "      <td>4.461531</td>\n",
              "      <td>70.72</td>\n",
              "      <td>0</td>\n",
              "      <td>0</td>\n",
              "      <td>1</td>\n",
              "      <td>0</td>\n",
              "      <td>0</td>\n",
              "      <td>0</td>\n",
              "      <td>0</td>\n",
              "      <td>...</td>\n",
              "      <td>0</td>\n",
              "      <td>0</td>\n",
              "      <td>0</td>\n",
              "      <td>0</td>\n",
              "      <td>1</td>\n",
              "      <td>0.329445</td>\n",
              "      <td>0</td>\n",
              "      <td>0</td>\n",
              "      <td>0</td>\n",
              "      <td>10.900296</td>\n",
              "    </tr>\n",
              "  </tbody>\n",
              "</table>\n",
              "<p>27460 rows × 533 columns</p>\n",
              "</div>\n",
              "      <button class=\"colab-df-convert\" onclick=\"convertToInteractive('df-ca1f0bb5-0451-4230-b808-cde38ce9850f')\"\n",
              "              title=\"Convert this dataframe to an interactive table.\"\n",
              "              style=\"display:none;\">\n",
              "        \n",
              "  <svg xmlns=\"http://www.w3.org/2000/svg\" height=\"24px\"viewBox=\"0 0 24 24\"\n",
              "       width=\"24px\">\n",
              "    <path d=\"M0 0h24v24H0V0z\" fill=\"none\"/>\n",
              "    <path d=\"M18.56 5.44l.94 2.06.94-2.06 2.06-.94-2.06-.94-.94-2.06-.94 2.06-2.06.94zm-11 1L8.5 8.5l.94-2.06 2.06-.94-2.06-.94L8.5 2.5l-.94 2.06-2.06.94zm10 10l.94 2.06.94-2.06 2.06-.94-2.06-.94-.94-2.06-.94 2.06-2.06.94z\"/><path d=\"M17.41 7.96l-1.37-1.37c-.4-.4-.92-.59-1.43-.59-.52 0-1.04.2-1.43.59L10.3 9.45l-7.72 7.72c-.78.78-.78 2.05 0 2.83L4 21.41c.39.39.9.59 1.41.59.51 0 1.02-.2 1.41-.59l7.78-7.78 2.81-2.81c.8-.78.8-2.07 0-2.86zM5.41 20L4 18.59l7.72-7.72 1.47 1.35L5.41 20z\"/>\n",
              "  </svg>\n",
              "      </button>\n",
              "      \n",
              "  <style>\n",
              "    .colab-df-container {\n",
              "      display:flex;\n",
              "      flex-wrap:wrap;\n",
              "      gap: 12px;\n",
              "    }\n",
              "\n",
              "    .colab-df-convert {\n",
              "      background-color: #E8F0FE;\n",
              "      border: none;\n",
              "      border-radius: 50%;\n",
              "      cursor: pointer;\n",
              "      display: none;\n",
              "      fill: #1967D2;\n",
              "      height: 32px;\n",
              "      padding: 0 0 0 0;\n",
              "      width: 32px;\n",
              "    }\n",
              "\n",
              "    .colab-df-convert:hover {\n",
              "      background-color: #E2EBFA;\n",
              "      box-shadow: 0px 1px 2px rgba(60, 64, 67, 0.3), 0px 1px 3px 1px rgba(60, 64, 67, 0.15);\n",
              "      fill: #174EA6;\n",
              "    }\n",
              "\n",
              "    [theme=dark] .colab-df-convert {\n",
              "      background-color: #3B4455;\n",
              "      fill: #D2E3FC;\n",
              "    }\n",
              "\n",
              "    [theme=dark] .colab-df-convert:hover {\n",
              "      background-color: #434B5C;\n",
              "      box-shadow: 0px 1px 3px 1px rgba(0, 0, 0, 0.15);\n",
              "      filter: drop-shadow(0px 1px 2px rgba(0, 0, 0, 0.3));\n",
              "      fill: #FFFFFF;\n",
              "    }\n",
              "  </style>\n",
              "\n",
              "      <script>\n",
              "        const buttonEl =\n",
              "          document.querySelector('#df-ca1f0bb5-0451-4230-b808-cde38ce9850f button.colab-df-convert');\n",
              "        buttonEl.style.display =\n",
              "          google.colab.kernel.accessAllowed ? 'block' : 'none';\n",
              "\n",
              "        async function convertToInteractive(key) {\n",
              "          const element = document.querySelector('#df-ca1f0bb5-0451-4230-b808-cde38ce9850f');\n",
              "          const dataTable =\n",
              "            await google.colab.kernel.invokeFunction('convertToInteractive',\n",
              "                                                     [key], {});\n",
              "          if (!dataTable) return;\n",
              "\n",
              "          const docLinkHtml = 'Like what you see? Visit the ' +\n",
              "            '<a target=\"_blank\" href=https://colab.research.google.com/notebooks/data_table.ipynb>data table notebook</a>'\n",
              "            + ' to learn more about interactive tables.';\n",
              "          element.innerHTML = '';\n",
              "          dataTable['output_type'] = 'display_data';\n",
              "          await google.colab.output.renderOutput(dataTable, element);\n",
              "          const docLink = document.createElement('div');\n",
              "          docLink.innerHTML = docLinkHtml;\n",
              "          element.appendChild(docLink);\n",
              "        }\n",
              "      </script>\n",
              "    </div>\n",
              "  </div>\n",
              "  "
            ]
          },
          "metadata": {},
          "execution_count": 79
        }
      ]
    },
    {
      "cell_type": "code",
      "source": [
        "data['suggestedPricelog'] = np.log(data['suggestedPrice'])"
      ],
      "metadata": {
        "id": "GtOnqqqE20vy"
      },
      "execution_count": 3,
      "outputs": []
    },
    {
      "cell_type": "markdown",
      "source": [
        "# Modell"
      ],
      "metadata": {
        "id": "DIPT7qP8AB-c"
      }
    },
    {
      "cell_type": "markdown",
      "source": [
        "## Splits"
      ],
      "metadata": {
        "id": "D9MOMlbkCJC_"
      }
    },
    {
      "cell_type": "code",
      "source": [
        "y = data['salePrice']\n",
        "X = data.drop(['salePrice', 'salePricelog'], 1)\n",
        "\n",
        "train_X, val_X, train_y, val_y = train_test_split(X, y, random_state = 0)"
      ],
      "metadata": {
        "colab": {
          "base_uri": "https://localhost:8080/"
        },
        "id": "EVA-GcY4_rOT",
        "outputId": "36c9bab2-edbd-4ad1-f547-c416dc8fbe98"
      },
      "execution_count": 4,
      "outputs": [
        {
          "output_type": "stream",
          "name": "stderr",
          "text": [
            "/usr/local/lib/python3.7/dist-packages/ipykernel_launcher.py:2: FutureWarning: In a future version of pandas all arguments of DataFrame.drop except for the argument 'labels' will be keyword-only\n",
            "  \n"
          ]
        }
      ]
    },
    {
      "cell_type": "code",
      "source": [
        "# suggestedPricelog sichern\n",
        "train_X_sugPr = train_X.copy()\n",
        "val_X_sugPr = val_X.copy()"
      ],
      "metadata": {
        "id": "YjD89T02Ajg5"
      },
      "execution_count": 5,
      "outputs": []
    },
    {
      "cell_type": "code",
      "source": [
        "# suggestedPricelog aus normalen Daten löschen\n",
        "train_X = train_X.drop(['suggestedPricelog', 'suggestedPrice'], 1)\n",
        "val_X = val_X.drop(['suggestedPricelog', 'suggestedPrice'], 1)"
      ],
      "metadata": {
        "colab": {
          "base_uri": "https://localhost:8080/"
        },
        "id": "L-uF_PDHAkJk",
        "outputId": "b87fe023-44f1-41b3-8ab0-1a2005f3245b"
      },
      "execution_count": 6,
      "outputs": [
        {
          "output_type": "stream",
          "name": "stderr",
          "text": [
            "/usr/local/lib/python3.7/dist-packages/ipykernel_launcher.py:2: FutureWarning: In a future version of pandas all arguments of DataFrame.drop except for the argument 'labels' will be keyword-only\n",
            "  \n",
            "/usr/local/lib/python3.7/dist-packages/ipykernel_launcher.py:3: FutureWarning: In a future version of pandas all arguments of DataFrame.drop except for the argument 'labels' will be keyword-only\n",
            "  This is separate from the ipykernel package so we can avoid doing imports until\n"
          ]
        }
      ]
    },
    {
      "cell_type": "code",
      "source": [
        "print(train_X.shape)\n",
        "print(val_X.shape)"
      ],
      "metadata": {
        "colab": {
          "base_uri": "https://localhost:8080/"
        },
        "id": "G_-5mvdzBYAK",
        "outputId": "f4328a00-0dad-4dcc-dcc0-19fe39a39e6b"
      },
      "execution_count": 7,
      "outputs": [
        {
          "output_type": "stream",
          "name": "stdout",
          "text": [
            "(20595, 530)\n",
            "(6865, 530)\n"
          ]
        }
      ]
    },
    {
      "cell_type": "markdown",
      "source": [
        "## Modell"
      ],
      "metadata": {
        "id": "WBU7Tzp9CKah"
      }
    },
    {
      "cell_type": "markdown",
      "source": [
        "#### Bester Wert ohne Hyperparametertuning mit Tweedie-Regression"
      ],
      "metadata": {
        "id": "T7TcfEgpFND9"
      }
    },
    {
      "cell_type": "code",
      "source": [
        "xg_reg = xgb.XGBRegressor(objective = 'reg:tweedie', booster='gblinear', eval_metric='tweedie-nloglik@1.2',tweedie_variance_power=1.1, random_state=42)"
      ],
      "metadata": {
        "id": "Rf7n0DlFBZF1"
      },
      "execution_count": 221,
      "outputs": []
    },
    {
      "cell_type": "code",
      "source": [
        "scaler = StandardScaler()"
      ],
      "metadata": {
        "id": "k06JzeQODP_Y"
      },
      "execution_count": 93,
      "outputs": []
    },
    {
      "cell_type": "code",
      "source": [
        "train_X_standardized = pd.DataFrame(scaler.fit_transform(train_X), columns=train_X.columns, index=train_X.index)\n",
        "val_X_standardized = pd.DataFrame(scaler.transform(val_X), columns=train_X.columns, index=val_X.index)"
      ],
      "metadata": {
        "id": "VeMjdxYdDkWF"
      },
      "execution_count": 94,
      "outputs": []
    },
    {
      "cell_type": "code",
      "source": [
        "xg_reg.fit(train_X_standardized, train_y)"
      ],
      "metadata": {
        "colab": {
          "base_uri": "https://localhost:8080/"
        },
        "id": "D70C_68GEX3B",
        "outputId": "367a2c32-bcf3-41c4-83e9-b9be1f344efa"
      },
      "execution_count": 222,
      "outputs": [
        {
          "output_type": "execute_result",
          "data": {
            "text/plain": [
              "XGBRegressor(booster='gblinear', eval_metric='tweedie-nloglik@1.2',\n",
              "             objective='reg:tweedie', random_state=42,\n",
              "             tweedie_variance_power=1.1)"
            ]
          },
          "metadata": {},
          "execution_count": 222
        }
      ]
    },
    {
      "cell_type": "code",
      "source": [
        "preds = xg_reg.predict(val_X_standardized)"
      ],
      "metadata": {
        "id": "SmQ_nD4REY36"
      },
      "execution_count": 223,
      "outputs": []
    },
    {
      "cell_type": "code",
      "source": [
        "# in EUR\n",
        "mean_absolute_error(val_y, preds)"
      ],
      "metadata": {
        "colab": {
          "base_uri": "https://localhost:8080/"
        },
        "id": "h1vslRXTEz7S",
        "outputId": "af68a938-02e7-43c6-e808-15a4c4cff2a8"
      },
      "execution_count": 224,
      "outputs": [
        {
          "output_type": "execute_result",
          "data": {
            "text/plain": [
              "53.266328239625764"
            ]
          },
          "metadata": {},
          "execution_count": 224
        }
      ]
    },
    {
      "cell_type": "code",
      "source": [
        "# Score = R2-Wert\n",
        "score = xg_reg.score(val_X_standardized, val_y)\n",
        "score"
      ],
      "metadata": {
        "colab": {
          "base_uri": "https://localhost:8080/"
        },
        "id": "zG79ncCVV2js",
        "outputId": "2b9caec8-38c6-49b7-9305-95f667e450de"
      },
      "execution_count": 207,
      "outputs": [
        {
          "output_type": "execute_result",
          "data": {
            "text/plain": [
              "0.7347161859156056"
            ]
          },
          "metadata": {},
          "execution_count": 207
        }
      ]
    },
    {
      "cell_type": "code",
      "source": [
        "# Wert des Modells von SkinPort zum Vergleich in EUR\n",
        "mean_absolute_error(val_y, val_X_sugPr['suggestedPrice'])"
      ],
      "metadata": {
        "colab": {
          "base_uri": "https://localhost:8080/"
        },
        "id": "N92M3ALoE6-T",
        "outputId": "d0601784-1f76-48f8-a49c-baf4189a0c57"
      },
      "execution_count": 59,
      "outputs": [
        {
          "output_type": "execute_result",
          "data": {
            "text/plain": [
              "37.41654916241806"
            ]
          },
          "metadata": {},
          "execution_count": 59
        }
      ]
    },
    {
      "cell_type": "markdown",
      "source": [
        "#### Bester Gesamtwert mit Hyperparametertuning mittels Tree Booster"
      ],
      "metadata": {
        "id": "9iyURUOUTC-8"
      }
    },
    {
      "cell_type": "code",
      "source": [
        "# bestes Modell:\n",
        "xg_reg_tree = xgb.XGBRegressor(colsample_bytree=0.4, eval_metric='mae', gamma=0.0, max_depth=10, n_estimators=1100, objective='reg:squarederror', random_state=42, scale_pos_weight=50)"
      ],
      "metadata": {
        "id": "UjFuEQe5aB1p"
      },
      "execution_count": 8,
      "outputs": []
    },
    {
      "cell_type": "code",
      "source": [
        "scaler = StandardScaler()"
      ],
      "metadata": {
        "id": "sjDactu6aFg9"
      },
      "execution_count": 9,
      "outputs": []
    },
    {
      "cell_type": "code",
      "source": [
        "train_X_standardized = pd.DataFrame(scaler.fit_transform(train_X), columns=train_X.columns, index=train_X.index)\n",
        "val_X_standardized = pd.DataFrame(scaler.transform(val_X), columns=train_X.columns, index=val_X.index)"
      ],
      "metadata": {
        "id": "oZbe7HJXaGiL"
      },
      "execution_count": 10,
      "outputs": []
    },
    {
      "cell_type": "code",
      "source": [
        "xg_reg_tree.fit(train_X_standardized, train_y)"
      ],
      "metadata": {
        "colab": {
          "base_uri": "https://localhost:8080/"
        },
        "id": "RKiAVjM2aI59",
        "outputId": "62868120-d19d-4d3a-a509-26430539b1c8"
      },
      "execution_count": 11,
      "outputs": [
        {
          "output_type": "execute_result",
          "data": {
            "text/plain": [
              "XGBRegressor(colsample_bytree=0.4, eval_metric='mae', gamma=0.0, max_depth=10,\n",
              "             n_estimators=1100, objective='reg:squarederror', random_state=42,\n",
              "             scale_pos_weight=50)"
            ]
          },
          "metadata": {},
          "execution_count": 11
        }
      ]
    },
    {
      "cell_type": "code",
      "source": [
        "preds = xg_reg_tree.predict(val_X_standardized)"
      ],
      "metadata": {
        "id": "Aov24mYNaMnL"
      },
      "execution_count": 12,
      "outputs": []
    },
    {
      "cell_type": "code",
      "source": [
        "# in EUR\n",
        "mean_absolute_error(val_y, preds)"
      ],
      "metadata": {
        "colab": {
          "base_uri": "https://localhost:8080/"
        },
        "id": "TDueMitQaQJ5",
        "outputId": "507124bd-b314-4afe-d7df-4cfc983f50ae"
      },
      "execution_count": 13,
      "outputs": [
        {
          "output_type": "execute_result",
          "data": {
            "text/plain": [
              "50.8626326763972"
            ]
          },
          "metadata": {},
          "execution_count": 13
        }
      ]
    },
    {
      "cell_type": "code",
      "source": [
        "# Score = R2-Wert\n",
        "score = xg_reg_tree.score(val_X_standardized, val_y)\n",
        "score"
      ],
      "metadata": {
        "colab": {
          "base_uri": "https://localhost:8080/"
        },
        "id": "hOdxl9tJaTKh",
        "outputId": "6bb3c1cb-2e5e-4881-aad1-dd07e2e89304"
      },
      "execution_count": 15,
      "outputs": [
        {
          "output_type": "execute_result",
          "data": {
            "text/plain": [
              "0.6801905060554903"
            ]
          },
          "metadata": {},
          "execution_count": 15
        }
      ]
    },
    {
      "cell_type": "code",
      "source": [
        "# Wert des Modells von SkinPort zum Vergleich in EUR\n",
        "mean_absolute_error(val_y, val_X_sugPr['suggestedPrice'])"
      ],
      "metadata": {
        "colab": {
          "base_uri": "https://localhost:8080/"
        },
        "id": "_PXuFFxVaVYk",
        "outputId": "3df8970c-544b-455a-a540-6f23f5d4600b"
      },
      "execution_count": 232,
      "outputs": [
        {
          "output_type": "execute_result",
          "data": {
            "text/plain": [
              "37.41654916241806"
            ]
          },
          "metadata": {},
          "execution_count": 232
        }
      ]
    },
    {
      "cell_type": "code",
      "source": [
        "hyper_grid = {\n",
        "    'booster': ['gbtree', 'gblinear'],\n",
        "    'n_estimators': [100, 500, 900, 1100, 1500],\n",
        "    'learning_rate' : [0.05, 0.1, 0.2, 0.4, 0.6],\n",
        "    'gamma' : [0.0, 0.1, 0.2, 0.4, 0.7],\n",
        "    'max_depth': [2, 5, 7, 10],\n",
        "    'min_child_weight': [1, 3, 5, 8],\n",
        "    'colsample_bytree':[0.4, 0.5, 0.7, 0.8],\n",
        "    'scale_pos_weight':[1, 30, 50, 80, 90, 100]\n",
        "}"
      ],
      "metadata": {
        "id": "jkXpnFVBHftW"
      },
      "execution_count": 238,
      "outputs": []
    },
    {
      "cell_type": "code",
      "source": [
        "random_cv = RandomizedSearchCV(estimator=xg_reg_tree,\n",
        "            param_distributions=hyper_grid,\n",
        "            cv=5, n_iter=10,\n",
        "            scoring = 'neg_mean_absolute_error',n_jobs = -1,\n",
        "            verbose = 3, \n",
        "            return_train_score = True,\n",
        "            random_state=42)"
      ],
      "metadata": {
        "id": "Tldp6b6vI0m_"
      },
      "execution_count": 239,
      "outputs": []
    },
    {
      "cell_type": "code",
      "source": [
        "random_cv.fit(train_X_standardized, train_y)"
      ],
      "metadata": {
        "colab": {
          "base_uri": "https://localhost:8080/"
        },
        "id": "YrUdrK4PfDkN",
        "outputId": "4bdaf1c6-8546-477d-f6b6-eda209057cc4"
      },
      "execution_count": 240,
      "outputs": [
        {
          "output_type": "stream",
          "name": "stdout",
          "text": [
            "Fitting 5 folds for each of 10 candidates, totalling 50 fits\n"
          ]
        },
        {
          "output_type": "execute_result",
          "data": {
            "text/plain": [
              "RandomizedSearchCV(cv=5,\n",
              "                   estimator=XGBRegressor(eval_metric='mae',\n",
              "                                          objective='reg:squarederror',\n",
              "                                          random_state=42),\n",
              "                   n_jobs=-1,\n",
              "                   param_distributions={'booster': ['gbtree', 'gblinear'],\n",
              "                                        'colsample_bytree': [0.4, 0.5, 0.7,\n",
              "                                                             0.8],\n",
              "                                        'gamma': [0.0, 0.1, 0.2, 0.4, 0.7],\n",
              "                                        'learning_rate': [0.05, 0.1, 0.2, 0.4,\n",
              "                                                          0.6],\n",
              "                                        'max_depth': [2, 5, 7, 10],\n",
              "                                        'min_child_weight': [1, 3, 5, 8],\n",
              "                                        'n_estimators': [100, 500, 900, 1100,\n",
              "                                                         1500],\n",
              "                                        'scale_pos_weight': [1, 30, 50, 80, 90,\n",
              "                                                             100]},\n",
              "                   random_state=42, return_train_score=True,\n",
              "                   scoring='neg_mean_absolute_error', verbose=3)"
            ]
          },
          "metadata": {},
          "execution_count": 240
        }
      ]
    },
    {
      "cell_type": "code",
      "source": [
        "random_cv.best_estimator_"
      ],
      "metadata": {
        "colab": {
          "base_uri": "https://localhost:8080/"
        },
        "id": "Rmjm2hazfKlc",
        "outputId": "477058f4-6e58-486f-966c-bc9b1909565a"
      },
      "execution_count": 241,
      "outputs": [
        {
          "output_type": "execute_result",
          "data": {
            "text/plain": [
              "XGBRegressor(colsample_bytree=0.4, eval_metric='mae', gamma=0.0, max_depth=10,\n",
              "             n_estimators=1100, objective='reg:squarederror', random_state=42,\n",
              "             scale_pos_weight=50)"
            ]
          },
          "metadata": {},
          "execution_count": 241
        }
      ]
    },
    {
      "cell_type": "code",
      "source": [
        "random_cv.best_params_"
      ],
      "metadata": {
        "colab": {
          "base_uri": "https://localhost:8080/"
        },
        "id": "B_i7t6DSfKyA",
        "outputId": "4c11eb00-4686-473a-da65-6203c53de0b4"
      },
      "execution_count": 242,
      "outputs": [
        {
          "output_type": "execute_result",
          "data": {
            "text/plain": [
              "{'booster': 'gbtree',\n",
              " 'colsample_bytree': 0.4,\n",
              " 'gamma': 0.0,\n",
              " 'learning_rate': 0.1,\n",
              " 'max_depth': 10,\n",
              " 'min_child_weight': 1,\n",
              " 'n_estimators': 1100,\n",
              " 'scale_pos_weight': 50}"
            ]
          },
          "metadata": {},
          "execution_count": 242
        }
      ]
    },
    {
      "cell_type": "markdown",
      "source": [
        "# Ergebnisse mit unterschiedlichen XGB-Parametern:\n",
        "* xgb.XGBRegressor(objective = 'reg:squarederror', booster='gblinear', reg_lambda=1, updater='coord_descent', random_state=42)\n",
        "  * MAE: 101,72\n",
        "* xgb.XGBRegressor(objective = 'reg:squarederror', booster='gbtree', random_state=42)\n",
        "  * MAE: 104,70\n",
        "* xgb.XGBRegressor(objective = 'reg:gamma', booster='gblinear', random_state=42)\n",
        "  * MAE: 88,79\n",
        "* xgb.XGBRegressor(objective = 'reg:tweedie', booster='gblinear', eval_metric='rmse', random_state=42)\n",
        "  * MAE: 56,44\n",
        "* xgb.XGBRegressor(objective = 'reg:tweedie', booster='gblinear', eval_metric='mae', random_state=42)\n",
        "  * MAE: 56,44\n",
        "* xgb.XGBRegressor(objective = 'reg:tweedie', booster='gblinear', eval_metric='tweedie-nloglik@1.2', random_state=42)\n",
        "  * MAE: 56,44\n",
        "* xgb.XGBRegressor(objective = 'reg:tweedie', booster='gblinear', eval_metric='tweedie-nloglik@1.2',tweedie_variance_power=1.4, random_state=42)\n",
        "  * MAE:70,06\n",
        "* xgb.XGBRegressor(objective = 'reg:tweedie', booster='gblinear', eval_metric='tweedie-nloglik@1.2',tweedie_variance_power=1.4, random_state=42)\n",
        "  * MAE: 55,02\n",
        "* xgb.XGBRegressor(objective = 'reg:tweedie', booster='gblinear', eval_metric='tweedie-nloglik@1.2',tweedie_variance_power=1.3, random_state=42)\n",
        "  * MAE: 53,95\n",
        "* xgb.XGBRegressor(objective = 'reg:tweedie', booster='gblinear', eval_metric='tweedie-nloglik@1.2',tweedie_variance_power=1.1, random_state=42)\n",
        "  * MAE: 53,27\n",
        "\n",
        "**Mit Hyperparametertuning:**\n",
        "* xgb.XGBRegressor(colsample_bytree=0.4, eval_metric='mae', gamma=0.0, max_depth=10, n_estimators=1100, objective='reg:squarederror', random_state=42, scale_pos_weight=50)\n",
        "  * MAE: 50,86"
      ],
      "metadata": {
        "id": "Pk8rCINQRndY"
      }
    },
    {
      "cell_type": "markdown",
      "source": [
        "# Ausgelagert: SHAP mit bestem Modell (Tree Booster) - nur für mich (bitte ignorieren)"
      ],
      "metadata": {
        "id": "deecxhOiEcqq"
      }
    },
    {
      "cell_type": "code",
      "source": [
        "!pip install shap --quiet"
      ],
      "metadata": {
        "colab": {
          "base_uri": "https://localhost:8080/"
        },
        "id": "Ma_P79byGAXU",
        "outputId": "3878708b-d083-44ee-e737-7870a5be182f"
      },
      "execution_count": 17,
      "outputs": [
        {
          "output_type": "stream",
          "name": "stdout",
          "text": [
            "\u001b[?25l\r\u001b[K     |▋                               | 10 kB 19.5 MB/s eta 0:00:01\r\u001b[K     |█▏                              | 20 kB 12.9 MB/s eta 0:00:01\r\u001b[K     |█▊                              | 30 kB 7.1 MB/s eta 0:00:01\r\u001b[K     |██▎                             | 40 kB 6.3 MB/s eta 0:00:01\r\u001b[K     |███                             | 51 kB 3.5 MB/s eta 0:00:01\r\u001b[K     |███▌                            | 61 kB 4.1 MB/s eta 0:00:01\r\u001b[K     |████                            | 71 kB 4.2 MB/s eta 0:00:01\r\u001b[K     |████▋                           | 81 kB 4.5 MB/s eta 0:00:01\r\u001b[K     |█████▏                          | 92 kB 4.9 MB/s eta 0:00:01\r\u001b[K     |█████▉                          | 102 kB 3.9 MB/s eta 0:00:01\r\u001b[K     |██████▍                         | 112 kB 3.9 MB/s eta 0:00:01\r\u001b[K     |███████                         | 122 kB 3.9 MB/s eta 0:00:01\r\u001b[K     |███████▌                        | 133 kB 3.9 MB/s eta 0:00:01\r\u001b[K     |████████▏                       | 143 kB 3.9 MB/s eta 0:00:01\r\u001b[K     |████████▊                       | 153 kB 3.9 MB/s eta 0:00:01\r\u001b[K     |█████████▎                      | 163 kB 3.9 MB/s eta 0:00:01\r\u001b[K     |█████████▉                      | 174 kB 3.9 MB/s eta 0:00:01\r\u001b[K     |██████████▍                     | 184 kB 3.9 MB/s eta 0:00:01\r\u001b[K     |███████████                     | 194 kB 3.9 MB/s eta 0:00:01\r\u001b[K     |███████████▋                    | 204 kB 3.9 MB/s eta 0:00:01\r\u001b[K     |████████████▏                   | 215 kB 3.9 MB/s eta 0:00:01\r\u001b[K     |████████████▊                   | 225 kB 3.9 MB/s eta 0:00:01\r\u001b[K     |█████████████▍                  | 235 kB 3.9 MB/s eta 0:00:01\r\u001b[K     |██████████████                  | 245 kB 3.9 MB/s eta 0:00:01\r\u001b[K     |██████████████▌                 | 256 kB 3.9 MB/s eta 0:00:01\r\u001b[K     |███████████████                 | 266 kB 3.9 MB/s eta 0:00:01\r\u001b[K     |███████████████▋                | 276 kB 3.9 MB/s eta 0:00:01\r\u001b[K     |████████████████▎               | 286 kB 3.9 MB/s eta 0:00:01\r\u001b[K     |████████████████▉               | 296 kB 3.9 MB/s eta 0:00:01\r\u001b[K     |█████████████████▍              | 307 kB 3.9 MB/s eta 0:00:01\r\u001b[K     |██████████████████              | 317 kB 3.9 MB/s eta 0:00:01\r\u001b[K     |██████████████████▋             | 327 kB 3.9 MB/s eta 0:00:01\r\u001b[K     |███████████████████▏            | 337 kB 3.9 MB/s eta 0:00:01\r\u001b[K     |███████████████████▊            | 348 kB 3.9 MB/s eta 0:00:01\r\u001b[K     |████████████████████▎           | 358 kB 3.9 MB/s eta 0:00:01\r\u001b[K     |████████████████████▉           | 368 kB 3.9 MB/s eta 0:00:01\r\u001b[K     |█████████████████████▌          | 378 kB 3.9 MB/s eta 0:00:01\r\u001b[K     |██████████████████████          | 389 kB 3.9 MB/s eta 0:00:01\r\u001b[K     |██████████████████████▋         | 399 kB 3.9 MB/s eta 0:00:01\r\u001b[K     |███████████████████████▏        | 409 kB 3.9 MB/s eta 0:00:01\r\u001b[K     |███████████████████████▉        | 419 kB 3.9 MB/s eta 0:00:01\r\u001b[K     |████████████████████████▍       | 430 kB 3.9 MB/s eta 0:00:01\r\u001b[K     |█████████████████████████       | 440 kB 3.9 MB/s eta 0:00:01\r\u001b[K     |█████████████████████████▌      | 450 kB 3.9 MB/s eta 0:00:01\r\u001b[K     |██████████████████████████      | 460 kB 3.9 MB/s eta 0:00:01\r\u001b[K     |██████████████████████████▊     | 471 kB 3.9 MB/s eta 0:00:01\r\u001b[K     |███████████████████████████▎    | 481 kB 3.9 MB/s eta 0:00:01\r\u001b[K     |███████████████████████████▉    | 491 kB 3.9 MB/s eta 0:00:01\r\u001b[K     |████████████████████████████▍   | 501 kB 3.9 MB/s eta 0:00:01\r\u001b[K     |█████████████████████████████   | 512 kB 3.9 MB/s eta 0:00:01\r\u001b[K     |█████████████████████████████▋  | 522 kB 3.9 MB/s eta 0:00:01\r\u001b[K     |██████████████████████████████▏ | 532 kB 3.9 MB/s eta 0:00:01\r\u001b[K     |██████████████████████████████▊ | 542 kB 3.9 MB/s eta 0:00:01\r\u001b[K     |███████████████████████████████▎| 552 kB 3.9 MB/s eta 0:00:01\r\u001b[K     |████████████████████████████████| 563 kB 3.9 MB/s eta 0:00:01\r\u001b[K     |████████████████████████████████| 564 kB 3.9 MB/s \n",
            "\u001b[?25h"
          ]
        }
      ]
    },
    {
      "cell_type": "code",
      "source": [
        "import shap"
      ],
      "metadata": {
        "id": "a4igocEEEe4h"
      },
      "execution_count": 18,
      "outputs": []
    },
    {
      "cell_type": "code",
      "source": [
        "# explain the model's predictions using SHAP\n",
        "explainer = shap.Explainer(xg_reg_tree)\n",
        "shap_values = explainer(train_X_standardized, check_additivity=False)"
      ],
      "metadata": {
        "id": "oC1_N3DGEfmT"
      },
      "execution_count": 21,
      "outputs": []
    },
    {
      "cell_type": "code",
      "source": [
        "# visualize the first prediction's explanation\n",
        "shap.plots.waterfall(shap_values[0])"
      ],
      "metadata": {
        "colab": {
          "base_uri": "https://localhost:8080/",
          "height": 444
        },
        "id": "hroKVcFvEfqT",
        "outputId": "a8bb180d-aaa9-4dd1-d74b-4e29763736c5"
      },
      "execution_count": 22,
      "outputs": [
        {
          "output_type": "display_data",
          "data": {
            "text/plain": [
              "<Figure size 576x468 with 3 Axes>"
            ],
            "image/png": "[encoded data removed]"
          },
          "metadata": {}
        }
      ]
    },
    {
      "cell_type": "code",
      "source": [
        "# visualize the first prediction's explanation with a force plot\n",
        "shap.plots.force(shap_values[0])"
      ],
      "metadata": {
        "colab": {
          "base_uri": "https://localhost:8080/",
          "height": 52
        },
        "id": "bHJ8rfg_E01R",
        "outputId": "7e51aa08-6d2a-4c1e-9f9a-3b65c613f0a5"
      },
      "execution_count": 23,
      "outputs": [
        {
          "output_type": "execute_result",
          "data": {
            "text/plain": [
              "<shap.plots._force.AdditiveForceVisualizer at 0x7f105aa27a50>"
            ],
            "text/html": [
              "\n",
              "<div id='iRV38SFK1MYPBCZSJMQYX'>\n",
              "<div style='color: #900; text-align: center;'>\n",
              "  <b>Visualization omitted, Javascript library not loaded!</b><br>\n",
              "  Have you run `initjs()` in this notebook? If this notebook was from another\n",
              "  user you must also trust this notebook (File -> Trust notebook). If you are viewing\n",
              "  this notebook on github the Javascript has been stripped for security. If you are using\n",
              "  JupyterLab this error is because a JupyterLab extension has not yet been written.\n",
              "</div></div>\n",
              " <script>\n",
              "   if (window.SHAP) SHAP.ReactDom.render(\n",
              "    SHAP.React.createElement(SHAP.AdditiveForceVisualizer, {\"outNames\": [\"f(x)\"], \"baseValue\": 147.4527587890625, \"outValue\": 24.071441650390625, \"link\": \"identity\", \"featureNames\": [\"ext_Battle-Scarred\", \"ext_Factory New\", \"ext_Field-Tested\", \"ext_Minimal Wear\", \"ext_Well-Worn\", \"rar_Classified\", \"rar_Covert\", \"rar_Extraordinary\", \"rar_Industrial Grade\", \"rar_Mil-Spec Grade\", \"color_averagely colorful\", \"color_highly colorful\", \"color_moderately colorful\", \"color_quite colorful\", \"color_slightly colorful\", \"fam_3rd Commando Company\", \"fam_Abyss\", \"fam_Acheron\", \"fam_Acid Fade\", \"fam_Afterimage\", \"fam_Akihabara Accept\", \"fam_Allure\", \"fam_Amber Fade\", \"fam_Ancient Lore\", \"fam_Ancient Visions\", \"fam_Angry Mob\", \"fam_Anodized Navy\", \"fam_Anolis\", \"fam_Antique\", \"fam_Aqua Terrace\", \"fam_Aquamarine Revenge\", \"fam_Arboreal\", \"fam_Arctic Wolf\", \"fam_Armor Core\", \"fam_Ash Wood\", \"fam_Atheris\", \"fam_Atomic Alloy\", \"fam_Autotronic\", \"fam_Autumn Twilly\", \"fam_Avalanche\", \"fam_BI83 Spectrum\", \"fam_Badlands\", \"fam_Banana Leaf\", \"fam_Baroque Purple\", \"fam_Barricade\", \"fam_Bengal Tiger\", \"fam_Berries And Cherries\", \"fam_Black Laminate\", \"fam_Black Limba\", \"fam_Black Lotus\", \"fam_Black Tie\", \"fam_Blast From the Past\", \"fam_Blaze\", \"fam_Blaze Orange\", \"fam_Blood in the Water\", \"fam_Bloodshot\", \"fam_Bloodsport\", \"fam_Blue Fissure\", \"fam_Blue Spruce\", \"fam_Blue Streak\", \"fam_Brass\", \"fam_Briefing\", \"fam_Bright Water\", \"fam_Bronze Deco\", \"fam_Bronze Morph\", \"fam_Bronzed\", \"fam_Buckshot\", \"fam_Buddy\", \"fam_Bulldozer\", \"fam_Bullet Rain\", \"fam_Bunsen Burner\", \"fam_Button Masher\", \"fam_CAUTION!\", \"fam_CaliCamo\", \"fam_Caramel\", \"fam_Carnivore\", \"fam_Carved Jade\", \"fam_Case Hardened\", \"fam_Cassette\", \"fam_Catacombs\", \"fam_Chalice\", \"fam_Chameleon\", \"fam_Charred\", \"fam_Chatterbox\", \"fam_Chemical Green\", \"fam_Chopper\", \"fam_Chromatic Aberration\", \"fam_Cinquedea\", \"fam_Circaetus\", \"fam_Cirrus\", \"fam_Clear Polymer\", \"fam_Cobalt Core\", \"fam_Cobalt Disruption\", \"fam_Cobalt Halftone\", \"fam_Cobalt Quartz\", \"fam_Cobalt Skulls\", \"fam_Cobra Strike\", \"fam_Code Red\", \"fam_Constrictor\", \"fam_Converter\", \"fam_Convoy\", \"fam_Copper Galaxy\", \"fam_Corinthian\", \"fam_Corticera\", \"fam_Counter Terrace\", \"fam_Cracked Opal\", \"fam_Crimson Kimono\", \"fam_Crimson Tsunami\", \"fam_Crimson Weave\", \"fam_Crimson Web\", \"fam_Crypsis\", \"fam_Curse\", \"fam_Cyber Shell\", \"fam_Daedalus\", \"fam_Dark Age\", \"fam_Dark Blossom\", \"fam_Dark Water\", \"fam_Daybreak\", \"fam_Death Rattle\", \"fam_Death's Head\", \"fam_Decimator\", \"fam_Deep Relief\", \"fam_Demeter\", \"fam_Desert Blossom\", \"fam_Desert DDPAT\", \"fam_Desert Hydra\", \"fam_Desert Shamagh\", \"fam_Desert Storm\", \"fam_Desert-Strike\", \"fam_Detour\", \"fam_Devourer\", \"fam_Diamondback\", \"fam_Digital Architect\", \"fam_Dispatch\", \"fam_Distressed\", \"fam_Djinn\", \"fam_Doomkitty\", \"fam_Doppler\", \"fam_Dragon Lore\", \"fam_Dragon Tattoo\", \"fam_Dragonfire\", \"fam_Dream Glade\", \"fam_Drought\", \"fam_Duct Tape\", \"fam_Duelist\", \"fam_Elegant Vines\", \"fam_Elite Build\", \"fam_Embargo\", \"fam_Emerald\", \"fam_Emerald Pinstripe\", \"fam_Emerald Quartz\", \"fam_Emerald Web\", \"fam_Ensnared\", \"fam_Evil Daimyo\", \"fam_Exoskeleton\", \"fam_Eye of Athena\", \"fam_Facility Dark\", \"fam_Facility Sketch\", \"fam_Fade\", \"fam_Fall Hazard\", \"fam_Fever Dream\", \"fam_Field Agent\", \"fam_Fire Elemental\", \"fam_Fire Serpent\", \"fam_Firefight\", \"fam_Firestarter\", \"fam_Flame J\\u00f6rmungandr\", \"fam_Flashback\", \"fam_Food Chain\", \"fam_Foresight\", \"fam_Forest DDPAT\", \"fam_Franklin\", \"fam_Fubar\", \"fam_Fuel Injector\", \"fam_Gamma Doppler\", \"fam_Gator Mesh\", \"fam_Giraffe\", \"fam_Global Offensive\", \"fam_Gold Arabesque\", \"fam_Gold Brick\", \"fam_Golden Koi\", \"fam_Goo\", \"fam_Graphite\", \"fam_Grassland Leaves\", \"fam_Grotto\", \"fam_Groundwater\", \"fam_Guardian\", \"fam_Guerrilla\", \"fam_Gungnir\", \"fam_Hand Cannon\", \"fam_Handgun\", \"fam_Hazard Pay\", \"fam_Heirloom\", \"fam_High Roller\", \"fam_Hive\", \"fam_Hot Rod\", \"fam_Hot Snakes\", \"fam_Howl\", \"fam_Hydroponic\", \"fam_Hyper Beast\", \"fam_Imminent Danger\", \"fam_Imperial Dragon\", \"fam_Imperial Plaid\", \"fam_Imprint\", \"fam_In Living Color\", \"fam_Indigo\", \"fam_Integrale\", \"fam_Ironwork\", \"fam_Jade\", \"fam_Jaguar\", \"fam_Judgement of Anubis\", \"fam_Kill Confirmed\", \"fam_King Snake\", \"fam_Knight\", \"fam_Lab Rats\", \"fam_Labyrinth\", \"fam_Leaded Glass\", \"fam_Leather\", \"fam_Leet Museo\", \"fam_Legion of Anubis\", \"fam_Light Rail\", \"fam_Llama Cannon\", \"fam_Lore\", \"fam_Magna Carta\", \"fam_Magnesium\", \"fam_Mainframe\", \"fam_Marble Fade\", \"fam_Marina\", \"fam_Mecha Industries\", \"fam_Medusa\", \"fam_Mehndi\", \"fam_Meltdown\", \"fam_Midnight Lily\", \"fam_Midnight Storm\", \"fam_Mj\\u00f6lnir\", \"fam_Modern Hunter\", \"fam_Modest Threat\", \"fam_Monkey Business\", \"fam_Moonrise\", \"fam_Mortis\", \"fam_Moss Quartz\", \"fam_Motherboard\", \"fam_Mount Fuji\", \"fam_Mudder\", \"fam_Music Box\", \"fam_Navy Sheen\", \"fam_Nebula Crusader\", \"fam_Needle Point\", \"fam_Neon Kimono\", \"fam_Neon Rider\", \"fam_Night\", \"fam_Night Heist\", \"fam_Night Ops\", \"fam_Night Terror\", \"fam_Nightmare\", \"fam_Nightshade\", \"fam_Nitro\", \"fam_Nostalgia\", \"fam_Obsidian\", \"fam_Ocean Drive\", \"fam_Old Roots\", \"fam_Oni Taiji\", \"fam_Orange Anolis\", \"fam_Orbit Mk01\", \"fam_Osiris\", \"fam_Overgrowth\", \"fam_Overprint\", \"fam_Overtake\", \"fam_PAW\", \"fam_POP AWP\", \"fam_POW!\", \"fam_Panthera onca\", \"fam_Parallax\", \"fam_Parched\", \"fam_Pathfinder\", \"fam_Phantom Disruptor\", \"fam_Phobos\", \"fam_Phoenix Marker\", \"fam_Phoenix Stencil\", \"fam_Pipe Down\", \"fam_Pit Viper\", \"fam_Plastique\", \"fam_Poison Dart\", \"fam_Polar Mesh\", \"fam_Poseidon\", \"fam_Powercore\", \"fam_Predator\", \"fam_Prey\", \"fam_Printstream\", \"fam_Prism Terrace\", \"fam_Propaganda\", \"fam_Pulse\", \"fam_Purple DDPAT\", \"fam_Queen Jaguar\", \"fam_Quick Sand\", \"fam_Racing Green\", \"fam_Radiation Hazard\", \"fam_Rangeen\", \"fam_Rat Rod\", \"fam_Red DDPAT\", \"fam_Red Filigree\", \"fam_Red FragCam\", \"fam_Red Quartz\", \"fam_Red Stone\", \"fam_Redline\", \"fam_Rezan the Red\", \"fam_Rising Skull\", \"fam_Rose Iron\", \"fam_Royal Paladin\", \"fam_Run and Hide\", \"fam_Rust Coat\", \"fam_Rust Leaf\", \"fam_SWAG-7\", \"fam_Safari Mesh\", \"fam_Safety Net\", \"fam_Sage Spray\", \"fam_Sand Dune\", \"fam_Sand Spray\", \"fam_Scorpion\", \"fam_See Ya Later\", \"fam_Sergeant\", \"fam_Shallow Grave\", \"fam_Sienna Damask\", \"fam_Silver\", \"fam_Skulls\", \"fam_Slashed\", \"fam_Slate\", \"fam_Slaughter\", \"fam_Smoke Out\", \"fam_Snack Attack\", \"fam_Snakebite\", \"fam_Snow Leopard\", \"fam_Sonar\", \"fam_Space Cat\", \"fam_Spalted Wood\", \"fam_Spearmint\", \"fam_Spider Lily\", \"fam_Splash Jam\", \"fam_Sputnik\", \"fam_Stained Glass\", \"fam_Stalker\", \"fam_Starlight Protector\", \"fam_Storm\", \"fam_Styx\", \"fam_Sun in Leo\", \"fam_Sunset Lily\", \"fam_Sunset Storm \\u58f1\", \"fam_Sunset Storm \\u5f10\", \"fam_Supernova\", \"fam_Surveillance\", \"fam_Sweeper\", \"fam_Syndicate\", \"fam_Synth Leaf\", \"fam_Tacticat\", \"fam_Tall Grass\", \"fam_Tatter\", \"fam_Teal Blossom\", \"fam_Terrace\", \"fam_The Battlestar\", \"fam_The Coalition\", \"fam_The Empress\", \"fam_The Executioner\", \"fam_The Kraken\", \"fam_The Prince\", \"fam_The Traitor\", \"fam_Threat Detected\", \"fam_Tiger Moth\", \"fam_Tiger Pit\", \"fam_Tiger Strike\", \"fam_Tiger Tooth\", \"fam_Tigris\", \"fam_Titanium Bit\", \"fam_Tornado\", \"fam_Torque\", \"fam_Toy Soldier\", \"fam_Toybox\", \"fam_Tranquility\", \"fam_Transport\", \"fam_Trigger Discipline\", \"fam_Trigon\", \"fam_Turbo Peek\", \"fam_Turf\", \"fam_Twilight Galaxy\", \"fam_Ultraviolet\", \"fam_Uncharted\", \"fam_Urban Dashed\", \"fam_Urban Rubble\", \"fam_Urban Shock\", \"fam_VariCamo\", \"fam_Vendetta\", \"fam_Ventilators\", \"fam_Verdant Growth\", \"fam_Victoria\", \"fam_Walnut\", \"fam_Warbird\", \"fam_Warhawk\", \"fam_Wasteland Rebel\", \"fam_Water Sigil\", \"fam_Welcome to the Jungle\", \"fam_Whiteout\", \"fam_Wild Lily\", \"fam_Wild Lotus\", \"fam_Woodsman\", \"fam_Worm God\", \"fam_Wraiths\", \"fam_XOXO\", \"fam_Yellow Jacket\", \"fam_ZX Spectron\", \"fam_Ziggy\", \"fam_\\u9f8d\\u738b (Dragon King)\", \"vers_Black Pearl\", \"vers_Emerald\", \"vers_Phase 1\", \"vers_Phase 2\", \"vers_Phase 3\", \"vers_Phase 4\", \"vers_Ruby\", \"vers_Sapphire\", \"vers_Tier 1\", \"vers_Tier 2\", \"vers_default\", \"cat_Gloves\", \"cat_Knife\", \"cat_Rifle\", \"subCat_AK-47\", \"subCat_AUG\", \"subCat_AWP\", \"subCat_Bloodhound Gloves\", \"subCat_Bowie Knife\", \"subCat_Broken Fang Gloves\", \"subCat_Butterfly Knife\", \"subCat_CZ75-Auto\", \"subCat_Classic Knife\", \"subCat_Desert Eagle\", \"subCat_Driver Gloves\", \"subCat_Dual Berettas\", \"subCat_FAMAS\", \"subCat_Flip Knife\", \"subCat_Gut Knife\", \"subCat_Hand Wraps\", \"subCat_Hydra Gloves\", \"subCat_Karambit\", \"subCat_M249\", \"subCat_M4A1-S\", \"subCat_M9 Bayonet\", \"subCat_MAC-10\", \"subCat_MAG-7\", \"subCat_MP7\", \"subCat_Moto Gloves\", \"subCat_Navaja Knife\", \"subCat_Nova\", \"subCat_P2000\", \"subCat_P90\", \"subCat_PP-Bizon\", \"subCat_Paracord Knife\", \"subCat_SCAR-20\", \"subCat_SG 553\", \"subCat_Skeleton Knife\", \"subCat_Specialist Gloves\", \"subCat_Sport Gloves\", \"subCat_Stiletto Knife\", \"subCat_Survival Knife\", \"subCat_Talon Knife\", \"subCat_USP-S\", \"subCat_Ursus Knife\", \"qual_Normal\", \"qual_Souvenir\", \"qual_StatTrak\\u2122\", \"qual_\\u2605\", \"qual_\\u2605 StatTrak\\u2122\", \"col_No Collection\", \"col_The 2018 Nuke Collection\", \"col_The 2021 Dust 2 Collection\", \"col_The 2021 Mirage Collection\", \"col_The 2021 Train Collection\", \"col_The Alpha Collection\", \"col_The Arms Deal 3 Collection\", \"col_The Arms Deal Collection\", \"col_The Assault Collection\", \"col_The Aztec Collection\", \"col_The Blacksite Collection\", \"col_The Bravo Collection\", \"col_The Breakout Collection\", \"col_The CS20 Collection\", \"col_The Cache Collection\", \"col_The Canals Collection\", \"col_The Chroma 2 Collection\", \"col_The Chroma 3 Collection\", \"col_The Chroma Collection\", \"col_The Clutch Collection\", \"col_The Cobblestone Collection\", \"col_The Control Collection\", \"col_The Danger Zone Collection\", \"col_The Dreams & Nightmares Collection\", \"col_The Dust 2 Collection\", \"col_The Dust Collection\", \"col_The Falchion Collection\", \"col_The Fracture Collection\", \"col_The Gamma 2 Collection\", \"col_The Gamma Collection\", \"col_The Glove Collection\", \"col_The Gods and Monsters Collection\", \"col_The Havoc Collection\", \"col_The Inferno Collection\", \"col_The Italy Collection\", \"col_The Lake Collection\", \"col_The Norse Collection\", \"col_The Nuke Collection\", \"col_The Office Collection\", \"col_The Operation Broken Fang Collection\", \"col_The Operation Riptide Collection\", \"col_The Overpass Collection\", \"col_The Prisma 2 Collection\", \"col_The Prisma Collection\", \"col_The Revolver Case Collection\", \"col_The Shadow Collection\", \"col_The Spectrum Collection\", \"col_The St. Marc Collection\", \"col_The Train Collection\", \"col_The Vanguard Collection\", \"col_The Wildfire Collection\", \"col_The Winter Offensive Collection\", \"col_The X-Ray Collection\", \"col_The eSports 2014 Summer Collection\", \"lock\", \"wear\", \"stickers\", \"souvenir\", \"stattrak\", \"colorfulness\"], \"features\": {\"0\": {\"effect\": 0.437737375497818, \"value\": -0.2463097366689272}, \"1\": {\"effect\": 18.468549728393555, \"value\": 1.3151510431891809}, \"2\": {\"effect\": 0.09065432846546173, \"value\": -0.62138712128803}, \"3\": {\"effect\": -1.5338447093963623, \"value\": -0.5843962870544995}, \"4\": {\"effect\": -0.22114898264408112, \"value\": -0.2127728684756504}, \"5\": {\"effect\": 12.539009094238281, \"value\": 1.871003900157772}, \"6\": {\"effect\": -4.027059078216553, \"value\": -0.8919381246108182}, \"7\": {\"effect\": -4.521043300628662, \"value\": -0.2478584251081205}, \"8\": {\"effect\": 0.8406169414520264, \"value\": -0.1739687689393793}, \"9\": {\"effect\": 0.6445001363754272, \"value\": -0.30520954480821566}, \"10\": {\"effect\": 0.41675448417663574, \"value\": -0.36198633125367913}, \"11\": {\"effect\": 0.028490783646702766, \"value\": -0.13893218825183193}, \"12\": {\"effect\": 0.29324817657470703, \"value\": 1.09141676374628}, \"13\": {\"effect\": -0.41067251563072205, \"value\": -0.2520251054097145}, \"14\": {\"effect\": 1.0698583126068115, \"value\": -0.7308065491568221}, \"15\": {\"effect\": 0.04888195917010307, \"value\": -0.02414550460851633}, \"16\": {\"effect\": -1.44235252719227e-06, \"value\": -0.024145504608516333}, \"17\": {\"effect\": 0.002098697004839778, \"value\": -0.019712806605252434}, \"18\": {\"effect\": 0.004368264693766832, \"value\": -0.01843919428171129}, \"19\": {\"effect\": -0.0010294981766492128, \"value\": -0.019712806605252438}, \"20\": {\"effect\": -0.3667474389076233, \"value\": -0.023116999093838877}, \"21\": {\"effect\": -0.0026836853940039873, \"value\": -0.012070113739631691}, \"22\": {\"effect\": 0.0042799534276127815, \"value\": -0.03689721115721411}, \"23\": {\"effect\": -0.015482885763049126, \"value\": -0.029576394049948232}, \"24\": {\"effect\": -0.0523831881582737, \"value\": -0.04125935809425778}, \"25\": {\"effect\": 0.03604067489504814, \"value\": -0.03415685835565968}, \"26\": {\"effect\": -0.0012073778780177236, \"value\": -0.017070962109407107}, \"28\": {\"effect\": 0.028466714546084404, \"value\": -0.035553313707879196}, \"29\": {\"effect\": -0.0007339174626395106, \"value\": -0.006968345024348511}, \"30\": {\"effect\": 0.0756811574101448, \"value\": -0.05268152680153464}, \"31\": {\"effect\": 0.07779983431100845, \"value\": -0.026081392896842824}, \"32\": {\"effect\": 0.0027765340637415648, \"value\": -0.03038759466949996}, \"34\": {\"effect\": 9.612851863494143e-05, \"value\": -0.01843919428171129}, \"35\": {\"effect\": 0.09669625759124756, \"value\": -0.07845795056798356}, \"36\": {\"effect\": 0.0022983048111200333, \"value\": -0.036231461279727734}, \"37\": {\"effect\": -0.47820693254470825, \"value\": -0.07226734607596798}, \"38\": {\"effect\": 8.12188591226004e-06, \"value\": -0.015583206612078142}, \"39\": {\"effect\": 0.0688411295413971, \"value\": -0.022040658434832477}, \"41\": {\"effect\": 0.04423939809203148, \"value\": -0.020909096669173427}, \"42\": {\"effect\": 0.002591462107375264, \"value\": -0.012070113739631691}, \"43\": {\"effect\": 0.06484312564134598, \"value\": -0.042994403737420216}, \"44\": {\"effect\": 0.0020795499440282583, \"value\": -0.01207011373963169}, \"45\": {\"effect\": -0.0036088828928768635, \"value\": -0.039448614202228865}, \"46\": {\"effect\": 0.0015333832707256079, \"value\": -0.045741160842845595}, \"47\": {\"effect\": -1.0760009288787842, \"value\": -0.07814408047409083}, \"48\": {\"effect\": 0.0028243185952305794, \"value\": -0.012070113739631691}, \"49\": {\"effect\": 0.0002325577661395073, \"value\": -0.03486204494760774}, \"50\": {\"effect\": -1.494398832321167, \"value\": -0.035553313707879196}, \"52\": {\"effect\": -0.044965922832489014, \"value\": -0.05670065429066602}, \"53\": {\"effect\": -0.000336317578330636, \"value\": -0.006968345024348511}, \"54\": {\"effect\": 0.006755690090358257, \"value\": -0.04466257435831218}, \"55\": {\"effect\": 0.011411493644118309, \"value\": -0.025132048504158067}, \"56\": {\"effect\": 0.10974272340536118, \"value\": -0.1039112410293994}, \"57\": {\"effect\": -0.03613288700580597, \"value\": -0.029576394049948235}, \"58\": {\"effect\": -0.03226073831319809, \"value\": -0.006968345024348511}, \"59\": {\"effect\": 0.0006332317134365439, \"value\": -0.006968345024348511}, \"60\": {\"effect\": 0.0003325140569359064, \"value\": -0.022040658434832477}, \"61\": {\"effect\": 0.02365226484835148, \"value\": -0.02788353667791259}, \"62\": {\"effect\": 0.10067864507436752, \"value\": -0.05495024602144354}, \"63\": {\"effect\": 0.00018018756236415356, \"value\": -0.01843919428171129}, \"64\": {\"effect\": 0.27357736229896545, \"value\": -0.03038759466949996}, \"65\": {\"effect\": 0.008402178063988686, \"value\": -0.02608139289684282}, \"66\": {\"effect\": 0.029383189976215363, \"value\": -0.025132048504158067}, \"67\": {\"effect\": 3.5858618502970785e-05, \"value\": -0.006968345024348509}, \"68\": {\"effect\": -0.0001307745696976781, \"value\": -0.026997462357801944}, \"69\": {\"effect\": 0.02076634392142296, \"value\": -0.04066467839854796}, \"70\": {\"effect\": -0.0007881381316110492, \"value\": -0.009854967311558795}, \"71\": {\"effect\": 4.50176048616413e-05, \"value\": -0.00696834502434851}, \"72\": {\"effect\": -0.034035034477710724, \"value\": -0.035553313707879196}, \"74\": {\"effect\": 0.014801456592977047, \"value\": -0.015583206612078142}, \"75\": {\"effect\": -0.00010598251537885517, \"value\": -0.00696834502434851}, \"76\": {\"effect\": 0.0023012261372059584, \"value\": -0.04883536051350484}, \"77\": {\"effect\": 0.032830238342285156, \"value\": -0.144459144856138}, \"78\": {\"effect\": -1.6034964573918842e-05, \"value\": -0.009854967311558795}, \"79\": {\"effect\": -4.1772240365389735e-05, \"value\": -0.01207011373963169}, \"80\": {\"effect\": -0.02984459511935711, \"value\": -0.015583206612078142}, \"81\": {\"effect\": 0.017066551372408867, \"value\": -0.02608139289684282}, \"82\": {\"effect\": -0.0016218413366004825, \"value\": -0.024145504608516333}, \"83\": {\"effect\": -0.0008808494894765317, \"value\": -0.026997462357801944}, \"84\": {\"effect\": 0.00033086261828429997, \"value\": -0.01843919428171129}, \"85\": {\"effect\": 0.00028470566030591726, \"value\": -0.013937705262804648}, \"86\": {\"effect\": 0.020667722448706627, \"value\": -0.026997462357801944}, \"87\": {\"effect\": -0.048625484108924866, \"value\": -0.013937705262804648}, \"89\": {\"effect\": -0.0004351002280600369, \"value\": -0.015583206612078144}, \"90\": {\"effect\": 0.0009515718556940556, \"value\": -0.023116999093838877}, \"91\": {\"effect\": -1.3578519428847358e-05, \"value\": -0.009854967311558795}, \"92\": {\"effect\": -0.29031509160995483, \"value\": -0.04125935809425778}, \"93\": {\"effect\": -0.00023945604334585369, \"value\": -0.00696834502434851}, \"94\": {\"effect\": 4.295739927329123e-05, \"value\": -0.00696834502434851}, \"95\": {\"effect\": -0.10723721235990524, \"value\": -0.025132048504158067}, \"96\": {\"effect\": -0.00016176867939066142, \"value\": -0.00696834502434851}, \"97\": {\"effect\": 0.011989306658506393, \"value\": -0.05174651722377704}, \"98\": {\"effect\": 0.050710417330265045, \"value\": -0.023116999093838877}, \"99\": {\"effect\": 0.010581912472844124, \"value\": -0.026081392896842824}, \"100\": {\"effect\": 0.08344051986932755, \"value\": -0.028742390085918456}, \"101\": {\"effect\": 0.005114301107823849, \"value\": -0.02788353667791259}, \"102\": {\"effect\": -0.1475580334663391, \"value\": -0.023116999093838877}, \"103\": {\"effect\": 0.016732187941670418, \"value\": -0.04066467839854796}, \"104\": {\"effect\": -0.014652359299361706, \"value\": -0.012070113739631691}, \"106\": {\"effect\": -0.04528895020484924, \"value\": -0.024145504608516333}, \"107\": {\"effect\": 0.0002153730165446177, \"value\": -0.006968345024348511}, \"108\": {\"effect\": -0.06717147678136826, \"value\": -0.024145504608516333}, \"109\": {\"effect\": -0.9365728497505188, \"value\": -0.10580443973097019}, \"112\": {\"effect\": 0.0013504798989742994, \"value\": -0.009854967311558795}, \"114\": {\"effect\": -0.002219486515969038, \"value\": -0.020909096669173427}, \"115\": {\"effect\": 0.011275280267000198, \"value\": -0.023116999093838877}, \"116\": {\"effect\": -0.28445687890052795, \"value\": -0.05964191623110509}, \"117\": {\"effect\": -0.06807299703359604, \"value\": -0.020909096669173427}, \"119\": {\"effect\": 0.0004159121017437428, \"value\": -0.009854967311558795}, \"120\": {\"effect\": 0.13581153750419617, \"value\": -0.10198443124447305}, \"121\": {\"effect\": -8.289296238217503e-05, \"value\": -0.00696834502434851}, \"122\": {\"effect\": 0.008723660372197628, \"value\": -0.013937705262804648}, \"123\": {\"effect\": -0.00039235642179846764, \"value\": -0.04066467839854796}, \"124\": {\"effect\": 0.0004435064911376685, \"value\": -0.00696834502434851}, \"125\": {\"effect\": -2.5194015502929688, \"value\": -0.03623146127972773}, \"126\": {\"effect\": 0.08642212301492691, \"value\": -0.03117777193675747}, \"127\": {\"effect\": 0.0047475723549723625, \"value\": -0.020909096669173427}, \"128\": {\"effect\": 0.023599009960889816, \"value\": -0.025132048504158067}, \"129\": {\"effect\": 0.012258066795766354, \"value\": -0.022040658434832477}, \"130\": {\"effect\": 0.015383119694888592, \"value\": -0.026997462357801944}, \"131\": {\"effect\": 0.004235143307596445, \"value\": -0.012070113739631691}, \"132\": {\"effect\": -0.003980024252086878, \"value\": -0.019712806605252434}, \"133\": {\"effect\": 0.002409526612609625, \"value\": -0.023116999093838877}, \"134\": {\"effect\": -5.819459147460293e-06, \"value\": -0.006968345024348511}, \"135\": {\"effect\": 0.00020319368923082948, \"value\": -0.012070113739631691}, \"136\": {\"effect\": -0.004502772819250822, \"value\": -0.00696834502434851}, \"137\": {\"effect\": -2.4797143936157227, \"value\": -0.1886826607762315}, \"138\": {\"effect\": -2.118819236755371, \"value\": -0.01843919428171129}, \"139\": {\"effect\": 0.00038244423922151327, \"value\": -0.03486204494760774}, \"140\": {\"effect\": 0.005464917980134487, \"value\": -0.07327880162692985}, \"141\": {\"effect\": 0.0012432972434908152, \"value\": -0.006968345024348509}, \"142\": {\"effect\": 0.03378331661224365, \"value\": -0.03343687334843771}, \"143\": {\"effect\": 0.2955009639263153, \"value\": -0.034156858355659674}, \"144\": {\"effect\": -0.00048701619380153716, \"value\": -0.006968345024348509}, \"145\": {\"effect\": -0.001392933540046215, \"value\": -0.03038759466949996}, \"146\": {\"effect\": 0.12304703146219254, \"value\": -0.07623438836335344}, \"147\": {\"effect\": 0.0014533663634210825, \"value\": -0.015583206612078142}, \"148\": {\"effect\": 0.01057879626750946, \"value\": -0.057979221953303545}, \"149\": {\"effect\": 0.14827485382556915, \"value\": -0.04833329557296091}, \"150\": {\"effect\": 0.00045919642434455454, \"value\": -0.017070962109407107}, \"151\": {\"effect\": -0.08223387598991394, \"value\": -0.027883536677912595}, \"153\": {\"effect\": 0.038880378007888794, \"value\": -0.04574116084284559}, \"154\": {\"effect\": 0.00951081607490778, \"value\": -0.050311786495714904}, \"155\": {\"effect\": 0.012650537304580212, \"value\": -0.03689721115721411}, \"156\": {\"effect\": 1.3811190910928417e-05, \"value\": -0.01393770526280465}, \"157\": {\"effect\": -0.00020973989740014076, \"value\": -0.00696834502434851}, \"158\": {\"effect\": -3.6555113792419434, \"value\": -0.127413055247832}, \"159\": {\"effect\": -0.04212929308414459, \"value\": -0.018439194281711292}, \"160\": {\"effect\": 0.16577854752540588, \"value\": -0.08959362570584245}, \"161\": {\"effect\": -0.07039264589548111, \"value\": -0.028742390085918456}, \"162\": {\"effect\": 0.033333487808704376, \"value\": -0.03343687334843771}, \"163\": {\"effect\": -2.382479190826416, \"value\": -0.044113473457676106}, \"164\": {\"effect\": 3.048560392926447e-05, \"value\": -0.00696834502434851}, \"166\": {\"effect\": -0.00160698383115232, \"value\": -0.024145504608516333}, \"167\": {\"effect\": 0.0018313733162358403, \"value\": -0.062053631229461025}, \"168\": {\"effect\": 0.07720550894737244, \"value\": -0.060859544895466314}, \"170\": {\"effect\": 0.13047388195991516, \"value\": -0.06550738609503028}, \"171\": {\"effect\": 0.007989823818206787, \"value\": -0.04731333590377325}, \"172\": {\"effect\": -4.937173071084544e-05, \"value\": -0.009854967311558795}, \"173\": {\"effect\": -1.3617082834243774, \"value\": -0.057556147275081515}, \"174\": {\"effect\": -0.4124264121055603, \"value\": -0.22979656548130434}, \"175\": {\"effect\": -0.002056968165561557, \"value\": -0.012070113739631691}, \"176\": {\"effect\": 0.025433827191591263, \"value\": -0.020909096669173427}, \"177\": {\"effect\": 0.011128821410238743, \"value\": -0.03486204494760774}, \"178\": {\"effect\": -1.694280743598938, \"value\": -0.03343687334843771}, \"179\": {\"effect\": -0.027852443978190422, \"value\": -0.03270111247360886}, \"180\": {\"effect\": 0.02919994667172432, \"value\": -0.03038759466949996}, \"181\": {\"effect\": 0.00018314365297555923, \"value\": -0.00696834502434851}, \"182\": {\"effect\": 0.014444052241742611, \"value\": -0.04627110367999323}, \"183\": {\"effect\": -0.0005373183521442115, \"value\": -0.00696834502434851}, \"184\": {\"effect\": -0.00026183249428868294, \"value\": -0.015583206612078142}, \"185\": {\"effect\": -0.007348976098001003, \"value\": -0.012070113739631691}, \"186\": {\"effect\": 0.0014964854344725609, \"value\": -0.06126012093841809}, \"187\": {\"effect\": 0.007899112068116665, \"value\": -0.01843919428171129}, \"188\": {\"effect\": -0.2052989900112152, \"value\": -0.006968345024348511}, \"189\": {\"effect\": -0.12517884373664856, \"value\": -0.02608139289684282}, \"190\": {\"effect\": 0.0003923007461708039, \"value\": -0.020909096669173427}, \"191\": {\"effect\": -0.051508720964193344, \"value\": -0.022040658434832473}, \"192\": {\"effect\": 0.001181109924800694, \"value\": -0.028742390085918456}, \"193\": {\"effect\": 0.003047493752092123, \"value\": -0.02608139289684282}, \"194\": {\"effect\": -0.009028399363160133, \"value\": -0.015583206612078142}, \"195\": {\"effect\": -0.38498079776763916, \"value\": -0.048333295572960906}, \"196\": {\"effect\": -0.05833164602518082, \"value\": -0.028742390085918456}, \"197\": {\"effect\": -1.7276667356491089, \"value\": -0.024145504608516333}, \"198\": {\"effect\": -1.636144757270813, \"value\": -0.030387594669499963}, \"199\": {\"effect\": 0.003490801900625229, \"value\": -0.12442857902643012}, \"200\": {\"effect\": -0.40521255135536194, \"value\": -0.01971280660525243}, \"201\": {\"effect\": -0.00025815676781348884, \"value\": -0.026997462357801944}, \"202\": {\"effect\": -0.15725021064281464, \"value\": -0.03689721115721411}, \"203\": {\"effect\": 1.85781427717302e-05, \"value\": -0.00696834502434851}, \"204\": {\"effect\": -0.49154922366142273, \"value\": -0.053142929994721026}, \"205\": {\"effect\": 0.004474744666367769, \"value\": -0.020909096669173427}, \"206\": {\"effect\": -0.01135464757680893, \"value\": -0.023116999093838873}, \"207\": {\"effect\": -0.0003077102010138333, \"value\": -0.009854967311558795}, \"208\": {\"effect\": -0.019881077110767365, \"value\": -0.03343687334843771}, \"209\": {\"effect\": 0.07610699534416199, \"value\": -0.03486204494760774}, \"210\": {\"effect\": 0.0006830794154666364, \"value\": -0.02788353667791259}, \"211\": {\"effect\": -0.4278690218925476, \"value\": -0.07908204477030192}, \"212\": {\"effect\": -0.21004672348499298, \"value\": -0.023116999093838877}, \"213\": {\"effect\": -0.6978242993354797, \"value\": -0.020909096669173427}, \"214\": {\"effect\": 0.003289776388555765, \"value\": -0.015583206612078142}, \"216\": {\"effect\": 0.17402146756649017, \"value\": -0.062053631229461025}, \"217\": {\"effect\": 0.005706085357815027, \"value\": -0.026081392896842824}, \"218\": {\"effect\": 0.19447976350784302, \"value\": -0.06126012093841809}, \"219\": {\"effect\": 0.7404290437698364, \"value\": -0.08092616711378384}, \"220\": {\"effect\": 0.043789055198431015, \"value\": -0.04466257435831218}, \"221\": {\"effect\": 0.0008265993092209101, \"value\": -0.012070113739631691}, \"222\": {\"effect\": -0.32291239500045776, \"value\": -0.07361293027194359}, \"223\": {\"effect\": -0.0005596248083747923, \"value\": -0.02788353667791259}, \"224\": {\"effect\": 0.0002171751402784139, \"value\": -0.023116999093838873}, \"225\": {\"effect\": -0.0009520290186628699, \"value\": -0.017070962109407107}, \"226\": {\"effect\": -0.3152896761894226, \"value\": -0.1039112410293994}, \"227\": {\"effect\": 1.537977186671924e-05, \"value\": -0.015583206612078144}, \"228\": {\"effect\": 0.00022823092876933515, \"value\": -0.09802200841160999}, \"229\": {\"effect\": -0.7027120590209961, \"value\": -0.018439194281711292}, \"230\": {\"effect\": -0.0004452793800737709, \"value\": -0.018439194281711292}, \"231\": {\"effect\": -0.0012158917961642146, \"value\": -0.0562680939129468}, \"232\": {\"effect\": -0.0015743739204481244, \"value\": -0.01207011373963169}, \"233\": {\"effect\": -0.0013446018565446138, \"value\": -0.0522160921411644}, \"234\": {\"effect\": -0.5661166906356812, \"value\": -0.022040658434832477}, \"235\": {\"effect\": -0.02599475346505642, \"value\": -0.017070962109407107}, \"236\": {\"effect\": -4.565167910186574e-05, \"value\": -0.009854967311558795}, \"237\": {\"effect\": -0.0002935002848971635, \"value\": -0.02608139289684282}, \"238\": {\"effect\": -0.007537379860877991, \"value\": -0.05127268828854934}, \"239\": {\"effect\": 0.09141232818365097, \"value\": -0.05495024602144354}, \"240\": {\"effect\": 0.003814948257058859, \"value\": -0.03117777193675747}, \"241\": {\"effect\": -0.00013272529758978635, \"value\": -0.006968345024348509}, \"242\": {\"effect\": -0.0006604191730730236, \"value\": -0.03819409908559021}, \"244\": {\"effect\": 2.1227893739705905e-05, \"value\": -0.023116999093838877}, \"245\": {\"effect\": 0.003294781083241105, \"value\": -0.01207011373963169}, \"247\": {\"effect\": 0.013605942949652672, \"value\": -0.03486204494760774}, \"248\": {\"effect\": -0.042391058057546616, \"value\": -0.015583206612078142}, \"249\": {\"effect\": 0.13397721946239471, \"value\": -0.09363564080434394}, \"250\": {\"effect\": -0.010609307326376438, \"value\": -0.061260120938418094}, \"251\": {\"effect\": 0.006226157769560814, \"value\": -0.0778289754598654}, \"253\": {\"effect\": 0.03924557566642761, \"value\": -0.049824458205925515}, \"254\": {\"effect\": 0.027623558416962624, \"value\": -0.06126012093841809}, \"255\": {\"effect\": -0.01854676380753517, \"value\": -0.017070962109407103}, \"256\": {\"effect\": -0.01448227558284998, \"value\": -0.05539296944293054}, \"257\": {\"effect\": -0.0004617417580448091, \"value\": -0.026997462357801944}, \"258\": {\"effect\": 0.0064100888557732105, \"value\": -0.015583206612078142}, \"259\": {\"effect\": -0.012194850482046604, \"value\": -0.06771367799924875}, \"261\": {\"effect\": -0.7457379102706909, \"value\": -0.04066467839854796}, \"262\": {\"effect\": 0.004090292379260063, \"value\": -0.03486204494760774}, \"263\": {\"effect\": 0.04515134170651436, \"value\": -0.040061231220010526}, \"265\": {\"effect\": -0.014538920484483242, \"value\": -0.029576394049948232}, \"266\": {\"effect\": -0.11263332515954971, \"value\": -0.03117777193675747}, \"267\": {\"effect\": 0.037758104503154755, \"value\": -0.0522160921411644}, \"268\": {\"effect\": 0.11398564279079437, \"value\": -0.03819409908559021}, \"269\": {\"effect\": 0.00524624390527606, \"value\": -0.038194099085590204}, \"270\": {\"effect\": -0.2370947301387787, \"value\": -0.024145504608516333}, \"271\": {\"effect\": -1.055603265762329, \"value\": -0.04883536051350484}, \"272\": {\"effect\": 0.03300108760595322, \"value\": -0.0435575053870167}, \"273\": {\"effect\": 0.0007148897275328636, \"value\": -0.009854967311558795}, \"274\": {\"effect\": 0.0001508861023467034, \"value\": -0.03415685835565968}, \"275\": {\"effect\": 0.587246298789978, \"value\": -0.07526180358625878}, \"276\": {\"effect\": 0.005201585590839386, \"value\": -0.029576394049948232}, \"277\": {\"effect\": 0.0009447108022868633, \"value\": -0.009854967311558795}, \"278\": {\"effect\": -9.637989023758564e-06, \"value\": -0.03270111247360886}, \"279\": {\"effect\": 0.0002719242183957249, \"value\": -0.012070113739631691}, \"280\": {\"effect\": 0.004033200442790985, \"value\": -0.015583206612078144}, \"281\": {\"effect\": -8.83911779965274e-05, \"value\": -0.009854967311558795}, \"282\": {\"effect\": -0.0005702946218661964, \"value\": -0.006968345024348511}, \"284\": {\"effect\": -0.4055114686489105, \"value\": -0.023116999093838873}, \"285\": {\"effect\": 0.0009011986549012363, \"value\": -0.009854967311558795}, \"286\": {\"effect\": 0.007321301382035017, \"value\": -0.020909096669173427}, \"287\": {\"effect\": 0.0006793849752284586, \"value\": -0.012070113739631691}, \"288\": {\"effect\": -1.3998626470565796, \"value\": -0.12362130984370576}, \"289\": {\"effect\": -0.00667808810248971, \"value\": -0.01971280660525243}, \"290\": {\"effect\": -0.0001037559995893389, \"value\": -0.040061231220010526}, \"291\": {\"effect\": 0.031870197504758835, \"value\": -0.03689721115721411}, \"292\": {\"effect\": -0.00021153994021005929, \"value\": -0.042994403737420216}, \"293\": {\"effect\": 0.04063393920660019, \"value\": -0.026997462357801944}, \"294\": {\"effect\": 0.00020695896819233894, \"value\": -0.013937705262804648}, \"295\": {\"effect\": 0.3419530391693115, \"value\": -0.038194099085590204}, \"296\": {\"effect\": -0.022279245778918266, \"value\": -0.025132048504158067}, \"297\": {\"effect\": -1.7968595784623176e-05, \"value\": -0.006968345024348511}, \"298\": {\"effect\": 0.39100879430770874, \"value\": -0.05670065429066602}, \"299\": {\"effect\": 0.00266110897064209, \"value\": -0.02608139289684282}, \"300\": {\"effect\": -0.001366943004541099, \"value\": -0.017070962109407103}, \"301\": {\"effect\": -0.01175796426832676, \"value\": -0.01843919428171129}, \"302\": {\"effect\": 0.0016256287926808, \"value\": -0.017070962109407107}, \"303\": {\"effect\": 0.00023965479340404272, \"value\": -0.006968345024348509}, \"304\": {\"effect\": -0.649164080619812, \"value\": -0.14996772565111316}, \"305\": {\"effect\": 0.004937858320772648, \"value\": -0.036231461279727734}, \"306\": {\"effect\": 0.0037942759227007627, \"value\": -0.017070962109407103}, \"307\": {\"effect\": 0.0157212782651186, \"value\": -0.02699746235780194}, \"308\": {\"effect\": -0.29640400409698486, \"value\": -0.03486204494760774}, \"309\": {\"effect\": -0.14857672154903412, \"value\": -0.01971280660525243}, \"310\": {\"effect\": -0.0001848874380812049, \"value\": -0.0787706005080392}, \"311\": {\"effect\": 0.0027417470701038837, \"value\": -0.015583206612078144}, \"312\": {\"effect\": -0.01150133553892374, \"value\": -0.006968345024348511}, \"313\": {\"effect\": 0.052346136420965195, \"value\": -0.06165813327088379}, \"314\": {\"effect\": 0.03427682816982269, \"value\": -0.023116999093838877}, \"315\": {\"effect\": 0.0043604993261396885, \"value\": -0.01843919428171129}, \"316\": {\"effect\": -0.031087340787053108, \"value\": -0.020909096669173427}, \"317\": {\"effect\": 0.0009398692054674029, \"value\": -0.006968345024348511}, \"318\": {\"effect\": 0.000447493715910241, \"value\": -0.009854967311558795}, \"319\": {\"effect\": 0.07170508056879044, \"value\": -0.04574116084284559}, \"320\": {\"effect\": -0.0006658831844106317, \"value\": -0.01843919428171129}, \"321\": {\"effect\": 0.0002772238804027438, \"value\": -0.015583206612078144}, \"323\": {\"effect\": -0.00026533755590207875, \"value\": -0.03194848580316748}, \"324\": {\"effect\": 0.0057332259602844715, \"value\": -0.017070962109407107}, \"326\": {\"effect\": 1.1681816577911377, \"value\": -0.11803664960452812}, \"327\": {\"effect\": 0.18746893107891083, \"value\": -0.09776923610938038}, \"328\": {\"effect\": -0.03696611151099205, \"value\": -0.025132048504158067}, \"329\": {\"effect\": -0.0016562585951760411, \"value\": -0.02788353667791259}, \"330\": {\"effect\": 0.0019182126270607114, \"value\": -0.02788353667791259}, \"331\": {\"effect\": -0.13930383324623108, \"value\": -0.01971280660525243}, \"332\": {\"effect\": 0.00016155299090314656, \"value\": -0.012070113739631691}, \"333\": {\"effect\": 0.00020002314704470336, \"value\": -0.01393770526280465}, \"334\": {\"effect\": -5.686184158548713e-05, \"value\": -0.013937705262804648}, \"335\": {\"effect\": -0.11152012646198273, \"value\": -0.015583206612078142}, \"336\": {\"effect\": -0.0002264118375023827, \"value\": -0.03194848580316748}, \"337\": {\"effect\": -0.021727455779910088, \"value\": -0.00696834502434851}, \"338\": {\"effect\": -0.002932443283498287, \"value\": -0.020909096669173427}, \"339\": {\"effect\": -0.010484571568667889, \"value\": -0.024145504608516333}, \"340\": {\"effect\": -5.384078394854441e-05, \"value\": -0.034156858355659674}, \"341\": {\"effect\": -0.002297679428011179, \"value\": -0.02608139289684282}, \"342\": {\"effect\": 0.010715678334236145, \"value\": -0.020909096669173427}, \"343\": {\"effect\": 0.0016802777536213398, \"value\": -0.015583206612078142}, \"344\": {\"effect\": 0.036705199629068375, \"value\": -0.046795096130874764}, \"345\": {\"effect\": 0.0027135906275361776, \"value\": -0.019712806605252434}, \"346\": {\"effect\": -0.032083943486213684, \"value\": -0.01843919428171129}, \"347\": {\"effect\": -0.04959951713681221, \"value\": -0.020909096669173427}, \"348\": {\"effect\": -0.004227815195918083, \"value\": -0.015583206612078144}, \"349\": {\"effect\": 3.291753455414437e-05, \"value\": -0.00696834502434851}, \"350\": {\"effect\": -0.003631777362897992, \"value\": -0.023116999093838877}, \"351\": {\"effect\": 2.3175918613560498e-05, \"value\": -0.01843919428171129}, \"352\": {\"effect\": -0.0558801032602787, \"value\": -0.026081392896842824}, \"353\": {\"effect\": -0.0006230376311577857, \"value\": -0.009854967311558795}, \"354\": {\"effect\": -0.00064131646649912, \"value\": -0.017070962109407103}, \"355\": {\"effect\": 0.0011335251620039344, \"value\": -0.009854967311558795}, \"356\": {\"effect\": -3.181842475896701e-05, \"value\": -0.015583206612078144}, \"357\": {\"effect\": -0.001493192045018077, \"value\": -0.009854967311558795}, \"358\": {\"effect\": 0.05568744242191315, \"value\": -0.03194848580316748}, \"359\": {\"effect\": -0.014321569353342056, \"value\": -0.03415685835565968}, \"360\": {\"effect\": 0.6357160210609436, \"value\": -0.09014268498645156}, \"361\": {\"effect\": -0.16473741829395294, \"value\": -0.009854967311558795}, \"362\": {\"effect\": 0.0030719072092324495, \"value\": -0.006968345024348511}, \"363\": {\"effect\": -0.6647688746452332, \"value\": -0.017070962109407107}, \"364\": {\"effect\": -0.00976982619613409, \"value\": -0.07192710014909723}, \"365\": {\"effect\": 0.00475800596177578, \"value\": -0.025132048504158067}, \"366\": {\"effect\": 0.00023428497661370784, \"value\": -0.013937705262804648}, \"367\": {\"effect\": 0.001413980033248663, \"value\": -0.029576394049948232}, \"368\": {\"effect\": -0.1676250547170639, \"value\": -0.01843919428171129}, \"369\": {\"effect\": 0.396462619304657, \"value\": -0.09649581998049152}, \"370\": {\"effect\": -0.002358724595978856, \"value\": -0.018439194281711292}, \"371\": {\"effect\": 0.001756557496264577, \"value\": -0.020909096669173427}, \"372\": {\"effect\": 0.0003564936632756144, \"value\": -0.020909096669173427}, \"373\": {\"effect\": -0.00017135823145508766, \"value\": -0.03194848580316748}, \"374\": {\"effect\": 0.0009851589566096663, \"value\": -0.00696834502434851}, \"375\": {\"effect\": -0.0002711973793338984, \"value\": -0.028742390085918456}, \"377\": {\"effect\": 0.06333232671022415, \"value\": -0.025132048504158067}, \"378\": {\"effect\": 0.05354205518960953, \"value\": -0.04782601001331853}, \"379\": {\"effect\": 0.00453510507941246, \"value\": -0.03343687334843771}, \"380\": {\"effect\": 0.016709964722394943, \"value\": -0.04520505834156485}, \"381\": {\"effect\": 2.7357038561603986e-05, \"value\": -0.013937705262804648}, \"382\": {\"effect\": -0.005493456497788429, \"value\": -0.03117777193675747}, \"383\": {\"effect\": -0.006775803864002228, \"value\": -0.0787706005080392}, \"384\": {\"effect\": -0.022626806050539017, \"value\": -0.026997462357801944}, \"385\": {\"effect\": -5.43896239832975e-05, \"value\": -0.009854967311558795}, \"387\": {\"effect\": -0.0004939215141348541, \"value\": -0.012070113739631691}, \"388\": {\"effect\": 0.0013786122435703874, \"value\": -0.019712806605252438}, \"390\": {\"effect\": -0.0003944983473047614, \"value\": -0.009854967311558795}, \"391\": {\"effect\": 1.3354314432945102e-05, \"value\": -0.00696834502434851}, \"392\": {\"effect\": 0.008284679614007473, \"value\": -0.019712806605252434}, \"393\": {\"effect\": 4.779018854605965e-05, \"value\": -0.013937705262804648}, \"395\": {\"effect\": 0.0007682587020099163, \"value\": -0.00696834502434851}, \"396\": {\"effect\": 0.06788630038499832, \"value\": -0.044662574358312175}, \"397\": {\"effect\": 1.0752228263299912e-05, \"value\": -0.009854967311558795}, \"398\": {\"effect\": -0.8663250207901001, \"value\": -0.024145504608516333}, \"399\": {\"effect\": -0.17943349480628967, \"value\": -0.06879076240380526}, \"400\": {\"effect\": -0.370910108089447, \"value\": -0.020909096669173427}, \"401\": {\"effect\": -0.7469854950904846, \"value\": -0.01207011373963169}, \"402\": {\"effect\": 8.100496052065864e-05, \"value\": -0.01207011373963169}, \"403\": {\"effect\": -0.005513791460543871, \"value\": -0.028742390085918456}, \"404\": {\"effect\": -0.0003101130423601717, \"value\": -0.017070962109407107}, \"405\": {\"effect\": 0.011843151412904263, \"value\": -0.02608139289684282}, \"407\": {\"effect\": -0.0011023379629477859, \"value\": -0.03117777193675747}, \"408\": {\"effect\": 0.004227689001709223, \"value\": -0.01207011373963169}, \"409\": {\"effect\": -0.0016167061403393745, \"value\": -0.03689721115721411}, \"410\": {\"effect\": -0.41790470480918884, \"value\": -0.03415685835565968}, \"411\": {\"effect\": -1.658638596534729, \"value\": -0.07719500010256021}, \"412\": {\"effect\": 0.2794817388057709, \"value\": -0.12780604877483168}, \"413\": {\"effect\": 0.07777967303991318, \"value\": -0.15982885977161582}, \"414\": {\"effect\": 0.29655721783638, \"value\": -0.12013357423123096}, \"415\": {\"effect\": 1.1235674619674683, \"value\": -0.1343224148163511}, \"416\": {\"effect\": -1.8107244968414307, \"value\": -0.044113473457676106}, \"417\": {\"effect\": -1.9692109823226929, \"value\": -0.05079448627983822}, \"418\": {\"effect\": -0.2688947916030884, \"value\": -0.01971280660525243}, \"419\": {\"effect\": 0.04291365668177605, \"value\": -0.05670065429066602}, \"420\": {\"effect\": -4.26193380355835, \"value\": 0.3128466412636453}, \"421\": {\"effect\": -1.9228875637054443, \"value\": -0.2478584251081205}, \"422\": {\"effect\": -4.581881523132324, \"value\": -0.45131148586807146}, \"423\": {\"effect\": 50.15310287475586, \"value\": 1.1536055627800774}, \"424\": {\"effect\": 13.678604125976562, \"value\": 2.412371535199556}, \"425\": {\"effect\": 0.17526833713054657, \"value\": -0.10743481598466183}, \"426\": {\"effect\": -6.788761138916016, \"value\": -0.31629532161812496}, \"427\": {\"effect\": 0.22969017922878265, \"value\": -0.04833329557296091}, \"428\": {\"effect\": 0.05157293379306793, \"value\": -0.12034136952622451}, \"429\": {\"effect\": 0.5722233057022095, \"value\": -0.06949971778959768}, \"430\": {\"effect\": -6.737964630126953, \"value\": -0.10051610405530456}, \"431\": {\"effect\": 0.02673966996371746, \"value\": -0.08153184177921675}, \"432\": {\"effect\": -0.1664731800556183, \"value\": -0.06550738609503028}, \"433\": {\"effect\": -0.2649301588535309, \"value\": -0.25300426741547294}, \"434\": {\"effect\": -0.04525841772556305, \"value\": -0.11129938660294586}, \"435\": {\"effect\": 0.0444001629948616, \"value\": -0.07361293027194359}, \"436\": {\"effect\": 0.3167380094528198, \"value\": -0.12642556939446434}, \"437\": {\"effect\": 0.6950539946556091, \"value\": -0.09902689068973333}, \"438\": {\"effect\": 2.8130738735198975, \"value\": -0.11373334798653319}, \"439\": {\"effect\": 0.21096841990947723, \"value\": -0.09203942898617454}, \"440\": {\"effect\": 0.4540868401527405, \"value\": -0.07460653098818175}, \"441\": {\"effect\": -4.692467212677002, \"value\": -0.1266236435819216}, \"442\": {\"effect\": -0.0007489018025808036, \"value\": -0.03343687334843771}, \"443\": {\"effect\": -1.3545382022857666, \"value\": -0.29238657067234575}, \"444\": {\"effect\": -2.6601345539093018, \"value\": -0.11085139357428275}, \"445\": {\"effect\": 0.1918027251958847, \"value\": -0.14305166760855723}, \"446\": {\"effect\": -3.435162943787873e-05, \"value\": -0.07192710014909723}, \"447\": {\"effect\": 0.08465369790792465, \"value\": -0.07845795056798358}, \"448\": {\"effect\": -0.09437629580497742, \"value\": -0.08792653745955573}, \"449\": {\"effect\": 1.274693250656128, \"value\": -0.07623438836335344}, \"450\": {\"effect\": 0.012017960660159588, \"value\": -0.07394558155091945}, \"451\": {\"effect\": -0.023646589368581772, \"value\": -0.07908204477030192}, \"452\": {\"effect\": -0.10850683599710464, \"value\": -0.10926965951519223}, \"453\": {\"effect\": 0.05612519755959511, \"value\": -0.06165813327088379}, \"454\": {\"effect\": 0.08675289899110794, \"value\": -0.062053631229461025}, \"455\": {\"effect\": 0.010246358811855316, \"value\": -0.05712998129070161}, \"456\": {\"effect\": 0.09143306314945221, \"value\": -0.10026937724815202}, \"457\": {\"effect\": -0.8251200318336487, \"value\": -0.06165813327088379}, \"458\": {\"effect\": -1.165193796157837, \"value\": -0.0925744531874636}, \"459\": {\"effect\": -8.84627628326416, \"value\": -0.09203942898617455}, \"460\": {\"effect\": 0.40420544147491455, \"value\": -0.07327880162692986}, \"461\": {\"effect\": 0.11146948486566544, \"value\": -0.05495024602144354}, \"462\": {\"effect\": -1.0721888542175293, \"value\": -0.09284084815608458}, \"463\": {\"effect\": -0.23184597492218018, \"value\": -0.25343852750938733}, \"464\": {\"effect\": 0.7434884309768677, \"value\": -0.0862282316261013}, \"465\": {\"effect\": -11.210808753967285, \"value\": 0.8473299050357942}, \"466\": {\"effect\": -0.09796720743179321, \"value\": -0.15611549171859493}, \"467\": {\"effect\": -1.8948689699172974, \"value\": -0.4477997637205999}, \"468\": {\"effect\": -37.11684799194336, \"value\": -0.5043965553057076}, \"469\": {\"effect\": -2.1837174892425537, \"value\": -0.157739695054446}, \"470\": {\"effect\": -99.72486877441406, \"value\": -0.44576661492105213}, \"471\": {\"effect\": 0.08080749958753586, \"value\": -0.062053631229461025}, \"472\": {\"effect\": -0.3947170078754425, \"value\": -0.08183304215622429}, \"473\": {\"effect\": -0.8839514851570129, \"value\": -0.11285404121435219}, \"474\": {\"effect\": 1.5764557123184204, \"value\": -0.22673558594593274}, \"475\": {\"effect\": 0.0003026672056876123, \"value\": -0.02608139289684282}, \"476\": {\"effect\": -0.04958974942564964, \"value\": -0.08273023842017445}, \"477\": {\"effect\": -2.275014877319336, \"value\": -0.10835594133048385}, \"478\": {\"effect\": -0.5909687876701355, \"value\": -0.03944861420222886}, \"479\": {\"effect\": -0.05346484109759331, \"value\": -0.024145504608516333}, \"480\": {\"effect\": 0.0017311706906184554, \"value\": -0.015583206612078142}, \"481\": {\"effect\": -1.2459274530410767, \"value\": -0.08904128927971419}, \"482\": {\"effect\": 0.46602821350097656, \"value\": -0.19142539140657336}, \"483\": {\"effect\": 0.31512898206710815, \"value\": -0.10720335491276764}, \"484\": {\"effect\": 0.0017875086050480604, \"value\": -0.05923055821497987}, \"485\": {\"effect\": -0.09731432795524597, \"value\": -0.07055004837089349}, \"486\": {\"effect\": 0.31571006774902344, \"value\": -0.13148467330229296}, \"487\": {\"effect\": 0.12492267042398453, \"value\": -0.09337143572084178}, \"488\": {\"effect\": 0.45611920952796936, \"value\": -0.09123120855788702}, \"489\": {\"effect\": 0.5100926756858826, \"value\": -0.1278060487748317}, \"490\": {\"effect\": -1.214761734008789, \"value\": -0.07226734607596798}, \"491\": {\"effect\": -0.9459114670753479, \"value\": -0.11971696329358011}, \"492\": {\"effect\": 0.714634120464325, \"value\": -0.16856174838342328}, \"493\": {\"effect\": -0.6043590903282166, \"value\": -0.09902689068973333}, \"494\": {\"effect\": -0.00453434232622385, \"value\": -0.049332364235963384}, \"495\": {\"effect\": -0.09620644152164459, \"value\": -0.04466257435831218}, \"496\": {\"effect\": 0.6312209963798523, \"value\": -0.16502508435917856}, \"497\": {\"effect\": 0.6884020566940308, \"value\": -0.15282027766981954}, \"498\": {\"effect\": 0.5725599527359009, \"value\": -0.09852568141613882}, \"499\": {\"effect\": 0.31240785121917725, \"value\": -0.09852568141613884}, \"500\": {\"effect\": 0.5217000246047974, \"value\": -0.12075594856261458}, \"501\": {\"effect\": -0.5371211767196655, \"value\": -0.06879076240380526}, \"502\": {\"effect\": -2.3705761432647705, \"value\": -0.13091025575271256}, \"503\": {\"effect\": 0.0004965591360814869, \"value\": -0.03343687334843771}, \"504\": {\"effect\": -0.012504208832979202, \"value\": -0.03415685835565968}, \"505\": {\"effect\": -0.00028488438692875206, \"value\": -0.038194099085590204}, \"506\": {\"effect\": -0.8771340847015381, \"value\": -0.100269377248152}, \"507\": {\"effect\": -0.0485270619392395, \"value\": -0.038194099085590204}, \"508\": {\"effect\": -0.0013726549223065376, \"value\": -0.017070962109407103}, \"509\": {\"effect\": 0.35125213861465454, \"value\": -0.1497983883967422}, \"510\": {\"effect\": 0.5887845754623413, \"value\": -0.1331940697235713}, \"511\": {\"effect\": -0.47711706161499023, \"value\": -0.07460653098818175}, \"512\": {\"effect\": 0.5703613758087158, \"value\": -0.13929486333544697}, \"513\": {\"effect\": -0.006241433788090944, \"value\": -0.12341871749638757}, \"514\": {\"effect\": -36.154258728027344, \"value\": 10.864908778934431}, \"515\": {\"effect\": 1.1952704191207886, \"value\": -0.16932187280018196}, \"516\": {\"effect\": 0.9414925575256348, \"value\": -0.19467279044182448}, \"517\": {\"effect\": -0.39425915479660034, \"value\": -0.0647555480139423}, \"518\": {\"effect\": -0.028514863923192024, \"value\": -0.053600405838371924}, \"519\": {\"effect\": 0.07223710417747498, \"value\": -0.07192710014909723}, \"520\": {\"effect\": -0.6968328952789307, \"value\": -0.16486978160894297}, \"521\": {\"effect\": -0.3939434885978699, \"value\": -0.11460625061508303}, \"522\": {\"effect\": 0.00362795265391469, \"value\": -0.009854967311558795}, \"523\": {\"effect\": 0.2696622610092163, \"value\": -0.0972617955662797}, \"524\": {\"effect\": 7.62393856048584, \"value\": -0.8683948011730434}, \"525\": {\"effect\": 25.00540542602539, \"value\": -0.6313765055066537}, \"526\": {\"effect\": 21.656002044677734, \"value\": 1.3492442877050412}, \"527\": {\"effect\": -0.07749344408512115, \"value\": -0.15611549171859493}, \"528\": {\"effect\": -2.7698960304260254, \"value\": -0.4863800940798689}, \"529\": {\"effect\": 1.1187502145767212, \"value\": 0.2307045690860518}}, \"plot_cmap\": \"RdBu\", \"labelMargin\": 20}),\n",
              "    document.getElementById('iRV38SFK1MYPBCZSJMQYX')\n",
              "  );\n",
              "</script>"
            ]
          },
          "metadata": {},
          "execution_count": 23
        }
      ]
    },
    {
      "cell_type": "code",
      "source": [
        "# visualize all the training set predictions\n",
        "shap.plots.force(shap_values)"
      ],
      "metadata": {
        "colab": {
          "base_uri": "https://localhost:8080/"
        },
        "id": "Gta1j2R2E3l8",
        "outputId": "8c4302ae-4dfe-462e-eafb-c7d82ee9a5b1"
      },
      "execution_count": null,
      "outputs": [
        {
          "output_type": "stream",
          "name": "stderr",
          "text": [
            "shap.plots.force is slow for many thousands of rows, try subsampling your data.\n"
          ]
        }
      ]
    },
    {
      "cell_type": "code",
      "source": [
        "# summarize the effects of all the features\n",
        "shap.plots.beeswarm(shap_values)"
      ],
      "metadata": {
        "id": "YJrNJi2lEft5"
      },
      "execution_count": null,
      "outputs": []
    },
    {
      "cell_type": "code",
      "source": [
        "shap.plots.bar(shap_values)"
      ],
      "metadata": {
        "id": "UCQZgY5VE_Be"
      },
      "execution_count": null,
      "outputs": []
    }
  ]
}
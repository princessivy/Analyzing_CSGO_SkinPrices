{
  "nbformat": 4,
  "nbformat_minor": 0,
  "metadata": {
    "colab": {
      "name": "CSGO_ML-Model.ipynb",
      "provenance": [],
      "mount_file_id": "1I89Z9DQutS0Od7fxYmCbGs1vwpnMPb9U",
      "authorship_tag": "ABX9TyNo7kqry9nXAMSP8EcL/6vx",
      "include_colab_link": true
    },
    "kernelspec": {
      "name": "python3",
      "display_name": "Python 3"
    },
    "language_info": {
      "name": "python"
    }
  },
  "cells": [
    {
      "cell_type": "markdown",
      "metadata": {
        "id": "view-in-github",
        "colab_type": "text"
      },
      "source": [
        "<a href=\"https://colab.research.google.com/github/princessivy/Analyzing_CSGO_SkinPrices/blob/main/CSGO_ML_Model.ipynb\" target=\"_parent\"><img src=\"https://colab.research.google.com/assets/colab-badge.svg\" alt=\"Open In Colab\"/></a>"
      ]
    },
    {
      "cell_type": "markdown",
      "source": [
        "#Imports"
      ],
      "metadata": {
        "id": "YSKA4bKh_5qd"
      }
    },
    {
      "cell_type": "code",
      "source": [
        "import pandas as pd\n",
        "import numpy as np\n",
        "from google.colab import drive\n",
        "from pathlib import Path\n",
        "\n",
        "from xgboost import XGBRegressor\n",
        "from sklearn.model_selection import train_test_split\n",
        "import xgboost as xgb\n",
        "from sklearn.preprocessing import MinMaxScaler, StandardScaler\n",
        "from sklearn.model_selection import RandomizedSearchCV\n",
        "from sklearn.metrics import mean_absolute_error\n"
      ],
      "metadata": {
        "id": "u_Hlj5yp_6vx"
      },
      "execution_count": 77,
      "outputs": []
    },
    {
      "cell_type": "markdown",
      "source": [
        "# Daten einlesen"
      ],
      "metadata": {
        "id": "44xU8MtT__C6"
      }
    },
    {
      "cell_type": "code",
      "source": [
        "data = pd.read_csv(r'/content/drive/MyDrive/SA_BA/Data/allitems_ready_for_model.csv')"
      ],
      "metadata": {
        "id": "NIEs7H5z2kJA"
      },
      "execution_count": 78,
      "outputs": []
    },
    {
      "cell_type": "code",
      "source": [
        "data"
      ],
      "metadata": {
        "colab": {
          "base_uri": "https://localhost:8080/",
          "height": 557
        },
        "id": "MKrqFSCe2ygi",
        "outputId": "cee5c3de-bc76-4490-daf6-a68076101197"
      },
      "execution_count": 79,
      "outputs": [
        {
          "output_type": "execute_result",
          "data": {
            "text/plain": [
              "       salePrice  salePricelog  suggestedPrice  ext_Battle-Scarred  \\\n",
              "0         399.13      5.989287          397.21                   0   \n",
              "1         362.44      5.892859          442.03                   0   \n",
              "2         400.00      5.991465          397.21                   0   \n",
              "3         420.73      6.041991          397.21                   0   \n",
              "4         355.00      5.872118          397.21                   0   \n",
              "...          ...           ...             ...                 ...   \n",
              "27455      71.84      4.274441           70.72                   0   \n",
              "27456      73.42      4.296196           70.72                   0   \n",
              "27457      75.00      4.317488           70.72                   0   \n",
              "27458      75.00      4.317488           70.72                   0   \n",
              "27459      86.62      4.461531           70.72                   0   \n",
              "\n",
              "       ext_Factory New  ext_Field-Tested  ext_Minimal Wear  ext_Well-Worn  \\\n",
              "0                    1                 0                 0              0   \n",
              "1                    1                 0                 0              0   \n",
              "2                    1                 0                 0              0   \n",
              "3                    1                 0                 0              0   \n",
              "4                    1                 0                 0              0   \n",
              "...                ...               ...               ...            ...   \n",
              "27455                0                 1                 0              0   \n",
              "27456                0                 1                 0              0   \n",
              "27457                0                 1                 0              0   \n",
              "27458                0                 1                 0              0   \n",
              "27459                0                 1                 0              0   \n",
              "\n",
              "       rar_Classified  rar_Covert  ...  col_The Wildfire Collection  \\\n",
              "0                   0           1  ...                            0   \n",
              "1                   0           1  ...                            0   \n",
              "2                   0           1  ...                            0   \n",
              "3                   0           1  ...                            0   \n",
              "4                   0           1  ...                            0   \n",
              "...               ...         ...  ...                          ...   \n",
              "27455               0           0  ...                            0   \n",
              "27456               0           0  ...                            0   \n",
              "27457               0           0  ...                            0   \n",
              "27458               0           0  ...                            0   \n",
              "27459               0           0  ...                            0   \n",
              "\n",
              "       col_The Winter Offensive Collection  col_The X-Ray Collection  \\\n",
              "0                                        0                         0   \n",
              "1                                        0                         0   \n",
              "2                                        0                         0   \n",
              "3                                        0                         0   \n",
              "4                                        0                         0   \n",
              "...                                    ...                       ...   \n",
              "27455                                    0                         0   \n",
              "27456                                    0                         0   \n",
              "27457                                    0                         0   \n",
              "27458                                    0                         0   \n",
              "27459                                    0                         0   \n",
              "\n",
              "       col_The eSports 2014 Summer Collection  lock      wear  stickers  \\\n",
              "0                                           0     0  0.033243         0   \n",
              "1                                           0     1  0.025035         0   \n",
              "2                                           0     0  0.006977         0   \n",
              "3                                           0     0  0.006662         0   \n",
              "4                                           0     1  0.062841         0   \n",
              "...                                       ...   ...       ...       ...   \n",
              "27455                                       0     1  0.293997         0   \n",
              "27456                                       0     1  0.185491         0   \n",
              "27457                                       0     1  0.169524         0   \n",
              "27458                                       0     1  0.160716         0   \n",
              "27459                                       0     1  0.329445         0   \n",
              "\n",
              "       souvenir  stattrak  colorfulness  \n",
              "0             0         0     59.790243  \n",
              "1             0         1     57.181995  \n",
              "2             0         0     58.160273  \n",
              "3             0         0     58.489647  \n",
              "4             0         0     60.797777  \n",
              "...         ...       ...           ...  \n",
              "27455         0         0     10.935599  \n",
              "27456         0         0     10.850061  \n",
              "27457         0         0     10.913781  \n",
              "27458         0         0     10.794303  \n",
              "27459         0         0     10.900296  \n",
              "\n",
              "[27460 rows x 533 columns]"
            ],
            "text/html": [
              "\n",
              "  <div id=\"df-ca1f0bb5-0451-4230-b808-cde38ce9850f\">\n",
              "    <div class=\"colab-df-container\">\n",
              "      <div>\n",
              "<style scoped>\n",
              "    .dataframe tbody tr th:only-of-type {\n",
              "        vertical-align: middle;\n",
              "    }\n",
              "\n",
              "    .dataframe tbody tr th {\n",
              "        vertical-align: top;\n",
              "    }\n",
              "\n",
              "    .dataframe thead th {\n",
              "        text-align: right;\n",
              "    }\n",
              "</style>\n",
              "<table border=\"1\" class=\"dataframe\">\n",
              "  <thead>\n",
              "    <tr style=\"text-align: right;\">\n",
              "      <th></th>\n",
              "      <th>salePrice</th>\n",
              "      <th>salePricelog</th>\n",
              "      <th>suggestedPrice</th>\n",
              "      <th>ext_Battle-Scarred</th>\n",
              "      <th>ext_Factory New</th>\n",
              "      <th>ext_Field-Tested</th>\n",
              "      <th>ext_Minimal Wear</th>\n",
              "      <th>ext_Well-Worn</th>\n",
              "      <th>rar_Classified</th>\n",
              "      <th>rar_Covert</th>\n",
              "      <th>...</th>\n",
              "      <th>col_The Wildfire Collection</th>\n",
              "      <th>col_The Winter Offensive Collection</th>\n",
              "      <th>col_The X-Ray Collection</th>\n",
              "      <th>col_The eSports 2014 Summer Collection</th>\n",
              "      <th>lock</th>\n",
              "      <th>wear</th>\n",
              "      <th>stickers</th>\n",
              "      <th>souvenir</th>\n",
              "      <th>stattrak</th>\n",
              "      <th>colorfulness</th>\n",
              "    </tr>\n",
              "  </thead>\n",
              "  <tbody>\n",
              "    <tr>\n",
              "      <th>0</th>\n",
              "      <td>399.13</td>\n",
              "      <td>5.989287</td>\n",
              "      <td>397.21</td>\n",
              "      <td>0</td>\n",
              "      <td>1</td>\n",
              "      <td>0</td>\n",
              "      <td>0</td>\n",
              "      <td>0</td>\n",
              "      <td>0</td>\n",
              "      <td>1</td>\n",
              "      <td>...</td>\n",
              "      <td>0</td>\n",
              "      <td>0</td>\n",
              "      <td>0</td>\n",
              "      <td>0</td>\n",
              "      <td>0</td>\n",
              "      <td>0.033243</td>\n",
              "      <td>0</td>\n",
              "      <td>0</td>\n",
              "      <td>0</td>\n",
              "      <td>59.790243</td>\n",
              "    </tr>\n",
              "    <tr>\n",
              "      <th>1</th>\n",
              "      <td>362.44</td>\n",
              "      <td>5.892859</td>\n",
              "      <td>442.03</td>\n",
              "      <td>0</td>\n",
              "      <td>1</td>\n",
              "      <td>0</td>\n",
              "      <td>0</td>\n",
              "      <td>0</td>\n",
              "      <td>0</td>\n",
              "      <td>1</td>\n",
              "      <td>...</td>\n",
              "      <td>0</td>\n",
              "      <td>0</td>\n",
              "      <td>0</td>\n",
              "      <td>0</td>\n",
              "      <td>1</td>\n",
              "      <td>0.025035</td>\n",
              "      <td>0</td>\n",
              "      <td>0</td>\n",
              "      <td>1</td>\n",
              "      <td>57.181995</td>\n",
              "    </tr>\n",
              "    <tr>\n",
              "      <th>2</th>\n",
              "      <td>400.00</td>\n",
              "      <td>5.991465</td>\n",
              "      <td>397.21</td>\n",
              "      <td>0</td>\n",
              "      <td>1</td>\n",
              "      <td>0</td>\n",
              "      <td>0</td>\n",
              "      <td>0</td>\n",
              "      <td>0</td>\n",
              "      <td>1</td>\n",
              "      <td>...</td>\n",
              "      <td>0</td>\n",
              "      <td>0</td>\n",
              "      <td>0</td>\n",
              "      <td>0</td>\n",
              "      <td>0</td>\n",
              "      <td>0.006977</td>\n",
              "      <td>0</td>\n",
              "      <td>0</td>\n",
              "      <td>0</td>\n",
              "      <td>58.160273</td>\n",
              "    </tr>\n",
              "    <tr>\n",
              "      <th>3</th>\n",
              "      <td>420.73</td>\n",
              "      <td>6.041991</td>\n",
              "      <td>397.21</td>\n",
              "      <td>0</td>\n",
              "      <td>1</td>\n",
              "      <td>0</td>\n",
              "      <td>0</td>\n",
              "      <td>0</td>\n",
              "      <td>0</td>\n",
              "      <td>1</td>\n",
              "      <td>...</td>\n",
              "      <td>0</td>\n",
              "      <td>0</td>\n",
              "      <td>0</td>\n",
              "      <td>0</td>\n",
              "      <td>0</td>\n",
              "      <td>0.006662</td>\n",
              "      <td>0</td>\n",
              "      <td>0</td>\n",
              "      <td>0</td>\n",
              "      <td>58.489647</td>\n",
              "    </tr>\n",
              "    <tr>\n",
              "      <th>4</th>\n",
              "      <td>355.00</td>\n",
              "      <td>5.872118</td>\n",
              "      <td>397.21</td>\n",
              "      <td>0</td>\n",
              "      <td>1</td>\n",
              "      <td>0</td>\n",
              "      <td>0</td>\n",
              "      <td>0</td>\n",
              "      <td>0</td>\n",
              "      <td>1</td>\n",
              "      <td>...</td>\n",
              "      <td>0</td>\n",
              "      <td>0</td>\n",
              "      <td>0</td>\n",
              "      <td>0</td>\n",
              "      <td>1</td>\n",
              "      <td>0.062841</td>\n",
              "      <td>0</td>\n",
              "      <td>0</td>\n",
              "      <td>0</td>\n",
              "      <td>60.797777</td>\n",
              "    </tr>\n",
              "    <tr>\n",
              "      <th>...</th>\n",
              "      <td>...</td>\n",
              "      <td>...</td>\n",
              "      <td>...</td>\n",
              "      <td>...</td>\n",
              "      <td>...</td>\n",
              "      <td>...</td>\n",
              "      <td>...</td>\n",
              "      <td>...</td>\n",
              "      <td>...</td>\n",
              "      <td>...</td>\n",
              "      <td>...</td>\n",
              "      <td>...</td>\n",
              "      <td>...</td>\n",
              "      <td>...</td>\n",
              "      <td>...</td>\n",
              "      <td>...</td>\n",
              "      <td>...</td>\n",
              "      <td>...</td>\n",
              "      <td>...</td>\n",
              "      <td>...</td>\n",
              "      <td>...</td>\n",
              "    </tr>\n",
              "    <tr>\n",
              "      <th>27455</th>\n",
              "      <td>71.84</td>\n",
              "      <td>4.274441</td>\n",
              "      <td>70.72</td>\n",
              "      <td>0</td>\n",
              "      <td>0</td>\n",
              "      <td>1</td>\n",
              "      <td>0</td>\n",
              "      <td>0</td>\n",
              "      <td>0</td>\n",
              "      <td>0</td>\n",
              "      <td>...</td>\n",
              "      <td>0</td>\n",
              "      <td>0</td>\n",
              "      <td>0</td>\n",
              "      <td>0</td>\n",
              "      <td>1</td>\n",
              "      <td>0.293997</td>\n",
              "      <td>0</td>\n",
              "      <td>0</td>\n",
              "      <td>0</td>\n",
              "      <td>10.935599</td>\n",
              "    </tr>\n",
              "    <tr>\n",
              "      <th>27456</th>\n",
              "      <td>73.42</td>\n",
              "      <td>4.296196</td>\n",
              "      <td>70.72</td>\n",
              "      <td>0</td>\n",
              "      <td>0</td>\n",
              "      <td>1</td>\n",
              "      <td>0</td>\n",
              "      <td>0</td>\n",
              "      <td>0</td>\n",
              "      <td>0</td>\n",
              "      <td>...</td>\n",
              "      <td>0</td>\n",
              "      <td>0</td>\n",
              "      <td>0</td>\n",
              "      <td>0</td>\n",
              "      <td>1</td>\n",
              "      <td>0.185491</td>\n",
              "      <td>0</td>\n",
              "      <td>0</td>\n",
              "      <td>0</td>\n",
              "      <td>10.850061</td>\n",
              "    </tr>\n",
              "    <tr>\n",
              "      <th>27457</th>\n",
              "      <td>75.00</td>\n",
              "      <td>4.317488</td>\n",
              "      <td>70.72</td>\n",
              "      <td>0</td>\n",
              "      <td>0</td>\n",
              "      <td>1</td>\n",
              "      <td>0</td>\n",
              "      <td>0</td>\n",
              "      <td>0</td>\n",
              "      <td>0</td>\n",
              "      <td>...</td>\n",
              "      <td>0</td>\n",
              "      <td>0</td>\n",
              "      <td>0</td>\n",
              "      <td>0</td>\n",
              "      <td>1</td>\n",
              "      <td>0.169524</td>\n",
              "      <td>0</td>\n",
              "      <td>0</td>\n",
              "      <td>0</td>\n",
              "      <td>10.913781</td>\n",
              "    </tr>\n",
              "    <tr>\n",
              "      <th>27458</th>\n",
              "      <td>75.00</td>\n",
              "      <td>4.317488</td>\n",
              "      <td>70.72</td>\n",
              "      <td>0</td>\n",
              "      <td>0</td>\n",
              "      <td>1</td>\n",
              "      <td>0</td>\n",
              "      <td>0</td>\n",
              "      <td>0</td>\n",
              "      <td>0</td>\n",
              "      <td>...</td>\n",
              "      <td>0</td>\n",
              "      <td>0</td>\n",
              "      <td>0</td>\n",
              "      <td>0</td>\n",
              "      <td>1</td>\n",
              "      <td>0.160716</td>\n",
              "      <td>0</td>\n",
              "      <td>0</td>\n",
              "      <td>0</td>\n",
              "      <td>10.794303</td>\n",
              "    </tr>\n",
              "    <tr>\n",
              "      <th>27459</th>\n",
              "      <td>86.62</td>\n",
              "      <td>4.461531</td>\n",
              "      <td>70.72</td>\n",
              "      <td>0</td>\n",
              "      <td>0</td>\n",
              "      <td>1</td>\n",
              "      <td>0</td>\n",
              "      <td>0</td>\n",
              "      <td>0</td>\n",
              "      <td>0</td>\n",
              "      <td>...</td>\n",
              "      <td>0</td>\n",
              "      <td>0</td>\n",
              "      <td>0</td>\n",
              "      <td>0</td>\n",
              "      <td>1</td>\n",
              "      <td>0.329445</td>\n",
              "      <td>0</td>\n",
              "      <td>0</td>\n",
              "      <td>0</td>\n",
              "      <td>10.900296</td>\n",
              "    </tr>\n",
              "  </tbody>\n",
              "</table>\n",
              "<p>27460 rows × 533 columns</p>\n",
              "</div>\n",
              "      <button class=\"colab-df-convert\" onclick=\"convertToInteractive('df-ca1f0bb5-0451-4230-b808-cde38ce9850f')\"\n",
              "              title=\"Convert this dataframe to an interactive table.\"\n",
              "              style=\"display:none;\">\n",
              "        \n",
              "  <svg xmlns=\"http://www.w3.org/2000/svg\" height=\"24px\"viewBox=\"0 0 24 24\"\n",
              "       width=\"24px\">\n",
              "    <path d=\"M0 0h24v24H0V0z\" fill=\"none\"/>\n",
              "    <path d=\"M18.56 5.44l.94 2.06.94-2.06 2.06-.94-2.06-.94-.94-2.06-.94 2.06-2.06.94zm-11 1L8.5 8.5l.94-2.06 2.06-.94-2.06-.94L8.5 2.5l-.94 2.06-2.06.94zm10 10l.94 2.06.94-2.06 2.06-.94-2.06-.94-.94-2.06-.94 2.06-2.06.94z\"/><path d=\"M17.41 7.96l-1.37-1.37c-.4-.4-.92-.59-1.43-.59-.52 0-1.04.2-1.43.59L10.3 9.45l-7.72 7.72c-.78.78-.78 2.05 0 2.83L4 21.41c.39.39.9.59 1.41.59.51 0 1.02-.2 1.41-.59l7.78-7.78 2.81-2.81c.8-.78.8-2.07 0-2.86zM5.41 20L4 18.59l7.72-7.72 1.47 1.35L5.41 20z\"/>\n",
              "  </svg>\n",
              "      </button>\n",
              "      \n",
              "  <style>\n",
              "    .colab-df-container {\n",
              "      display:flex;\n",
              "      flex-wrap:wrap;\n",
              "      gap: 12px;\n",
              "    }\n",
              "\n",
              "    .colab-df-convert {\n",
              "      background-color: #E8F0FE;\n",
              "      border: none;\n",
              "      border-radius: 50%;\n",
              "      cursor: pointer;\n",
              "      display: none;\n",
              "      fill: #1967D2;\n",
              "      height: 32px;\n",
              "      padding: 0 0 0 0;\n",
              "      width: 32px;\n",
              "    }\n",
              "\n",
              "    .colab-df-convert:hover {\n",
              "      background-color: #E2EBFA;\n",
              "      box-shadow: 0px 1px 2px rgba(60, 64, 67, 0.3), 0px 1px 3px 1px rgba(60, 64, 67, 0.15);\n",
              "      fill: #174EA6;\n",
              "    }\n",
              "\n",
              "    [theme=dark] .colab-df-convert {\n",
              "      background-color: #3B4455;\n",
              "      fill: #D2E3FC;\n",
              "    }\n",
              "\n",
              "    [theme=dark] .colab-df-convert:hover {\n",
              "      background-color: #434B5C;\n",
              "      box-shadow: 0px 1px 3px 1px rgba(0, 0, 0, 0.15);\n",
              "      filter: drop-shadow(0px 1px 2px rgba(0, 0, 0, 0.3));\n",
              "      fill: #FFFFFF;\n",
              "    }\n",
              "  </style>\n",
              "\n",
              "      <script>\n",
              "        const buttonEl =\n",
              "          document.querySelector('#df-ca1f0bb5-0451-4230-b808-cde38ce9850f button.colab-df-convert');\n",
              "        buttonEl.style.display =\n",
              "          google.colab.kernel.accessAllowed ? 'block' : 'none';\n",
              "\n",
              "        async function convertToInteractive(key) {\n",
              "          const element = document.querySelector('#df-ca1f0bb5-0451-4230-b808-cde38ce9850f');\n",
              "          const dataTable =\n",
              "            await google.colab.kernel.invokeFunction('convertToInteractive',\n",
              "                                                     [key], {});\n",
              "          if (!dataTable) return;\n",
              "\n",
              "          const docLinkHtml = 'Like what you see? Visit the ' +\n",
              "            '<a target=\"_blank\" href=https://colab.research.google.com/notebooks/data_table.ipynb>data table notebook</a>'\n",
              "            + ' to learn more about interactive tables.';\n",
              "          element.innerHTML = '';\n",
              "          dataTable['output_type'] = 'display_data';\n",
              "          await google.colab.output.renderOutput(dataTable, element);\n",
              "          const docLink = document.createElement('div');\n",
              "          docLink.innerHTML = docLinkHtml;\n",
              "          element.appendChild(docLink);\n",
              "        }\n",
              "      </script>\n",
              "    </div>\n",
              "  </div>\n",
              "  "
            ]
          },
          "metadata": {},
          "execution_count": 79
        }
      ]
    },
    {
      "cell_type": "code",
      "source": [
        "data['suggestedPricelog'] = np.log(data['suggestedPrice'])"
      ],
      "metadata": {
        "id": "GtOnqqqE20vy"
      },
      "execution_count": 80,
      "outputs": []
    },
    {
      "cell_type": "markdown",
      "source": [
        "# Modell"
      ],
      "metadata": {
        "id": "DIPT7qP8AB-c"
      }
    },
    {
      "cell_type": "markdown",
      "source": [
        "## Splits"
      ],
      "metadata": {
        "id": "D9MOMlbkCJC_"
      }
    },
    {
      "cell_type": "code",
      "source": [
        "y = data['salePrice']\n",
        "X = data.drop(['salePrice', 'salePricelog'], 1)\n",
        "\n",
        "train_X, val_X, train_y, val_y = train_test_split(X, y, random_state = 0)"
      ],
      "metadata": {
        "colab": {
          "base_uri": "https://localhost:8080/"
        },
        "id": "EVA-GcY4_rOT",
        "outputId": "b67e59f4-b681-4b3b-f66f-8f5cd8a44747"
      },
      "execution_count": 82,
      "outputs": [
        {
          "output_type": "stream",
          "name": "stderr",
          "text": [
            "/usr/local/lib/python3.7/dist-packages/ipykernel_launcher.py:2: FutureWarning: In a future version of pandas all arguments of DataFrame.drop except for the argument 'labels' will be keyword-only\n",
            "  \n"
          ]
        }
      ]
    },
    {
      "cell_type": "code",
      "source": [
        "# suggestedPricelog sichern\n",
        "train_X_sugPr = train_X.copy()\n",
        "val_X_sugPr = val_X.copy()"
      ],
      "metadata": {
        "id": "YjD89T02Ajg5"
      },
      "execution_count": 83,
      "outputs": []
    },
    {
      "cell_type": "code",
      "source": [
        "# suggestedPricelog aus normalen Daten löschen\n",
        "train_X = train_X.drop(['suggestedPricelog', 'suggestedPrice'], 1)\n",
        "val_X = val_X.drop(['suggestedPricelog', 'suggestedPrice'], 1)"
      ],
      "metadata": {
        "colab": {
          "base_uri": "https://localhost:8080/"
        },
        "id": "L-uF_PDHAkJk",
        "outputId": "cd4178af-2040-4b53-ae4a-d4103f6441e3"
      },
      "execution_count": 84,
      "outputs": [
        {
          "output_type": "stream",
          "name": "stderr",
          "text": [
            "/usr/local/lib/python3.7/dist-packages/ipykernel_launcher.py:2: FutureWarning: In a future version of pandas all arguments of DataFrame.drop except for the argument 'labels' will be keyword-only\n",
            "  \n",
            "/usr/local/lib/python3.7/dist-packages/ipykernel_launcher.py:3: FutureWarning: In a future version of pandas all arguments of DataFrame.drop except for the argument 'labels' will be keyword-only\n",
            "  This is separate from the ipykernel package so we can avoid doing imports until\n"
          ]
        }
      ]
    },
    {
      "cell_type": "code",
      "source": [
        "print(train_X.shape)\n",
        "print(val_X.shape)"
      ],
      "metadata": {
        "colab": {
          "base_uri": "https://localhost:8080/"
        },
        "id": "G_-5mvdzBYAK",
        "outputId": "7f623c24-ca3a-4e3f-ae00-58c4bbf6e986"
      },
      "execution_count": 85,
      "outputs": [
        {
          "output_type": "stream",
          "name": "stdout",
          "text": [
            "(20595, 530)\n",
            "(6865, 530)\n"
          ]
        }
      ]
    },
    {
      "cell_type": "markdown",
      "source": [
        "## Modellaufbau"
      ],
      "metadata": {
        "id": "WBU7Tzp9CKah"
      }
    },
    {
      "cell_type": "code",
      "source": [
        "xg_reg = xgb.XGBRegressor(objective = 'reg:tweedie', booster='gblinear', eval_metric='tweedie-nloglik@1.2',tweedie_variance_power=1.1, random_state=42)"
      ],
      "metadata": {
        "id": "Rf7n0DlFBZF1"
      },
      "execution_count": 221,
      "outputs": []
    },
    {
      "cell_type": "code",
      "source": [
        "scaler = StandardScaler()"
      ],
      "metadata": {
        "id": "k06JzeQODP_Y"
      },
      "execution_count": 93,
      "outputs": []
    },
    {
      "cell_type": "code",
      "source": [
        "train_X_standardized = pd.DataFrame(scaler.fit_transform(train_X), columns=train_X.columns, index=train_X.index)\n",
        "val_X_standardized = pd.DataFrame(scaler.transform(val_X), columns=train_X.columns, index=val_X.index)"
      ],
      "metadata": {
        "id": "VeMjdxYdDkWF"
      },
      "execution_count": 94,
      "outputs": []
    },
    {
      "cell_type": "code",
      "source": [
        "xg_reg.fit(train_X_standardized, train_y)"
      ],
      "metadata": {
        "colab": {
          "base_uri": "https://localhost:8080/"
        },
        "id": "D70C_68GEX3B",
        "outputId": "367a2c32-bcf3-41c4-83e9-b9be1f344efa"
      },
      "execution_count": 222,
      "outputs": [
        {
          "output_type": "execute_result",
          "data": {
            "text/plain": [
              "XGBRegressor(booster='gblinear', eval_metric='tweedie-nloglik@1.2',\n",
              "             objective='reg:tweedie', random_state=42,\n",
              "             tweedie_variance_power=1.1)"
            ]
          },
          "metadata": {},
          "execution_count": 222
        }
      ]
    },
    {
      "cell_type": "code",
      "source": [
        "preds = xg_reg.predict(val_X_standardized)"
      ],
      "metadata": {
        "id": "SmQ_nD4REY36"
      },
      "execution_count": 223,
      "outputs": []
    },
    {
      "cell_type": "code",
      "source": [
        "mean_absolute_error(val_y, preds)"
      ],
      "metadata": {
        "colab": {
          "base_uri": "https://localhost:8080/"
        },
        "id": "h1vslRXTEz7S",
        "outputId": "af68a938-02e7-43c6-e808-15a4c4cff2a8"
      },
      "execution_count": 224,
      "outputs": [
        {
          "output_type": "execute_result",
          "data": {
            "text/plain": [
              "53.266328239625764"
            ]
          },
          "metadata": {},
          "execution_count": 224
        }
      ]
    },
    {
      "cell_type": "code",
      "source": [
        "score = xg_reg.score(val_X_standardized, val_y)\n",
        "score"
      ],
      "metadata": {
        "colab": {
          "base_uri": "https://localhost:8080/"
        },
        "id": "zG79ncCVV2js",
        "outputId": "2b9caec8-38c6-49b7-9305-95f667e450de"
      },
      "execution_count": 207,
      "outputs": [
        {
          "output_type": "execute_result",
          "data": {
            "text/plain": [
              "0.7347161859156056"
            ]
          },
          "metadata": {},
          "execution_count": 207
        }
      ]
    },
    {
      "cell_type": "code",
      "source": [
        "mean_absolute_error(val_y, val_X_sugPr['suggestedPrice'])"
      ],
      "metadata": {
        "colab": {
          "base_uri": "https://localhost:8080/"
        },
        "id": "N92M3ALoE6-T",
        "outputId": "d0601784-1f76-48f8-a49c-baf4189a0c57"
      },
      "execution_count": 59,
      "outputs": [
        {
          "output_type": "execute_result",
          "data": {
            "text/plain": [
              "37.41654916241806"
            ]
          },
          "metadata": {},
          "execution_count": 59
        }
      ]
    },
    {
      "cell_type": "markdown",
      "source": [
        "#### Hyperparametertuning mit Tree Booster"
      ],
      "metadata": {
        "id": "9iyURUOUTC-8"
      }
    },
    {
      "cell_type": "code",
      "source": [
        "xg_reg_tree = xgb.XGBRegressor(colsample_bytree=0.4, eval_metric='mae', gamma=0.0, max_depth=10, n_estimators=1100, objective='reg:squarederror', random_state=42, scale_pos_weight=50)"
      ],
      "metadata": {
        "id": "UjFuEQe5aB1p"
      },
      "execution_count": 243,
      "outputs": []
    },
    {
      "cell_type": "code",
      "source": [
        "scaler = StandardScaler()"
      ],
      "metadata": {
        "id": "sjDactu6aFg9"
      },
      "execution_count": 226,
      "outputs": []
    },
    {
      "cell_type": "code",
      "source": [
        "train_X_standardized = pd.DataFrame(scaler.fit_transform(train_X), columns=train_X.columns, index=train_X.index)\n",
        "val_X_standardized = pd.DataFrame(scaler.transform(val_X), columns=train_X.columns, index=val_X.index)"
      ],
      "metadata": {
        "id": "oZbe7HJXaGiL"
      },
      "execution_count": 227,
      "outputs": []
    },
    {
      "cell_type": "code",
      "source": [
        "xg_reg_tree.fit(train_X_standardized, train_y)"
      ],
      "metadata": {
        "colab": {
          "base_uri": "https://localhost:8080/"
        },
        "id": "RKiAVjM2aI59",
        "outputId": "72ecf56b-b198-4a09-d694-69720183ace2"
      },
      "execution_count": 244,
      "outputs": [
        {
          "output_type": "execute_result",
          "data": {
            "text/plain": [
              "XGBRegressor(colsample_bytree=0.4, eval_metric='mae', gamma=0.0, max_depth=10,\n",
              "             n_estimators=1100, objective='reg:squarederror', random_state=42,\n",
              "             scale_pos_weight=50)"
            ]
          },
          "metadata": {},
          "execution_count": 244
        }
      ]
    },
    {
      "cell_type": "code",
      "source": [
        "preds = xg_reg_tree.predict(val_X_standardized)"
      ],
      "metadata": {
        "id": "Aov24mYNaMnL"
      },
      "execution_count": 245,
      "outputs": []
    },
    {
      "cell_type": "code",
      "source": [
        "mean_absolute_error(val_y, preds)"
      ],
      "metadata": {
        "colab": {
          "base_uri": "https://localhost:8080/"
        },
        "id": "TDueMitQaQJ5",
        "outputId": "bcee8b91-470b-4f27-9a44-9cbe4fd10cb1"
      },
      "execution_count": 246,
      "outputs": [
        {
          "output_type": "execute_result",
          "data": {
            "text/plain": [
              "50.8626326763972"
            ]
          },
          "metadata": {},
          "execution_count": 246
        }
      ]
    },
    {
      "cell_type": "code",
      "source": [
        "score = xg_reg.score(val_X_standardized, val_y)\n",
        "score"
      ],
      "metadata": {
        "colab": {
          "base_uri": "https://localhost:8080/"
        },
        "id": "hOdxl9tJaTKh",
        "outputId": "eb3b2c0f-1154-4592-b8a8-da13fc98ea05"
      },
      "execution_count": 247,
      "outputs": [
        {
          "output_type": "execute_result",
          "data": {
            "text/plain": [
              "0.7487135764142672"
            ]
          },
          "metadata": {},
          "execution_count": 247
        }
      ]
    },
    {
      "cell_type": "code",
      "source": [
        "mean_absolute_error(val_y, val_X_sugPr['suggestedPrice'])"
      ],
      "metadata": {
        "colab": {
          "base_uri": "https://localhost:8080/"
        },
        "id": "_PXuFFxVaVYk",
        "outputId": "3df8970c-544b-455a-a540-6f23f5d4600b"
      },
      "execution_count": 232,
      "outputs": [
        {
          "output_type": "execute_result",
          "data": {
            "text/plain": [
              "37.41654916241806"
            ]
          },
          "metadata": {},
          "execution_count": 232
        }
      ]
    },
    {
      "cell_type": "code",
      "source": [
        "hyper_grid = {\n",
        "    'booster': ['gbtree', 'gblinear'],\n",
        "    'n_estimators': [100, 500, 900, 1100, 1500],\n",
        "    'learning_rate' : [0.05, 0.1, 0.2, 0.4, 0.6],\n",
        "    'gamma' : [0.0, 0.1, 0.2, 0.4, 0.7],\n",
        "    'max_depth': [2, 5, 7, 10],\n",
        "    'min_child_weight': [1, 3, 5, 8],\n",
        "    'colsample_bytree':[0.4, 0.5, 0.7, 0.8],\n",
        "    'scale_pos_weight':[1, 30, 50, 80, 90, 100]\n",
        "}"
      ],
      "metadata": {
        "id": "jkXpnFVBHftW"
      },
      "execution_count": 238,
      "outputs": []
    },
    {
      "cell_type": "code",
      "source": [
        "random_cv = RandomizedSearchCV(estimator=xg_reg_tree,\n",
        "            param_distributions=hyper_grid,\n",
        "            cv=5, n_iter=10,\n",
        "            scoring = 'neg_mean_absolute_error',n_jobs = -1,\n",
        "            verbose = 3, \n",
        "            return_train_score = True,\n",
        "            random_state=42)"
      ],
      "metadata": {
        "id": "Tldp6b6vI0m_"
      },
      "execution_count": 239,
      "outputs": []
    },
    {
      "cell_type": "code",
      "source": [
        "random_cv.fit(train_X_standardized, train_y)"
      ],
      "metadata": {
        "colab": {
          "base_uri": "https://localhost:8080/"
        },
        "id": "YrUdrK4PfDkN",
        "outputId": "4bdaf1c6-8546-477d-f6b6-eda209057cc4"
      },
      "execution_count": 240,
      "outputs": [
        {
          "output_type": "stream",
          "name": "stdout",
          "text": [
            "Fitting 5 folds for each of 10 candidates, totalling 50 fits\n"
          ]
        },
        {
          "output_type": "execute_result",
          "data": {
            "text/plain": [
              "RandomizedSearchCV(cv=5,\n",
              "                   estimator=XGBRegressor(eval_metric='mae',\n",
              "                                          objective='reg:squarederror',\n",
              "                                          random_state=42),\n",
              "                   n_jobs=-1,\n",
              "                   param_distributions={'booster': ['gbtree', 'gblinear'],\n",
              "                                        'colsample_bytree': [0.4, 0.5, 0.7,\n",
              "                                                             0.8],\n",
              "                                        'gamma': [0.0, 0.1, 0.2, 0.4, 0.7],\n",
              "                                        'learning_rate': [0.05, 0.1, 0.2, 0.4,\n",
              "                                                          0.6],\n",
              "                                        'max_depth': [2, 5, 7, 10],\n",
              "                                        'min_child_weight': [1, 3, 5, 8],\n",
              "                                        'n_estimators': [100, 500, 900, 1100,\n",
              "                                                         1500],\n",
              "                                        'scale_pos_weight': [1, 30, 50, 80, 90,\n",
              "                                                             100]},\n",
              "                   random_state=42, return_train_score=True,\n",
              "                   scoring='neg_mean_absolute_error', verbose=3)"
            ]
          },
          "metadata": {},
          "execution_count": 240
        }
      ]
    },
    {
      "cell_type": "code",
      "source": [
        "random_cv.best_estimator_"
      ],
      "metadata": {
        "colab": {
          "base_uri": "https://localhost:8080/"
        },
        "id": "Rmjm2hazfKlc",
        "outputId": "477058f4-6e58-486f-966c-bc9b1909565a"
      },
      "execution_count": 241,
      "outputs": [
        {
          "output_type": "execute_result",
          "data": {
            "text/plain": [
              "XGBRegressor(colsample_bytree=0.4, eval_metric='mae', gamma=0.0, max_depth=10,\n",
              "             n_estimators=1100, objective='reg:squarederror', random_state=42,\n",
              "             scale_pos_weight=50)"
            ]
          },
          "metadata": {},
          "execution_count": 241
        }
      ]
    },
    {
      "cell_type": "code",
      "source": [
        "random_cv.best_params_"
      ],
      "metadata": {
        "colab": {
          "base_uri": "https://localhost:8080/"
        },
        "id": "B_i7t6DSfKyA",
        "outputId": "4c11eb00-4686-473a-da65-6203c53de0b4"
      },
      "execution_count": 242,
      "outputs": [
        {
          "output_type": "execute_result",
          "data": {
            "text/plain": [
              "{'booster': 'gbtree',\n",
              " 'colsample_bytree': 0.4,\n",
              " 'gamma': 0.0,\n",
              " 'learning_rate': 0.1,\n",
              " 'max_depth': 10,\n",
              " 'min_child_weight': 1,\n",
              " 'n_estimators': 1100,\n",
              " 'scale_pos_weight': 50}"
            ]
          },
          "metadata": {},
          "execution_count": 242
        }
      ]
    },
    {
      "cell_type": "markdown",
      "source": [
        "#### Ergebnisse mit unterschiedlichen XGB-Parametern:\n",
        "* xgb.XGBRegressor(objective = 'reg:squarederror', booster='gblinear', reg_lambda=1, updater='coord_descent', random_state=42)\n",
        "  * MAE: 101,72\n",
        "* xgb.XGBRegressor(objective = 'reg:squarederror', booster='gbtree', random_state=42)\n",
        "  * MAE: 104,70\n",
        "* xgb.XGBRegressor(objective = 'reg:gamma', booster='gblinear', random_state=42)\n",
        "  * MAE: 88,79\n",
        "* xgb.XGBRegressor(objective = 'reg:tweedie', booster='gblinear', eval_metric='rmse', random_state=42)\n",
        "  * MAE: 56,44\n",
        "* xgb.XGBRegressor(objective = 'reg:tweedie', booster='gblinear', eval_metric='mae', random_state=42)\n",
        "  * MAE: 56,44\n",
        "* xgb.XGBRegressor(objective = 'reg:tweedie', booster='gblinear', eval_metric='tweedie-nloglik@1.2', random_state=42)\n",
        "  * MAE: 56,44\n",
        "* xgb.XGBRegressor(objective = 'reg:tweedie', booster='gblinear', eval_metric='tweedie-nloglik@1.2',tweedie_variance_power=1.4, random_state=42)\n",
        "  * MAE:70,06\n",
        "* xgb.XGBRegressor(objective = 'reg:tweedie', booster='gblinear', eval_metric='tweedie-nloglik@1.2',tweedie_variance_power=1.4, random_state=42)\n",
        "  * MAE: 55,02\n",
        "* xgb.XGBRegressor(objective = 'reg:tweedie', booster='gblinear', eval_metric='tweedie-nloglik@1.2',tweedie_variance_power=1.3, random_state=42)\n",
        "  * MAE: 53,95\n",
        "* xgb.XGBRegressor(objective = 'reg:tweedie', booster='gblinear', eval_metric='tweedie-nloglik@1.2',tweedie_variance_power=1.1, random_state=42)\n",
        "  * MAE: 53,27\n",
        "\n",
        "**Mit Hyperparametertuning:**\n",
        "* xgb.XGBRegressor(colsample_bytree=0.4, eval_metric='mae', gamma=0.0, max_depth=10, n_estimators=1100, objective='reg:squarederror', random_state=42, scale_pos_weight=50)\n",
        "  * MAE: 50,86"
      ],
      "metadata": {
        "id": "Pk8rCINQRndY"
      }
    }
  ]
}
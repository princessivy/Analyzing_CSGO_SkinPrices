{
  "nbformat": 4,
  "nbformat_minor": 0,
  "metadata": {
    "colab": {
      "name": "CSGO_ML-Model.ipynb",
      "provenance": [],
      "mount_file_id": "1I89Z9DQutS0Od7fxYmCbGs1vwpnMPb9U",
      "authorship_tag": "ABX9TyNUMU8rPXX+SGjPPjJiWwzw",
      "include_colab_link": true
    },
    "kernelspec": {
      "name": "python3",
      "display_name": "Python 3"
    },
    "language_info": {
      "name": "python"
    }
  },
  "cells": [
    {
      "cell_type": "markdown",
      "metadata": {
        "id": "view-in-github",
        "colab_type": "text"
      },
      "source": [
        "<a href=\"https://colab.research.google.com/github/princessivy/Analyzing_CSGO_SkinPrices/blob/main/CSGO_ML_Model.ipynb\" target=\"_parent\"><img src=\"https://colab.research.google.com/assets/colab-badge.svg\" alt=\"Open In Colab\"/></a>"
      ]
    },
    {
      "cell_type": "markdown",
      "source": [
        "# Imports"
      ],
      "metadata": {
        "id": "cZGfkayVWQ9T"
      }
    },
    {
      "cell_type": "code",
      "source": [
        "!pip install category_encoders --quiet"
      ],
      "metadata": {
        "colab": {
          "base_uri": "https://localhost:8080/"
        },
        "id": "PffA4_ZnWdbG",
        "outputId": "bd2e50f7-195f-4ae2-bac9-a634ee569dfe"
      },
      "execution_count": 1,
      "outputs": [
        {
          "output_type": "stream",
          "name": "stdout",
          "text": [
            "\u001b[?25l\r\u001b[K     |███▉                            | 10 kB 14.2 MB/s eta 0:00:01\r\u001b[K     |███████▋                        | 20 kB 17.8 MB/s eta 0:00:01\r\u001b[K     |███████████▍                    | 30 kB 11.7 MB/s eta 0:00:01\r\u001b[K     |███████████████▏                | 40 kB 9.6 MB/s eta 0:00:01\r\u001b[K     |███████████████████             | 51 kB 5.6 MB/s eta 0:00:01\r\u001b[K     |██████████████████████▊         | 61 kB 6.5 MB/s eta 0:00:01\r\u001b[K     |██████████████████████████▌     | 71 kB 7.4 MB/s eta 0:00:01\r\u001b[K     |██████████████████████████████▎ | 81 kB 8.2 MB/s eta 0:00:01\r\u001b[K     |████████████████████████████████| 86 kB 2.3 MB/s \n",
            "\u001b[?25h"
          ]
        }
      ]
    },
    {
      "cell_type": "code",
      "execution_count": 1,
      "metadata": {
        "colab": {
          "base_uri": "https://localhost:8080/",
          "height": 105
        },
        "id": "DvsAQxcqWCxa",
        "outputId": "ce8eabae-7a27-4705-9ef3-3b598202aeab"
      },
      "outputs": [
        {
          "output_type": "execute_result",
          "data": {
            "text/plain": [
              "'\\nfrom sklearn.linear_model import LinearRegression\\nfrom sklearn.linear_model import LinearRegression\\nfrom sklearn.model_selection import train_test_split\\nfrom sklearn import metrics\\nfrom sklearn.compose import ColumnTransformer\\nfrom sklearn.pipeline import Pipeline\\nfrom sklearn.impute import SimpleImputer\\nfrom sklearn import preprocessing\\nfrom sklearn.preprocessing import MinMaxScaler, StandardScaler\\nfrom sklearn.preprocessing import OneHotEncoder\\nfrom sklearn.preprocessing import LabelEncoder\\nfrom category_encoders import TargetEncoder\\nfrom category_encoders import CatBoostEncoder\\nfrom category_encoders import CountEncoder\\nimport xgboost as xgb\\nfrom sklearn.metrics import mean_absolute_error'"
            ],
            "application/vnd.google.colaboratory.intrinsic+json": {
              "type": "string"
            }
          },
          "metadata": {},
          "execution_count": 1
        }
      ],
      "source": [
        "import pandas as pd\n",
        "import numpy as np\n",
        "from google.colab import drive\n",
        "from pathlib import Path\n",
        "\n",
        "'''\n",
        "from sklearn.linear_model import LinearRegression\n",
        "from sklearn.linear_model import LinearRegression\n",
        "from sklearn.model_selection import train_test_split\n",
        "from sklearn import metrics\n",
        "from sklearn.compose import ColumnTransformer\n",
        "from sklearn.pipeline import Pipeline\n",
        "from sklearn.impute import SimpleImputer\n",
        "from sklearn import preprocessing\n",
        "from sklearn.preprocessing import MinMaxScaler, StandardScaler\n",
        "from sklearn.preprocessing import OneHotEncoder\n",
        "from sklearn.preprocessing import LabelEncoder\n",
        "from category_encoders import TargetEncoder\n",
        "from category_encoders import CatBoostEncoder\n",
        "from category_encoders import CountEncoder\n",
        "import xgboost as xgb\n",
        "from sklearn.metrics import mean_absolute_error'''"
      ]
    },
    {
      "cell_type": "markdown",
      "source": [
        "# Daten einlesen"
      ],
      "metadata": {
        "id": "duKSKYqtWU97"
      }
    },
    {
      "cell_type": "code",
      "source": [
        "data = pd.read_csv(r'/content/drive/MyDrive/SA_BA/Data/allitems_cleaned_4.csv')"
      ],
      "metadata": {
        "id": "XY3e-WpCWVp_"
      },
      "execution_count": 4,
      "outputs": []
    },
    {
      "cell_type": "code",
      "source": [
        "y = data['salePrice']\n",
        "X = data.drop('salePrice', 1)\n",
        "\n",
        "train_X, val_X, train_y, val_y = train_test_split(X, y, random_state = 0)"
      ],
      "metadata": {
        "colab": {
          "base_uri": "https://localhost:8080/"
        },
        "id": "gk0TvjkzWn0P",
        "outputId": "5e441fad-80fc-44db-8d3e-2f19ea02cc56"
      },
      "execution_count": 5,
      "outputs": [
        {
          "output_type": "stream",
          "name": "stderr",
          "text": [
            "/usr/local/lib/python3.7/dist-packages/ipykernel_launcher.py:2: FutureWarning: In a future version of pandas all arguments of DataFrame.drop except for the argument 'labels' will be keyword-only\n",
            "  \n"
          ]
        }
      ]
    },
    {
      "cell_type": "code",
      "source": [
        "model = LinearRegression()"
      ],
      "metadata": {
        "id": "K15AunrRW76F"
      },
      "execution_count": 6,
      "outputs": []
    },
    {
      "cell_type": "markdown",
      "source": [
        "#### CatBoostEncoder"
      ],
      "metadata": {
        "id": "D2CmiIwmW3Op"
      }
    },
    {
      "cell_type": "code",
      "source": [
        "column_trans = ColumnTransformer(transformers=[\n",
        "        ('scaler', StandardScaler(), ['lock', 'wear', 'exterior', 'rarity', 'stickers', 'souvenir', 'stattrak', 'colorfulness', 'cats_colorfulness']),\n",
        "        ('targ', CatBoostEncoder(), ['family', 'version', 'subCategory']),\n",
        "        ('ohe', OneHotEncoder(handle_unknown='ignore'), ['category', 'quality', 'collection'])], remainder = 'drop', verbose_feature_names_out=False)\n",
        "\n",
        "pipeline = Pipeline(steps=[('t', column_trans), ('m',model)])\n",
        "\n",
        "pipeline.fit(train_X, train_y.ravel())\n",
        "\n",
        "score = pipeline.score(val_X, val_y.ravel())\n",
        "score"
      ],
      "metadata": {
        "colab": {
          "base_uri": "https://localhost:8080/"
        },
        "id": "AtvZEDIRW05T",
        "outputId": "1511bd75-6e18-45df-c228-1c606162a7f3"
      },
      "execution_count": 7,
      "outputs": [
        {
          "output_type": "execute_result",
          "data": {
            "text/plain": [
              "0.5491667607874895"
            ]
          },
          "metadata": {},
          "execution_count": 7
        }
      ]
    },
    {
      "cell_type": "markdown",
      "source": [
        "#### TargetEncoder"
      ],
      "metadata": {
        "id": "SxKpDZYEXCN-"
      }
    },
    {
      "cell_type": "code",
      "source": [
        "column_trans = ColumnTransformer(transformers=[\n",
        "        ('scaler', StandardScaler(), ['lock', 'wear', 'exterior', 'rarity', 'stickers', 'souvenir', 'stattrak', 'colorfulness', 'cats_colorfulness']),\n",
        "        ('targ', TargetEncoder(), ['family', 'version', 'subCategory']),\n",
        "        ('ohe', OneHotEncoder(handle_unknown='ignore'), ['category', 'quality', 'collection'])], remainder = 'drop', verbose_feature_names_out=False)\n",
        "\n",
        "pipeline = Pipeline(steps=[('t', column_trans), ('m',model)])\n",
        "\n",
        "pipeline.fit(train_X, train_y.ravel())\n",
        "\n",
        "score = pipeline.score(val_X, val_y.ravel())\n",
        "score"
      ],
      "metadata": {
        "colab": {
          "base_uri": "https://localhost:8080/"
        },
        "id": "a_fEAf9mW_yb",
        "outputId": "17f59d02-881b-4c52-a5a6-593f1002ebe7"
      },
      "execution_count": 8,
      "outputs": [
        {
          "output_type": "execute_result",
          "data": {
            "text/plain": [
              "0.5559585889347987"
            ]
          },
          "metadata": {},
          "execution_count": 8
        }
      ]
    },
    {
      "cell_type": "markdown",
      "source": [
        "#### CountEncoder"
      ],
      "metadata": {
        "id": "d3yukn4IXF2c"
      }
    },
    {
      "cell_type": "code",
      "source": [
        "column_trans = ColumnTransformer(transformers=[\n",
        "        ('scaler', StandardScaler(), ['lock', 'wear', 'exterior', 'rarity', 'stickers', 'souvenir', 'stattrak', 'colorfulness', 'cats_colorfulness']),\n",
        "        ('targ', CountEncoder(), ['family', 'version', 'subCategory']),\n",
        "        ('ohe', OneHotEncoder(handle_unknown='ignore'), ['category', 'quality', 'collection'])], remainder = 'drop', verbose_feature_names_out=False)\n",
        "\n",
        "pipeline = Pipeline(steps=[('t', column_trans), ('m',model)])\n",
        "\n",
        "pipeline.fit(train_X, train_y.ravel())\n",
        "\n",
        "score = pipeline.score(val_X, val_y.ravel())\n",
        "score"
      ],
      "metadata": {
        "colab": {
          "base_uri": "https://localhost:8080/"
        },
        "id": "WOmaScAfXEzL",
        "outputId": "f9baeffa-f961-48c9-a05a-fbac17b65514"
      },
      "execution_count": 9,
      "outputs": [
        {
          "output_type": "execute_result",
          "data": {
            "text/plain": [
              "0.23805258300534304"
            ]
          },
          "metadata": {},
          "execution_count": 9
        }
      ]
    },
    {
      "cell_type": "markdown",
      "source": [
        "#### OneHotEncoder"
      ],
      "metadata": {
        "id": "NLJfzXqOXLYX"
      }
    },
    {
      "cell_type": "markdown",
      "source": [
        "StandardScaler vs. MinMaxScaler"
      ],
      "metadata": {
        "id": "UVu7wcovXOBk"
      }
    },
    {
      "cell_type": "code",
      "source": [
        "# StandardScaler\n",
        "column_trans = ColumnTransformer(transformers=[\n",
        "        ('scaler', StandardScaler(), ['lock', 'wear', 'exterior', 'rarity', 'stickers', 'souvenir', 'stattrak', 'colorfulness', 'cats_colorfulness']),\n",
        "        ('ohe', OneHotEncoder(handle_unknown='ignore'), ['family', 'version', 'subCategory','category', 'quality', 'collection'])], remainder = 'drop', verbose_feature_names_out=False)\n",
        "\n",
        "pipeline = Pipeline(steps=[('t', column_trans), ('m',model)])\n",
        "\n",
        "pipeline.fit(train_X, train_y)\n",
        "\n",
        "score = pipeline.score(val_X, val_y.ravel())\n",
        "score"
      ],
      "metadata": {
        "colab": {
          "base_uri": "https://localhost:8080/"
        },
        "id": "HdU8ePi_XI_0",
        "outputId": "4fef4837-7f10-433e-e930-b7be37b872d4"
      },
      "execution_count": 11,
      "outputs": [
        {
          "output_type": "execute_result",
          "data": {
            "text/plain": [
              "0.61777241341272"
            ]
          },
          "metadata": {},
          "execution_count": 11
        }
      ]
    },
    {
      "cell_type": "code",
      "source": [
        "# MinMaxScaler\n",
        "column_trans = ColumnTransformer(transformers=[\n",
        "        ('scaler', MinMaxScaler(), ['lock', 'wear', 'exterior', 'rarity', 'stickers', 'souvenir', 'stattrak', 'colorfulness', 'cats_colorfulness']),\n",
        "        ('ohe', OneHotEncoder(handle_unknown='ignore'), ['family', 'version', 'subCategory','category', 'quality', 'collection'])], remainder = 'drop', verbose_feature_names_out=False)\n",
        "\n",
        "pipeline = Pipeline(steps=[('t', column_trans), ('m',model)])\n",
        "\n",
        "pipeline.fit(train_X, train_y)\n",
        "\n",
        "score = pipeline.score(val_X, val_y.ravel())\n",
        "score"
      ],
      "metadata": {
        "colab": {
          "base_uri": "https://localhost:8080/"
        },
        "id": "cxHU-u8LXRFn",
        "outputId": "f0aa46b8-cc4d-409a-97c0-66f20d30bf3d"
      },
      "execution_count": 12,
      "outputs": [
        {
          "output_type": "execute_result",
          "data": {
            "text/plain": [
              "0.6177718992039558"
            ]
          },
          "metadata": {},
          "execution_count": 12
        }
      ]
    },
    {
      "cell_type": "markdown",
      "source": [
        "#### Ohne Pipe"
      ],
      "metadata": {
        "id": "PtF69E47Xe6k"
      }
    },
    {
      "cell_type": "code",
      "source": [
        "data.columns"
      ],
      "metadata": {
        "colab": {
          "base_uri": "https://localhost:8080/"
        },
        "id": "IrjD7O1FXYf4",
        "outputId": "5c59ddb4-dc2c-4af5-dd8c-64c63110db7e"
      },
      "execution_count": 13,
      "outputs": [
        {
          "output_type": "execute_result",
          "data": {
            "text/plain": [
              "Index(['family', 'lock', 'version', 'salePrice', 'category', 'subCategory',\n",
              "       'pattern', 'wear', 'exterior', 'quality', 'rarity', 'collection',\n",
              "       'stickers', 'souvenir', 'stattrak', 'colorfulness',\n",
              "       'cats_colorfulness'],\n",
              "      dtype='object')"
            ]
          },
          "metadata": {},
          "execution_count": 13
        }
      ]
    },
    {
      "cell_type": "code",
      "source": [
        "num = ['lock', 'wear', 'exterior', 'rarity', 'stickers', 'souvenir', 'stattrak', 'colorfulness', 'cats_colorfulness']\n",
        "kat = ['family', 'version', 'category', 'subCategory', 'pattern', 'quality', 'collection']"
      ],
      "metadata": {
        "id": "e_AxGkzgXrK-"
      },
      "execution_count": 14,
      "outputs": []
    },
    {
      "cell_type": "code",
      "source": [
        "y = data['salePrice']\n",
        "X = data.drop('salePrice',1)"
      ],
      "metadata": {
        "colab": {
          "base_uri": "https://localhost:8080/"
        },
        "id": "0cijwkEtXswJ",
        "outputId": "8acb7378-c9ad-478d-e2b3-f5f5135a1582"
      },
      "execution_count": 15,
      "outputs": [
        {
          "output_type": "stream",
          "name": "stderr",
          "text": [
            "/usr/local/lib/python3.7/dist-packages/ipykernel_launcher.py:2: FutureWarning: In a future version of pandas all arguments of DataFrame.drop except for the argument 'labels' will be keyword-only\n",
            "  \n"
          ]
        }
      ]
    },
    {
      "cell_type": "code",
      "source": [
        "print(y.shape)\n",
        "print(X.shape)"
      ],
      "metadata": {
        "colab": {
          "base_uri": "https://localhost:8080/"
        },
        "id": "isE_ctZKXuiX",
        "outputId": "6a42a839-f393-48a7-efdd-1195a36e1735"
      },
      "execution_count": 16,
      "outputs": [
        {
          "output_type": "stream",
          "name": "stdout",
          "text": [
            "(132807,)\n",
            "(132807, 16)\n"
          ]
        }
      ]
    },
    {
      "cell_type": "code",
      "source": [
        "train_X, val_X, train_y, val_y = train_test_split(X, y, train_size=0.8, random_state = 0)"
      ],
      "metadata": {
        "id": "lrSYBauyXvu4"
      },
      "execution_count": 17,
      "outputs": []
    },
    {
      "cell_type": "code",
      "source": [
        "train_X_num = train_X[['lock', 'wear', 'exterior', 'rarity', 'stickers', 'souvenir', 'stattrak', 'colorfulness', 'cats_colorfulness']].copy()\n",
        "val_X_num = val_X[['lock', 'wear', 'exterior', 'rarity', 'stickers', 'souvenir', 'stattrak', 'colorfulness', 'cats_colorfulness']].copy()\n",
        "\n",
        "train_X_kat = train_X[['family', 'version', 'category', 'subCategory', 'pattern', 'quality', 'collection']].copy()\n",
        "val_X_kat = val_X[['family', 'version', 'category', 'subCategory', 'pattern', 'quality', 'collection']].copy()"
      ],
      "metadata": {
        "id": "DUzHWioBXx79"
      },
      "execution_count": 18,
      "outputs": []
    },
    {
      "cell_type": "code",
      "source": [
        "# Num-Features\n",
        "scaler = StandardScaler()\n",
        "\n",
        "train_X_num_standardized = pd.DataFrame(scaler.fit_transform(train_X_num), columns=train_X_num.columns, index=train_X_num.index)\n",
        "val_X_num_standardized = pd.DataFrame(scaler.transform(val_X_num), columns=train_X_num.columns, index=val_X_num.index)\n",
        "\n",
        "train_X_num_standardized.head()"
      ],
      "metadata": {
        "colab": {
          "base_uri": "https://localhost:8080/",
          "height": 206
        },
        "id": "9Az4QG_BXzsV",
        "outputId": "5f90d1c4-96d6-4315-f675-52d2b24d51fa"
      },
      "execution_count": 19,
      "outputs": [
        {
          "output_type": "execute_result",
          "data": {
            "text/plain": [
              "           lock      wear  exterior    rarity  stickers  souvenir  stattrak  \\\n",
              "85306 -0.530358  0.447583 -0.147101 -0.984476 -0.466068 -0.261207 -0.334161   \n",
              "56257 -0.530358  0.661525 -0.147101  0.771054 -0.466068 -0.261207 -0.334161   \n",
              "26196 -0.530358 -0.283379 -0.147101  0.185877 -0.466068 -0.261207 -0.334161   \n",
              "64356  1.885518 -1.432391  1.610914  0.771054 -0.466068 -0.261207 -0.334161   \n",
              "5161  -0.530358 -0.325797 -0.147101 -0.399299  2.145609  3.828381 -0.334161   \n",
              "\n",
              "       colorfulness  cats_colorfulness  \n",
              "85306     -0.890150          -0.639357  \n",
              "56257      0.027157           0.733712  \n",
              "26196      0.787394           0.733712  \n",
              "64356     -0.302083          -0.639357  \n",
              "5161       0.318196           0.733712  "
            ],
            "text/html": [
              "\n",
              "  <div id=\"df-baf5df5d-d9d5-4ad8-998e-16b62194acf7\">\n",
              "    <div class=\"colab-df-container\">\n",
              "      <div>\n",
              "<style scoped>\n",
              "    .dataframe tbody tr th:only-of-type {\n",
              "        vertical-align: middle;\n",
              "    }\n",
              "\n",
              "    .dataframe tbody tr th {\n",
              "        vertical-align: top;\n",
              "    }\n",
              "\n",
              "    .dataframe thead th {\n",
              "        text-align: right;\n",
              "    }\n",
              "</style>\n",
              "<table border=\"1\" class=\"dataframe\">\n",
              "  <thead>\n",
              "    <tr style=\"text-align: right;\">\n",
              "      <th></th>\n",
              "      <th>lock</th>\n",
              "      <th>wear</th>\n",
              "      <th>exterior</th>\n",
              "      <th>rarity</th>\n",
              "      <th>stickers</th>\n",
              "      <th>souvenir</th>\n",
              "      <th>stattrak</th>\n",
              "      <th>colorfulness</th>\n",
              "      <th>cats_colorfulness</th>\n",
              "    </tr>\n",
              "  </thead>\n",
              "  <tbody>\n",
              "    <tr>\n",
              "      <th>85306</th>\n",
              "      <td>-0.530358</td>\n",
              "      <td>0.447583</td>\n",
              "      <td>-0.147101</td>\n",
              "      <td>-0.984476</td>\n",
              "      <td>-0.466068</td>\n",
              "      <td>-0.261207</td>\n",
              "      <td>-0.334161</td>\n",
              "      <td>-0.890150</td>\n",
              "      <td>-0.639357</td>\n",
              "    </tr>\n",
              "    <tr>\n",
              "      <th>56257</th>\n",
              "      <td>-0.530358</td>\n",
              "      <td>0.661525</td>\n",
              "      <td>-0.147101</td>\n",
              "      <td>0.771054</td>\n",
              "      <td>-0.466068</td>\n",
              "      <td>-0.261207</td>\n",
              "      <td>-0.334161</td>\n",
              "      <td>0.027157</td>\n",
              "      <td>0.733712</td>\n",
              "    </tr>\n",
              "    <tr>\n",
              "      <th>26196</th>\n",
              "      <td>-0.530358</td>\n",
              "      <td>-0.283379</td>\n",
              "      <td>-0.147101</td>\n",
              "      <td>0.185877</td>\n",
              "      <td>-0.466068</td>\n",
              "      <td>-0.261207</td>\n",
              "      <td>-0.334161</td>\n",
              "      <td>0.787394</td>\n",
              "      <td>0.733712</td>\n",
              "    </tr>\n",
              "    <tr>\n",
              "      <th>64356</th>\n",
              "      <td>1.885518</td>\n",
              "      <td>-1.432391</td>\n",
              "      <td>1.610914</td>\n",
              "      <td>0.771054</td>\n",
              "      <td>-0.466068</td>\n",
              "      <td>-0.261207</td>\n",
              "      <td>-0.334161</td>\n",
              "      <td>-0.302083</td>\n",
              "      <td>-0.639357</td>\n",
              "    </tr>\n",
              "    <tr>\n",
              "      <th>5161</th>\n",
              "      <td>-0.530358</td>\n",
              "      <td>-0.325797</td>\n",
              "      <td>-0.147101</td>\n",
              "      <td>-0.399299</td>\n",
              "      <td>2.145609</td>\n",
              "      <td>3.828381</td>\n",
              "      <td>-0.334161</td>\n",
              "      <td>0.318196</td>\n",
              "      <td>0.733712</td>\n",
              "    </tr>\n",
              "  </tbody>\n",
              "</table>\n",
              "</div>\n",
              "      <button class=\"colab-df-convert\" onclick=\"convertToInteractive('df-baf5df5d-d9d5-4ad8-998e-16b62194acf7')\"\n",
              "              title=\"Convert this dataframe to an interactive table.\"\n",
              "              style=\"display:none;\">\n",
              "        \n",
              "  <svg xmlns=\"http://www.w3.org/2000/svg\" height=\"24px\"viewBox=\"0 0 24 24\"\n",
              "       width=\"24px\">\n",
              "    <path d=\"M0 0h24v24H0V0z\" fill=\"none\"/>\n",
              "    <path d=\"M18.56 5.44l.94 2.06.94-2.06 2.06-.94-2.06-.94-.94-2.06-.94 2.06-2.06.94zm-11 1L8.5 8.5l.94-2.06 2.06-.94-2.06-.94L8.5 2.5l-.94 2.06-2.06.94zm10 10l.94 2.06.94-2.06 2.06-.94-2.06-.94-.94-2.06-.94 2.06-2.06.94z\"/><path d=\"M17.41 7.96l-1.37-1.37c-.4-.4-.92-.59-1.43-.59-.52 0-1.04.2-1.43.59L10.3 9.45l-7.72 7.72c-.78.78-.78 2.05 0 2.83L4 21.41c.39.39.9.59 1.41.59.51 0 1.02-.2 1.41-.59l7.78-7.78 2.81-2.81c.8-.78.8-2.07 0-2.86zM5.41 20L4 18.59l7.72-7.72 1.47 1.35L5.41 20z\"/>\n",
              "  </svg>\n",
              "      </button>\n",
              "      \n",
              "  <style>\n",
              "    .colab-df-container {\n",
              "      display:flex;\n",
              "      flex-wrap:wrap;\n",
              "      gap: 12px;\n",
              "    }\n",
              "\n",
              "    .colab-df-convert {\n",
              "      background-color: #E8F0FE;\n",
              "      border: none;\n",
              "      border-radius: 50%;\n",
              "      cursor: pointer;\n",
              "      display: none;\n",
              "      fill: #1967D2;\n",
              "      height: 32px;\n",
              "      padding: 0 0 0 0;\n",
              "      width: 32px;\n",
              "    }\n",
              "\n",
              "    .colab-df-convert:hover {\n",
              "      background-color: #E2EBFA;\n",
              "      box-shadow: 0px 1px 2px rgba(60, 64, 67, 0.3), 0px 1px 3px 1px rgba(60, 64, 67, 0.15);\n",
              "      fill: #174EA6;\n",
              "    }\n",
              "\n",
              "    [theme=dark] .colab-df-convert {\n",
              "      background-color: #3B4455;\n",
              "      fill: #D2E3FC;\n",
              "    }\n",
              "\n",
              "    [theme=dark] .colab-df-convert:hover {\n",
              "      background-color: #434B5C;\n",
              "      box-shadow: 0px 1px 3px 1px rgba(0, 0, 0, 0.15);\n",
              "      filter: drop-shadow(0px 1px 2px rgba(0, 0, 0, 0.3));\n",
              "      fill: #FFFFFF;\n",
              "    }\n",
              "  </style>\n",
              "\n",
              "      <script>\n",
              "        const buttonEl =\n",
              "          document.querySelector('#df-baf5df5d-d9d5-4ad8-998e-16b62194acf7 button.colab-df-convert');\n",
              "        buttonEl.style.display =\n",
              "          google.colab.kernel.accessAllowed ? 'block' : 'none';\n",
              "\n",
              "        async function convertToInteractive(key) {\n",
              "          const element = document.querySelector('#df-baf5df5d-d9d5-4ad8-998e-16b62194acf7');\n",
              "          const dataTable =\n",
              "            await google.colab.kernel.invokeFunction('convertToInteractive',\n",
              "                                                     [key], {});\n",
              "          if (!dataTable) return;\n",
              "\n",
              "          const docLinkHtml = 'Like what you see? Visit the ' +\n",
              "            '<a target=\"_blank\" href=https://colab.research.google.com/notebooks/data_table.ipynb>data table notebook</a>'\n",
              "            + ' to learn more about interactive tables.';\n",
              "          element.innerHTML = '';\n",
              "          dataTable['output_type'] = 'display_data';\n",
              "          await google.colab.output.renderOutput(dataTable, element);\n",
              "          const docLink = document.createElement('div');\n",
              "          docLink.innerHTML = docLinkHtml;\n",
              "          element.appendChild(docLink);\n",
              "        }\n",
              "      </script>\n",
              "    </div>\n",
              "  </div>\n",
              "  "
            ]
          },
          "metadata": {},
          "execution_count": 19
        }
      ]
    },
    {
      "cell_type": "code",
      "source": [
        "# Kat-Features\n",
        "one_hot_encoder = OneHotEncoder(handle_unknown='ignore', sparse=False)\n",
        "one_hot_cols_train = pd.DataFrame(one_hot_encoder.fit_transform(train_X_kat[['family', 'version', 'category', 'subCategory', 'quality', 'collection']]))\n",
        "one_hot_cols_valid = pd.DataFrame(one_hot_encoder.transform(val_X_kat[['family', 'version', 'category', 'subCategory', 'quality', 'collection']]))"
      ],
      "metadata": {
        "id": "vjEJ9u-KX1rE"
      },
      "execution_count": 20,
      "outputs": []
    },
    {
      "cell_type": "code",
      "source": [
        "one_hot_cols_train.index = train_X_kat.index\n",
        "one_hot_cols_valid.index = val_X_kat.index"
      ],
      "metadata": {
        "id": "qPkTt3VwX3_-"
      },
      "execution_count": 21,
      "outputs": []
    },
    {
      "cell_type": "code",
      "source": [
        "# Num + Kat\n",
        "one_hot_X_train = pd.concat([train_X_num_standardized, one_hot_cols_train], axis=1)\n",
        "one_hot_X_valid = pd.concat([val_X_num_standardized, one_hot_cols_valid], axis=1)"
      ],
      "metadata": {
        "id": "fYYvwz5oX5gg"
      },
      "execution_count": 22,
      "outputs": []
    },
    {
      "cell_type": "code",
      "source": [
        "one_hot_X_valid.head()"
      ],
      "metadata": {
        "colab": {
          "base_uri": "https://localhost:8080/",
          "height": 236
        },
        "id": "rWIHbDB3X772",
        "outputId": "8baccb75-66e9-4222-9401-b19fe8fe94c2"
      },
      "execution_count": 23,
      "outputs": [
        {
          "output_type": "execute_result",
          "data": {
            "text/plain": [
              "            lock      wear  exterior    rarity  stickers  souvenir  stattrak  \\\n",
              "88181  -0.530358  0.052156 -0.147101 -0.984476  2.145609  3.828381 -0.334161   \n",
              "81505  -0.530358  0.768639 -1.026109  0.771054 -0.466068 -0.261207 -0.334161   \n",
              "95553  -0.530358 -0.936186  0.731906  1.356231 -0.466068 -0.261207 -0.334161   \n",
              "43790   1.885518 -0.673714  0.731906  1.941408  2.145609 -0.261207 -0.334161   \n",
              "121252 -0.530358  1.743441 -1.905116 -0.984476 -0.466068 -0.261207 -0.334161   \n",
              "\n",
              "        colorfulness  cats_colorfulness    0  ...  1065  1066  1067  1068  \\\n",
              "88181       0.135788           0.733712  0.0  ...   0.0   0.0   0.0   0.0   \n",
              "81505      -0.672963          -0.639357  0.0  ...   0.0   0.0   0.0   0.0   \n",
              "95553       3.351222           3.479852  0.0  ...   0.0   0.0   0.0   0.0   \n",
              "43790       1.986681           2.106782  0.0  ...   0.0   0.0   0.0   0.0   \n",
              "121252     -0.792877          -0.639357  0.0  ...   0.0   0.0   0.0   0.0   \n",
              "\n",
              "        1069  1070  1071  1072  1073  1074  \n",
              "88181    0.0   0.0   0.0   0.0   0.0   0.0  \n",
              "81505    0.0   0.0   0.0   0.0   0.0   0.0  \n",
              "95553    0.0   0.0   0.0   0.0   0.0   0.0  \n",
              "43790    0.0   0.0   0.0   0.0   0.0   0.0  \n",
              "121252   0.0   0.0   0.0   0.0   0.0   0.0  \n",
              "\n",
              "[5 rows x 1084 columns]"
            ],
            "text/html": [
              "\n",
              "  <div id=\"df-e9958a8f-72c6-4ec7-8aaf-3ad3860c1655\">\n",
              "    <div class=\"colab-df-container\">\n",
              "      <div>\n",
              "<style scoped>\n",
              "    .dataframe tbody tr th:only-of-type {\n",
              "        vertical-align: middle;\n",
              "    }\n",
              "\n",
              "    .dataframe tbody tr th {\n",
              "        vertical-align: top;\n",
              "    }\n",
              "\n",
              "    .dataframe thead th {\n",
              "        text-align: right;\n",
              "    }\n",
              "</style>\n",
              "<table border=\"1\" class=\"dataframe\">\n",
              "  <thead>\n",
              "    <tr style=\"text-align: right;\">\n",
              "      <th></th>\n",
              "      <th>lock</th>\n",
              "      <th>wear</th>\n",
              "      <th>exterior</th>\n",
              "      <th>rarity</th>\n",
              "      <th>stickers</th>\n",
              "      <th>souvenir</th>\n",
              "      <th>stattrak</th>\n",
              "      <th>colorfulness</th>\n",
              "      <th>cats_colorfulness</th>\n",
              "      <th>0</th>\n",
              "      <th>...</th>\n",
              "      <th>1065</th>\n",
              "      <th>1066</th>\n",
              "      <th>1067</th>\n",
              "      <th>1068</th>\n",
              "      <th>1069</th>\n",
              "      <th>1070</th>\n",
              "      <th>1071</th>\n",
              "      <th>1072</th>\n",
              "      <th>1073</th>\n",
              "      <th>1074</th>\n",
              "    </tr>\n",
              "  </thead>\n",
              "  <tbody>\n",
              "    <tr>\n",
              "      <th>88181</th>\n",
              "      <td>-0.530358</td>\n",
              "      <td>0.052156</td>\n",
              "      <td>-0.147101</td>\n",
              "      <td>-0.984476</td>\n",
              "      <td>2.145609</td>\n",
              "      <td>3.828381</td>\n",
              "      <td>-0.334161</td>\n",
              "      <td>0.135788</td>\n",
              "      <td>0.733712</td>\n",
              "      <td>0.0</td>\n",
              "      <td>...</td>\n",
              "      <td>0.0</td>\n",
              "      <td>0.0</td>\n",
              "      <td>0.0</td>\n",
              "      <td>0.0</td>\n",
              "      <td>0.0</td>\n",
              "      <td>0.0</td>\n",
              "      <td>0.0</td>\n",
              "      <td>0.0</td>\n",
              "      <td>0.0</td>\n",
              "      <td>0.0</td>\n",
              "    </tr>\n",
              "    <tr>\n",
              "      <th>81505</th>\n",
              "      <td>-0.530358</td>\n",
              "      <td>0.768639</td>\n",
              "      <td>-1.026109</td>\n",
              "      <td>0.771054</td>\n",
              "      <td>-0.466068</td>\n",
              "      <td>-0.261207</td>\n",
              "      <td>-0.334161</td>\n",
              "      <td>-0.672963</td>\n",
              "      <td>-0.639357</td>\n",
              "      <td>0.0</td>\n",
              "      <td>...</td>\n",
              "      <td>0.0</td>\n",
              "      <td>0.0</td>\n",
              "      <td>0.0</td>\n",
              "      <td>0.0</td>\n",
              "      <td>0.0</td>\n",
              "      <td>0.0</td>\n",
              "      <td>0.0</td>\n",
              "      <td>0.0</td>\n",
              "      <td>0.0</td>\n",
              "      <td>0.0</td>\n",
              "    </tr>\n",
              "    <tr>\n",
              "      <th>95553</th>\n",
              "      <td>-0.530358</td>\n",
              "      <td>-0.936186</td>\n",
              "      <td>0.731906</td>\n",
              "      <td>1.356231</td>\n",
              "      <td>-0.466068</td>\n",
              "      <td>-0.261207</td>\n",
              "      <td>-0.334161</td>\n",
              "      <td>3.351222</td>\n",
              "      <td>3.479852</td>\n",
              "      <td>0.0</td>\n",
              "      <td>...</td>\n",
              "      <td>0.0</td>\n",
              "      <td>0.0</td>\n",
              "      <td>0.0</td>\n",
              "      <td>0.0</td>\n",
              "      <td>0.0</td>\n",
              "      <td>0.0</td>\n",
              "      <td>0.0</td>\n",
              "      <td>0.0</td>\n",
              "      <td>0.0</td>\n",
              "      <td>0.0</td>\n",
              "    </tr>\n",
              "    <tr>\n",
              "      <th>43790</th>\n",
              "      <td>1.885518</td>\n",
              "      <td>-0.673714</td>\n",
              "      <td>0.731906</td>\n",
              "      <td>1.941408</td>\n",
              "      <td>2.145609</td>\n",
              "      <td>-0.261207</td>\n",
              "      <td>-0.334161</td>\n",
              "      <td>1.986681</td>\n",
              "      <td>2.106782</td>\n",
              "      <td>0.0</td>\n",
              "      <td>...</td>\n",
              "      <td>0.0</td>\n",
              "      <td>0.0</td>\n",
              "      <td>0.0</td>\n",
              "      <td>0.0</td>\n",
              "      <td>0.0</td>\n",
              "      <td>0.0</td>\n",
              "      <td>0.0</td>\n",
              "      <td>0.0</td>\n",
              "      <td>0.0</td>\n",
              "      <td>0.0</td>\n",
              "    </tr>\n",
              "    <tr>\n",
              "      <th>121252</th>\n",
              "      <td>-0.530358</td>\n",
              "      <td>1.743441</td>\n",
              "      <td>-1.905116</td>\n",
              "      <td>-0.984476</td>\n",
              "      <td>-0.466068</td>\n",
              "      <td>-0.261207</td>\n",
              "      <td>-0.334161</td>\n",
              "      <td>-0.792877</td>\n",
              "      <td>-0.639357</td>\n",
              "      <td>0.0</td>\n",
              "      <td>...</td>\n",
              "      <td>0.0</td>\n",
              "      <td>0.0</td>\n",
              "      <td>0.0</td>\n",
              "      <td>0.0</td>\n",
              "      <td>0.0</td>\n",
              "      <td>0.0</td>\n",
              "      <td>0.0</td>\n",
              "      <td>0.0</td>\n",
              "      <td>0.0</td>\n",
              "      <td>0.0</td>\n",
              "    </tr>\n",
              "  </tbody>\n",
              "</table>\n",
              "<p>5 rows × 1084 columns</p>\n",
              "</div>\n",
              "      <button class=\"colab-df-convert\" onclick=\"convertToInteractive('df-e9958a8f-72c6-4ec7-8aaf-3ad3860c1655')\"\n",
              "              title=\"Convert this dataframe to an interactive table.\"\n",
              "              style=\"display:none;\">\n",
              "        \n",
              "  <svg xmlns=\"http://www.w3.org/2000/svg\" height=\"24px\"viewBox=\"0 0 24 24\"\n",
              "       width=\"24px\">\n",
              "    <path d=\"M0 0h24v24H0V0z\" fill=\"none\"/>\n",
              "    <path d=\"M18.56 5.44l.94 2.06.94-2.06 2.06-.94-2.06-.94-.94-2.06-.94 2.06-2.06.94zm-11 1L8.5 8.5l.94-2.06 2.06-.94-2.06-.94L8.5 2.5l-.94 2.06-2.06.94zm10 10l.94 2.06.94-2.06 2.06-.94-2.06-.94-.94-2.06-.94 2.06-2.06.94z\"/><path d=\"M17.41 7.96l-1.37-1.37c-.4-.4-.92-.59-1.43-.59-.52 0-1.04.2-1.43.59L10.3 9.45l-7.72 7.72c-.78.78-.78 2.05 0 2.83L4 21.41c.39.39.9.59 1.41.59.51 0 1.02-.2 1.41-.59l7.78-7.78 2.81-2.81c.8-.78.8-2.07 0-2.86zM5.41 20L4 18.59l7.72-7.72 1.47 1.35L5.41 20z\"/>\n",
              "  </svg>\n",
              "      </button>\n",
              "      \n",
              "  <style>\n",
              "    .colab-df-container {\n",
              "      display:flex;\n",
              "      flex-wrap:wrap;\n",
              "      gap: 12px;\n",
              "    }\n",
              "\n",
              "    .colab-df-convert {\n",
              "      background-color: #E8F0FE;\n",
              "      border: none;\n",
              "      border-radius: 50%;\n",
              "      cursor: pointer;\n",
              "      display: none;\n",
              "      fill: #1967D2;\n",
              "      height: 32px;\n",
              "      padding: 0 0 0 0;\n",
              "      width: 32px;\n",
              "    }\n",
              "\n",
              "    .colab-df-convert:hover {\n",
              "      background-color: #E2EBFA;\n",
              "      box-shadow: 0px 1px 2px rgba(60, 64, 67, 0.3), 0px 1px 3px 1px rgba(60, 64, 67, 0.15);\n",
              "      fill: #174EA6;\n",
              "    }\n",
              "\n",
              "    [theme=dark] .colab-df-convert {\n",
              "      background-color: #3B4455;\n",
              "      fill: #D2E3FC;\n",
              "    }\n",
              "\n",
              "    [theme=dark] .colab-df-convert:hover {\n",
              "      background-color: #434B5C;\n",
              "      box-shadow: 0px 1px 3px 1px rgba(0, 0, 0, 0.15);\n",
              "      filter: drop-shadow(0px 1px 2px rgba(0, 0, 0, 0.3));\n",
              "      fill: #FFFFFF;\n",
              "    }\n",
              "  </style>\n",
              "\n",
              "      <script>\n",
              "        const buttonEl =\n",
              "          document.querySelector('#df-e9958a8f-72c6-4ec7-8aaf-3ad3860c1655 button.colab-df-convert');\n",
              "        buttonEl.style.display =\n",
              "          google.colab.kernel.accessAllowed ? 'block' : 'none';\n",
              "\n",
              "        async function convertToInteractive(key) {\n",
              "          const element = document.querySelector('#df-e9958a8f-72c6-4ec7-8aaf-3ad3860c1655');\n",
              "          const dataTable =\n",
              "            await google.colab.kernel.invokeFunction('convertToInteractive',\n",
              "                                                     [key], {});\n",
              "          if (!dataTable) return;\n",
              "\n",
              "          const docLinkHtml = 'Like what you see? Visit the ' +\n",
              "            '<a target=\"_blank\" href=https://colab.research.google.com/notebooks/data_table.ipynb>data table notebook</a>'\n",
              "            + ' to learn more about interactive tables.';\n",
              "          element.innerHTML = '';\n",
              "          dataTable['output_type'] = 'display_data';\n",
              "          await google.colab.output.renderOutput(dataTable, element);\n",
              "          const docLink = document.createElement('div');\n",
              "          docLink.innerHTML = docLinkHtml;\n",
              "          element.appendChild(docLink);\n",
              "        }\n",
              "      </script>\n",
              "    </div>\n",
              "  </div>\n",
              "  "
            ]
          },
          "metadata": {},
          "execution_count": 23
        }
      ]
    },
    {
      "cell_type": "code",
      "source": [
        "model = LinearRegression()"
      ],
      "metadata": {
        "id": "Pri85kuPX_QZ"
      },
      "execution_count": 24,
      "outputs": []
    },
    {
      "cell_type": "code",
      "source": [
        "model.fit(one_hot_X_train, train_y)"
      ],
      "metadata": {
        "colab": {
          "base_uri": "https://localhost:8080/"
        },
        "id": "fr-WmUekYCBZ",
        "outputId": "083da152-cd2a-4c05-a00e-2b6aa49ffce7"
      },
      "execution_count": 25,
      "outputs": [
        {
          "output_type": "stream",
          "name": "stderr",
          "text": [
            "/usr/local/lib/python3.7/dist-packages/sklearn/utils/validation.py:1692: FutureWarning: Feature names only support names that are all strings. Got feature names with dtypes: ['int', 'str']. An error will be raised in 1.2.\n",
            "  FutureWarning,\n"
          ]
        },
        {
          "output_type": "execute_result",
          "data": {
            "text/plain": [
              "LinearRegression()"
            ]
          },
          "metadata": {},
          "execution_count": 25
        }
      ]
    },
    {
      "cell_type": "code",
      "source": [
        "score = model.score(one_hot_X_train, train_y)\n",
        "score"
      ],
      "metadata": {
        "colab": {
          "base_uri": "https://localhost:8080/"
        },
        "id": "EjWQ8PKOYEHn",
        "outputId": "fc76bc7b-6d00-4004-bcb9-993ecfc2eebf"
      },
      "execution_count": 26,
      "outputs": [
        {
          "output_type": "stream",
          "name": "stderr",
          "text": [
            "/usr/local/lib/python3.7/dist-packages/sklearn/utils/validation.py:1692: FutureWarning: Feature names only support names that are all strings. Got feature names with dtypes: ['int', 'str']. An error will be raised in 1.2.\n",
            "  FutureWarning,\n"
          ]
        },
        {
          "output_type": "execute_result",
          "data": {
            "text/plain": [
              "0.6575920286516963"
            ]
          },
          "metadata": {},
          "execution_count": 26
        }
      ]
    },
    {
      "cell_type": "code",
      "source": [
        "preds = model.predict(one_hot_X_valid)"
      ],
      "metadata": {
        "colab": {
          "base_uri": "https://localhost:8080/"
        },
        "id": "h-fmIgwSYJ3u",
        "outputId": "341d9089-542e-4b8f-c18c-f8974d8009eb"
      },
      "execution_count": 27,
      "outputs": [
        {
          "output_type": "stream",
          "name": "stderr",
          "text": [
            "/usr/local/lib/python3.7/dist-packages/sklearn/utils/validation.py:1692: FutureWarning: Feature names only support names that are all strings. Got feature names with dtypes: ['int', 'str']. An error will be raised in 1.2.\n",
            "  FutureWarning,\n"
          ]
        }
      ]
    },
    {
      "cell_type": "code",
      "source": [
        "mean_absolute_error(val_y, preds)"
      ],
      "metadata": {
        "colab": {
          "base_uri": "https://localhost:8080/"
        },
        "id": "ApQuv0zSYKNE",
        "outputId": "648fe323-4973-4304-ffc6-c122588f7d93"
      },
      "execution_count": 29,
      "outputs": [
        {
          "output_type": "execute_result",
          "data": {
            "text/plain": [
              "151235801.31242177"
            ]
          },
          "metadata": {},
          "execution_count": 29
        }
      ]
    },
    {
      "cell_type": "code",
      "source": [
        "coefficients = pd.concat([pd.DataFrame(one_hot_X_train.columns),pd.DataFrame(np.transpose(model.coef_))], axis = 1)\n",
        "coefficients"
      ],
      "metadata": {
        "colab": {
          "base_uri": "https://localhost:8080/",
          "height": 424
        },
        "id": "frIm6rXvYUyA",
        "outputId": "8db4a6b9-74c6-4a80-b53c-09cd14966e5a"
      },
      "execution_count": 30,
      "outputs": [
        {
          "output_type": "execute_result",
          "data": {
            "text/plain": [
              "             0             0\n",
              "0         lock -5.361657e+00\n",
              "1         wear -7.393402e-01\n",
              "2     exterior  7.477862e+00\n",
              "3       rarity -5.607323e+01\n",
              "4     stickers  1.859519e+00\n",
              "...        ...           ...\n",
              "1079      1070  9.601004e+12\n",
              "1080      1071  7.865986e+12\n",
              "1081      1072  9.601004e+12\n",
              "1082      1073  7.865986e+12\n",
              "1083      1074  7.865986e+12\n",
              "\n",
              "[1084 rows x 2 columns]"
            ],
            "text/html": [
              "\n",
              "  <div id=\"df-587098e1-a31f-4692-8549-be39150497e4\">\n",
              "    <div class=\"colab-df-container\">\n",
              "      <div>\n",
              "<style scoped>\n",
              "    .dataframe tbody tr th:only-of-type {\n",
              "        vertical-align: middle;\n",
              "    }\n",
              "\n",
              "    .dataframe tbody tr th {\n",
              "        vertical-align: top;\n",
              "    }\n",
              "\n",
              "    .dataframe thead th {\n",
              "        text-align: right;\n",
              "    }\n",
              "</style>\n",
              "<table border=\"1\" class=\"dataframe\">\n",
              "  <thead>\n",
              "    <tr style=\"text-align: right;\">\n",
              "      <th></th>\n",
              "      <th>0</th>\n",
              "      <th>0</th>\n",
              "    </tr>\n",
              "  </thead>\n",
              "  <tbody>\n",
              "    <tr>\n",
              "      <th>0</th>\n",
              "      <td>lock</td>\n",
              "      <td>-5.361657e+00</td>\n",
              "    </tr>\n",
              "    <tr>\n",
              "      <th>1</th>\n",
              "      <td>wear</td>\n",
              "      <td>-7.393402e-01</td>\n",
              "    </tr>\n",
              "    <tr>\n",
              "      <th>2</th>\n",
              "      <td>exterior</td>\n",
              "      <td>7.477862e+00</td>\n",
              "    </tr>\n",
              "    <tr>\n",
              "      <th>3</th>\n",
              "      <td>rarity</td>\n",
              "      <td>-5.607323e+01</td>\n",
              "    </tr>\n",
              "    <tr>\n",
              "      <th>4</th>\n",
              "      <td>stickers</td>\n",
              "      <td>1.859519e+00</td>\n",
              "    </tr>\n",
              "    <tr>\n",
              "      <th>...</th>\n",
              "      <td>...</td>\n",
              "      <td>...</td>\n",
              "    </tr>\n",
              "    <tr>\n",
              "      <th>1079</th>\n",
              "      <td>1070</td>\n",
              "      <td>9.601004e+12</td>\n",
              "    </tr>\n",
              "    <tr>\n",
              "      <th>1080</th>\n",
              "      <td>1071</td>\n",
              "      <td>7.865986e+12</td>\n",
              "    </tr>\n",
              "    <tr>\n",
              "      <th>1081</th>\n",
              "      <td>1072</td>\n",
              "      <td>9.601004e+12</td>\n",
              "    </tr>\n",
              "    <tr>\n",
              "      <th>1082</th>\n",
              "      <td>1073</td>\n",
              "      <td>7.865986e+12</td>\n",
              "    </tr>\n",
              "    <tr>\n",
              "      <th>1083</th>\n",
              "      <td>1074</td>\n",
              "      <td>7.865986e+12</td>\n",
              "    </tr>\n",
              "  </tbody>\n",
              "</table>\n",
              "<p>1084 rows × 2 columns</p>\n",
              "</div>\n",
              "      <button class=\"colab-df-convert\" onclick=\"convertToInteractive('df-587098e1-a31f-4692-8549-be39150497e4')\"\n",
              "              title=\"Convert this dataframe to an interactive table.\"\n",
              "              style=\"display:none;\">\n",
              "        \n",
              "  <svg xmlns=\"http://www.w3.org/2000/svg\" height=\"24px\"viewBox=\"0 0 24 24\"\n",
              "       width=\"24px\">\n",
              "    <path d=\"M0 0h24v24H0V0z\" fill=\"none\"/>\n",
              "    <path d=\"M18.56 5.44l.94 2.06.94-2.06 2.06-.94-2.06-.94-.94-2.06-.94 2.06-2.06.94zm-11 1L8.5 8.5l.94-2.06 2.06-.94-2.06-.94L8.5 2.5l-.94 2.06-2.06.94zm10 10l.94 2.06.94-2.06 2.06-.94-2.06-.94-.94-2.06-.94 2.06-2.06.94z\"/><path d=\"M17.41 7.96l-1.37-1.37c-.4-.4-.92-.59-1.43-.59-.52 0-1.04.2-1.43.59L10.3 9.45l-7.72 7.72c-.78.78-.78 2.05 0 2.83L4 21.41c.39.39.9.59 1.41.59.51 0 1.02-.2 1.41-.59l7.78-7.78 2.81-2.81c.8-.78.8-2.07 0-2.86zM5.41 20L4 18.59l7.72-7.72 1.47 1.35L5.41 20z\"/>\n",
              "  </svg>\n",
              "      </button>\n",
              "      \n",
              "  <style>\n",
              "    .colab-df-container {\n",
              "      display:flex;\n",
              "      flex-wrap:wrap;\n",
              "      gap: 12px;\n",
              "    }\n",
              "\n",
              "    .colab-df-convert {\n",
              "      background-color: #E8F0FE;\n",
              "      border: none;\n",
              "      border-radius: 50%;\n",
              "      cursor: pointer;\n",
              "      display: none;\n",
              "      fill: #1967D2;\n",
              "      height: 32px;\n",
              "      padding: 0 0 0 0;\n",
              "      width: 32px;\n",
              "    }\n",
              "\n",
              "    .colab-df-convert:hover {\n",
              "      background-color: #E2EBFA;\n",
              "      box-shadow: 0px 1px 2px rgba(60, 64, 67, 0.3), 0px 1px 3px 1px rgba(60, 64, 67, 0.15);\n",
              "      fill: #174EA6;\n",
              "    }\n",
              "\n",
              "    [theme=dark] .colab-df-convert {\n",
              "      background-color: #3B4455;\n",
              "      fill: #D2E3FC;\n",
              "    }\n",
              "\n",
              "    [theme=dark] .colab-df-convert:hover {\n",
              "      background-color: #434B5C;\n",
              "      box-shadow: 0px 1px 3px 1px rgba(0, 0, 0, 0.15);\n",
              "      filter: drop-shadow(0px 1px 2px rgba(0, 0, 0, 0.3));\n",
              "      fill: #FFFFFF;\n",
              "    }\n",
              "  </style>\n",
              "\n",
              "      <script>\n",
              "        const buttonEl =\n",
              "          document.querySelector('#df-587098e1-a31f-4692-8549-be39150497e4 button.colab-df-convert');\n",
              "        buttonEl.style.display =\n",
              "          google.colab.kernel.accessAllowed ? 'block' : 'none';\n",
              "\n",
              "        async function convertToInteractive(key) {\n",
              "          const element = document.querySelector('#df-587098e1-a31f-4692-8549-be39150497e4');\n",
              "          const dataTable =\n",
              "            await google.colab.kernel.invokeFunction('convertToInteractive',\n",
              "                                                     [key], {});\n",
              "          if (!dataTable) return;\n",
              "\n",
              "          const docLinkHtml = 'Like what you see? Visit the ' +\n",
              "            '<a target=\"_blank\" href=https://colab.research.google.com/notebooks/data_table.ipynb>data table notebook</a>'\n",
              "            + ' to learn more about interactive tables.';\n",
              "          element.innerHTML = '';\n",
              "          dataTable['output_type'] = 'display_data';\n",
              "          await google.colab.output.renderOutput(dataTable, element);\n",
              "          const docLink = document.createElement('div');\n",
              "          docLink.innerHTML = docLinkHtml;\n",
              "          element.appendChild(docLink);\n",
              "        }\n",
              "      </script>\n",
              "    </div>\n",
              "  </div>\n",
              "  "
            ]
          },
          "metadata": {},
          "execution_count": 30
        }
      ]
    },
    {
      "cell_type": "code",
      "source": [
        ""
      ],
      "metadata": {
        "id": "oI1Kl4ApYcQm"
      },
      "execution_count": null,
      "outputs": []
    },
    {
      "cell_type": "markdown",
      "source": [
        "# Real"
      ],
      "metadata": {
        "id": "ZY6um9FF2iyw"
      }
    },
    {
      "cell_type": "markdown",
      "source": [
        "#Imports"
      ],
      "metadata": {
        "id": "YSKA4bKh_5qd"
      }
    },
    {
      "cell_type": "code",
      "source": [
        "import pandas as pd\n",
        "import numpy as np\n",
        "from google.colab import drive\n",
        "from pathlib import Path\n",
        "\n",
        "from xgboost import XGBRegressor"
      ],
      "metadata": {
        "id": "u_Hlj5yp_6vx"
      },
      "execution_count": 77,
      "outputs": []
    },
    {
      "cell_type": "markdown",
      "source": [
        "# Daten einlesen"
      ],
      "metadata": {
        "id": "44xU8MtT__C6"
      }
    },
    {
      "cell_type": "code",
      "source": [
        "data = pd.read_csv(r'/content/drive/MyDrive/SA_BA/Data/allitems_ready_for_model.csv')"
      ],
      "metadata": {
        "id": "NIEs7H5z2kJA"
      },
      "execution_count": 78,
      "outputs": []
    },
    {
      "cell_type": "code",
      "source": [
        "data"
      ],
      "metadata": {
        "colab": {
          "base_uri": "https://localhost:8080/",
          "height": 557
        },
        "id": "MKrqFSCe2ygi",
        "outputId": "cee5c3de-bc76-4490-daf6-a68076101197"
      },
      "execution_count": 79,
      "outputs": [
        {
          "output_type": "execute_result",
          "data": {
            "text/plain": [
              "       salePrice  salePricelog  suggestedPrice  ext_Battle-Scarred  \\\n",
              "0         399.13      5.989287          397.21                   0   \n",
              "1         362.44      5.892859          442.03                   0   \n",
              "2         400.00      5.991465          397.21                   0   \n",
              "3         420.73      6.041991          397.21                   0   \n",
              "4         355.00      5.872118          397.21                   0   \n",
              "...          ...           ...             ...                 ...   \n",
              "27455      71.84      4.274441           70.72                   0   \n",
              "27456      73.42      4.296196           70.72                   0   \n",
              "27457      75.00      4.317488           70.72                   0   \n",
              "27458      75.00      4.317488           70.72                   0   \n",
              "27459      86.62      4.461531           70.72                   0   \n",
              "\n",
              "       ext_Factory New  ext_Field-Tested  ext_Minimal Wear  ext_Well-Worn  \\\n",
              "0                    1                 0                 0              0   \n",
              "1                    1                 0                 0              0   \n",
              "2                    1                 0                 0              0   \n",
              "3                    1                 0                 0              0   \n",
              "4                    1                 0                 0              0   \n",
              "...                ...               ...               ...            ...   \n",
              "27455                0                 1                 0              0   \n",
              "27456                0                 1                 0              0   \n",
              "27457                0                 1                 0              0   \n",
              "27458                0                 1                 0              0   \n",
              "27459                0                 1                 0              0   \n",
              "\n",
              "       rar_Classified  rar_Covert  ...  col_The Wildfire Collection  \\\n",
              "0                   0           1  ...                            0   \n",
              "1                   0           1  ...                            0   \n",
              "2                   0           1  ...                            0   \n",
              "3                   0           1  ...                            0   \n",
              "4                   0           1  ...                            0   \n",
              "...               ...         ...  ...                          ...   \n",
              "27455               0           0  ...                            0   \n",
              "27456               0           0  ...                            0   \n",
              "27457               0           0  ...                            0   \n",
              "27458               0           0  ...                            0   \n",
              "27459               0           0  ...                            0   \n",
              "\n",
              "       col_The Winter Offensive Collection  col_The X-Ray Collection  \\\n",
              "0                                        0                         0   \n",
              "1                                        0                         0   \n",
              "2                                        0                         0   \n",
              "3                                        0                         0   \n",
              "4                                        0                         0   \n",
              "...                                    ...                       ...   \n",
              "27455                                    0                         0   \n",
              "27456                                    0                         0   \n",
              "27457                                    0                         0   \n",
              "27458                                    0                         0   \n",
              "27459                                    0                         0   \n",
              "\n",
              "       col_The eSports 2014 Summer Collection  lock      wear  stickers  \\\n",
              "0                                           0     0  0.033243         0   \n",
              "1                                           0     1  0.025035         0   \n",
              "2                                           0     0  0.006977         0   \n",
              "3                                           0     0  0.006662         0   \n",
              "4                                           0     1  0.062841         0   \n",
              "...                                       ...   ...       ...       ...   \n",
              "27455                                       0     1  0.293997         0   \n",
              "27456                                       0     1  0.185491         0   \n",
              "27457                                       0     1  0.169524         0   \n",
              "27458                                       0     1  0.160716         0   \n",
              "27459                                       0     1  0.329445         0   \n",
              "\n",
              "       souvenir  stattrak  colorfulness  \n",
              "0             0         0     59.790243  \n",
              "1             0         1     57.181995  \n",
              "2             0         0     58.160273  \n",
              "3             0         0     58.489647  \n",
              "4             0         0     60.797777  \n",
              "...         ...       ...           ...  \n",
              "27455         0         0     10.935599  \n",
              "27456         0         0     10.850061  \n",
              "27457         0         0     10.913781  \n",
              "27458         0         0     10.794303  \n",
              "27459         0         0     10.900296  \n",
              "\n",
              "[27460 rows x 533 columns]"
            ],
            "text/html": [
              "\n",
              "  <div id=\"df-ca1f0bb5-0451-4230-b808-cde38ce9850f\">\n",
              "    <div class=\"colab-df-container\">\n",
              "      <div>\n",
              "<style scoped>\n",
              "    .dataframe tbody tr th:only-of-type {\n",
              "        vertical-align: middle;\n",
              "    }\n",
              "\n",
              "    .dataframe tbody tr th {\n",
              "        vertical-align: top;\n",
              "    }\n",
              "\n",
              "    .dataframe thead th {\n",
              "        text-align: right;\n",
              "    }\n",
              "</style>\n",
              "<table border=\"1\" class=\"dataframe\">\n",
              "  <thead>\n",
              "    <tr style=\"text-align: right;\">\n",
              "      <th></th>\n",
              "      <th>salePrice</th>\n",
              "      <th>salePricelog</th>\n",
              "      <th>suggestedPrice</th>\n",
              "      <th>ext_Battle-Scarred</th>\n",
              "      <th>ext_Factory New</th>\n",
              "      <th>ext_Field-Tested</th>\n",
              "      <th>ext_Minimal Wear</th>\n",
              "      <th>ext_Well-Worn</th>\n",
              "      <th>rar_Classified</th>\n",
              "      <th>rar_Covert</th>\n",
              "      <th>...</th>\n",
              "      <th>col_The Wildfire Collection</th>\n",
              "      <th>col_The Winter Offensive Collection</th>\n",
              "      <th>col_The X-Ray Collection</th>\n",
              "      <th>col_The eSports 2014 Summer Collection</th>\n",
              "      <th>lock</th>\n",
              "      <th>wear</th>\n",
              "      <th>stickers</th>\n",
              "      <th>souvenir</th>\n",
              "      <th>stattrak</th>\n",
              "      <th>colorfulness</th>\n",
              "    </tr>\n",
              "  </thead>\n",
              "  <tbody>\n",
              "    <tr>\n",
              "      <th>0</th>\n",
              "      <td>399.13</td>\n",
              "      <td>5.989287</td>\n",
              "      <td>397.21</td>\n",
              "      <td>0</td>\n",
              "      <td>1</td>\n",
              "      <td>0</td>\n",
              "      <td>0</td>\n",
              "      <td>0</td>\n",
              "      <td>0</td>\n",
              "      <td>1</td>\n",
              "      <td>...</td>\n",
              "      <td>0</td>\n",
              "      <td>0</td>\n",
              "      <td>0</td>\n",
              "      <td>0</td>\n",
              "      <td>0</td>\n",
              "      <td>0.033243</td>\n",
              "      <td>0</td>\n",
              "      <td>0</td>\n",
              "      <td>0</td>\n",
              "      <td>59.790243</td>\n",
              "    </tr>\n",
              "    <tr>\n",
              "      <th>1</th>\n",
              "      <td>362.44</td>\n",
              "      <td>5.892859</td>\n",
              "      <td>442.03</td>\n",
              "      <td>0</td>\n",
              "      <td>1</td>\n",
              "      <td>0</td>\n",
              "      <td>0</td>\n",
              "      <td>0</td>\n",
              "      <td>0</td>\n",
              "      <td>1</td>\n",
              "      <td>...</td>\n",
              "      <td>0</td>\n",
              "      <td>0</td>\n",
              "      <td>0</td>\n",
              "      <td>0</td>\n",
              "      <td>1</td>\n",
              "      <td>0.025035</td>\n",
              "      <td>0</td>\n",
              "      <td>0</td>\n",
              "      <td>1</td>\n",
              "      <td>57.181995</td>\n",
              "    </tr>\n",
              "    <tr>\n",
              "      <th>2</th>\n",
              "      <td>400.00</td>\n",
              "      <td>5.991465</td>\n",
              "      <td>397.21</td>\n",
              "      <td>0</td>\n",
              "      <td>1</td>\n",
              "      <td>0</td>\n",
              "      <td>0</td>\n",
              "      <td>0</td>\n",
              "      <td>0</td>\n",
              "      <td>1</td>\n",
              "      <td>...</td>\n",
              "      <td>0</td>\n",
              "      <td>0</td>\n",
              "      <td>0</td>\n",
              "      <td>0</td>\n",
              "      <td>0</td>\n",
              "      <td>0.006977</td>\n",
              "      <td>0</td>\n",
              "      <td>0</td>\n",
              "      <td>0</td>\n",
              "      <td>58.160273</td>\n",
              "    </tr>\n",
              "    <tr>\n",
              "      <th>3</th>\n",
              "      <td>420.73</td>\n",
              "      <td>6.041991</td>\n",
              "      <td>397.21</td>\n",
              "      <td>0</td>\n",
              "      <td>1</td>\n",
              "      <td>0</td>\n",
              "      <td>0</td>\n",
              "      <td>0</td>\n",
              "      <td>0</td>\n",
              "      <td>1</td>\n",
              "      <td>...</td>\n",
              "      <td>0</td>\n",
              "      <td>0</td>\n",
              "      <td>0</td>\n",
              "      <td>0</td>\n",
              "      <td>0</td>\n",
              "      <td>0.006662</td>\n",
              "      <td>0</td>\n",
              "      <td>0</td>\n",
              "      <td>0</td>\n",
              "      <td>58.489647</td>\n",
              "    </tr>\n",
              "    <tr>\n",
              "      <th>4</th>\n",
              "      <td>355.00</td>\n",
              "      <td>5.872118</td>\n",
              "      <td>397.21</td>\n",
              "      <td>0</td>\n",
              "      <td>1</td>\n",
              "      <td>0</td>\n",
              "      <td>0</td>\n",
              "      <td>0</td>\n",
              "      <td>0</td>\n",
              "      <td>1</td>\n",
              "      <td>...</td>\n",
              "      <td>0</td>\n",
              "      <td>0</td>\n",
              "      <td>0</td>\n",
              "      <td>0</td>\n",
              "      <td>1</td>\n",
              "      <td>0.062841</td>\n",
              "      <td>0</td>\n",
              "      <td>0</td>\n",
              "      <td>0</td>\n",
              "      <td>60.797777</td>\n",
              "    </tr>\n",
              "    <tr>\n",
              "      <th>...</th>\n",
              "      <td>...</td>\n",
              "      <td>...</td>\n",
              "      <td>...</td>\n",
              "      <td>...</td>\n",
              "      <td>...</td>\n",
              "      <td>...</td>\n",
              "      <td>...</td>\n",
              "      <td>...</td>\n",
              "      <td>...</td>\n",
              "      <td>...</td>\n",
              "      <td>...</td>\n",
              "      <td>...</td>\n",
              "      <td>...</td>\n",
              "      <td>...</td>\n",
              "      <td>...</td>\n",
              "      <td>...</td>\n",
              "      <td>...</td>\n",
              "      <td>...</td>\n",
              "      <td>...</td>\n",
              "      <td>...</td>\n",
              "      <td>...</td>\n",
              "    </tr>\n",
              "    <tr>\n",
              "      <th>27455</th>\n",
              "      <td>71.84</td>\n",
              "      <td>4.274441</td>\n",
              "      <td>70.72</td>\n",
              "      <td>0</td>\n",
              "      <td>0</td>\n",
              "      <td>1</td>\n",
              "      <td>0</td>\n",
              "      <td>0</td>\n",
              "      <td>0</td>\n",
              "      <td>0</td>\n",
              "      <td>...</td>\n",
              "      <td>0</td>\n",
              "      <td>0</td>\n",
              "      <td>0</td>\n",
              "      <td>0</td>\n",
              "      <td>1</td>\n",
              "      <td>0.293997</td>\n",
              "      <td>0</td>\n",
              "      <td>0</td>\n",
              "      <td>0</td>\n",
              "      <td>10.935599</td>\n",
              "    </tr>\n",
              "    <tr>\n",
              "      <th>27456</th>\n",
              "      <td>73.42</td>\n",
              "      <td>4.296196</td>\n",
              "      <td>70.72</td>\n",
              "      <td>0</td>\n",
              "      <td>0</td>\n",
              "      <td>1</td>\n",
              "      <td>0</td>\n",
              "      <td>0</td>\n",
              "      <td>0</td>\n",
              "      <td>0</td>\n",
              "      <td>...</td>\n",
              "      <td>0</td>\n",
              "      <td>0</td>\n",
              "      <td>0</td>\n",
              "      <td>0</td>\n",
              "      <td>1</td>\n",
              "      <td>0.185491</td>\n",
              "      <td>0</td>\n",
              "      <td>0</td>\n",
              "      <td>0</td>\n",
              "      <td>10.850061</td>\n",
              "    </tr>\n",
              "    <tr>\n",
              "      <th>27457</th>\n",
              "      <td>75.00</td>\n",
              "      <td>4.317488</td>\n",
              "      <td>70.72</td>\n",
              "      <td>0</td>\n",
              "      <td>0</td>\n",
              "      <td>1</td>\n",
              "      <td>0</td>\n",
              "      <td>0</td>\n",
              "      <td>0</td>\n",
              "      <td>0</td>\n",
              "      <td>...</td>\n",
              "      <td>0</td>\n",
              "      <td>0</td>\n",
              "      <td>0</td>\n",
              "      <td>0</td>\n",
              "      <td>1</td>\n",
              "      <td>0.169524</td>\n",
              "      <td>0</td>\n",
              "      <td>0</td>\n",
              "      <td>0</td>\n",
              "      <td>10.913781</td>\n",
              "    </tr>\n",
              "    <tr>\n",
              "      <th>27458</th>\n",
              "      <td>75.00</td>\n",
              "      <td>4.317488</td>\n",
              "      <td>70.72</td>\n",
              "      <td>0</td>\n",
              "      <td>0</td>\n",
              "      <td>1</td>\n",
              "      <td>0</td>\n",
              "      <td>0</td>\n",
              "      <td>0</td>\n",
              "      <td>0</td>\n",
              "      <td>...</td>\n",
              "      <td>0</td>\n",
              "      <td>0</td>\n",
              "      <td>0</td>\n",
              "      <td>0</td>\n",
              "      <td>1</td>\n",
              "      <td>0.160716</td>\n",
              "      <td>0</td>\n",
              "      <td>0</td>\n",
              "      <td>0</td>\n",
              "      <td>10.794303</td>\n",
              "    </tr>\n",
              "    <tr>\n",
              "      <th>27459</th>\n",
              "      <td>86.62</td>\n",
              "      <td>4.461531</td>\n",
              "      <td>70.72</td>\n",
              "      <td>0</td>\n",
              "      <td>0</td>\n",
              "      <td>1</td>\n",
              "      <td>0</td>\n",
              "      <td>0</td>\n",
              "      <td>0</td>\n",
              "      <td>0</td>\n",
              "      <td>...</td>\n",
              "      <td>0</td>\n",
              "      <td>0</td>\n",
              "      <td>0</td>\n",
              "      <td>0</td>\n",
              "      <td>1</td>\n",
              "      <td>0.329445</td>\n",
              "      <td>0</td>\n",
              "      <td>0</td>\n",
              "      <td>0</td>\n",
              "      <td>10.900296</td>\n",
              "    </tr>\n",
              "  </tbody>\n",
              "</table>\n",
              "<p>27460 rows × 533 columns</p>\n",
              "</div>\n",
              "      <button class=\"colab-df-convert\" onclick=\"convertToInteractive('df-ca1f0bb5-0451-4230-b808-cde38ce9850f')\"\n",
              "              title=\"Convert this dataframe to an interactive table.\"\n",
              "              style=\"display:none;\">\n",
              "        \n",
              "  <svg xmlns=\"http://www.w3.org/2000/svg\" height=\"24px\"viewBox=\"0 0 24 24\"\n",
              "       width=\"24px\">\n",
              "    <path d=\"M0 0h24v24H0V0z\" fill=\"none\"/>\n",
              "    <path d=\"M18.56 5.44l.94 2.06.94-2.06 2.06-.94-2.06-.94-.94-2.06-.94 2.06-2.06.94zm-11 1L8.5 8.5l.94-2.06 2.06-.94-2.06-.94L8.5 2.5l-.94 2.06-2.06.94zm10 10l.94 2.06.94-2.06 2.06-.94-2.06-.94-.94-2.06-.94 2.06-2.06.94z\"/><path d=\"M17.41 7.96l-1.37-1.37c-.4-.4-.92-.59-1.43-.59-.52 0-1.04.2-1.43.59L10.3 9.45l-7.72 7.72c-.78.78-.78 2.05 0 2.83L4 21.41c.39.39.9.59 1.41.59.51 0 1.02-.2 1.41-.59l7.78-7.78 2.81-2.81c.8-.78.8-2.07 0-2.86zM5.41 20L4 18.59l7.72-7.72 1.47 1.35L5.41 20z\"/>\n",
              "  </svg>\n",
              "      </button>\n",
              "      \n",
              "  <style>\n",
              "    .colab-df-container {\n",
              "      display:flex;\n",
              "      flex-wrap:wrap;\n",
              "      gap: 12px;\n",
              "    }\n",
              "\n",
              "    .colab-df-convert {\n",
              "      background-color: #E8F0FE;\n",
              "      border: none;\n",
              "      border-radius: 50%;\n",
              "      cursor: pointer;\n",
              "      display: none;\n",
              "      fill: #1967D2;\n",
              "      height: 32px;\n",
              "      padding: 0 0 0 0;\n",
              "      width: 32px;\n",
              "    }\n",
              "\n",
              "    .colab-df-convert:hover {\n",
              "      background-color: #E2EBFA;\n",
              "      box-shadow: 0px 1px 2px rgba(60, 64, 67, 0.3), 0px 1px 3px 1px rgba(60, 64, 67, 0.15);\n",
              "      fill: #174EA6;\n",
              "    }\n",
              "\n",
              "    [theme=dark] .colab-df-convert {\n",
              "      background-color: #3B4455;\n",
              "      fill: #D2E3FC;\n",
              "    }\n",
              "\n",
              "    [theme=dark] .colab-df-convert:hover {\n",
              "      background-color: #434B5C;\n",
              "      box-shadow: 0px 1px 3px 1px rgba(0, 0, 0, 0.15);\n",
              "      filter: drop-shadow(0px 1px 2px rgba(0, 0, 0, 0.3));\n",
              "      fill: #FFFFFF;\n",
              "    }\n",
              "  </style>\n",
              "\n",
              "      <script>\n",
              "        const buttonEl =\n",
              "          document.querySelector('#df-ca1f0bb5-0451-4230-b808-cde38ce9850f button.colab-df-convert');\n",
              "        buttonEl.style.display =\n",
              "          google.colab.kernel.accessAllowed ? 'block' : 'none';\n",
              "\n",
              "        async function convertToInteractive(key) {\n",
              "          const element = document.querySelector('#df-ca1f0bb5-0451-4230-b808-cde38ce9850f');\n",
              "          const dataTable =\n",
              "            await google.colab.kernel.invokeFunction('convertToInteractive',\n",
              "                                                     [key], {});\n",
              "          if (!dataTable) return;\n",
              "\n",
              "          const docLinkHtml = 'Like what you see? Visit the ' +\n",
              "            '<a target=\"_blank\" href=https://colab.research.google.com/notebooks/data_table.ipynb>data table notebook</a>'\n",
              "            + ' to learn more about interactive tables.';\n",
              "          element.innerHTML = '';\n",
              "          dataTable['output_type'] = 'display_data';\n",
              "          await google.colab.output.renderOutput(dataTable, element);\n",
              "          const docLink = document.createElement('div');\n",
              "          docLink.innerHTML = docLinkHtml;\n",
              "          element.appendChild(docLink);\n",
              "        }\n",
              "      </script>\n",
              "    </div>\n",
              "  </div>\n",
              "  "
            ]
          },
          "metadata": {},
          "execution_count": 79
        }
      ]
    },
    {
      "cell_type": "code",
      "source": [
        "data['suggestedPricelog'] = np.log(data['suggestedPrice'])"
      ],
      "metadata": {
        "id": "GtOnqqqE20vy"
      },
      "execution_count": 80,
      "outputs": []
    },
    {
      "cell_type": "markdown",
      "source": [
        "# Modell"
      ],
      "metadata": {
        "id": "DIPT7qP8AB-c"
      }
    },
    {
      "cell_type": "markdown",
      "source": [
        "## Splits"
      ],
      "metadata": {
        "id": "D9MOMlbkCJC_"
      }
    },
    {
      "cell_type": "code",
      "source": [
        "from sklearn.model_selection import train_test_split"
      ],
      "metadata": {
        "id": "z_frL_PdAiSO"
      },
      "execution_count": 81,
      "outputs": []
    },
    {
      "cell_type": "code",
      "source": [
        "y = data['salePrice']\n",
        "X = data.drop(['salePrice', 'salePricelog'], 1)\n",
        "\n",
        "train_X, val_X, train_y, val_y = train_test_split(X, y, random_state = 0)"
      ],
      "metadata": {
        "colab": {
          "base_uri": "https://localhost:8080/"
        },
        "id": "EVA-GcY4_rOT",
        "outputId": "b67e59f4-b681-4b3b-f66f-8f5cd8a44747"
      },
      "execution_count": 82,
      "outputs": [
        {
          "output_type": "stream",
          "name": "stderr",
          "text": [
            "/usr/local/lib/python3.7/dist-packages/ipykernel_launcher.py:2: FutureWarning: In a future version of pandas all arguments of DataFrame.drop except for the argument 'labels' will be keyword-only\n",
            "  \n"
          ]
        }
      ]
    },
    {
      "cell_type": "code",
      "source": [
        "# suggestedPricelog sichern\n",
        "train_X_sugPr = train_X.copy()\n",
        "val_X_sugPr = val_X.copy()"
      ],
      "metadata": {
        "id": "YjD89T02Ajg5"
      },
      "execution_count": 83,
      "outputs": []
    },
    {
      "cell_type": "code",
      "source": [
        "# suggestedPricelog aus normalen Daten löschen\n",
        "train_X = train_X.drop(['suggestedPricelog', 'suggestedPrice'], 1)\n",
        "val_X = val_X.drop(['suggestedPricelog', 'suggestedPrice'], 1)"
      ],
      "metadata": {
        "colab": {
          "base_uri": "https://localhost:8080/"
        },
        "id": "L-uF_PDHAkJk",
        "outputId": "cd4178af-2040-4b53-ae4a-d4103f6441e3"
      },
      "execution_count": 84,
      "outputs": [
        {
          "output_type": "stream",
          "name": "stderr",
          "text": [
            "/usr/local/lib/python3.7/dist-packages/ipykernel_launcher.py:2: FutureWarning: In a future version of pandas all arguments of DataFrame.drop except for the argument 'labels' will be keyword-only\n",
            "  \n",
            "/usr/local/lib/python3.7/dist-packages/ipykernel_launcher.py:3: FutureWarning: In a future version of pandas all arguments of DataFrame.drop except for the argument 'labels' will be keyword-only\n",
            "  This is separate from the ipykernel package so we can avoid doing imports until\n"
          ]
        }
      ]
    },
    {
      "cell_type": "code",
      "source": [
        "print(train_X.shape)\n",
        "print(val_X.shape)"
      ],
      "metadata": {
        "colab": {
          "base_uri": "https://localhost:8080/"
        },
        "id": "G_-5mvdzBYAK",
        "outputId": "7f623c24-ca3a-4e3f-ae00-58c4bbf6e986"
      },
      "execution_count": 85,
      "outputs": [
        {
          "output_type": "stream",
          "name": "stdout",
          "text": [
            "(20595, 530)\n",
            "(6865, 530)\n"
          ]
        }
      ]
    },
    {
      "cell_type": "markdown",
      "source": [
        "## Modellaufbau"
      ],
      "metadata": {
        "id": "WBU7Tzp9CKah"
      }
    },
    {
      "cell_type": "code",
      "source": [
        "import xgboost as xgb\n",
        "from sklearn.compose import ColumnTransformer\n",
        "from sklearn.preprocessing import MinMaxScaler, StandardScaler\n",
        "from sklearn.model_selection import RandomizedSearchCV\n",
        "from sklearn.pipeline import Pipeline"
      ],
      "metadata": {
        "id": "n7zqR_rNCT9b"
      },
      "execution_count": 32,
      "outputs": []
    },
    {
      "cell_type": "code",
      "source": [
        "xg_reg = xgb.XGBRegressor(objective = 'reg:tweedie', booster='gblinear', eval_metric='tweedie-nloglik@1.2',tweedie_variance_power=1.1, random_state=42)"
      ],
      "metadata": {
        "id": "Rf7n0DlFBZF1"
      },
      "execution_count": 221,
      "outputs": []
    },
    {
      "cell_type": "code",
      "source": [
        "scaler = StandardScaler()"
      ],
      "metadata": {
        "id": "k06JzeQODP_Y"
      },
      "execution_count": 93,
      "outputs": []
    },
    {
      "cell_type": "code",
      "source": [
        "train_X_standardized = pd.DataFrame(scaler.fit_transform(train_X), columns=train_X.columns, index=train_X.index)\n",
        "val_X_standardized = pd.DataFrame(scaler.transform(val_X), columns=train_X.columns, index=val_X.index)"
      ],
      "metadata": {
        "id": "VeMjdxYdDkWF"
      },
      "execution_count": 94,
      "outputs": []
    },
    {
      "cell_type": "code",
      "source": [
        "xg_reg.fit(train_X_standardized, train_y)"
      ],
      "metadata": {
        "colab": {
          "base_uri": "https://localhost:8080/"
        },
        "id": "D70C_68GEX3B",
        "outputId": "367a2c32-bcf3-41c4-83e9-b9be1f344efa"
      },
      "execution_count": 222,
      "outputs": [
        {
          "output_type": "execute_result",
          "data": {
            "text/plain": [
              "XGBRegressor(booster='gblinear', eval_metric='tweedie-nloglik@1.2',\n",
              "             objective='reg:tweedie', random_state=42,\n",
              "             tweedie_variance_power=1.1)"
            ]
          },
          "metadata": {},
          "execution_count": 222
        }
      ]
    },
    {
      "cell_type": "code",
      "source": [
        "preds = xg_reg.predict(val_X_standardized)"
      ],
      "metadata": {
        "id": "SmQ_nD4REY36"
      },
      "execution_count": 223,
      "outputs": []
    },
    {
      "cell_type": "code",
      "source": [
        "from sklearn.metrics import mean_absolute_error\n",
        "mean_absolute_error(val_y, preds)"
      ],
      "metadata": {
        "colab": {
          "base_uri": "https://localhost:8080/"
        },
        "id": "h1vslRXTEz7S",
        "outputId": "af68a938-02e7-43c6-e808-15a4c4cff2a8"
      },
      "execution_count": 224,
      "outputs": [
        {
          "output_type": "execute_result",
          "data": {
            "text/plain": [
              "53.266328239625764"
            ]
          },
          "metadata": {},
          "execution_count": 224
        }
      ]
    },
    {
      "cell_type": "code",
      "source": [
        "score = xg_reg.score(val_X_standardized, val_y)\n",
        "score"
      ],
      "metadata": {
        "colab": {
          "base_uri": "https://localhost:8080/"
        },
        "id": "zG79ncCVV2js",
        "outputId": "2b9caec8-38c6-49b7-9305-95f667e450de"
      },
      "execution_count": 207,
      "outputs": [
        {
          "output_type": "execute_result",
          "data": {
            "text/plain": [
              "0.7347161859156056"
            ]
          },
          "metadata": {},
          "execution_count": 207
        }
      ]
    },
    {
      "cell_type": "code",
      "source": [
        "mean_absolute_error(val_y, val_X_sugPr['suggestedPrice'])"
      ],
      "metadata": {
        "colab": {
          "base_uri": "https://localhost:8080/"
        },
        "id": "N92M3ALoE6-T",
        "outputId": "d0601784-1f76-48f8-a49c-baf4189a0c57"
      },
      "execution_count": 59,
      "outputs": [
        {
          "output_type": "execute_result",
          "data": {
            "text/plain": [
              "37.41654916241806"
            ]
          },
          "metadata": {},
          "execution_count": 59
        }
      ]
    },
    {
      "cell_type": "markdown",
      "source": [
        "#### Hyperparametertuning mit Tree Booster"
      ],
      "metadata": {
        "id": "9iyURUOUTC-8"
      }
    },
    {
      "cell_type": "code",
      "source": [
        "xg_reg_tree = xgb.XGBRegressor(colsample_bytree=0.4, eval_metric='mae', gamma=0.0, max_depth=10, n_estimators=1100, objective='reg:squarederror', random_state=42, scale_pos_weight=50)"
      ],
      "metadata": {
        "id": "UjFuEQe5aB1p"
      },
      "execution_count": 243,
      "outputs": []
    },
    {
      "cell_type": "code",
      "source": [
        "scaler = StandardScaler()"
      ],
      "metadata": {
        "id": "sjDactu6aFg9"
      },
      "execution_count": 226,
      "outputs": []
    },
    {
      "cell_type": "code",
      "source": [
        "train_X_standardized = pd.DataFrame(scaler.fit_transform(train_X), columns=train_X.columns, index=train_X.index)\n",
        "val_X_standardized = pd.DataFrame(scaler.transform(val_X), columns=train_X.columns, index=val_X.index)"
      ],
      "metadata": {
        "id": "oZbe7HJXaGiL"
      },
      "execution_count": 227,
      "outputs": []
    },
    {
      "cell_type": "code",
      "source": [
        "xg_reg_tree.fit(train_X_standardized, train_y)"
      ],
      "metadata": {
        "colab": {
          "base_uri": "https://localhost:8080/"
        },
        "id": "RKiAVjM2aI59",
        "outputId": "72ecf56b-b198-4a09-d694-69720183ace2"
      },
      "execution_count": 244,
      "outputs": [
        {
          "output_type": "execute_result",
          "data": {
            "text/plain": [
              "XGBRegressor(colsample_bytree=0.4, eval_metric='mae', gamma=0.0, max_depth=10,\n",
              "             n_estimators=1100, objective='reg:squarederror', random_state=42,\n",
              "             scale_pos_weight=50)"
            ]
          },
          "metadata": {},
          "execution_count": 244
        }
      ]
    },
    {
      "cell_type": "code",
      "source": [
        "preds = xg_reg_tree.predict(val_X_standardized)"
      ],
      "metadata": {
        "id": "Aov24mYNaMnL"
      },
      "execution_count": 245,
      "outputs": []
    },
    {
      "cell_type": "code",
      "source": [
        "from sklearn.metrics import mean_absolute_error\n",
        "mean_absolute_error(val_y, preds)"
      ],
      "metadata": {
        "colab": {
          "base_uri": "https://localhost:8080/"
        },
        "id": "TDueMitQaQJ5",
        "outputId": "bcee8b91-470b-4f27-9a44-9cbe4fd10cb1"
      },
      "execution_count": 246,
      "outputs": [
        {
          "output_type": "execute_result",
          "data": {
            "text/plain": [
              "50.8626326763972"
            ]
          },
          "metadata": {},
          "execution_count": 246
        }
      ]
    },
    {
      "cell_type": "code",
      "source": [
        "score = xg_reg.score(val_X_standardized, val_y)\n",
        "score"
      ],
      "metadata": {
        "colab": {
          "base_uri": "https://localhost:8080/"
        },
        "id": "hOdxl9tJaTKh",
        "outputId": "eb3b2c0f-1154-4592-b8a8-da13fc98ea05"
      },
      "execution_count": 247,
      "outputs": [
        {
          "output_type": "execute_result",
          "data": {
            "text/plain": [
              "0.7487135764142672"
            ]
          },
          "metadata": {},
          "execution_count": 247
        }
      ]
    },
    {
      "cell_type": "code",
      "source": [
        "mean_absolute_error(val_y, val_X_sugPr['suggestedPrice'])"
      ],
      "metadata": {
        "colab": {
          "base_uri": "https://localhost:8080/"
        },
        "id": "_PXuFFxVaVYk",
        "outputId": "3df8970c-544b-455a-a540-6f23f5d4600b"
      },
      "execution_count": 232,
      "outputs": [
        {
          "output_type": "execute_result",
          "data": {
            "text/plain": [
              "37.41654916241806"
            ]
          },
          "metadata": {},
          "execution_count": 232
        }
      ]
    },
    {
      "cell_type": "code",
      "source": [
        "hyper_grid = {\n",
        "    'booster': ['gbtree', 'gblinear'],\n",
        "    'n_estimators': [100, 500, 900, 1100, 1500],\n",
        "    'learning_rate' : [0.05, 0.1, 0.2, 0.4, 0.6],\n",
        "    'gamma' : [0.0, 0.1, 0.2, 0.4, 0.7],\n",
        "    'max_depth': [2, 5, 7, 10],\n",
        "    'min_child_weight': [1, 3, 5, 8],\n",
        "    'colsample_bytree':[0.4, 0.5, 0.7, 0.8],\n",
        "    'scale_pos_weight':[1, 30, 50, 80, 90, 100]\n",
        "}"
      ],
      "metadata": {
        "id": "jkXpnFVBHftW"
      },
      "execution_count": 238,
      "outputs": []
    },
    {
      "cell_type": "code",
      "source": [
        "random_cv = RandomizedSearchCV(estimator=xg_reg_tree,\n",
        "            param_distributions=hyper_grid,\n",
        "            cv=5, n_iter=10,\n",
        "            scoring = 'neg_mean_absolute_error',n_jobs = -1,\n",
        "            verbose = 3, \n",
        "            return_train_score = True,\n",
        "            random_state=42)"
      ],
      "metadata": {
        "id": "Tldp6b6vI0m_"
      },
      "execution_count": 239,
      "outputs": []
    },
    {
      "cell_type": "code",
      "source": [
        "random_cv.fit(train_X_standardized, train_y)"
      ],
      "metadata": {
        "colab": {
          "base_uri": "https://localhost:8080/"
        },
        "id": "YrUdrK4PfDkN",
        "outputId": "4bdaf1c6-8546-477d-f6b6-eda209057cc4"
      },
      "execution_count": 240,
      "outputs": [
        {
          "output_type": "stream",
          "name": "stdout",
          "text": [
            "Fitting 5 folds for each of 10 candidates, totalling 50 fits\n"
          ]
        },
        {
          "output_type": "execute_result",
          "data": {
            "text/plain": [
              "RandomizedSearchCV(cv=5,\n",
              "                   estimator=XGBRegressor(eval_metric='mae',\n",
              "                                          objective='reg:squarederror',\n",
              "                                          random_state=42),\n",
              "                   n_jobs=-1,\n",
              "                   param_distributions={'booster': ['gbtree', 'gblinear'],\n",
              "                                        'colsample_bytree': [0.4, 0.5, 0.7,\n",
              "                                                             0.8],\n",
              "                                        'gamma': [0.0, 0.1, 0.2, 0.4, 0.7],\n",
              "                                        'learning_rate': [0.05, 0.1, 0.2, 0.4,\n",
              "                                                          0.6],\n",
              "                                        'max_depth': [2, 5, 7, 10],\n",
              "                                        'min_child_weight': [1, 3, 5, 8],\n",
              "                                        'n_estimators': [100, 500, 900, 1100,\n",
              "                                                         1500],\n",
              "                                        'scale_pos_weight': [1, 30, 50, 80, 90,\n",
              "                                                             100]},\n",
              "                   random_state=42, return_train_score=True,\n",
              "                   scoring='neg_mean_absolute_error', verbose=3)"
            ]
          },
          "metadata": {},
          "execution_count": 240
        }
      ]
    },
    {
      "cell_type": "code",
      "source": [
        "random_cv.best_estimator_"
      ],
      "metadata": {
        "colab": {
          "base_uri": "https://localhost:8080/"
        },
        "id": "Rmjm2hazfKlc",
        "outputId": "477058f4-6e58-486f-966c-bc9b1909565a"
      },
      "execution_count": 241,
      "outputs": [
        {
          "output_type": "execute_result",
          "data": {
            "text/plain": [
              "XGBRegressor(colsample_bytree=0.4, eval_metric='mae', gamma=0.0, max_depth=10,\n",
              "             n_estimators=1100, objective='reg:squarederror', random_state=42,\n",
              "             scale_pos_weight=50)"
            ]
          },
          "metadata": {},
          "execution_count": 241
        }
      ]
    },
    {
      "cell_type": "code",
      "source": [
        "random_cv.best_params_"
      ],
      "metadata": {
        "colab": {
          "base_uri": "https://localhost:8080/"
        },
        "id": "B_i7t6DSfKyA",
        "outputId": "4c11eb00-4686-473a-da65-6203c53de0b4"
      },
      "execution_count": 242,
      "outputs": [
        {
          "output_type": "execute_result",
          "data": {
            "text/plain": [
              "{'booster': 'gbtree',\n",
              " 'colsample_bytree': 0.4,\n",
              " 'gamma': 0.0,\n",
              " 'learning_rate': 0.1,\n",
              " 'max_depth': 10,\n",
              " 'min_child_weight': 1,\n",
              " 'n_estimators': 1100,\n",
              " 'scale_pos_weight': 50}"
            ]
          },
          "metadata": {},
          "execution_count": 242
        }
      ]
    },
    {
      "cell_type": "markdown",
      "source": [
        "#### Ergebnisse mit unterschiedlichen XGB-Parametern:\n",
        "* xgb.XGBRegressor(objective = 'reg:squarederror', booster='gblinear', reg_lambda=1, updater='coord_descent', random_state=42)\n",
        "  * MAE: 101,72\n",
        "* xgb.XGBRegressor(objective = 'reg:squarederror', booster='gbtree', random_state=42)\n",
        "  * MAE: 104,70\n",
        "* xgb.XGBRegressor(objective = 'reg:gamma', booster='gblinear', random_state=42)\n",
        "  * MAE: 88,79\n",
        "* xgb.XGBRegressor(objective = 'reg:tweedie', booster='gblinear', eval_metric='rmse', random_state=42)\n",
        "  * MAE: 56,44\n",
        "* xgb.XGBRegressor(objective = 'reg:tweedie', booster='gblinear', eval_metric='mae', random_state=42)\n",
        "  * MAE: 56,44\n",
        "* xgb.XGBRegressor(objective = 'reg:tweedie', booster='gblinear', eval_metric='tweedie-nloglik@1.2', random_state=42)\n",
        "  * MAE: 56,44\n",
        "* xgb.XGBRegressor(objective = 'reg:tweedie', booster='gblinear', eval_metric='tweedie-nloglik@1.2',tweedie_variance_power=1.4, random_state=42)\n",
        "  * MAE:70,06\n",
        "* xgb.XGBRegressor(objective = 'reg:tweedie', booster='gblinear', eval_metric='tweedie-nloglik@1.2',tweedie_variance_power=1.4, random_state=42)\n",
        "  * MAE: 55,02\n",
        "* xgb.XGBRegressor(objective = 'reg:tweedie', booster='gblinear', eval_metric='tweedie-nloglik@1.2',tweedie_variance_power=1.3, random_state=42)\n",
        "  * MAE: 53,95\n",
        "* xgb.XGBRegressor(objective = 'reg:tweedie', booster='gblinear', eval_metric='tweedie-nloglik@1.2',tweedie_variance_power=1.1, random_state=42)\n",
        "  * MAE: 53,27\n",
        "\n",
        "**Mit Hyperparametertuning:**\n",
        "* xgb.XGBRegressor(colsample_bytree=0.4, eval_metric='mae', gamma=0.0, max_depth=10, n_estimators=1100, objective='reg:squarederror', random_state=42, scale_pos_weight=50)\n",
        "  * MAE: 50,86"
      ],
      "metadata": {
        "id": "Pk8rCINQRndY"
      }
    }
  ]
}
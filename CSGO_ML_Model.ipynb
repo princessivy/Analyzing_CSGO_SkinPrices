{
  "nbformat": 4,
  "nbformat_minor": 0,
  "metadata": {
    "colab": {
      "name": "CSGO_ML-Model.ipynb",
      "provenance": [],
      "mount_file_id": "1I89Z9DQutS0Od7fxYmCbGs1vwpnMPb9U",
      "authorship_tag": "ABX9TyNLi9FXCl96MVddLIpcQHNS",
      "include_colab_link": true
    },
    "kernelspec": {
      "name": "python3",
      "display_name": "Python 3"
    },
    "language_info": {
      "name": "python"
    }
  },
  "cells": [
    {
      "cell_type": "markdown",
      "metadata": {
        "id": "view-in-github",
        "colab_type": "text"
      },
      "source": [
        "<a href=\"https://colab.research.google.com/github/princessivy/Analyzing_CSGO_SkinPrices/blob/main/CSGO_ML_Model.ipynb\" target=\"_parent\"><img src=\"https://colab.research.google.com/assets/colab-badge.svg\" alt=\"Open In Colab\"/></a>"
      ]
    },
    {
      "cell_type": "markdown",
      "source": [
        "# Imports"
      ],
      "metadata": {
        "id": "cZGfkayVWQ9T"
      }
    },
    {
      "cell_type": "code",
      "source": [
        "!pip install category_encoders --quiet"
      ],
      "metadata": {
        "colab": {
          "base_uri": "https://localhost:8080/"
        },
        "id": "PffA4_ZnWdbG",
        "outputId": "bd2e50f7-195f-4ae2-bac9-a634ee569dfe"
      },
      "execution_count": 1,
      "outputs": [
        {
          "output_type": "stream",
          "name": "stdout",
          "text": [
            "\u001b[?25l\r\u001b[K     |███▉                            | 10 kB 14.2 MB/s eta 0:00:01\r\u001b[K     |███████▋                        | 20 kB 17.8 MB/s eta 0:00:01\r\u001b[K     |███████████▍                    | 30 kB 11.7 MB/s eta 0:00:01\r\u001b[K     |███████████████▏                | 40 kB 9.6 MB/s eta 0:00:01\r\u001b[K     |███████████████████             | 51 kB 5.6 MB/s eta 0:00:01\r\u001b[K     |██████████████████████▊         | 61 kB 6.5 MB/s eta 0:00:01\r\u001b[K     |██████████████████████████▌     | 71 kB 7.4 MB/s eta 0:00:01\r\u001b[K     |██████████████████████████████▎ | 81 kB 8.2 MB/s eta 0:00:01\r\u001b[K     |████████████████████████████████| 86 kB 2.3 MB/s \n",
            "\u001b[?25h"
          ]
        }
      ]
    },
    {
      "cell_type": "code",
      "execution_count": 28,
      "metadata": {
        "id": "DvsAQxcqWCxa"
      },
      "outputs": [],
      "source": [
        "import pandas as pd\n",
        "import numpy as np\n",
        "from google.colab import drive\n",
        "from pathlib import Path\n",
        "\n",
        "from sklearn.linear_model import LinearRegression\n",
        "from sklearn.linear_model import LinearRegression\n",
        "from sklearn.model_selection import train_test_split\n",
        "from sklearn import metrics\n",
        "from sklearn.compose import ColumnTransformer\n",
        "from sklearn.pipeline import Pipeline\n",
        "from sklearn.impute import SimpleImputer\n",
        "from sklearn import preprocessing\n",
        "from sklearn.preprocessing import MinMaxScaler, StandardScaler\n",
        "from sklearn.preprocessing import OneHotEncoder\n",
        "from sklearn.preprocessing import LabelEncoder\n",
        "from category_encoders import TargetEncoder\n",
        "from category_encoders import CatBoostEncoder\n",
        "from category_encoders import CountEncoder\n",
        "import xgboost as xgb\n",
        "from sklearn.metrics import mean_absolute_error"
      ]
    },
    {
      "cell_type": "markdown",
      "source": [
        "# Daten einlesen"
      ],
      "metadata": {
        "id": "duKSKYqtWU97"
      }
    },
    {
      "cell_type": "code",
      "source": [
        "data = pd.read_csv(r'/content/drive/MyDrive/SA_BA/Data/allitems_cleaned_4.csv')"
      ],
      "metadata": {
        "id": "XY3e-WpCWVp_"
      },
      "execution_count": 4,
      "outputs": []
    },
    {
      "cell_type": "code",
      "source": [
        "y = data['salePrice']\n",
        "X = data.drop('salePrice', 1)\n",
        "\n",
        "train_X, val_X, train_y, val_y = train_test_split(X, y, random_state = 0)"
      ],
      "metadata": {
        "colab": {
          "base_uri": "https://localhost:8080/"
        },
        "id": "gk0TvjkzWn0P",
        "outputId": "5e441fad-80fc-44db-8d3e-2f19ea02cc56"
      },
      "execution_count": 5,
      "outputs": [
        {
          "output_type": "stream",
          "name": "stderr",
          "text": [
            "/usr/local/lib/python3.7/dist-packages/ipykernel_launcher.py:2: FutureWarning: In a future version of pandas all arguments of DataFrame.drop except for the argument 'labels' will be keyword-only\n",
            "  \n"
          ]
        }
      ]
    },
    {
      "cell_type": "code",
      "source": [
        "model = LinearRegression()"
      ],
      "metadata": {
        "id": "K15AunrRW76F"
      },
      "execution_count": 6,
      "outputs": []
    },
    {
      "cell_type": "markdown",
      "source": [
        "#### CatBoostEncoder"
      ],
      "metadata": {
        "id": "D2CmiIwmW3Op"
      }
    },
    {
      "cell_type": "code",
      "source": [
        "column_trans = ColumnTransformer(transformers=[\n",
        "        ('scaler', StandardScaler(), ['lock', 'wear', 'exterior', 'rarity', 'stickers', 'souvenir', 'stattrak', 'colorfulness', 'cats_colorfulness']),\n",
        "        ('targ', CatBoostEncoder(), ['family', 'version', 'subCategory']),\n",
        "        ('ohe', OneHotEncoder(handle_unknown='ignore'), ['category', 'quality', 'collection'])], remainder = 'drop', verbose_feature_names_out=False)\n",
        "\n",
        "pipeline = Pipeline(steps=[('t', column_trans), ('m',model)])\n",
        "\n",
        "pipeline.fit(train_X, train_y.ravel())\n",
        "\n",
        "score = pipeline.score(val_X, val_y.ravel())\n",
        "score"
      ],
      "metadata": {
        "colab": {
          "base_uri": "https://localhost:8080/"
        },
        "id": "AtvZEDIRW05T",
        "outputId": "1511bd75-6e18-45df-c228-1c606162a7f3"
      },
      "execution_count": 7,
      "outputs": [
        {
          "output_type": "execute_result",
          "data": {
            "text/plain": [
              "0.5491667607874895"
            ]
          },
          "metadata": {},
          "execution_count": 7
        }
      ]
    },
    {
      "cell_type": "markdown",
      "source": [
        "#### TargetEncoder"
      ],
      "metadata": {
        "id": "SxKpDZYEXCN-"
      }
    },
    {
      "cell_type": "code",
      "source": [
        "column_trans = ColumnTransformer(transformers=[\n",
        "        ('scaler', StandardScaler(), ['lock', 'wear', 'exterior', 'rarity', 'stickers', 'souvenir', 'stattrak', 'colorfulness', 'cats_colorfulness']),\n",
        "        ('targ', TargetEncoder(), ['family', 'version', 'subCategory']),\n",
        "        ('ohe', OneHotEncoder(handle_unknown='ignore'), ['category', 'quality', 'collection'])], remainder = 'drop', verbose_feature_names_out=False)\n",
        "\n",
        "pipeline = Pipeline(steps=[('t', column_trans), ('m',model)])\n",
        "\n",
        "pipeline.fit(train_X, train_y.ravel())\n",
        "\n",
        "score = pipeline.score(val_X, val_y.ravel())\n",
        "score"
      ],
      "metadata": {
        "colab": {
          "base_uri": "https://localhost:8080/"
        },
        "id": "a_fEAf9mW_yb",
        "outputId": "17f59d02-881b-4c52-a5a6-593f1002ebe7"
      },
      "execution_count": 8,
      "outputs": [
        {
          "output_type": "execute_result",
          "data": {
            "text/plain": [
              "0.5559585889347987"
            ]
          },
          "metadata": {},
          "execution_count": 8
        }
      ]
    },
    {
      "cell_type": "markdown",
      "source": [
        "#### CountEncoder"
      ],
      "metadata": {
        "id": "d3yukn4IXF2c"
      }
    },
    {
      "cell_type": "code",
      "source": [
        "column_trans = ColumnTransformer(transformers=[\n",
        "        ('scaler', StandardScaler(), ['lock', 'wear', 'exterior', 'rarity', 'stickers', 'souvenir', 'stattrak', 'colorfulness', 'cats_colorfulness']),\n",
        "        ('targ', CountEncoder(), ['family', 'version', 'subCategory']),\n",
        "        ('ohe', OneHotEncoder(handle_unknown='ignore'), ['category', 'quality', 'collection'])], remainder = 'drop', verbose_feature_names_out=False)\n",
        "\n",
        "pipeline = Pipeline(steps=[('t', column_trans), ('m',model)])\n",
        "\n",
        "pipeline.fit(train_X, train_y.ravel())\n",
        "\n",
        "score = pipeline.score(val_X, val_y.ravel())\n",
        "score"
      ],
      "metadata": {
        "colab": {
          "base_uri": "https://localhost:8080/"
        },
        "id": "WOmaScAfXEzL",
        "outputId": "f9baeffa-f961-48c9-a05a-fbac17b65514"
      },
      "execution_count": 9,
      "outputs": [
        {
          "output_type": "execute_result",
          "data": {
            "text/plain": [
              "0.23805258300534304"
            ]
          },
          "metadata": {},
          "execution_count": 9
        }
      ]
    },
    {
      "cell_type": "markdown",
      "source": [
        "#### OneHotEncoder"
      ],
      "metadata": {
        "id": "NLJfzXqOXLYX"
      }
    },
    {
      "cell_type": "markdown",
      "source": [
        "StandardScaler vs. MinMaxScaler"
      ],
      "metadata": {
        "id": "UVu7wcovXOBk"
      }
    },
    {
      "cell_type": "code",
      "source": [
        "# StandardScaler\n",
        "column_trans = ColumnTransformer(transformers=[\n",
        "        ('scaler', StandardScaler(), ['lock', 'wear', 'exterior', 'rarity', 'stickers', 'souvenir', 'stattrak', 'colorfulness', 'cats_colorfulness']),\n",
        "        ('ohe', OneHotEncoder(handle_unknown='ignore'), ['family', 'version', 'subCategory','category', 'quality', 'collection'])], remainder = 'drop', verbose_feature_names_out=False)\n",
        "\n",
        "pipeline = Pipeline(steps=[('t', column_trans), ('m',model)])\n",
        "\n",
        "pipeline.fit(train_X, train_y)\n",
        "\n",
        "score = pipeline.score(val_X, val_y.ravel())\n",
        "score"
      ],
      "metadata": {
        "colab": {
          "base_uri": "https://localhost:8080/"
        },
        "id": "HdU8ePi_XI_0",
        "outputId": "4fef4837-7f10-433e-e930-b7be37b872d4"
      },
      "execution_count": 11,
      "outputs": [
        {
          "output_type": "execute_result",
          "data": {
            "text/plain": [
              "0.61777241341272"
            ]
          },
          "metadata": {},
          "execution_count": 11
        }
      ]
    },
    {
      "cell_type": "code",
      "source": [
        "# MinMaxScaler\n",
        "column_trans = ColumnTransformer(transformers=[\n",
        "        ('scaler', MinMaxScaler(), ['lock', 'wear', 'exterior', 'rarity', 'stickers', 'souvenir', 'stattrak', 'colorfulness', 'cats_colorfulness']),\n",
        "        ('ohe', OneHotEncoder(handle_unknown='ignore'), ['family', 'version', 'subCategory','category', 'quality', 'collection'])], remainder = 'drop', verbose_feature_names_out=False)\n",
        "\n",
        "pipeline = Pipeline(steps=[('t', column_trans), ('m',model)])\n",
        "\n",
        "pipeline.fit(train_X, train_y)\n",
        "\n",
        "score = pipeline.score(val_X, val_y.ravel())\n",
        "score"
      ],
      "metadata": {
        "colab": {
          "base_uri": "https://localhost:8080/"
        },
        "id": "cxHU-u8LXRFn",
        "outputId": "f0aa46b8-cc4d-409a-97c0-66f20d30bf3d"
      },
      "execution_count": 12,
      "outputs": [
        {
          "output_type": "execute_result",
          "data": {
            "text/plain": [
              "0.6177718992039558"
            ]
          },
          "metadata": {},
          "execution_count": 12
        }
      ]
    },
    {
      "cell_type": "markdown",
      "source": [
        "#### Ohne Pipe"
      ],
      "metadata": {
        "id": "PtF69E47Xe6k"
      }
    },
    {
      "cell_type": "code",
      "source": [
        "data.columns"
      ],
      "metadata": {
        "colab": {
          "base_uri": "https://localhost:8080/"
        },
        "id": "IrjD7O1FXYf4",
        "outputId": "5c59ddb4-dc2c-4af5-dd8c-64c63110db7e"
      },
      "execution_count": 13,
      "outputs": [
        {
          "output_type": "execute_result",
          "data": {
            "text/plain": [
              "Index(['family', 'lock', 'version', 'salePrice', 'category', 'subCategory',\n",
              "       'pattern', 'wear', 'exterior', 'quality', 'rarity', 'collection',\n",
              "       'stickers', 'souvenir', 'stattrak', 'colorfulness',\n",
              "       'cats_colorfulness'],\n",
              "      dtype='object')"
            ]
          },
          "metadata": {},
          "execution_count": 13
        }
      ]
    },
    {
      "cell_type": "code",
      "source": [
        "num = ['lock', 'wear', 'exterior', 'rarity', 'stickers', 'souvenir', 'stattrak', 'colorfulness', 'cats_colorfulness']\n",
        "kat = ['family', 'version', 'category', 'subCategory', 'pattern', 'quality', 'collection']"
      ],
      "metadata": {
        "id": "e_AxGkzgXrK-"
      },
      "execution_count": 14,
      "outputs": []
    },
    {
      "cell_type": "code",
      "source": [
        "y = data['salePrice']\n",
        "X = data.drop('salePrice',1)"
      ],
      "metadata": {
        "colab": {
          "base_uri": "https://localhost:8080/"
        },
        "id": "0cijwkEtXswJ",
        "outputId": "8acb7378-c9ad-478d-e2b3-f5f5135a1582"
      },
      "execution_count": 15,
      "outputs": [
        {
          "output_type": "stream",
          "name": "stderr",
          "text": [
            "/usr/local/lib/python3.7/dist-packages/ipykernel_launcher.py:2: FutureWarning: In a future version of pandas all arguments of DataFrame.drop except for the argument 'labels' will be keyword-only\n",
            "  \n"
          ]
        }
      ]
    },
    {
      "cell_type": "code",
      "source": [
        "print(y.shape)\n",
        "print(X.shape)"
      ],
      "metadata": {
        "colab": {
          "base_uri": "https://localhost:8080/"
        },
        "id": "isE_ctZKXuiX",
        "outputId": "6a42a839-f393-48a7-efdd-1195a36e1735"
      },
      "execution_count": 16,
      "outputs": [
        {
          "output_type": "stream",
          "name": "stdout",
          "text": [
            "(132807,)\n",
            "(132807, 16)\n"
          ]
        }
      ]
    },
    {
      "cell_type": "code",
      "source": [
        "train_X, val_X, train_y, val_y = train_test_split(X, y, train_size=0.8, random_state = 0)"
      ],
      "metadata": {
        "id": "lrSYBauyXvu4"
      },
      "execution_count": 17,
      "outputs": []
    },
    {
      "cell_type": "code",
      "source": [
        "train_X_num = train_X[['lock', 'wear', 'exterior', 'rarity', 'stickers', 'souvenir', 'stattrak', 'colorfulness', 'cats_colorfulness']].copy()\n",
        "val_X_num = val_X[['lock', 'wear', 'exterior', 'rarity', 'stickers', 'souvenir', 'stattrak', 'colorfulness', 'cats_colorfulness']].copy()\n",
        "\n",
        "train_X_kat = train_X[['family', 'version', 'category', 'subCategory', 'pattern', 'quality', 'collection']].copy()\n",
        "val_X_kat = val_X[['family', 'version', 'category', 'subCategory', 'pattern', 'quality', 'collection']].copy()"
      ],
      "metadata": {
        "id": "DUzHWioBXx79"
      },
      "execution_count": 18,
      "outputs": []
    },
    {
      "cell_type": "code",
      "source": [
        "# Num-Features\n",
        "scaler = StandardScaler()\n",
        "\n",
        "train_X_num_standardized = pd.DataFrame(scaler.fit_transform(train_X_num), columns=train_X_num.columns, index=train_X_num.index)\n",
        "val_X_num_standardized = pd.DataFrame(scaler.transform(val_X_num), columns=train_X_num.columns, index=val_X_num.index)\n",
        "\n",
        "train_X_num_standardized.head()"
      ],
      "metadata": {
        "colab": {
          "base_uri": "https://localhost:8080/",
          "height": 206
        },
        "id": "9Az4QG_BXzsV",
        "outputId": "5f90d1c4-96d6-4315-f675-52d2b24d51fa"
      },
      "execution_count": 19,
      "outputs": [
        {
          "output_type": "execute_result",
          "data": {
            "text/plain": [
              "           lock      wear  exterior    rarity  stickers  souvenir  stattrak  \\\n",
              "85306 -0.530358  0.447583 -0.147101 -0.984476 -0.466068 -0.261207 -0.334161   \n",
              "56257 -0.530358  0.661525 -0.147101  0.771054 -0.466068 -0.261207 -0.334161   \n",
              "26196 -0.530358 -0.283379 -0.147101  0.185877 -0.466068 -0.261207 -0.334161   \n",
              "64356  1.885518 -1.432391  1.610914  0.771054 -0.466068 -0.261207 -0.334161   \n",
              "5161  -0.530358 -0.325797 -0.147101 -0.399299  2.145609  3.828381 -0.334161   \n",
              "\n",
              "       colorfulness  cats_colorfulness  \n",
              "85306     -0.890150          -0.639357  \n",
              "56257      0.027157           0.733712  \n",
              "26196      0.787394           0.733712  \n",
              "64356     -0.302083          -0.639357  \n",
              "5161       0.318196           0.733712  "
            ],
            "text/html": [
              "\n",
              "  <div id=\"df-baf5df5d-d9d5-4ad8-998e-16b62194acf7\">\n",
              "    <div class=\"colab-df-container\">\n",
              "      <div>\n",
              "<style scoped>\n",
              "    .dataframe tbody tr th:only-of-type {\n",
              "        vertical-align: middle;\n",
              "    }\n",
              "\n",
              "    .dataframe tbody tr th {\n",
              "        vertical-align: top;\n",
              "    }\n",
              "\n",
              "    .dataframe thead th {\n",
              "        text-align: right;\n",
              "    }\n",
              "</style>\n",
              "<table border=\"1\" class=\"dataframe\">\n",
              "  <thead>\n",
              "    <tr style=\"text-align: right;\">\n",
              "      <th></th>\n",
              "      <th>lock</th>\n",
              "      <th>wear</th>\n",
              "      <th>exterior</th>\n",
              "      <th>rarity</th>\n",
              "      <th>stickers</th>\n",
              "      <th>souvenir</th>\n",
              "      <th>stattrak</th>\n",
              "      <th>colorfulness</th>\n",
              "      <th>cats_colorfulness</th>\n",
              "    </tr>\n",
              "  </thead>\n",
              "  <tbody>\n",
              "    <tr>\n",
              "      <th>85306</th>\n",
              "      <td>-0.530358</td>\n",
              "      <td>0.447583</td>\n",
              "      <td>-0.147101</td>\n",
              "      <td>-0.984476</td>\n",
              "      <td>-0.466068</td>\n",
              "      <td>-0.261207</td>\n",
              "      <td>-0.334161</td>\n",
              "      <td>-0.890150</td>\n",
              "      <td>-0.639357</td>\n",
              "    </tr>\n",
              "    <tr>\n",
              "      <th>56257</th>\n",
              "      <td>-0.530358</td>\n",
              "      <td>0.661525</td>\n",
              "      <td>-0.147101</td>\n",
              "      <td>0.771054</td>\n",
              "      <td>-0.466068</td>\n",
              "      <td>-0.261207</td>\n",
              "      <td>-0.334161</td>\n",
              "      <td>0.027157</td>\n",
              "      <td>0.733712</td>\n",
              "    </tr>\n",
              "    <tr>\n",
              "      <th>26196</th>\n",
              "      <td>-0.530358</td>\n",
              "      <td>-0.283379</td>\n",
              "      <td>-0.147101</td>\n",
              "      <td>0.185877</td>\n",
              "      <td>-0.466068</td>\n",
              "      <td>-0.261207</td>\n",
              "      <td>-0.334161</td>\n",
              "      <td>0.787394</td>\n",
              "      <td>0.733712</td>\n",
              "    </tr>\n",
              "    <tr>\n",
              "      <th>64356</th>\n",
              "      <td>1.885518</td>\n",
              "      <td>-1.432391</td>\n",
              "      <td>1.610914</td>\n",
              "      <td>0.771054</td>\n",
              "      <td>-0.466068</td>\n",
              "      <td>-0.261207</td>\n",
              "      <td>-0.334161</td>\n",
              "      <td>-0.302083</td>\n",
              "      <td>-0.639357</td>\n",
              "    </tr>\n",
              "    <tr>\n",
              "      <th>5161</th>\n",
              "      <td>-0.530358</td>\n",
              "      <td>-0.325797</td>\n",
              "      <td>-0.147101</td>\n",
              "      <td>-0.399299</td>\n",
              "      <td>2.145609</td>\n",
              "      <td>3.828381</td>\n",
              "      <td>-0.334161</td>\n",
              "      <td>0.318196</td>\n",
              "      <td>0.733712</td>\n",
              "    </tr>\n",
              "  </tbody>\n",
              "</table>\n",
              "</div>\n",
              "      <button class=\"colab-df-convert\" onclick=\"convertToInteractive('df-baf5df5d-d9d5-4ad8-998e-16b62194acf7')\"\n",
              "              title=\"Convert this dataframe to an interactive table.\"\n",
              "              style=\"display:none;\">\n",
              "        \n",
              "  <svg xmlns=\"http://www.w3.org/2000/svg\" height=\"24px\"viewBox=\"0 0 24 24\"\n",
              "       width=\"24px\">\n",
              "    <path d=\"M0 0h24v24H0V0z\" fill=\"none\"/>\n",
              "    <path d=\"M18.56 5.44l.94 2.06.94-2.06 2.06-.94-2.06-.94-.94-2.06-.94 2.06-2.06.94zm-11 1L8.5 8.5l.94-2.06 2.06-.94-2.06-.94L8.5 2.5l-.94 2.06-2.06.94zm10 10l.94 2.06.94-2.06 2.06-.94-2.06-.94-.94-2.06-.94 2.06-2.06.94z\"/><path d=\"M17.41 7.96l-1.37-1.37c-.4-.4-.92-.59-1.43-.59-.52 0-1.04.2-1.43.59L10.3 9.45l-7.72 7.72c-.78.78-.78 2.05 0 2.83L4 21.41c.39.39.9.59 1.41.59.51 0 1.02-.2 1.41-.59l7.78-7.78 2.81-2.81c.8-.78.8-2.07 0-2.86zM5.41 20L4 18.59l7.72-7.72 1.47 1.35L5.41 20z\"/>\n",
              "  </svg>\n",
              "      </button>\n",
              "      \n",
              "  <style>\n",
              "    .colab-df-container {\n",
              "      display:flex;\n",
              "      flex-wrap:wrap;\n",
              "      gap: 12px;\n",
              "    }\n",
              "\n",
              "    .colab-df-convert {\n",
              "      background-color: #E8F0FE;\n",
              "      border: none;\n",
              "      border-radius: 50%;\n",
              "      cursor: pointer;\n",
              "      display: none;\n",
              "      fill: #1967D2;\n",
              "      height: 32px;\n",
              "      padding: 0 0 0 0;\n",
              "      width: 32px;\n",
              "    }\n",
              "\n",
              "    .colab-df-convert:hover {\n",
              "      background-color: #E2EBFA;\n",
              "      box-shadow: 0px 1px 2px rgba(60, 64, 67, 0.3), 0px 1px 3px 1px rgba(60, 64, 67, 0.15);\n",
              "      fill: #174EA6;\n",
              "    }\n",
              "\n",
              "    [theme=dark] .colab-df-convert {\n",
              "      background-color: #3B4455;\n",
              "      fill: #D2E3FC;\n",
              "    }\n",
              "\n",
              "    [theme=dark] .colab-df-convert:hover {\n",
              "      background-color: #434B5C;\n",
              "      box-shadow: 0px 1px 3px 1px rgba(0, 0, 0, 0.15);\n",
              "      filter: drop-shadow(0px 1px 2px rgba(0, 0, 0, 0.3));\n",
              "      fill: #FFFFFF;\n",
              "    }\n",
              "  </style>\n",
              "\n",
              "      <script>\n",
              "        const buttonEl =\n",
              "          document.querySelector('#df-baf5df5d-d9d5-4ad8-998e-16b62194acf7 button.colab-df-convert');\n",
              "        buttonEl.style.display =\n",
              "          google.colab.kernel.accessAllowed ? 'block' : 'none';\n",
              "\n",
              "        async function convertToInteractive(key) {\n",
              "          const element = document.querySelector('#df-baf5df5d-d9d5-4ad8-998e-16b62194acf7');\n",
              "          const dataTable =\n",
              "            await google.colab.kernel.invokeFunction('convertToInteractive',\n",
              "                                                     [key], {});\n",
              "          if (!dataTable) return;\n",
              "\n",
              "          const docLinkHtml = 'Like what you see? Visit the ' +\n",
              "            '<a target=\"_blank\" href=https://colab.research.google.com/notebooks/data_table.ipynb>data table notebook</a>'\n",
              "            + ' to learn more about interactive tables.';\n",
              "          element.innerHTML = '';\n",
              "          dataTable['output_type'] = 'display_data';\n",
              "          await google.colab.output.renderOutput(dataTable, element);\n",
              "          const docLink = document.createElement('div');\n",
              "          docLink.innerHTML = docLinkHtml;\n",
              "          element.appendChild(docLink);\n",
              "        }\n",
              "      </script>\n",
              "    </div>\n",
              "  </div>\n",
              "  "
            ]
          },
          "metadata": {},
          "execution_count": 19
        }
      ]
    },
    {
      "cell_type": "code",
      "source": [
        "# Kat-Features\n",
        "one_hot_encoder = OneHotEncoder(handle_unknown='ignore', sparse=False)\n",
        "one_hot_cols_train = pd.DataFrame(one_hot_encoder.fit_transform(train_X_kat[['family', 'version', 'category', 'subCategory', 'quality', 'collection']]))\n",
        "one_hot_cols_valid = pd.DataFrame(one_hot_encoder.transform(val_X_kat[['family', 'version', 'category', 'subCategory', 'quality', 'collection']]))"
      ],
      "metadata": {
        "id": "vjEJ9u-KX1rE"
      },
      "execution_count": 20,
      "outputs": []
    },
    {
      "cell_type": "code",
      "source": [
        "one_hot_cols_train.index = train_X_kat.index\n",
        "one_hot_cols_valid.index = val_X_kat.index"
      ],
      "metadata": {
        "id": "qPkTt3VwX3_-"
      },
      "execution_count": 21,
      "outputs": []
    },
    {
      "cell_type": "code",
      "source": [
        "# Num + Kat\n",
        "one_hot_X_train = pd.concat([train_X_num_standardized, one_hot_cols_train], axis=1)\n",
        "one_hot_X_valid = pd.concat([val_X_num_standardized, one_hot_cols_valid], axis=1)"
      ],
      "metadata": {
        "id": "fYYvwz5oX5gg"
      },
      "execution_count": 22,
      "outputs": []
    },
    {
      "cell_type": "code",
      "source": [
        "one_hot_X_valid.head()"
      ],
      "metadata": {
        "colab": {
          "base_uri": "https://localhost:8080/",
          "height": 236
        },
        "id": "rWIHbDB3X772",
        "outputId": "8baccb75-66e9-4222-9401-b19fe8fe94c2"
      },
      "execution_count": 23,
      "outputs": [
        {
          "output_type": "execute_result",
          "data": {
            "text/plain": [
              "            lock      wear  exterior    rarity  stickers  souvenir  stattrak  \\\n",
              "88181  -0.530358  0.052156 -0.147101 -0.984476  2.145609  3.828381 -0.334161   \n",
              "81505  -0.530358  0.768639 -1.026109  0.771054 -0.466068 -0.261207 -0.334161   \n",
              "95553  -0.530358 -0.936186  0.731906  1.356231 -0.466068 -0.261207 -0.334161   \n",
              "43790   1.885518 -0.673714  0.731906  1.941408  2.145609 -0.261207 -0.334161   \n",
              "121252 -0.530358  1.743441 -1.905116 -0.984476 -0.466068 -0.261207 -0.334161   \n",
              "\n",
              "        colorfulness  cats_colorfulness    0  ...  1065  1066  1067  1068  \\\n",
              "88181       0.135788           0.733712  0.0  ...   0.0   0.0   0.0   0.0   \n",
              "81505      -0.672963          -0.639357  0.0  ...   0.0   0.0   0.0   0.0   \n",
              "95553       3.351222           3.479852  0.0  ...   0.0   0.0   0.0   0.0   \n",
              "43790       1.986681           2.106782  0.0  ...   0.0   0.0   0.0   0.0   \n",
              "121252     -0.792877          -0.639357  0.0  ...   0.0   0.0   0.0   0.0   \n",
              "\n",
              "        1069  1070  1071  1072  1073  1074  \n",
              "88181    0.0   0.0   0.0   0.0   0.0   0.0  \n",
              "81505    0.0   0.0   0.0   0.0   0.0   0.0  \n",
              "95553    0.0   0.0   0.0   0.0   0.0   0.0  \n",
              "43790    0.0   0.0   0.0   0.0   0.0   0.0  \n",
              "121252   0.0   0.0   0.0   0.0   0.0   0.0  \n",
              "\n",
              "[5 rows x 1084 columns]"
            ],
            "text/html": [
              "\n",
              "  <div id=\"df-e9958a8f-72c6-4ec7-8aaf-3ad3860c1655\">\n",
              "    <div class=\"colab-df-container\">\n",
              "      <div>\n",
              "<style scoped>\n",
              "    .dataframe tbody tr th:only-of-type {\n",
              "        vertical-align: middle;\n",
              "    }\n",
              "\n",
              "    .dataframe tbody tr th {\n",
              "        vertical-align: top;\n",
              "    }\n",
              "\n",
              "    .dataframe thead th {\n",
              "        text-align: right;\n",
              "    }\n",
              "</style>\n",
              "<table border=\"1\" class=\"dataframe\">\n",
              "  <thead>\n",
              "    <tr style=\"text-align: right;\">\n",
              "      <th></th>\n",
              "      <th>lock</th>\n",
              "      <th>wear</th>\n",
              "      <th>exterior</th>\n",
              "      <th>rarity</th>\n",
              "      <th>stickers</th>\n",
              "      <th>souvenir</th>\n",
              "      <th>stattrak</th>\n",
              "      <th>colorfulness</th>\n",
              "      <th>cats_colorfulness</th>\n",
              "      <th>0</th>\n",
              "      <th>...</th>\n",
              "      <th>1065</th>\n",
              "      <th>1066</th>\n",
              "      <th>1067</th>\n",
              "      <th>1068</th>\n",
              "      <th>1069</th>\n",
              "      <th>1070</th>\n",
              "      <th>1071</th>\n",
              "      <th>1072</th>\n",
              "      <th>1073</th>\n",
              "      <th>1074</th>\n",
              "    </tr>\n",
              "  </thead>\n",
              "  <tbody>\n",
              "    <tr>\n",
              "      <th>88181</th>\n",
              "      <td>-0.530358</td>\n",
              "      <td>0.052156</td>\n",
              "      <td>-0.147101</td>\n",
              "      <td>-0.984476</td>\n",
              "      <td>2.145609</td>\n",
              "      <td>3.828381</td>\n",
              "      <td>-0.334161</td>\n",
              "      <td>0.135788</td>\n",
              "      <td>0.733712</td>\n",
              "      <td>0.0</td>\n",
              "      <td>...</td>\n",
              "      <td>0.0</td>\n",
              "      <td>0.0</td>\n",
              "      <td>0.0</td>\n",
              "      <td>0.0</td>\n",
              "      <td>0.0</td>\n",
              "      <td>0.0</td>\n",
              "      <td>0.0</td>\n",
              "      <td>0.0</td>\n",
              "      <td>0.0</td>\n",
              "      <td>0.0</td>\n",
              "    </tr>\n",
              "    <tr>\n",
              "      <th>81505</th>\n",
              "      <td>-0.530358</td>\n",
              "      <td>0.768639</td>\n",
              "      <td>-1.026109</td>\n",
              "      <td>0.771054</td>\n",
              "      <td>-0.466068</td>\n",
              "      <td>-0.261207</td>\n",
              "      <td>-0.334161</td>\n",
              "      <td>-0.672963</td>\n",
              "      <td>-0.639357</td>\n",
              "      <td>0.0</td>\n",
              "      <td>...</td>\n",
              "      <td>0.0</td>\n",
              "      <td>0.0</td>\n",
              "      <td>0.0</td>\n",
              "      <td>0.0</td>\n",
              "      <td>0.0</td>\n",
              "      <td>0.0</td>\n",
              "      <td>0.0</td>\n",
              "      <td>0.0</td>\n",
              "      <td>0.0</td>\n",
              "      <td>0.0</td>\n",
              "    </tr>\n",
              "    <tr>\n",
              "      <th>95553</th>\n",
              "      <td>-0.530358</td>\n",
              "      <td>-0.936186</td>\n",
              "      <td>0.731906</td>\n",
              "      <td>1.356231</td>\n",
              "      <td>-0.466068</td>\n",
              "      <td>-0.261207</td>\n",
              "      <td>-0.334161</td>\n",
              "      <td>3.351222</td>\n",
              "      <td>3.479852</td>\n",
              "      <td>0.0</td>\n",
              "      <td>...</td>\n",
              "      <td>0.0</td>\n",
              "      <td>0.0</td>\n",
              "      <td>0.0</td>\n",
              "      <td>0.0</td>\n",
              "      <td>0.0</td>\n",
              "      <td>0.0</td>\n",
              "      <td>0.0</td>\n",
              "      <td>0.0</td>\n",
              "      <td>0.0</td>\n",
              "      <td>0.0</td>\n",
              "    </tr>\n",
              "    <tr>\n",
              "      <th>43790</th>\n",
              "      <td>1.885518</td>\n",
              "      <td>-0.673714</td>\n",
              "      <td>0.731906</td>\n",
              "      <td>1.941408</td>\n",
              "      <td>2.145609</td>\n",
              "      <td>-0.261207</td>\n",
              "      <td>-0.334161</td>\n",
              "      <td>1.986681</td>\n",
              "      <td>2.106782</td>\n",
              "      <td>0.0</td>\n",
              "      <td>...</td>\n",
              "      <td>0.0</td>\n",
              "      <td>0.0</td>\n",
              "      <td>0.0</td>\n",
              "      <td>0.0</td>\n",
              "      <td>0.0</td>\n",
              "      <td>0.0</td>\n",
              "      <td>0.0</td>\n",
              "      <td>0.0</td>\n",
              "      <td>0.0</td>\n",
              "      <td>0.0</td>\n",
              "    </tr>\n",
              "    <tr>\n",
              "      <th>121252</th>\n",
              "      <td>-0.530358</td>\n",
              "      <td>1.743441</td>\n",
              "      <td>-1.905116</td>\n",
              "      <td>-0.984476</td>\n",
              "      <td>-0.466068</td>\n",
              "      <td>-0.261207</td>\n",
              "      <td>-0.334161</td>\n",
              "      <td>-0.792877</td>\n",
              "      <td>-0.639357</td>\n",
              "      <td>0.0</td>\n",
              "      <td>...</td>\n",
              "      <td>0.0</td>\n",
              "      <td>0.0</td>\n",
              "      <td>0.0</td>\n",
              "      <td>0.0</td>\n",
              "      <td>0.0</td>\n",
              "      <td>0.0</td>\n",
              "      <td>0.0</td>\n",
              "      <td>0.0</td>\n",
              "      <td>0.0</td>\n",
              "      <td>0.0</td>\n",
              "    </tr>\n",
              "  </tbody>\n",
              "</table>\n",
              "<p>5 rows × 1084 columns</p>\n",
              "</div>\n",
              "      <button class=\"colab-df-convert\" onclick=\"convertToInteractive('df-e9958a8f-72c6-4ec7-8aaf-3ad3860c1655')\"\n",
              "              title=\"Convert this dataframe to an interactive table.\"\n",
              "              style=\"display:none;\">\n",
              "        \n",
              "  <svg xmlns=\"http://www.w3.org/2000/svg\" height=\"24px\"viewBox=\"0 0 24 24\"\n",
              "       width=\"24px\">\n",
              "    <path d=\"M0 0h24v24H0V0z\" fill=\"none\"/>\n",
              "    <path d=\"M18.56 5.44l.94 2.06.94-2.06 2.06-.94-2.06-.94-.94-2.06-.94 2.06-2.06.94zm-11 1L8.5 8.5l.94-2.06 2.06-.94-2.06-.94L8.5 2.5l-.94 2.06-2.06.94zm10 10l.94 2.06.94-2.06 2.06-.94-2.06-.94-.94-2.06-.94 2.06-2.06.94z\"/><path d=\"M17.41 7.96l-1.37-1.37c-.4-.4-.92-.59-1.43-.59-.52 0-1.04.2-1.43.59L10.3 9.45l-7.72 7.72c-.78.78-.78 2.05 0 2.83L4 21.41c.39.39.9.59 1.41.59.51 0 1.02-.2 1.41-.59l7.78-7.78 2.81-2.81c.8-.78.8-2.07 0-2.86zM5.41 20L4 18.59l7.72-7.72 1.47 1.35L5.41 20z\"/>\n",
              "  </svg>\n",
              "      </button>\n",
              "      \n",
              "  <style>\n",
              "    .colab-df-container {\n",
              "      display:flex;\n",
              "      flex-wrap:wrap;\n",
              "      gap: 12px;\n",
              "    }\n",
              "\n",
              "    .colab-df-convert {\n",
              "      background-color: #E8F0FE;\n",
              "      border: none;\n",
              "      border-radius: 50%;\n",
              "      cursor: pointer;\n",
              "      display: none;\n",
              "      fill: #1967D2;\n",
              "      height: 32px;\n",
              "      padding: 0 0 0 0;\n",
              "      width: 32px;\n",
              "    }\n",
              "\n",
              "    .colab-df-convert:hover {\n",
              "      background-color: #E2EBFA;\n",
              "      box-shadow: 0px 1px 2px rgba(60, 64, 67, 0.3), 0px 1px 3px 1px rgba(60, 64, 67, 0.15);\n",
              "      fill: #174EA6;\n",
              "    }\n",
              "\n",
              "    [theme=dark] .colab-df-convert {\n",
              "      background-color: #3B4455;\n",
              "      fill: #D2E3FC;\n",
              "    }\n",
              "\n",
              "    [theme=dark] .colab-df-convert:hover {\n",
              "      background-color: #434B5C;\n",
              "      box-shadow: 0px 1px 3px 1px rgba(0, 0, 0, 0.15);\n",
              "      filter: drop-shadow(0px 1px 2px rgba(0, 0, 0, 0.3));\n",
              "      fill: #FFFFFF;\n",
              "    }\n",
              "  </style>\n",
              "\n",
              "      <script>\n",
              "        const buttonEl =\n",
              "          document.querySelector('#df-e9958a8f-72c6-4ec7-8aaf-3ad3860c1655 button.colab-df-convert');\n",
              "        buttonEl.style.display =\n",
              "          google.colab.kernel.accessAllowed ? 'block' : 'none';\n",
              "\n",
              "        async function convertToInteractive(key) {\n",
              "          const element = document.querySelector('#df-e9958a8f-72c6-4ec7-8aaf-3ad3860c1655');\n",
              "          const dataTable =\n",
              "            await google.colab.kernel.invokeFunction('convertToInteractive',\n",
              "                                                     [key], {});\n",
              "          if (!dataTable) return;\n",
              "\n",
              "          const docLinkHtml = 'Like what you see? Visit the ' +\n",
              "            '<a target=\"_blank\" href=https://colab.research.google.com/notebooks/data_table.ipynb>data table notebook</a>'\n",
              "            + ' to learn more about interactive tables.';\n",
              "          element.innerHTML = '';\n",
              "          dataTable['output_type'] = 'display_data';\n",
              "          await google.colab.output.renderOutput(dataTable, element);\n",
              "          const docLink = document.createElement('div');\n",
              "          docLink.innerHTML = docLinkHtml;\n",
              "          element.appendChild(docLink);\n",
              "        }\n",
              "      </script>\n",
              "    </div>\n",
              "  </div>\n",
              "  "
            ]
          },
          "metadata": {},
          "execution_count": 23
        }
      ]
    },
    {
      "cell_type": "code",
      "source": [
        "model = LinearRegression()"
      ],
      "metadata": {
        "id": "Pri85kuPX_QZ"
      },
      "execution_count": 24,
      "outputs": []
    },
    {
      "cell_type": "code",
      "source": [
        "model.fit(one_hot_X_train, train_y)"
      ],
      "metadata": {
        "colab": {
          "base_uri": "https://localhost:8080/"
        },
        "id": "fr-WmUekYCBZ",
        "outputId": "083da152-cd2a-4c05-a00e-2b6aa49ffce7"
      },
      "execution_count": 25,
      "outputs": [
        {
          "output_type": "stream",
          "name": "stderr",
          "text": [
            "/usr/local/lib/python3.7/dist-packages/sklearn/utils/validation.py:1692: FutureWarning: Feature names only support names that are all strings. Got feature names with dtypes: ['int', 'str']. An error will be raised in 1.2.\n",
            "  FutureWarning,\n"
          ]
        },
        {
          "output_type": "execute_result",
          "data": {
            "text/plain": [
              "LinearRegression()"
            ]
          },
          "metadata": {},
          "execution_count": 25
        }
      ]
    },
    {
      "cell_type": "code",
      "source": [
        "score = model.score(one_hot_X_train, train_y)\n",
        "score"
      ],
      "metadata": {
        "colab": {
          "base_uri": "https://localhost:8080/"
        },
        "id": "EjWQ8PKOYEHn",
        "outputId": "fc76bc7b-6d00-4004-bcb9-993ecfc2eebf"
      },
      "execution_count": 26,
      "outputs": [
        {
          "output_type": "stream",
          "name": "stderr",
          "text": [
            "/usr/local/lib/python3.7/dist-packages/sklearn/utils/validation.py:1692: FutureWarning: Feature names only support names that are all strings. Got feature names with dtypes: ['int', 'str']. An error will be raised in 1.2.\n",
            "  FutureWarning,\n"
          ]
        },
        {
          "output_type": "execute_result",
          "data": {
            "text/plain": [
              "0.6575920286516963"
            ]
          },
          "metadata": {},
          "execution_count": 26
        }
      ]
    },
    {
      "cell_type": "code",
      "source": [
        "preds = model.predict(one_hot_X_valid)"
      ],
      "metadata": {
        "colab": {
          "base_uri": "https://localhost:8080/"
        },
        "id": "h-fmIgwSYJ3u",
        "outputId": "341d9089-542e-4b8f-c18c-f8974d8009eb"
      },
      "execution_count": 27,
      "outputs": [
        {
          "output_type": "stream",
          "name": "stderr",
          "text": [
            "/usr/local/lib/python3.7/dist-packages/sklearn/utils/validation.py:1692: FutureWarning: Feature names only support names that are all strings. Got feature names with dtypes: ['int', 'str']. An error will be raised in 1.2.\n",
            "  FutureWarning,\n"
          ]
        }
      ]
    },
    {
      "cell_type": "code",
      "source": [
        "mean_absolute_error(val_y, preds)"
      ],
      "metadata": {
        "colab": {
          "base_uri": "https://localhost:8080/"
        },
        "id": "ApQuv0zSYKNE",
        "outputId": "648fe323-4973-4304-ffc6-c122588f7d93"
      },
      "execution_count": 29,
      "outputs": [
        {
          "output_type": "execute_result",
          "data": {
            "text/plain": [
              "151235801.31242177"
            ]
          },
          "metadata": {},
          "execution_count": 29
        }
      ]
    },
    {
      "cell_type": "code",
      "source": [
        "coefficients = pd.concat([pd.DataFrame(one_hot_X_train.columns),pd.DataFrame(np.transpose(model.coef_))], axis = 1)\n",
        "coefficients"
      ],
      "metadata": {
        "colab": {
          "base_uri": "https://localhost:8080/",
          "height": 424
        },
        "id": "frIm6rXvYUyA",
        "outputId": "8db4a6b9-74c6-4a80-b53c-09cd14966e5a"
      },
      "execution_count": 30,
      "outputs": [
        {
          "output_type": "execute_result",
          "data": {
            "text/plain": [
              "             0             0\n",
              "0         lock -5.361657e+00\n",
              "1         wear -7.393402e-01\n",
              "2     exterior  7.477862e+00\n",
              "3       rarity -5.607323e+01\n",
              "4     stickers  1.859519e+00\n",
              "...        ...           ...\n",
              "1079      1070  9.601004e+12\n",
              "1080      1071  7.865986e+12\n",
              "1081      1072  9.601004e+12\n",
              "1082      1073  7.865986e+12\n",
              "1083      1074  7.865986e+12\n",
              "\n",
              "[1084 rows x 2 columns]"
            ],
            "text/html": [
              "\n",
              "  <div id=\"df-587098e1-a31f-4692-8549-be39150497e4\">\n",
              "    <div class=\"colab-df-container\">\n",
              "      <div>\n",
              "<style scoped>\n",
              "    .dataframe tbody tr th:only-of-type {\n",
              "        vertical-align: middle;\n",
              "    }\n",
              "\n",
              "    .dataframe tbody tr th {\n",
              "        vertical-align: top;\n",
              "    }\n",
              "\n",
              "    .dataframe thead th {\n",
              "        text-align: right;\n",
              "    }\n",
              "</style>\n",
              "<table border=\"1\" class=\"dataframe\">\n",
              "  <thead>\n",
              "    <tr style=\"text-align: right;\">\n",
              "      <th></th>\n",
              "      <th>0</th>\n",
              "      <th>0</th>\n",
              "    </tr>\n",
              "  </thead>\n",
              "  <tbody>\n",
              "    <tr>\n",
              "      <th>0</th>\n",
              "      <td>lock</td>\n",
              "      <td>-5.361657e+00</td>\n",
              "    </tr>\n",
              "    <tr>\n",
              "      <th>1</th>\n",
              "      <td>wear</td>\n",
              "      <td>-7.393402e-01</td>\n",
              "    </tr>\n",
              "    <tr>\n",
              "      <th>2</th>\n",
              "      <td>exterior</td>\n",
              "      <td>7.477862e+00</td>\n",
              "    </tr>\n",
              "    <tr>\n",
              "      <th>3</th>\n",
              "      <td>rarity</td>\n",
              "      <td>-5.607323e+01</td>\n",
              "    </tr>\n",
              "    <tr>\n",
              "      <th>4</th>\n",
              "      <td>stickers</td>\n",
              "      <td>1.859519e+00</td>\n",
              "    </tr>\n",
              "    <tr>\n",
              "      <th>...</th>\n",
              "      <td>...</td>\n",
              "      <td>...</td>\n",
              "    </tr>\n",
              "    <tr>\n",
              "      <th>1079</th>\n",
              "      <td>1070</td>\n",
              "      <td>9.601004e+12</td>\n",
              "    </tr>\n",
              "    <tr>\n",
              "      <th>1080</th>\n",
              "      <td>1071</td>\n",
              "      <td>7.865986e+12</td>\n",
              "    </tr>\n",
              "    <tr>\n",
              "      <th>1081</th>\n",
              "      <td>1072</td>\n",
              "      <td>9.601004e+12</td>\n",
              "    </tr>\n",
              "    <tr>\n",
              "      <th>1082</th>\n",
              "      <td>1073</td>\n",
              "      <td>7.865986e+12</td>\n",
              "    </tr>\n",
              "    <tr>\n",
              "      <th>1083</th>\n",
              "      <td>1074</td>\n",
              "      <td>7.865986e+12</td>\n",
              "    </tr>\n",
              "  </tbody>\n",
              "</table>\n",
              "<p>1084 rows × 2 columns</p>\n",
              "</div>\n",
              "      <button class=\"colab-df-convert\" onclick=\"convertToInteractive('df-587098e1-a31f-4692-8549-be39150497e4')\"\n",
              "              title=\"Convert this dataframe to an interactive table.\"\n",
              "              style=\"display:none;\">\n",
              "        \n",
              "  <svg xmlns=\"http://www.w3.org/2000/svg\" height=\"24px\"viewBox=\"0 0 24 24\"\n",
              "       width=\"24px\">\n",
              "    <path d=\"M0 0h24v24H0V0z\" fill=\"none\"/>\n",
              "    <path d=\"M18.56 5.44l.94 2.06.94-2.06 2.06-.94-2.06-.94-.94-2.06-.94 2.06-2.06.94zm-11 1L8.5 8.5l.94-2.06 2.06-.94-2.06-.94L8.5 2.5l-.94 2.06-2.06.94zm10 10l.94 2.06.94-2.06 2.06-.94-2.06-.94-.94-2.06-.94 2.06-2.06.94z\"/><path d=\"M17.41 7.96l-1.37-1.37c-.4-.4-.92-.59-1.43-.59-.52 0-1.04.2-1.43.59L10.3 9.45l-7.72 7.72c-.78.78-.78 2.05 0 2.83L4 21.41c.39.39.9.59 1.41.59.51 0 1.02-.2 1.41-.59l7.78-7.78 2.81-2.81c.8-.78.8-2.07 0-2.86zM5.41 20L4 18.59l7.72-7.72 1.47 1.35L5.41 20z\"/>\n",
              "  </svg>\n",
              "      </button>\n",
              "      \n",
              "  <style>\n",
              "    .colab-df-container {\n",
              "      display:flex;\n",
              "      flex-wrap:wrap;\n",
              "      gap: 12px;\n",
              "    }\n",
              "\n",
              "    .colab-df-convert {\n",
              "      background-color: #E8F0FE;\n",
              "      border: none;\n",
              "      border-radius: 50%;\n",
              "      cursor: pointer;\n",
              "      display: none;\n",
              "      fill: #1967D2;\n",
              "      height: 32px;\n",
              "      padding: 0 0 0 0;\n",
              "      width: 32px;\n",
              "    }\n",
              "\n",
              "    .colab-df-convert:hover {\n",
              "      background-color: #E2EBFA;\n",
              "      box-shadow: 0px 1px 2px rgba(60, 64, 67, 0.3), 0px 1px 3px 1px rgba(60, 64, 67, 0.15);\n",
              "      fill: #174EA6;\n",
              "    }\n",
              "\n",
              "    [theme=dark] .colab-df-convert {\n",
              "      background-color: #3B4455;\n",
              "      fill: #D2E3FC;\n",
              "    }\n",
              "\n",
              "    [theme=dark] .colab-df-convert:hover {\n",
              "      background-color: #434B5C;\n",
              "      box-shadow: 0px 1px 3px 1px rgba(0, 0, 0, 0.15);\n",
              "      filter: drop-shadow(0px 1px 2px rgba(0, 0, 0, 0.3));\n",
              "      fill: #FFFFFF;\n",
              "    }\n",
              "  </style>\n",
              "\n",
              "      <script>\n",
              "        const buttonEl =\n",
              "          document.querySelector('#df-587098e1-a31f-4692-8549-be39150497e4 button.colab-df-convert');\n",
              "        buttonEl.style.display =\n",
              "          google.colab.kernel.accessAllowed ? 'block' : 'none';\n",
              "\n",
              "        async function convertToInteractive(key) {\n",
              "          const element = document.querySelector('#df-587098e1-a31f-4692-8549-be39150497e4');\n",
              "          const dataTable =\n",
              "            await google.colab.kernel.invokeFunction('convertToInteractive',\n",
              "                                                     [key], {});\n",
              "          if (!dataTable) return;\n",
              "\n",
              "          const docLinkHtml = 'Like what you see? Visit the ' +\n",
              "            '<a target=\"_blank\" href=https://colab.research.google.com/notebooks/data_table.ipynb>data table notebook</a>'\n",
              "            + ' to learn more about interactive tables.';\n",
              "          element.innerHTML = '';\n",
              "          dataTable['output_type'] = 'display_data';\n",
              "          await google.colab.output.renderOutput(dataTable, element);\n",
              "          const docLink = document.createElement('div');\n",
              "          docLink.innerHTML = docLinkHtml;\n",
              "          element.appendChild(docLink);\n",
              "        }\n",
              "      </script>\n",
              "    </div>\n",
              "  </div>\n",
              "  "
            ]
          },
          "metadata": {},
          "execution_count": 30
        }
      ]
    },
    {
      "cell_type": "code",
      "source": [
        ""
      ],
      "metadata": {
        "id": "oI1Kl4ApYcQm"
      },
      "execution_count": null,
      "outputs": []
    }
  ]
}
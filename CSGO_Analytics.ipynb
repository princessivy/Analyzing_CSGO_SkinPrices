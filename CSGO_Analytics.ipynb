{
  "nbformat": 4,
  "nbformat_minor": 0,
  "metadata": {
    "colab": {
      "name": "CSGO_Analytics.ipynb",
      "provenance": [],
      "collapsed_sections": [],
      "mount_file_id": "1G6HqfuHyG6dx6wCuWIYE-6pI64xCmaqW",
      "authorship_tag": "ABX9TyMO2vSS7WXAF5ydP2OySpis",
      "include_colab_link": true
    },
    "kernelspec": {
      "name": "python3",
      "display_name": "Python 3"
    },
    "language_info": {
      "name": "python"
    }
  },
  "cells": [
    {
      "cell_type": "markdown",
      "metadata": {
        "id": "view-in-github",
        "colab_type": "text"
      },
      "source": [
        "<a href=\"https://colab.research.google.com/github/princessivy/Analyzing_CSGO_SkinPrices/blob/main/CSGO_Analytics.ipynb\" target=\"_parent\"><img src=\"https://colab.research.google.com/assets/colab-badge.svg\" alt=\"Open In Colab\"/></a>"
      ]
    },
    {
      "cell_type": "markdown",
      "source": [
        "#Imports"
      ],
      "metadata": {
        "id": "e3Wp-ca8A9sa"
      }
    },
    {
      "cell_type": "code",
      "execution_count": null,
      "metadata": {
        "id": "3Oe4ZWnF_N0h"
      },
      "outputs": [],
      "source": [
        "import pandas as pd\n",
        "import requests\n",
        "import json\n",
        "\n",
        "from google.colab import drive\n",
        "from pathlib import Path\n",
        "\n",
        "from PIL import Image\n",
        "import requests\n",
        "import cv2\n",
        "import numpy as np\n",
        "\n",
        "import time\n",
        "\n",
        "import matplotlib.pyplot as plt\n",
        "import seaborn as sns \n",
        "%matplotlib inline\n",
        "#%reload_ext autoreload\n",
        "#%autoreload 2"
      ]
    },
    {
      "cell_type": "markdown",
      "source": [
        "#Daten einlesen"
      ],
      "metadata": {
        "id": "OEFbJhpaBA65"
      }
    },
    {
      "cell_type": "code",
      "source": [
        "data = pd.read_csv(r'/content/drive/MyDrive/SA_BA/Data/allitems_w_colors.csv')"
      ],
      "metadata": {
        "colab": {
          "base_uri": "https://localhost:8080/"
        },
        "id": "QYsCiHzrBT3f",
        "outputId": "48698501-96fd-4679-f552-54bf99861e02"
      },
      "execution_count": null,
      "outputs": [
        {
          "output_type": "stream",
          "name": "stderr",
          "text": [
            "/usr/local/lib/python3.7/dist-packages/IPython/core/interactiveshell.py:2882: DtypeWarning: Columns (35) have mixed types.Specify dtype option on import or set low_memory=False.\n",
            "  exec(code_obj, self.user_global_ns, self.user_ns)\n"
          ]
        }
      ]
    },
    {
      "cell_type": "code",
      "source": [
        "data.head()"
      ],
      "metadata": {
        "colab": {
          "base_uri": "https://localhost:8080/",
          "height": 664
        },
        "id": "quakfDgieYn-",
        "outputId": "8ce07030-156b-4b27-fec0-fa3aff64483e"
      },
      "execution_count": null,
      "outputs": [
        {
          "output_type": "execute_result",
          "data": {
            "text/plain": [
              "   id   saleId  productId   assetId  itemId  appid            steamid  \\\n",
              "0   0  6909421    5523872  46917102    9191    730  76561198837929747   \n",
              "1   0  7653740    6120295  60753316   10318    730  76561198837492108   \n",
              "2   0  6835166    5463330  55716802    9191    730  76561198838929253   \n",
              "3   0  5746569    4614623  43496004    9191    730  76561198837990201   \n",
              "4   0  7664927    6129355  60829717    9191    730  76561198837298247   \n",
              "\n",
              "                                        url       family family_localized  \\\n",
              "0           bayonet-tiger-tooth-factory-new  Tiger Tooth      Tiger Tooth   \n",
              "1  stattrak-bayonet-tiger-tooth-factory-new  Tiger Tooth      Tiger Tooth   \n",
              "2           bayonet-tiger-tooth-factory-new  Tiger Tooth      Tiger Tooth   \n",
              "3           bayonet-tiger-tooth-factory-new  Tiger Tooth      Tiger Tooth   \n",
              "4           bayonet-tiger-tooth-factory-new  Tiger Tooth      Tiger Tooth   \n",
              "\n",
              "   ... collection collection_localized stickers canHaveScreenshots  \\\n",
              "0  ...        NaN                  NaN       []               True   \n",
              "1  ...        NaN                  NaN       []               True   \n",
              "2  ...        NaN                  NaN       []               True   \n",
              "3  ...        NaN                  NaN       []               True   \n",
              "4  ...        NaN                  NaN       []               True   \n",
              "\n",
              "                         screenshots souvenir  stattrak  \\\n",
              "0  ['playside', 'backside', 'image']    False     False   \n",
              "1  ['playside', 'backside', 'image']    False      True   \n",
              "2  ['playside', 'backside', 'image']    False     False   \n",
              "3  ['playside', 'backside', 'image']    False     False   \n",
              "4  ['playside', 'backside', 'image']    False     False   \n",
              "\n",
              "                                                tags  ownItem  colorfulness  \n",
              "0  [{'name': '★', 'name_localized': '★'}, {'name'...    False     59.790243  \n",
              "1  [{'name': '★', 'name_localized': '★'}, {'name'...    False     57.181995  \n",
              "2  [{'name': '★', 'name_localized': '★'}, {'name'...    False     58.160273  \n",
              "3  [{'name': '★', 'name_localized': '★'}, {'name'...    False     58.489647  \n",
              "4  [{'name': '★', 'name_localized': '★'}, {'name'...    False     60.797777  \n",
              "\n",
              "[5 rows x 54 columns]"
            ],
            "text/html": [
              "\n",
              "  <div id=\"df-696c023c-bdd4-403b-92b3-52132c84b98c\">\n",
              "    <div class=\"colab-df-container\">\n",
              "      <div>\n",
              "<style scoped>\n",
              "    .dataframe tbody tr th:only-of-type {\n",
              "        vertical-align: middle;\n",
              "    }\n",
              "\n",
              "    .dataframe tbody tr th {\n",
              "        vertical-align: top;\n",
              "    }\n",
              "\n",
              "    .dataframe thead th {\n",
              "        text-align: right;\n",
              "    }\n",
              "</style>\n",
              "<table border=\"1\" class=\"dataframe\">\n",
              "  <thead>\n",
              "    <tr style=\"text-align: right;\">\n",
              "      <th></th>\n",
              "      <th>id</th>\n",
              "      <th>saleId</th>\n",
              "      <th>productId</th>\n",
              "      <th>assetId</th>\n",
              "      <th>itemId</th>\n",
              "      <th>appid</th>\n",
              "      <th>steamid</th>\n",
              "      <th>url</th>\n",
              "      <th>family</th>\n",
              "      <th>family_localized</th>\n",
              "      <th>...</th>\n",
              "      <th>collection</th>\n",
              "      <th>collection_localized</th>\n",
              "      <th>stickers</th>\n",
              "      <th>canHaveScreenshots</th>\n",
              "      <th>screenshots</th>\n",
              "      <th>souvenir</th>\n",
              "      <th>stattrak</th>\n",
              "      <th>tags</th>\n",
              "      <th>ownItem</th>\n",
              "      <th>colorfulness</th>\n",
              "    </tr>\n",
              "  </thead>\n",
              "  <tbody>\n",
              "    <tr>\n",
              "      <th>0</th>\n",
              "      <td>0</td>\n",
              "      <td>6909421</td>\n",
              "      <td>5523872</td>\n",
              "      <td>46917102</td>\n",
              "      <td>9191</td>\n",
              "      <td>730</td>\n",
              "      <td>76561198837929747</td>\n",
              "      <td>bayonet-tiger-tooth-factory-new</td>\n",
              "      <td>Tiger Tooth</td>\n",
              "      <td>Tiger Tooth</td>\n",
              "      <td>...</td>\n",
              "      <td>NaN</td>\n",
              "      <td>NaN</td>\n",
              "      <td>[]</td>\n",
              "      <td>True</td>\n",
              "      <td>['playside', 'backside', 'image']</td>\n",
              "      <td>False</td>\n",
              "      <td>False</td>\n",
              "      <td>[{'name': '★', 'name_localized': '★'}, {'name'...</td>\n",
              "      <td>False</td>\n",
              "      <td>59.790243</td>\n",
              "    </tr>\n",
              "    <tr>\n",
              "      <th>1</th>\n",
              "      <td>0</td>\n",
              "      <td>7653740</td>\n",
              "      <td>6120295</td>\n",
              "      <td>60753316</td>\n",
              "      <td>10318</td>\n",
              "      <td>730</td>\n",
              "      <td>76561198837492108</td>\n",
              "      <td>stattrak-bayonet-tiger-tooth-factory-new</td>\n",
              "      <td>Tiger Tooth</td>\n",
              "      <td>Tiger Tooth</td>\n",
              "      <td>...</td>\n",
              "      <td>NaN</td>\n",
              "      <td>NaN</td>\n",
              "      <td>[]</td>\n",
              "      <td>True</td>\n",
              "      <td>['playside', 'backside', 'image']</td>\n",
              "      <td>False</td>\n",
              "      <td>True</td>\n",
              "      <td>[{'name': '★', 'name_localized': '★'}, {'name'...</td>\n",
              "      <td>False</td>\n",
              "      <td>57.181995</td>\n",
              "    </tr>\n",
              "    <tr>\n",
              "      <th>2</th>\n",
              "      <td>0</td>\n",
              "      <td>6835166</td>\n",
              "      <td>5463330</td>\n",
              "      <td>55716802</td>\n",
              "      <td>9191</td>\n",
              "      <td>730</td>\n",
              "      <td>76561198838929253</td>\n",
              "      <td>bayonet-tiger-tooth-factory-new</td>\n",
              "      <td>Tiger Tooth</td>\n",
              "      <td>Tiger Tooth</td>\n",
              "      <td>...</td>\n",
              "      <td>NaN</td>\n",
              "      <td>NaN</td>\n",
              "      <td>[]</td>\n",
              "      <td>True</td>\n",
              "      <td>['playside', 'backside', 'image']</td>\n",
              "      <td>False</td>\n",
              "      <td>False</td>\n",
              "      <td>[{'name': '★', 'name_localized': '★'}, {'name'...</td>\n",
              "      <td>False</td>\n",
              "      <td>58.160273</td>\n",
              "    </tr>\n",
              "    <tr>\n",
              "      <th>3</th>\n",
              "      <td>0</td>\n",
              "      <td>5746569</td>\n",
              "      <td>4614623</td>\n",
              "      <td>43496004</td>\n",
              "      <td>9191</td>\n",
              "      <td>730</td>\n",
              "      <td>76561198837990201</td>\n",
              "      <td>bayonet-tiger-tooth-factory-new</td>\n",
              "      <td>Tiger Tooth</td>\n",
              "      <td>Tiger Tooth</td>\n",
              "      <td>...</td>\n",
              "      <td>NaN</td>\n",
              "      <td>NaN</td>\n",
              "      <td>[]</td>\n",
              "      <td>True</td>\n",
              "      <td>['playside', 'backside', 'image']</td>\n",
              "      <td>False</td>\n",
              "      <td>False</td>\n",
              "      <td>[{'name': '★', 'name_localized': '★'}, {'name'...</td>\n",
              "      <td>False</td>\n",
              "      <td>58.489647</td>\n",
              "    </tr>\n",
              "    <tr>\n",
              "      <th>4</th>\n",
              "      <td>0</td>\n",
              "      <td>7664927</td>\n",
              "      <td>6129355</td>\n",
              "      <td>60829717</td>\n",
              "      <td>9191</td>\n",
              "      <td>730</td>\n",
              "      <td>76561198837298247</td>\n",
              "      <td>bayonet-tiger-tooth-factory-new</td>\n",
              "      <td>Tiger Tooth</td>\n",
              "      <td>Tiger Tooth</td>\n",
              "      <td>...</td>\n",
              "      <td>NaN</td>\n",
              "      <td>NaN</td>\n",
              "      <td>[]</td>\n",
              "      <td>True</td>\n",
              "      <td>['playside', 'backside', 'image']</td>\n",
              "      <td>False</td>\n",
              "      <td>False</td>\n",
              "      <td>[{'name': '★', 'name_localized': '★'}, {'name'...</td>\n",
              "      <td>False</td>\n",
              "      <td>60.797777</td>\n",
              "    </tr>\n",
              "  </tbody>\n",
              "</table>\n",
              "<p>5 rows × 54 columns</p>\n",
              "</div>\n",
              "      <button class=\"colab-df-convert\" onclick=\"convertToInteractive('df-696c023c-bdd4-403b-92b3-52132c84b98c')\"\n",
              "              title=\"Convert this dataframe to an interactive table.\"\n",
              "              style=\"display:none;\">\n",
              "        \n",
              "  <svg xmlns=\"http://www.w3.org/2000/svg\" height=\"24px\"viewBox=\"0 0 24 24\"\n",
              "       width=\"24px\">\n",
              "    <path d=\"M0 0h24v24H0V0z\" fill=\"none\"/>\n",
              "    <path d=\"M18.56 5.44l.94 2.06.94-2.06 2.06-.94-2.06-.94-.94-2.06-.94 2.06-2.06.94zm-11 1L8.5 8.5l.94-2.06 2.06-.94-2.06-.94L8.5 2.5l-.94 2.06-2.06.94zm10 10l.94 2.06.94-2.06 2.06-.94-2.06-.94-.94-2.06-.94 2.06-2.06.94z\"/><path d=\"M17.41 7.96l-1.37-1.37c-.4-.4-.92-.59-1.43-.59-.52 0-1.04.2-1.43.59L10.3 9.45l-7.72 7.72c-.78.78-.78 2.05 0 2.83L4 21.41c.39.39.9.59 1.41.59.51 0 1.02-.2 1.41-.59l7.78-7.78 2.81-2.81c.8-.78.8-2.07 0-2.86zM5.41 20L4 18.59l7.72-7.72 1.47 1.35L5.41 20z\"/>\n",
              "  </svg>\n",
              "      </button>\n",
              "      \n",
              "  <style>\n",
              "    .colab-df-container {\n",
              "      display:flex;\n",
              "      flex-wrap:wrap;\n",
              "      gap: 12px;\n",
              "    }\n",
              "\n",
              "    .colab-df-convert {\n",
              "      background-color: #E8F0FE;\n",
              "      border: none;\n",
              "      border-radius: 50%;\n",
              "      cursor: pointer;\n",
              "      display: none;\n",
              "      fill: #1967D2;\n",
              "      height: 32px;\n",
              "      padding: 0 0 0 0;\n",
              "      width: 32px;\n",
              "    }\n",
              "\n",
              "    .colab-df-convert:hover {\n",
              "      background-color: #E2EBFA;\n",
              "      box-shadow: 0px 1px 2px rgba(60, 64, 67, 0.3), 0px 1px 3px 1px rgba(60, 64, 67, 0.15);\n",
              "      fill: #174EA6;\n",
              "    }\n",
              "\n",
              "    [theme=dark] .colab-df-convert {\n",
              "      background-color: #3B4455;\n",
              "      fill: #D2E3FC;\n",
              "    }\n",
              "\n",
              "    [theme=dark] .colab-df-convert:hover {\n",
              "      background-color: #434B5C;\n",
              "      box-shadow: 0px 1px 3px 1px rgba(0, 0, 0, 0.15);\n",
              "      filter: drop-shadow(0px 1px 2px rgba(0, 0, 0, 0.3));\n",
              "      fill: #FFFFFF;\n",
              "    }\n",
              "  </style>\n",
              "\n",
              "      <script>\n",
              "        const buttonEl =\n",
              "          document.querySelector('#df-696c023c-bdd4-403b-92b3-52132c84b98c button.colab-df-convert');\n",
              "        buttonEl.style.display =\n",
              "          google.colab.kernel.accessAllowed ? 'block' : 'none';\n",
              "\n",
              "        async function convertToInteractive(key) {\n",
              "          const element = document.querySelector('#df-696c023c-bdd4-403b-92b3-52132c84b98c');\n",
              "          const dataTable =\n",
              "            await google.colab.kernel.invokeFunction('convertToInteractive',\n",
              "                                                     [key], {});\n",
              "          if (!dataTable) return;\n",
              "\n",
              "          const docLinkHtml = 'Like what you see? Visit the ' +\n",
              "            '<a target=\"_blank\" href=https://colab.research.google.com/notebooks/data_table.ipynb>data table notebook</a>'\n",
              "            + ' to learn more about interactive tables.';\n",
              "          element.innerHTML = '';\n",
              "          dataTable['output_type'] = 'display_data';\n",
              "          await google.colab.output.renderOutput(dataTable, element);\n",
              "          const docLink = document.createElement('div');\n",
              "          docLink.innerHTML = docLinkHtml;\n",
              "          element.appendChild(docLink);\n",
              "        }\n",
              "      </script>\n",
              "    </div>\n",
              "  </div>\n",
              "  "
            ]
          },
          "metadata": {},
          "execution_count": 18
        }
      ]
    },
    {
      "cell_type": "markdown",
      "source": [
        "#Beschreibung der Features\n",
        "Der rohe Datensatz enthält die folgenden Features:"
      ],
      "metadata": {
        "id": "CEF4xJEsXYOu"
      }
    },
    {
      "cell_type": "code",
      "source": [
        "data.columns"
      ],
      "metadata": {
        "colab": {
          "base_uri": "https://localhost:8080/"
        },
        "id": "bXSPClrTB7A_",
        "outputId": "d4298537-1d3e-4b2d-94cb-7f83f3e35b18"
      },
      "execution_count": null,
      "outputs": [
        {
          "output_type": "execute_result",
          "data": {
            "text/plain": [
              "Index(['id', 'saleId', 'productId', 'assetId', 'itemId', 'appid', 'steamid',\n",
              "       'url', 'family', 'family_localized', 'name', 'title', 'text',\n",
              "       'marketName', 'marketHashName', 'color', 'bgColor', 'image', 'classid',\n",
              "       'assetid', 'lock', 'version', 'versionType', 'stackAble',\n",
              "       'suggestedPrice', 'salePrice', 'currency', 'saleStatus', 'saleType',\n",
              "       'category', 'category_localized', 'subCategory',\n",
              "       'subCategory_localized', 'pattern', 'finish', 'customName', 'wear',\n",
              "       'link', 'type', 'exterior', 'quality', 'rarity', 'rarity_localized',\n",
              "       'rarityColor', 'collection', 'collection_localized', 'stickers',\n",
              "       'canHaveScreenshots', 'screenshots', 'souvenir', 'stattrak', 'tags',\n",
              "       'ownItem', 'colorfulness'],\n",
              "      dtype='object')"
            ]
          },
          "metadata": {},
          "execution_count": 57
        }
      ]
    },
    {
      "cell_type": "markdown",
      "source": [
        "Folgende Tabelle erklärt die Bedeutung der einzelnen Features:\n",
        "\n",
        "Feature | Bedeutung\n",
        "--- | ---\n",
        "id | wurde nicht herausgefunden, ist stetig '0'\n",
        "saleId | eindeutige Verkaufs-ID\n",
        "productId | eindeutige Produkt-ID\n",
        "assetId | eindeutige Asset-ID\n",
        "itemId| itemspezifische ID\n",
        "appid | Zuordnung zur Applikation CS:GO, ist stetig '730'\n",
        "steamid | KP??\n",
        "url | spezifischer Bestandteil der gesamten URL für das Item\n",
        "family | zugehörige Familie des Items (Unterunterkategorie)\n",
        "family_localized | wie 'family' nur übersetzt in Sprache der Abfrage (hier: weiterhin englisch)\n",
        "name | Anzeigename auf Skinport\n",
        "title | angezeigte Unterkategorie zu jedem Item\n",
        "text | kurze Beschreibung zum Item\n",
        "marketName | Zusammensetzung aus 'title' und 'name'\n",
        "marketHashName | wurde nicht herausgefunden, ähnlich zu 'marketName'\n",
        "color | 4 Farben?! :D\n",
        "bgColor | Wert nicht gepflegt, durchgehend 'NaN'\n",
        "image | mit Ergänzung \"https://steamcommunity-a.akamaihd.net/economy/image/\" vor dem Wert, gelangt man an ein standardisiertes Cover-Bild des Items\n",
        "classid | wurde nicht herausgefunden\n",
        "assetid | weitere eindeutige Asset-ID\n",
        "lock | Zeigt, ab wann Item zum Spieleinsatz freigegeben ist ('NaN' bedeutet, dass ein direkter Einsatz möglich ist)\n",
        "version | verschiedene Doppler-Phasen von CS:GO\n",
        "versionType | Zuordnung der 'version's in übergeordnete Kategorie\n",
        "stackAble | wurde nicht herausgefunden, ist stetig 'False'\n",
        "suggestedPrice | Wertvorschlag des Preises von Skinport\n",
        "salePrice | Kaufpreis des Items\n",
        "currency | Währung, ist stetig 'EUR'\n",
        "saleStatus | gibt an, ob Item verkaufbar ist; ist stetig 'listed' und somit verkaufbar\n",
        "saleType | gibt an, wer einen Kauf machen kann; ist stetig 'public' und somit für alle zugänglich\n",
        "category | Überkategorie\n",
        "category_localized | wie 'category' nur übersetzt in Sprache der Abfrage (hier: weiterhin englisch)\n",
        "subCategory | Unterkategorie\n",
        "subCategory_localized | wie 'subCategory' nur übersetzt in Sprache der Abfrage (hier: weiterhin englisch)\n",
        "pattern | Musternummer des Items (zwischen 1 und 1000)\n",
        "finish | Finish des Items\n",
        "customName | Name des Items, von einem Besitzer hinzugefügt\n",
        "wear | Abnutzung (zwischen 0 und 1)\n",
        "link | wurde nicht herausgefunden\n",
        "type | Typ des Items\n",
        "exterior | Kategorie der Abnutzung, je nach 'wear'\n",
        "quality | Kategorie der Qualität\n",
        "rarity | Kategorie der Rarität\n",
        "rarity_localized | wie 'rarity' nur übersetzt in Sprache der Abfrage (hier: weiterhin englisch)\n",
        "rarityColor | Farbkategorie der Rarität\n",
        "collection | Kollektion \n",
        "collection_localized | wie 'collection' nur übersetzt in Sprache der Abfrage (hier: weiterhin englisch)\n",
        "stickers | Array mit Stickern, welche sich auf dem Item befinden\n",
        "canHaveScreenshots | gibt an, ob Screenshots zum Item existieren; ist stetig 'True'\n",
        "screenshots | gibt an, welche Screenshots zum Item existieren\n",
        "souvenir | gibt an, ob das Item ein Souvenir ist oder nicht\n",
        "stattrak | gibt an, ob das Item Stattrak-Eigenschaft hat oder nicht\n",
        "tags | angegebene Tags auf Skinport\n",
        "ownItem | gibt an, ob das Item unter Besitz steht; ist stetig 'False'\n",
        "colorfulness | gibt die Farbintensität eines Skins an; umso höher, desto farbiger (Feature wurde zuvor berechnet)"
      ],
      "metadata": {
        "id": "OytiQs5NX1B0"
      }
    },
    {
      "cell_type": "markdown",
      "source": [
        "Nun werden einige Features entfernt, die unbrauchbar sind. Nähere Erläuterung in Kapitel X der Seminararbeit.\n",
        "(wenn immer nur gleicher Wert, können die auch weg, weil Varianz gleich;; wenn alle unterschiedlich sind, bringt das auch nix)"
      ],
      "metadata": {
        "id": "BYZ00yshuRza"
      }
    },
    {
      "cell_type": "code",
      "source": [
        "data = data.drop(['id', 'saleId', 'productId', 'itemId', 'appid', 'steamid', 'url', 'family_localized', 'name', 'title', 'text', 'marketName', 'marketHashName', 'bgColor',\n",
        "                  'image', 'classid', 'assetid', 'stackAble', 'currency', 'saleStatus', 'saleType', 'category_localized', 'subCategory_localized',\n",
        "                  'customName', 'link', 'rarity_localized', 'collection_localized', 'canHaveScreenshots', 'screenshots', 'tags', 'ownItem'], 1)"
      ],
      "metadata": {
        "colab": {
          "base_uri": "https://localhost:8080/"
        },
        "id": "iRabrRcYuSOm",
        "outputId": "8e191267-4084-4694-a509-5e11fbf73d56"
      },
      "execution_count": null,
      "outputs": [
        {
          "output_type": "stream",
          "name": "stderr",
          "text": [
            "/usr/local/lib/python3.7/dist-packages/ipykernel_launcher.py:3: FutureWarning: In a future version of pandas all arguments of DataFrame.drop except for the argument 'labels' will be keyword-only\n",
            "  This is separate from the ipykernel package so we can avoid doing imports until\n"
          ]
        }
      ]
    },
    {
      "cell_type": "code",
      "source": [
        "data.columns"
      ],
      "metadata": {
        "colab": {
          "base_uri": "https://localhost:8080/"
        },
        "id": "ozSDnlPkxQZ-",
        "outputId": "84f159b9-43d1-409b-ef71-b224af49adea"
      },
      "execution_count": null,
      "outputs": [
        {
          "output_type": "execute_result",
          "data": {
            "text/plain": [
              "Index(['assetId', 'family', 'color', 'lock', 'version', 'versionType',\n",
              "       'suggestedPrice', 'salePrice', 'category', 'subCategory', 'pattern',\n",
              "       'finish', 'wear', 'type', 'exterior', 'quality', 'rarity',\n",
              "       'rarityColor', 'collection', 'stickers', 'souvenir', 'stattrak',\n",
              "       'colorfulness'],\n",
              "      dtype='object')"
            ]
          },
          "metadata": {},
          "execution_count": 59
        }
      ]
    },
    {
      "cell_type": "code",
      "source": [
        "len(data.columns) #Anzahl aktueller Feature (erste Bereinigung)"
      ],
      "metadata": {
        "colab": {
          "base_uri": "https://localhost:8080/"
        },
        "id": "09DdZLlc1Kfc",
        "outputId": "48025213-b970-49ae-9428-8d3bcc6223b1"
      },
      "execution_count": null,
      "outputs": [
        {
          "output_type": "execute_result",
          "data": {
            "text/plain": [
              "23"
            ]
          },
          "metadata": {},
          "execution_count": 60
        }
      ]
    },
    {
      "cell_type": "markdown",
      "source": [
        "#Explorative Datenanalyse\n",
        "Erster Eindruck über die Daten:"
      ],
      "metadata": {
        "id": "kEaPdYJX6nM6"
      }
    },
    {
      "cell_type": "code",
      "source": [
        "data.head()"
      ],
      "metadata": {
        "colab": {
          "base_uri": "https://localhost:8080/",
          "height": 421
        },
        "id": "z_ryZ40l6zWE",
        "outputId": "ce9da8a9-4224-4027-ff1a-47b156e55efe"
      },
      "execution_count": null,
      "outputs": [
        {
          "output_type": "execute_result",
          "data": {
            "text/plain": [
              "    assetId       family    color                      lock  version  \\\n",
              "0  46917102  Tiger Tooth  #8650AC                       NaN  default   \n",
              "1  60753316  Tiger Tooth  #8650AC  2022-04-02T07:00:00.000Z  default   \n",
              "2  55716802  Tiger Tooth  #8650AC                       NaN  default   \n",
              "3  43496004  Tiger Tooth  #8650AC                       NaN  default   \n",
              "4  60829717  Tiger Tooth  #8650AC  2022-04-03T07:00:00.000Z  default   \n",
              "\n",
              "  versionType  suggestedPrice  salePrice category subCategory  ...  \\\n",
              "0     default           39721      39913    Knife     Bayonet  ...   \n",
              "1     default           44203      36244    Knife     Bayonet  ...   \n",
              "2     default           39721      40000    Knife     Bayonet  ...   \n",
              "3     default           39721      42073    Knife     Bayonet  ...   \n",
              "4     default           39721      35500    Knife     Bayonet  ...   \n",
              "\n",
              "                       type     exterior      quality  rarity rarityColor  \\\n",
              "0            ★ Covert Knife  Factory New            ★  Covert     #eb4b4b   \n",
              "1  ★ StatTrak™ Covert Knife  Factory New  ★ StatTrak™  Covert     #eb4b4b   \n",
              "2            ★ Covert Knife  Factory New            ★  Covert     #eb4b4b   \n",
              "3            ★ Covert Knife  Factory New            ★  Covert     #eb4b4b   \n",
              "4            ★ Covert Knife  Factory New            ★  Covert     #eb4b4b   \n",
              "\n",
              "  collection stickers souvenir stattrak colorfulness  \n",
              "0        NaN       []    False    False    59.790243  \n",
              "1        NaN       []    False     True    57.181995  \n",
              "2        NaN       []    False    False    58.160273  \n",
              "3        NaN       []    False    False    58.489647  \n",
              "4        NaN       []    False    False    60.797777  \n",
              "\n",
              "[5 rows x 23 columns]"
            ],
            "text/html": [
              "\n",
              "  <div id=\"df-689395a6-4410-4a07-ac44-fbddbef8cdf0\">\n",
              "    <div class=\"colab-df-container\">\n",
              "      <div>\n",
              "<style scoped>\n",
              "    .dataframe tbody tr th:only-of-type {\n",
              "        vertical-align: middle;\n",
              "    }\n",
              "\n",
              "    .dataframe tbody tr th {\n",
              "        vertical-align: top;\n",
              "    }\n",
              "\n",
              "    .dataframe thead th {\n",
              "        text-align: right;\n",
              "    }\n",
              "</style>\n",
              "<table border=\"1\" class=\"dataframe\">\n",
              "  <thead>\n",
              "    <tr style=\"text-align: right;\">\n",
              "      <th></th>\n",
              "      <th>assetId</th>\n",
              "      <th>family</th>\n",
              "      <th>color</th>\n",
              "      <th>lock</th>\n",
              "      <th>version</th>\n",
              "      <th>versionType</th>\n",
              "      <th>suggestedPrice</th>\n",
              "      <th>salePrice</th>\n",
              "      <th>category</th>\n",
              "      <th>subCategory</th>\n",
              "      <th>...</th>\n",
              "      <th>type</th>\n",
              "      <th>exterior</th>\n",
              "      <th>quality</th>\n",
              "      <th>rarity</th>\n",
              "      <th>rarityColor</th>\n",
              "      <th>collection</th>\n",
              "      <th>stickers</th>\n",
              "      <th>souvenir</th>\n",
              "      <th>stattrak</th>\n",
              "      <th>colorfulness</th>\n",
              "    </tr>\n",
              "  </thead>\n",
              "  <tbody>\n",
              "    <tr>\n",
              "      <th>0</th>\n",
              "      <td>46917102</td>\n",
              "      <td>Tiger Tooth</td>\n",
              "      <td>#8650AC</td>\n",
              "      <td>NaN</td>\n",
              "      <td>default</td>\n",
              "      <td>default</td>\n",
              "      <td>39721</td>\n",
              "      <td>39913</td>\n",
              "      <td>Knife</td>\n",
              "      <td>Bayonet</td>\n",
              "      <td>...</td>\n",
              "      <td>★ Covert Knife</td>\n",
              "      <td>Factory New</td>\n",
              "      <td>★</td>\n",
              "      <td>Covert</td>\n",
              "      <td>#eb4b4b</td>\n",
              "      <td>NaN</td>\n",
              "      <td>[]</td>\n",
              "      <td>False</td>\n",
              "      <td>False</td>\n",
              "      <td>59.790243</td>\n",
              "    </tr>\n",
              "    <tr>\n",
              "      <th>1</th>\n",
              "      <td>60753316</td>\n",
              "      <td>Tiger Tooth</td>\n",
              "      <td>#8650AC</td>\n",
              "      <td>2022-04-02T07:00:00.000Z</td>\n",
              "      <td>default</td>\n",
              "      <td>default</td>\n",
              "      <td>44203</td>\n",
              "      <td>36244</td>\n",
              "      <td>Knife</td>\n",
              "      <td>Bayonet</td>\n",
              "      <td>...</td>\n",
              "      <td>★ StatTrak™ Covert Knife</td>\n",
              "      <td>Factory New</td>\n",
              "      <td>★ StatTrak™</td>\n",
              "      <td>Covert</td>\n",
              "      <td>#eb4b4b</td>\n",
              "      <td>NaN</td>\n",
              "      <td>[]</td>\n",
              "      <td>False</td>\n",
              "      <td>True</td>\n",
              "      <td>57.181995</td>\n",
              "    </tr>\n",
              "    <tr>\n",
              "      <th>2</th>\n",
              "      <td>55716802</td>\n",
              "      <td>Tiger Tooth</td>\n",
              "      <td>#8650AC</td>\n",
              "      <td>NaN</td>\n",
              "      <td>default</td>\n",
              "      <td>default</td>\n",
              "      <td>39721</td>\n",
              "      <td>40000</td>\n",
              "      <td>Knife</td>\n",
              "      <td>Bayonet</td>\n",
              "      <td>...</td>\n",
              "      <td>★ Covert Knife</td>\n",
              "      <td>Factory New</td>\n",
              "      <td>★</td>\n",
              "      <td>Covert</td>\n",
              "      <td>#eb4b4b</td>\n",
              "      <td>NaN</td>\n",
              "      <td>[]</td>\n",
              "      <td>False</td>\n",
              "      <td>False</td>\n",
              "      <td>58.160273</td>\n",
              "    </tr>\n",
              "    <tr>\n",
              "      <th>3</th>\n",
              "      <td>43496004</td>\n",
              "      <td>Tiger Tooth</td>\n",
              "      <td>#8650AC</td>\n",
              "      <td>NaN</td>\n",
              "      <td>default</td>\n",
              "      <td>default</td>\n",
              "      <td>39721</td>\n",
              "      <td>42073</td>\n",
              "      <td>Knife</td>\n",
              "      <td>Bayonet</td>\n",
              "      <td>...</td>\n",
              "      <td>★ Covert Knife</td>\n",
              "      <td>Factory New</td>\n",
              "      <td>★</td>\n",
              "      <td>Covert</td>\n",
              "      <td>#eb4b4b</td>\n",
              "      <td>NaN</td>\n",
              "      <td>[]</td>\n",
              "      <td>False</td>\n",
              "      <td>False</td>\n",
              "      <td>58.489647</td>\n",
              "    </tr>\n",
              "    <tr>\n",
              "      <th>4</th>\n",
              "      <td>60829717</td>\n",
              "      <td>Tiger Tooth</td>\n",
              "      <td>#8650AC</td>\n",
              "      <td>2022-04-03T07:00:00.000Z</td>\n",
              "      <td>default</td>\n",
              "      <td>default</td>\n",
              "      <td>39721</td>\n",
              "      <td>35500</td>\n",
              "      <td>Knife</td>\n",
              "      <td>Bayonet</td>\n",
              "      <td>...</td>\n",
              "      <td>★ Covert Knife</td>\n",
              "      <td>Factory New</td>\n",
              "      <td>★</td>\n",
              "      <td>Covert</td>\n",
              "      <td>#eb4b4b</td>\n",
              "      <td>NaN</td>\n",
              "      <td>[]</td>\n",
              "      <td>False</td>\n",
              "      <td>False</td>\n",
              "      <td>60.797777</td>\n",
              "    </tr>\n",
              "  </tbody>\n",
              "</table>\n",
              "<p>5 rows × 23 columns</p>\n",
              "</div>\n",
              "      <button class=\"colab-df-convert\" onclick=\"convertToInteractive('df-689395a6-4410-4a07-ac44-fbddbef8cdf0')\"\n",
              "              title=\"Convert this dataframe to an interactive table.\"\n",
              "              style=\"display:none;\">\n",
              "        \n",
              "  <svg xmlns=\"http://www.w3.org/2000/svg\" height=\"24px\"viewBox=\"0 0 24 24\"\n",
              "       width=\"24px\">\n",
              "    <path d=\"M0 0h24v24H0V0z\" fill=\"none\"/>\n",
              "    <path d=\"M18.56 5.44l.94 2.06.94-2.06 2.06-.94-2.06-.94-.94-2.06-.94 2.06-2.06.94zm-11 1L8.5 8.5l.94-2.06 2.06-.94-2.06-.94L8.5 2.5l-.94 2.06-2.06.94zm10 10l.94 2.06.94-2.06 2.06-.94-2.06-.94-.94-2.06-.94 2.06-2.06.94z\"/><path d=\"M17.41 7.96l-1.37-1.37c-.4-.4-.92-.59-1.43-.59-.52 0-1.04.2-1.43.59L10.3 9.45l-7.72 7.72c-.78.78-.78 2.05 0 2.83L4 21.41c.39.39.9.59 1.41.59.51 0 1.02-.2 1.41-.59l7.78-7.78 2.81-2.81c.8-.78.8-2.07 0-2.86zM5.41 20L4 18.59l7.72-7.72 1.47 1.35L5.41 20z\"/>\n",
              "  </svg>\n",
              "      </button>\n",
              "      \n",
              "  <style>\n",
              "    .colab-df-container {\n",
              "      display:flex;\n",
              "      flex-wrap:wrap;\n",
              "      gap: 12px;\n",
              "    }\n",
              "\n",
              "    .colab-df-convert {\n",
              "      background-color: #E8F0FE;\n",
              "      border: none;\n",
              "      border-radius: 50%;\n",
              "      cursor: pointer;\n",
              "      display: none;\n",
              "      fill: #1967D2;\n",
              "      height: 32px;\n",
              "      padding: 0 0 0 0;\n",
              "      width: 32px;\n",
              "    }\n",
              "\n",
              "    .colab-df-convert:hover {\n",
              "      background-color: #E2EBFA;\n",
              "      box-shadow: 0px 1px 2px rgba(60, 64, 67, 0.3), 0px 1px 3px 1px rgba(60, 64, 67, 0.15);\n",
              "      fill: #174EA6;\n",
              "    }\n",
              "\n",
              "    [theme=dark] .colab-df-convert {\n",
              "      background-color: #3B4455;\n",
              "      fill: #D2E3FC;\n",
              "    }\n",
              "\n",
              "    [theme=dark] .colab-df-convert:hover {\n",
              "      background-color: #434B5C;\n",
              "      box-shadow: 0px 1px 3px 1px rgba(0, 0, 0, 0.15);\n",
              "      filter: drop-shadow(0px 1px 2px rgba(0, 0, 0, 0.3));\n",
              "      fill: #FFFFFF;\n",
              "    }\n",
              "  </style>\n",
              "\n",
              "      <script>\n",
              "        const buttonEl =\n",
              "          document.querySelector('#df-689395a6-4410-4a07-ac44-fbddbef8cdf0 button.colab-df-convert');\n",
              "        buttonEl.style.display =\n",
              "          google.colab.kernel.accessAllowed ? 'block' : 'none';\n",
              "\n",
              "        async function convertToInteractive(key) {\n",
              "          const element = document.querySelector('#df-689395a6-4410-4a07-ac44-fbddbef8cdf0');\n",
              "          const dataTable =\n",
              "            await google.colab.kernel.invokeFunction('convertToInteractive',\n",
              "                                                     [key], {});\n",
              "          if (!dataTable) return;\n",
              "\n",
              "          const docLinkHtml = 'Like what you see? Visit the ' +\n",
              "            '<a target=\"_blank\" href=https://colab.research.google.com/notebooks/data_table.ipynb>data table notebook</a>'\n",
              "            + ' to learn more about interactive tables.';\n",
              "          element.innerHTML = '';\n",
              "          dataTable['output_type'] = 'display_data';\n",
              "          await google.colab.output.renderOutput(dataTable, element);\n",
              "          const docLink = document.createElement('div');\n",
              "          docLink.innerHTML = docLinkHtml;\n",
              "          element.appendChild(docLink);\n",
              "        }\n",
              "      </script>\n",
              "    </div>\n",
              "  </div>\n",
              "  "
            ]
          },
          "metadata": {},
          "execution_count": 61
        }
      ]
    },
    {
      "cell_type": "markdown",
      "source": [
        "Datentypen angucken. Wichtige Unterscheidung zwischen numerischen und kategorialen Features:"
      ],
      "metadata": {
        "id": "UnoDkO7tY9CP"
      }
    },
    {
      "cell_type": "code",
      "source": [
        "data.dtypes"
      ],
      "metadata": {
        "colab": {
          "base_uri": "https://localhost:8080/"
        },
        "id": "TJPvfSfjI4et",
        "outputId": "529dc97c-c011-41a2-ca6f-9bbd858c4cb5"
      },
      "execution_count": null,
      "outputs": [
        {
          "output_type": "execute_result",
          "data": {
            "text/plain": [
              "assetId             int64\n",
              "family             object\n",
              "color              object\n",
              "lock               object\n",
              "version            object\n",
              "versionType        object\n",
              "suggestedPrice      int64\n",
              "salePrice           int64\n",
              "category           object\n",
              "subCategory        object\n",
              "pattern           float64\n",
              "finish            float64\n",
              "wear              float64\n",
              "type               object\n",
              "exterior           object\n",
              "quality            object\n",
              "rarity             object\n",
              "rarityColor        object\n",
              "collection         object\n",
              "stickers           object\n",
              "souvenir             bool\n",
              "stattrak             bool\n",
              "colorfulness      float64\n",
              "dtype: object"
            ]
          },
          "metadata": {},
          "execution_count": 62
        }
      ]
    },
    {
      "cell_type": "markdown",
      "source": [
        "Numerisch:\n",
        "- assetId\n",
        "- suggestedPrice\n",
        "- salePrice\n",
        "- pattern\n",
        "- finish\n",
        "- wear\n",
        "- colorfulness\n",
        "\n",
        "Kategorisch:\n",
        "- family\n",
        "- color\n",
        "- lock\n",
        "- version\n",
        "- versionType\n",
        "- category\n",
        "- subCategory\n",
        "- type\n",
        "- exterior\n",
        "- quality\n",
        "- rarity\n",
        "- rarityColor\n",
        "- collection\n",
        "- stickers\n",
        "- souvenir\n",
        "- stattrak\n"
      ],
      "metadata": {
        "id": "-sTuD2EzZGTe"
      }
    },
    {
      "cell_type": "markdown",
      "source": [
        "##Handhabung Missing-Values"
      ],
      "metadata": {
        "id": "OTPkS8-lb0YG"
      }
    },
    {
      "cell_type": "code",
      "source": [
        "data.info()"
      ],
      "metadata": {
        "colab": {
          "base_uri": "https://localhost:8080/"
        },
        "id": "c9SQE3ZCb3r-",
        "outputId": "b97f3ccb-ff77-4294-e1ac-8c7bd11fd11e"
      },
      "execution_count": null,
      "outputs": [
        {
          "output_type": "stream",
          "name": "stdout",
          "text": [
            "<class 'pandas.core.frame.DataFrame'>\n",
            "RangeIndex: 133005 entries, 0 to 133004\n",
            "Data columns (total 23 columns):\n",
            " #   Column          Non-Null Count   Dtype  \n",
            "---  ------          --------------   -----  \n",
            " 0   assetId         133005 non-null  int64  \n",
            " 1   family          133005 non-null  object \n",
            " 2   color           133005 non-null  object \n",
            " 3   lock            29404 non-null   object \n",
            " 4   version         133005 non-null  object \n",
            " 5   versionType     133005 non-null  object \n",
            " 6   suggestedPrice  133005 non-null  int64  \n",
            " 7   salePrice       133005 non-null  int64  \n",
            " 8   category        133005 non-null  object \n",
            " 9   subCategory     133005 non-null  object \n",
            " 10  pattern         132989 non-null  float64\n",
            " 11  finish          132838 non-null  float64\n",
            " 12  wear            133005 non-null  float64\n",
            " 13  type            133005 non-null  object \n",
            " 14  exterior        133005 non-null  object \n",
            " 15  quality         133005 non-null  object \n",
            " 16  rarity          133005 non-null  object \n",
            " 17  rarityColor     133005 non-null  object \n",
            " 18  collection      128325 non-null  object \n",
            " 19  stickers        133005 non-null  object \n",
            " 20  souvenir        133005 non-null  bool   \n",
            " 21  stattrak        133005 non-null  bool   \n",
            " 22  colorfulness    133005 non-null  float64\n",
            "dtypes: bool(2), float64(4), int64(3), object(14)\n",
            "memory usage: 21.6+ MB\n"
          ]
        }
      ]
    },
    {
      "cell_type": "code",
      "source": [
        "data.shape"
      ],
      "metadata": {
        "colab": {
          "base_uri": "https://localhost:8080/"
        },
        "id": "_-xJGoJVcd0f",
        "outputId": "080b52ea-6cf6-42b5-bb5c-7adf4f396fce"
      },
      "execution_count": null,
      "outputs": [
        {
          "output_type": "execute_result",
          "data": {
            "text/plain": [
              "(133005, 23)"
            ]
          },
          "metadata": {},
          "execution_count": 64
        }
      ]
    },
    {
      "cell_type": "code",
      "source": [
        "data = data.drop_duplicates()"
      ],
      "metadata": {
        "id": "fmjTQGlScHW_"
      },
      "execution_count": null,
      "outputs": []
    },
    {
      "cell_type": "code",
      "source": [
        "data.shape #es gibt keine Duplikate"
      ],
      "metadata": {
        "colab": {
          "base_uri": "https://localhost:8080/"
        },
        "id": "p9GJRKbycg6C",
        "outputId": "b27c34e0-d6af-43f5-cad4-17265d824c06"
      },
      "execution_count": null,
      "outputs": [
        {
          "output_type": "execute_result",
          "data": {
            "text/plain": [
              "(133005, 23)"
            ]
          },
          "metadata": {},
          "execution_count": 65
        }
      ]
    },
    {
      "cell_type": "code",
      "source": [
        "data.isnull().sum()"
      ],
      "metadata": {
        "colab": {
          "base_uri": "https://localhost:8080/"
        },
        "id": "4gqVxvcOcH7d",
        "outputId": "5842056e-f474-4238-a494-5a453598b75f"
      },
      "execution_count": null,
      "outputs": [
        {
          "output_type": "execute_result",
          "data": {
            "text/plain": [
              "assetId                0\n",
              "family                 0\n",
              "color                  0\n",
              "lock              103601\n",
              "version                0\n",
              "versionType            0\n",
              "suggestedPrice         0\n",
              "salePrice              0\n",
              "category               0\n",
              "subCategory            0\n",
              "pattern               16\n",
              "finish               167\n",
              "wear                   0\n",
              "type                   0\n",
              "exterior               0\n",
              "quality                0\n",
              "rarity                 0\n",
              "rarityColor            0\n",
              "collection          4680\n",
              "stickers               0\n",
              "souvenir               0\n",
              "stattrak               0\n",
              "colorfulness           0\n",
              "dtype: int64"
            ]
          },
          "metadata": {},
          "execution_count": 66
        }
      ]
    },
    {
      "cell_type": "markdown",
      "source": [
        "In den Features *lock, pattern, finish* und *collection* finden sich Null-Werte. Diese werden nun behandelt. "
      ],
      "metadata": {
        "id": "ZdDRhjrxc3dq"
      }
    },
    {
      "cell_type": "markdown",
      "source": [
        "**lock** Bei *lock* geht es darum, ob die Items nach dem Kauf direkt zum Spiel einsetzbar sind: Ja oder Nein. Ein 'NaN' steht in diesem Fall für \"ja\"(1), eine Zeitangabe für \"nein\"(0). Entsprechend entsteht hieraus ein Boolean.  \n",
        "(Dauer: 2 Minuten)"
      ],
      "metadata": {
        "id": "rNJuT_2tdOuI"
      }
    },
    {
      "cell_type": "code",
      "source": [
        "for x in range(len(data)):\n",
        "  try:\n",
        "    if np.isnan(data.lock[x]):\n",
        "      data.lock[x] = 0\n",
        "  except:\n",
        "    data.lock[x] = 1"
      ],
      "metadata": {
        "colab": {
          "base_uri": "https://localhost:8080/"
        },
        "id": "MJG1SllydL7g",
        "outputId": "7bbf0051-9544-4bcf-91b8-82fa3539e80e"
      },
      "execution_count": null,
      "outputs": [
        {
          "output_type": "stream",
          "name": "stderr",
          "text": [
            "/usr/local/lib/python3.7/dist-packages/ipykernel_launcher.py:4: SettingWithCopyWarning: \n",
            "A value is trying to be set on a copy of a slice from a DataFrame\n",
            "\n",
            "See the caveats in the documentation: https://pandas.pydata.org/pandas-docs/stable/user_guide/indexing.html#returning-a-view-versus-a-copy\n",
            "  after removing the cwd from sys.path.\n",
            "/usr/local/lib/python3.7/dist-packages/ipykernel_launcher.py:6: SettingWithCopyWarning: \n",
            "A value is trying to be set on a copy of a slice from a DataFrame\n",
            "\n",
            "See the caveats in the documentation: https://pandas.pydata.org/pandas-docs/stable/user_guide/indexing.html#returning-a-view-versus-a-copy\n",
            "  \n"
          ]
        }
      ]
    },
    {
      "cell_type": "markdown",
      "source": [
        "**pattern** Die fehlenden Werte lassen sich hier nicht einfach durch Binärisierung oder Imputation lösen. Solche Annahmen über das Pattern würden die Daten eher verfälschen. Da es sich bei den 16 fehlenden Werten um einen Anteil von 0,012% handelt, werden diese hiermit aus dem Datensatz entfernt."
      ],
      "metadata": {
        "id": "yNijr5Zqh0BL"
      }
    },
    {
      "cell_type": "code",
      "source": [
        "data.shape"
      ],
      "metadata": {
        "colab": {
          "base_uri": "https://localhost:8080/"
        },
        "id": "8aXU_scoi_l5",
        "outputId": "adedebb6-a415-4556-d007-d555ff448c7f"
      },
      "execution_count": null,
      "outputs": [
        {
          "output_type": "execute_result",
          "data": {
            "text/plain": [
              "(133005, 23)"
            ]
          },
          "metadata": {},
          "execution_count": 68
        }
      ]
    },
    {
      "cell_type": "code",
      "source": [
        "data = data[data['pattern'].notna()]"
      ],
      "metadata": {
        "id": "47OmTmRgi6tw"
      },
      "execution_count": null,
      "outputs": []
    },
    {
      "cell_type": "code",
      "source": [
        "data.shape"
      ],
      "metadata": {
        "colab": {
          "base_uri": "https://localhost:8080/"
        },
        "id": "qeCFTrz0jC2-",
        "outputId": "13795104-ea16-407a-e219-2387539afcdb"
      },
      "execution_count": null,
      "outputs": [
        {
          "output_type": "execute_result",
          "data": {
            "text/plain": [
              "(132989, 23)"
            ]
          },
          "metadata": {},
          "execution_count": 70
        }
      ]
    },
    {
      "cell_type": "markdown",
      "source": [
        "**finish** Selbes Vorgehen wie bei *pattern*. Der Anteil, gemessen an der neuen Datenbasis, liegt bei 0,126%."
      ],
      "metadata": {
        "id": "F6iuDJ5uj45l"
      }
    },
    {
      "cell_type": "code",
      "source": [
        "data = data[data['finish'].notna()]"
      ],
      "metadata": {
        "id": "92ks8p8OcZ4H"
      },
      "execution_count": null,
      "outputs": []
    },
    {
      "cell_type": "code",
      "source": [
        "data.shape"
      ],
      "metadata": {
        "colab": {
          "base_uri": "https://localhost:8080/"
        },
        "id": "HezCH6VGlBgs",
        "outputId": "59592462-541e-4553-8aa5-4d6859282013"
      },
      "execution_count": null,
      "outputs": [
        {
          "output_type": "execute_result",
          "data": {
            "text/plain": [
              "(132822, 23)"
            ]
          },
          "metadata": {},
          "execution_count": 72
        }
      ]
    },
    {
      "cell_type": "code",
      "source": [
        "#Index wieder richten\n",
        "data = data.reset_index()"
      ],
      "metadata": {
        "id": "juVTZcATEWOJ"
      },
      "execution_count": null,
      "outputs": []
    },
    {
      "cell_type": "markdown",
      "source": [
        "**collection** Die Items, die keiner Kollektion zugeordnet sind, werden zur Kollektion \"No Collection\" umbenannt und bilden somit eine weitere Kategorie."
      ],
      "metadata": {
        "id": "KfacBQ8Vlegu"
      }
    },
    {
      "cell_type": "code",
      "source": [
        " data['collection'] = data['collection'].fillna(\"No Collection\")"
      ],
      "metadata": {
        "id": "y1wqgdbUCjoR"
      },
      "execution_count": null,
      "outputs": []
    },
    {
      "cell_type": "markdown",
      "source": [
        "##Datentypenanpassung\n",
        "*suggestedPrice* und *salePrice* sollten float's sein. Die Trennung zwischen Euros und Cents fehlt. Diese Variablen werden durch 100 geteilt, um dies zu lösen"
      ],
      "metadata": {
        "id": "xMxxZMK3bw8z"
      }
    },
    {
      "cell_type": "code",
      "source": [
        "data['salePrice'] = data['salePrice']/100\n",
        "data['suggestedPrice'] = data['suggestedPrice']/100"
      ],
      "metadata": {
        "id": "Zd-RpWieZ9fJ"
      },
      "execution_count": null,
      "outputs": []
    },
    {
      "cell_type": "markdown",
      "source": [
        "*pattern* liegt zwischen 1 und 1000. Dabei handelt es sich nicht um einen float-Wert. Dieser Wert wird auf int gecastet."
      ],
      "metadata": {
        "id": "7_oR_RM3anGe"
      }
    },
    {
      "cell_type": "code",
      "source": [
        "data = data.astype({\"pattern\": int})"
      ],
      "metadata": {
        "id": "JV5SnO0ZaFkx"
      },
      "execution_count": null,
      "outputs": []
    },
    {
      "cell_type": "markdown",
      "source": [
        "*finish* ist ebenso ein float, welcher eigentlich einem int enstpricht. Deshalb Casting."
      ],
      "metadata": {
        "id": "SlrW6pnUFE64"
      }
    },
    {
      "cell_type": "code",
      "source": [
        "data = data.astype({\"finish\": int})"
      ],
      "metadata": {
        "id": "TBV2TR5bFL5e"
      },
      "execution_count": null,
      "outputs": []
    },
    {
      "cell_type": "markdown",
      "source": [
        "Um das Feature *stickers* richtig zu verarbeiten, wird dieses zu einer boolschen Variable umgeschrieben. Sticker: Ja(1) oder Nein(0).  \n",
        "(Dauer: 2 Minuten, 30 Sekunden)"
      ],
      "metadata": {
        "id": "h5TuHhALGLd2"
      }
    },
    {
      "cell_type": "code",
      "source": [
        "for x in range(len(data)):\n",
        "  if data.stickers[x] == '[]':\n",
        "    data.stickers[x] = 0\n",
        "  else:\n",
        "    data.stickers[x] = 1"
      ],
      "metadata": {
        "colab": {
          "base_uri": "https://localhost:8080/"
        },
        "id": "G2A8a02PGqSy",
        "outputId": "f6016b0b-248f-4fcb-a780-c8bafdf2e9ab"
      },
      "execution_count": null,
      "outputs": [
        {
          "output_type": "stream",
          "name": "stderr",
          "text": [
            "/usr/local/lib/python3.7/dist-packages/ipykernel_launcher.py:3: SettingWithCopyWarning: \n",
            "A value is trying to be set on a copy of a slice from a DataFrame\n",
            "\n",
            "See the caveats in the documentation: https://pandas.pydata.org/pandas-docs/stable/user_guide/indexing.html#returning-a-view-versus-a-copy\n",
            "  This is separate from the ipykernel package so we can avoid doing imports until\n",
            "/usr/local/lib/python3.7/dist-packages/ipykernel_launcher.py:5: SettingWithCopyWarning: \n",
            "A value is trying to be set on a copy of a slice from a DataFrame\n",
            "\n",
            "See the caveats in the documentation: https://pandas.pydata.org/pandas-docs/stable/user_guide/indexing.html#returning-a-view-versus-a-copy\n",
            "  \"\"\"\n"
          ]
        }
      ]
    },
    {
      "cell_type": "markdown",
      "source": [
        "*souvenir* steht aktuell auf \"True\" oder \"False\". Hier wird eine Umformung in 0 und 1 vorgenommen. Das selbe gilt für *stattrak*."
      ],
      "metadata": {
        "id": "TIXNJA0APBxA"
      }
    },
    {
      "cell_type": "code",
      "source": [
        "#souvenir\n",
        "data[\"souvenir\"] = data[\"souvenir\"].astype(int)\n",
        "\n",
        "#stattrak\n",
        "data[\"stattrak\"] = data[\"stattrak\"].astype(int)"
      ],
      "metadata": {
        "id": "Yq9fGJ54DZNB"
      },
      "execution_count": null,
      "outputs": []
    },
    {
      "cell_type": "markdown",
      "source": [
        "##Aktuelle Übersicht der Daten (inkl. Zwischenspeicherpunkt + Erweiterung um ein Feature)"
      ],
      "metadata": {
        "id": "neYC2xmxQlP8"
      }
    },
    {
      "cell_type": "markdown",
      "source": [
        "**Übersicht**"
      ],
      "metadata": {
        "id": "TfYBzSQgTgmZ"
      }
    },
    {
      "cell_type": "code",
      "source": [
        "data.describe()"
      ],
      "metadata": {
        "colab": {
          "base_uri": "https://localhost:8080/",
          "height": 344
        },
        "id": "X3TCMakLQmyI",
        "outputId": "91fdba00-ba58-4fed-c062-cef7f0651379"
      },
      "execution_count": null,
      "outputs": [
        {
          "output_type": "execute_result",
          "data": {
            "text/plain": [
              "               index       assetId           lock  suggestedPrice  \\\n",
              "count  132822.000000  1.328220e+05  132822.000000   132822.000000   \n",
              "mean    66580.896501  4.724622e+07       0.220423       29.443286   \n",
              "std     38352.754248  1.329716e+07       0.414533      202.335509   \n",
              "min         0.000000  1.240700e+04       0.000000        0.030000   \n",
              "25%     33377.250000  3.878514e+07       0.000000        0.030000   \n",
              "50%     66583.500000  5.176906e+07       0.000000        0.100000   \n",
              "75%     99792.750000  5.838940e+07       0.000000        1.590000   \n",
              "max    133004.000000  6.096650e+07       1.000000    16609.350000   \n",
              "\n",
              "           salePrice        pattern         finish           wear  \\\n",
              "count  132822.000000  132822.000000  132822.000000  132822.000000   \n",
              "mean       34.422234     500.392533     647.262283       0.255292   \n",
              "std       372.976511     288.729975    1106.288792       0.177134   \n",
              "min         0.020000       0.000000       2.000000       0.000007   \n",
              "25%         0.030000     250.000000     136.000000       0.125445   \n",
              "50%         0.120000     500.000000     611.000000       0.223606   \n",
              "75%         3.000000     751.000000     841.000000       0.361484   \n",
              "max     49999.990000    1000.000000   10088.000000       0.999827   \n",
              "\n",
              "            stickers       souvenir       stattrak   colorfulness  \n",
              "count  132822.000000  132822.000000  132822.000000  132822.000000  \n",
              "mean        0.179104       0.063988       0.099991      14.713770  \n",
              "std         0.383441       0.244732       0.299989      11.226566  \n",
              "min         0.000000       0.000000       0.000000       0.997502  \n",
              "25%         0.000000       0.000000       0.000000       7.197160  \n",
              "50%         0.000000       0.000000       0.000000      11.842459  \n",
              "75%         0.000000       0.000000       0.000000      18.906793  \n",
              "max         1.000000       1.000000       1.000000      91.185190  "
            ],
            "text/html": [
              "\n",
              "  <div id=\"df-5f72bf40-4e3d-4f56-b7cc-9d30cafd511b\">\n",
              "    <div class=\"colab-df-container\">\n",
              "      <div>\n",
              "<style scoped>\n",
              "    .dataframe tbody tr th:only-of-type {\n",
              "        vertical-align: middle;\n",
              "    }\n",
              "\n",
              "    .dataframe tbody tr th {\n",
              "        vertical-align: top;\n",
              "    }\n",
              "\n",
              "    .dataframe thead th {\n",
              "        text-align: right;\n",
              "    }\n",
              "</style>\n",
              "<table border=\"1\" class=\"dataframe\">\n",
              "  <thead>\n",
              "    <tr style=\"text-align: right;\">\n",
              "      <th></th>\n",
              "      <th>index</th>\n",
              "      <th>assetId</th>\n",
              "      <th>lock</th>\n",
              "      <th>suggestedPrice</th>\n",
              "      <th>salePrice</th>\n",
              "      <th>pattern</th>\n",
              "      <th>finish</th>\n",
              "      <th>wear</th>\n",
              "      <th>stickers</th>\n",
              "      <th>souvenir</th>\n",
              "      <th>stattrak</th>\n",
              "      <th>colorfulness</th>\n",
              "    </tr>\n",
              "  </thead>\n",
              "  <tbody>\n",
              "    <tr>\n",
              "      <th>count</th>\n",
              "      <td>132822.000000</td>\n",
              "      <td>1.328220e+05</td>\n",
              "      <td>132822.000000</td>\n",
              "      <td>132822.000000</td>\n",
              "      <td>132822.000000</td>\n",
              "      <td>132822.000000</td>\n",
              "      <td>132822.000000</td>\n",
              "      <td>132822.000000</td>\n",
              "      <td>132822.000000</td>\n",
              "      <td>132822.000000</td>\n",
              "      <td>132822.000000</td>\n",
              "      <td>132822.000000</td>\n",
              "    </tr>\n",
              "    <tr>\n",
              "      <th>mean</th>\n",
              "      <td>66580.896501</td>\n",
              "      <td>4.724622e+07</td>\n",
              "      <td>0.220423</td>\n",
              "      <td>29.443286</td>\n",
              "      <td>34.422234</td>\n",
              "      <td>500.392533</td>\n",
              "      <td>647.262283</td>\n",
              "      <td>0.255292</td>\n",
              "      <td>0.179104</td>\n",
              "      <td>0.063988</td>\n",
              "      <td>0.099991</td>\n",
              "      <td>14.713770</td>\n",
              "    </tr>\n",
              "    <tr>\n",
              "      <th>std</th>\n",
              "      <td>38352.754248</td>\n",
              "      <td>1.329716e+07</td>\n",
              "      <td>0.414533</td>\n",
              "      <td>202.335509</td>\n",
              "      <td>372.976511</td>\n",
              "      <td>288.729975</td>\n",
              "      <td>1106.288792</td>\n",
              "      <td>0.177134</td>\n",
              "      <td>0.383441</td>\n",
              "      <td>0.244732</td>\n",
              "      <td>0.299989</td>\n",
              "      <td>11.226566</td>\n",
              "    </tr>\n",
              "    <tr>\n",
              "      <th>min</th>\n",
              "      <td>0.000000</td>\n",
              "      <td>1.240700e+04</td>\n",
              "      <td>0.000000</td>\n",
              "      <td>0.030000</td>\n",
              "      <td>0.020000</td>\n",
              "      <td>0.000000</td>\n",
              "      <td>2.000000</td>\n",
              "      <td>0.000007</td>\n",
              "      <td>0.000000</td>\n",
              "      <td>0.000000</td>\n",
              "      <td>0.000000</td>\n",
              "      <td>0.997502</td>\n",
              "    </tr>\n",
              "    <tr>\n",
              "      <th>25%</th>\n",
              "      <td>33377.250000</td>\n",
              "      <td>3.878514e+07</td>\n",
              "      <td>0.000000</td>\n",
              "      <td>0.030000</td>\n",
              "      <td>0.030000</td>\n",
              "      <td>250.000000</td>\n",
              "      <td>136.000000</td>\n",
              "      <td>0.125445</td>\n",
              "      <td>0.000000</td>\n",
              "      <td>0.000000</td>\n",
              "      <td>0.000000</td>\n",
              "      <td>7.197160</td>\n",
              "    </tr>\n",
              "    <tr>\n",
              "      <th>50%</th>\n",
              "      <td>66583.500000</td>\n",
              "      <td>5.176906e+07</td>\n",
              "      <td>0.000000</td>\n",
              "      <td>0.100000</td>\n",
              "      <td>0.120000</td>\n",
              "      <td>500.000000</td>\n",
              "      <td>611.000000</td>\n",
              "      <td>0.223606</td>\n",
              "      <td>0.000000</td>\n",
              "      <td>0.000000</td>\n",
              "      <td>0.000000</td>\n",
              "      <td>11.842459</td>\n",
              "    </tr>\n",
              "    <tr>\n",
              "      <th>75%</th>\n",
              "      <td>99792.750000</td>\n",
              "      <td>5.838940e+07</td>\n",
              "      <td>0.000000</td>\n",
              "      <td>1.590000</td>\n",
              "      <td>3.000000</td>\n",
              "      <td>751.000000</td>\n",
              "      <td>841.000000</td>\n",
              "      <td>0.361484</td>\n",
              "      <td>0.000000</td>\n",
              "      <td>0.000000</td>\n",
              "      <td>0.000000</td>\n",
              "      <td>18.906793</td>\n",
              "    </tr>\n",
              "    <tr>\n",
              "      <th>max</th>\n",
              "      <td>133004.000000</td>\n",
              "      <td>6.096650e+07</td>\n",
              "      <td>1.000000</td>\n",
              "      <td>16609.350000</td>\n",
              "      <td>49999.990000</td>\n",
              "      <td>1000.000000</td>\n",
              "      <td>10088.000000</td>\n",
              "      <td>0.999827</td>\n",
              "      <td>1.000000</td>\n",
              "      <td>1.000000</td>\n",
              "      <td>1.000000</td>\n",
              "      <td>91.185190</td>\n",
              "    </tr>\n",
              "  </tbody>\n",
              "</table>\n",
              "</div>\n",
              "      <button class=\"colab-df-convert\" onclick=\"convertToInteractive('df-5f72bf40-4e3d-4f56-b7cc-9d30cafd511b')\"\n",
              "              title=\"Convert this dataframe to an interactive table.\"\n",
              "              style=\"display:none;\">\n",
              "        \n",
              "  <svg xmlns=\"http://www.w3.org/2000/svg\" height=\"24px\"viewBox=\"0 0 24 24\"\n",
              "       width=\"24px\">\n",
              "    <path d=\"M0 0h24v24H0V0z\" fill=\"none\"/>\n",
              "    <path d=\"M18.56 5.44l.94 2.06.94-2.06 2.06-.94-2.06-.94-.94-2.06-.94 2.06-2.06.94zm-11 1L8.5 8.5l.94-2.06 2.06-.94-2.06-.94L8.5 2.5l-.94 2.06-2.06.94zm10 10l.94 2.06.94-2.06 2.06-.94-2.06-.94-.94-2.06-.94 2.06-2.06.94z\"/><path d=\"M17.41 7.96l-1.37-1.37c-.4-.4-.92-.59-1.43-.59-.52 0-1.04.2-1.43.59L10.3 9.45l-7.72 7.72c-.78.78-.78 2.05 0 2.83L4 21.41c.39.39.9.59 1.41.59.51 0 1.02-.2 1.41-.59l7.78-7.78 2.81-2.81c.8-.78.8-2.07 0-2.86zM5.41 20L4 18.59l7.72-7.72 1.47 1.35L5.41 20z\"/>\n",
              "  </svg>\n",
              "      </button>\n",
              "      \n",
              "  <style>\n",
              "    .colab-df-container {\n",
              "      display:flex;\n",
              "      flex-wrap:wrap;\n",
              "      gap: 12px;\n",
              "    }\n",
              "\n",
              "    .colab-df-convert {\n",
              "      background-color: #E8F0FE;\n",
              "      border: none;\n",
              "      border-radius: 50%;\n",
              "      cursor: pointer;\n",
              "      display: none;\n",
              "      fill: #1967D2;\n",
              "      height: 32px;\n",
              "      padding: 0 0 0 0;\n",
              "      width: 32px;\n",
              "    }\n",
              "\n",
              "    .colab-df-convert:hover {\n",
              "      background-color: #E2EBFA;\n",
              "      box-shadow: 0px 1px 2px rgba(60, 64, 67, 0.3), 0px 1px 3px 1px rgba(60, 64, 67, 0.15);\n",
              "      fill: #174EA6;\n",
              "    }\n",
              "\n",
              "    [theme=dark] .colab-df-convert {\n",
              "      background-color: #3B4455;\n",
              "      fill: #D2E3FC;\n",
              "    }\n",
              "\n",
              "    [theme=dark] .colab-df-convert:hover {\n",
              "      background-color: #434B5C;\n",
              "      box-shadow: 0px 1px 3px 1px rgba(0, 0, 0, 0.15);\n",
              "      filter: drop-shadow(0px 1px 2px rgba(0, 0, 0, 0.3));\n",
              "      fill: #FFFFFF;\n",
              "    }\n",
              "  </style>\n",
              "\n",
              "      <script>\n",
              "        const buttonEl =\n",
              "          document.querySelector('#df-5f72bf40-4e3d-4f56-b7cc-9d30cafd511b button.colab-df-convert');\n",
              "        buttonEl.style.display =\n",
              "          google.colab.kernel.accessAllowed ? 'block' : 'none';\n",
              "\n",
              "        async function convertToInteractive(key) {\n",
              "          const element = document.querySelector('#df-5f72bf40-4e3d-4f56-b7cc-9d30cafd511b');\n",
              "          const dataTable =\n",
              "            await google.colab.kernel.invokeFunction('convertToInteractive',\n",
              "                                                     [key], {});\n",
              "          if (!dataTable) return;\n",
              "\n",
              "          const docLinkHtml = 'Like what you see? Visit the ' +\n",
              "            '<a target=\"_blank\" href=https://colab.research.google.com/notebooks/data_table.ipynb>data table notebook</a>'\n",
              "            + ' to learn more about interactive tables.';\n",
              "          element.innerHTML = '';\n",
              "          dataTable['output_type'] = 'display_data';\n",
              "          await google.colab.output.renderOutput(dataTable, element);\n",
              "          const docLink = document.createElement('div');\n",
              "          docLink.innerHTML = docLinkHtml;\n",
              "          element.appendChild(docLink);\n",
              "        }\n",
              "      </script>\n",
              "    </div>\n",
              "  </div>\n",
              "  "
            ]
          },
          "metadata": {},
          "execution_count": 93
        }
      ]
    },
    {
      "cell_type": "code",
      "source": [
        "data.info()"
      ],
      "metadata": {
        "colab": {
          "base_uri": "https://localhost:8080/"
        },
        "id": "39hYs7ilQ20H",
        "outputId": "4ab7bb23-cb82-464b-9153-92416676a1fc"
      },
      "execution_count": null,
      "outputs": [
        {
          "output_type": "stream",
          "name": "stdout",
          "text": [
            "<class 'pandas.core.frame.DataFrame'>\n",
            "RangeIndex: 132822 entries, 0 to 132821\n",
            "Data columns (total 25 columns):\n",
            " #   Column             Non-Null Count   Dtype  \n",
            "---  ------             --------------   -----  \n",
            " 0   index              132822 non-null  int64  \n",
            " 1   assetId            132822 non-null  int64  \n",
            " 2   family             132822 non-null  object \n",
            " 3   color              132822 non-null  object \n",
            " 4   lock               132822 non-null  int64  \n",
            " 5   version            132822 non-null  object \n",
            " 6   versionType        132822 non-null  object \n",
            " 7   suggestedPrice     132822 non-null  float64\n",
            " 8   salePrice          132822 non-null  float64\n",
            " 9   category           132822 non-null  object \n",
            " 10  subCategory        132822 non-null  object \n",
            " 11  pattern            132822 non-null  int64  \n",
            " 12  finish             132822 non-null  int64  \n",
            " 13  wear               132822 non-null  float64\n",
            " 14  type               132822 non-null  object \n",
            " 15  exterior           132822 non-null  object \n",
            " 16  quality            132822 non-null  object \n",
            " 17  rarity             132822 non-null  object \n",
            " 18  rarityColor        132822 non-null  object \n",
            " 19  collection         132822 non-null  object \n",
            " 20  stickers           132822 non-null  int64  \n",
            " 21  souvenir           132822 non-null  int64  \n",
            " 22  stattrak           132822 non-null  int64  \n",
            " 23  colorfulness       132822 non-null  float64\n",
            " 24  cats_colorfulness  132822 non-null  object \n",
            "dtypes: float64(4), int64(8), object(13)\n",
            "memory usage: 25.3+ MB\n"
          ]
        }
      ]
    },
    {
      "cell_type": "code",
      "source": [
        "data.corr()"
      ],
      "metadata": {
        "colab": {
          "base_uri": "https://localhost:8080/",
          "height": 425
        },
        "id": "Fq0dpoCrRRC4",
        "outputId": "29e6e5df-d71c-46fe-e0ac-46010eb04d54"
      },
      "execution_count": null,
      "outputs": [
        {
          "output_type": "execute_result",
          "data": {
            "text/plain": [
              "                   index   assetId      lock  suggestedPrice  salePrice  \\\n",
              "index           1.000000 -0.140313 -0.126812       -0.108998  -0.062490   \n",
              "assetId        -0.140313  1.000000  0.403910        0.068147   0.030457   \n",
              "lock           -0.126812  0.403910  1.000000        0.074314   0.032009   \n",
              "suggestedPrice -0.108998  0.068147  0.074314        1.000000   0.600735   \n",
              "salePrice      -0.062490  0.030457  0.032009        0.600735   1.000000   \n",
              "pattern         0.000838  0.002101 -0.000332       -0.000626   0.000718   \n",
              "finish          0.166137  0.148028  0.122777        0.139426   0.075264   \n",
              "wear            0.083231 -0.134380 -0.105988       -0.093623  -0.059444   \n",
              "stickers       -0.070631  0.184417  0.063915        0.005709   0.027233   \n",
              "souvenir        0.105433  0.049078 -0.060809       -0.029624  -0.013751   \n",
              "stattrak       -0.083764  0.145613  0.117913        0.030637   0.027065   \n",
              "colorfulness   -0.287664  0.247528  0.229310        0.107737   0.069501   \n",
              "\n",
              "                 pattern    finish      wear  stickers  souvenir  stattrak  \\\n",
              "index           0.000838  0.166137  0.083231 -0.070631  0.105433 -0.083764   \n",
              "assetId         0.002101  0.148028 -0.134380  0.184417  0.049078  0.145613   \n",
              "lock           -0.000332  0.122777 -0.105988  0.063915 -0.060809  0.117913   \n",
              "suggestedPrice -0.000626  0.139426 -0.093623  0.005709 -0.029624  0.030637   \n",
              "salePrice       0.000718  0.075264 -0.059444  0.027233 -0.013751  0.027065   \n",
              "pattern         1.000000 -0.000575 -0.000641  0.001541  0.002937 -0.001540   \n",
              "finish         -0.000575  1.000000 -0.007651 -0.004620  0.017879  0.009869   \n",
              "wear           -0.000641 -0.007651  1.000000 -0.144034 -0.079244 -0.020883   \n",
              "stickers        0.001541 -0.004620 -0.144034  1.000000  0.554782  0.082884   \n",
              "souvenir        0.002937  0.017879 -0.079244  0.554782  1.000000 -0.087150   \n",
              "stattrak       -0.001540  0.009869 -0.020883  0.082884 -0.087150  1.000000   \n",
              "colorfulness   -0.000117  0.075218 -0.251165  0.194614  0.036116  0.135447   \n",
              "\n",
              "                colorfulness  \n",
              "index              -0.287664  \n",
              "assetId             0.247528  \n",
              "lock                0.229310  \n",
              "suggestedPrice      0.107737  \n",
              "salePrice           0.069501  \n",
              "pattern            -0.000117  \n",
              "finish              0.075218  \n",
              "wear               -0.251165  \n",
              "stickers            0.194614  \n",
              "souvenir            0.036116  \n",
              "stattrak            0.135447  \n",
              "colorfulness        1.000000  "
            ],
            "text/html": [
              "\n",
              "  <div id=\"df-ec342241-13d6-41d7-9af5-da1cb1a2e931\">\n",
              "    <div class=\"colab-df-container\">\n",
              "      <div>\n",
              "<style scoped>\n",
              "    .dataframe tbody tr th:only-of-type {\n",
              "        vertical-align: middle;\n",
              "    }\n",
              "\n",
              "    .dataframe tbody tr th {\n",
              "        vertical-align: top;\n",
              "    }\n",
              "\n",
              "    .dataframe thead th {\n",
              "        text-align: right;\n",
              "    }\n",
              "</style>\n",
              "<table border=\"1\" class=\"dataframe\">\n",
              "  <thead>\n",
              "    <tr style=\"text-align: right;\">\n",
              "      <th></th>\n",
              "      <th>index</th>\n",
              "      <th>assetId</th>\n",
              "      <th>lock</th>\n",
              "      <th>suggestedPrice</th>\n",
              "      <th>salePrice</th>\n",
              "      <th>pattern</th>\n",
              "      <th>finish</th>\n",
              "      <th>wear</th>\n",
              "      <th>stickers</th>\n",
              "      <th>souvenir</th>\n",
              "      <th>stattrak</th>\n",
              "      <th>colorfulness</th>\n",
              "    </tr>\n",
              "  </thead>\n",
              "  <tbody>\n",
              "    <tr>\n",
              "      <th>index</th>\n",
              "      <td>1.000000</td>\n",
              "      <td>-0.140313</td>\n",
              "      <td>-0.126812</td>\n",
              "      <td>-0.108998</td>\n",
              "      <td>-0.062490</td>\n",
              "      <td>0.000838</td>\n",
              "      <td>0.166137</td>\n",
              "      <td>0.083231</td>\n",
              "      <td>-0.070631</td>\n",
              "      <td>0.105433</td>\n",
              "      <td>-0.083764</td>\n",
              "      <td>-0.287664</td>\n",
              "    </tr>\n",
              "    <tr>\n",
              "      <th>assetId</th>\n",
              "      <td>-0.140313</td>\n",
              "      <td>1.000000</td>\n",
              "      <td>0.403910</td>\n",
              "      <td>0.068147</td>\n",
              "      <td>0.030457</td>\n",
              "      <td>0.002101</td>\n",
              "      <td>0.148028</td>\n",
              "      <td>-0.134380</td>\n",
              "      <td>0.184417</td>\n",
              "      <td>0.049078</td>\n",
              "      <td>0.145613</td>\n",
              "      <td>0.247528</td>\n",
              "    </tr>\n",
              "    <tr>\n",
              "      <th>lock</th>\n",
              "      <td>-0.126812</td>\n",
              "      <td>0.403910</td>\n",
              "      <td>1.000000</td>\n",
              "      <td>0.074314</td>\n",
              "      <td>0.032009</td>\n",
              "      <td>-0.000332</td>\n",
              "      <td>0.122777</td>\n",
              "      <td>-0.105988</td>\n",
              "      <td>0.063915</td>\n",
              "      <td>-0.060809</td>\n",
              "      <td>0.117913</td>\n",
              "      <td>0.229310</td>\n",
              "    </tr>\n",
              "    <tr>\n",
              "      <th>suggestedPrice</th>\n",
              "      <td>-0.108998</td>\n",
              "      <td>0.068147</td>\n",
              "      <td>0.074314</td>\n",
              "      <td>1.000000</td>\n",
              "      <td>0.600735</td>\n",
              "      <td>-0.000626</td>\n",
              "      <td>0.139426</td>\n",
              "      <td>-0.093623</td>\n",
              "      <td>0.005709</td>\n",
              "      <td>-0.029624</td>\n",
              "      <td>0.030637</td>\n",
              "      <td>0.107737</td>\n",
              "    </tr>\n",
              "    <tr>\n",
              "      <th>salePrice</th>\n",
              "      <td>-0.062490</td>\n",
              "      <td>0.030457</td>\n",
              "      <td>0.032009</td>\n",
              "      <td>0.600735</td>\n",
              "      <td>1.000000</td>\n",
              "      <td>0.000718</td>\n",
              "      <td>0.075264</td>\n",
              "      <td>-0.059444</td>\n",
              "      <td>0.027233</td>\n",
              "      <td>-0.013751</td>\n",
              "      <td>0.027065</td>\n",
              "      <td>0.069501</td>\n",
              "    </tr>\n",
              "    <tr>\n",
              "      <th>pattern</th>\n",
              "      <td>0.000838</td>\n",
              "      <td>0.002101</td>\n",
              "      <td>-0.000332</td>\n",
              "      <td>-0.000626</td>\n",
              "      <td>0.000718</td>\n",
              "      <td>1.000000</td>\n",
              "      <td>-0.000575</td>\n",
              "      <td>-0.000641</td>\n",
              "      <td>0.001541</td>\n",
              "      <td>0.002937</td>\n",
              "      <td>-0.001540</td>\n",
              "      <td>-0.000117</td>\n",
              "    </tr>\n",
              "    <tr>\n",
              "      <th>finish</th>\n",
              "      <td>0.166137</td>\n",
              "      <td>0.148028</td>\n",
              "      <td>0.122777</td>\n",
              "      <td>0.139426</td>\n",
              "      <td>0.075264</td>\n",
              "      <td>-0.000575</td>\n",
              "      <td>1.000000</td>\n",
              "      <td>-0.007651</td>\n",
              "      <td>-0.004620</td>\n",
              "      <td>0.017879</td>\n",
              "      <td>0.009869</td>\n",
              "      <td>0.075218</td>\n",
              "    </tr>\n",
              "    <tr>\n",
              "      <th>wear</th>\n",
              "      <td>0.083231</td>\n",
              "      <td>-0.134380</td>\n",
              "      <td>-0.105988</td>\n",
              "      <td>-0.093623</td>\n",
              "      <td>-0.059444</td>\n",
              "      <td>-0.000641</td>\n",
              "      <td>-0.007651</td>\n",
              "      <td>1.000000</td>\n",
              "      <td>-0.144034</td>\n",
              "      <td>-0.079244</td>\n",
              "      <td>-0.020883</td>\n",
              "      <td>-0.251165</td>\n",
              "    </tr>\n",
              "    <tr>\n",
              "      <th>stickers</th>\n",
              "      <td>-0.070631</td>\n",
              "      <td>0.184417</td>\n",
              "      <td>0.063915</td>\n",
              "      <td>0.005709</td>\n",
              "      <td>0.027233</td>\n",
              "      <td>0.001541</td>\n",
              "      <td>-0.004620</td>\n",
              "      <td>-0.144034</td>\n",
              "      <td>1.000000</td>\n",
              "      <td>0.554782</td>\n",
              "      <td>0.082884</td>\n",
              "      <td>0.194614</td>\n",
              "    </tr>\n",
              "    <tr>\n",
              "      <th>souvenir</th>\n",
              "      <td>0.105433</td>\n",
              "      <td>0.049078</td>\n",
              "      <td>-0.060809</td>\n",
              "      <td>-0.029624</td>\n",
              "      <td>-0.013751</td>\n",
              "      <td>0.002937</td>\n",
              "      <td>0.017879</td>\n",
              "      <td>-0.079244</td>\n",
              "      <td>0.554782</td>\n",
              "      <td>1.000000</td>\n",
              "      <td>-0.087150</td>\n",
              "      <td>0.036116</td>\n",
              "    </tr>\n",
              "    <tr>\n",
              "      <th>stattrak</th>\n",
              "      <td>-0.083764</td>\n",
              "      <td>0.145613</td>\n",
              "      <td>0.117913</td>\n",
              "      <td>0.030637</td>\n",
              "      <td>0.027065</td>\n",
              "      <td>-0.001540</td>\n",
              "      <td>0.009869</td>\n",
              "      <td>-0.020883</td>\n",
              "      <td>0.082884</td>\n",
              "      <td>-0.087150</td>\n",
              "      <td>1.000000</td>\n",
              "      <td>0.135447</td>\n",
              "    </tr>\n",
              "    <tr>\n",
              "      <th>colorfulness</th>\n",
              "      <td>-0.287664</td>\n",
              "      <td>0.247528</td>\n",
              "      <td>0.229310</td>\n",
              "      <td>0.107737</td>\n",
              "      <td>0.069501</td>\n",
              "      <td>-0.000117</td>\n",
              "      <td>0.075218</td>\n",
              "      <td>-0.251165</td>\n",
              "      <td>0.194614</td>\n",
              "      <td>0.036116</td>\n",
              "      <td>0.135447</td>\n",
              "      <td>1.000000</td>\n",
              "    </tr>\n",
              "  </tbody>\n",
              "</table>\n",
              "</div>\n",
              "      <button class=\"colab-df-convert\" onclick=\"convertToInteractive('df-ec342241-13d6-41d7-9af5-da1cb1a2e931')\"\n",
              "              title=\"Convert this dataframe to an interactive table.\"\n",
              "              style=\"display:none;\">\n",
              "        \n",
              "  <svg xmlns=\"http://www.w3.org/2000/svg\" height=\"24px\"viewBox=\"0 0 24 24\"\n",
              "       width=\"24px\">\n",
              "    <path d=\"M0 0h24v24H0V0z\" fill=\"none\"/>\n",
              "    <path d=\"M18.56 5.44l.94 2.06.94-2.06 2.06-.94-2.06-.94-.94-2.06-.94 2.06-2.06.94zm-11 1L8.5 8.5l.94-2.06 2.06-.94-2.06-.94L8.5 2.5l-.94 2.06-2.06.94zm10 10l.94 2.06.94-2.06 2.06-.94-2.06-.94-.94-2.06-.94 2.06-2.06.94z\"/><path d=\"M17.41 7.96l-1.37-1.37c-.4-.4-.92-.59-1.43-.59-.52 0-1.04.2-1.43.59L10.3 9.45l-7.72 7.72c-.78.78-.78 2.05 0 2.83L4 21.41c.39.39.9.59 1.41.59.51 0 1.02-.2 1.41-.59l7.78-7.78 2.81-2.81c.8-.78.8-2.07 0-2.86zM5.41 20L4 18.59l7.72-7.72 1.47 1.35L5.41 20z\"/>\n",
              "  </svg>\n",
              "      </button>\n",
              "      \n",
              "  <style>\n",
              "    .colab-df-container {\n",
              "      display:flex;\n",
              "      flex-wrap:wrap;\n",
              "      gap: 12px;\n",
              "    }\n",
              "\n",
              "    .colab-df-convert {\n",
              "      background-color: #E8F0FE;\n",
              "      border: none;\n",
              "      border-radius: 50%;\n",
              "      cursor: pointer;\n",
              "      display: none;\n",
              "      fill: #1967D2;\n",
              "      height: 32px;\n",
              "      padding: 0 0 0 0;\n",
              "      width: 32px;\n",
              "    }\n",
              "\n",
              "    .colab-df-convert:hover {\n",
              "      background-color: #E2EBFA;\n",
              "      box-shadow: 0px 1px 2px rgba(60, 64, 67, 0.3), 0px 1px 3px 1px rgba(60, 64, 67, 0.15);\n",
              "      fill: #174EA6;\n",
              "    }\n",
              "\n",
              "    [theme=dark] .colab-df-convert {\n",
              "      background-color: #3B4455;\n",
              "      fill: #D2E3FC;\n",
              "    }\n",
              "\n",
              "    [theme=dark] .colab-df-convert:hover {\n",
              "      background-color: #434B5C;\n",
              "      box-shadow: 0px 1px 3px 1px rgba(0, 0, 0, 0.15);\n",
              "      filter: drop-shadow(0px 1px 2px rgba(0, 0, 0, 0.3));\n",
              "      fill: #FFFFFF;\n",
              "    }\n",
              "  </style>\n",
              "\n",
              "      <script>\n",
              "        const buttonEl =\n",
              "          document.querySelector('#df-ec342241-13d6-41d7-9af5-da1cb1a2e931 button.colab-df-convert');\n",
              "        buttonEl.style.display =\n",
              "          google.colab.kernel.accessAllowed ? 'block' : 'none';\n",
              "\n",
              "        async function convertToInteractive(key) {\n",
              "          const element = document.querySelector('#df-ec342241-13d6-41d7-9af5-da1cb1a2e931');\n",
              "          const dataTable =\n",
              "            await google.colab.kernel.invokeFunction('convertToInteractive',\n",
              "                                                     [key], {});\n",
              "          if (!dataTable) return;\n",
              "\n",
              "          const docLinkHtml = 'Like what you see? Visit the ' +\n",
              "            '<a target=\"_blank\" href=https://colab.research.google.com/notebooks/data_table.ipynb>data table notebook</a>'\n",
              "            + ' to learn more about interactive tables.';\n",
              "          element.innerHTML = '';\n",
              "          dataTable['output_type'] = 'display_data';\n",
              "          await google.colab.output.renderOutput(dataTable, element);\n",
              "          const docLink = document.createElement('div');\n",
              "          docLink.innerHTML = docLinkHtml;\n",
              "          element.appendChild(docLink);\n",
              "        }\n",
              "      </script>\n",
              "    </div>\n",
              "  </div>\n",
              "  "
            ]
          },
          "metadata": {},
          "execution_count": 95
        }
      ]
    },
    {
      "cell_type": "code",
      "source": [
        "# Speicherpunkt 1: Zwischenspeichern der Daten, sodass Prozess nicht immer wieder durchlaufen werden muss\n",
        "data.to_csv(r'allitems_cleaned_1.csv', index=False, header=True)"
      ],
      "metadata": {
        "id": "vrZeBBDibTd5"
      },
      "execution_count": null,
      "outputs": []
    },
    {
      "cell_type": "code",
      "source": [
        "# Ladepunkt 1: Laden der Daten, sodass hier eingestiegen werden kann\n",
        "data = pd.read_csv(r'/content/drive/MyDrive/SA_BA/Data/allitems_cleaned_1.csv')"
      ],
      "metadata": {
        "id": "EUymLWQ3hMQH"
      },
      "execution_count": null,
      "outputs": []
    },
    {
      "cell_type": "markdown",
      "source": [
        "**Neues Feature \"cats_colorfulness\"**\n",
        "\n",
        "Die Berechnung des Features \"colorfulness\" wurde nach Hasler und Süsstrunk’s wissenschaftlicher Arbeit namens \"Measuring colorfulness in natural images\" (2003) berechnet. Hieraus wird nun die Kategorisierung der Colorfulness gezogen und ein neues Feature entsteht:"
      ],
      "metadata": {
        "id": "XRniL0rAUAWh"
      }
    },
    {
      "cell_type": "code",
      "source": [
        "def color_cats(x):\n",
        "  if x == 0:\n",
        "    return \"not colorful\"\n",
        "  elif x > 0 and x <= 15:\n",
        "    return \"slightly colorful\"\n",
        "  elif x > 15 and x <= 33:\n",
        "    return \"moderately colorful\"\n",
        "  elif x > 33 and x <= 45:\n",
        "    return \"averagely colorful\"\n",
        "  elif x > 45 and x <= 59:\n",
        "    return \"quite colorful\"\n",
        "  elif x > 59 and x <= 82:\n",
        "    return \"highly colorful\"\n",
        "  elif x > 82:\n",
        "    return \"extemely colorful\""
      ],
      "metadata": {
        "id": "pJy9keFPT5y_"
      },
      "execution_count": null,
      "outputs": []
    },
    {
      "cell_type": "code",
      "source": [
        "data[\"cats_colorfulness\"] = data[\"colorfulness\"].apply(color_cats)"
      ],
      "metadata": {
        "id": "gvA0sVQZT7ZR"
      },
      "execution_count": null,
      "outputs": []
    },
    {
      "cell_type": "markdown",
      "source": [
        "##Balanced oder Imbalanced Data?"
      ],
      "metadata": {
        "id": "UCNvpFcSRq1u"
      }
    },
    {
      "cell_type": "code",
      "source": [
        "data['category'].value_counts()"
      ],
      "metadata": {
        "colab": {
          "base_uri": "https://localhost:8080/"
        },
        "id": "yQ45tvJsULcF",
        "outputId": "b3f16f0e-9183-46e1-e158-3f7d9ac5ad87"
      },
      "execution_count": null,
      "outputs": [
        {
          "output_type": "execute_result",
          "data": {
            "text/plain": [
              "Rifle     43665\n",
              "Pistol    37346\n",
              "SMG       28128\n",
              "Heavy     17465\n",
              "Knife      4604\n",
              "Gloves     1614\n",
              "Name: category, dtype: int64"
            ]
          },
          "metadata": {},
          "execution_count": 96
        }
      ]
    },
    {
      "cell_type": "markdown",
      "source": [
        "Maßtabberechnung: Die Kategorie mit der niedrigsten Anzahl (hier: Gloves) wird auf 1 gesetzt und das Verhältnis zu Rifle wird berechnet (43664/1614). Somit ergibt sich zwischen Gloves und Rifle ein Verhältnis von 1:27,05. Nach Haibo und Garcia (2009, S. 1264) wird erst ab 1:100 von einem ungleichgewichtigen Datensatz gesrpochen. Entsprechend wird dieses Thema in dieser Arbeit nicht weiter bearbeitet."
      ],
      "metadata": {
        "id": "WK4kLCxaUaBm"
      }
    },
    {
      "cell_type": "markdown",
      "source": [
        "##Visualisierungen - Get to Know the Data"
      ],
      "metadata": {
        "id": "lT0RCWwJpcP4"
      }
    },
    {
      "cell_type": "code",
      "source": [
        "plt.rcParams.update({'font.size': 20, 'figure.figsize': (12, 10)})"
      ],
      "metadata": {
        "id": "_1SLUQEY-plW"
      },
      "execution_count": null,
      "outputs": []
    },
    {
      "cell_type": "code",
      "source": [
        "#Kategorische: Bar Charts & Boxplots\n",
        "#Numerische: Histogramme, Scatterplotts, Line Graph & Boxplots"
      ],
      "metadata": {
        "id": "Xo-qyJW6-p5l"
      },
      "execution_count": null,
      "outputs": []
    },
    {
      "cell_type": "markdown",
      "source": [
        "Zuerst wird geguckt, ob es preisliche Ausreißer gibt:"
      ],
      "metadata": {
        "id": "BTzl-9zyHApx"
      }
    },
    {
      "cell_type": "code",
      "source": [
        "data.plot(kind='scatter', x='index', y='salePrice', title='Rarity vs Sales Price (Euro)');"
      ],
      "metadata": {
        "colab": {
          "base_uri": "https://localhost:8080/",
          "height": 665
        },
        "id": "cQUVDyCqFuY9",
        "outputId": "d255c0c2-824d-4b19-ec28-8842d8034aac"
      },
      "execution_count": null,
      "outputs": [
        {
          "output_type": "stream",
          "name": "stderr",
          "text": [
            "*c* argument looks like a single numeric RGB or RGBA sequence, which should be avoided as value-mapping will have precedence in case its length matches with *x* & *y*.  Please use the *color* keyword-argument or provide a 2-D array with a single row if you intend to specify the same RGB or RGBA value for all points.\n"
          ]
        },
        {
          "output_type": "display_data",
          "data": {
            "text/plain": [
              "<Figure size 1440x720 with 1 Axes>"
            ],
            "image/png": "[encoded data removed]"
          },
          "metadata": {
            "needs_background": "light"
          }
        }
      ]
    },
    {
      "cell_type": "markdown",
      "source": [
        "Hier sind nun bei über einem salePrice-Wert von über 10.000€ einige Ausreißer zu sehen. Diese werden nun genauer angesehen:"
      ],
      "metadata": {
        "id": "ubcVl_-cGt_U"
      }
    },
    {
      "cell_type": "code",
      "source": [
        "data_ue10k = data[data['salePrice'] >= 10000]"
      ],
      "metadata": {
        "id": "C2lCXKgqFq76"
      },
      "execution_count": null,
      "outputs": []
    },
    {
      "cell_type": "code",
      "source": [
        "data_ue10k"
      ],
      "metadata": {
        "colab": {
          "base_uri": "https://localhost:8080/",
          "height": 977
        },
        "id": "CnO-36O4HNf1",
        "outputId": "6d141bce-e782-4eda-fc6c-5298358aab77"
      },
      "execution_count": null,
      "outputs": [
        {
          "output_type": "execute_result",
          "data": {
            "text/plain": [
              "         index   assetId             family    color  lock   version  \\\n",
              "800        822  41787087            Doppler  #8650AC     0  Sapphire   \n",
              "846        868  57386498      Gamma Doppler  #8650AC     0   Emerald   \n",
              "2932      2998  47663996            Doppler  #8650AC     1  Sapphire   \n",
              "7253      7421  42288854  Cobalt Disruption  #D2D2D2     0   default   \n",
              "25724    25895  45506601            Valence  #D2D2D2     0   default   \n",
              "27121    27292  43907576          Sand Dune  #FFD700     0   default   \n",
              "42223    42395  36210877            Redline  #CF6A32     0   default   \n",
              "43479    43651  49905872      Case Hardened  #CF6A32     0    Tier 2   \n",
              "61329    61501  33573999               Howl  #CF6A32     0   default   \n",
              "61332    61504  26587537               Howl  #CF6A32     0   default   \n",
              "61342    61514  22715293               Howl  #D2D2D2     0   default   \n",
              "69007    69180  49396145   Lightning Strike  #CF6A32     0   default   \n",
              "69508    69681  60277219            Gungnir  #D2D2D2     1   default   \n",
              "70428    70601  53910670      Electric Hive  #CF6A32     0   default   \n",
              "132516  132699  50847668    Scarlet Shamagh  #8650AC     0   default   \n",
              "\n",
              "       versionType  suggestedPrice  salePrice category  ...      exterior  \\\n",
              "800          phase        13461.54   13906.90    Knife  ...   Factory New   \n",
              "846          phase        14697.21   14700.87    Knife  ...   Factory New   \n",
              "2932         phase         9940.10   13627.13    Knife  ...   Factory New   \n",
              "7253       default           61.49   46505.17   Pistol  ...   Factory New   \n",
              "25724      default            0.60   49560.28   Pistol  ...   Factory New   \n",
              "27121      default            0.39   37880.51   Pistol  ...     Well-Worn   \n",
              "42223      default          154.38   22711.88    Rifle  ...  Minimal Wear   \n",
              "43479      pattern          265.04   30000.00    Rifle  ...  Minimal Wear   \n",
              "61329      default        16609.35   26000.00    Rifle  ...   Factory New   \n",
              "61332      default        16609.35   31795.72    Rifle  ...   Factory New   \n",
              "61342      default         4005.20   49999.99    Rifle  ...  Minimal Wear   \n",
              "69007      default          736.21   13655.32    Rifle  ...  Minimal Wear   \n",
              "69508      default         8459.88   15020.85    Rifle  ...   Factory New   \n",
              "70428      default           79.01   26000.00    Rifle  ...   Factory New   \n",
              "132516     default          418.92   17904.50   Gloves  ...  Field-Tested   \n",
              "\n",
              "          quality          rarity  rarityColor  \\\n",
              "800             ★          Covert      #eb4b4b   \n",
              "846             ★          Covert      #eb4b4b   \n",
              "2932            ★          Covert      #eb4b4b   \n",
              "7253       Normal      Classified      #d32ee6   \n",
              "25724      Normal  Mil-Spec Grade      #4b69ff   \n",
              "27121    Souvenir  Consumer Grade      #b0c3d9   \n",
              "42223   StatTrak™      Classified      #d32ee6   \n",
              "43479   StatTrak™      Classified      #d32ee6   \n",
              "61329   StatTrak™          Covert      #eb4b4b   \n",
              "61332   StatTrak™          Covert      #eb4b4b   \n",
              "61342      Normal          Covert      #eb4b4b   \n",
              "69007   StatTrak™          Covert      #eb4b4b   \n",
              "69508      Normal          Covert      #eb4b4b   \n",
              "70428   StatTrak™      Classified      #d32ee6   \n",
              "132516          ★   Extraordinary      #eb4b4b   \n",
              "\n",
              "                                collection stickers souvenir stattrak  \\\n",
              "800                The Breakout Collection        0        0        0   \n",
              "846                The Breakout Collection        0        0        0   \n",
              "2932                         No Collection        0        0        0   \n",
              "7253    The eSports 2013 Winter Collection        1        0        0   \n",
              "25724              The Chroma 2 Collection        1        0        0   \n",
              "27121                The Dust 2 Collection        1        1        0   \n",
              "42223               The Phoenix Collection        1        0        1   \n",
              "43479             The Arms Deal Collection        1        0        1   \n",
              "61329                        No Collection        1        0        1   \n",
              "61332                        No Collection        1        0        1   \n",
              "61342                        No Collection        0        0        0   \n",
              "69007             The Arms Deal Collection        1        0        1   \n",
              "69508                 The Norse Collection        0        0        0   \n",
              "70428   The eSports 2013 Winter Collection        1        0        1   \n",
              "132516                       No Collection        0        0        0   \n",
              "\n",
              "       colorfulness    cats_colorfulness  \n",
              "800       26.052475  moderately colorful  \n",
              "846       16.608317  moderately colorful  \n",
              "2932      46.872878       quite colorful  \n",
              "7253      43.392093   averagely colorful  \n",
              "25724     48.083679       quite colorful  \n",
              "27121     28.512152  moderately colorful  \n",
              "42223     10.358685    slightly colorful  \n",
              "43479     20.445109  moderately colorful  \n",
              "61329     24.433518  moderately colorful  \n",
              "61332     25.731520  moderately colorful  \n",
              "61342     25.851920  moderately colorful  \n",
              "69007     23.917697  moderately colorful  \n",
              "69508     13.715623    slightly colorful  \n",
              "70428      9.908203    slightly colorful  \n",
              "132516    13.369047    slightly colorful  \n",
              "\n",
              "[15 rows x 25 columns]"
            ],
            "text/html": [
              "\n",
              "  <div id=\"df-147bbaf2-b04b-4ed7-b7a8-eaf7300da72e\">\n",
              "    <div class=\"colab-df-container\">\n",
              "      <div>\n",
              "<style scoped>\n",
              "    .dataframe tbody tr th:only-of-type {\n",
              "        vertical-align: middle;\n",
              "    }\n",
              "\n",
              "    .dataframe tbody tr th {\n",
              "        vertical-align: top;\n",
              "    }\n",
              "\n",
              "    .dataframe thead th {\n",
              "        text-align: right;\n",
              "    }\n",
              "</style>\n",
              "<table border=\"1\" class=\"dataframe\">\n",
              "  <thead>\n",
              "    <tr style=\"text-align: right;\">\n",
              "      <th></th>\n",
              "      <th>index</th>\n",
              "      <th>assetId</th>\n",
              "      <th>family</th>\n",
              "      <th>color</th>\n",
              "      <th>lock</th>\n",
              "      <th>version</th>\n",
              "      <th>versionType</th>\n",
              "      <th>suggestedPrice</th>\n",
              "      <th>salePrice</th>\n",
              "      <th>category</th>\n",
              "      <th>...</th>\n",
              "      <th>exterior</th>\n",
              "      <th>quality</th>\n",
              "      <th>rarity</th>\n",
              "      <th>rarityColor</th>\n",
              "      <th>collection</th>\n",
              "      <th>stickers</th>\n",
              "      <th>souvenir</th>\n",
              "      <th>stattrak</th>\n",
              "      <th>colorfulness</th>\n",
              "      <th>cats_colorfulness</th>\n",
              "    </tr>\n",
              "  </thead>\n",
              "  <tbody>\n",
              "    <tr>\n",
              "      <th>800</th>\n",
              "      <td>822</td>\n",
              "      <td>41787087</td>\n",
              "      <td>Doppler</td>\n",
              "      <td>#8650AC</td>\n",
              "      <td>0</td>\n",
              "      <td>Sapphire</td>\n",
              "      <td>phase</td>\n",
              "      <td>13461.54</td>\n",
              "      <td>13906.90</td>\n",
              "      <td>Knife</td>\n",
              "      <td>...</td>\n",
              "      <td>Factory New</td>\n",
              "      <td>★</td>\n",
              "      <td>Covert</td>\n",
              "      <td>#eb4b4b</td>\n",
              "      <td>The Breakout Collection</td>\n",
              "      <td>0</td>\n",
              "      <td>0</td>\n",
              "      <td>0</td>\n",
              "      <td>26.052475</td>\n",
              "      <td>moderately colorful</td>\n",
              "    </tr>\n",
              "    <tr>\n",
              "      <th>846</th>\n",
              "      <td>868</td>\n",
              "      <td>57386498</td>\n",
              "      <td>Gamma Doppler</td>\n",
              "      <td>#8650AC</td>\n",
              "      <td>0</td>\n",
              "      <td>Emerald</td>\n",
              "      <td>phase</td>\n",
              "      <td>14697.21</td>\n",
              "      <td>14700.87</td>\n",
              "      <td>Knife</td>\n",
              "      <td>...</td>\n",
              "      <td>Factory New</td>\n",
              "      <td>★</td>\n",
              "      <td>Covert</td>\n",
              "      <td>#eb4b4b</td>\n",
              "      <td>The Breakout Collection</td>\n",
              "      <td>0</td>\n",
              "      <td>0</td>\n",
              "      <td>0</td>\n",
              "      <td>16.608317</td>\n",
              "      <td>moderately colorful</td>\n",
              "    </tr>\n",
              "    <tr>\n",
              "      <th>2932</th>\n",
              "      <td>2998</td>\n",
              "      <td>47663996</td>\n",
              "      <td>Doppler</td>\n",
              "      <td>#8650AC</td>\n",
              "      <td>1</td>\n",
              "      <td>Sapphire</td>\n",
              "      <td>phase</td>\n",
              "      <td>9940.10</td>\n",
              "      <td>13627.13</td>\n",
              "      <td>Knife</td>\n",
              "      <td>...</td>\n",
              "      <td>Factory New</td>\n",
              "      <td>★</td>\n",
              "      <td>Covert</td>\n",
              "      <td>#eb4b4b</td>\n",
              "      <td>No Collection</td>\n",
              "      <td>0</td>\n",
              "      <td>0</td>\n",
              "      <td>0</td>\n",
              "      <td>46.872878</td>\n",
              "      <td>quite colorful</td>\n",
              "    </tr>\n",
              "    <tr>\n",
              "      <th>7253</th>\n",
              "      <td>7421</td>\n",
              "      <td>42288854</td>\n",
              "      <td>Cobalt Disruption</td>\n",
              "      <td>#D2D2D2</td>\n",
              "      <td>0</td>\n",
              "      <td>default</td>\n",
              "      <td>default</td>\n",
              "      <td>61.49</td>\n",
              "      <td>46505.17</td>\n",
              "      <td>Pistol</td>\n",
              "      <td>...</td>\n",
              "      <td>Factory New</td>\n",
              "      <td>Normal</td>\n",
              "      <td>Classified</td>\n",
              "      <td>#d32ee6</td>\n",
              "      <td>The eSports 2013 Winter Collection</td>\n",
              "      <td>1</td>\n",
              "      <td>0</td>\n",
              "      <td>0</td>\n",
              "      <td>43.392093</td>\n",
              "      <td>averagely colorful</td>\n",
              "    </tr>\n",
              "    <tr>\n",
              "      <th>25724</th>\n",
              "      <td>25895</td>\n",
              "      <td>45506601</td>\n",
              "      <td>Valence</td>\n",
              "      <td>#D2D2D2</td>\n",
              "      <td>0</td>\n",
              "      <td>default</td>\n",
              "      <td>default</td>\n",
              "      <td>0.60</td>\n",
              "      <td>49560.28</td>\n",
              "      <td>Pistol</td>\n",
              "      <td>...</td>\n",
              "      <td>Factory New</td>\n",
              "      <td>Normal</td>\n",
              "      <td>Mil-Spec Grade</td>\n",
              "      <td>#4b69ff</td>\n",
              "      <td>The Chroma 2 Collection</td>\n",
              "      <td>1</td>\n",
              "      <td>0</td>\n",
              "      <td>0</td>\n",
              "      <td>48.083679</td>\n",
              "      <td>quite colorful</td>\n",
              "    </tr>\n",
              "    <tr>\n",
              "      <th>27121</th>\n",
              "      <td>27292</td>\n",
              "      <td>43907576</td>\n",
              "      <td>Sand Dune</td>\n",
              "      <td>#FFD700</td>\n",
              "      <td>0</td>\n",
              "      <td>default</td>\n",
              "      <td>default</td>\n",
              "      <td>0.39</td>\n",
              "      <td>37880.51</td>\n",
              "      <td>Pistol</td>\n",
              "      <td>...</td>\n",
              "      <td>Well-Worn</td>\n",
              "      <td>Souvenir</td>\n",
              "      <td>Consumer Grade</td>\n",
              "      <td>#b0c3d9</td>\n",
              "      <td>The Dust 2 Collection</td>\n",
              "      <td>1</td>\n",
              "      <td>1</td>\n",
              "      <td>0</td>\n",
              "      <td>28.512152</td>\n",
              "      <td>moderately colorful</td>\n",
              "    </tr>\n",
              "    <tr>\n",
              "      <th>42223</th>\n",
              "      <td>42395</td>\n",
              "      <td>36210877</td>\n",
              "      <td>Redline</td>\n",
              "      <td>#CF6A32</td>\n",
              "      <td>0</td>\n",
              "      <td>default</td>\n",
              "      <td>default</td>\n",
              "      <td>154.38</td>\n",
              "      <td>22711.88</td>\n",
              "      <td>Rifle</td>\n",
              "      <td>...</td>\n",
              "      <td>Minimal Wear</td>\n",
              "      <td>StatTrak™</td>\n",
              "      <td>Classified</td>\n",
              "      <td>#d32ee6</td>\n",
              "      <td>The Phoenix Collection</td>\n",
              "      <td>1</td>\n",
              "      <td>0</td>\n",
              "      <td>1</td>\n",
              "      <td>10.358685</td>\n",
              "      <td>slightly colorful</td>\n",
              "    </tr>\n",
              "    <tr>\n",
              "      <th>43479</th>\n",
              "      <td>43651</td>\n",
              "      <td>49905872</td>\n",
              "      <td>Case Hardened</td>\n",
              "      <td>#CF6A32</td>\n",
              "      <td>0</td>\n",
              "      <td>Tier 2</td>\n",
              "      <td>pattern</td>\n",
              "      <td>265.04</td>\n",
              "      <td>30000.00</td>\n",
              "      <td>Rifle</td>\n",
              "      <td>...</td>\n",
              "      <td>Minimal Wear</td>\n",
              "      <td>StatTrak™</td>\n",
              "      <td>Classified</td>\n",
              "      <td>#d32ee6</td>\n",
              "      <td>The Arms Deal Collection</td>\n",
              "      <td>1</td>\n",
              "      <td>0</td>\n",
              "      <td>1</td>\n",
              "      <td>20.445109</td>\n",
              "      <td>moderately colorful</td>\n",
              "    </tr>\n",
              "    <tr>\n",
              "      <th>61329</th>\n",
              "      <td>61501</td>\n",
              "      <td>33573999</td>\n",
              "      <td>Howl</td>\n",
              "      <td>#CF6A32</td>\n",
              "      <td>0</td>\n",
              "      <td>default</td>\n",
              "      <td>default</td>\n",
              "      <td>16609.35</td>\n",
              "      <td>26000.00</td>\n",
              "      <td>Rifle</td>\n",
              "      <td>...</td>\n",
              "      <td>Factory New</td>\n",
              "      <td>StatTrak™</td>\n",
              "      <td>Covert</td>\n",
              "      <td>#eb4b4b</td>\n",
              "      <td>No Collection</td>\n",
              "      <td>1</td>\n",
              "      <td>0</td>\n",
              "      <td>1</td>\n",
              "      <td>24.433518</td>\n",
              "      <td>moderately colorful</td>\n",
              "    </tr>\n",
              "    <tr>\n",
              "      <th>61332</th>\n",
              "      <td>61504</td>\n",
              "      <td>26587537</td>\n",
              "      <td>Howl</td>\n",
              "      <td>#CF6A32</td>\n",
              "      <td>0</td>\n",
              "      <td>default</td>\n",
              "      <td>default</td>\n",
              "      <td>16609.35</td>\n",
              "      <td>31795.72</td>\n",
              "      <td>Rifle</td>\n",
              "      <td>...</td>\n",
              "      <td>Factory New</td>\n",
              "      <td>StatTrak™</td>\n",
              "      <td>Covert</td>\n",
              "      <td>#eb4b4b</td>\n",
              "      <td>No Collection</td>\n",
              "      <td>1</td>\n",
              "      <td>0</td>\n",
              "      <td>1</td>\n",
              "      <td>25.731520</td>\n",
              "      <td>moderately colorful</td>\n",
              "    </tr>\n",
              "    <tr>\n",
              "      <th>61342</th>\n",
              "      <td>61514</td>\n",
              "      <td>22715293</td>\n",
              "      <td>Howl</td>\n",
              "      <td>#D2D2D2</td>\n",
              "      <td>0</td>\n",
              "      <td>default</td>\n",
              "      <td>default</td>\n",
              "      <td>4005.20</td>\n",
              "      <td>49999.99</td>\n",
              "      <td>Rifle</td>\n",
              "      <td>...</td>\n",
              "      <td>Minimal Wear</td>\n",
              "      <td>Normal</td>\n",
              "      <td>Covert</td>\n",
              "      <td>#eb4b4b</td>\n",
              "      <td>No Collection</td>\n",
              "      <td>0</td>\n",
              "      <td>0</td>\n",
              "      <td>0</td>\n",
              "      <td>25.851920</td>\n",
              "      <td>moderately colorful</td>\n",
              "    </tr>\n",
              "    <tr>\n",
              "      <th>69007</th>\n",
              "      <td>69180</td>\n",
              "      <td>49396145</td>\n",
              "      <td>Lightning Strike</td>\n",
              "      <td>#CF6A32</td>\n",
              "      <td>0</td>\n",
              "      <td>default</td>\n",
              "      <td>default</td>\n",
              "      <td>736.21</td>\n",
              "      <td>13655.32</td>\n",
              "      <td>Rifle</td>\n",
              "      <td>...</td>\n",
              "      <td>Minimal Wear</td>\n",
              "      <td>StatTrak™</td>\n",
              "      <td>Covert</td>\n",
              "      <td>#eb4b4b</td>\n",
              "      <td>The Arms Deal Collection</td>\n",
              "      <td>1</td>\n",
              "      <td>0</td>\n",
              "      <td>1</td>\n",
              "      <td>23.917697</td>\n",
              "      <td>moderately colorful</td>\n",
              "    </tr>\n",
              "    <tr>\n",
              "      <th>69508</th>\n",
              "      <td>69681</td>\n",
              "      <td>60277219</td>\n",
              "      <td>Gungnir</td>\n",
              "      <td>#D2D2D2</td>\n",
              "      <td>1</td>\n",
              "      <td>default</td>\n",
              "      <td>default</td>\n",
              "      <td>8459.88</td>\n",
              "      <td>15020.85</td>\n",
              "      <td>Rifle</td>\n",
              "      <td>...</td>\n",
              "      <td>Factory New</td>\n",
              "      <td>Normal</td>\n",
              "      <td>Covert</td>\n",
              "      <td>#eb4b4b</td>\n",
              "      <td>The Norse Collection</td>\n",
              "      <td>0</td>\n",
              "      <td>0</td>\n",
              "      <td>0</td>\n",
              "      <td>13.715623</td>\n",
              "      <td>slightly colorful</td>\n",
              "    </tr>\n",
              "    <tr>\n",
              "      <th>70428</th>\n",
              "      <td>70601</td>\n",
              "      <td>53910670</td>\n",
              "      <td>Electric Hive</td>\n",
              "      <td>#CF6A32</td>\n",
              "      <td>0</td>\n",
              "      <td>default</td>\n",
              "      <td>default</td>\n",
              "      <td>79.01</td>\n",
              "      <td>26000.00</td>\n",
              "      <td>Rifle</td>\n",
              "      <td>...</td>\n",
              "      <td>Factory New</td>\n",
              "      <td>StatTrak™</td>\n",
              "      <td>Classified</td>\n",
              "      <td>#d32ee6</td>\n",
              "      <td>The eSports 2013 Winter Collection</td>\n",
              "      <td>1</td>\n",
              "      <td>0</td>\n",
              "      <td>1</td>\n",
              "      <td>9.908203</td>\n",
              "      <td>slightly colorful</td>\n",
              "    </tr>\n",
              "    <tr>\n",
              "      <th>132516</th>\n",
              "      <td>132699</td>\n",
              "      <td>50847668</td>\n",
              "      <td>Scarlet Shamagh</td>\n",
              "      <td>#8650AC</td>\n",
              "      <td>0</td>\n",
              "      <td>default</td>\n",
              "      <td>default</td>\n",
              "      <td>418.92</td>\n",
              "      <td>17904.50</td>\n",
              "      <td>Gloves</td>\n",
              "      <td>...</td>\n",
              "      <td>Field-Tested</td>\n",
              "      <td>★</td>\n",
              "      <td>Extraordinary</td>\n",
              "      <td>#eb4b4b</td>\n",
              "      <td>No Collection</td>\n",
              "      <td>0</td>\n",
              "      <td>0</td>\n",
              "      <td>0</td>\n",
              "      <td>13.369047</td>\n",
              "      <td>slightly colorful</td>\n",
              "    </tr>\n",
              "  </tbody>\n",
              "</table>\n",
              "<p>15 rows × 25 columns</p>\n",
              "</div>\n",
              "      <button class=\"colab-df-convert\" onclick=\"convertToInteractive('df-147bbaf2-b04b-4ed7-b7a8-eaf7300da72e')\"\n",
              "              title=\"Convert this dataframe to an interactive table.\"\n",
              "              style=\"display:none;\">\n",
              "        \n",
              "  <svg xmlns=\"http://www.w3.org/2000/svg\" height=\"24px\"viewBox=\"0 0 24 24\"\n",
              "       width=\"24px\">\n",
              "    <path d=\"M0 0h24v24H0V0z\" fill=\"none\"/>\n",
              "    <path d=\"M18.56 5.44l.94 2.06.94-2.06 2.06-.94-2.06-.94-.94-2.06-.94 2.06-2.06.94zm-11 1L8.5 8.5l.94-2.06 2.06-.94-2.06-.94L8.5 2.5l-.94 2.06-2.06.94zm10 10l.94 2.06.94-2.06 2.06-.94-2.06-.94-.94-2.06-.94 2.06-2.06.94z\"/><path d=\"M17.41 7.96l-1.37-1.37c-.4-.4-.92-.59-1.43-.59-.52 0-1.04.2-1.43.59L10.3 9.45l-7.72 7.72c-.78.78-.78 2.05 0 2.83L4 21.41c.39.39.9.59 1.41.59.51 0 1.02-.2 1.41-.59l7.78-7.78 2.81-2.81c.8-.78.8-2.07 0-2.86zM5.41 20L4 18.59l7.72-7.72 1.47 1.35L5.41 20z\"/>\n",
              "  </svg>\n",
              "      </button>\n",
              "      \n",
              "  <style>\n",
              "    .colab-df-container {\n",
              "      display:flex;\n",
              "      flex-wrap:wrap;\n",
              "      gap: 12px;\n",
              "    }\n",
              "\n",
              "    .colab-df-convert {\n",
              "      background-color: #E8F0FE;\n",
              "      border: none;\n",
              "      border-radius: 50%;\n",
              "      cursor: pointer;\n",
              "      display: none;\n",
              "      fill: #1967D2;\n",
              "      height: 32px;\n",
              "      padding: 0 0 0 0;\n",
              "      width: 32px;\n",
              "    }\n",
              "\n",
              "    .colab-df-convert:hover {\n",
              "      background-color: #E2EBFA;\n",
              "      box-shadow: 0px 1px 2px rgba(60, 64, 67, 0.3), 0px 1px 3px 1px rgba(60, 64, 67, 0.15);\n",
              "      fill: #174EA6;\n",
              "    }\n",
              "\n",
              "    [theme=dark] .colab-df-convert {\n",
              "      background-color: #3B4455;\n",
              "      fill: #D2E3FC;\n",
              "    }\n",
              "\n",
              "    [theme=dark] .colab-df-convert:hover {\n",
              "      background-color: #434B5C;\n",
              "      box-shadow: 0px 1px 3px 1px rgba(0, 0, 0, 0.15);\n",
              "      filter: drop-shadow(0px 1px 2px rgba(0, 0, 0, 0.3));\n",
              "      fill: #FFFFFF;\n",
              "    }\n",
              "  </style>\n",
              "\n",
              "      <script>\n",
              "        const buttonEl =\n",
              "          document.querySelector('#df-147bbaf2-b04b-4ed7-b7a8-eaf7300da72e button.colab-df-convert');\n",
              "        buttonEl.style.display =\n",
              "          google.colab.kernel.accessAllowed ? 'block' : 'none';\n",
              "\n",
              "        async function convertToInteractive(key) {\n",
              "          const element = document.querySelector('#df-147bbaf2-b04b-4ed7-b7a8-eaf7300da72e');\n",
              "          const dataTable =\n",
              "            await google.colab.kernel.invokeFunction('convertToInteractive',\n",
              "                                                     [key], {});\n",
              "          if (!dataTable) return;\n",
              "\n",
              "          const docLinkHtml = 'Like what you see? Visit the ' +\n",
              "            '<a target=\"_blank\" href=https://colab.research.google.com/notebooks/data_table.ipynb>data table notebook</a>'\n",
              "            + ' to learn more about interactive tables.';\n",
              "          element.innerHTML = '';\n",
              "          dataTable['output_type'] = 'display_data';\n",
              "          await google.colab.output.renderOutput(dataTable, element);\n",
              "          const docLink = document.createElement('div');\n",
              "          docLink.innerHTML = docLinkHtml;\n",
              "          element.appendChild(docLink);\n",
              "        }\n",
              "      </script>\n",
              "    </div>\n",
              "  </div>\n",
              "  "
            ]
          },
          "metadata": {},
          "execution_count": 187
        }
      ]
    },
    {
      "cell_type": "markdown",
      "source": [
        "Hierbei handelt es sich um genau 15 Beobachtungen, welche im salePrice einen Wert größer 10.000€ haben. Der salePrice ist der Preis, welcher vom Verkäufer festgelegt wird, wenn das zu verkaufende Item inseriert wird. Dies bedeutet, dass hier willkürlich gesetzte Preise eingetragen werden können. Die Variable suggestedPrice hingegen ist der geschätzte Preis von SkinPort für die Skins, welcher realistischer an der Preisschätzung der Skins liegt. Dies zeigt sich auch im kommenden Diagramm wieder (hier gibt es weniger Ausreißer). Zuerst jedoch die Varianz von suggestedPrice und salePrice, welche die Aussage nochmals unterstreicht:"
      ],
      "metadata": {
        "id": "8pCYgBsyHVn7"
      }
    },
    {
      "cell_type": "code",
      "source": [
        "# Varianz von suggestedPrice\n",
        "round(data.suggestedPrice.var(),2)"
      ],
      "metadata": {
        "colab": {
          "base_uri": "https://localhost:8080/"
        },
        "id": "7KmR1AinKJM_",
        "outputId": "157ee42d-d424-4a7a-8660-d757b77351d7"
      },
      "execution_count": null,
      "outputs": [
        {
          "output_type": "execute_result",
          "data": {
            "text/plain": [
              "40939.66"
            ]
          },
          "metadata": {},
          "execution_count": 195
        }
      ]
    },
    {
      "cell_type": "code",
      "source": [
        "# Varianz von salePrice\n",
        "round(data.salePrice.var(),2)"
      ],
      "metadata": {
        "colab": {
          "base_uri": "https://localhost:8080/"
        },
        "id": "93JMZReXKMhH",
        "outputId": "8eb115e7-8c9c-4540-fe8e-54bd717ae770"
      },
      "execution_count": null,
      "outputs": [
        {
          "output_type": "execute_result",
          "data": {
            "text/plain": [
              "139111.48"
            ]
          },
          "metadata": {},
          "execution_count": 196
        }
      ]
    },
    {
      "cell_type": "code",
      "source": [
        "data.plot(kind='scatter', x='index', y='suggestedPrice', title='Rarity vs Sales Price (Euro)');"
      ],
      "metadata": {
        "colab": {
          "base_uri": "https://localhost:8080/",
          "height": 665
        },
        "id": "C4XVmjEUJF2h",
        "outputId": "b92944ad-850f-4734-bb64-be891ab699ee"
      },
      "execution_count": null,
      "outputs": [
        {
          "output_type": "stream",
          "name": "stderr",
          "text": [
            "*c* argument looks like a single numeric RGB or RGBA sequence, which should be avoided as value-mapping will have precedence in case its length matches with *x* & *y*.  Please use the *color* keyword-argument or provide a 2-D array with a single row if you intend to specify the same RGB or RGBA value for all points.\n"
          ]
        },
        {
          "output_type": "display_data",
          "data": {
            "text/plain": [
              "<Figure size 1440x720 with 1 Axes>"
            ],
            "image/png": "[encoded data removed]"
          },
          "metadata": {
            "needs_background": "light"
          }
        }
      ]
    },
    {
      "cell_type": "markdown",
      "source": [
        "Wie nun bei suggestedPrice zu sehen ist, gibt es weniger extreme Ausreißer nach oben."
      ],
      "metadata": {
        "id": "MRFb4wQ-K_al"
      }
    },
    {
      "cell_type": "code",
      "source": [
        "data.plot(kind='scatter', x='rarity', y='salePrice', title='Rarity vs Sales Price (Euro)');"
      ],
      "metadata": {
        "colab": {
          "base_uri": "https://localhost:8080/",
          "height": 665
        },
        "id": "j7xpgqE_-qCv",
        "outputId": "47b54006-857a-45b5-fe4a-327c28116934"
      },
      "execution_count": null,
      "outputs": [
        {
          "output_type": "stream",
          "name": "stderr",
          "text": [
            "*c* argument looks like a single numeric RGB or RGBA sequence, which should be avoided as value-mapping will have precedence in case its length matches with *x* & *y*.  Please use the *color* keyword-argument or provide a 2-D array with a single row if you intend to specify the same RGB or RGBA value for all points.\n"
          ]
        },
        {
          "output_type": "display_data",
          "data": {
            "text/plain": [
              "<Figure size 864x720 with 1 Axes>"
            ],
            "image/png": "[encoded data removed]"
          },
          "metadata": {
            "needs_background": "light"
          }
        }
      ]
    },
    {
      "cell_type": "code",
      "source": [
        "data.plot(kind='scatter', x='wear', y='salePrice', title='Wear vs Sales Price (Euro)');"
      ],
      "metadata": {
        "colab": {
          "base_uri": "https://localhost:8080/",
          "height": 665
        },
        "id": "-IuCwTQSAhnU",
        "outputId": "d2280152-9899-4861-98c9-e64a2a9e64a7"
      },
      "execution_count": null,
      "outputs": [
        {
          "output_type": "stream",
          "name": "stderr",
          "text": [
            "*c* argument looks like a single numeric RGB or RGBA sequence, which should be avoided as value-mapping will have precedence in case its length matches with *x* & *y*.  Please use the *color* keyword-argument or provide a 2-D array with a single row if you intend to specify the same RGB or RGBA value for all points.\n"
          ]
        },
        {
          "output_type": "display_data",
          "data": {
            "text/plain": [
              "<Figure size 1440x720 with 1 Axes>"
            ],
            "image/png": "[encoded data removed]"
          },
          "metadata": {
            "needs_background": "light"
          }
        }
      ]
    },
    {
      "cell_type": "code",
      "source": [
        "data.plot(kind='scatter', x='cats_colorfulness', y='salePrice', title='Wear vs Sales Price (Euro)');"
      ],
      "metadata": {
        "colab": {
          "base_uri": "https://localhost:8080/",
          "height": 665
        },
        "id": "skoJy-NXBevO",
        "outputId": "003f1a2e-089d-46cb-cdc4-5cac11cef8d3"
      },
      "execution_count": null,
      "outputs": [
        {
          "output_type": "stream",
          "name": "stderr",
          "text": [
            "*c* argument looks like a single numeric RGB or RGBA sequence, which should be avoided as value-mapping will have precedence in case its length matches with *x* & *y*.  Please use the *color* keyword-argument or provide a 2-D array with a single row if you intend to specify the same RGB or RGBA value for all points.\n"
          ]
        },
        {
          "output_type": "display_data",
          "data": {
            "text/plain": [
              "<Figure size 1440x720 with 1 Axes>"
            ],
            "image/png": "[encoded data removed]"
          },
          "metadata": {
            "needs_background": "light"
          }
        }
      ]
    },
    {
      "cell_type": "code",
      "source": [
        "data.plot(kind='scatter', x='colorfulness', y='salePrice', title='Wear vs Sales Price (Euro)');"
      ],
      "metadata": {
        "colab": {
          "base_uri": "https://localhost:8080/",
          "height": 665
        },
        "id": "gGDwyPBTBf1F",
        "outputId": "f963b7e0-838f-4df8-baad-42862cbea6ca"
      },
      "execution_count": null,
      "outputs": [
        {
          "output_type": "stream",
          "name": "stderr",
          "text": [
            "*c* argument looks like a single numeric RGB or RGBA sequence, which should be avoided as value-mapping will have precedence in case its length matches with *x* & *y*.  Please use the *color* keyword-argument or provide a 2-D array with a single row if you intend to specify the same RGB or RGBA value for all points.\n"
          ]
        },
        {
          "output_type": "display_data",
          "data": {
            "text/plain": [
              "<Figure size 1440x720 with 1 Axes>"
            ],
            "image/png": "[encoded data removed]"
          },
          "metadata": {
            "needs_background": "light"
          }
        }
      ]
    },
    {
      "cell_type": "code",
      "source": [
        "plt.rcParams.update({'font.size': 20, 'figure.figsize': (20, 10)})\n",
        "\n",
        "data.plot(kind='scatter', x='version', y='salePrice', title='Wear vs Sales Price (Euro)');"
      ],
      "metadata": {
        "colab": {
          "base_uri": "https://localhost:8080/",
          "height": 665
        },
        "id": "vHngD7lzB-e_",
        "outputId": "c27c0c4c-ac76-4e21-852b-9f9060f5276d"
      },
      "execution_count": null,
      "outputs": [
        {
          "output_type": "stream",
          "name": "stderr",
          "text": [
            "*c* argument looks like a single numeric RGB or RGBA sequence, which should be avoided as value-mapping will have precedence in case its length matches with *x* & *y*.  Please use the *color* keyword-argument or provide a 2-D array with a single row if you intend to specify the same RGB or RGBA value for all points.\n"
          ]
        },
        {
          "output_type": "display_data",
          "data": {
            "text/plain": [
              "<Figure size 1440x720 with 1 Axes>"
            ],
            "image/png": "[encoded data removed]"
          },
          "metadata": {
            "needs_background": "light"
          }
        }
      ]
    },
    {
      "cell_type": "code",
      "source": [
        "data_ue20k = data[data['salePrice'] >= 20000]"
      ],
      "metadata": {
        "id": "6UzJO6UnBf9d"
      },
      "execution_count": null,
      "outputs": []
    },
    {
      "cell_type": "code",
      "source": [
        "data_ue10k = data[data['salePrice'] >= 10000]"
      ],
      "metadata": {
        "id": "bGWj_yZ7BgHp"
      },
      "execution_count": null,
      "outputs": []
    },
    {
      "cell_type": "code",
      "source": [
        "data_ue10k"
      ],
      "metadata": {
        "colab": {
          "base_uri": "https://localhost:8080/",
          "height": 977
        },
        "id": "ululXUpUClaf",
        "outputId": "03cd1041-d798-4918-be02-adc7bf832012"
      },
      "execution_count": null,
      "outputs": [
        {
          "output_type": "execute_result",
          "data": {
            "text/plain": [
              "         index   assetId             family    color  lock   version  \\\n",
              "800        822  41787087            Doppler  #8650AC     0  Sapphire   \n",
              "846        868  57386498      Gamma Doppler  #8650AC     0   Emerald   \n",
              "2932      2998  47663996            Doppler  #8650AC     1  Sapphire   \n",
              "7253      7421  42288854  Cobalt Disruption  #D2D2D2     0   default   \n",
              "25724    25895  45506601            Valence  #D2D2D2     0   default   \n",
              "27121    27292  43907576          Sand Dune  #FFD700     0   default   \n",
              "42223    42395  36210877            Redline  #CF6A32     0   default   \n",
              "43479    43651  49905872      Case Hardened  #CF6A32     0    Tier 2   \n",
              "61329    61501  33573999               Howl  #CF6A32     0   default   \n",
              "61332    61504  26587537               Howl  #CF6A32     0   default   \n",
              "61342    61514  22715293               Howl  #D2D2D2     0   default   \n",
              "69007    69180  49396145   Lightning Strike  #CF6A32     0   default   \n",
              "69508    69681  60277219            Gungnir  #D2D2D2     1   default   \n",
              "70428    70601  53910670      Electric Hive  #CF6A32     0   default   \n",
              "132516  132699  50847668    Scarlet Shamagh  #8650AC     0   default   \n",
              "\n",
              "       versionType  suggestedPrice  salePrice category  ...      exterior  \\\n",
              "800          phase        13461.54   13906.90    Knife  ...   Factory New   \n",
              "846          phase        14697.21   14700.87    Knife  ...   Factory New   \n",
              "2932         phase         9940.10   13627.13    Knife  ...   Factory New   \n",
              "7253       default           61.49   46505.17   Pistol  ...   Factory New   \n",
              "25724      default            0.60   49560.28   Pistol  ...   Factory New   \n",
              "27121      default            0.39   37880.51   Pistol  ...     Well-Worn   \n",
              "42223      default          154.38   22711.88    Rifle  ...  Minimal Wear   \n",
              "43479      pattern          265.04   30000.00    Rifle  ...  Minimal Wear   \n",
              "61329      default        16609.35   26000.00    Rifle  ...   Factory New   \n",
              "61332      default        16609.35   31795.72    Rifle  ...   Factory New   \n",
              "61342      default         4005.20   49999.99    Rifle  ...  Minimal Wear   \n",
              "69007      default          736.21   13655.32    Rifle  ...  Minimal Wear   \n",
              "69508      default         8459.88   15020.85    Rifle  ...   Factory New   \n",
              "70428      default           79.01   26000.00    Rifle  ...   Factory New   \n",
              "132516     default          418.92   17904.50   Gloves  ...  Field-Tested   \n",
              "\n",
              "          quality          rarity  rarityColor  \\\n",
              "800             ★          Covert      #eb4b4b   \n",
              "846             ★          Covert      #eb4b4b   \n",
              "2932            ★          Covert      #eb4b4b   \n",
              "7253       Normal      Classified      #d32ee6   \n",
              "25724      Normal  Mil-Spec Grade      #4b69ff   \n",
              "27121    Souvenir  Consumer Grade      #b0c3d9   \n",
              "42223   StatTrak™      Classified      #d32ee6   \n",
              "43479   StatTrak™      Classified      #d32ee6   \n",
              "61329   StatTrak™          Covert      #eb4b4b   \n",
              "61332   StatTrak™          Covert      #eb4b4b   \n",
              "61342      Normal          Covert      #eb4b4b   \n",
              "69007   StatTrak™          Covert      #eb4b4b   \n",
              "69508      Normal          Covert      #eb4b4b   \n",
              "70428   StatTrak™      Classified      #d32ee6   \n",
              "132516          ★   Extraordinary      #eb4b4b   \n",
              "\n",
              "                                collection stickers souvenir stattrak  \\\n",
              "800                The Breakout Collection        0        0        0   \n",
              "846                The Breakout Collection        0        0        0   \n",
              "2932                         No Collection        0        0        0   \n",
              "7253    The eSports 2013 Winter Collection        1        0        0   \n",
              "25724              The Chroma 2 Collection        1        0        0   \n",
              "27121                The Dust 2 Collection        1        1        0   \n",
              "42223               The Phoenix Collection        1        0        1   \n",
              "43479             The Arms Deal Collection        1        0        1   \n",
              "61329                        No Collection        1        0        1   \n",
              "61332                        No Collection        1        0        1   \n",
              "61342                        No Collection        0        0        0   \n",
              "69007             The Arms Deal Collection        1        0        1   \n",
              "69508                 The Norse Collection        0        0        0   \n",
              "70428   The eSports 2013 Winter Collection        1        0        1   \n",
              "132516                       No Collection        0        0        0   \n",
              "\n",
              "       colorfulness    cats_colorfulness  \n",
              "800       26.052475  moderately colorful  \n",
              "846       16.608317  moderately colorful  \n",
              "2932      46.872878       quite colorful  \n",
              "7253      43.392093   averagely colorful  \n",
              "25724     48.083679       quite colorful  \n",
              "27121     28.512152  moderately colorful  \n",
              "42223     10.358685    slightly colorful  \n",
              "43479     20.445109  moderately colorful  \n",
              "61329     24.433518  moderately colorful  \n",
              "61332     25.731520  moderately colorful  \n",
              "61342     25.851920  moderately colorful  \n",
              "69007     23.917697  moderately colorful  \n",
              "69508     13.715623    slightly colorful  \n",
              "70428      9.908203    slightly colorful  \n",
              "132516    13.369047    slightly colorful  \n",
              "\n",
              "[15 rows x 25 columns]"
            ],
            "text/html": [
              "\n",
              "  <div id=\"df-efd59a41-21fe-4ab4-a83c-aa48ae6a7211\">\n",
              "    <div class=\"colab-df-container\">\n",
              "      <div>\n",
              "<style scoped>\n",
              "    .dataframe tbody tr th:only-of-type {\n",
              "        vertical-align: middle;\n",
              "    }\n",
              "\n",
              "    .dataframe tbody tr th {\n",
              "        vertical-align: top;\n",
              "    }\n",
              "\n",
              "    .dataframe thead th {\n",
              "        text-align: right;\n",
              "    }\n",
              "</style>\n",
              "<table border=\"1\" class=\"dataframe\">\n",
              "  <thead>\n",
              "    <tr style=\"text-align: right;\">\n",
              "      <th></th>\n",
              "      <th>index</th>\n",
              "      <th>assetId</th>\n",
              "      <th>family</th>\n",
              "      <th>color</th>\n",
              "      <th>lock</th>\n",
              "      <th>version</th>\n",
              "      <th>versionType</th>\n",
              "      <th>suggestedPrice</th>\n",
              "      <th>salePrice</th>\n",
              "      <th>category</th>\n",
              "      <th>...</th>\n",
              "      <th>exterior</th>\n",
              "      <th>quality</th>\n",
              "      <th>rarity</th>\n",
              "      <th>rarityColor</th>\n",
              "      <th>collection</th>\n",
              "      <th>stickers</th>\n",
              "      <th>souvenir</th>\n",
              "      <th>stattrak</th>\n",
              "      <th>colorfulness</th>\n",
              "      <th>cats_colorfulness</th>\n",
              "    </tr>\n",
              "  </thead>\n",
              "  <tbody>\n",
              "    <tr>\n",
              "      <th>800</th>\n",
              "      <td>822</td>\n",
              "      <td>41787087</td>\n",
              "      <td>Doppler</td>\n",
              "      <td>#8650AC</td>\n",
              "      <td>0</td>\n",
              "      <td>Sapphire</td>\n",
              "      <td>phase</td>\n",
              "      <td>13461.54</td>\n",
              "      <td>13906.90</td>\n",
              "      <td>Knife</td>\n",
              "      <td>...</td>\n",
              "      <td>Factory New</td>\n",
              "      <td>★</td>\n",
              "      <td>Covert</td>\n",
              "      <td>#eb4b4b</td>\n",
              "      <td>The Breakout Collection</td>\n",
              "      <td>0</td>\n",
              "      <td>0</td>\n",
              "      <td>0</td>\n",
              "      <td>26.052475</td>\n",
              "      <td>moderately colorful</td>\n",
              "    </tr>\n",
              "    <tr>\n",
              "      <th>846</th>\n",
              "      <td>868</td>\n",
              "      <td>57386498</td>\n",
              "      <td>Gamma Doppler</td>\n",
              "      <td>#8650AC</td>\n",
              "      <td>0</td>\n",
              "      <td>Emerald</td>\n",
              "      <td>phase</td>\n",
              "      <td>14697.21</td>\n",
              "      <td>14700.87</td>\n",
              "      <td>Knife</td>\n",
              "      <td>...</td>\n",
              "      <td>Factory New</td>\n",
              "      <td>★</td>\n",
              "      <td>Covert</td>\n",
              "      <td>#eb4b4b</td>\n",
              "      <td>The Breakout Collection</td>\n",
              "      <td>0</td>\n",
              "      <td>0</td>\n",
              "      <td>0</td>\n",
              "      <td>16.608317</td>\n",
              "      <td>moderately colorful</td>\n",
              "    </tr>\n",
              "    <tr>\n",
              "      <th>2932</th>\n",
              "      <td>2998</td>\n",
              "      <td>47663996</td>\n",
              "      <td>Doppler</td>\n",
              "      <td>#8650AC</td>\n",
              "      <td>1</td>\n",
              "      <td>Sapphire</td>\n",
              "      <td>phase</td>\n",
              "      <td>9940.10</td>\n",
              "      <td>13627.13</td>\n",
              "      <td>Knife</td>\n",
              "      <td>...</td>\n",
              "      <td>Factory New</td>\n",
              "      <td>★</td>\n",
              "      <td>Covert</td>\n",
              "      <td>#eb4b4b</td>\n",
              "      <td>No Collection</td>\n",
              "      <td>0</td>\n",
              "      <td>0</td>\n",
              "      <td>0</td>\n",
              "      <td>46.872878</td>\n",
              "      <td>quite colorful</td>\n",
              "    </tr>\n",
              "    <tr>\n",
              "      <th>7253</th>\n",
              "      <td>7421</td>\n",
              "      <td>42288854</td>\n",
              "      <td>Cobalt Disruption</td>\n",
              "      <td>#D2D2D2</td>\n",
              "      <td>0</td>\n",
              "      <td>default</td>\n",
              "      <td>default</td>\n",
              "      <td>61.49</td>\n",
              "      <td>46505.17</td>\n",
              "      <td>Pistol</td>\n",
              "      <td>...</td>\n",
              "      <td>Factory New</td>\n",
              "      <td>Normal</td>\n",
              "      <td>Classified</td>\n",
              "      <td>#d32ee6</td>\n",
              "      <td>The eSports 2013 Winter Collection</td>\n",
              "      <td>1</td>\n",
              "      <td>0</td>\n",
              "      <td>0</td>\n",
              "      <td>43.392093</td>\n",
              "      <td>averagely colorful</td>\n",
              "    </tr>\n",
              "    <tr>\n",
              "      <th>25724</th>\n",
              "      <td>25895</td>\n",
              "      <td>45506601</td>\n",
              "      <td>Valence</td>\n",
              "      <td>#D2D2D2</td>\n",
              "      <td>0</td>\n",
              "      <td>default</td>\n",
              "      <td>default</td>\n",
              "      <td>0.60</td>\n",
              "      <td>49560.28</td>\n",
              "      <td>Pistol</td>\n",
              "      <td>...</td>\n",
              "      <td>Factory New</td>\n",
              "      <td>Normal</td>\n",
              "      <td>Mil-Spec Grade</td>\n",
              "      <td>#4b69ff</td>\n",
              "      <td>The Chroma 2 Collection</td>\n",
              "      <td>1</td>\n",
              "      <td>0</td>\n",
              "      <td>0</td>\n",
              "      <td>48.083679</td>\n",
              "      <td>quite colorful</td>\n",
              "    </tr>\n",
              "    <tr>\n",
              "      <th>27121</th>\n",
              "      <td>27292</td>\n",
              "      <td>43907576</td>\n",
              "      <td>Sand Dune</td>\n",
              "      <td>#FFD700</td>\n",
              "      <td>0</td>\n",
              "      <td>default</td>\n",
              "      <td>default</td>\n",
              "      <td>0.39</td>\n",
              "      <td>37880.51</td>\n",
              "      <td>Pistol</td>\n",
              "      <td>...</td>\n",
              "      <td>Well-Worn</td>\n",
              "      <td>Souvenir</td>\n",
              "      <td>Consumer Grade</td>\n",
              "      <td>#b0c3d9</td>\n",
              "      <td>The Dust 2 Collection</td>\n",
              "      <td>1</td>\n",
              "      <td>1</td>\n",
              "      <td>0</td>\n",
              "      <td>28.512152</td>\n",
              "      <td>moderately colorful</td>\n",
              "    </tr>\n",
              "    <tr>\n",
              "      <th>42223</th>\n",
              "      <td>42395</td>\n",
              "      <td>36210877</td>\n",
              "      <td>Redline</td>\n",
              "      <td>#CF6A32</td>\n",
              "      <td>0</td>\n",
              "      <td>default</td>\n",
              "      <td>default</td>\n",
              "      <td>154.38</td>\n",
              "      <td>22711.88</td>\n",
              "      <td>Rifle</td>\n",
              "      <td>...</td>\n",
              "      <td>Minimal Wear</td>\n",
              "      <td>StatTrak™</td>\n",
              "      <td>Classified</td>\n",
              "      <td>#d32ee6</td>\n",
              "      <td>The Phoenix Collection</td>\n",
              "      <td>1</td>\n",
              "      <td>0</td>\n",
              "      <td>1</td>\n",
              "      <td>10.358685</td>\n",
              "      <td>slightly colorful</td>\n",
              "    </tr>\n",
              "    <tr>\n",
              "      <th>43479</th>\n",
              "      <td>43651</td>\n",
              "      <td>49905872</td>\n",
              "      <td>Case Hardened</td>\n",
              "      <td>#CF6A32</td>\n",
              "      <td>0</td>\n",
              "      <td>Tier 2</td>\n",
              "      <td>pattern</td>\n",
              "      <td>265.04</td>\n",
              "      <td>30000.00</td>\n",
              "      <td>Rifle</td>\n",
              "      <td>...</td>\n",
              "      <td>Minimal Wear</td>\n",
              "      <td>StatTrak™</td>\n",
              "      <td>Classified</td>\n",
              "      <td>#d32ee6</td>\n",
              "      <td>The Arms Deal Collection</td>\n",
              "      <td>1</td>\n",
              "      <td>0</td>\n",
              "      <td>1</td>\n",
              "      <td>20.445109</td>\n",
              "      <td>moderately colorful</td>\n",
              "    </tr>\n",
              "    <tr>\n",
              "      <th>61329</th>\n",
              "      <td>61501</td>\n",
              "      <td>33573999</td>\n",
              "      <td>Howl</td>\n",
              "      <td>#CF6A32</td>\n",
              "      <td>0</td>\n",
              "      <td>default</td>\n",
              "      <td>default</td>\n",
              "      <td>16609.35</td>\n",
              "      <td>26000.00</td>\n",
              "      <td>Rifle</td>\n",
              "      <td>...</td>\n",
              "      <td>Factory New</td>\n",
              "      <td>StatTrak™</td>\n",
              "      <td>Covert</td>\n",
              "      <td>#eb4b4b</td>\n",
              "      <td>No Collection</td>\n",
              "      <td>1</td>\n",
              "      <td>0</td>\n",
              "      <td>1</td>\n",
              "      <td>24.433518</td>\n",
              "      <td>moderately colorful</td>\n",
              "    </tr>\n",
              "    <tr>\n",
              "      <th>61332</th>\n",
              "      <td>61504</td>\n",
              "      <td>26587537</td>\n",
              "      <td>Howl</td>\n",
              "      <td>#CF6A32</td>\n",
              "      <td>0</td>\n",
              "      <td>default</td>\n",
              "      <td>default</td>\n",
              "      <td>16609.35</td>\n",
              "      <td>31795.72</td>\n",
              "      <td>Rifle</td>\n",
              "      <td>...</td>\n",
              "      <td>Factory New</td>\n",
              "      <td>StatTrak™</td>\n",
              "      <td>Covert</td>\n",
              "      <td>#eb4b4b</td>\n",
              "      <td>No Collection</td>\n",
              "      <td>1</td>\n",
              "      <td>0</td>\n",
              "      <td>1</td>\n",
              "      <td>25.731520</td>\n",
              "      <td>moderately colorful</td>\n",
              "    </tr>\n",
              "    <tr>\n",
              "      <th>61342</th>\n",
              "      <td>61514</td>\n",
              "      <td>22715293</td>\n",
              "      <td>Howl</td>\n",
              "      <td>#D2D2D2</td>\n",
              "      <td>0</td>\n",
              "      <td>default</td>\n",
              "      <td>default</td>\n",
              "      <td>4005.20</td>\n",
              "      <td>49999.99</td>\n",
              "      <td>Rifle</td>\n",
              "      <td>...</td>\n",
              "      <td>Minimal Wear</td>\n",
              "      <td>Normal</td>\n",
              "      <td>Covert</td>\n",
              "      <td>#eb4b4b</td>\n",
              "      <td>No Collection</td>\n",
              "      <td>0</td>\n",
              "      <td>0</td>\n",
              "      <td>0</td>\n",
              "      <td>25.851920</td>\n",
              "      <td>moderately colorful</td>\n",
              "    </tr>\n",
              "    <tr>\n",
              "      <th>69007</th>\n",
              "      <td>69180</td>\n",
              "      <td>49396145</td>\n",
              "      <td>Lightning Strike</td>\n",
              "      <td>#CF6A32</td>\n",
              "      <td>0</td>\n",
              "      <td>default</td>\n",
              "      <td>default</td>\n",
              "      <td>736.21</td>\n",
              "      <td>13655.32</td>\n",
              "      <td>Rifle</td>\n",
              "      <td>...</td>\n",
              "      <td>Minimal Wear</td>\n",
              "      <td>StatTrak™</td>\n",
              "      <td>Covert</td>\n",
              "      <td>#eb4b4b</td>\n",
              "      <td>The Arms Deal Collection</td>\n",
              "      <td>1</td>\n",
              "      <td>0</td>\n",
              "      <td>1</td>\n",
              "      <td>23.917697</td>\n",
              "      <td>moderately colorful</td>\n",
              "    </tr>\n",
              "    <tr>\n",
              "      <th>69508</th>\n",
              "      <td>69681</td>\n",
              "      <td>60277219</td>\n",
              "      <td>Gungnir</td>\n",
              "      <td>#D2D2D2</td>\n",
              "      <td>1</td>\n",
              "      <td>default</td>\n",
              "      <td>default</td>\n",
              "      <td>8459.88</td>\n",
              "      <td>15020.85</td>\n",
              "      <td>Rifle</td>\n",
              "      <td>...</td>\n",
              "      <td>Factory New</td>\n",
              "      <td>Normal</td>\n",
              "      <td>Covert</td>\n",
              "      <td>#eb4b4b</td>\n",
              "      <td>The Norse Collection</td>\n",
              "      <td>0</td>\n",
              "      <td>0</td>\n",
              "      <td>0</td>\n",
              "      <td>13.715623</td>\n",
              "      <td>slightly colorful</td>\n",
              "    </tr>\n",
              "    <tr>\n",
              "      <th>70428</th>\n",
              "      <td>70601</td>\n",
              "      <td>53910670</td>\n",
              "      <td>Electric Hive</td>\n",
              "      <td>#CF6A32</td>\n",
              "      <td>0</td>\n",
              "      <td>default</td>\n",
              "      <td>default</td>\n",
              "      <td>79.01</td>\n",
              "      <td>26000.00</td>\n",
              "      <td>Rifle</td>\n",
              "      <td>...</td>\n",
              "      <td>Factory New</td>\n",
              "      <td>StatTrak™</td>\n",
              "      <td>Classified</td>\n",
              "      <td>#d32ee6</td>\n",
              "      <td>The eSports 2013 Winter Collection</td>\n",
              "      <td>1</td>\n",
              "      <td>0</td>\n",
              "      <td>1</td>\n",
              "      <td>9.908203</td>\n",
              "      <td>slightly colorful</td>\n",
              "    </tr>\n",
              "    <tr>\n",
              "      <th>132516</th>\n",
              "      <td>132699</td>\n",
              "      <td>50847668</td>\n",
              "      <td>Scarlet Shamagh</td>\n",
              "      <td>#8650AC</td>\n",
              "      <td>0</td>\n",
              "      <td>default</td>\n",
              "      <td>default</td>\n",
              "      <td>418.92</td>\n",
              "      <td>17904.50</td>\n",
              "      <td>Gloves</td>\n",
              "      <td>...</td>\n",
              "      <td>Field-Tested</td>\n",
              "      <td>★</td>\n",
              "      <td>Extraordinary</td>\n",
              "      <td>#eb4b4b</td>\n",
              "      <td>No Collection</td>\n",
              "      <td>0</td>\n",
              "      <td>0</td>\n",
              "      <td>0</td>\n",
              "      <td>13.369047</td>\n",
              "      <td>slightly colorful</td>\n",
              "    </tr>\n",
              "  </tbody>\n",
              "</table>\n",
              "<p>15 rows × 25 columns</p>\n",
              "</div>\n",
              "      <button class=\"colab-df-convert\" onclick=\"convertToInteractive('df-efd59a41-21fe-4ab4-a83c-aa48ae6a7211')\"\n",
              "              title=\"Convert this dataframe to an interactive table.\"\n",
              "              style=\"display:none;\">\n",
              "        \n",
              "  <svg xmlns=\"http://www.w3.org/2000/svg\" height=\"24px\"viewBox=\"0 0 24 24\"\n",
              "       width=\"24px\">\n",
              "    <path d=\"M0 0h24v24H0V0z\" fill=\"none\"/>\n",
              "    <path d=\"M18.56 5.44l.94 2.06.94-2.06 2.06-.94-2.06-.94-.94-2.06-.94 2.06-2.06.94zm-11 1L8.5 8.5l.94-2.06 2.06-.94-2.06-.94L8.5 2.5l-.94 2.06-2.06.94zm10 10l.94 2.06.94-2.06 2.06-.94-2.06-.94-.94-2.06-.94 2.06-2.06.94z\"/><path d=\"M17.41 7.96l-1.37-1.37c-.4-.4-.92-.59-1.43-.59-.52 0-1.04.2-1.43.59L10.3 9.45l-7.72 7.72c-.78.78-.78 2.05 0 2.83L4 21.41c.39.39.9.59 1.41.59.51 0 1.02-.2 1.41-.59l7.78-7.78 2.81-2.81c.8-.78.8-2.07 0-2.86zM5.41 20L4 18.59l7.72-7.72 1.47 1.35L5.41 20z\"/>\n",
              "  </svg>\n",
              "      </button>\n",
              "      \n",
              "  <style>\n",
              "    .colab-df-container {\n",
              "      display:flex;\n",
              "      flex-wrap:wrap;\n",
              "      gap: 12px;\n",
              "    }\n",
              "\n",
              "    .colab-df-convert {\n",
              "      background-color: #E8F0FE;\n",
              "      border: none;\n",
              "      border-radius: 50%;\n",
              "      cursor: pointer;\n",
              "      display: none;\n",
              "      fill: #1967D2;\n",
              "      height: 32px;\n",
              "      padding: 0 0 0 0;\n",
              "      width: 32px;\n",
              "    }\n",
              "\n",
              "    .colab-df-convert:hover {\n",
              "      background-color: #E2EBFA;\n",
              "      box-shadow: 0px 1px 2px rgba(60, 64, 67, 0.3), 0px 1px 3px 1px rgba(60, 64, 67, 0.15);\n",
              "      fill: #174EA6;\n",
              "    }\n",
              "\n",
              "    [theme=dark] .colab-df-convert {\n",
              "      background-color: #3B4455;\n",
              "      fill: #D2E3FC;\n",
              "    }\n",
              "\n",
              "    [theme=dark] .colab-df-convert:hover {\n",
              "      background-color: #434B5C;\n",
              "      box-shadow: 0px 1px 3px 1px rgba(0, 0, 0, 0.15);\n",
              "      filter: drop-shadow(0px 1px 2px rgba(0, 0, 0, 0.3));\n",
              "      fill: #FFFFFF;\n",
              "    }\n",
              "  </style>\n",
              "\n",
              "      <script>\n",
              "        const buttonEl =\n",
              "          document.querySelector('#df-efd59a41-21fe-4ab4-a83c-aa48ae6a7211 button.colab-df-convert');\n",
              "        buttonEl.style.display =\n",
              "          google.colab.kernel.accessAllowed ? 'block' : 'none';\n",
              "\n",
              "        async function convertToInteractive(key) {\n",
              "          const element = document.querySelector('#df-efd59a41-21fe-4ab4-a83c-aa48ae6a7211');\n",
              "          const dataTable =\n",
              "            await google.colab.kernel.invokeFunction('convertToInteractive',\n",
              "                                                     [key], {});\n",
              "          if (!dataTable) return;\n",
              "\n",
              "          const docLinkHtml = 'Like what you see? Visit the ' +\n",
              "            '<a target=\"_blank\" href=https://colab.research.google.com/notebooks/data_table.ipynb>data table notebook</a>'\n",
              "            + ' to learn more about interactive tables.';\n",
              "          element.innerHTML = '';\n",
              "          dataTable['output_type'] = 'display_data';\n",
              "          await google.colab.output.renderOutput(dataTable, element);\n",
              "          const docLink = document.createElement('div');\n",
              "          docLink.innerHTML = docLinkHtml;\n",
              "          element.appendChild(docLink);\n",
              "        }\n",
              "      </script>\n",
              "    </div>\n",
              "  </div>\n",
              "  "
            ]
          },
          "metadata": {},
          "execution_count": 166
        }
      ]
    },
    {
      "cell_type": "code",
      "source": [
        "20000"
      ],
      "metadata": {
        "id": "824SKa2mDDfR"
      },
      "execution_count": null,
      "outputs": []
    },
    {
      "cell_type": "code",
      "source": [
        ""
      ],
      "metadata": {
        "id": "dngYHfpeCmDP"
      },
      "execution_count": null,
      "outputs": []
    },
    {
      "cell_type": "code",
      "source": [
        "sns.set(rc={'figure.figsize':(12,8.5)})"
      ],
      "metadata": {
        "id": "aT3lrV_Cbw_i"
      },
      "execution_count": null,
      "outputs": []
    },
    {
      "cell_type": "code",
      "source": [
        "sns.distplot(data['salePrice'], kde = False)"
      ],
      "metadata": {
        "colab": {
          "base_uri": "https://localhost:8080/",
          "height": 601
        },
        "id": "lhi4Lu0lpe31",
        "outputId": "aebd589d-96ad-42f7-86c8-8896a7a7ad71"
      },
      "execution_count": null,
      "outputs": [
        {
          "output_type": "stream",
          "name": "stderr",
          "text": [
            "/usr/local/lib/python3.7/dist-packages/seaborn/distributions.py:2619: FutureWarning: `distplot` is a deprecated function and will be removed in a future version. Please adapt your code to use either `displot` (a figure-level function with similar flexibility) or `histplot` (an axes-level function for histograms).\n",
            "  warnings.warn(msg, FutureWarning)\n"
          ]
        },
        {
          "output_type": "execute_result",
          "data": {
            "text/plain": [
              "<matplotlib.axes._subplots.AxesSubplot at 0x7fe751db6650>"
            ]
          },
          "metadata": {},
          "execution_count": 130
        },
        {
          "output_type": "display_data",
          "data": {
            "text/plain": [
              "<Figure size 864x612 with 1 Axes>"
            ],
            "image/png": "[encoded data removed]"
          },
          "metadata": {}
        }
      ]
    },
    {
      "cell_type": "code",
      "source": [
        ""
      ],
      "metadata": {
        "id": "qU4LI3-JZxnZ"
      },
      "execution_count": null,
      "outputs": []
    },
    {
      "cell_type": "markdown",
      "source": [
        "#TEST Erste Visualisierungen"
      ],
      "metadata": {
        "id": "tXp0ptzFk4A8"
      }
    },
    {
      "cell_type": "code",
      "source": [
        "#distribution plot\n",
        "#distribution for 1 var\n",
        "\n",
        "sns.distplot(data['wear'], kde = False)# , bins=100)\n",
        "#balken sind histogram\n",
        "#linie ist \"kernal density estimation\" false"
      ],
      "metadata": {
        "colab": {
          "base_uri": "https://localhost:8080/",
          "height": 352
        },
        "id": "pEC1DuoZa-cw",
        "outputId": "22f21fb3-f7b7-436a-e6be-0f29a8dd67ba"
      },
      "execution_count": null,
      "outputs": [
        {
          "output_type": "stream",
          "name": "stderr",
          "text": [
            "/usr/local/lib/python3.7/dist-packages/seaborn/distributions.py:2619: FutureWarning: `distplot` is a deprecated function and will be removed in a future version. Please adapt your code to use either `displot` (a figure-level function with similar flexibility) or `histplot` (an axes-level function for histograms).\n",
            "  warnings.warn(msg, FutureWarning)\n"
          ]
        },
        {
          "output_type": "execute_result",
          "data": {
            "text/plain": [
              "<matplotlib.axes._subplots.AxesSubplot at 0x7f73b00fcc50>"
            ]
          },
          "metadata": {},
          "execution_count": 36
        },
        {
          "output_type": "display_data",
          "data": {
            "text/plain": [
              "<Figure size 432x288 with 1 Axes>"
            ],
            "image/png": "[encoded data removed]"
          },
          "metadata": {
            "needs_background": "light"
          }
        }
      ]
    },
    {
      "cell_type": "code",
      "source": [
        "#Joint Plot\n",
        "#compare 2 distribution\n",
        "\n",
        "sns.jointplot(x='salePrice', y= 'wear', data = data, kind = 'reg')\n",
        "# kind = kde: estimates the distribution of data\n",
        "# kind = hex\n",
        "\n",
        "\n",
        "#dauert 17 Minuten"
      ],
      "metadata": {
        "colab": {
          "base_uri": "https://localhost:8080/",
          "height": 454
        },
        "id": "iQn1cK4OcUIC",
        "outputId": "c6608e8b-f40f-4644-bd77-ccd924a2e893"
      },
      "execution_count": null,
      "outputs": [
        {
          "output_type": "execute_result",
          "data": {
            "text/plain": [
              "<seaborn.axisgrid.JointGrid at 0x7fe751d5c890>"
            ]
          },
          "metadata": {},
          "execution_count": 131
        },
        {
          "output_type": "display_data",
          "data": {
            "text/plain": [
              "<Figure size 432x432 with 3 Axes>"
            ],
            "image/png": "[encoded data removed]"
          },
          "metadata": {}
        }
      ]
    },
    {
      "cell_type": "code",
      "source": [
        "#kde plot\n",
        "sns.kdeplot(data['wear'])"
      ],
      "metadata": {
        "colab": {
          "base_uri": "https://localhost:8080/",
          "height": 297
        },
        "id": "99KF6MnDenUK",
        "outputId": "81fa1b0f-7cb5-4c98-e2ab-cc8b4aeab9dc"
      },
      "execution_count": null,
      "outputs": [
        {
          "output_type": "execute_result",
          "data": {
            "text/plain": [
              "<matplotlib.axes._subplots.AxesSubplot at 0x7f72ac780310>"
            ]
          },
          "metadata": {},
          "execution_count": 42
        },
        {
          "output_type": "display_data",
          "data": {
            "text/plain": [
              "<Figure size 432x288 with 1 Axes>"
            ],
            "image/png": "[encoded data removed]"
          },
          "metadata": {
            "needs_background": "light"
          }
        }
      ]
    },
    {
      "cell_type": "code",
      "source": [
        "#pair plots\n",
        "# hier sieht man, wie numerische vars sich verhalten gegenseitig\n",
        "sns.pairplot(data)"
      ],
      "metadata": {
        "colab": {
          "base_uri": "https://localhost:8080/",
          "height": 1000
        },
        "id": "FiV0jkR4fH-h",
        "outputId": "ed642a97-a60d-4629-b7f0-fb9304774f3f"
      },
      "execution_count": null,
      "outputs": [
        {
          "output_type": "error",
          "ename": "KeyboardInterrupt",
          "evalue": "ignored",
          "traceback": [
            "\u001b[0;31m---------------------------------------------------------------------------\u001b[0m",
            "\u001b[0;31mKeyboardInterrupt\u001b[0m                         Traceback (most recent call last)",
            "\u001b[0;32m<ipython-input-43-281a9b6d5795>\u001b[0m in \u001b[0;36m<module>\u001b[0;34m()\u001b[0m\n\u001b[1;32m      1\u001b[0m \u001b[0;31m#pair plots\u001b[0m\u001b[0;34m\u001b[0m\u001b[0;34m\u001b[0m\u001b[0;34m\u001b[0m\u001b[0m\n\u001b[0;32m----> 2\u001b[0;31m \u001b[0msns\u001b[0m\u001b[0;34m.\u001b[0m\u001b[0mpairplot\u001b[0m\u001b[0;34m(\u001b[0m\u001b[0mdata\u001b[0m\u001b[0;34m)\u001b[0m\u001b[0;34m\u001b[0m\u001b[0;34m\u001b[0m\u001b[0m\n\u001b[0m",
            "\u001b[0;32m/usr/local/lib/python3.7/dist-packages/seaborn/_decorators.py\u001b[0m in \u001b[0;36minner_f\u001b[0;34m(*args, **kwargs)\u001b[0m\n\u001b[1;32m     44\u001b[0m             )\n\u001b[1;32m     45\u001b[0m         \u001b[0mkwargs\u001b[0m\u001b[0;34m.\u001b[0m\u001b[0mupdate\u001b[0m\u001b[0;34m(\u001b[0m\u001b[0;34m{\u001b[0m\u001b[0mk\u001b[0m\u001b[0;34m:\u001b[0m \u001b[0marg\u001b[0m \u001b[0;32mfor\u001b[0m \u001b[0mk\u001b[0m\u001b[0;34m,\u001b[0m \u001b[0marg\u001b[0m \u001b[0;32min\u001b[0m \u001b[0mzip\u001b[0m\u001b[0;34m(\u001b[0m\u001b[0msig\u001b[0m\u001b[0;34m.\u001b[0m\u001b[0mparameters\u001b[0m\u001b[0;34m,\u001b[0m \u001b[0margs\u001b[0m\u001b[0;34m)\u001b[0m\u001b[0;34m}\u001b[0m\u001b[0;34m)\u001b[0m\u001b[0;34m\u001b[0m\u001b[0;34m\u001b[0m\u001b[0m\n\u001b[0;32m---> 46\u001b[0;31m         \u001b[0;32mreturn\u001b[0m \u001b[0mf\u001b[0m\u001b[0;34m(\u001b[0m\u001b[0;34m**\u001b[0m\u001b[0mkwargs\u001b[0m\u001b[0;34m)\u001b[0m\u001b[0;34m\u001b[0m\u001b[0;34m\u001b[0m\u001b[0m\n\u001b[0m\u001b[1;32m     47\u001b[0m     \u001b[0;32mreturn\u001b[0m \u001b[0minner_f\u001b[0m\u001b[0;34m\u001b[0m\u001b[0;34m\u001b[0m\u001b[0m\n\u001b[1;32m     48\u001b[0m \u001b[0;34m\u001b[0m\u001b[0m\n",
            "\u001b[0;32m/usr/local/lib/python3.7/dist-packages/seaborn/axisgrid.py\u001b[0m in \u001b[0;36mpairplot\u001b[0;34m(data, hue, hue_order, palette, vars, x_vars, y_vars, kind, diag_kind, markers, height, aspect, corner, dropna, plot_kws, diag_kws, grid_kws, size)\u001b[0m\n\u001b[1;32m   2124\u001b[0m     \u001b[0mdiag_kws\u001b[0m\u001b[0;34m.\u001b[0m\u001b[0msetdefault\u001b[0m\u001b[0;34m(\u001b[0m\u001b[0;34m\"legend\"\u001b[0m\u001b[0;34m,\u001b[0m \u001b[0;32mFalse\u001b[0m\u001b[0;34m)\u001b[0m\u001b[0;34m\u001b[0m\u001b[0;34m\u001b[0m\u001b[0m\n\u001b[1;32m   2125\u001b[0m     \u001b[0;32mif\u001b[0m \u001b[0mdiag_kind\u001b[0m \u001b[0;34m==\u001b[0m \u001b[0;34m\"hist\"\u001b[0m\u001b[0;34m:\u001b[0m\u001b[0;34m\u001b[0m\u001b[0;34m\u001b[0m\u001b[0m\n\u001b[0;32m-> 2126\u001b[0;31m         \u001b[0mgrid\u001b[0m\u001b[0;34m.\u001b[0m\u001b[0mmap_diag\u001b[0m\u001b[0;34m(\u001b[0m\u001b[0mhistplot\u001b[0m\u001b[0;34m,\u001b[0m \u001b[0;34m**\u001b[0m\u001b[0mdiag_kws\u001b[0m\u001b[0;34m)\u001b[0m\u001b[0;34m\u001b[0m\u001b[0;34m\u001b[0m\u001b[0m\n\u001b[0m\u001b[1;32m   2127\u001b[0m     \u001b[0;32melif\u001b[0m \u001b[0mdiag_kind\u001b[0m \u001b[0;34m==\u001b[0m \u001b[0;34m\"kde\"\u001b[0m\u001b[0;34m:\u001b[0m\u001b[0;34m\u001b[0m\u001b[0;34m\u001b[0m\u001b[0m\n\u001b[1;32m   2128\u001b[0m         \u001b[0mdiag_kws\u001b[0m\u001b[0;34m.\u001b[0m\u001b[0msetdefault\u001b[0m\u001b[0;34m(\u001b[0m\u001b[0;34m\"fill\"\u001b[0m\u001b[0;34m,\u001b[0m \u001b[0;32mTrue\u001b[0m\u001b[0;34m)\u001b[0m\u001b[0;34m\u001b[0m\u001b[0;34m\u001b[0m\u001b[0m\n",
            "\u001b[0;32m/usr/local/lib/python3.7/dist-packages/seaborn/axisgrid.py\u001b[0m in \u001b[0;36mmap_diag\u001b[0;34m(self, func, **kwargs)\u001b[0m\n\u001b[1;32m   1476\u001b[0m             \u001b[0mplot_kwargs\u001b[0m\u001b[0;34m.\u001b[0m\u001b[0msetdefault\u001b[0m\u001b[0;34m(\u001b[0m\u001b[0;34m\"hue_order\"\u001b[0m\u001b[0;34m,\u001b[0m \u001b[0mself\u001b[0m\u001b[0;34m.\u001b[0m\u001b[0m_hue_order\u001b[0m\u001b[0;34m)\u001b[0m\u001b[0;34m\u001b[0m\u001b[0;34m\u001b[0m\u001b[0m\n\u001b[1;32m   1477\u001b[0m             \u001b[0mplot_kwargs\u001b[0m\u001b[0;34m.\u001b[0m\u001b[0msetdefault\u001b[0m\u001b[0;34m(\u001b[0m\u001b[0;34m\"palette\"\u001b[0m\u001b[0;34m,\u001b[0m \u001b[0mself\u001b[0m\u001b[0;34m.\u001b[0m\u001b[0m_orig_palette\u001b[0m\u001b[0;34m)\u001b[0m\u001b[0;34m\u001b[0m\u001b[0;34m\u001b[0m\u001b[0m\n\u001b[0;32m-> 1478\u001b[0;31m             \u001b[0mfunc\u001b[0m\u001b[0;34m(\u001b[0m\u001b[0mx\u001b[0m\u001b[0;34m=\u001b[0m\u001b[0mvector\u001b[0m\u001b[0;34m,\u001b[0m \u001b[0;34m**\u001b[0m\u001b[0mplot_kwargs\u001b[0m\u001b[0;34m)\u001b[0m\u001b[0;34m\u001b[0m\u001b[0;34m\u001b[0m\u001b[0m\n\u001b[0m\u001b[1;32m   1479\u001b[0m             \u001b[0max\u001b[0m\u001b[0;34m.\u001b[0m\u001b[0mlegend_\u001b[0m \u001b[0;34m=\u001b[0m \u001b[0;32mNone\u001b[0m\u001b[0;34m\u001b[0m\u001b[0;34m\u001b[0m\u001b[0m\n\u001b[1;32m   1480\u001b[0m \u001b[0;34m\u001b[0m\u001b[0m\n",
            "\u001b[0;32m/usr/local/lib/python3.7/dist-packages/seaborn/distributions.py\u001b[0m in \u001b[0;36mhistplot\u001b[0;34m(data, x, y, hue, weights, stat, bins, binwidth, binrange, discrete, cumulative, common_bins, common_norm, multiple, element, fill, shrink, kde, kde_kws, line_kws, thresh, pthresh, pmax, cbar, cbar_ax, cbar_kws, palette, hue_order, hue_norm, color, log_scale, legend, ax, **kwargs)\u001b[0m\n\u001b[1;32m   1473\u001b[0m             \u001b[0mestimate_kws\u001b[0m\u001b[0;34m=\u001b[0m\u001b[0mestimate_kws\u001b[0m\u001b[0;34m,\u001b[0m\u001b[0;34m\u001b[0m\u001b[0;34m\u001b[0m\u001b[0m\n\u001b[1;32m   1474\u001b[0m             \u001b[0mline_kws\u001b[0m\u001b[0;34m=\u001b[0m\u001b[0mline_kws\u001b[0m\u001b[0;34m,\u001b[0m\u001b[0;34m\u001b[0m\u001b[0;34m\u001b[0m\u001b[0m\n\u001b[0;32m-> 1475\u001b[0;31m             \u001b[0;34m**\u001b[0m\u001b[0mkwargs\u001b[0m\u001b[0;34m,\u001b[0m\u001b[0;34m\u001b[0m\u001b[0;34m\u001b[0m\u001b[0m\n\u001b[0m\u001b[1;32m   1476\u001b[0m         )\n\u001b[1;32m   1477\u001b[0m \u001b[0;34m\u001b[0m\u001b[0m\n",
            "\u001b[0;32m/usr/local/lib/python3.7/dist-packages/seaborn/distributions.py\u001b[0m in \u001b[0;36mplot_univariate_histogram\u001b[0;34m(self, multiple, element, fill, common_norm, common_bins, shrink, kde, kde_kws, color, legend, line_kws, estimate_kws, **plot_kws)\u001b[0m\n\u001b[1;32m    569\u001b[0m                     \u001b[0mbottom\u001b[0m\u001b[0;34m,\u001b[0m\u001b[0;34m\u001b[0m\u001b[0;34m\u001b[0m\u001b[0m\n\u001b[1;32m    570\u001b[0m                     \u001b[0malign\u001b[0m\u001b[0;34m=\u001b[0m\u001b[0;34m\"edge\"\u001b[0m\u001b[0;34m,\u001b[0m\u001b[0;34m\u001b[0m\u001b[0;34m\u001b[0m\u001b[0m\n\u001b[0;32m--> 571\u001b[0;31m                     \u001b[0;34m**\u001b[0m\u001b[0martist_kws\u001b[0m\u001b[0;34m,\u001b[0m\u001b[0;34m\u001b[0m\u001b[0;34m\u001b[0m\u001b[0m\n\u001b[0m\u001b[1;32m    572\u001b[0m                 )\n\u001b[1;32m    573\u001b[0m                 \u001b[0;32mfor\u001b[0m \u001b[0mbar\u001b[0m \u001b[0;32min\u001b[0m \u001b[0martists\u001b[0m\u001b[0;34m:\u001b[0m\u001b[0;34m\u001b[0m\u001b[0;34m\u001b[0m\u001b[0m\n",
            "\u001b[0;32m/usr/local/lib/python3.7/dist-packages/matplotlib/__init__.py\u001b[0m in \u001b[0;36minner\u001b[0;34m(ax, data, *args, **kwargs)\u001b[0m\n\u001b[1;32m   1563\u001b[0m     \u001b[0;32mdef\u001b[0m \u001b[0minner\u001b[0m\u001b[0;34m(\u001b[0m\u001b[0max\u001b[0m\u001b[0;34m,\u001b[0m \u001b[0;34m*\u001b[0m\u001b[0margs\u001b[0m\u001b[0;34m,\u001b[0m \u001b[0mdata\u001b[0m\u001b[0;34m=\u001b[0m\u001b[0;32mNone\u001b[0m\u001b[0;34m,\u001b[0m \u001b[0;34m**\u001b[0m\u001b[0mkwargs\u001b[0m\u001b[0;34m)\u001b[0m\u001b[0;34m:\u001b[0m\u001b[0;34m\u001b[0m\u001b[0;34m\u001b[0m\u001b[0m\n\u001b[1;32m   1564\u001b[0m         \u001b[0;32mif\u001b[0m \u001b[0mdata\u001b[0m \u001b[0;32mis\u001b[0m \u001b[0;32mNone\u001b[0m\u001b[0;34m:\u001b[0m\u001b[0;34m\u001b[0m\u001b[0;34m\u001b[0m\u001b[0m\n\u001b[0;32m-> 1565\u001b[0;31m             \u001b[0;32mreturn\u001b[0m \u001b[0mfunc\u001b[0m\u001b[0;34m(\u001b[0m\u001b[0max\u001b[0m\u001b[0;34m,\u001b[0m \u001b[0;34m*\u001b[0m\u001b[0mmap\u001b[0m\u001b[0;34m(\u001b[0m\u001b[0msanitize_sequence\u001b[0m\u001b[0;34m,\u001b[0m \u001b[0margs\u001b[0m\u001b[0;34m)\u001b[0m\u001b[0;34m,\u001b[0m \u001b[0;34m**\u001b[0m\u001b[0mkwargs\u001b[0m\u001b[0;34m)\u001b[0m\u001b[0;34m\u001b[0m\u001b[0;34m\u001b[0m\u001b[0m\n\u001b[0m\u001b[1;32m   1566\u001b[0m \u001b[0;34m\u001b[0m\u001b[0m\n\u001b[1;32m   1567\u001b[0m         \u001b[0mbound\u001b[0m \u001b[0;34m=\u001b[0m \u001b[0mnew_sig\u001b[0m\u001b[0;34m.\u001b[0m\u001b[0mbind\u001b[0m\u001b[0;34m(\u001b[0m\u001b[0max\u001b[0m\u001b[0;34m,\u001b[0m \u001b[0;34m*\u001b[0m\u001b[0margs\u001b[0m\u001b[0;34m,\u001b[0m \u001b[0;34m**\u001b[0m\u001b[0mkwargs\u001b[0m\u001b[0;34m)\u001b[0m\u001b[0;34m\u001b[0m\u001b[0;34m\u001b[0m\u001b[0m\n",
            "\u001b[0;32m/usr/local/lib/python3.7/dist-packages/matplotlib/axes/_axes.py\u001b[0m in \u001b[0;36mbar\u001b[0;34m(self, x, height, width, bottom, align, **kwargs)\u001b[0m\n\u001b[1;32m   2402\u001b[0m             \u001b[0;32melif\u001b[0m \u001b[0morientation\u001b[0m \u001b[0;34m==\u001b[0m \u001b[0;34m'horizontal'\u001b[0m\u001b[0;34m:\u001b[0m\u001b[0;34m\u001b[0m\u001b[0;34m\u001b[0m\u001b[0m\n\u001b[1;32m   2403\u001b[0m                 \u001b[0mr\u001b[0m\u001b[0;34m.\u001b[0m\u001b[0msticky_edges\u001b[0m\u001b[0;34m.\u001b[0m\u001b[0mx\u001b[0m\u001b[0;34m.\u001b[0m\u001b[0mappend\u001b[0m\u001b[0;34m(\u001b[0m\u001b[0ml\u001b[0m\u001b[0;34m)\u001b[0m\u001b[0;34m\u001b[0m\u001b[0;34m\u001b[0m\u001b[0m\n\u001b[0;32m-> 2404\u001b[0;31m             \u001b[0mself\u001b[0m\u001b[0;34m.\u001b[0m\u001b[0madd_patch\u001b[0m\u001b[0;34m(\u001b[0m\u001b[0mr\u001b[0m\u001b[0;34m)\u001b[0m\u001b[0;34m\u001b[0m\u001b[0;34m\u001b[0m\u001b[0m\n\u001b[0m\u001b[1;32m   2405\u001b[0m             \u001b[0mpatches\u001b[0m\u001b[0;34m.\u001b[0m\u001b[0mappend\u001b[0m\u001b[0;34m(\u001b[0m\u001b[0mr\u001b[0m\u001b[0;34m)\u001b[0m\u001b[0;34m\u001b[0m\u001b[0;34m\u001b[0m\u001b[0m\n\u001b[1;32m   2406\u001b[0m \u001b[0;34m\u001b[0m\u001b[0m\n",
            "\u001b[0;32m/usr/local/lib/python3.7/dist-packages/matplotlib/axes/_base.py\u001b[0m in \u001b[0;36madd_patch\u001b[0;34m(self, p)\u001b[0m\n\u001b[1;32m   1917\u001b[0m         \u001b[0;32mif\u001b[0m \u001b[0mp\u001b[0m\u001b[0;34m.\u001b[0m\u001b[0mget_clip_path\u001b[0m\u001b[0;34m(\u001b[0m\u001b[0;34m)\u001b[0m \u001b[0;32mis\u001b[0m \u001b[0;32mNone\u001b[0m\u001b[0;34m:\u001b[0m\u001b[0;34m\u001b[0m\u001b[0;34m\u001b[0m\u001b[0m\n\u001b[1;32m   1918\u001b[0m             \u001b[0mp\u001b[0m\u001b[0;34m.\u001b[0m\u001b[0mset_clip_path\u001b[0m\u001b[0;34m(\u001b[0m\u001b[0mself\u001b[0m\u001b[0;34m.\u001b[0m\u001b[0mpatch\u001b[0m\u001b[0;34m)\u001b[0m\u001b[0;34m\u001b[0m\u001b[0;34m\u001b[0m\u001b[0m\n\u001b[0;32m-> 1919\u001b[0;31m         \u001b[0mself\u001b[0m\u001b[0;34m.\u001b[0m\u001b[0m_update_patch_limits\u001b[0m\u001b[0;34m(\u001b[0m\u001b[0mp\u001b[0m\u001b[0;34m)\u001b[0m\u001b[0;34m\u001b[0m\u001b[0;34m\u001b[0m\u001b[0m\n\u001b[0m\u001b[1;32m   1920\u001b[0m         \u001b[0mself\u001b[0m\u001b[0;34m.\u001b[0m\u001b[0mpatches\u001b[0m\u001b[0;34m.\u001b[0m\u001b[0mappend\u001b[0m\u001b[0;34m(\u001b[0m\u001b[0mp\u001b[0m\u001b[0;34m)\u001b[0m\u001b[0;34m\u001b[0m\u001b[0;34m\u001b[0m\u001b[0m\n\u001b[1;32m   1921\u001b[0m         \u001b[0mp\u001b[0m\u001b[0;34m.\u001b[0m\u001b[0m_remove_method\u001b[0m \u001b[0;34m=\u001b[0m \u001b[0mself\u001b[0m\u001b[0;34m.\u001b[0m\u001b[0mpatches\u001b[0m\u001b[0;34m.\u001b[0m\u001b[0mremove\u001b[0m\u001b[0;34m\u001b[0m\u001b[0;34m\u001b[0m\u001b[0m\n",
            "\u001b[0;32m/usr/local/lib/python3.7/dist-packages/matplotlib/axes/_base.py\u001b[0m in \u001b[0;36m_update_patch_limits\u001b[0;34m(self, patch)\u001b[0m\n\u001b[1;32m   1944\u001b[0m \u001b[0;34m\u001b[0m\u001b[0m\n\u001b[1;32m   1945\u001b[0m             \u001b[0mupdatex\u001b[0m\u001b[0;34m,\u001b[0m \u001b[0mupdatey\u001b[0m \u001b[0;34m=\u001b[0m \u001b[0mpatch\u001b[0m\u001b[0;34m.\u001b[0m\u001b[0mget_transform\u001b[0m\u001b[0;34m(\u001b[0m\u001b[0;34m)\u001b[0m\u001b[0;34m.\u001b[0m\u001b[0;31m\\\u001b[0m\u001b[0;34m\u001b[0m\u001b[0;34m\u001b[0m\u001b[0m\n\u001b[0;32m-> 1946\u001b[0;31m                 \u001b[0mcontains_branch_seperately\u001b[0m\u001b[0;34m(\u001b[0m\u001b[0mself\u001b[0m\u001b[0;34m.\u001b[0m\u001b[0mtransData\u001b[0m\u001b[0;34m)\u001b[0m\u001b[0;34m\u001b[0m\u001b[0;34m\u001b[0m\u001b[0m\n\u001b[0m\u001b[1;32m   1947\u001b[0m             self.update_datalim(xys, updatex=updatex,\n\u001b[1;32m   1948\u001b[0m                                 updatey=updatey)\n",
            "\u001b[0;32m/usr/local/lib/python3.7/dist-packages/matplotlib/transforms.py\u001b[0m in \u001b[0;36mcontains_branch_seperately\u001b[0;34m(self, other_transform)\u001b[0m\n\u001b[1;32m   1332\u001b[0m         \u001b[0;31m# for a non-blended transform each separate dimension is the same, so\u001b[0m\u001b[0;34m\u001b[0m\u001b[0;34m\u001b[0m\u001b[0;34m\u001b[0m\u001b[0m\n\u001b[1;32m   1333\u001b[0m         \u001b[0;31m# just return the appropriate shape.\u001b[0m\u001b[0;34m\u001b[0m\u001b[0;34m\u001b[0m\u001b[0;34m\u001b[0m\u001b[0m\n\u001b[0;32m-> 1334\u001b[0;31m         \u001b[0;32mreturn\u001b[0m \u001b[0;34m[\u001b[0m\u001b[0mself\u001b[0m\u001b[0;34m.\u001b[0m\u001b[0mcontains_branch\u001b[0m\u001b[0;34m(\u001b[0m\u001b[0mother_transform\u001b[0m\u001b[0;34m)\u001b[0m\u001b[0;34m]\u001b[0m \u001b[0;34m*\u001b[0m \u001b[0;36m2\u001b[0m\u001b[0;34m\u001b[0m\u001b[0;34m\u001b[0m\u001b[0m\n\u001b[0m\u001b[1;32m   1335\u001b[0m \u001b[0;34m\u001b[0m\u001b[0m\n\u001b[1;32m   1336\u001b[0m     \u001b[0;32mdef\u001b[0m \u001b[0m__sub__\u001b[0m\u001b[0;34m(\u001b[0m\u001b[0mself\u001b[0m\u001b[0;34m,\u001b[0m \u001b[0mother\u001b[0m\u001b[0;34m)\u001b[0m\u001b[0;34m:\u001b[0m\u001b[0;34m\u001b[0m\u001b[0;34m\u001b[0m\u001b[0m\n",
            "\u001b[0;32m/usr/local/lib/python3.7/dist-packages/matplotlib/transforms.py\u001b[0m in \u001b[0;36mcontains_branch\u001b[0;34m(self, other)\u001b[0m\n\u001b[1;32m   1312\u001b[0m         \u001b[0;31m# check that a subtree is equal to other (starting from self)\u001b[0m\u001b[0;34m\u001b[0m\u001b[0;34m\u001b[0m\u001b[0;34m\u001b[0m\u001b[0m\n\u001b[1;32m   1313\u001b[0m         \u001b[0;32mfor\u001b[0m \u001b[0m_\u001b[0m\u001b[0;34m,\u001b[0m \u001b[0msub_tree\u001b[0m \u001b[0;32min\u001b[0m \u001b[0mself\u001b[0m\u001b[0;34m.\u001b[0m\u001b[0m_iter_break_from_left_to_right\u001b[0m\u001b[0;34m(\u001b[0m\u001b[0;34m)\u001b[0m\u001b[0;34m:\u001b[0m\u001b[0;34m\u001b[0m\u001b[0;34m\u001b[0m\u001b[0m\n\u001b[0;32m-> 1314\u001b[0;31m             \u001b[0;32mif\u001b[0m \u001b[0msub_tree\u001b[0m \u001b[0;34m==\u001b[0m \u001b[0mother\u001b[0m\u001b[0;34m:\u001b[0m\u001b[0;34m\u001b[0m\u001b[0;34m\u001b[0m\u001b[0m\n\u001b[0m\u001b[1;32m   1315\u001b[0m                 \u001b[0;32mreturn\u001b[0m \u001b[0;32mTrue\u001b[0m\u001b[0;34m\u001b[0m\u001b[0;34m\u001b[0m\u001b[0m\n\u001b[1;32m   1316\u001b[0m         \u001b[0;32mreturn\u001b[0m \u001b[0;32mFalse\u001b[0m\u001b[0;34m\u001b[0m\u001b[0;34m\u001b[0m\u001b[0m\n",
            "\u001b[0;32m/usr/local/lib/python3.7/dist-packages/matplotlib/transforms.py\u001b[0m in \u001b[0;36m__eq__\u001b[0;34m(self, other)\u001b[0m\n\u001b[1;32m   2335\u001b[0m     \u001b[0;32mdef\u001b[0m \u001b[0m__eq__\u001b[0m\u001b[0;34m(\u001b[0m\u001b[0mself\u001b[0m\u001b[0;34m,\u001b[0m \u001b[0mother\u001b[0m\u001b[0;34m)\u001b[0m\u001b[0;34m:\u001b[0m\u001b[0;34m\u001b[0m\u001b[0;34m\u001b[0m\u001b[0m\n\u001b[1;32m   2336\u001b[0m         \u001b[0;32mif\u001b[0m \u001b[0misinstance\u001b[0m\u001b[0;34m(\u001b[0m\u001b[0mother\u001b[0m\u001b[0;34m,\u001b[0m \u001b[0;34m(\u001b[0m\u001b[0mCompositeGenericTransform\u001b[0m\u001b[0;34m,\u001b[0m \u001b[0mCompositeAffine2D\u001b[0m\u001b[0;34m)\u001b[0m\u001b[0;34m)\u001b[0m\u001b[0;34m:\u001b[0m\u001b[0;34m\u001b[0m\u001b[0;34m\u001b[0m\u001b[0m\n\u001b[0;32m-> 2337\u001b[0;31m             return self is other or (self._a == other._a\n\u001b[0m\u001b[1;32m   2338\u001b[0m                                      and self._b == other._b)\n\u001b[1;32m   2339\u001b[0m         \u001b[0;32melse\u001b[0m\u001b[0;34m:\u001b[0m\u001b[0;34m\u001b[0m\u001b[0;34m\u001b[0m\u001b[0m\n",
            "\u001b[0;32m/usr/local/lib/python3.7/dist-packages/matplotlib/transforms.py\u001b[0m in \u001b[0;36m__eq__\u001b[0;34m(self, other)\u001b[0m\n\u001b[1;32m   1709\u001b[0m     \u001b[0;32mdef\u001b[0m \u001b[0m__eq__\u001b[0m\u001b[0;34m(\u001b[0m\u001b[0mself\u001b[0m\u001b[0;34m,\u001b[0m \u001b[0mother\u001b[0m\u001b[0;34m)\u001b[0m\u001b[0;34m:\u001b[0m\u001b[0;34m\u001b[0m\u001b[0;34m\u001b[0m\u001b[0m\n\u001b[1;32m   1710\u001b[0m         \u001b[0;32mif\u001b[0m \u001b[0mgetattr\u001b[0m\u001b[0;34m(\u001b[0m\u001b[0mother\u001b[0m\u001b[0;34m,\u001b[0m \u001b[0;34m\"is_affine\"\u001b[0m\u001b[0;34m,\u001b[0m \u001b[0;32mFalse\u001b[0m\u001b[0;34m)\u001b[0m\u001b[0;34m:\u001b[0m\u001b[0;34m\u001b[0m\u001b[0;34m\u001b[0m\u001b[0m\n\u001b[0;32m-> 1711\u001b[0;31m             \u001b[0;32mreturn\u001b[0m \u001b[0mnp\u001b[0m\u001b[0;34m.\u001b[0m\u001b[0mall\u001b[0m\u001b[0;34m(\u001b[0m\u001b[0mself\u001b[0m\u001b[0;34m.\u001b[0m\u001b[0mget_matrix\u001b[0m\u001b[0;34m(\u001b[0m\u001b[0;34m)\u001b[0m \u001b[0;34m==\u001b[0m \u001b[0mother\u001b[0m\u001b[0;34m.\u001b[0m\u001b[0mget_matrix\u001b[0m\u001b[0;34m(\u001b[0m\u001b[0;34m)\u001b[0m\u001b[0;34m)\u001b[0m\u001b[0;34m\u001b[0m\u001b[0;34m\u001b[0m\u001b[0m\n\u001b[0m\u001b[1;32m   1712\u001b[0m         \u001b[0;32mreturn\u001b[0m \u001b[0mNotImplemented\u001b[0m\u001b[0;34m\u001b[0m\u001b[0;34m\u001b[0m\u001b[0m\n\u001b[1;32m   1713\u001b[0m \u001b[0;34m\u001b[0m\u001b[0m\n",
            "\u001b[0;31mKeyboardInterrupt\u001b[0m: "
          ]
        },
        {
          "output_type": "stream",
          "name": "stdout",
          "text": [
            "Error in callback <function install_repl_displayhook.<locals>.post_execute at 0x7f73dbdaa050> (for post_execute):\n"
          ]
        },
        {
          "output_type": "error",
          "ename": "KeyboardInterrupt",
          "evalue": "ignored",
          "traceback": [
            "\u001b[0;31m---------------------------------------------------------------------------\u001b[0m",
            "\u001b[0;31mKeyboardInterrupt\u001b[0m                         Traceback (most recent call last)",
            "\u001b[0;32m/usr/local/lib/python3.7/dist-packages/matplotlib/pyplot.py\u001b[0m in \u001b[0;36mpost_execute\u001b[0;34m()\u001b[0m\n\u001b[1;32m    107\u001b[0m             \u001b[0;32mdef\u001b[0m \u001b[0mpost_execute\u001b[0m\u001b[0;34m(\u001b[0m\u001b[0;34m)\u001b[0m\u001b[0;34m:\u001b[0m\u001b[0;34m\u001b[0m\u001b[0;34m\u001b[0m\u001b[0m\n\u001b[1;32m    108\u001b[0m                 \u001b[0;32mif\u001b[0m \u001b[0mmatplotlib\u001b[0m\u001b[0;34m.\u001b[0m\u001b[0mis_interactive\u001b[0m\u001b[0;34m(\u001b[0m\u001b[0;34m)\u001b[0m\u001b[0;34m:\u001b[0m\u001b[0;34m\u001b[0m\u001b[0;34m\u001b[0m\u001b[0m\n\u001b[0;32m--> 109\u001b[0;31m                     \u001b[0mdraw_all\u001b[0m\u001b[0;34m(\u001b[0m\u001b[0;34m)\u001b[0m\u001b[0;34m\u001b[0m\u001b[0;34m\u001b[0m\u001b[0m\n\u001b[0m\u001b[1;32m    110\u001b[0m \u001b[0;34m\u001b[0m\u001b[0m\n\u001b[1;32m    111\u001b[0m             \u001b[0;31m# IPython >= 2\u001b[0m\u001b[0;34m\u001b[0m\u001b[0;34m\u001b[0m\u001b[0;34m\u001b[0m\u001b[0m\n",
            "\u001b[0;32m/usr/local/lib/python3.7/dist-packages/matplotlib/_pylab_helpers.py\u001b[0m in \u001b[0;36mdraw_all\u001b[0;34m(cls, force)\u001b[0m\n\u001b[1;32m    125\u001b[0m         \u001b[0;32mfor\u001b[0m \u001b[0mf_mgr\u001b[0m \u001b[0;32min\u001b[0m \u001b[0mcls\u001b[0m\u001b[0;34m.\u001b[0m\u001b[0mget_all_fig_managers\u001b[0m\u001b[0;34m(\u001b[0m\u001b[0;34m)\u001b[0m\u001b[0;34m:\u001b[0m\u001b[0;34m\u001b[0m\u001b[0;34m\u001b[0m\u001b[0m\n\u001b[1;32m    126\u001b[0m             \u001b[0;32mif\u001b[0m \u001b[0mforce\u001b[0m \u001b[0;32mor\u001b[0m \u001b[0mf_mgr\u001b[0m\u001b[0;34m.\u001b[0m\u001b[0mcanvas\u001b[0m\u001b[0;34m.\u001b[0m\u001b[0mfigure\u001b[0m\u001b[0;34m.\u001b[0m\u001b[0mstale\u001b[0m\u001b[0;34m:\u001b[0m\u001b[0;34m\u001b[0m\u001b[0;34m\u001b[0m\u001b[0m\n\u001b[0;32m--> 127\u001b[0;31m                 \u001b[0mf_mgr\u001b[0m\u001b[0;34m.\u001b[0m\u001b[0mcanvas\u001b[0m\u001b[0;34m.\u001b[0m\u001b[0mdraw_idle\u001b[0m\u001b[0;34m(\u001b[0m\u001b[0;34m)\u001b[0m\u001b[0;34m\u001b[0m\u001b[0;34m\u001b[0m\u001b[0m\n\u001b[0m\u001b[1;32m    128\u001b[0m \u001b[0;34m\u001b[0m\u001b[0m\n\u001b[1;32m    129\u001b[0m \u001b[0matexit\u001b[0m\u001b[0;34m.\u001b[0m\u001b[0mregister\u001b[0m\u001b[0;34m(\u001b[0m\u001b[0mGcf\u001b[0m\u001b[0;34m.\u001b[0m\u001b[0mdestroy_all\u001b[0m\u001b[0;34m)\u001b[0m\u001b[0;34m\u001b[0m\u001b[0;34m\u001b[0m\u001b[0m\n",
            "\u001b[0;32m/usr/local/lib/python3.7/dist-packages/matplotlib/backend_bases.py\u001b[0m in \u001b[0;36mdraw_idle\u001b[0;34m(self, *args, **kwargs)\u001b[0m\n\u001b[1;32m   1945\u001b[0m         \u001b[0;32mif\u001b[0m \u001b[0;32mnot\u001b[0m \u001b[0mself\u001b[0m\u001b[0;34m.\u001b[0m\u001b[0m_is_idle_drawing\u001b[0m\u001b[0;34m:\u001b[0m\u001b[0;34m\u001b[0m\u001b[0;34m\u001b[0m\u001b[0m\n\u001b[1;32m   1946\u001b[0m             \u001b[0;32mwith\u001b[0m \u001b[0mself\u001b[0m\u001b[0;34m.\u001b[0m\u001b[0m_idle_draw_cntx\u001b[0m\u001b[0;34m(\u001b[0m\u001b[0;34m)\u001b[0m\u001b[0;34m:\u001b[0m\u001b[0;34m\u001b[0m\u001b[0;34m\u001b[0m\u001b[0m\n\u001b[0;32m-> 1947\u001b[0;31m                 \u001b[0mself\u001b[0m\u001b[0;34m.\u001b[0m\u001b[0mdraw\u001b[0m\u001b[0;34m(\u001b[0m\u001b[0;34m*\u001b[0m\u001b[0margs\u001b[0m\u001b[0;34m,\u001b[0m \u001b[0;34m**\u001b[0m\u001b[0mkwargs\u001b[0m\u001b[0;34m)\u001b[0m\u001b[0;34m\u001b[0m\u001b[0;34m\u001b[0m\u001b[0m\n\u001b[0m\u001b[1;32m   1948\u001b[0m \u001b[0;34m\u001b[0m\u001b[0m\n\u001b[1;32m   1949\u001b[0m     \u001b[0;34m@\u001b[0m\u001b[0mcbook\u001b[0m\u001b[0;34m.\u001b[0m\u001b[0mdeprecated\u001b[0m\u001b[0;34m(\u001b[0m\u001b[0;34m\"3.2\"\u001b[0m\u001b[0;34m)\u001b[0m\u001b[0;34m\u001b[0m\u001b[0;34m\u001b[0m\u001b[0m\n",
            "\u001b[0;32m/usr/local/lib/python3.7/dist-packages/matplotlib/backends/backend_agg.py\u001b[0m in \u001b[0;36mdraw\u001b[0;34m(self)\u001b[0m\n\u001b[1;32m    391\u001b[0m              (self.toolbar._wait_cursor_for_draw_cm() if self.toolbar\n\u001b[1;32m    392\u001b[0m               else nullcontext()):\n\u001b[0;32m--> 393\u001b[0;31m             \u001b[0mself\u001b[0m\u001b[0;34m.\u001b[0m\u001b[0mfigure\u001b[0m\u001b[0;34m.\u001b[0m\u001b[0mdraw\u001b[0m\u001b[0;34m(\u001b[0m\u001b[0mself\u001b[0m\u001b[0;34m.\u001b[0m\u001b[0mrenderer\u001b[0m\u001b[0;34m)\u001b[0m\u001b[0;34m\u001b[0m\u001b[0;34m\u001b[0m\u001b[0m\n\u001b[0m\u001b[1;32m    394\u001b[0m             \u001b[0;31m# A GUI class may be need to update a window using this draw, so\u001b[0m\u001b[0;34m\u001b[0m\u001b[0;34m\u001b[0m\u001b[0;34m\u001b[0m\u001b[0m\n\u001b[1;32m    395\u001b[0m             \u001b[0;31m# don't forget to call the superclass.\u001b[0m\u001b[0;34m\u001b[0m\u001b[0;34m\u001b[0m\u001b[0;34m\u001b[0m\u001b[0m\n",
            "\u001b[0;32m/usr/local/lib/python3.7/dist-packages/matplotlib/artist.py\u001b[0m in \u001b[0;36mdraw_wrapper\u001b[0;34m(artist, renderer, *args, **kwargs)\u001b[0m\n\u001b[1;32m     36\u001b[0m                 \u001b[0mrenderer\u001b[0m\u001b[0;34m.\u001b[0m\u001b[0mstart_filter\u001b[0m\u001b[0;34m(\u001b[0m\u001b[0;34m)\u001b[0m\u001b[0;34m\u001b[0m\u001b[0;34m\u001b[0m\u001b[0m\n\u001b[1;32m     37\u001b[0m \u001b[0;34m\u001b[0m\u001b[0m\n\u001b[0;32m---> 38\u001b[0;31m             \u001b[0;32mreturn\u001b[0m \u001b[0mdraw\u001b[0m\u001b[0;34m(\u001b[0m\u001b[0martist\u001b[0m\u001b[0;34m,\u001b[0m \u001b[0mrenderer\u001b[0m\u001b[0;34m,\u001b[0m \u001b[0;34m*\u001b[0m\u001b[0margs\u001b[0m\u001b[0;34m,\u001b[0m \u001b[0;34m**\u001b[0m\u001b[0mkwargs\u001b[0m\u001b[0;34m)\u001b[0m\u001b[0;34m\u001b[0m\u001b[0;34m\u001b[0m\u001b[0m\n\u001b[0m\u001b[1;32m     39\u001b[0m         \u001b[0;32mfinally\u001b[0m\u001b[0;34m:\u001b[0m\u001b[0;34m\u001b[0m\u001b[0;34m\u001b[0m\u001b[0m\n\u001b[1;32m     40\u001b[0m             \u001b[0;32mif\u001b[0m \u001b[0martist\u001b[0m\u001b[0;34m.\u001b[0m\u001b[0mget_agg_filter\u001b[0m\u001b[0;34m(\u001b[0m\u001b[0;34m)\u001b[0m \u001b[0;32mis\u001b[0m \u001b[0;32mnot\u001b[0m \u001b[0;32mNone\u001b[0m\u001b[0;34m:\u001b[0m\u001b[0;34m\u001b[0m\u001b[0;34m\u001b[0m\u001b[0m\n",
            "\u001b[0;32m/usr/local/lib/python3.7/dist-packages/matplotlib/figure.py\u001b[0m in \u001b[0;36mdraw\u001b[0;34m(self, renderer)\u001b[0m\n\u001b[1;32m   1734\u001b[0m             \u001b[0mself\u001b[0m\u001b[0;34m.\u001b[0m\u001b[0mpatch\u001b[0m\u001b[0;34m.\u001b[0m\u001b[0mdraw\u001b[0m\u001b[0;34m(\u001b[0m\u001b[0mrenderer\u001b[0m\u001b[0;34m)\u001b[0m\u001b[0;34m\u001b[0m\u001b[0;34m\u001b[0m\u001b[0m\n\u001b[1;32m   1735\u001b[0m             mimage._draw_list_compositing_images(\n\u001b[0;32m-> 1736\u001b[0;31m                 renderer, self, artists, self.suppressComposite)\n\u001b[0m\u001b[1;32m   1737\u001b[0m \u001b[0;34m\u001b[0m\u001b[0m\n\u001b[1;32m   1738\u001b[0m             \u001b[0mrenderer\u001b[0m\u001b[0;34m.\u001b[0m\u001b[0mclose_group\u001b[0m\u001b[0;34m(\u001b[0m\u001b[0;34m'figure'\u001b[0m\u001b[0;34m)\u001b[0m\u001b[0;34m\u001b[0m\u001b[0;34m\u001b[0m\u001b[0m\n",
            "\u001b[0;32m/usr/local/lib/python3.7/dist-packages/matplotlib/image.py\u001b[0m in \u001b[0;36m_draw_list_compositing_images\u001b[0;34m(renderer, parent, artists, suppress_composite)\u001b[0m\n\u001b[1;32m    135\u001b[0m     \u001b[0;32mif\u001b[0m \u001b[0mnot_composite\u001b[0m \u001b[0;32mor\u001b[0m \u001b[0;32mnot\u001b[0m \u001b[0mhas_images\u001b[0m\u001b[0;34m:\u001b[0m\u001b[0;34m\u001b[0m\u001b[0;34m\u001b[0m\u001b[0m\n\u001b[1;32m    136\u001b[0m         \u001b[0;32mfor\u001b[0m \u001b[0ma\u001b[0m \u001b[0;32min\u001b[0m \u001b[0martists\u001b[0m\u001b[0;34m:\u001b[0m\u001b[0;34m\u001b[0m\u001b[0;34m\u001b[0m\u001b[0m\n\u001b[0;32m--> 137\u001b[0;31m             \u001b[0ma\u001b[0m\u001b[0;34m.\u001b[0m\u001b[0mdraw\u001b[0m\u001b[0;34m(\u001b[0m\u001b[0mrenderer\u001b[0m\u001b[0;34m)\u001b[0m\u001b[0;34m\u001b[0m\u001b[0;34m\u001b[0m\u001b[0m\n\u001b[0m\u001b[1;32m    138\u001b[0m     \u001b[0;32melse\u001b[0m\u001b[0;34m:\u001b[0m\u001b[0;34m\u001b[0m\u001b[0;34m\u001b[0m\u001b[0m\n\u001b[1;32m    139\u001b[0m         \u001b[0;31m# Composite any adjacent images together\u001b[0m\u001b[0;34m\u001b[0m\u001b[0;34m\u001b[0m\u001b[0;34m\u001b[0m\u001b[0m\n",
            "\u001b[0;32m/usr/local/lib/python3.7/dist-packages/matplotlib/artist.py\u001b[0m in \u001b[0;36mdraw_wrapper\u001b[0;34m(artist, renderer, *args, **kwargs)\u001b[0m\n\u001b[1;32m     36\u001b[0m                 \u001b[0mrenderer\u001b[0m\u001b[0;34m.\u001b[0m\u001b[0mstart_filter\u001b[0m\u001b[0;34m(\u001b[0m\u001b[0;34m)\u001b[0m\u001b[0;34m\u001b[0m\u001b[0;34m\u001b[0m\u001b[0m\n\u001b[1;32m     37\u001b[0m \u001b[0;34m\u001b[0m\u001b[0m\n\u001b[0;32m---> 38\u001b[0;31m             \u001b[0;32mreturn\u001b[0m \u001b[0mdraw\u001b[0m\u001b[0;34m(\u001b[0m\u001b[0martist\u001b[0m\u001b[0;34m,\u001b[0m \u001b[0mrenderer\u001b[0m\u001b[0;34m,\u001b[0m \u001b[0;34m*\u001b[0m\u001b[0margs\u001b[0m\u001b[0;34m,\u001b[0m \u001b[0;34m**\u001b[0m\u001b[0mkwargs\u001b[0m\u001b[0;34m)\u001b[0m\u001b[0;34m\u001b[0m\u001b[0;34m\u001b[0m\u001b[0m\n\u001b[0m\u001b[1;32m     39\u001b[0m         \u001b[0;32mfinally\u001b[0m\u001b[0;34m:\u001b[0m\u001b[0;34m\u001b[0m\u001b[0;34m\u001b[0m\u001b[0m\n\u001b[1;32m     40\u001b[0m             \u001b[0;32mif\u001b[0m \u001b[0martist\u001b[0m\u001b[0;34m.\u001b[0m\u001b[0mget_agg_filter\u001b[0m\u001b[0;34m(\u001b[0m\u001b[0;34m)\u001b[0m \u001b[0;32mis\u001b[0m \u001b[0;32mnot\u001b[0m \u001b[0;32mNone\u001b[0m\u001b[0;34m:\u001b[0m\u001b[0;34m\u001b[0m\u001b[0;34m\u001b[0m\u001b[0m\n",
            "\u001b[0;32m/usr/local/lib/python3.7/dist-packages/matplotlib/axes/_base.py\u001b[0m in \u001b[0;36mdraw\u001b[0;34m(self, renderer, inframe)\u001b[0m\n\u001b[1;32m   2588\u001b[0m                 \u001b[0martists\u001b[0m\u001b[0;34m.\u001b[0m\u001b[0mremove\u001b[0m\u001b[0;34m(\u001b[0m\u001b[0mspine\u001b[0m\u001b[0;34m)\u001b[0m\u001b[0;34m\u001b[0m\u001b[0;34m\u001b[0m\u001b[0m\n\u001b[1;32m   2589\u001b[0m \u001b[0;34m\u001b[0m\u001b[0m\n\u001b[0;32m-> 2590\u001b[0;31m         \u001b[0mself\u001b[0m\u001b[0;34m.\u001b[0m\u001b[0m_update_title_position\u001b[0m\u001b[0;34m(\u001b[0m\u001b[0mrenderer\u001b[0m\u001b[0;34m)\u001b[0m\u001b[0;34m\u001b[0m\u001b[0;34m\u001b[0m\u001b[0m\n\u001b[0m\u001b[1;32m   2591\u001b[0m \u001b[0;34m\u001b[0m\u001b[0m\n\u001b[1;32m   2592\u001b[0m         \u001b[0;32mif\u001b[0m \u001b[0;32mnot\u001b[0m \u001b[0mself\u001b[0m\u001b[0;34m.\u001b[0m\u001b[0maxison\u001b[0m \u001b[0;32mor\u001b[0m \u001b[0minframe\u001b[0m\u001b[0;34m:\u001b[0m\u001b[0;34m\u001b[0m\u001b[0;34m\u001b[0m\u001b[0m\n",
            "\u001b[0;32m/usr/local/lib/python3.7/dist-packages/matplotlib/axes/_base.py\u001b[0m in \u001b[0;36m_update_title_position\u001b[0;34m(self, renderer)\u001b[0m\n\u001b[1;32m   2531\u001b[0m                 if (ax.xaxis.get_ticks_position() in ['top', 'unknown']\n\u001b[1;32m   2532\u001b[0m                         or ax.xaxis.get_label_position() == 'top'):\n\u001b[0;32m-> 2533\u001b[0;31m                     \u001b[0mbb\u001b[0m \u001b[0;34m=\u001b[0m \u001b[0max\u001b[0m\u001b[0;34m.\u001b[0m\u001b[0mxaxis\u001b[0m\u001b[0;34m.\u001b[0m\u001b[0mget_tightbbox\u001b[0m\u001b[0;34m(\u001b[0m\u001b[0mrenderer\u001b[0m\u001b[0;34m)\u001b[0m\u001b[0;34m\u001b[0m\u001b[0;34m\u001b[0m\u001b[0m\n\u001b[0m\u001b[1;32m   2534\u001b[0m                 \u001b[0;32melse\u001b[0m\u001b[0;34m:\u001b[0m\u001b[0;34m\u001b[0m\u001b[0;34m\u001b[0m\u001b[0m\n\u001b[1;32m   2535\u001b[0m                     \u001b[0mbb\u001b[0m \u001b[0;34m=\u001b[0m \u001b[0max\u001b[0m\u001b[0;34m.\u001b[0m\u001b[0mget_window_extent\u001b[0m\u001b[0;34m(\u001b[0m\u001b[0mrenderer\u001b[0m\u001b[0;34m)\u001b[0m\u001b[0;34m\u001b[0m\u001b[0;34m\u001b[0m\u001b[0m\n",
            "\u001b[0;32m/usr/local/lib/python3.7/dist-packages/matplotlib/axis.py\u001b[0m in \u001b[0;36mget_tightbbox\u001b[0;34m(self, renderer)\u001b[0m\n\u001b[1;32m   1184\u001b[0m             \u001b[0;32mreturn\u001b[0m\u001b[0;34m\u001b[0m\u001b[0;34m\u001b[0m\u001b[0m\n\u001b[1;32m   1185\u001b[0m \u001b[0;34m\u001b[0m\u001b[0m\n\u001b[0;32m-> 1186\u001b[0;31m         \u001b[0mticks_to_draw\u001b[0m \u001b[0;34m=\u001b[0m \u001b[0mself\u001b[0m\u001b[0;34m.\u001b[0m\u001b[0m_update_ticks\u001b[0m\u001b[0;34m(\u001b[0m\u001b[0;34m)\u001b[0m\u001b[0;34m\u001b[0m\u001b[0;34m\u001b[0m\u001b[0m\n\u001b[0m\u001b[1;32m   1187\u001b[0m \u001b[0;34m\u001b[0m\u001b[0m\n\u001b[1;32m   1188\u001b[0m         \u001b[0mself\u001b[0m\u001b[0;34m.\u001b[0m\u001b[0m_update_label_position\u001b[0m\u001b[0;34m(\u001b[0m\u001b[0mrenderer\u001b[0m\u001b[0;34m)\u001b[0m\u001b[0;34m\u001b[0m\u001b[0;34m\u001b[0m\u001b[0m\n",
            "\u001b[0;32m/usr/local/lib/python3.7/dist-packages/matplotlib/axis.py\u001b[0m in \u001b[0;36m_update_ticks\u001b[0;34m(self)\u001b[0m\n\u001b[1;32m   1109\u001b[0m             \u001b[0mtick\u001b[0m\u001b[0;34m.\u001b[0m\u001b[0mset_label1\u001b[0m\u001b[0;34m(\u001b[0m\u001b[0mlabel\u001b[0m\u001b[0;34m)\u001b[0m\u001b[0;34m\u001b[0m\u001b[0;34m\u001b[0m\u001b[0m\n\u001b[1;32m   1110\u001b[0m             \u001b[0mtick\u001b[0m\u001b[0;34m.\u001b[0m\u001b[0mset_label2\u001b[0m\u001b[0;34m(\u001b[0m\u001b[0mlabel\u001b[0m\u001b[0;34m)\u001b[0m\u001b[0;34m\u001b[0m\u001b[0;34m\u001b[0m\u001b[0m\n\u001b[0;32m-> 1111\u001b[0;31m         \u001b[0mminor_locs\u001b[0m \u001b[0;34m=\u001b[0m \u001b[0mself\u001b[0m\u001b[0;34m.\u001b[0m\u001b[0mget_minorticklocs\u001b[0m\u001b[0;34m(\u001b[0m\u001b[0;34m)\u001b[0m\u001b[0;34m\u001b[0m\u001b[0;34m\u001b[0m\u001b[0m\n\u001b[0m\u001b[1;32m   1112\u001b[0m         \u001b[0mminor_labels\u001b[0m \u001b[0;34m=\u001b[0m \u001b[0mself\u001b[0m\u001b[0;34m.\u001b[0m\u001b[0mminor\u001b[0m\u001b[0;34m.\u001b[0m\u001b[0mformatter\u001b[0m\u001b[0;34m.\u001b[0m\u001b[0mformat_ticks\u001b[0m\u001b[0;34m(\u001b[0m\u001b[0mminor_locs\u001b[0m\u001b[0;34m)\u001b[0m\u001b[0;34m\u001b[0m\u001b[0;34m\u001b[0m\u001b[0m\n\u001b[1;32m   1113\u001b[0m         \u001b[0mminor_ticks\u001b[0m \u001b[0;34m=\u001b[0m \u001b[0mself\u001b[0m\u001b[0;34m.\u001b[0m\u001b[0mget_minor_ticks\u001b[0m\u001b[0;34m(\u001b[0m\u001b[0mlen\u001b[0m\u001b[0;34m(\u001b[0m\u001b[0mminor_locs\u001b[0m\u001b[0;34m)\u001b[0m\u001b[0;34m)\u001b[0m\u001b[0;34m\u001b[0m\u001b[0;34m\u001b[0m\u001b[0m\n",
            "\u001b[0;32m/usr/local/lib/python3.7/dist-packages/matplotlib/axis.py\u001b[0m in \u001b[0;36mget_minorticklocs\u001b[0;34m(self)\u001b[0m\n\u001b[1;32m   1351\u001b[0m         \u001b[0;34m\"\"\"Get the array of minor tick locations in data coordinates.\"\"\"\u001b[0m\u001b[0;34m\u001b[0m\u001b[0;34m\u001b[0m\u001b[0m\n\u001b[1;32m   1352\u001b[0m         \u001b[0;31m# Remove minor ticks duplicating major ticks.\u001b[0m\u001b[0;34m\u001b[0m\u001b[0;34m\u001b[0m\u001b[0;34m\u001b[0m\u001b[0m\n\u001b[0;32m-> 1353\u001b[0;31m         \u001b[0mmajor_locs\u001b[0m \u001b[0;34m=\u001b[0m \u001b[0mself\u001b[0m\u001b[0;34m.\u001b[0m\u001b[0mmajor\u001b[0m\u001b[0;34m.\u001b[0m\u001b[0mlocator\u001b[0m\u001b[0;34m(\u001b[0m\u001b[0;34m)\u001b[0m\u001b[0;34m\u001b[0m\u001b[0;34m\u001b[0m\u001b[0m\n\u001b[0m\u001b[1;32m   1354\u001b[0m         \u001b[0mminor_locs\u001b[0m \u001b[0;34m=\u001b[0m \u001b[0mself\u001b[0m\u001b[0;34m.\u001b[0m\u001b[0mminor\u001b[0m\u001b[0;34m.\u001b[0m\u001b[0mlocator\u001b[0m\u001b[0;34m(\u001b[0m\u001b[0;34m)\u001b[0m\u001b[0;34m\u001b[0m\u001b[0;34m\u001b[0m\u001b[0m\n\u001b[1;32m   1355\u001b[0m         \u001b[0mtransform\u001b[0m \u001b[0;34m=\u001b[0m \u001b[0mself\u001b[0m\u001b[0;34m.\u001b[0m\u001b[0m_scale\u001b[0m\u001b[0;34m.\u001b[0m\u001b[0mget_transform\u001b[0m\u001b[0;34m(\u001b[0m\u001b[0;34m)\u001b[0m\u001b[0;34m\u001b[0m\u001b[0;34m\u001b[0m\u001b[0m\n",
            "\u001b[0;32m/usr/local/lib/python3.7/dist-packages/matplotlib/ticker.py\u001b[0m in \u001b[0;36m__call__\u001b[0;34m(self)\u001b[0m\n\u001b[1;32m   2201\u001b[0m     \u001b[0;32mdef\u001b[0m \u001b[0m__call__\u001b[0m\u001b[0;34m(\u001b[0m\u001b[0mself\u001b[0m\u001b[0;34m)\u001b[0m\u001b[0;34m:\u001b[0m\u001b[0;34m\u001b[0m\u001b[0;34m\u001b[0m\u001b[0m\n\u001b[1;32m   2202\u001b[0m         \u001b[0mvmin\u001b[0m\u001b[0;34m,\u001b[0m \u001b[0mvmax\u001b[0m \u001b[0;34m=\u001b[0m \u001b[0mself\u001b[0m\u001b[0;34m.\u001b[0m\u001b[0maxis\u001b[0m\u001b[0;34m.\u001b[0m\u001b[0mget_view_interval\u001b[0m\u001b[0;34m(\u001b[0m\u001b[0;34m)\u001b[0m\u001b[0;34m\u001b[0m\u001b[0;34m\u001b[0m\u001b[0m\n\u001b[0;32m-> 2203\u001b[0;31m         \u001b[0;32mreturn\u001b[0m \u001b[0mself\u001b[0m\u001b[0;34m.\u001b[0m\u001b[0mtick_values\u001b[0m\u001b[0;34m(\u001b[0m\u001b[0mvmin\u001b[0m\u001b[0;34m,\u001b[0m \u001b[0mvmax\u001b[0m\u001b[0;34m)\u001b[0m\u001b[0;34m\u001b[0m\u001b[0;34m\u001b[0m\u001b[0m\n\u001b[0m\u001b[1;32m   2204\u001b[0m \u001b[0;34m\u001b[0m\u001b[0m\n\u001b[1;32m   2205\u001b[0m     \u001b[0;32mdef\u001b[0m \u001b[0mtick_values\u001b[0m\u001b[0;34m(\u001b[0m\u001b[0mself\u001b[0m\u001b[0;34m,\u001b[0m \u001b[0mvmin\u001b[0m\u001b[0;34m,\u001b[0m \u001b[0mvmax\u001b[0m\u001b[0;34m)\u001b[0m\u001b[0;34m:\u001b[0m\u001b[0;34m\u001b[0m\u001b[0;34m\u001b[0m\u001b[0m\n",
            "\u001b[0;32m/usr/local/lib/python3.7/dist-packages/matplotlib/ticker.py\u001b[0m in \u001b[0;36mtick_values\u001b[0;34m(self, vmin, vmax)\u001b[0m\n\u001b[1;32m   2209\u001b[0m         vmin, vmax = mtransforms.nonsingular(\n\u001b[1;32m   2210\u001b[0m             vmin, vmax, expander=1e-13, tiny=1e-14)\n\u001b[0;32m-> 2211\u001b[0;31m         \u001b[0mlocs\u001b[0m \u001b[0;34m=\u001b[0m \u001b[0mself\u001b[0m\u001b[0;34m.\u001b[0m\u001b[0m_raw_ticks\u001b[0m\u001b[0;34m(\u001b[0m\u001b[0mvmin\u001b[0m\u001b[0;34m,\u001b[0m \u001b[0mvmax\u001b[0m\u001b[0;34m)\u001b[0m\u001b[0;34m\u001b[0m\u001b[0;34m\u001b[0m\u001b[0m\n\u001b[0m\u001b[1;32m   2212\u001b[0m \u001b[0;34m\u001b[0m\u001b[0m\n\u001b[1;32m   2213\u001b[0m         \u001b[0mprune\u001b[0m \u001b[0;34m=\u001b[0m \u001b[0mself\u001b[0m\u001b[0;34m.\u001b[0m\u001b[0m_prune\u001b[0m\u001b[0;34m\u001b[0m\u001b[0;34m\u001b[0m\u001b[0m\n",
            "\u001b[0;32m/usr/local/lib/python3.7/dist-packages/matplotlib/ticker.py\u001b[0m in \u001b[0;36m_raw_ticks\u001b[0;34m(self, vmin, vmax)\u001b[0m\n\u001b[1;32m   2148\u001b[0m         \u001b[0;32mif\u001b[0m \u001b[0mself\u001b[0m\u001b[0;34m.\u001b[0m\u001b[0m_nbins\u001b[0m \u001b[0;34m==\u001b[0m \u001b[0;34m'auto'\u001b[0m\u001b[0;34m:\u001b[0m\u001b[0;34m\u001b[0m\u001b[0;34m\u001b[0m\u001b[0m\n\u001b[1;32m   2149\u001b[0m             \u001b[0;32mif\u001b[0m \u001b[0mself\u001b[0m\u001b[0;34m.\u001b[0m\u001b[0maxis\u001b[0m \u001b[0;32mis\u001b[0m \u001b[0;32mnot\u001b[0m \u001b[0;32mNone\u001b[0m\u001b[0;34m:\u001b[0m\u001b[0;34m\u001b[0m\u001b[0;34m\u001b[0m\u001b[0m\n\u001b[0;32m-> 2150\u001b[0;31m                 nbins = np.clip(self.axis.get_tick_space(),\n\u001b[0m\u001b[1;32m   2151\u001b[0m                                 max(1, self._min_n_ticks - 1), 9)\n\u001b[1;32m   2152\u001b[0m             \u001b[0;32melse\u001b[0m\u001b[0;34m:\u001b[0m\u001b[0;34m\u001b[0m\u001b[0;34m\u001b[0m\u001b[0m\n",
            "\u001b[0;32m/usr/local/lib/python3.7/dist-packages/matplotlib/axis.py\u001b[0m in \u001b[0;36mget_tick_space\u001b[0;34m(self)\u001b[0m\n\u001b[1;32m   2188\u001b[0m         \u001b[0mends\u001b[0m \u001b[0;34m=\u001b[0m \u001b[0mself\u001b[0m\u001b[0;34m.\u001b[0m\u001b[0maxes\u001b[0m\u001b[0;34m.\u001b[0m\u001b[0mtransAxes\u001b[0m\u001b[0;34m.\u001b[0m\u001b[0mtransform\u001b[0m\u001b[0;34m(\u001b[0m\u001b[0;34m[\u001b[0m\u001b[0;34m[\u001b[0m\u001b[0;36m0\u001b[0m\u001b[0;34m,\u001b[0m \u001b[0;36m0\u001b[0m\u001b[0;34m]\u001b[0m\u001b[0;34m,\u001b[0m \u001b[0;34m[\u001b[0m\u001b[0;36m1\u001b[0m\u001b[0;34m,\u001b[0m \u001b[0;36m0\u001b[0m\u001b[0;34m]\u001b[0m\u001b[0;34m]\u001b[0m\u001b[0;34m)\u001b[0m\u001b[0;34m\u001b[0m\u001b[0;34m\u001b[0m\u001b[0m\n\u001b[1;32m   2189\u001b[0m         \u001b[0mlength\u001b[0m \u001b[0;34m=\u001b[0m \u001b[0;34m(\u001b[0m\u001b[0;34m(\u001b[0m\u001b[0mends\u001b[0m\u001b[0;34m[\u001b[0m\u001b[0;36m1\u001b[0m\u001b[0;34m]\u001b[0m\u001b[0;34m[\u001b[0m\u001b[0;36m0\u001b[0m\u001b[0;34m]\u001b[0m \u001b[0;34m-\u001b[0m \u001b[0mends\u001b[0m\u001b[0;34m[\u001b[0m\u001b[0;36m0\u001b[0m\u001b[0;34m]\u001b[0m\u001b[0;34m[\u001b[0m\u001b[0;36m0\u001b[0m\u001b[0;34m]\u001b[0m\u001b[0;34m)\u001b[0m \u001b[0;34m/\u001b[0m \u001b[0mself\u001b[0m\u001b[0;34m.\u001b[0m\u001b[0maxes\u001b[0m\u001b[0;34m.\u001b[0m\u001b[0mfigure\u001b[0m\u001b[0;34m.\u001b[0m\u001b[0mdpi\u001b[0m\u001b[0;34m)\u001b[0m \u001b[0;34m*\u001b[0m \u001b[0;36m72\u001b[0m\u001b[0;34m\u001b[0m\u001b[0;34m\u001b[0m\u001b[0m\n\u001b[0;32m-> 2190\u001b[0;31m         \u001b[0mtick\u001b[0m \u001b[0;34m=\u001b[0m \u001b[0mself\u001b[0m\u001b[0;34m.\u001b[0m\u001b[0m_get_tick\u001b[0m\u001b[0;34m(\u001b[0m\u001b[0;32mTrue\u001b[0m\u001b[0;34m)\u001b[0m\u001b[0;34m\u001b[0m\u001b[0;34m\u001b[0m\u001b[0m\n\u001b[0m\u001b[1;32m   2191\u001b[0m         \u001b[0;31m# There is a heuristic here that the aspect ratio of tick text\u001b[0m\u001b[0;34m\u001b[0m\u001b[0;34m\u001b[0m\u001b[0;34m\u001b[0m\u001b[0m\n\u001b[1;32m   2192\u001b[0m         \u001b[0;31m# is no more than 3:1\u001b[0m\u001b[0;34m\u001b[0m\u001b[0;34m\u001b[0m\u001b[0;34m\u001b[0m\u001b[0m\n",
            "\u001b[0;32m/usr/local/lib/python3.7/dist-packages/matplotlib/axis.py\u001b[0m in \u001b[0;36m_get_tick\u001b[0;34m(self, major)\u001b[0m\n\u001b[1;32m   1941\u001b[0m         \u001b[0;32melse\u001b[0m\u001b[0;34m:\u001b[0m\u001b[0;34m\u001b[0m\u001b[0;34m\u001b[0m\u001b[0m\n\u001b[1;32m   1942\u001b[0m             \u001b[0mtick_kw\u001b[0m \u001b[0;34m=\u001b[0m \u001b[0mself\u001b[0m\u001b[0;34m.\u001b[0m\u001b[0m_minor_tick_kw\u001b[0m\u001b[0;34m\u001b[0m\u001b[0;34m\u001b[0m\u001b[0m\n\u001b[0;32m-> 1943\u001b[0;31m         \u001b[0;32mreturn\u001b[0m \u001b[0mXTick\u001b[0m\u001b[0;34m(\u001b[0m\u001b[0mself\u001b[0m\u001b[0;34m.\u001b[0m\u001b[0maxes\u001b[0m\u001b[0;34m,\u001b[0m \u001b[0;36m0\u001b[0m\u001b[0;34m,\u001b[0m \u001b[0;34m''\u001b[0m\u001b[0;34m,\u001b[0m \u001b[0mmajor\u001b[0m\u001b[0;34m=\u001b[0m\u001b[0mmajor\u001b[0m\u001b[0;34m,\u001b[0m \u001b[0;34m**\u001b[0m\u001b[0mtick_kw\u001b[0m\u001b[0;34m)\u001b[0m\u001b[0;34m\u001b[0m\u001b[0;34m\u001b[0m\u001b[0m\n\u001b[0m\u001b[1;32m   1944\u001b[0m \u001b[0;34m\u001b[0m\u001b[0m\n\u001b[1;32m   1945\u001b[0m     \u001b[0;32mdef\u001b[0m \u001b[0m_get_label\u001b[0m\u001b[0;34m(\u001b[0m\u001b[0mself\u001b[0m\u001b[0;34m)\u001b[0m\u001b[0;34m:\u001b[0m\u001b[0;34m\u001b[0m\u001b[0;34m\u001b[0m\u001b[0m\n",
            "\u001b[0;32m/usr/local/lib/python3.7/dist-packages/matplotlib/axis.py\u001b[0m in \u001b[0;36m__init__\u001b[0;34m(self, axes, loc, label, size, width, color, tickdir, pad, labelsize, labelcolor, zorder, gridOn, tick1On, tick2On, label1On, label2On, major, labelrotation, grid_color, grid_linestyle, grid_linewidth, grid_alpha, **kw)\u001b[0m\n\u001b[1;32m    155\u001b[0m         \u001b[0mself\u001b[0m\u001b[0;34m.\u001b[0m\u001b[0mapply_tickdir\u001b[0m\u001b[0;34m(\u001b[0m\u001b[0mtickdir\u001b[0m\u001b[0;34m)\u001b[0m\u001b[0;34m\u001b[0m\u001b[0;34m\u001b[0m\u001b[0m\n\u001b[1;32m    156\u001b[0m \u001b[0;34m\u001b[0m\u001b[0m\n\u001b[0;32m--> 157\u001b[0;31m         \u001b[0mself\u001b[0m\u001b[0;34m.\u001b[0m\u001b[0mtick1line\u001b[0m \u001b[0;34m=\u001b[0m \u001b[0mself\u001b[0m\u001b[0;34m.\u001b[0m\u001b[0m_get_tick1line\u001b[0m\u001b[0;34m(\u001b[0m\u001b[0;34m)\u001b[0m\u001b[0;34m\u001b[0m\u001b[0;34m\u001b[0m\u001b[0m\n\u001b[0m\u001b[1;32m    158\u001b[0m         \u001b[0mself\u001b[0m\u001b[0;34m.\u001b[0m\u001b[0mtick2line\u001b[0m \u001b[0;34m=\u001b[0m \u001b[0mself\u001b[0m\u001b[0;34m.\u001b[0m\u001b[0m_get_tick2line\u001b[0m\u001b[0;34m(\u001b[0m\u001b[0;34m)\u001b[0m\u001b[0;34m\u001b[0m\u001b[0;34m\u001b[0m\u001b[0m\n\u001b[1;32m    159\u001b[0m         \u001b[0mself\u001b[0m\u001b[0;34m.\u001b[0m\u001b[0mgridline\u001b[0m \u001b[0;34m=\u001b[0m \u001b[0mself\u001b[0m\u001b[0;34m.\u001b[0m\u001b[0m_get_gridline\u001b[0m\u001b[0;34m(\u001b[0m\u001b[0;34m)\u001b[0m\u001b[0;34m\u001b[0m\u001b[0;34m\u001b[0m\u001b[0m\n",
            "\u001b[0;32m/usr/local/lib/python3.7/dist-packages/matplotlib/axis.py\u001b[0m in \u001b[0;36m_get_tick1line\u001b[0;34m(self)\u001b[0m\n\u001b[1;32m    463\u001b[0m                           \u001b[0mlinestyle\u001b[0m\u001b[0;34m=\u001b[0m\u001b[0;34m'None'\u001b[0m\u001b[0;34m,\u001b[0m \u001b[0mmarker\u001b[0m\u001b[0;34m=\u001b[0m\u001b[0mself\u001b[0m\u001b[0;34m.\u001b[0m\u001b[0m_tickmarkers\u001b[0m\u001b[0;34m[\u001b[0m\u001b[0;36m0\u001b[0m\u001b[0;34m]\u001b[0m\u001b[0;34m,\u001b[0m\u001b[0;34m\u001b[0m\u001b[0;34m\u001b[0m\u001b[0m\n\u001b[1;32m    464\u001b[0m                           \u001b[0mmarkersize\u001b[0m\u001b[0;34m=\u001b[0m\u001b[0mself\u001b[0m\u001b[0;34m.\u001b[0m\u001b[0m_size\u001b[0m\u001b[0;34m,\u001b[0m\u001b[0;34m\u001b[0m\u001b[0;34m\u001b[0m\u001b[0m\n\u001b[0;32m--> 465\u001b[0;31m                           markeredgewidth=self._width, zorder=self._zorder)\n\u001b[0m\u001b[1;32m    466\u001b[0m         \u001b[0ml\u001b[0m\u001b[0;34m.\u001b[0m\u001b[0mset_transform\u001b[0m\u001b[0;34m(\u001b[0m\u001b[0mself\u001b[0m\u001b[0;34m.\u001b[0m\u001b[0maxes\u001b[0m\u001b[0;34m.\u001b[0m\u001b[0mget_xaxis_transform\u001b[0m\u001b[0;34m(\u001b[0m\u001b[0mwhich\u001b[0m\u001b[0;34m=\u001b[0m\u001b[0;34m'tick1'\u001b[0m\u001b[0;34m)\u001b[0m\u001b[0;34m)\u001b[0m\u001b[0;34m\u001b[0m\u001b[0;34m\u001b[0m\u001b[0m\n\u001b[1;32m    467\u001b[0m         \u001b[0mself\u001b[0m\u001b[0;34m.\u001b[0m\u001b[0m_set_artist_props\u001b[0m\u001b[0;34m(\u001b[0m\u001b[0ml\u001b[0m\u001b[0;34m)\u001b[0m\u001b[0;34m\u001b[0m\u001b[0;34m\u001b[0m\u001b[0m\n",
            "\u001b[0;32m/usr/local/lib/python3.7/dist-packages/matplotlib/lines.py\u001b[0m in \u001b[0;36m__init__\u001b[0;34m(self, xdata, ydata, linewidth, linestyle, color, marker, markersize, markeredgewidth, markeredgecolor, markerfacecolor, markerfacecoloralt, fillstyle, antialiased, dash_capstyle, solid_capstyle, dash_joinstyle, solid_joinstyle, pickradius, drawstyle, markevery, **kwargs)\u001b[0m\n\u001b[1;32m    398\u001b[0m         \u001b[0;31m# update kwargs before updating data to give the caller a\u001b[0m\u001b[0;34m\u001b[0m\u001b[0;34m\u001b[0m\u001b[0;34m\u001b[0m\u001b[0m\n\u001b[1;32m    399\u001b[0m         \u001b[0;31m# chance to init axes (and hence unit support)\u001b[0m\u001b[0;34m\u001b[0m\u001b[0;34m\u001b[0m\u001b[0;34m\u001b[0m\u001b[0m\n\u001b[0;32m--> 400\u001b[0;31m         \u001b[0mself\u001b[0m\u001b[0;34m.\u001b[0m\u001b[0mupdate\u001b[0m\u001b[0;34m(\u001b[0m\u001b[0mkwargs\u001b[0m\u001b[0;34m)\u001b[0m\u001b[0;34m\u001b[0m\u001b[0;34m\u001b[0m\u001b[0m\n\u001b[0m\u001b[1;32m    401\u001b[0m         \u001b[0mself\u001b[0m\u001b[0;34m.\u001b[0m\u001b[0mpickradius\u001b[0m \u001b[0;34m=\u001b[0m \u001b[0mpickradius\u001b[0m\u001b[0;34m\u001b[0m\u001b[0;34m\u001b[0m\u001b[0m\n\u001b[1;32m    402\u001b[0m         \u001b[0mself\u001b[0m\u001b[0;34m.\u001b[0m\u001b[0mind_offset\u001b[0m \u001b[0;34m=\u001b[0m \u001b[0;36m0\u001b[0m\u001b[0;34m\u001b[0m\u001b[0;34m\u001b[0m\u001b[0m\n",
            "\u001b[0;32m/usr/local/lib/python3.7/dist-packages/matplotlib/artist.py\u001b[0m in \u001b[0;36mupdate\u001b[0;34m(self, props)\u001b[0m\n\u001b[1;32m   1003\u001b[0m                 \u001b[0;32mreturn\u001b[0m \u001b[0mfunc\u001b[0m\u001b[0;34m(\u001b[0m\u001b[0mv\u001b[0m\u001b[0;34m)\u001b[0m\u001b[0;34m\u001b[0m\u001b[0;34m\u001b[0m\u001b[0m\n\u001b[1;32m   1004\u001b[0m \u001b[0;34m\u001b[0m\u001b[0m\n\u001b[0;32m-> 1005\u001b[0;31m         \u001b[0;32mwith\u001b[0m \u001b[0mcbook\u001b[0m\u001b[0;34m.\u001b[0m\u001b[0m_setattr_cm\u001b[0m\u001b[0;34m(\u001b[0m\u001b[0mself\u001b[0m\u001b[0;34m,\u001b[0m \u001b[0meventson\u001b[0m\u001b[0;34m=\u001b[0m\u001b[0;32mFalse\u001b[0m\u001b[0;34m)\u001b[0m\u001b[0;34m:\u001b[0m\u001b[0;34m\u001b[0m\u001b[0;34m\u001b[0m\u001b[0m\n\u001b[0m\u001b[1;32m   1006\u001b[0m             \u001b[0mret\u001b[0m \u001b[0;34m=\u001b[0m \u001b[0;34m[\u001b[0m\u001b[0m_update_property\u001b[0m\u001b[0;34m(\u001b[0m\u001b[0mself\u001b[0m\u001b[0;34m,\u001b[0m \u001b[0mk\u001b[0m\u001b[0;34m,\u001b[0m \u001b[0mv\u001b[0m\u001b[0;34m)\u001b[0m \u001b[0;32mfor\u001b[0m \u001b[0mk\u001b[0m\u001b[0;34m,\u001b[0m \u001b[0mv\u001b[0m \u001b[0;32min\u001b[0m \u001b[0mprops\u001b[0m\u001b[0;34m.\u001b[0m\u001b[0mitems\u001b[0m\u001b[0;34m(\u001b[0m\u001b[0;34m)\u001b[0m\u001b[0;34m]\u001b[0m\u001b[0;34m\u001b[0m\u001b[0;34m\u001b[0m\u001b[0m\n\u001b[1;32m   1007\u001b[0m \u001b[0;34m\u001b[0m\u001b[0m\n",
            "\u001b[0;32m/usr/lib/python3.7/contextlib.py\u001b[0m in \u001b[0;36m__enter__\u001b[0;34m(self)\u001b[0m\n\u001b[1;32m    110\u001b[0m         \u001b[0;32mdel\u001b[0m \u001b[0mself\u001b[0m\u001b[0;34m.\u001b[0m\u001b[0margs\u001b[0m\u001b[0;34m,\u001b[0m \u001b[0mself\u001b[0m\u001b[0;34m.\u001b[0m\u001b[0mkwds\u001b[0m\u001b[0;34m,\u001b[0m \u001b[0mself\u001b[0m\u001b[0;34m.\u001b[0m\u001b[0mfunc\u001b[0m\u001b[0;34m\u001b[0m\u001b[0;34m\u001b[0m\u001b[0m\n\u001b[1;32m    111\u001b[0m         \u001b[0;32mtry\u001b[0m\u001b[0;34m:\u001b[0m\u001b[0;34m\u001b[0m\u001b[0;34m\u001b[0m\u001b[0m\n\u001b[0;32m--> 112\u001b[0;31m             \u001b[0;32mreturn\u001b[0m \u001b[0mnext\u001b[0m\u001b[0;34m(\u001b[0m\u001b[0mself\u001b[0m\u001b[0;34m.\u001b[0m\u001b[0mgen\u001b[0m\u001b[0;34m)\u001b[0m\u001b[0;34m\u001b[0m\u001b[0;34m\u001b[0m\u001b[0m\n\u001b[0m\u001b[1;32m    113\u001b[0m         \u001b[0;32mexcept\u001b[0m \u001b[0mStopIteration\u001b[0m\u001b[0;34m:\u001b[0m\u001b[0;34m\u001b[0m\u001b[0;34m\u001b[0m\u001b[0m\n\u001b[1;32m    114\u001b[0m             \u001b[0;32mraise\u001b[0m \u001b[0mRuntimeError\u001b[0m\u001b[0;34m(\u001b[0m\u001b[0;34m\"generator didn't yield\"\u001b[0m\u001b[0;34m)\u001b[0m \u001b[0;32mfrom\u001b[0m \u001b[0;32mNone\u001b[0m\u001b[0;34m\u001b[0m\u001b[0;34m\u001b[0m\u001b[0m\n",
            "\u001b[0;32m/usr/local/lib/python3.7/dist-packages/matplotlib/cbook/__init__.py\u001b[0m in \u001b[0;36m_setattr_cm\u001b[0;34m(obj, **kwargs)\u001b[0m\n\u001b[1;32m   1954\u001b[0m \u001b[0;34m\u001b[0m\u001b[0m\n\u001b[1;32m   1955\u001b[0m \u001b[0;34m\u001b[0m\u001b[0m\n\u001b[0;32m-> 1956\u001b[0;31m \u001b[0;34m@\u001b[0m\u001b[0mcontextlib\u001b[0m\u001b[0;34m.\u001b[0m\u001b[0mcontextmanager\u001b[0m\u001b[0;34m\u001b[0m\u001b[0;34m\u001b[0m\u001b[0m\n\u001b[0m\u001b[1;32m   1957\u001b[0m \u001b[0;32mdef\u001b[0m \u001b[0m_setattr_cm\u001b[0m\u001b[0;34m(\u001b[0m\u001b[0mobj\u001b[0m\u001b[0;34m,\u001b[0m \u001b[0;34m**\u001b[0m\u001b[0mkwargs\u001b[0m\u001b[0;34m)\u001b[0m\u001b[0;34m:\u001b[0m\u001b[0;34m\u001b[0m\u001b[0;34m\u001b[0m\u001b[0m\n\u001b[1;32m   1958\u001b[0m     \"\"\"Temporarily set some attributes; restore original state at context exit.\n",
            "\u001b[0;31mKeyboardInterrupt\u001b[0m: "
          ]
        },
        {
          "output_type": "stream",
          "name": "stdout",
          "text": [
            "Error in callback <function flush_figures at 0x7f73daca4e60> (for post_execute):\n"
          ]
        },
        {
          "output_type": "error",
          "ename": "KeyboardInterrupt",
          "evalue": "ignored",
          "traceback": [
            "\u001b[0;31m---------------------------------------------------------------------------\u001b[0m",
            "\u001b[0;31mKeyboardInterrupt\u001b[0m                         Traceback (most recent call last)",
            "\u001b[0;32m/usr/local/lib/python3.7/dist-packages/ipykernel/pylab/backend_inline.py\u001b[0m in \u001b[0;36mflush_figures\u001b[0;34m()\u001b[0m\n\u001b[1;32m    115\u001b[0m         \u001b[0;31m# ignore the tracking, just draw and close all figures\u001b[0m\u001b[0;34m\u001b[0m\u001b[0;34m\u001b[0m\u001b[0;34m\u001b[0m\u001b[0m\n\u001b[1;32m    116\u001b[0m         \u001b[0;32mtry\u001b[0m\u001b[0;34m:\u001b[0m\u001b[0;34m\u001b[0m\u001b[0;34m\u001b[0m\u001b[0m\n\u001b[0;32m--> 117\u001b[0;31m             \u001b[0;32mreturn\u001b[0m \u001b[0mshow\u001b[0m\u001b[0;34m(\u001b[0m\u001b[0;32mTrue\u001b[0m\u001b[0;34m)\u001b[0m\u001b[0;34m\u001b[0m\u001b[0;34m\u001b[0m\u001b[0m\n\u001b[0m\u001b[1;32m    118\u001b[0m         \u001b[0;32mexcept\u001b[0m \u001b[0mException\u001b[0m \u001b[0;32mas\u001b[0m \u001b[0me\u001b[0m\u001b[0;34m:\u001b[0m\u001b[0;34m\u001b[0m\u001b[0;34m\u001b[0m\u001b[0m\n\u001b[1;32m    119\u001b[0m             \u001b[0;31m# safely show traceback if in IPython, else raise\u001b[0m\u001b[0;34m\u001b[0m\u001b[0;34m\u001b[0m\u001b[0;34m\u001b[0m\u001b[0m\n",
            "\u001b[0;32m/usr/local/lib/python3.7/dist-packages/ipykernel/pylab/backend_inline.py\u001b[0m in \u001b[0;36mshow\u001b[0;34m(close, block)\u001b[0m\n\u001b[1;32m     37\u001b[0m             display(\n\u001b[1;32m     38\u001b[0m                 \u001b[0mfigure_manager\u001b[0m\u001b[0;34m.\u001b[0m\u001b[0mcanvas\u001b[0m\u001b[0;34m.\u001b[0m\u001b[0mfigure\u001b[0m\u001b[0;34m,\u001b[0m\u001b[0;34m\u001b[0m\u001b[0;34m\u001b[0m\u001b[0m\n\u001b[0;32m---> 39\u001b[0;31m                 \u001b[0mmetadata\u001b[0m\u001b[0;34m=\u001b[0m\u001b[0m_fetch_figure_metadata\u001b[0m\u001b[0;34m(\u001b[0m\u001b[0mfigure_manager\u001b[0m\u001b[0;34m.\u001b[0m\u001b[0mcanvas\u001b[0m\u001b[0;34m.\u001b[0m\u001b[0mfigure\u001b[0m\u001b[0;34m)\u001b[0m\u001b[0;34m\u001b[0m\u001b[0;34m\u001b[0m\u001b[0m\n\u001b[0m\u001b[1;32m     40\u001b[0m             )\n\u001b[1;32m     41\u001b[0m     \u001b[0;32mfinally\u001b[0m\u001b[0;34m:\u001b[0m\u001b[0;34m\u001b[0m\u001b[0;34m\u001b[0m\u001b[0m\n",
            "\u001b[0;32m/usr/local/lib/python3.7/dist-packages/IPython/core/display.py\u001b[0m in \u001b[0;36mdisplay\u001b[0;34m(*objs, **kwargs)\u001b[0m\n\u001b[1;32m    304\u001b[0m             \u001b[0mpublish_display_data\u001b[0m\u001b[0;34m(\u001b[0m\u001b[0mdata\u001b[0m\u001b[0;34m=\u001b[0m\u001b[0mobj\u001b[0m\u001b[0;34m,\u001b[0m \u001b[0mmetadata\u001b[0m\u001b[0;34m=\u001b[0m\u001b[0mmetadata\u001b[0m\u001b[0;34m,\u001b[0m \u001b[0;34m**\u001b[0m\u001b[0mkwargs\u001b[0m\u001b[0;34m)\u001b[0m\u001b[0;34m\u001b[0m\u001b[0;34m\u001b[0m\u001b[0m\n\u001b[1;32m    305\u001b[0m         \u001b[0;32melse\u001b[0m\u001b[0;34m:\u001b[0m\u001b[0;34m\u001b[0m\u001b[0;34m\u001b[0m\u001b[0m\n\u001b[0;32m--> 306\u001b[0;31m             \u001b[0mformat_dict\u001b[0m\u001b[0;34m,\u001b[0m \u001b[0mmd_dict\u001b[0m \u001b[0;34m=\u001b[0m \u001b[0mformat\u001b[0m\u001b[0;34m(\u001b[0m\u001b[0mobj\u001b[0m\u001b[0;34m,\u001b[0m \u001b[0minclude\u001b[0m\u001b[0;34m=\u001b[0m\u001b[0minclude\u001b[0m\u001b[0;34m,\u001b[0m \u001b[0mexclude\u001b[0m\u001b[0;34m=\u001b[0m\u001b[0mexclude\u001b[0m\u001b[0;34m)\u001b[0m\u001b[0;34m\u001b[0m\u001b[0;34m\u001b[0m\u001b[0m\n\u001b[0m\u001b[1;32m    307\u001b[0m             \u001b[0;32mif\u001b[0m \u001b[0;32mnot\u001b[0m \u001b[0mformat_dict\u001b[0m\u001b[0;34m:\u001b[0m\u001b[0;34m\u001b[0m\u001b[0;34m\u001b[0m\u001b[0m\n\u001b[1;32m    308\u001b[0m                 \u001b[0;31m# nothing to display (e.g. _ipython_display_ took over)\u001b[0m\u001b[0;34m\u001b[0m\u001b[0;34m\u001b[0m\u001b[0;34m\u001b[0m\u001b[0m\n",
            "\u001b[0;32m/usr/local/lib/python3.7/dist-packages/IPython/core/formatters.py\u001b[0m in \u001b[0;36mformat\u001b[0;34m(self, obj, include, exclude)\u001b[0m\n\u001b[1;32m    171\u001b[0m             \u001b[0mmd\u001b[0m \u001b[0;34m=\u001b[0m \u001b[0;32mNone\u001b[0m\u001b[0;34m\u001b[0m\u001b[0;34m\u001b[0m\u001b[0m\n\u001b[1;32m    172\u001b[0m             \u001b[0;32mtry\u001b[0m\u001b[0;34m:\u001b[0m\u001b[0;34m\u001b[0m\u001b[0;34m\u001b[0m\u001b[0m\n\u001b[0;32m--> 173\u001b[0;31m                 \u001b[0mdata\u001b[0m \u001b[0;34m=\u001b[0m \u001b[0mformatter\u001b[0m\u001b[0;34m(\u001b[0m\u001b[0mobj\u001b[0m\u001b[0;34m)\u001b[0m\u001b[0;34m\u001b[0m\u001b[0;34m\u001b[0m\u001b[0m\n\u001b[0m\u001b[1;32m    174\u001b[0m             \u001b[0;32mexcept\u001b[0m\u001b[0;34m:\u001b[0m\u001b[0;34m\u001b[0m\u001b[0;34m\u001b[0m\u001b[0m\n\u001b[1;32m    175\u001b[0m                 \u001b[0;31m# FIXME: log the exception\u001b[0m\u001b[0;34m\u001b[0m\u001b[0;34m\u001b[0m\u001b[0;34m\u001b[0m\u001b[0m\n",
            "\u001b[0;32m<decorator-gen-2>\u001b[0m in \u001b[0;36m__call__\u001b[0;34m(self, obj)\u001b[0m\n",
            "\u001b[0;32m/usr/local/lib/python3.7/dist-packages/IPython/core/formatters.py\u001b[0m in \u001b[0;36mcatch_format_error\u001b[0;34m(method, self, *args, **kwargs)\u001b[0m\n\u001b[1;32m    215\u001b[0m     \u001b[0;34m\"\"\"show traceback on failed format call\"\"\"\u001b[0m\u001b[0;34m\u001b[0m\u001b[0;34m\u001b[0m\u001b[0m\n\u001b[1;32m    216\u001b[0m     \u001b[0;32mtry\u001b[0m\u001b[0;34m:\u001b[0m\u001b[0;34m\u001b[0m\u001b[0;34m\u001b[0m\u001b[0m\n\u001b[0;32m--> 217\u001b[0;31m         \u001b[0mr\u001b[0m \u001b[0;34m=\u001b[0m \u001b[0mmethod\u001b[0m\u001b[0;34m(\u001b[0m\u001b[0mself\u001b[0m\u001b[0;34m,\u001b[0m \u001b[0;34m*\u001b[0m\u001b[0margs\u001b[0m\u001b[0;34m,\u001b[0m \u001b[0;34m**\u001b[0m\u001b[0mkwargs\u001b[0m\u001b[0;34m)\u001b[0m\u001b[0;34m\u001b[0m\u001b[0;34m\u001b[0m\u001b[0m\n\u001b[0m\u001b[1;32m    218\u001b[0m     \u001b[0;32mexcept\u001b[0m \u001b[0mNotImplementedError\u001b[0m\u001b[0;34m:\u001b[0m\u001b[0;34m\u001b[0m\u001b[0;34m\u001b[0m\u001b[0m\n\u001b[1;32m    219\u001b[0m         \u001b[0;31m# don't warn on NotImplementedErrors\u001b[0m\u001b[0;34m\u001b[0m\u001b[0;34m\u001b[0m\u001b[0;34m\u001b[0m\u001b[0m\n",
            "\u001b[0;32m/usr/local/lib/python3.7/dist-packages/IPython/core/formatters.py\u001b[0m in \u001b[0;36m__call__\u001b[0;34m(self, obj)\u001b[0m\n\u001b[1;32m    332\u001b[0m                 \u001b[0;32mpass\u001b[0m\u001b[0;34m\u001b[0m\u001b[0;34m\u001b[0m\u001b[0m\n\u001b[1;32m    333\u001b[0m             \u001b[0;32melse\u001b[0m\u001b[0;34m:\u001b[0m\u001b[0;34m\u001b[0m\u001b[0;34m\u001b[0m\u001b[0m\n\u001b[0;32m--> 334\u001b[0;31m                 \u001b[0;32mreturn\u001b[0m \u001b[0mprinter\u001b[0m\u001b[0;34m(\u001b[0m\u001b[0mobj\u001b[0m\u001b[0;34m)\u001b[0m\u001b[0;34m\u001b[0m\u001b[0;34m\u001b[0m\u001b[0m\n\u001b[0m\u001b[1;32m    335\u001b[0m             \u001b[0;31m# Finally look for special method names\u001b[0m\u001b[0;34m\u001b[0m\u001b[0;34m\u001b[0m\u001b[0;34m\u001b[0m\u001b[0m\n\u001b[1;32m    336\u001b[0m             \u001b[0mmethod\u001b[0m \u001b[0;34m=\u001b[0m \u001b[0mget_real_method\u001b[0m\u001b[0;34m(\u001b[0m\u001b[0mobj\u001b[0m\u001b[0;34m,\u001b[0m \u001b[0mself\u001b[0m\u001b[0;34m.\u001b[0m\u001b[0mprint_method\u001b[0m\u001b[0;34m)\u001b[0m\u001b[0;34m\u001b[0m\u001b[0;34m\u001b[0m\u001b[0m\n",
            "\u001b[0;32m/usr/local/lib/python3.7/dist-packages/IPython/core/pylabtools.py\u001b[0m in \u001b[0;36m<lambda>\u001b[0;34m(fig)\u001b[0m\n\u001b[1;32m    239\u001b[0m \u001b[0;34m\u001b[0m\u001b[0m\n\u001b[1;32m    240\u001b[0m     \u001b[0;32mif\u001b[0m \u001b[0;34m'png'\u001b[0m \u001b[0;32min\u001b[0m \u001b[0mformats\u001b[0m\u001b[0;34m:\u001b[0m\u001b[0;34m\u001b[0m\u001b[0;34m\u001b[0m\u001b[0m\n\u001b[0;32m--> 241\u001b[0;31m         \u001b[0mpng_formatter\u001b[0m\u001b[0;34m.\u001b[0m\u001b[0mfor_type\u001b[0m\u001b[0;34m(\u001b[0m\u001b[0mFigure\u001b[0m\u001b[0;34m,\u001b[0m \u001b[0;32mlambda\u001b[0m \u001b[0mfig\u001b[0m\u001b[0;34m:\u001b[0m \u001b[0mprint_figure\u001b[0m\u001b[0;34m(\u001b[0m\u001b[0mfig\u001b[0m\u001b[0;34m,\u001b[0m \u001b[0;34m'png'\u001b[0m\u001b[0;34m,\u001b[0m \u001b[0;34m**\u001b[0m\u001b[0mkwargs\u001b[0m\u001b[0;34m)\u001b[0m\u001b[0;34m)\u001b[0m\u001b[0;34m\u001b[0m\u001b[0;34m\u001b[0m\u001b[0m\n\u001b[0m\u001b[1;32m    242\u001b[0m     \u001b[0;32mif\u001b[0m \u001b[0;34m'retina'\u001b[0m \u001b[0;32min\u001b[0m \u001b[0mformats\u001b[0m \u001b[0;32mor\u001b[0m \u001b[0;34m'png2x'\u001b[0m \u001b[0;32min\u001b[0m \u001b[0mformats\u001b[0m\u001b[0;34m:\u001b[0m\u001b[0;34m\u001b[0m\u001b[0;34m\u001b[0m\u001b[0m\n\u001b[1;32m    243\u001b[0m         \u001b[0mpng_formatter\u001b[0m\u001b[0;34m.\u001b[0m\u001b[0mfor_type\u001b[0m\u001b[0;34m(\u001b[0m\u001b[0mFigure\u001b[0m\u001b[0;34m,\u001b[0m \u001b[0;32mlambda\u001b[0m \u001b[0mfig\u001b[0m\u001b[0;34m:\u001b[0m \u001b[0mretina_figure\u001b[0m\u001b[0;34m(\u001b[0m\u001b[0mfig\u001b[0m\u001b[0;34m,\u001b[0m \u001b[0;34m**\u001b[0m\u001b[0mkwargs\u001b[0m\u001b[0;34m)\u001b[0m\u001b[0;34m)\u001b[0m\u001b[0;34m\u001b[0m\u001b[0;34m\u001b[0m\u001b[0m\n",
            "\u001b[0;32m/usr/local/lib/python3.7/dist-packages/IPython/core/pylabtools.py\u001b[0m in \u001b[0;36mprint_figure\u001b[0;34m(fig, fmt, bbox_inches, **kwargs)\u001b[0m\n\u001b[1;32m    123\u001b[0m \u001b[0;34m\u001b[0m\u001b[0m\n\u001b[1;32m    124\u001b[0m     \u001b[0mbytes_io\u001b[0m \u001b[0;34m=\u001b[0m \u001b[0mBytesIO\u001b[0m\u001b[0;34m(\u001b[0m\u001b[0;34m)\u001b[0m\u001b[0;34m\u001b[0m\u001b[0;34m\u001b[0m\u001b[0m\n\u001b[0;32m--> 125\u001b[0;31m     \u001b[0mfig\u001b[0m\u001b[0;34m.\u001b[0m\u001b[0mcanvas\u001b[0m\u001b[0;34m.\u001b[0m\u001b[0mprint_figure\u001b[0m\u001b[0;34m(\u001b[0m\u001b[0mbytes_io\u001b[0m\u001b[0;34m,\u001b[0m \u001b[0;34m**\u001b[0m\u001b[0mkw\u001b[0m\u001b[0;34m)\u001b[0m\u001b[0;34m\u001b[0m\u001b[0;34m\u001b[0m\u001b[0m\n\u001b[0m\u001b[1;32m    126\u001b[0m     \u001b[0mdata\u001b[0m \u001b[0;34m=\u001b[0m \u001b[0mbytes_io\u001b[0m\u001b[0;34m.\u001b[0m\u001b[0mgetvalue\u001b[0m\u001b[0;34m(\u001b[0m\u001b[0;34m)\u001b[0m\u001b[0;34m\u001b[0m\u001b[0;34m\u001b[0m\u001b[0m\n\u001b[1;32m    127\u001b[0m     \u001b[0;32mif\u001b[0m \u001b[0mfmt\u001b[0m \u001b[0;34m==\u001b[0m \u001b[0;34m'svg'\u001b[0m\u001b[0;34m:\u001b[0m\u001b[0;34m\u001b[0m\u001b[0;34m\u001b[0m\u001b[0m\n",
            "\u001b[0;32m/usr/local/lib/python3.7/dist-packages/matplotlib/backend_bases.py\u001b[0m in \u001b[0;36mprint_figure\u001b[0;34m(self, filename, dpi, facecolor, edgecolor, orientation, format, bbox_inches, **kwargs)\u001b[0m\n\u001b[1;32m   2098\u001b[0m                            else suppress())\n\u001b[1;32m   2099\u001b[0m                     \u001b[0;32mwith\u001b[0m \u001b[0mctx\u001b[0m\u001b[0;34m:\u001b[0m\u001b[0;34m\u001b[0m\u001b[0;34m\u001b[0m\u001b[0m\n\u001b[0;32m-> 2100\u001b[0;31m                         \u001b[0mself\u001b[0m\u001b[0;34m.\u001b[0m\u001b[0mfigure\u001b[0m\u001b[0;34m.\u001b[0m\u001b[0mdraw\u001b[0m\u001b[0;34m(\u001b[0m\u001b[0mrenderer\u001b[0m\u001b[0;34m)\u001b[0m\u001b[0;34m\u001b[0m\u001b[0;34m\u001b[0m\u001b[0m\n\u001b[0m\u001b[1;32m   2101\u001b[0m                     \u001b[0mbbox_artists\u001b[0m \u001b[0;34m=\u001b[0m \u001b[0mkwargs\u001b[0m\u001b[0;34m.\u001b[0m\u001b[0mpop\u001b[0m\u001b[0;34m(\u001b[0m\u001b[0;34m\"bbox_extra_artists\"\u001b[0m\u001b[0;34m,\u001b[0m \u001b[0;32mNone\u001b[0m\u001b[0;34m)\u001b[0m\u001b[0;34m\u001b[0m\u001b[0;34m\u001b[0m\u001b[0m\n\u001b[1;32m   2102\u001b[0m                     bbox_inches = self.figure.get_tightbbox(renderer,\n",
            "\u001b[0;32m/usr/local/lib/python3.7/dist-packages/matplotlib/artist.py\u001b[0m in \u001b[0;36mdraw_wrapper\u001b[0;34m(artist, renderer, *args, **kwargs)\u001b[0m\n\u001b[1;32m     36\u001b[0m                 \u001b[0mrenderer\u001b[0m\u001b[0;34m.\u001b[0m\u001b[0mstart_filter\u001b[0m\u001b[0;34m(\u001b[0m\u001b[0;34m)\u001b[0m\u001b[0;34m\u001b[0m\u001b[0;34m\u001b[0m\u001b[0m\n\u001b[1;32m     37\u001b[0m \u001b[0;34m\u001b[0m\u001b[0m\n\u001b[0;32m---> 38\u001b[0;31m             \u001b[0;32mreturn\u001b[0m \u001b[0mdraw\u001b[0m\u001b[0;34m(\u001b[0m\u001b[0martist\u001b[0m\u001b[0;34m,\u001b[0m \u001b[0mrenderer\u001b[0m\u001b[0;34m,\u001b[0m \u001b[0;34m*\u001b[0m\u001b[0margs\u001b[0m\u001b[0;34m,\u001b[0m \u001b[0;34m**\u001b[0m\u001b[0mkwargs\u001b[0m\u001b[0;34m)\u001b[0m\u001b[0;34m\u001b[0m\u001b[0;34m\u001b[0m\u001b[0m\n\u001b[0m\u001b[1;32m     39\u001b[0m         \u001b[0;32mfinally\u001b[0m\u001b[0;34m:\u001b[0m\u001b[0;34m\u001b[0m\u001b[0;34m\u001b[0m\u001b[0m\n\u001b[1;32m     40\u001b[0m             \u001b[0;32mif\u001b[0m \u001b[0martist\u001b[0m\u001b[0;34m.\u001b[0m\u001b[0mget_agg_filter\u001b[0m\u001b[0;34m(\u001b[0m\u001b[0;34m)\u001b[0m \u001b[0;32mis\u001b[0m \u001b[0;32mnot\u001b[0m \u001b[0;32mNone\u001b[0m\u001b[0;34m:\u001b[0m\u001b[0;34m\u001b[0m\u001b[0;34m\u001b[0m\u001b[0m\n",
            "\u001b[0;32m/usr/local/lib/python3.7/dist-packages/matplotlib/figure.py\u001b[0m in \u001b[0;36mdraw\u001b[0;34m(self, renderer)\u001b[0m\n\u001b[1;32m   1734\u001b[0m             \u001b[0mself\u001b[0m\u001b[0;34m.\u001b[0m\u001b[0mpatch\u001b[0m\u001b[0;34m.\u001b[0m\u001b[0mdraw\u001b[0m\u001b[0;34m(\u001b[0m\u001b[0mrenderer\u001b[0m\u001b[0;34m)\u001b[0m\u001b[0;34m\u001b[0m\u001b[0;34m\u001b[0m\u001b[0m\n\u001b[1;32m   1735\u001b[0m             mimage._draw_list_compositing_images(\n\u001b[0;32m-> 1736\u001b[0;31m                 renderer, self, artists, self.suppressComposite)\n\u001b[0m\u001b[1;32m   1737\u001b[0m \u001b[0;34m\u001b[0m\u001b[0m\n\u001b[1;32m   1738\u001b[0m             \u001b[0mrenderer\u001b[0m\u001b[0;34m.\u001b[0m\u001b[0mclose_group\u001b[0m\u001b[0;34m(\u001b[0m\u001b[0;34m'figure'\u001b[0m\u001b[0;34m)\u001b[0m\u001b[0;34m\u001b[0m\u001b[0;34m\u001b[0m\u001b[0m\n",
            "\u001b[0;32m/usr/local/lib/python3.7/dist-packages/matplotlib/image.py\u001b[0m in \u001b[0;36m_draw_list_compositing_images\u001b[0;34m(renderer, parent, artists, suppress_composite)\u001b[0m\n\u001b[1;32m    135\u001b[0m     \u001b[0;32mif\u001b[0m \u001b[0mnot_composite\u001b[0m \u001b[0;32mor\u001b[0m \u001b[0;32mnot\u001b[0m \u001b[0mhas_images\u001b[0m\u001b[0;34m:\u001b[0m\u001b[0;34m\u001b[0m\u001b[0;34m\u001b[0m\u001b[0m\n\u001b[1;32m    136\u001b[0m         \u001b[0;32mfor\u001b[0m \u001b[0ma\u001b[0m \u001b[0;32min\u001b[0m \u001b[0martists\u001b[0m\u001b[0;34m:\u001b[0m\u001b[0;34m\u001b[0m\u001b[0;34m\u001b[0m\u001b[0m\n\u001b[0;32m--> 137\u001b[0;31m             \u001b[0ma\u001b[0m\u001b[0;34m.\u001b[0m\u001b[0mdraw\u001b[0m\u001b[0;34m(\u001b[0m\u001b[0mrenderer\u001b[0m\u001b[0;34m)\u001b[0m\u001b[0;34m\u001b[0m\u001b[0;34m\u001b[0m\u001b[0m\n\u001b[0m\u001b[1;32m    138\u001b[0m     \u001b[0;32melse\u001b[0m\u001b[0;34m:\u001b[0m\u001b[0;34m\u001b[0m\u001b[0;34m\u001b[0m\u001b[0m\n\u001b[1;32m    139\u001b[0m         \u001b[0;31m# Composite any adjacent images together\u001b[0m\u001b[0;34m\u001b[0m\u001b[0;34m\u001b[0m\u001b[0;34m\u001b[0m\u001b[0m\n",
            "\u001b[0;32m/usr/local/lib/python3.7/dist-packages/matplotlib/artist.py\u001b[0m in \u001b[0;36mdraw_wrapper\u001b[0;34m(artist, renderer, *args, **kwargs)\u001b[0m\n\u001b[1;32m     36\u001b[0m                 \u001b[0mrenderer\u001b[0m\u001b[0;34m.\u001b[0m\u001b[0mstart_filter\u001b[0m\u001b[0;34m(\u001b[0m\u001b[0;34m)\u001b[0m\u001b[0;34m\u001b[0m\u001b[0;34m\u001b[0m\u001b[0m\n\u001b[1;32m     37\u001b[0m \u001b[0;34m\u001b[0m\u001b[0m\n\u001b[0;32m---> 38\u001b[0;31m             \u001b[0;32mreturn\u001b[0m \u001b[0mdraw\u001b[0m\u001b[0;34m(\u001b[0m\u001b[0martist\u001b[0m\u001b[0;34m,\u001b[0m \u001b[0mrenderer\u001b[0m\u001b[0;34m,\u001b[0m \u001b[0;34m*\u001b[0m\u001b[0margs\u001b[0m\u001b[0;34m,\u001b[0m \u001b[0;34m**\u001b[0m\u001b[0mkwargs\u001b[0m\u001b[0;34m)\u001b[0m\u001b[0;34m\u001b[0m\u001b[0;34m\u001b[0m\u001b[0m\n\u001b[0m\u001b[1;32m     39\u001b[0m         \u001b[0;32mfinally\u001b[0m\u001b[0;34m:\u001b[0m\u001b[0;34m\u001b[0m\u001b[0;34m\u001b[0m\u001b[0m\n\u001b[1;32m     40\u001b[0m             \u001b[0;32mif\u001b[0m \u001b[0martist\u001b[0m\u001b[0;34m.\u001b[0m\u001b[0mget_agg_filter\u001b[0m\u001b[0;34m(\u001b[0m\u001b[0;34m)\u001b[0m \u001b[0;32mis\u001b[0m \u001b[0;32mnot\u001b[0m \u001b[0;32mNone\u001b[0m\u001b[0;34m:\u001b[0m\u001b[0;34m\u001b[0m\u001b[0;34m\u001b[0m\u001b[0m\n",
            "\u001b[0;32m/usr/local/lib/python3.7/dist-packages/matplotlib/axes/_base.py\u001b[0m in \u001b[0;36mdraw\u001b[0;34m(self, renderer, inframe)\u001b[0m\n\u001b[1;32m   2628\u001b[0m             \u001b[0mrenderer\u001b[0m\u001b[0;34m.\u001b[0m\u001b[0mstop_rasterizing\u001b[0m\u001b[0;34m(\u001b[0m\u001b[0;34m)\u001b[0m\u001b[0;34m\u001b[0m\u001b[0;34m\u001b[0m\u001b[0m\n\u001b[1;32m   2629\u001b[0m \u001b[0;34m\u001b[0m\u001b[0m\n\u001b[0;32m-> 2630\u001b[0;31m         \u001b[0mmimage\u001b[0m\u001b[0;34m.\u001b[0m\u001b[0m_draw_list_compositing_images\u001b[0m\u001b[0;34m(\u001b[0m\u001b[0mrenderer\u001b[0m\u001b[0;34m,\u001b[0m \u001b[0mself\u001b[0m\u001b[0;34m,\u001b[0m \u001b[0martists\u001b[0m\u001b[0;34m)\u001b[0m\u001b[0;34m\u001b[0m\u001b[0;34m\u001b[0m\u001b[0m\n\u001b[0m\u001b[1;32m   2631\u001b[0m \u001b[0;34m\u001b[0m\u001b[0m\n\u001b[1;32m   2632\u001b[0m         \u001b[0mrenderer\u001b[0m\u001b[0;34m.\u001b[0m\u001b[0mclose_group\u001b[0m\u001b[0;34m(\u001b[0m\u001b[0;34m'axes'\u001b[0m\u001b[0;34m)\u001b[0m\u001b[0;34m\u001b[0m\u001b[0;34m\u001b[0m\u001b[0m\n",
            "\u001b[0;32m/usr/local/lib/python3.7/dist-packages/matplotlib/image.py\u001b[0m in \u001b[0;36m_draw_list_compositing_images\u001b[0;34m(renderer, parent, artists, suppress_composite)\u001b[0m\n\u001b[1;32m    135\u001b[0m     \u001b[0;32mif\u001b[0m \u001b[0mnot_composite\u001b[0m \u001b[0;32mor\u001b[0m \u001b[0;32mnot\u001b[0m \u001b[0mhas_images\u001b[0m\u001b[0;34m:\u001b[0m\u001b[0;34m\u001b[0m\u001b[0;34m\u001b[0m\u001b[0m\n\u001b[1;32m    136\u001b[0m         \u001b[0;32mfor\u001b[0m \u001b[0ma\u001b[0m \u001b[0;32min\u001b[0m \u001b[0martists\u001b[0m\u001b[0;34m:\u001b[0m\u001b[0;34m\u001b[0m\u001b[0;34m\u001b[0m\u001b[0m\n\u001b[0;32m--> 137\u001b[0;31m             \u001b[0ma\u001b[0m\u001b[0;34m.\u001b[0m\u001b[0mdraw\u001b[0m\u001b[0;34m(\u001b[0m\u001b[0mrenderer\u001b[0m\u001b[0;34m)\u001b[0m\u001b[0;34m\u001b[0m\u001b[0;34m\u001b[0m\u001b[0m\n\u001b[0m\u001b[1;32m    138\u001b[0m     \u001b[0;32melse\u001b[0m\u001b[0;34m:\u001b[0m\u001b[0;34m\u001b[0m\u001b[0;34m\u001b[0m\u001b[0m\n\u001b[1;32m    139\u001b[0m         \u001b[0;31m# Composite any adjacent images together\u001b[0m\u001b[0;34m\u001b[0m\u001b[0;34m\u001b[0m\u001b[0;34m\u001b[0m\u001b[0m\n",
            "\u001b[0;32m/usr/local/lib/python3.7/dist-packages/matplotlib/artist.py\u001b[0m in \u001b[0;36mdraw_wrapper\u001b[0;34m(artist, renderer, *args, **kwargs)\u001b[0m\n\u001b[1;32m     36\u001b[0m                 \u001b[0mrenderer\u001b[0m\u001b[0;34m.\u001b[0m\u001b[0mstart_filter\u001b[0m\u001b[0;34m(\u001b[0m\u001b[0;34m)\u001b[0m\u001b[0;34m\u001b[0m\u001b[0;34m\u001b[0m\u001b[0m\n\u001b[1;32m     37\u001b[0m \u001b[0;34m\u001b[0m\u001b[0m\n\u001b[0;32m---> 38\u001b[0;31m             \u001b[0;32mreturn\u001b[0m \u001b[0mdraw\u001b[0m\u001b[0;34m(\u001b[0m\u001b[0martist\u001b[0m\u001b[0;34m,\u001b[0m \u001b[0mrenderer\u001b[0m\u001b[0;34m,\u001b[0m \u001b[0;34m*\u001b[0m\u001b[0margs\u001b[0m\u001b[0;34m,\u001b[0m \u001b[0;34m**\u001b[0m\u001b[0mkwargs\u001b[0m\u001b[0;34m)\u001b[0m\u001b[0;34m\u001b[0m\u001b[0;34m\u001b[0m\u001b[0m\n\u001b[0m\u001b[1;32m     39\u001b[0m         \u001b[0;32mfinally\u001b[0m\u001b[0;34m:\u001b[0m\u001b[0;34m\u001b[0m\u001b[0;34m\u001b[0m\u001b[0m\n\u001b[1;32m     40\u001b[0m             \u001b[0;32mif\u001b[0m \u001b[0martist\u001b[0m\u001b[0;34m.\u001b[0m\u001b[0mget_agg_filter\u001b[0m\u001b[0;34m(\u001b[0m\u001b[0;34m)\u001b[0m \u001b[0;32mis\u001b[0m \u001b[0;32mnot\u001b[0m \u001b[0;32mNone\u001b[0m\u001b[0;34m:\u001b[0m\u001b[0;34m\u001b[0m\u001b[0;34m\u001b[0m\u001b[0m\n",
            "\u001b[0;32m/usr/local/lib/python3.7/dist-packages/matplotlib/patches.py\u001b[0m in \u001b[0;36mdraw\u001b[0;34m(self, renderer)\u001b[0m\n\u001b[1;32m    593\u001b[0m                 \u001b[0mself\u001b[0m\u001b[0;34m.\u001b[0m\u001b[0m_bind_draw_path_function\u001b[0m\u001b[0;34m(\u001b[0m\u001b[0mrenderer\u001b[0m\u001b[0;34m)\u001b[0m \u001b[0;32mas\u001b[0m \u001b[0mdraw_path\u001b[0m\u001b[0;34m:\u001b[0m\u001b[0;34m\u001b[0m\u001b[0;34m\u001b[0m\u001b[0m\n\u001b[1;32m    594\u001b[0m             \u001b[0mpath\u001b[0m \u001b[0;34m=\u001b[0m \u001b[0mself\u001b[0m\u001b[0;34m.\u001b[0m\u001b[0mget_path\u001b[0m\u001b[0;34m(\u001b[0m\u001b[0;34m)\u001b[0m\u001b[0;34m\u001b[0m\u001b[0;34m\u001b[0m\u001b[0m\n\u001b[0;32m--> 595\u001b[0;31m             \u001b[0mtransform\u001b[0m \u001b[0;34m=\u001b[0m \u001b[0mself\u001b[0m\u001b[0;34m.\u001b[0m\u001b[0mget_transform\u001b[0m\u001b[0;34m(\u001b[0m\u001b[0;34m)\u001b[0m\u001b[0;34m\u001b[0m\u001b[0;34m\u001b[0m\u001b[0m\n\u001b[0m\u001b[1;32m    596\u001b[0m             \u001b[0mtpath\u001b[0m \u001b[0;34m=\u001b[0m \u001b[0mtransform\u001b[0m\u001b[0;34m.\u001b[0m\u001b[0mtransform_path_non_affine\u001b[0m\u001b[0;34m(\u001b[0m\u001b[0mpath\u001b[0m\u001b[0;34m)\u001b[0m\u001b[0;34m\u001b[0m\u001b[0;34m\u001b[0m\u001b[0m\n\u001b[1;32m    597\u001b[0m             \u001b[0maffine\u001b[0m \u001b[0;34m=\u001b[0m \u001b[0mtransform\u001b[0m\u001b[0;34m.\u001b[0m\u001b[0mget_affine\u001b[0m\u001b[0;34m(\u001b[0m\u001b[0;34m)\u001b[0m\u001b[0;34m\u001b[0m\u001b[0;34m\u001b[0m\u001b[0m\n",
            "\u001b[0;32m/usr/local/lib/python3.7/dist-packages/matplotlib/patches.py\u001b[0m in \u001b[0;36mget_transform\u001b[0;34m(self)\u001b[0m\n\u001b[1;32m    260\u001b[0m     \u001b[0;32mdef\u001b[0m \u001b[0mget_transform\u001b[0m\u001b[0;34m(\u001b[0m\u001b[0mself\u001b[0m\u001b[0;34m)\u001b[0m\u001b[0;34m:\u001b[0m\u001b[0;34m\u001b[0m\u001b[0;34m\u001b[0m\u001b[0m\n\u001b[1;32m    261\u001b[0m         \u001b[0;34m\"\"\"Return the `~.transforms.Transform` applied to the `Patch`.\"\"\"\u001b[0m\u001b[0;34m\u001b[0m\u001b[0;34m\u001b[0m\u001b[0m\n\u001b[0;32m--> 262\u001b[0;31m         \u001b[0;32mreturn\u001b[0m \u001b[0mself\u001b[0m\u001b[0;34m.\u001b[0m\u001b[0mget_patch_transform\u001b[0m\u001b[0;34m(\u001b[0m\u001b[0;34m)\u001b[0m \u001b[0;34m+\u001b[0m \u001b[0martist\u001b[0m\u001b[0;34m.\u001b[0m\u001b[0mArtist\u001b[0m\u001b[0;34m.\u001b[0m\u001b[0mget_transform\u001b[0m\u001b[0;34m(\u001b[0m\u001b[0mself\u001b[0m\u001b[0;34m)\u001b[0m\u001b[0;34m\u001b[0m\u001b[0;34m\u001b[0m\u001b[0m\n\u001b[0m\u001b[1;32m    263\u001b[0m \u001b[0;34m\u001b[0m\u001b[0m\n\u001b[1;32m    264\u001b[0m     \u001b[0;32mdef\u001b[0m \u001b[0mget_data_transform\u001b[0m\u001b[0;34m(\u001b[0m\u001b[0mself\u001b[0m\u001b[0;34m)\u001b[0m\u001b[0;34m:\u001b[0m\u001b[0;34m\u001b[0m\u001b[0;34m\u001b[0m\u001b[0m\n",
            "\u001b[0;32m/usr/local/lib/python3.7/dist-packages/matplotlib/patches.py\u001b[0m in \u001b[0;36mget_patch_transform\u001b[0;34m(self)\u001b[0m\n\u001b[1;32m    775\u001b[0m \u001b[0;34m\u001b[0m\u001b[0m\n\u001b[1;32m    776\u001b[0m     \u001b[0;32mdef\u001b[0m \u001b[0mget_patch_transform\u001b[0m\u001b[0;34m(\u001b[0m\u001b[0mself\u001b[0m\u001b[0;34m)\u001b[0m\u001b[0;34m:\u001b[0m\u001b[0;34m\u001b[0m\u001b[0;34m\u001b[0m\u001b[0m\n\u001b[0;32m--> 777\u001b[0;31m         \u001b[0mself\u001b[0m\u001b[0;34m.\u001b[0m\u001b[0m_update_patch_transform\u001b[0m\u001b[0;34m(\u001b[0m\u001b[0;34m)\u001b[0m\u001b[0;34m\u001b[0m\u001b[0;34m\u001b[0m\u001b[0m\n\u001b[0m\u001b[1;32m    778\u001b[0m         \u001b[0;32mreturn\u001b[0m \u001b[0mself\u001b[0m\u001b[0;34m.\u001b[0m\u001b[0m_rect_transform\u001b[0m\u001b[0;34m\u001b[0m\u001b[0;34m\u001b[0m\u001b[0m\n\u001b[1;32m    779\u001b[0m \u001b[0;34m\u001b[0m\u001b[0m\n",
            "\u001b[0;32m/usr/local/lib/python3.7/dist-packages/matplotlib/patches.py\u001b[0m in \u001b[0;36m_update_patch_transform\u001b[0;34m(self)\u001b[0m\n\u001b[1;32m    753\u001b[0m         \u001b[0mmember\u001b[0m \u001b[0mvariable\u001b[0m\u001b[0;34m.\u001b[0m\u001b[0;34m\u001b[0m\u001b[0;34m\u001b[0m\u001b[0m\n\u001b[1;32m    754\u001b[0m         \"\"\"\n\u001b[0;32m--> 755\u001b[0;31m         \u001b[0mx0\u001b[0m\u001b[0;34m,\u001b[0m \u001b[0my0\u001b[0m\u001b[0;34m,\u001b[0m \u001b[0mx1\u001b[0m\u001b[0;34m,\u001b[0m \u001b[0my1\u001b[0m \u001b[0;34m=\u001b[0m \u001b[0mself\u001b[0m\u001b[0;34m.\u001b[0m\u001b[0m_convert_units\u001b[0m\u001b[0;34m(\u001b[0m\u001b[0;34m)\u001b[0m\u001b[0;34m\u001b[0m\u001b[0;34m\u001b[0m\u001b[0m\n\u001b[0m\u001b[1;32m    756\u001b[0m         \u001b[0mbbox\u001b[0m \u001b[0;34m=\u001b[0m \u001b[0mtransforms\u001b[0m\u001b[0;34m.\u001b[0m\u001b[0mBbox\u001b[0m\u001b[0;34m.\u001b[0m\u001b[0mfrom_extents\u001b[0m\u001b[0;34m(\u001b[0m\u001b[0mx0\u001b[0m\u001b[0;34m,\u001b[0m \u001b[0my0\u001b[0m\u001b[0;34m,\u001b[0m \u001b[0mx1\u001b[0m\u001b[0;34m,\u001b[0m \u001b[0my1\u001b[0m\u001b[0;34m)\u001b[0m\u001b[0;34m\u001b[0m\u001b[0;34m\u001b[0m\u001b[0m\n\u001b[1;32m    757\u001b[0m         \u001b[0mrot_trans\u001b[0m \u001b[0;34m=\u001b[0m \u001b[0mtransforms\u001b[0m\u001b[0;34m.\u001b[0m\u001b[0mAffine2D\u001b[0m\u001b[0;34m(\u001b[0m\u001b[0;34m)\u001b[0m\u001b[0;34m\u001b[0m\u001b[0;34m\u001b[0m\u001b[0m\n",
            "\u001b[0;32m/usr/local/lib/python3.7/dist-packages/matplotlib/patches.py\u001b[0m in \u001b[0;36m_convert_units\u001b[0;34m(self)\u001b[0m\n\u001b[1;32m    768\u001b[0m     \u001b[0;32mdef\u001b[0m \u001b[0m_convert_units\u001b[0m\u001b[0;34m(\u001b[0m\u001b[0mself\u001b[0m\u001b[0;34m)\u001b[0m\u001b[0;34m:\u001b[0m\u001b[0;34m\u001b[0m\u001b[0;34m\u001b[0m\u001b[0m\n\u001b[1;32m    769\u001b[0m         \u001b[0;34m\"\"\"Convert bounds of the rectangle.\"\"\"\u001b[0m\u001b[0;34m\u001b[0m\u001b[0;34m\u001b[0m\u001b[0m\n\u001b[0;32m--> 770\u001b[0;31m         \u001b[0mx0\u001b[0m \u001b[0;34m=\u001b[0m \u001b[0mself\u001b[0m\u001b[0;34m.\u001b[0m\u001b[0mconvert_xunits\u001b[0m\u001b[0;34m(\u001b[0m\u001b[0mself\u001b[0m\u001b[0;34m.\u001b[0m\u001b[0m_x0\u001b[0m\u001b[0;34m)\u001b[0m\u001b[0;34m\u001b[0m\u001b[0;34m\u001b[0m\u001b[0m\n\u001b[0m\u001b[1;32m    771\u001b[0m         \u001b[0my0\u001b[0m \u001b[0;34m=\u001b[0m \u001b[0mself\u001b[0m\u001b[0;34m.\u001b[0m\u001b[0mconvert_yunits\u001b[0m\u001b[0;34m(\u001b[0m\u001b[0mself\u001b[0m\u001b[0;34m.\u001b[0m\u001b[0m_y0\u001b[0m\u001b[0;34m)\u001b[0m\u001b[0;34m\u001b[0m\u001b[0;34m\u001b[0m\u001b[0m\n\u001b[1;32m    772\u001b[0m         \u001b[0mx1\u001b[0m \u001b[0;34m=\u001b[0m \u001b[0mself\u001b[0m\u001b[0;34m.\u001b[0m\u001b[0mconvert_xunits\u001b[0m\u001b[0;34m(\u001b[0m\u001b[0mself\u001b[0m\u001b[0;34m.\u001b[0m\u001b[0m_x1\u001b[0m\u001b[0;34m)\u001b[0m\u001b[0;34m\u001b[0m\u001b[0;34m\u001b[0m\u001b[0m\n",
            "\u001b[0;32m/usr/local/lib/python3.7/dist-packages/matplotlib/artist.py\u001b[0m in \u001b[0;36mconvert_xunits\u001b[0;34m(self, x)\u001b[0m\n\u001b[1;32m    176\u001b[0m         \u001b[0;32mif\u001b[0m \u001b[0max\u001b[0m \u001b[0;32mis\u001b[0m \u001b[0;32mNone\u001b[0m \u001b[0;32mor\u001b[0m \u001b[0max\u001b[0m\u001b[0;34m.\u001b[0m\u001b[0mxaxis\u001b[0m \u001b[0;32mis\u001b[0m \u001b[0;32mNone\u001b[0m\u001b[0;34m:\u001b[0m\u001b[0;34m\u001b[0m\u001b[0;34m\u001b[0m\u001b[0m\n\u001b[1;32m    177\u001b[0m             \u001b[0;32mreturn\u001b[0m \u001b[0mx\u001b[0m\u001b[0;34m\u001b[0m\u001b[0;34m\u001b[0m\u001b[0m\n\u001b[0;32m--> 178\u001b[0;31m         \u001b[0;32mreturn\u001b[0m \u001b[0max\u001b[0m\u001b[0;34m.\u001b[0m\u001b[0mxaxis\u001b[0m\u001b[0;34m.\u001b[0m\u001b[0mconvert_units\u001b[0m\u001b[0;34m(\u001b[0m\u001b[0mx\u001b[0m\u001b[0;34m)\u001b[0m\u001b[0;34m\u001b[0m\u001b[0;34m\u001b[0m\u001b[0m\n\u001b[0m\u001b[1;32m    179\u001b[0m \u001b[0;34m\u001b[0m\u001b[0m\n\u001b[1;32m    180\u001b[0m     \u001b[0;32mdef\u001b[0m \u001b[0mconvert_yunits\u001b[0m\u001b[0;34m(\u001b[0m\u001b[0mself\u001b[0m\u001b[0;34m,\u001b[0m \u001b[0my\u001b[0m\u001b[0;34m)\u001b[0m\u001b[0;34m:\u001b[0m\u001b[0;34m\u001b[0m\u001b[0;34m\u001b[0m\u001b[0m\n",
            "\u001b[0;32m/usr/local/lib/python3.7/dist-packages/matplotlib/axis.py\u001b[0m in \u001b[0;36mconvert_units\u001b[0;34m(self, x)\u001b[0m\n\u001b[1;32m   1562\u001b[0m     \u001b[0;32mdef\u001b[0m \u001b[0mconvert_units\u001b[0m\u001b[0;34m(\u001b[0m\u001b[0mself\u001b[0m\u001b[0;34m,\u001b[0m \u001b[0mx\u001b[0m\u001b[0;34m)\u001b[0m\u001b[0;34m:\u001b[0m\u001b[0;34m\u001b[0m\u001b[0;34m\u001b[0m\u001b[0m\n\u001b[1;32m   1563\u001b[0m         \u001b[0;31m# If x is natively supported by Matplotlib, doesn't need converting\u001b[0m\u001b[0;34m\u001b[0m\u001b[0;34m\u001b[0m\u001b[0;34m\u001b[0m\u001b[0m\n\u001b[0;32m-> 1564\u001b[0;31m         \u001b[0;32mif\u001b[0m \u001b[0mmunits\u001b[0m\u001b[0;34m.\u001b[0m\u001b[0m_is_natively_supported\u001b[0m\u001b[0;34m(\u001b[0m\u001b[0mx\u001b[0m\u001b[0;34m)\u001b[0m\u001b[0;34m:\u001b[0m\u001b[0;34m\u001b[0m\u001b[0;34m\u001b[0m\u001b[0m\n\u001b[0m\u001b[1;32m   1565\u001b[0m             \u001b[0;32mreturn\u001b[0m \u001b[0mx\u001b[0m\u001b[0;34m\u001b[0m\u001b[0;34m\u001b[0m\u001b[0m\n\u001b[1;32m   1566\u001b[0m \u001b[0;34m\u001b[0m\u001b[0m\n",
            "\u001b[0;32m/usr/local/lib/python3.7/dist-packages/matplotlib/units.py\u001b[0m in \u001b[0;36m_is_natively_supported\u001b[0;34m(x)\u001b[0m\n\u001b[1;32m     69\u001b[0m             \u001b[0;32mreturn\u001b[0m \u001b[0misinstance\u001b[0m\u001b[0;34m(\u001b[0m\u001b[0mthisx\u001b[0m\u001b[0;34m,\u001b[0m \u001b[0mNumber\u001b[0m\u001b[0;34m)\u001b[0m \u001b[0;32mand\u001b[0m \u001b[0;32mnot\u001b[0m \u001b[0misinstance\u001b[0m\u001b[0;34m(\u001b[0m\u001b[0mthisx\u001b[0m\u001b[0;34m,\u001b[0m \u001b[0mDecimal\u001b[0m\u001b[0;34m)\u001b[0m\u001b[0;34m\u001b[0m\u001b[0;34m\u001b[0m\u001b[0m\n\u001b[1;32m     70\u001b[0m     \u001b[0;32melse\u001b[0m\u001b[0;34m:\u001b[0m\u001b[0;34m\u001b[0m\u001b[0;34m\u001b[0m\u001b[0m\n\u001b[0;32m---> 71\u001b[0;31m         \u001b[0;32mreturn\u001b[0m \u001b[0misinstance\u001b[0m\u001b[0;34m(\u001b[0m\u001b[0mx\u001b[0m\u001b[0;34m,\u001b[0m \u001b[0mNumber\u001b[0m\u001b[0;34m)\u001b[0m \u001b[0;32mand\u001b[0m \u001b[0;32mnot\u001b[0m \u001b[0misinstance\u001b[0m\u001b[0;34m(\u001b[0m\u001b[0mx\u001b[0m\u001b[0;34m,\u001b[0m \u001b[0mDecimal\u001b[0m\u001b[0;34m)\u001b[0m\u001b[0;34m\u001b[0m\u001b[0;34m\u001b[0m\u001b[0m\n\u001b[0m\u001b[1;32m     72\u001b[0m \u001b[0;34m\u001b[0m\u001b[0m\n\u001b[1;32m     73\u001b[0m \u001b[0;34m\u001b[0m\u001b[0m\n",
            "\u001b[0;31mKeyboardInterrupt\u001b[0m: "
          ]
        }
      ]
    },
    {
      "cell_type": "code",
      "source": [
        "sns.set_style('white')\n",
        "plt.figure(figsize=(8,6))\n",
        "\n",
        "sns.set_context('paper', font_scale=1.6)\n",
        "\n",
        "sns.distplot(data['wear'], kde = False)\n",
        "\n",
        "#sns.despine(left=False, bottom = False)"
      ],
      "metadata": {
        "colab": {
          "base_uri": "https://localhost:8080/",
          "height": 470
        },
        "id": "-CyEsOfTg75s",
        "outputId": "e3de580c-1e36-4d3e-f302-99b7990b7bd7"
      },
      "execution_count": null,
      "outputs": [
        {
          "output_type": "stream",
          "name": "stderr",
          "text": [
            "/usr/local/lib/python3.7/dist-packages/seaborn/distributions.py:2619: FutureWarning: `distplot` is a deprecated function and will be removed in a future version. Please adapt your code to use either `displot` (a figure-level function with similar flexibility) or `histplot` (an axes-level function for histograms).\n",
            "  warnings.warn(msg, FutureWarning)\n"
          ]
        },
        {
          "output_type": "execute_result",
          "data": {
            "text/plain": [
              "<matplotlib.axes._subplots.AxesSubplot at 0x7f7174997090>"
            ]
          },
          "metadata": {},
          "execution_count": 65
        },
        {
          "output_type": "display_data",
          "data": {
            "text/plain": [
              "<Figure size 576x432 with 1 Axes>"
            ],
            "image/png": "[encoded data removed]"
          },
          "metadata": {}
        }
      ]
    },
    {
      "cell_type": "code",
      "source": [
        "##kategorialssss"
      ],
      "metadata": {
        "id": "2S_SUInxiuMW"
      },
      "execution_count": null,
      "outputs": []
    },
    {
      "cell_type": "code",
      "source": [
        "#barplot\n",
        "sns.barplot(x='category', y='salePrice', data=data)"
      ],
      "metadata": {
        "colab": {
          "base_uri": "https://localhost:8080/",
          "height": 308
        },
        "id": "dHTdrOZfiwD-",
        "outputId": "2e6acf1a-d91c-458c-80a3-47346c853a19"
      },
      "execution_count": null,
      "outputs": [
        {
          "output_type": "execute_result",
          "data": {
            "text/plain": [
              "<matplotlib.axes._subplots.AxesSubplot at 0x7f7174725690>"
            ]
          },
          "metadata": {},
          "execution_count": 69
        },
        {
          "output_type": "display_data",
          "data": {
            "text/plain": [
              "<Figure size 432x288 with 1 Axes>"
            ],
            "image/png": "[encoded data removed]"
          },
          "metadata": {}
        }
      ]
    },
    {
      "cell_type": "code",
      "source": [
        "#countplot\n",
        "sns.countplot(x='category', data=data) #selten?"
      ],
      "metadata": {
        "colab": {
          "base_uri": "https://localhost:8080/",
          "height": 308
        },
        "id": "TlexSfVHjcv-",
        "outputId": "621a6ba7-0776-4a2a-c6f9-3a0159ab2248"
      },
      "execution_count": null,
      "outputs": [
        {
          "output_type": "execute_result",
          "data": {
            "text/plain": [
              "<matplotlib.axes._subplots.AxesSubplot at 0x7f71745a20d0>"
            ]
          },
          "metadata": {},
          "execution_count": 70
        },
        {
          "output_type": "display_data",
          "data": {
            "text/plain": [
              "<Figure size 432x288 with 1 Axes>"
            ],
            "image/png": "[encoded data removed]"
          },
          "metadata": {}
        }
      ]
    },
    {
      "cell_type": "code",
      "source": [
        "#boxplot. herausfinden warum komisch \n",
        "\n",
        "sns.boxplot(x='category', y='salePrice', data=data)"
      ],
      "metadata": {
        "colab": {
          "base_uri": "https://localhost:8080/",
          "height": 308
        },
        "id": "_eJc3LwGjsir",
        "outputId": "22d550bc-7f56-444f-f00a-a3534f4adb9c"
      },
      "execution_count": null,
      "outputs": [
        {
          "output_type": "execute_result",
          "data": {
            "text/plain": [
              "<matplotlib.axes._subplots.AxesSubplot at 0x7f7173e1dd50>"
            ]
          },
          "metadata": {},
          "execution_count": 79
        },
        {
          "output_type": "display_data",
          "data": {
            "text/plain": [
              "<Figure size 432x288 with 1 Axes>"
            ],
            "image/png": "[encoded data removed]"
          },
          "metadata": {}
        }
      ]
    },
    {
      "cell_type": "code",
      "source": [
        "sns.violinplot(x='category', y='salePrice', data=data)"
      ],
      "metadata": {
        "colab": {
          "base_uri": "https://localhost:8080/",
          "height": 308
        },
        "id": "lLBS0gq_lPg4",
        "outputId": "5e204e7e-e1b5-4c8e-ed2d-35773c56fe9f"
      },
      "execution_count": null,
      "outputs": [
        {
          "output_type": "execute_result",
          "data": {
            "text/plain": [
              "<matplotlib.axes._subplots.AxesSubplot at 0x7f7173d6bbd0>"
            ]
          },
          "metadata": {},
          "execution_count": 80
        },
        {
          "output_type": "display_data",
          "data": {
            "text/plain": [
              "<Figure size 432x288 with 1 Axes>"
            ],
            "image/png": "[encoded data removed]"
          },
          "metadata": {}
        }
      ]
    },
    {
      "cell_type": "code",
      "source": [
        "plt.figure(figsize=(6,10))\n",
        "\n",
        "sns.stripplot(x='category', y='salePrice', data=data, jitter=True, palette = 'magma')"
      ],
      "metadata": {
        "colab": {
          "base_uri": "https://localhost:8080/",
          "height": 633
        },
        "id": "ps63bTgMmYag",
        "outputId": "8c57a546-9c46-448c-d4c3-f7afbc95d5fa"
      },
      "execution_count": null,
      "outputs": [
        {
          "output_type": "execute_result",
          "data": {
            "text/plain": [
              "<matplotlib.axes._subplots.AxesSubplot at 0x7f7173a4da50>"
            ]
          },
          "metadata": {},
          "execution_count": 88
        },
        {
          "output_type": "display_data",
          "data": {
            "text/plain": [
              "<Figure size 432x720 with 1 Axes>"
            ],
            "image/png": "[encoded data removed]"
          },
          "metadata": {}
        }
      ]
    },
    {
      "cell_type": "code",
      "source": [
        "#heatmaps\n",
        "plt.figure(figsize=(8,6))\n",
        "sns.set_context('paper')\n",
        "\n",
        "data_mx = data.corr()\n",
        "\n",
        "sns.heatmap(data_mx, annot=True, cmap='Blues')"
      ],
      "metadata": {
        "colab": {
          "base_uri": "https://localhost:8080/",
          "height": 453
        },
        "id": "u9y5WWqjm15Y",
        "outputId": "0ed6d1d9-df45-4274-dfff-f326daf80801"
      },
      "execution_count": null,
      "outputs": [
        {
          "output_type": "execute_result",
          "data": {
            "text/plain": [
              "<matplotlib.axes._subplots.AxesSubplot at 0x7f7173a46410>"
            ]
          },
          "metadata": {},
          "execution_count": 89
        },
        {
          "output_type": "display_data",
          "data": {
            "text/plain": [
              "<Figure size 576x432 with 2 Axes>"
            ],
            "image/png": "[encoded data removed]"
          },
          "metadata": {}
        }
      ]
    },
    {
      "cell_type": "code",
      "source": [
        "preise = data.pivot_table(index='category', columns='wear', values = 'salePrice')\n",
        "preise"
      ],
      "metadata": {
        "id": "FH7IiM4_pM5g"
      },
      "execution_count": null,
      "outputs": []
    },
    {
      "cell_type": "markdown",
      "source": [
        "###Balanced Data?"
      ],
      "metadata": {
        "id": "hYCmdKF4UII_"
      }
    },
    {
      "cell_type": "code",
      "source": [
        "data.category.value_counts()\n",
        "# 1 :  2,9  :    10,8  : 17,4 :  23,1  : 27,1\n",
        "#-> 1:27,1"
      ],
      "metadata": {
        "colab": {
          "base_uri": "https://localhost:8080/"
        },
        "id": "58JVsMqUUNd_",
        "outputId": "8233838d-a2df-47b4-857e-4c03d062e8b8"
      },
      "execution_count": null,
      "outputs": [
        {
          "output_type": "execute_result",
          "data": {
            "text/plain": [
              "Rifle     43665\n",
              "Pistol    37346\n",
              "SMG       28128\n",
              "Heavy     17465\n",
              "Knife      4604\n",
              "Gloves     1614\n",
              "Name: category, dtype: int64"
            ]
          },
          "metadata": {},
          "execution_count": 244
        }
      ]
    },
    {
      "cell_type": "code",
      "source": [
        ""
      ],
      "metadata": {
        "colab": {
          "base_uri": "https://localhost:8080/"
        },
        "id": "7h1GN7eCUSo6",
        "outputId": "24477ce7-5f4c-479f-e428-913359c90ef3"
      },
      "execution_count": null,
      "outputs": [
        {
          "output_type": "execute_result",
          "data": {
            "text/plain": [
              "Nova                 5979\n",
              "PP-Bizon             5753\n",
              "AUG                  5604\n",
              "AK-47                5376\n",
              "P250                 5340\n",
              "                     ... \n",
              "Paracord Knife        105\n",
              "Skeleton Knife        105\n",
              "Survival Knife         85\n",
              "Bloodhound Gloves      77\n",
              "Nomad Knife            53\n",
              "Name: subCategory, Length: 61, dtype: int64"
            ]
          },
          "metadata": {},
          "execution_count": 245
        }
      ]
    },
    {
      "cell_type": "markdown",
      "source": [
        "###Strategie Datenaufbereitung für Modelle:\n"
      ],
      "metadata": {
        "id": "mR7q5sscQoJb"
      }
    },
    {
      "cell_type": "markdown",
      "source": [
        "- assetId: passt\n",
        "- family: eig zu viel\n",
        "- color: Datentyp ändern, auf int64 umstellen, 4 Ausprägungen\n",
        "- lock: passt\n",
        "- version: genauer angucken, villeicht one hot encoding?\n",
        "- versionType: kann man eig rausschmeißen, ist überordnung von version\n",
        "- suggestedPrice: passt\n",
        "- salePrice: passt\n",
        "- Category: One Hot Encoding\n",
        "- subCategory: viele ausprägungen... ohe?\n",
        "- pattern: passt\n",
        "- finish: passt\n",
        "- wear: passt\n",
        "- type: gute allg. Beschreibung, vollständig.. ohe?\n",
        "- exterior: lable encoding\n",
        "- quality: lable encoding\n",
        "- rarity: lable encoding\n",
        "- collection: nochmal angucken, ohe?\n",
        "- stickers: passt\n",
        "- souvenir: passt\n",
        "- stattrack: passt\n",
        "\n",
        "wenn zu viel OHE, dann frequency-encoding probieren?\n",
        "https://medium.com/swlh/stop-one-hot-encoding-your-categorical-features-avoid-curse-of-dimensionality-16743c32cea4\n",
        "\"The frequency distribution of the column Country can be generated using the pandas' function: data[‘country’].value_counts()\n",
        "Now replace each of the categories with their frequency in the data, for example, United States will be replaced by 7768, Russia by 1161. This technique is very each to implement and is a tremendously popular technique amongst Kagglers.\n",
        "The downside of using this technique, if some categories have the same count, then they will be treated similarly by the model, hence losing some information.\""
      ],
      "metadata": {
        "id": "_8xY8TuLJY-O"
      }
    },
    {
      "cell_type": "markdown",
      "source": [
        ""
      ],
      "metadata": {
        "id": "f-upZy35QfLb"
      }
    },
    {
      "cell_type": "markdown",
      "source": [
        "####Daten in richriges Format bringen"
      ],
      "metadata": {
        "id": "_WCAqfgmRW76"
      }
    },
    {
      "cell_type": "code",
      "source": [
        ""
      ],
      "metadata": {
        "id": "Mzzj5zrlQ92z"
      },
      "execution_count": null,
      "outputs": []
    },
    {
      "cell_type": "code",
      "source": [
        ""
      ],
      "metadata": {
        "colab": {
          "base_uri": "https://localhost:8080/"
        },
        "id": "n5Ql3QzDRRD8",
        "outputId": "6c0e093f-ccad-4950-f9da-81e09744888c"
      },
      "execution_count": null,
      "outputs": [
        {
          "output_type": "execute_result",
          "data": {
            "text/plain": [
              "numpy.float64"
            ]
          },
          "metadata": {},
          "execution_count": 74
        }
      ]
    },
    {
      "cell_type": "code",
      "source": [
        "data.shape"
      ],
      "metadata": {
        "colab": {
          "base_uri": "https://localhost:8080/"
        },
        "id": "_sTRtMcRGPKj",
        "outputId": "92deebd1-913d-4f54-ce3d-5a31a135d823"
      },
      "execution_count": null,
      "outputs": [
        {
          "output_type": "execute_result",
          "data": {
            "text/plain": [
              "(133005, 22)"
            ]
          },
          "metadata": {},
          "execution_count": 23
        }
      ]
    },
    {
      "cell_type": "code",
      "source": [
        "data.describe()"
      ],
      "metadata": {
        "colab": {
          "base_uri": "https://localhost:8080/",
          "height": 300
        },
        "id": "dTAwuqG3GUA9",
        "outputId": "31330ce3-f2bd-4236-ccca-50a1d12e9619"
      },
      "execution_count": null,
      "outputs": [
        {
          "output_type": "execute_result",
          "data": {
            "text/plain": [
              "               index       assetId  suggestedPrice      salePrice  \\\n",
              "count  132822.000000  1.328220e+05   132822.000000  132822.000000   \n",
              "mean    66580.896501  4.724622e+07       29.443286      34.422234   \n",
              "std     38352.754248  1.329716e+07      202.335509     372.976511   \n",
              "min         0.000000  1.240700e+04        0.030000       0.020000   \n",
              "25%     33377.250000  3.878514e+07        0.030000       0.030000   \n",
              "50%     66583.500000  5.176906e+07        0.100000       0.120000   \n",
              "75%     99792.750000  5.838940e+07        1.590000       3.000000   \n",
              "max    133004.000000  6.096650e+07    16609.350000   49999.990000   \n",
              "\n",
              "             pattern         finish           wear       souvenir  \\\n",
              "count  132822.000000  132822.000000  132822.000000  132822.000000   \n",
              "mean      500.392533     647.262283       0.255292       0.063988   \n",
              "std       288.729975    1106.288792       0.177134       0.244732   \n",
              "min         0.000000       2.000000       0.000007       0.000000   \n",
              "25%       250.000000     136.000000       0.125445       0.000000   \n",
              "50%       500.000000     611.000000       0.223606       0.000000   \n",
              "75%       751.000000     841.000000       0.361484       0.000000   \n",
              "max      1000.000000   10088.000000       0.999827       1.000000   \n",
              "\n",
              "            stattrak  \n",
              "count  132822.000000  \n",
              "mean        0.099991  \n",
              "std         0.299989  \n",
              "min         0.000000  \n",
              "25%         0.000000  \n",
              "50%         0.000000  \n",
              "75%         0.000000  \n",
              "max         1.000000  "
            ],
            "text/html": [
              "\n",
              "  <div id=\"df-311c64c1-95ca-4c72-a400-3f2ae7a6806f\">\n",
              "    <div class=\"colab-df-container\">\n",
              "      <div>\n",
              "<style scoped>\n",
              "    .dataframe tbody tr th:only-of-type {\n",
              "        vertical-align: middle;\n",
              "    }\n",
              "\n",
              "    .dataframe tbody tr th {\n",
              "        vertical-align: top;\n",
              "    }\n",
              "\n",
              "    .dataframe thead th {\n",
              "        text-align: right;\n",
              "    }\n",
              "</style>\n",
              "<table border=\"1\" class=\"dataframe\">\n",
              "  <thead>\n",
              "    <tr style=\"text-align: right;\">\n",
              "      <th></th>\n",
              "      <th>index</th>\n",
              "      <th>assetId</th>\n",
              "      <th>suggestedPrice</th>\n",
              "      <th>salePrice</th>\n",
              "      <th>pattern</th>\n",
              "      <th>finish</th>\n",
              "      <th>wear</th>\n",
              "      <th>souvenir</th>\n",
              "      <th>stattrak</th>\n",
              "    </tr>\n",
              "  </thead>\n",
              "  <tbody>\n",
              "    <tr>\n",
              "      <th>count</th>\n",
              "      <td>132822.000000</td>\n",
              "      <td>1.328220e+05</td>\n",
              "      <td>132822.000000</td>\n",
              "      <td>132822.000000</td>\n",
              "      <td>132822.000000</td>\n",
              "      <td>132822.000000</td>\n",
              "      <td>132822.000000</td>\n",
              "      <td>132822.000000</td>\n",
              "      <td>132822.000000</td>\n",
              "    </tr>\n",
              "    <tr>\n",
              "      <th>mean</th>\n",
              "      <td>66580.896501</td>\n",
              "      <td>4.724622e+07</td>\n",
              "      <td>29.443286</td>\n",
              "      <td>34.422234</td>\n",
              "      <td>500.392533</td>\n",
              "      <td>647.262283</td>\n",
              "      <td>0.255292</td>\n",
              "      <td>0.063988</td>\n",
              "      <td>0.099991</td>\n",
              "    </tr>\n",
              "    <tr>\n",
              "      <th>std</th>\n",
              "      <td>38352.754248</td>\n",
              "      <td>1.329716e+07</td>\n",
              "      <td>202.335509</td>\n",
              "      <td>372.976511</td>\n",
              "      <td>288.729975</td>\n",
              "      <td>1106.288792</td>\n",
              "      <td>0.177134</td>\n",
              "      <td>0.244732</td>\n",
              "      <td>0.299989</td>\n",
              "    </tr>\n",
              "    <tr>\n",
              "      <th>min</th>\n",
              "      <td>0.000000</td>\n",
              "      <td>1.240700e+04</td>\n",
              "      <td>0.030000</td>\n",
              "      <td>0.020000</td>\n",
              "      <td>0.000000</td>\n",
              "      <td>2.000000</td>\n",
              "      <td>0.000007</td>\n",
              "      <td>0.000000</td>\n",
              "      <td>0.000000</td>\n",
              "    </tr>\n",
              "    <tr>\n",
              "      <th>25%</th>\n",
              "      <td>33377.250000</td>\n",
              "      <td>3.878514e+07</td>\n",
              "      <td>0.030000</td>\n",
              "      <td>0.030000</td>\n",
              "      <td>250.000000</td>\n",
              "      <td>136.000000</td>\n",
              "      <td>0.125445</td>\n",
              "      <td>0.000000</td>\n",
              "      <td>0.000000</td>\n",
              "    </tr>\n",
              "    <tr>\n",
              "      <th>50%</th>\n",
              "      <td>66583.500000</td>\n",
              "      <td>5.176906e+07</td>\n",
              "      <td>0.100000</td>\n",
              "      <td>0.120000</td>\n",
              "      <td>500.000000</td>\n",
              "      <td>611.000000</td>\n",
              "      <td>0.223606</td>\n",
              "      <td>0.000000</td>\n",
              "      <td>0.000000</td>\n",
              "    </tr>\n",
              "    <tr>\n",
              "      <th>75%</th>\n",
              "      <td>99792.750000</td>\n",
              "      <td>5.838940e+07</td>\n",
              "      <td>1.590000</td>\n",
              "      <td>3.000000</td>\n",
              "      <td>751.000000</td>\n",
              "      <td>841.000000</td>\n",
              "      <td>0.361484</td>\n",
              "      <td>0.000000</td>\n",
              "      <td>0.000000</td>\n",
              "    </tr>\n",
              "    <tr>\n",
              "      <th>max</th>\n",
              "      <td>133004.000000</td>\n",
              "      <td>6.096650e+07</td>\n",
              "      <td>16609.350000</td>\n",
              "      <td>49999.990000</td>\n",
              "      <td>1000.000000</td>\n",
              "      <td>10088.000000</td>\n",
              "      <td>0.999827</td>\n",
              "      <td>1.000000</td>\n",
              "      <td>1.000000</td>\n",
              "    </tr>\n",
              "  </tbody>\n",
              "</table>\n",
              "</div>\n",
              "      <button class=\"colab-df-convert\" onclick=\"convertToInteractive('df-311c64c1-95ca-4c72-a400-3f2ae7a6806f')\"\n",
              "              title=\"Convert this dataframe to an interactive table.\"\n",
              "              style=\"display:none;\">\n",
              "        \n",
              "  <svg xmlns=\"http://www.w3.org/2000/svg\" height=\"24px\"viewBox=\"0 0 24 24\"\n",
              "       width=\"24px\">\n",
              "    <path d=\"M0 0h24v24H0V0z\" fill=\"none\"/>\n",
              "    <path d=\"M18.56 5.44l.94 2.06.94-2.06 2.06-.94-2.06-.94-.94-2.06-.94 2.06-2.06.94zm-11 1L8.5 8.5l.94-2.06 2.06-.94-2.06-.94L8.5 2.5l-.94 2.06-2.06.94zm10 10l.94 2.06.94-2.06 2.06-.94-2.06-.94-.94-2.06-.94 2.06-2.06.94z\"/><path d=\"M17.41 7.96l-1.37-1.37c-.4-.4-.92-.59-1.43-.59-.52 0-1.04.2-1.43.59L10.3 9.45l-7.72 7.72c-.78.78-.78 2.05 0 2.83L4 21.41c.39.39.9.59 1.41.59.51 0 1.02-.2 1.41-.59l7.78-7.78 2.81-2.81c.8-.78.8-2.07 0-2.86zM5.41 20L4 18.59l7.72-7.72 1.47 1.35L5.41 20z\"/>\n",
              "  </svg>\n",
              "      </button>\n",
              "      \n",
              "  <style>\n",
              "    .colab-df-container {\n",
              "      display:flex;\n",
              "      flex-wrap:wrap;\n",
              "      gap: 12px;\n",
              "    }\n",
              "\n",
              "    .colab-df-convert {\n",
              "      background-color: #E8F0FE;\n",
              "      border: none;\n",
              "      border-radius: 50%;\n",
              "      cursor: pointer;\n",
              "      display: none;\n",
              "      fill: #1967D2;\n",
              "      height: 32px;\n",
              "      padding: 0 0 0 0;\n",
              "      width: 32px;\n",
              "    }\n",
              "\n",
              "    .colab-df-convert:hover {\n",
              "      background-color: #E2EBFA;\n",
              "      box-shadow: 0px 1px 2px rgba(60, 64, 67, 0.3), 0px 1px 3px 1px rgba(60, 64, 67, 0.15);\n",
              "      fill: #174EA6;\n",
              "    }\n",
              "\n",
              "    [theme=dark] .colab-df-convert {\n",
              "      background-color: #3B4455;\n",
              "      fill: #D2E3FC;\n",
              "    }\n",
              "\n",
              "    [theme=dark] .colab-df-convert:hover {\n",
              "      background-color: #434B5C;\n",
              "      box-shadow: 0px 1px 3px 1px rgba(0, 0, 0, 0.15);\n",
              "      filter: drop-shadow(0px 1px 2px rgba(0, 0, 0, 0.3));\n",
              "      fill: #FFFFFF;\n",
              "    }\n",
              "  </style>\n",
              "\n",
              "      <script>\n",
              "        const buttonEl =\n",
              "          document.querySelector('#df-311c64c1-95ca-4c72-a400-3f2ae7a6806f button.colab-df-convert');\n",
              "        buttonEl.style.display =\n",
              "          google.colab.kernel.accessAllowed ? 'block' : 'none';\n",
              "\n",
              "        async function convertToInteractive(key) {\n",
              "          const element = document.querySelector('#df-311c64c1-95ca-4c72-a400-3f2ae7a6806f');\n",
              "          const dataTable =\n",
              "            await google.colab.kernel.invokeFunction('convertToInteractive',\n",
              "                                                     [key], {});\n",
              "          if (!dataTable) return;\n",
              "\n",
              "          const docLinkHtml = 'Like what you see? Visit the ' +\n",
              "            '<a target=\"_blank\" href=https://colab.research.google.com/notebooks/data_table.ipynb>data table notebook</a>'\n",
              "            + ' to learn more about interactive tables.';\n",
              "          element.innerHTML = '';\n",
              "          dataTable['output_type'] = 'display_data';\n",
              "          await google.colab.output.renderOutput(dataTable, element);\n",
              "          const docLink = document.createElement('div');\n",
              "          docLink.innerHTML = docLinkHtml;\n",
              "          element.appendChild(docLink);\n",
              "        }\n",
              "      </script>\n",
              "    </div>\n",
              "  </div>\n",
              "  "
            ]
          },
          "metadata": {},
          "execution_count": 28
        }
      ]
    },
    {
      "cell_type": "code",
      "source": [
        "data.category.describe()"
      ],
      "metadata": {
        "colab": {
          "base_uri": "https://localhost:8080/"
        },
        "id": "TyYCxzenGbJ8",
        "outputId": "e04498bd-2154-4395-e3ac-8f90449d6be3"
      },
      "execution_count": null,
      "outputs": [
        {
          "output_type": "execute_result",
          "data": {
            "text/plain": [
              "count     132822\n",
              "unique         6\n",
              "top        Rifle\n",
              "freq       43665\n",
              "Name: category, dtype: object"
            ]
          },
          "metadata": {},
          "execution_count": 29
        }
      ]
    },
    {
      "cell_type": "code",
      "source": [
        "data.category.value_counts()"
      ],
      "metadata": {
        "colab": {
          "base_uri": "https://localhost:8080/"
        },
        "id": "H2uAxSZKGifM",
        "outputId": "ef91be2c-492d-42ec-c02b-e46d125d5f4f"
      },
      "execution_count": null,
      "outputs": [
        {
          "output_type": "execute_result",
          "data": {
            "text/plain": [
              "Rifle     43665\n",
              "Pistol    37346\n",
              "SMG       28128\n",
              "Heavy     17465\n",
              "Knife      4604\n",
              "Gloves     1614\n",
              "Name: category, dtype: int64"
            ]
          },
          "metadata": {},
          "execution_count": 30
        }
      ]
    },
    {
      "cell_type": "code",
      "source": [
        "data.corr()\n",
        "'''Die Untersuchung bivariater Beziehungen ist nützlich, wenn Sie ein Ergebnis oder eine abhängige \n",
        "Variable im Auge haben und die Merkmale sehen möchten, die am stärksten mit der Zunahme oder Abnahme \n",
        "des Ergebnisses korrelieren. Sie können bivariate Beziehungen mit Hilfe von Streudiagrammen visuell \n",
        "darstellen (siehe unten im Abschnitt über die Darstellung).'''"
      ],
      "metadata": {
        "colab": {
          "base_uri": "https://localhost:8080/",
          "height": 300
        },
        "id": "DsENOckUGp3A",
        "outputId": "202c4a6f-d6be-4f74-d39a-c7baec9c68a4"
      },
      "execution_count": null,
      "outputs": [
        {
          "output_type": "execute_result",
          "data": {
            "text/plain": [
              "                 assetId  suggestedPrice  salePrice   pattern    finish  \\\n",
              "assetId         1.000000        0.068925   0.030860  0.002147  0.148031   \n",
              "suggestedPrice  0.068925        1.000000   0.601326 -0.000339  0.139428   \n",
              "salePrice       0.030860        0.601326   1.000000  0.000858  0.075266   \n",
              "pattern         0.002147       -0.000339   0.000858  1.000000 -0.000575   \n",
              "finish          0.148031        0.139428   0.075266 -0.000575  1.000000   \n",
              "wear           -0.133814       -0.092672  -0.059053 -0.000563 -0.007651   \n",
              "souvenir        0.048783       -0.030024  -0.013972  0.002910  0.017888   \n",
              "stattrak        0.145395        0.031478   0.027527 -0.001460  0.009874   \n",
              "\n",
              "                    wear  souvenir  stattrak  \n",
              "assetId        -0.133814  0.048783  0.145395  \n",
              "suggestedPrice -0.092672 -0.030024  0.031478  \n",
              "salePrice      -0.059053 -0.013972  0.027527  \n",
              "pattern        -0.000563  0.002910 -0.001460  \n",
              "finish         -0.007651  0.017888  0.009874  \n",
              "wear            1.000000 -0.079354 -0.021019  \n",
              "souvenir       -0.079354  1.000000 -0.087119  \n",
              "stattrak       -0.021019 -0.087119  1.000000  "
            ],
            "text/html": [
              "\n",
              "  <div id=\"df-4f524835-60c3-4f8d-a600-3b2549dabc99\">\n",
              "    <div class=\"colab-df-container\">\n",
              "      <div>\n",
              "<style scoped>\n",
              "    .dataframe tbody tr th:only-of-type {\n",
              "        vertical-align: middle;\n",
              "    }\n",
              "\n",
              "    .dataframe tbody tr th {\n",
              "        vertical-align: top;\n",
              "    }\n",
              "\n",
              "    .dataframe thead th {\n",
              "        text-align: right;\n",
              "    }\n",
              "</style>\n",
              "<table border=\"1\" class=\"dataframe\">\n",
              "  <thead>\n",
              "    <tr style=\"text-align: right;\">\n",
              "      <th></th>\n",
              "      <th>assetId</th>\n",
              "      <th>suggestedPrice</th>\n",
              "      <th>salePrice</th>\n",
              "      <th>pattern</th>\n",
              "      <th>finish</th>\n",
              "      <th>wear</th>\n",
              "      <th>souvenir</th>\n",
              "      <th>stattrak</th>\n",
              "    </tr>\n",
              "  </thead>\n",
              "  <tbody>\n",
              "    <tr>\n",
              "      <th>assetId</th>\n",
              "      <td>1.000000</td>\n",
              "      <td>0.068925</td>\n",
              "      <td>0.030860</td>\n",
              "      <td>0.002147</td>\n",
              "      <td>0.148031</td>\n",
              "      <td>-0.133814</td>\n",
              "      <td>0.048783</td>\n",
              "      <td>0.145395</td>\n",
              "    </tr>\n",
              "    <tr>\n",
              "      <th>suggestedPrice</th>\n",
              "      <td>0.068925</td>\n",
              "      <td>1.000000</td>\n",
              "      <td>0.601326</td>\n",
              "      <td>-0.000339</td>\n",
              "      <td>0.139428</td>\n",
              "      <td>-0.092672</td>\n",
              "      <td>-0.030024</td>\n",
              "      <td>0.031478</td>\n",
              "    </tr>\n",
              "    <tr>\n",
              "      <th>salePrice</th>\n",
              "      <td>0.030860</td>\n",
              "      <td>0.601326</td>\n",
              "      <td>1.000000</td>\n",
              "      <td>0.000858</td>\n",
              "      <td>0.075266</td>\n",
              "      <td>-0.059053</td>\n",
              "      <td>-0.013972</td>\n",
              "      <td>0.027527</td>\n",
              "    </tr>\n",
              "    <tr>\n",
              "      <th>pattern</th>\n",
              "      <td>0.002147</td>\n",
              "      <td>-0.000339</td>\n",
              "      <td>0.000858</td>\n",
              "      <td>1.000000</td>\n",
              "      <td>-0.000575</td>\n",
              "      <td>-0.000563</td>\n",
              "      <td>0.002910</td>\n",
              "      <td>-0.001460</td>\n",
              "    </tr>\n",
              "    <tr>\n",
              "      <th>finish</th>\n",
              "      <td>0.148031</td>\n",
              "      <td>0.139428</td>\n",
              "      <td>0.075266</td>\n",
              "      <td>-0.000575</td>\n",
              "      <td>1.000000</td>\n",
              "      <td>-0.007651</td>\n",
              "      <td>0.017888</td>\n",
              "      <td>0.009874</td>\n",
              "    </tr>\n",
              "    <tr>\n",
              "      <th>wear</th>\n",
              "      <td>-0.133814</td>\n",
              "      <td>-0.092672</td>\n",
              "      <td>-0.059053</td>\n",
              "      <td>-0.000563</td>\n",
              "      <td>-0.007651</td>\n",
              "      <td>1.000000</td>\n",
              "      <td>-0.079354</td>\n",
              "      <td>-0.021019</td>\n",
              "    </tr>\n",
              "    <tr>\n",
              "      <th>souvenir</th>\n",
              "      <td>0.048783</td>\n",
              "      <td>-0.030024</td>\n",
              "      <td>-0.013972</td>\n",
              "      <td>0.002910</td>\n",
              "      <td>0.017888</td>\n",
              "      <td>-0.079354</td>\n",
              "      <td>1.000000</td>\n",
              "      <td>-0.087119</td>\n",
              "    </tr>\n",
              "    <tr>\n",
              "      <th>stattrak</th>\n",
              "      <td>0.145395</td>\n",
              "      <td>0.031478</td>\n",
              "      <td>0.027527</td>\n",
              "      <td>-0.001460</td>\n",
              "      <td>0.009874</td>\n",
              "      <td>-0.021019</td>\n",
              "      <td>-0.087119</td>\n",
              "      <td>1.000000</td>\n",
              "    </tr>\n",
              "  </tbody>\n",
              "</table>\n",
              "</div>\n",
              "      <button class=\"colab-df-convert\" onclick=\"convertToInteractive('df-4f524835-60c3-4f8d-a600-3b2549dabc99')\"\n",
              "              title=\"Convert this dataframe to an interactive table.\"\n",
              "              style=\"display:none;\">\n",
              "        \n",
              "  <svg xmlns=\"http://www.w3.org/2000/svg\" height=\"24px\"viewBox=\"0 0 24 24\"\n",
              "       width=\"24px\">\n",
              "    <path d=\"M0 0h24v24H0V0z\" fill=\"none\"/>\n",
              "    <path d=\"M18.56 5.44l.94 2.06.94-2.06 2.06-.94-2.06-.94-.94-2.06-.94 2.06-2.06.94zm-11 1L8.5 8.5l.94-2.06 2.06-.94-2.06-.94L8.5 2.5l-.94 2.06-2.06.94zm10 10l.94 2.06.94-2.06 2.06-.94-2.06-.94-.94-2.06-.94 2.06-2.06.94z\"/><path d=\"M17.41 7.96l-1.37-1.37c-.4-.4-.92-.59-1.43-.59-.52 0-1.04.2-1.43.59L10.3 9.45l-7.72 7.72c-.78.78-.78 2.05 0 2.83L4 21.41c.39.39.9.59 1.41.59.51 0 1.02-.2 1.41-.59l7.78-7.78 2.81-2.81c.8-.78.8-2.07 0-2.86zM5.41 20L4 18.59l7.72-7.72 1.47 1.35L5.41 20z\"/>\n",
              "  </svg>\n",
              "      </button>\n",
              "      \n",
              "  <style>\n",
              "    .colab-df-container {\n",
              "      display:flex;\n",
              "      flex-wrap:wrap;\n",
              "      gap: 12px;\n",
              "    }\n",
              "\n",
              "    .colab-df-convert {\n",
              "      background-color: #E8F0FE;\n",
              "      border: none;\n",
              "      border-radius: 50%;\n",
              "      cursor: pointer;\n",
              "      display: none;\n",
              "      fill: #1967D2;\n",
              "      height: 32px;\n",
              "      padding: 0 0 0 0;\n",
              "      width: 32px;\n",
              "    }\n",
              "\n",
              "    .colab-df-convert:hover {\n",
              "      background-color: #E2EBFA;\n",
              "      box-shadow: 0px 1px 2px rgba(60, 64, 67, 0.3), 0px 1px 3px 1px rgba(60, 64, 67, 0.15);\n",
              "      fill: #174EA6;\n",
              "    }\n",
              "\n",
              "    [theme=dark] .colab-df-convert {\n",
              "      background-color: #3B4455;\n",
              "      fill: #D2E3FC;\n",
              "    }\n",
              "\n",
              "    [theme=dark] .colab-df-convert:hover {\n",
              "      background-color: #434B5C;\n",
              "      box-shadow: 0px 1px 3px 1px rgba(0, 0, 0, 0.15);\n",
              "      filter: drop-shadow(0px 1px 2px rgba(0, 0, 0, 0.3));\n",
              "      fill: #FFFFFF;\n",
              "    }\n",
              "  </style>\n",
              "\n",
              "      <script>\n",
              "        const buttonEl =\n",
              "          document.querySelector('#df-4f524835-60c3-4f8d-a600-3b2549dabc99 button.colab-df-convert');\n",
              "        buttonEl.style.display =\n",
              "          google.colab.kernel.accessAllowed ? 'block' : 'none';\n",
              "\n",
              "        async function convertToInteractive(key) {\n",
              "          const element = document.querySelector('#df-4f524835-60c3-4f8d-a600-3b2549dabc99');\n",
              "          const dataTable =\n",
              "            await google.colab.kernel.invokeFunction('convertToInteractive',\n",
              "                                                     [key], {});\n",
              "          if (!dataTable) return;\n",
              "\n",
              "          const docLinkHtml = 'Like what you see? Visit the ' +\n",
              "            '<a target=\"_blank\" href=https://colab.research.google.com/notebooks/data_table.ipynb>data table notebook</a>'\n",
              "            + ' to learn more about interactive tables.';\n",
              "          element.innerHTML = '';\n",
              "          dataTable['output_type'] = 'display_data';\n",
              "          await google.colab.output.renderOutput(dataTable, element);\n",
              "          const docLink = document.createElement('div');\n",
              "          docLink.innerHTML = docLinkHtml;\n",
              "          element.appendChild(docLink);\n",
              "        }\n",
              "      </script>\n",
              "    </div>\n",
              "  </div>\n",
              "  "
            ]
          },
          "metadata": {},
          "execution_count": 27
        }
      ]
    },
    {
      "cell_type": "code",
      "source": [
        "data.groupby('category')['salePrice'].median()"
      ],
      "metadata": {
        "colab": {
          "base_uri": "https://localhost:8080/"
        },
        "id": "VPopQybLIBqb",
        "outputId": "d7e9164b-23ff-4761-b3d6-dba64b1474b2"
      },
      "execution_count": null,
      "outputs": [
        {
          "output_type": "execute_result",
          "data": {
            "text/plain": [
              "category\n",
              "Gloves    161.915\n",
              "Heavy       0.040\n",
              "Knife     235.000\n",
              "Pistol      0.220\n",
              "Rifle       0.350\n",
              "SMG         0.040\n",
              "Name: salePrice, dtype: float64"
            ]
          },
          "metadata": {},
          "execution_count": 32
        }
      ]
    },
    {
      "cell_type": "markdown",
      "source": [
        "#Ausprobiertes"
      ],
      "metadata": {
        "id": "I_S1x6qjuPYz"
      }
    },
    {
      "cell_type": "markdown",
      "source": [
        "###Bilder"
      ],
      "metadata": {
        "id": "FRTOwP4FB9VX"
      }
    },
    {
      "cell_type": "code",
      "source": [
        "url = \"https://cdn.skinport.com/images/screenshots/55026078/playside_256x128.png\""
      ],
      "metadata": {
        "id": "U8SFxOrSX08U"
      },
      "execution_count": null,
      "outputs": []
    },
    {
      "cell_type": "code",
      "source": [
        "im = Image.open(requests.get(url, stream=True).raw)"
      ],
      "metadata": {
        "id": "d4xc2D54X36-"
      },
      "execution_count": null,
      "outputs": []
    },
    {
      "cell_type": "code",
      "source": [
        "rgb_image"
      ],
      "metadata": {
        "colab": {
          "base_uri": "https://localhost:8080/",
          "height": 145
        },
        "id": "Y2RXbF3KYLw5",
        "outputId": "0e3f7d4f-2f73-4025-9944-498c7353e2a9"
      },
      "execution_count": null,
      "outputs": [
        {
          "output_type": "execute_result",
          "data": {
            "text/plain": [
              "<PIL.Image.Image image mode=RGB size=256x128 at 0x7F70B7AC2650>"
            ],
            "image/png": "[encoded data removed]"
          },
          "metadata": {},
          "execution_count": 126
        }
      ]
    },
    {
      "cell_type": "markdown",
      "source": [
        "###Sortierung"
      ],
      "metadata": {
        "id": "Z_mCPjGcB-1g"
      }
    },
    {
      "cell_type": "code",
      "source": [
        "data.groupby('version')['salePrice'].median().sort_values(ascending=False)"
      ],
      "metadata": {
        "colab": {
          "base_uri": "https://localhost:8080/"
        },
        "id": "_kz2iHoeCAoG",
        "outputId": "ecf0b23c-929c-4514-8dc8-ae4bb6517c6c"
      },
      "execution_count": null,
      "outputs": [
        {
          "output_type": "execute_result",
          "data": {
            "text/plain": [
              "version\n",
              "Max Fake       2089.490\n",
              "FFI            1295.890\n",
              "Sapphire       1125.200\n",
              "Ruby            988.305\n",
              "Rank 4          787.425\n",
              "Black Pearl     707.825\n",
              "2nd Max         613.225\n",
              "Tier 1          274.995\n",
              "Emerald         193.000\n",
              "5th Max         164.750\n",
              "4th Max         162.500\n",
              "Phase 3         161.930\n",
              "Phase 1         155.250\n",
              "3rd Max         155.000\n",
              "6th Max         145.000\n",
              "Phase 4         143.380\n",
              "7th Max         138.000\n",
              "Phase 2         114.990\n",
              "Tier 2           85.435\n",
              "default           0.110\n",
              "Name: salePrice, dtype: float64"
            ]
          },
          "metadata": {},
          "execution_count": 34
        }
      ]
    },
    {
      "cell_type": "code",
      "source": [
        "data.columns"
      ],
      "metadata": {
        "colab": {
          "base_uri": "https://localhost:8080/"
        },
        "id": "H1vfOH0jCBOt",
        "outputId": "f7f99a69-1daa-4477-839d-78c930b69e6f"
      },
      "execution_count": null,
      "outputs": [
        {
          "output_type": "execute_result",
          "data": {
            "text/plain": [
              "Index(['index', 'assetId', 'family', 'color', 'lock', 'version', 'versionType',\n",
              "       'suggestedPrice', 'salePrice', 'category', 'subCategory', 'pattern',\n",
              "       'finish', 'wear', 'type', 'exterior', 'quality', 'rarity',\n",
              "       'rarityColor', 'collection', 'stickers', 'souvenir', 'stattrak',\n",
              "       'colorfulness'],\n",
              "      dtype='object')"
            ]
          },
          "metadata": {},
          "execution_count": 35
        }
      ]
    },
    {
      "cell_type": "code",
      "source": [
        "data.groupby('category')['salePrice'].mean().sort_values(ascending=False)"
      ],
      "metadata": {
        "colab": {
          "base_uri": "https://localhost:8080/"
        },
        "id": "p5qhxQrOCDOd",
        "outputId": "687a3a4b-40e2-4f43-f680-836b5e1f9695"
      },
      "execution_count": null,
      "outputs": [
        {
          "output_type": "execute_result",
          "data": {
            "text/plain": [
              "category\n",
              "Knife     405.147018\n",
              "Gloves    321.788625\n",
              "Rifle      35.712259\n",
              "Pistol     13.483098\n",
              "SMG         2.969100\n",
              "Heavy       2.343877\n",
              "Name: salePrice, dtype: float64"
            ]
          },
          "metadata": {},
          "execution_count": 41
        }
      ]
    },
    {
      "cell_type": "code",
      "source": [
        "data.groupby('color')['salePrice'].mean().sort_values(ascending=False)\n",
        "# diese farbe ist am teuersten"
      ],
      "metadata": {
        "colab": {
          "base_uri": "https://localhost:8080/"
        },
        "id": "IkEDAQ9RCGlc",
        "outputId": "095812e0-905e-4e02-cfd9-3d3b8ee640a4"
      },
      "execution_count": null,
      "outputs": [
        {
          "output_type": "execute_result",
          "data": {
            "text/plain": [
              "color\n",
              "#8650AC    383.509764\n",
              "#CF6A32     41.549811\n",
              "#FFD700     14.806967\n",
              "#D2D2D2     14.577709\n",
              "Name: salePrice, dtype: float64"
            ]
          },
          "metadata": {},
          "execution_count": 42
        }
      ]
    },
    {
      "cell_type": "code",
      "source": [
        "data.groupby('color')['salePrice'].count().sort_values(ascending=False)\n",
        "# und am seltensten"
      ],
      "metadata": {
        "colab": {
          "base_uri": "https://localhost:8080/"
        },
        "id": "UvCaEI3GCRGm",
        "outputId": "88e975df-e1c8-409f-a671-02ac164a96a9"
      },
      "execution_count": null,
      "outputs": [
        {
          "output_type": "execute_result",
          "data": {
            "text/plain": [
              "color\n",
              "#D2D2D2    105506\n",
              "#CF6A32     12599\n",
              "#FFD700      8499\n",
              "#8650AC      6218\n",
              "Name: salePrice, dtype: int64"
            ]
          },
          "metadata": {},
          "execution_count": 38
        }
      ]
    },
    {
      "cell_type": "code",
      "source": [
        "data.groupby('lock')['salePrice'].mean().sort_values(ascending=False)\n",
        "# locked items sind teurer?"
      ],
      "metadata": {
        "colab": {
          "base_uri": "https://localhost:8080/"
        },
        "id": "RPTidwVCCLbH",
        "outputId": "171d9514-257e-4aa1-c7d5-5c929e26dbf4"
      },
      "execution_count": null,
      "outputs": [
        {
          "output_type": "execute_result",
          "data": {
            "text/plain": [
              "lock\n",
              "1    56.873882\n",
              "0    28.074106\n",
              "Name: salePrice, dtype: float64"
            ]
          },
          "metadata": {},
          "execution_count": 46
        }
      ]
    },
    {
      "cell_type": "code",
      "source": [
        "data.groupby('subCategory')['salePrice'].mean().sort_values(ascending=False)"
      ],
      "metadata": {
        "colab": {
          "base_uri": "https://localhost:8080/"
        },
        "id": "uLqblp9cClGT",
        "outputId": "82afe84a-0146-4bc1-fa25-cc2e7f5c4082"
      },
      "execution_count": null,
      "outputs": [
        {
          "output_type": "execute_result",
          "data": {
            "text/plain": [
              "subCategory\n",
              "Butterfly Knife    1096.501444\n",
              "Karambit            828.503555\n",
              "Sport Gloves        791.677727\n",
              "M9 Bayonet          621.245828\n",
              "Talon Knife         595.457357\n",
              "                      ...     \n",
              "Sawed-Off             0.837919\n",
              "Nova                  0.822243\n",
              "R8 Revolver           0.801825\n",
              "PP-Bizon              0.573822\n",
              "G3SG1                 0.474684\n",
              "Name: salePrice, Length: 61, dtype: float64"
            ]
          },
          "metadata": {},
          "execution_count": 49
        }
      ]
    },
    {
      "cell_type": "code",
      "source": [
        "data.groupby('pattern')['salePrice'].mean().sort_values(ascending=False)"
      ],
      "metadata": {
        "colab": {
          "base_uri": "https://localhost:8080/"
        },
        "id": "4TFVcuoZDZ8G",
        "outputId": "6dfa0547-9f85-46a5-9e3d-f841e16cf118"
      },
      "execution_count": null,
      "outputs": [
        {
          "output_type": "execute_result",
          "data": {
            "text/plain": [
              "pattern\n",
              "848    447.954444\n",
              "655    442.093714\n",
              "76     415.011774\n",
              "598    369.194593\n",
              "320    338.482479\n",
              "          ...    \n",
              "342      7.662985\n",
              "438      7.625492\n",
              "334      7.149063\n",
              "604      7.120833\n",
              "780      5.992667\n",
              "Name: salePrice, Length: 1001, dtype: float64"
            ]
          },
          "metadata": {},
          "execution_count": 54
        }
      ]
    },
    {
      "cell_type": "code",
      "source": [
        "data.groupby('finish')['salePrice'].mean().sort_values(ascending=False)"
      ],
      "metadata": {
        "colab": {
          "base_uri": "https://localhost:8080/"
        },
        "id": "om8T7eG-DmRr",
        "outputId": "80704d4e-01c7-4d5d-b3f9-955d8436719f"
      },
      "execution_count": null,
      "outputs": [
        {
          "output_type": "execute_result",
          "data": {
            "text/plain": [
              "finish\n",
              "309    8797.286500\n",
              "756    8245.200000\n",
              "724    5397.286667\n",
              "344    5069.183750\n",
              "619    3121.148000\n",
              "          ...     \n",
              "148       0.048695\n",
              "107       0.045000\n",
              "242       0.034181\n",
              "753       0.033190\n",
              "245       0.025324\n",
              "Name: salePrice, Length: 1082, dtype: float64"
            ]
          },
          "metadata": {},
          "execution_count": 55
        }
      ]
    },
    {
      "cell_type": "code",
      "source": [
        "data.groupby('wear')['salePrice'].mean().sort_values(ascending=False)"
      ],
      "metadata": {
        "colab": {
          "base_uri": "https://localhost:8080/"
        },
        "id": "U9P_YYYiDy6P",
        "outputId": "10d50325-4bcb-46df-fcb7-3156100dd474"
      },
      "execution_count": null,
      "outputs": [
        {
          "output_type": "execute_result",
          "data": {
            "text/plain": [
              "wear\n",
              "0.073958    49999.99\n",
              "0.033475    49560.28\n",
              "0.017549    46505.17\n",
              "0.391709    37880.51\n",
              "0.110181    30000.00\n",
              "              ...   \n",
              "0.168360        0.02\n",
              "0.215616        0.02\n",
              "0.168362        0.02\n",
              "0.340327        0.02\n",
              "0.240867        0.02\n",
              "Name: salePrice, Length: 132514, dtype: float64"
            ]
          },
          "metadata": {},
          "execution_count": 56
        }
      ]
    },
    {
      "cell_type": "code",
      "source": [
        "data.groupby('exterior')['salePrice'].mean().sort_values(ascending=False)"
      ],
      "metadata": {
        "colab": {
          "base_uri": "https://localhost:8080/"
        },
        "id": "oauf9h0JD0m-",
        "outputId": "fbcef8e4-7bc4-4d04-f060-38c1025a229d"
      },
      "execution_count": null,
      "outputs": [
        {
          "output_type": "execute_result",
          "data": {
            "text/plain": [
              "exterior\n",
              "Factory New       110.359053\n",
              "Minimal Wear       41.337280\n",
              "Field-Tested       15.985946\n",
              "Well-Worn          15.813042\n",
              "Battle-Scarred     13.567481\n",
              "Name: salePrice, dtype: float64"
            ]
          },
          "metadata": {},
          "execution_count": 57
        }
      ]
    },
    {
      "cell_type": "code",
      "source": [
        "data.groupby('quality')['salePrice'].mean().sort_values(ascending=False)"
      ],
      "metadata": {
        "colab": {
          "base_uri": "https://localhost:8080/"
        },
        "id": "PGY7-iu8D716",
        "outputId": "17d78309-2a7d-44a2-c0a5-c443b3013237"
      },
      "execution_count": null,
      "outputs": [
        {
          "output_type": "execute_result",
          "data": {
            "text/plain": [
              "quality\n",
              "★ StatTrak™    492.520220\n",
              "★              370.080368\n",
              "StatTrak™       41.549811\n",
              "Souvenir        14.806967\n",
              "Normal          14.577709\n",
              "Name: salePrice, dtype: float64"
            ]
          },
          "metadata": {},
          "execution_count": 58
        }
      ]
    },
    {
      "cell_type": "code",
      "source": [
        "data.groupby('rarity')['salePrice'].mean().sort_values(ascending=False)"
      ],
      "metadata": {
        "colab": {
          "base_uri": "https://localhost:8080/"
        },
        "id": "Ch7NrStxEARN",
        "outputId": "efb6ca6a-2e72-4df3-92c3-34fe1909d9b3"
      },
      "execution_count": null,
      "outputs": [
        {
          "output_type": "execute_result",
          "data": {
            "text/plain": [
              "rarity\n",
              "Extraordinary       321.788625\n",
              "Covert              236.128163\n",
              "Classified           70.973676\n",
              "Restricted           18.799357\n",
              "Mil-Spec Grade        4.204628\n",
              "Industrial Grade      3.847828\n",
              "Consumer Grade        0.931931\n",
              "Name: salePrice, dtype: float64"
            ]
          },
          "metadata": {},
          "execution_count": 59
        }
      ]
    },
    {
      "cell_type": "code",
      "source": [
        "data.groupby('collection')['salePrice'].mean().sort_values(ascending=False)"
      ],
      "metadata": {
        "colab": {
          "base_uri": "https://localhost:8080/"
        },
        "id": "PhQZ3KGgECbq",
        "outputId": "6c877b28-a10e-429a-96c6-738bf95b1e73"
      },
      "execution_count": null,
      "outputs": [
        {
          "output_type": "execute_result",
          "data": {
            "text/plain": [
              "collection\n",
              "The Assault Collection        653.222895\n",
              "The Arms Deal Collection      463.896024\n",
              "No Collection                 425.054862\n",
              "The Bravo Collection          346.157920\n",
              "The Cobblestone Collection    308.122428\n",
              "                                 ...    \n",
              "The 2018 Nuke Collection        0.506119\n",
              "The Italy Collection            0.445951\n",
              "The Blacksite Collection        0.387745\n",
              "The Train Collection            0.383269\n",
              "The Bank Collection             0.370072\n",
              "Name: salePrice, Length: 75, dtype: float64"
            ]
          },
          "metadata": {},
          "execution_count": 63
        }
      ]
    },
    {
      "cell_type": "code",
      "source": [
        "data.groupby('stickers')['salePrice'].mean().sort_values(ascending=False)"
      ],
      "metadata": {
        "colab": {
          "base_uri": "https://localhost:8080/"
        },
        "id": "pCRHlBoLELV0",
        "outputId": "16545507-b6af-43c8-ce37-40c01cc671ff"
      },
      "execution_count": null,
      "outputs": [
        {
          "output_type": "execute_result",
          "data": {
            "text/plain": [
              "stickers\n",
              "1    56.167214\n",
              "0    29.677878\n",
              "Name: salePrice, dtype: float64"
            ]
          },
          "metadata": {},
          "execution_count": 64
        }
      ]
    },
    {
      "cell_type": "code",
      "source": [
        "data.groupby('souvenir')['salePrice'].mean().sort_values(ascending=False)"
      ],
      "metadata": {
        "colab": {
          "base_uri": "https://localhost:8080/"
        },
        "id": "p_q6cirdEftL",
        "outputId": "85627596-ff47-459d-98bd-60a9e7e57ba6"
      },
      "execution_count": null,
      "outputs": [
        {
          "output_type": "execute_result",
          "data": {
            "text/plain": [
              "souvenir\n",
              "0    35.763178\n",
              "1    14.806967\n",
              "Name: salePrice, dtype: float64"
            ]
          },
          "metadata": {},
          "execution_count": 67
        }
      ]
    },
    {
      "cell_type": "code",
      "source": [
        "data.groupby('colorfulness')['salePrice'].mean().sort_values(ascending=False)"
      ],
      "metadata": {
        "colab": {
          "base_uri": "https://localhost:8080/"
        },
        "id": "9FHXYB_0EhA5",
        "outputId": "b97b4283-5170-498f-f055-819767ac47bf"
      },
      "execution_count": null,
      "outputs": [
        {
          "output_type": "execute_result",
          "data": {
            "text/plain": [
              "colorfulness\n",
              "25.851920    49999.99\n",
              "48.083679    49560.28\n",
              "43.392093    46505.17\n",
              "28.512152    37880.51\n",
              "25.731520    31795.72\n",
              "               ...   \n",
              "12.868505        0.02\n",
              "12.870043        0.02\n",
              "12.870278        0.02\n",
              "12.871776        0.02\n",
              "11.842466        0.02\n",
              "Name: salePrice, Length: 132820, dtype: float64"
            ]
          },
          "metadata": {},
          "execution_count": 71
        }
      ]
    },
    {
      "cell_type": "code",
      "source": [
        "data.groupby('stattrak')['salePrice'].mean().sort_values(ascending=False).plot(legend=True)"
      ],
      "metadata": {
        "colab": {
          "base_uri": "https://localhost:8080/",
          "height": 546
        },
        "id": "MZXbe4pTErE1",
        "outputId": "a6bbc46c-6712-44a0-bc46-961f7d51c23a"
      },
      "execution_count": null,
      "outputs": [
        {
          "output_type": "execute_result",
          "data": {
            "text/plain": [
              "<matplotlib.axes._subplots.AxesSubplot at 0x7fe751e20150>"
            ]
          },
          "metadata": {},
          "execution_count": 127
        },
        {
          "output_type": "display_data",
          "data": {
            "text/plain": [
              "<Figure size 864x612 with 1 Axes>"
            ],
            "image/png": "[encoded data removed]"
          },
          "metadata": {}
        }
      ]
    },
    {
      "cell_type": "code",
      "source": [
        "data.groupby('cats_colorfulness')['salePrice'].median().sort_values(ascending=False)#.plot(legend=True)"
      ],
      "metadata": {
        "colab": {
          "base_uri": "https://localhost:8080/"
        },
        "id": "TyiqGqZJEtw6",
        "outputId": "947f8272-d260-4ea3-c0fb-293683dc29f0"
      },
      "execution_count": null,
      "outputs": [
        {
          "output_type": "execute_result",
          "data": {
            "text/plain": [
              "cats_colorfulness\n",
              "extemely colorful      13.47\n",
              "quite colorful          9.49\n",
              "highly colorful         9.03\n",
              "averagely colorful      5.93\n",
              "moderately colorful     1.20\n",
              "slightly colorful       0.04\n",
              "Name: salePrice, dtype: float64"
            ]
          },
          "metadata": {},
          "execution_count": 129
        }
      ]
    },
    {
      "cell_type": "code",
      "source": [
        ""
      ],
      "metadata": {
        "id": "VJ-86LH9La3W"
      },
      "execution_count": null,
      "outputs": []
    }
  ]
}
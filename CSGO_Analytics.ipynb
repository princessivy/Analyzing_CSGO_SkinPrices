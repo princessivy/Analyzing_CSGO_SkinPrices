{
  "nbformat": 4,
  "nbformat_minor": 0,
  "metadata": {
    "colab": {
      "name": "CSGO_Analytics.ipynb",
      "provenance": [],
      "collapsed_sections": [],
      "mount_file_id": "1G6HqfuHyG6dx6wCuWIYE-6pI64xCmaqW",
      "authorship_tag": "ABX9TyNYuKOGXTgq6uu1Kr6fmFQ5",
      "include_colab_link": true
    },
    "kernelspec": {
      "name": "python3",
      "display_name": "Python 3"
    },
    "language_info": {
      "name": "python"
    }
  },
  "cells": [
    {
      "cell_type": "markdown",
      "metadata": {
        "id": "view-in-github",
        "colab_type": "text"
      },
      "source": [
        "<a href=\"https://colab.research.google.com/github/princessivy/Analyzing_CSGO_SkinPrices/blob/main/CSGO_Analytics.ipynb\" target=\"_parent\"><img src=\"https://colab.research.google.com/assets/colab-badge.svg\" alt=\"Open In Colab\"/></a>"
      ]
    },
    {
      "cell_type": "markdown",
      "source": [
        "#Imports"
      ],
      "metadata": {
        "id": "e3Wp-ca8A9sa"
      }
    },
    {
      "cell_type": "code",
      "execution_count": 1,
      "metadata": {
        "id": "3Oe4ZWnF_N0h"
      },
      "outputs": [],
      "source": [
        "import pandas as pd\n",
        "import requests\n",
        "import json\n",
        "\n",
        "from google.colab import drive\n",
        "from pathlib import Path\n",
        "\n",
        "from PIL import Image\n",
        "import requests\n",
        "import cv2\n",
        "import numpy as np"
      ]
    },
    {
      "cell_type": "markdown",
      "source": [
        "#Daten einlesen"
      ],
      "metadata": {
        "id": "OEFbJhpaBA65"
      }
    },
    {
      "cell_type": "code",
      "source": [
        "data = pd.read_csv(r'/content/drive/MyDrive/SA_BA/Data/allitems.csv')"
      ],
      "metadata": {
        "colab": {
          "base_uri": "https://localhost:8080/"
        },
        "id": "QYsCiHzrBT3f",
        "outputId": "be2282f5-5459-43c1-f779-96e54c1ce1bc"
      },
      "execution_count": 2,
      "outputs": [
        {
          "output_type": "stream",
          "name": "stderr",
          "text": [
            "/usr/local/lib/python3.7/dist-packages/IPython/core/interactiveshell.py:2882: DtypeWarning: Columns (35) have mixed types.Specify dtype option on import or set low_memory=False.\n",
            "  exec(code_obj, self.user_global_ns, self.user_ns)\n"
          ]
        }
      ]
    },
    {
      "cell_type": "markdown",
      "source": [
        "#Beschreibung der Features\n",
        "Der rohe Datensatz enthält die folgenden Features:"
      ],
      "metadata": {
        "id": "CEF4xJEsXYOu"
      }
    },
    {
      "cell_type": "code",
      "source": [
        "data.columns"
      ],
      "metadata": {
        "colab": {
          "base_uri": "https://localhost:8080/"
        },
        "id": "bXSPClrTB7A_",
        "outputId": "efce0f94-1096-4a8e-aef6-4219cab536c1"
      },
      "execution_count": 3,
      "outputs": [
        {
          "output_type": "execute_result",
          "data": {
            "text/plain": [
              "Index(['id', 'saleId', 'productId', 'assetId', 'itemId', 'appid', 'steamid',\n",
              "       'url', 'family', 'family_localized', 'name', 'title', 'text',\n",
              "       'marketName', 'marketHashName', 'color', 'bgColor', 'image', 'classid',\n",
              "       'assetid', 'lock', 'version', 'versionType', 'stackAble',\n",
              "       'suggestedPrice', 'salePrice', 'currency', 'saleStatus', 'saleType',\n",
              "       'category', 'category_localized', 'subCategory',\n",
              "       'subCategory_localized', 'pattern', 'finish', 'customName', 'wear',\n",
              "       'link', 'type', 'exterior', 'quality', 'rarity', 'rarity_localized',\n",
              "       'rarityColor', 'collection', 'collection_localized', 'stickers',\n",
              "       'canHaveScreenshots', 'screenshots', 'souvenir', 'stattrak', 'tags',\n",
              "       'ownItem'],\n",
              "      dtype='object')"
            ]
          },
          "metadata": {},
          "execution_count": 3
        }
      ]
    },
    {
      "cell_type": "markdown",
      "source": [
        "Folgende Tabelle erklärt die Bedeutung der einzelnen Features:\n",
        "\n",
        "Feature | Bedeutung\n",
        "--- | ---\n",
        "id | wurde nicht herausgefunden, ist stetig '0'\n",
        "saleId | eindeutige Verkaufs-ID\n",
        "productId | eindeutige Produkt-ID\n",
        "assetId | eindeutige Asset-ID\n",
        "itemId| itemspezifische ID\n",
        "appid | Zuordnung zur Applikation CS:GO, ist stetig '730'\n",
        "steamid | KP??\n",
        "url | spezifischer Bestandteil der gesamten URL für das Item\n",
        "family | zugehörige Familie des Items (Unterunterkategorie)\n",
        "family_localized | wie 'family' nur übersetzt in Sprache der Abfrage (hier: weiterhin englisch)\n",
        "name | Anzeigename auf Skinport\n",
        "title | angezeigte Unterkategorie zu jedem Item\n",
        "text | kurze Beschreibung zum Item\n",
        "marketName | Zusammensetzung aus 'title' und 'name'\n",
        "marketHashName | wurde nicht herausgefunden, ähnlich zu 'marketName'\n",
        "color | 4 Farben?! :D\n",
        "bgColor | Wert nicht gepflegt, durchgehend 'NaN'\n",
        "image | mit Ergänzung \"https://steamcommunity-a.akamaihd.net/economy/image/\" vor dem Wert, gelangt man an ein standardisiertes Cover-Bild des Items\n",
        "classid | wurde nicht herausgefunden\n",
        "assetid | weitere eindeutige Asset-ID\n",
        "lock | Zeigt, ab wann Item zum Spieleinsatz freigegeben ist ('NaN' bedeutet, dass ein direkter Einsatz möglich ist)\n",
        "version | verschiedene Doppler-Phasen von CS:GO\n",
        "versionType | Zuordnung der 'version's in übergeordnete Kategorie\n",
        "stackAble | wurde nicht herausgefunden, ist stetig 'False'\n",
        "suggestedPrice | Wertvorschlag des Preises von Skinport\n",
        "salePrice | Kaufpreis des Items\n",
        "currency | Währung, ist stetig 'EUR'\n",
        "saleStatus | gibt an, ob Item verkaufbar ist; ist stetig 'listed' und somit verkaufbar\n",
        "saleType | gibt an, wer einen Kauf machen kann; ist stetig 'public' und somit für alle zugänglich\n",
        "category | Überkategorie\n",
        "category_localized | wie 'category' nur übersetzt in Sprache der Abfrage (hier: weiterhin englisch)\n",
        "subCategory | Unterkategorie\n",
        "subCategory_localized | wie 'subCategory' nur übersetzt in Sprache der Abfrage (hier: weiterhin englisch)\n",
        "pattern | Musternummer des Items (zwischen 1 und 1000)\n",
        "finish | Finish des Items\n",
        "customName | Name des Items, von einem Besitzer hinzugefügt\n",
        "wear | Abnutzung (zwischen 0 und 1)\n",
        "link | wurde nicht herausgefunden\n",
        "type | Typ des Items\n",
        "exterior | Kategorie der Abnutzung, je nach 'wear'\n",
        "quality | Kategorie der Qualität\n",
        "rarity | Kategorie der Rarität\n",
        "rarity_localized | wie 'rarity' nur übersetzt in Sprache der Abfrage (hier: weiterhin englisch)\n",
        "rarityColor | Farbkategorie der Rarität\n",
        "collection | Kollektion \n",
        "collection_localized | wie 'collection' nur übersetzt in Sprache der Abfrage (hier: weiterhin englisch)\n",
        "stickers | Array mit Stickern, welche sich auf dem Item befinden\n",
        "canHaveScreenshots | gibt an, ob Screenshots zum Item existieren; ist stetig 'True'\n",
        "screenshots | gibt an, welche Screenshots zum Item existieren\n",
        "souvenir | gibt an, ob das Item ein Souvenir ist oder nicht\n",
        "stattrak | gibt an, ob das Item Stattrak-Eigenschaft hat oder nicht\n",
        "tags | angegebene Tags auf Skinport\n",
        "ownItem | gibt an, ob das Item unter Besitz steht; ist stetig 'False'\n",
        "\n"
      ],
      "metadata": {
        "id": "OytiQs5NX1B0"
      }
    },
    {
      "cell_type": "markdown",
      "source": [
        "Nun werden einige Features entfernt, die unbrauchbar sind. Nähere Erläuterung in Kapitel X der Seminararbeit.\n",
        "(wenn immer nur gleicher Wert, können die auch weg, weil Varianz gleich;; wenn alle unterschiedlich sind, bringt das auch nix)"
      ],
      "metadata": {
        "id": "BYZ00yshuRza"
      }
    },
    {
      "cell_type": "code",
      "source": [
        "data = data.drop(['id', 'saleId', 'productId', 'itemId', 'appid', 'steamid', 'url', 'family_localized', 'name', 'title', 'text', 'marketName', 'marketHashName', 'bgColor',\n",
        "                  'image', 'classid', 'assetid', 'stackAble', 'currency', 'saleStatus', 'saleType', 'category_localized', 'subCategory_localized',\n",
        "                  'customName', 'link', 'rarity_localized', 'collection_localized', 'canHaveScreenshots', 'screenshots', 'tags', 'ownItem'], 1)"
      ],
      "metadata": {
        "colab": {
          "base_uri": "https://localhost:8080/"
        },
        "id": "iRabrRcYuSOm",
        "outputId": "d6360027-cbf9-4ccf-dd01-1674daf2d2cf"
      },
      "execution_count": 6,
      "outputs": [
        {
          "output_type": "stream",
          "name": "stderr",
          "text": [
            "/usr/local/lib/python3.7/dist-packages/ipykernel_launcher.py:3: FutureWarning: In a future version of pandas all arguments of DataFrame.drop except for the argument 'labels' will be keyword-only\n",
            "  This is separate from the ipykernel package so we can avoid doing imports until\n"
          ]
        }
      ]
    },
    {
      "cell_type": "code",
      "source": [
        "data.columns"
      ],
      "metadata": {
        "colab": {
          "base_uri": "https://localhost:8080/"
        },
        "id": "ozSDnlPkxQZ-",
        "outputId": "696e291a-9878-458f-cd29-e40ce6835abb"
      },
      "execution_count": 7,
      "outputs": [
        {
          "output_type": "execute_result",
          "data": {
            "text/plain": [
              "Index(['assetId', 'family', 'color', 'lock', 'version', 'versionType',\n",
              "       'suggestedPrice', 'salePrice', 'category', 'subCategory', 'pattern',\n",
              "       'finish', 'wear', 'type', 'exterior', 'quality', 'rarity',\n",
              "       'rarityColor', 'collection', 'stickers', 'souvenir', 'stattrak'],\n",
              "      dtype='object')"
            ]
          },
          "metadata": {},
          "execution_count": 7
        }
      ]
    },
    {
      "cell_type": "code",
      "source": [
        "len(data.columns)"
      ],
      "metadata": {
        "colab": {
          "base_uri": "https://localhost:8080/"
        },
        "id": "09DdZLlc1Kfc",
        "outputId": "f18a43bc-b26e-402a-97cc-1240d4b81f28"
      },
      "execution_count": 8,
      "outputs": [
        {
          "output_type": "execute_result",
          "data": {
            "text/plain": [
              "22"
            ]
          },
          "metadata": {},
          "execution_count": 8
        }
      ]
    },
    {
      "cell_type": "markdown",
      "source": [
        "#Explorative Datenanalyse\n",
        "Eindruck über die Daten:"
      ],
      "metadata": {
        "id": "kEaPdYJX6nM6"
      }
    },
    {
      "cell_type": "code",
      "source": [
        "data.head()"
      ],
      "metadata": {
        "colab": {
          "base_uri": "https://localhost:8080/",
          "height": 421
        },
        "id": "z_ryZ40l6zWE",
        "outputId": "55a073cd-b2dc-4148-828f-08a622cfc76a"
      },
      "execution_count": 20,
      "outputs": [
        {
          "output_type": "execute_result",
          "data": {
            "text/plain": [
              "    assetId       family    color                      lock  version  \\\n",
              "0  46917102  Tiger Tooth  #8650AC                       NaN  default   \n",
              "1  60753316  Tiger Tooth  #8650AC  2022-04-02T07:00:00.000Z  default   \n",
              "2  55716802  Tiger Tooth  #8650AC                       NaN  default   \n",
              "3  43496004  Tiger Tooth  #8650AC                       NaN  default   \n",
              "4  60829717  Tiger Tooth  #8650AC  2022-04-03T07:00:00.000Z  default   \n",
              "\n",
              "  versionType  suggestedPrice  salePrice category subCategory  ...      wear  \\\n",
              "0     default           39721      39913    Knife     Bayonet  ...  0.033243   \n",
              "1     default           44203      36244    Knife     Bayonet  ...  0.025035   \n",
              "2     default           39721      40000    Knife     Bayonet  ...  0.006977   \n",
              "3     default           39721      42073    Knife     Bayonet  ...  0.006662   \n",
              "4     default           39721      35500    Knife     Bayonet  ...  0.062841   \n",
              "\n",
              "                       type     exterior      quality  rarity rarityColor  \\\n",
              "0            ★ Covert Knife  Factory New            ★  Covert     #eb4b4b   \n",
              "1  ★ StatTrak™ Covert Knife  Factory New  ★ StatTrak™  Covert     #eb4b4b   \n",
              "2            ★ Covert Knife  Factory New            ★  Covert     #eb4b4b   \n",
              "3            ★ Covert Knife  Factory New            ★  Covert     #eb4b4b   \n",
              "4            ★ Covert Knife  Factory New            ★  Covert     #eb4b4b   \n",
              "\n",
              "  collection stickers souvenir stattrak  \n",
              "0        NaN       []    False    False  \n",
              "1        NaN       []    False     True  \n",
              "2        NaN       []    False    False  \n",
              "3        NaN       []    False    False  \n",
              "4        NaN       []    False    False  \n",
              "\n",
              "[5 rows x 22 columns]"
            ],
            "text/html": [
              "\n",
              "  <div id=\"df-02a164e5-8045-4081-8aa7-089806bf7656\">\n",
              "    <div class=\"colab-df-container\">\n",
              "      <div>\n",
              "<style scoped>\n",
              "    .dataframe tbody tr th:only-of-type {\n",
              "        vertical-align: middle;\n",
              "    }\n",
              "\n",
              "    .dataframe tbody tr th {\n",
              "        vertical-align: top;\n",
              "    }\n",
              "\n",
              "    .dataframe thead th {\n",
              "        text-align: right;\n",
              "    }\n",
              "</style>\n",
              "<table border=\"1\" class=\"dataframe\">\n",
              "  <thead>\n",
              "    <tr style=\"text-align: right;\">\n",
              "      <th></th>\n",
              "      <th>assetId</th>\n",
              "      <th>family</th>\n",
              "      <th>color</th>\n",
              "      <th>lock</th>\n",
              "      <th>version</th>\n",
              "      <th>versionType</th>\n",
              "      <th>suggestedPrice</th>\n",
              "      <th>salePrice</th>\n",
              "      <th>category</th>\n",
              "      <th>subCategory</th>\n",
              "      <th>...</th>\n",
              "      <th>wear</th>\n",
              "      <th>type</th>\n",
              "      <th>exterior</th>\n",
              "      <th>quality</th>\n",
              "      <th>rarity</th>\n",
              "      <th>rarityColor</th>\n",
              "      <th>collection</th>\n",
              "      <th>stickers</th>\n",
              "      <th>souvenir</th>\n",
              "      <th>stattrak</th>\n",
              "    </tr>\n",
              "  </thead>\n",
              "  <tbody>\n",
              "    <tr>\n",
              "      <th>0</th>\n",
              "      <td>46917102</td>\n",
              "      <td>Tiger Tooth</td>\n",
              "      <td>#8650AC</td>\n",
              "      <td>NaN</td>\n",
              "      <td>default</td>\n",
              "      <td>default</td>\n",
              "      <td>39721</td>\n",
              "      <td>39913</td>\n",
              "      <td>Knife</td>\n",
              "      <td>Bayonet</td>\n",
              "      <td>...</td>\n",
              "      <td>0.033243</td>\n",
              "      <td>★ Covert Knife</td>\n",
              "      <td>Factory New</td>\n",
              "      <td>★</td>\n",
              "      <td>Covert</td>\n",
              "      <td>#eb4b4b</td>\n",
              "      <td>NaN</td>\n",
              "      <td>[]</td>\n",
              "      <td>False</td>\n",
              "      <td>False</td>\n",
              "    </tr>\n",
              "    <tr>\n",
              "      <th>1</th>\n",
              "      <td>60753316</td>\n",
              "      <td>Tiger Tooth</td>\n",
              "      <td>#8650AC</td>\n",
              "      <td>2022-04-02T07:00:00.000Z</td>\n",
              "      <td>default</td>\n",
              "      <td>default</td>\n",
              "      <td>44203</td>\n",
              "      <td>36244</td>\n",
              "      <td>Knife</td>\n",
              "      <td>Bayonet</td>\n",
              "      <td>...</td>\n",
              "      <td>0.025035</td>\n",
              "      <td>★ StatTrak™ Covert Knife</td>\n",
              "      <td>Factory New</td>\n",
              "      <td>★ StatTrak™</td>\n",
              "      <td>Covert</td>\n",
              "      <td>#eb4b4b</td>\n",
              "      <td>NaN</td>\n",
              "      <td>[]</td>\n",
              "      <td>False</td>\n",
              "      <td>True</td>\n",
              "    </tr>\n",
              "    <tr>\n",
              "      <th>2</th>\n",
              "      <td>55716802</td>\n",
              "      <td>Tiger Tooth</td>\n",
              "      <td>#8650AC</td>\n",
              "      <td>NaN</td>\n",
              "      <td>default</td>\n",
              "      <td>default</td>\n",
              "      <td>39721</td>\n",
              "      <td>40000</td>\n",
              "      <td>Knife</td>\n",
              "      <td>Bayonet</td>\n",
              "      <td>...</td>\n",
              "      <td>0.006977</td>\n",
              "      <td>★ Covert Knife</td>\n",
              "      <td>Factory New</td>\n",
              "      <td>★</td>\n",
              "      <td>Covert</td>\n",
              "      <td>#eb4b4b</td>\n",
              "      <td>NaN</td>\n",
              "      <td>[]</td>\n",
              "      <td>False</td>\n",
              "      <td>False</td>\n",
              "    </tr>\n",
              "    <tr>\n",
              "      <th>3</th>\n",
              "      <td>43496004</td>\n",
              "      <td>Tiger Tooth</td>\n",
              "      <td>#8650AC</td>\n",
              "      <td>NaN</td>\n",
              "      <td>default</td>\n",
              "      <td>default</td>\n",
              "      <td>39721</td>\n",
              "      <td>42073</td>\n",
              "      <td>Knife</td>\n",
              "      <td>Bayonet</td>\n",
              "      <td>...</td>\n",
              "      <td>0.006662</td>\n",
              "      <td>★ Covert Knife</td>\n",
              "      <td>Factory New</td>\n",
              "      <td>★</td>\n",
              "      <td>Covert</td>\n",
              "      <td>#eb4b4b</td>\n",
              "      <td>NaN</td>\n",
              "      <td>[]</td>\n",
              "      <td>False</td>\n",
              "      <td>False</td>\n",
              "    </tr>\n",
              "    <tr>\n",
              "      <th>4</th>\n",
              "      <td>60829717</td>\n",
              "      <td>Tiger Tooth</td>\n",
              "      <td>#8650AC</td>\n",
              "      <td>2022-04-03T07:00:00.000Z</td>\n",
              "      <td>default</td>\n",
              "      <td>default</td>\n",
              "      <td>39721</td>\n",
              "      <td>35500</td>\n",
              "      <td>Knife</td>\n",
              "      <td>Bayonet</td>\n",
              "      <td>...</td>\n",
              "      <td>0.062841</td>\n",
              "      <td>★ Covert Knife</td>\n",
              "      <td>Factory New</td>\n",
              "      <td>★</td>\n",
              "      <td>Covert</td>\n",
              "      <td>#eb4b4b</td>\n",
              "      <td>NaN</td>\n",
              "      <td>[]</td>\n",
              "      <td>False</td>\n",
              "      <td>False</td>\n",
              "    </tr>\n",
              "  </tbody>\n",
              "</table>\n",
              "<p>5 rows × 22 columns</p>\n",
              "</div>\n",
              "      <button class=\"colab-df-convert\" onclick=\"convertToInteractive('df-02a164e5-8045-4081-8aa7-089806bf7656')\"\n",
              "              title=\"Convert this dataframe to an interactive table.\"\n",
              "              style=\"display:none;\">\n",
              "        \n",
              "  <svg xmlns=\"http://www.w3.org/2000/svg\" height=\"24px\"viewBox=\"0 0 24 24\"\n",
              "       width=\"24px\">\n",
              "    <path d=\"M0 0h24v24H0V0z\" fill=\"none\"/>\n",
              "    <path d=\"M18.56 5.44l.94 2.06.94-2.06 2.06-.94-2.06-.94-.94-2.06-.94 2.06-2.06.94zm-11 1L8.5 8.5l.94-2.06 2.06-.94-2.06-.94L8.5 2.5l-.94 2.06-2.06.94zm10 10l.94 2.06.94-2.06 2.06-.94-2.06-.94-.94-2.06-.94 2.06-2.06.94z\"/><path d=\"M17.41 7.96l-1.37-1.37c-.4-.4-.92-.59-1.43-.59-.52 0-1.04.2-1.43.59L10.3 9.45l-7.72 7.72c-.78.78-.78 2.05 0 2.83L4 21.41c.39.39.9.59 1.41.59.51 0 1.02-.2 1.41-.59l7.78-7.78 2.81-2.81c.8-.78.8-2.07 0-2.86zM5.41 20L4 18.59l7.72-7.72 1.47 1.35L5.41 20z\"/>\n",
              "  </svg>\n",
              "      </button>\n",
              "      \n",
              "  <style>\n",
              "    .colab-df-container {\n",
              "      display:flex;\n",
              "      flex-wrap:wrap;\n",
              "      gap: 12px;\n",
              "    }\n",
              "\n",
              "    .colab-df-convert {\n",
              "      background-color: #E8F0FE;\n",
              "      border: none;\n",
              "      border-radius: 50%;\n",
              "      cursor: pointer;\n",
              "      display: none;\n",
              "      fill: #1967D2;\n",
              "      height: 32px;\n",
              "      padding: 0 0 0 0;\n",
              "      width: 32px;\n",
              "    }\n",
              "\n",
              "    .colab-df-convert:hover {\n",
              "      background-color: #E2EBFA;\n",
              "      box-shadow: 0px 1px 2px rgba(60, 64, 67, 0.3), 0px 1px 3px 1px rgba(60, 64, 67, 0.15);\n",
              "      fill: #174EA6;\n",
              "    }\n",
              "\n",
              "    [theme=dark] .colab-df-convert {\n",
              "      background-color: #3B4455;\n",
              "      fill: #D2E3FC;\n",
              "    }\n",
              "\n",
              "    [theme=dark] .colab-df-convert:hover {\n",
              "      background-color: #434B5C;\n",
              "      box-shadow: 0px 1px 3px 1px rgba(0, 0, 0, 0.15);\n",
              "      filter: drop-shadow(0px 1px 2px rgba(0, 0, 0, 0.3));\n",
              "      fill: #FFFFFF;\n",
              "    }\n",
              "  </style>\n",
              "\n",
              "      <script>\n",
              "        const buttonEl =\n",
              "          document.querySelector('#df-02a164e5-8045-4081-8aa7-089806bf7656 button.colab-df-convert');\n",
              "        buttonEl.style.display =\n",
              "          google.colab.kernel.accessAllowed ? 'block' : 'none';\n",
              "\n",
              "        async function convertToInteractive(key) {\n",
              "          const element = document.querySelector('#df-02a164e5-8045-4081-8aa7-089806bf7656');\n",
              "          const dataTable =\n",
              "            await google.colab.kernel.invokeFunction('convertToInteractive',\n",
              "                                                     [key], {});\n",
              "          if (!dataTable) return;\n",
              "\n",
              "          const docLinkHtml = 'Like what you see? Visit the ' +\n",
              "            '<a target=\"_blank\" href=https://colab.research.google.com/notebooks/data_table.ipynb>data table notebook</a>'\n",
              "            + ' to learn more about interactive tables.';\n",
              "          element.innerHTML = '';\n",
              "          dataTable['output_type'] = 'display_data';\n",
              "          await google.colab.output.renderOutput(dataTable, element);\n",
              "          const docLink = document.createElement('div');\n",
              "          docLink.innerHTML = docLinkHtml;\n",
              "          element.appendChild(docLink);\n",
              "        }\n",
              "      </script>\n",
              "    </div>\n",
              "  </div>\n",
              "  "
            ]
          },
          "metadata": {},
          "execution_count": 20
        }
      ]
    },
    {
      "cell_type": "markdown",
      "source": [
        "Datentypen angucken. Wichtige Unterscheidung zwischen numerischen und kategorialen Features:"
      ],
      "metadata": {
        "id": "UnoDkO7tY9CP"
      }
    },
    {
      "cell_type": "code",
      "source": [
        "data.dtypes"
      ],
      "metadata": {
        "colab": {
          "base_uri": "https://localhost:8080/"
        },
        "id": "TJPvfSfjI4et",
        "outputId": "c8e2bc1c-304f-4131-f9f8-b387c6e5a08d"
      },
      "execution_count": 37,
      "outputs": [
        {
          "output_type": "execute_result",
          "data": {
            "text/plain": [
              "assetId             int64\n",
              "family             object\n",
              "color              object\n",
              "lock               object\n",
              "version            object\n",
              "versionType        object\n",
              "suggestedPrice      int64\n",
              "salePrice           int64\n",
              "category           object\n",
              "subCategory        object\n",
              "pattern           float64\n",
              "finish            float64\n",
              "wear              float64\n",
              "type               object\n",
              "exterior           object\n",
              "quality            object\n",
              "rarity             object\n",
              "rarityColor        object\n",
              "collection         object\n",
              "stickers           object\n",
              "souvenir             bool\n",
              "stattrak             bool\n",
              "dtype: object"
            ]
          },
          "metadata": {},
          "execution_count": 37
        }
      ]
    },
    {
      "cell_type": "markdown",
      "source": [
        "Numerisch:\n",
        "- assetId\n",
        "- suggestedPrice\n",
        "- salePrice\n",
        "- pattern\n",
        "- finish\n",
        "- wear\n",
        "\n",
        "Kategorisch:\n",
        "- family\n",
        "- color\n",
        "- lock\n",
        "- version\n",
        "- versionType\n",
        "- category\n",
        "- subCategory\n",
        "- type\n",
        "- exterior\n",
        "- quality\n",
        "- rarity\n",
        "- rarityColor\n",
        "- collection\n",
        "- stickers\n",
        "- souvenir\n",
        "- stattrak\n"
      ],
      "metadata": {
        "id": "-sTuD2EzZGTe"
      }
    },
    {
      "cell_type": "markdown",
      "source": [
        "####Missing-Values"
      ],
      "metadata": {
        "id": "OTPkS8-lb0YG"
      }
    },
    {
      "cell_type": "code",
      "source": [
        "data.info()"
      ],
      "metadata": {
        "colab": {
          "base_uri": "https://localhost:8080/"
        },
        "id": "c9SQE3ZCb3r-",
        "outputId": "364cbb5c-b27a-4df5-b30a-8df21b14ef5f"
      },
      "execution_count": 89,
      "outputs": [
        {
          "output_type": "stream",
          "name": "stdout",
          "text": [
            "<class 'pandas.core.frame.DataFrame'>\n",
            "RangeIndex: 133005 entries, 0 to 133004\n",
            "Data columns (total 22 columns):\n",
            " #   Column          Non-Null Count   Dtype  \n",
            "---  ------          --------------   -----  \n",
            " 0   assetId         133005 non-null  int64  \n",
            " 1   family          133005 non-null  object \n",
            " 2   color           133005 non-null  object \n",
            " 3   lock            29404 non-null   object \n",
            " 4   version         133005 non-null  object \n",
            " 5   versionType     133005 non-null  object \n",
            " 6   suggestedPrice  133005 non-null  float64\n",
            " 7   salePrice       133005 non-null  float64\n",
            " 8   category        133005 non-null  object \n",
            " 9   subCategory     133005 non-null  object \n",
            " 10  pattern         132989 non-null  float64\n",
            " 11  finish          132838 non-null  float64\n",
            " 12  wear            133005 non-null  float64\n",
            " 13  type            133005 non-null  object \n",
            " 14  exterior        133005 non-null  object \n",
            " 15  quality         133005 non-null  object \n",
            " 16  rarity          133005 non-null  object \n",
            " 17  rarityColor     133005 non-null  object \n",
            " 18  collection      128325 non-null  object \n",
            " 19  stickers        133005 non-null  object \n",
            " 20  souvenir        133005 non-null  bool   \n",
            " 21  stattrak        133005 non-null  bool   \n",
            "dtypes: bool(2), float64(5), int64(1), object(14)\n",
            "memory usage: 20.5+ MB\n"
          ]
        }
      ]
    },
    {
      "cell_type": "code",
      "source": [
        "data.shape"
      ],
      "metadata": {
        "colab": {
          "base_uri": "https://localhost:8080/"
        },
        "id": "_-xJGoJVcd0f",
        "outputId": "a5c9e4b2-097b-4f38-e0ee-7fac1e0125a6"
      },
      "execution_count": 90,
      "outputs": [
        {
          "output_type": "execute_result",
          "data": {
            "text/plain": [
              "(133005, 22)"
            ]
          },
          "metadata": {},
          "execution_count": 90
        }
      ]
    },
    {
      "cell_type": "code",
      "source": [
        "data = data.drop_duplicates()"
      ],
      "metadata": {
        "id": "fmjTQGlScHW_"
      },
      "execution_count": 91,
      "outputs": []
    },
    {
      "cell_type": "code",
      "source": [
        "data.shape #es gibt keine Duplikate"
      ],
      "metadata": {
        "colab": {
          "base_uri": "https://localhost:8080/"
        },
        "id": "p9GJRKbycg6C",
        "outputId": "c010ab70-47ea-46e6-d682-55074726ae1e"
      },
      "execution_count": 92,
      "outputs": [
        {
          "output_type": "execute_result",
          "data": {
            "text/plain": [
              "(133005, 22)"
            ]
          },
          "metadata": {},
          "execution_count": 92
        }
      ]
    },
    {
      "cell_type": "code",
      "source": [
        "data.isnull().sum()"
      ],
      "metadata": {
        "colab": {
          "base_uri": "https://localhost:8080/"
        },
        "id": "4gqVxvcOcH7d",
        "outputId": "88a82a3f-b976-4771-c464-5299f2650e14"
      },
      "execution_count": 93,
      "outputs": [
        {
          "output_type": "execute_result",
          "data": {
            "text/plain": [
              "assetId                0\n",
              "family                 0\n",
              "color                  0\n",
              "lock              103601\n",
              "version                0\n",
              "versionType            0\n",
              "suggestedPrice         0\n",
              "salePrice              0\n",
              "category               0\n",
              "subCategory            0\n",
              "pattern               16\n",
              "finish               167\n",
              "wear                   0\n",
              "type                   0\n",
              "exterior               0\n",
              "quality                0\n",
              "rarity                 0\n",
              "rarityColor            0\n",
              "collection          4680\n",
              "stickers               0\n",
              "souvenir               0\n",
              "stattrak               0\n",
              "dtype: int64"
            ]
          },
          "metadata": {},
          "execution_count": 93
        }
      ]
    },
    {
      "cell_type": "markdown",
      "source": [
        "In den Features *lock, pattern, finish* und *collection* finden sich Null-Werte. Diese werden nun behandelt. "
      ],
      "metadata": {
        "id": "ZdDRhjrxc3dq"
      }
    },
    {
      "cell_type": "markdown",
      "source": [
        "**lock** Bei *lock* geht es darum, ob die Items nach dem Kauf direkt zum Spiel einsetzbar sind: Ja oder Nein. Ein 'NaN' steht in diesem Fall für \"ja\"(1), eine Zeitangabe für \"nein\"(0). Entsprechend entsteht hieraus ein Boolean."
      ],
      "metadata": {
        "id": "rNJuT_2tdOuI"
      }
    },
    {
      "cell_type": "code",
      "source": [
        "for x in range(len(data)):\n",
        "  try:\n",
        "    if np.isnan(data.lock[x]):\n",
        "      data.lock[x] = 0\n",
        "  except:\n",
        "    data.lock[x] = 1"
      ],
      "metadata": {
        "colab": {
          "base_uri": "https://localhost:8080/"
        },
        "id": "MJG1SllydL7g",
        "outputId": "3ec0fcc8-c9c4-4904-c031-5c40792bec4d"
      },
      "execution_count": 124,
      "outputs": [
        {
          "output_type": "stream",
          "name": "stderr",
          "text": [
            "/usr/local/lib/python3.7/dist-packages/ipykernel_launcher.py:6: SettingWithCopyWarning: \n",
            "A value is trying to be set on a copy of a slice from a DataFrame\n",
            "\n",
            "See the caveats in the documentation: https://pandas.pydata.org/pandas-docs/stable/user_guide/indexing.html#returning-a-view-versus-a-copy\n",
            "  \n",
            "/usr/local/lib/python3.7/dist-packages/ipykernel_launcher.py:4: SettingWithCopyWarning: \n",
            "A value is trying to be set on a copy of a slice from a DataFrame\n",
            "\n",
            "See the caveats in the documentation: https://pandas.pydata.org/pandas-docs/stable/user_guide/indexing.html#returning-a-view-versus-a-copy\n",
            "  after removing the cwd from sys.path.\n"
          ]
        }
      ]
    },
    {
      "cell_type": "markdown",
      "source": [
        "**pattern** Die fehlenden Werte lassen sich hier nicht einfach durch Binärisierung oder Imputation lösen. Solche Annahmen über das Pattern würden die Daten eher verfälschen. Da es sich bei den 16 fehlenden Werten um einen Anteil von 0,012% handelt, werden diese hiermit aus dem Datensatz entfernt."
      ],
      "metadata": {
        "id": "yNijr5Zqh0BL"
      }
    },
    {
      "cell_type": "code",
      "source": [
        "data.shape"
      ],
      "metadata": {
        "colab": {
          "base_uri": "https://localhost:8080/"
        },
        "id": "8aXU_scoi_l5",
        "outputId": "3fa68cbd-e029-4f14-9910-e89082e97739"
      },
      "execution_count": 138,
      "outputs": [
        {
          "output_type": "execute_result",
          "data": {
            "text/plain": [
              "(133005, 22)"
            ]
          },
          "metadata": {},
          "execution_count": 138
        }
      ]
    },
    {
      "cell_type": "code",
      "source": [
        "data = data[data['pattern'].notna()]"
      ],
      "metadata": {
        "id": "47OmTmRgi6tw"
      },
      "execution_count": 139,
      "outputs": []
    },
    {
      "cell_type": "code",
      "source": [
        "data.shape"
      ],
      "metadata": {
        "colab": {
          "base_uri": "https://localhost:8080/"
        },
        "id": "qeCFTrz0jC2-",
        "outputId": "3290813f-eed9-41ae-8b2e-83b382186bc2"
      },
      "execution_count": 140,
      "outputs": [
        {
          "output_type": "execute_result",
          "data": {
            "text/plain": [
              "(132989, 22)"
            ]
          },
          "metadata": {},
          "execution_count": 140
        }
      ]
    },
    {
      "cell_type": "markdown",
      "source": [
        "**finish** Selbes Vorgehen wie bei *pattern*. Der Anteil, gemessen an der neuen Datenbasis, liegt bei 0,126%."
      ],
      "metadata": {
        "id": "F6iuDJ5uj45l"
      }
    },
    {
      "cell_type": "code",
      "source": [
        "data = data[data['finish'].notna()]"
      ],
      "metadata": {
        "id": "92ks8p8OcZ4H"
      },
      "execution_count": 141,
      "outputs": []
    },
    {
      "cell_type": "code",
      "source": [
        "data.shape"
      ],
      "metadata": {
        "colab": {
          "base_uri": "https://localhost:8080/"
        },
        "id": "HezCH6VGlBgs",
        "outputId": "cb3929e1-6d3d-4e1f-aab3-847899887c03"
      },
      "execution_count": 142,
      "outputs": [
        {
          "output_type": "execute_result",
          "data": {
            "text/plain": [
              "(132822, 22)"
            ]
          },
          "metadata": {},
          "execution_count": 142
        }
      ]
    },
    {
      "cell_type": "code",
      "source": [
        "#Index wieder richten\n",
        "data = data.reset_index()"
      ],
      "metadata": {
        "id": "juVTZcATEWOJ"
      },
      "execution_count": 184,
      "outputs": []
    },
    {
      "cell_type": "markdown",
      "source": [
        "**collection** Die Items, die keiner Kollektion zugeordnet sind, werden zur Kollektion \"No Collection\" umbenannt und bilden somit eine weitere Kategorie."
      ],
      "metadata": {
        "id": "KfacBQ8Vlegu"
      }
    },
    {
      "cell_type": "code",
      "source": [
        " data['collection'] = data['collection'].fillna(\"No Collection\")"
      ],
      "metadata": {
        "id": "y1wqgdbUCjoR"
      },
      "execution_count": 170,
      "outputs": []
    },
    {
      "cell_type": "markdown",
      "source": [
        "####Datentypenanpassung\n",
        "*suggestedPrice* und *salePrice* sollten float's sein. Die Trennung zwischen Euros und Cents fehlt. Diese Variablen werden durch 100 geteilt, um dies zu lösen"
      ],
      "metadata": {
        "id": "xMxxZMK3bw8z"
      }
    },
    {
      "cell_type": "code",
      "source": [
        "data['salePrice'] = data['salePrice']/100\n",
        "data['suggestedPrice'] = data['suggestedPrice']/100"
      ],
      "metadata": {
        "id": "Zd-RpWieZ9fJ"
      },
      "execution_count": 80,
      "outputs": []
    },
    {
      "cell_type": "markdown",
      "source": [
        "*pattern* liegt zwischen 1 und 1000. Dabei handelt es sich nicht um einen float-Wert. Dieser Wert wird auf int gecastet."
      ],
      "metadata": {
        "id": "7_oR_RM3anGe"
      }
    },
    {
      "cell_type": "code",
      "source": [
        "data = data.astype({\"pattern\": int})"
      ],
      "metadata": {
        "id": "JV5SnO0ZaFkx"
      },
      "execution_count": 175,
      "outputs": []
    },
    {
      "cell_type": "markdown",
      "source": [
        "*finish* ist ebenso ein float, welcher eigentlich einem int enstpricht. Deshalb Casting."
      ],
      "metadata": {
        "id": "SlrW6pnUFE64"
      }
    },
    {
      "cell_type": "code",
      "source": [
        "data = data.astype({\"finish\": int})"
      ],
      "metadata": {
        "id": "TBV2TR5bFL5e"
      },
      "execution_count": 197,
      "outputs": []
    },
    {
      "cell_type": "markdown",
      "source": [
        "Um das Feature *stickers* richtig zu verarbeiten, wird dieses zu einer boolschen Variable umgeschrieben. Sticker: Ja(1) oder Nein(0)."
      ],
      "metadata": {
        "id": "h5TuHhALGLd2"
      }
    },
    {
      "cell_type": "code",
      "source": [
        "for x in range(len(data)):\n",
        "  if data.stickers[x] == '[]':\n",
        "    data.stickers[x] = 0\n",
        "  else:\n",
        "    data.stickers[x] = 1"
      ],
      "metadata": {
        "colab": {
          "base_uri": "https://localhost:8080/"
        },
        "id": "G2A8a02PGqSy",
        "outputId": "691b470d-4358-4e60-ec8a-e9d609a6bb09"
      },
      "execution_count": 227,
      "outputs": [
        {
          "output_type": "stream",
          "name": "stderr",
          "text": [
            "/usr/local/lib/python3.7/dist-packages/ipykernel_launcher.py:3: SettingWithCopyWarning: \n",
            "A value is trying to be set on a copy of a slice from a DataFrame\n",
            "\n",
            "See the caveats in the documentation: https://pandas.pydata.org/pandas-docs/stable/user_guide/indexing.html#returning-a-view-versus-a-copy\n",
            "  This is separate from the ipykernel package so we can avoid doing imports until\n",
            "/usr/local/lib/python3.7/dist-packages/ipykernel_launcher.py:5: SettingWithCopyWarning: \n",
            "A value is trying to be set on a copy of a slice from a DataFrame\n",
            "\n",
            "See the caveats in the documentation: https://pandas.pydata.org/pandas-docs/stable/user_guide/indexing.html#returning-a-view-versus-a-copy\n",
            "  \"\"\"\n"
          ]
        }
      ]
    },
    {
      "cell_type": "markdown",
      "source": [
        "*souvenir* steht aktuell auf \"True\" oder \"False\". Hier wird eine Umformung in 0 und 1 vorgenommen. Das selbe gilt für *stattrak*."
      ],
      "metadata": {
        "id": "TIXNJA0APBxA"
      }
    },
    {
      "cell_type": "code",
      "source": [
        "#souvenir\n",
        "data[\"souvenir\"] = data[\"souvenir\"].astype(int)\n",
        "\n",
        "#stattrak\n",
        "data[\"stattrak\"] = data[\"stattrak\"].astype(int)"
      ],
      "metadata": {
        "id": "Yq9fGJ54DZNB"
      },
      "execution_count": 238,
      "outputs": []
    },
    {
      "cell_type": "markdown",
      "source": [
        "####Aktuelle Übersicht der Daten"
      ],
      "metadata": {
        "id": "neYC2xmxQlP8"
      }
    },
    {
      "cell_type": "code",
      "source": [
        "data.describe()"
      ],
      "metadata": {
        "colab": {
          "base_uri": "https://localhost:8080/",
          "height": 300
        },
        "id": "X3TCMakLQmyI",
        "outputId": "85a30415-710c-4411-cb35-5408b07f767b"
      },
      "execution_count": 243,
      "outputs": [
        {
          "output_type": "execute_result",
          "data": {
            "text/plain": [
              "               index       assetId  suggestedPrice      salePrice  \\\n",
              "count  132822.000000  1.328220e+05   132822.000000  132822.000000   \n",
              "mean    66580.896501  4.724622e+07       29.443286      34.422234   \n",
              "std     38352.754248  1.329716e+07      202.335509     372.976511   \n",
              "min         0.000000  1.240700e+04        0.030000       0.020000   \n",
              "25%     33377.250000  3.878514e+07        0.030000       0.030000   \n",
              "50%     66583.500000  5.176906e+07        0.100000       0.120000   \n",
              "75%     99792.750000  5.838940e+07        1.590000       3.000000   \n",
              "max    133004.000000  6.096650e+07    16609.350000   49999.990000   \n",
              "\n",
              "             pattern         finish           wear       souvenir  \\\n",
              "count  132822.000000  132822.000000  132822.000000  132822.000000   \n",
              "mean      500.392533     647.262283       0.255292       0.063988   \n",
              "std       288.729975    1106.288792       0.177134       0.244732   \n",
              "min         0.000000       2.000000       0.000007       0.000000   \n",
              "25%       250.000000     136.000000       0.125445       0.000000   \n",
              "50%       500.000000     611.000000       0.223606       0.000000   \n",
              "75%       751.000000     841.000000       0.361484       0.000000   \n",
              "max      1000.000000   10088.000000       0.999827       1.000000   \n",
              "\n",
              "            stattrak  \n",
              "count  132822.000000  \n",
              "mean        0.099991  \n",
              "std         0.299989  \n",
              "min         0.000000  \n",
              "25%         0.000000  \n",
              "50%         0.000000  \n",
              "75%         0.000000  \n",
              "max         1.000000  "
            ],
            "text/html": [
              "\n",
              "  <div id=\"df-76b3f12c-dc95-466e-8c8a-bf4e7d131618\">\n",
              "    <div class=\"colab-df-container\">\n",
              "      <div>\n",
              "<style scoped>\n",
              "    .dataframe tbody tr th:only-of-type {\n",
              "        vertical-align: middle;\n",
              "    }\n",
              "\n",
              "    .dataframe tbody tr th {\n",
              "        vertical-align: top;\n",
              "    }\n",
              "\n",
              "    .dataframe thead th {\n",
              "        text-align: right;\n",
              "    }\n",
              "</style>\n",
              "<table border=\"1\" class=\"dataframe\">\n",
              "  <thead>\n",
              "    <tr style=\"text-align: right;\">\n",
              "      <th></th>\n",
              "      <th>index</th>\n",
              "      <th>assetId</th>\n",
              "      <th>suggestedPrice</th>\n",
              "      <th>salePrice</th>\n",
              "      <th>pattern</th>\n",
              "      <th>finish</th>\n",
              "      <th>wear</th>\n",
              "      <th>souvenir</th>\n",
              "      <th>stattrak</th>\n",
              "    </tr>\n",
              "  </thead>\n",
              "  <tbody>\n",
              "    <tr>\n",
              "      <th>count</th>\n",
              "      <td>132822.000000</td>\n",
              "      <td>1.328220e+05</td>\n",
              "      <td>132822.000000</td>\n",
              "      <td>132822.000000</td>\n",
              "      <td>132822.000000</td>\n",
              "      <td>132822.000000</td>\n",
              "      <td>132822.000000</td>\n",
              "      <td>132822.000000</td>\n",
              "      <td>132822.000000</td>\n",
              "    </tr>\n",
              "    <tr>\n",
              "      <th>mean</th>\n",
              "      <td>66580.896501</td>\n",
              "      <td>4.724622e+07</td>\n",
              "      <td>29.443286</td>\n",
              "      <td>34.422234</td>\n",
              "      <td>500.392533</td>\n",
              "      <td>647.262283</td>\n",
              "      <td>0.255292</td>\n",
              "      <td>0.063988</td>\n",
              "      <td>0.099991</td>\n",
              "    </tr>\n",
              "    <tr>\n",
              "      <th>std</th>\n",
              "      <td>38352.754248</td>\n",
              "      <td>1.329716e+07</td>\n",
              "      <td>202.335509</td>\n",
              "      <td>372.976511</td>\n",
              "      <td>288.729975</td>\n",
              "      <td>1106.288792</td>\n",
              "      <td>0.177134</td>\n",
              "      <td>0.244732</td>\n",
              "      <td>0.299989</td>\n",
              "    </tr>\n",
              "    <tr>\n",
              "      <th>min</th>\n",
              "      <td>0.000000</td>\n",
              "      <td>1.240700e+04</td>\n",
              "      <td>0.030000</td>\n",
              "      <td>0.020000</td>\n",
              "      <td>0.000000</td>\n",
              "      <td>2.000000</td>\n",
              "      <td>0.000007</td>\n",
              "      <td>0.000000</td>\n",
              "      <td>0.000000</td>\n",
              "    </tr>\n",
              "    <tr>\n",
              "      <th>25%</th>\n",
              "      <td>33377.250000</td>\n",
              "      <td>3.878514e+07</td>\n",
              "      <td>0.030000</td>\n",
              "      <td>0.030000</td>\n",
              "      <td>250.000000</td>\n",
              "      <td>136.000000</td>\n",
              "      <td>0.125445</td>\n",
              "      <td>0.000000</td>\n",
              "      <td>0.000000</td>\n",
              "    </tr>\n",
              "    <tr>\n",
              "      <th>50%</th>\n",
              "      <td>66583.500000</td>\n",
              "      <td>5.176906e+07</td>\n",
              "      <td>0.100000</td>\n",
              "      <td>0.120000</td>\n",
              "      <td>500.000000</td>\n",
              "      <td>611.000000</td>\n",
              "      <td>0.223606</td>\n",
              "      <td>0.000000</td>\n",
              "      <td>0.000000</td>\n",
              "    </tr>\n",
              "    <tr>\n",
              "      <th>75%</th>\n",
              "      <td>99792.750000</td>\n",
              "      <td>5.838940e+07</td>\n",
              "      <td>1.590000</td>\n",
              "      <td>3.000000</td>\n",
              "      <td>751.000000</td>\n",
              "      <td>841.000000</td>\n",
              "      <td>0.361484</td>\n",
              "      <td>0.000000</td>\n",
              "      <td>0.000000</td>\n",
              "    </tr>\n",
              "    <tr>\n",
              "      <th>max</th>\n",
              "      <td>133004.000000</td>\n",
              "      <td>6.096650e+07</td>\n",
              "      <td>16609.350000</td>\n",
              "      <td>49999.990000</td>\n",
              "      <td>1000.000000</td>\n",
              "      <td>10088.000000</td>\n",
              "      <td>0.999827</td>\n",
              "      <td>1.000000</td>\n",
              "      <td>1.000000</td>\n",
              "    </tr>\n",
              "  </tbody>\n",
              "</table>\n",
              "</div>\n",
              "      <button class=\"colab-df-convert\" onclick=\"convertToInteractive('df-76b3f12c-dc95-466e-8c8a-bf4e7d131618')\"\n",
              "              title=\"Convert this dataframe to an interactive table.\"\n",
              "              style=\"display:none;\">\n",
              "        \n",
              "  <svg xmlns=\"http://www.w3.org/2000/svg\" height=\"24px\"viewBox=\"0 0 24 24\"\n",
              "       width=\"24px\">\n",
              "    <path d=\"M0 0h24v24H0V0z\" fill=\"none\"/>\n",
              "    <path d=\"M18.56 5.44l.94 2.06.94-2.06 2.06-.94-2.06-.94-.94-2.06-.94 2.06-2.06.94zm-11 1L8.5 8.5l.94-2.06 2.06-.94-2.06-.94L8.5 2.5l-.94 2.06-2.06.94zm10 10l.94 2.06.94-2.06 2.06-.94-2.06-.94-.94-2.06-.94 2.06-2.06.94z\"/><path d=\"M17.41 7.96l-1.37-1.37c-.4-.4-.92-.59-1.43-.59-.52 0-1.04.2-1.43.59L10.3 9.45l-7.72 7.72c-.78.78-.78 2.05 0 2.83L4 21.41c.39.39.9.59 1.41.59.51 0 1.02-.2 1.41-.59l7.78-7.78 2.81-2.81c.8-.78.8-2.07 0-2.86zM5.41 20L4 18.59l7.72-7.72 1.47 1.35L5.41 20z\"/>\n",
              "  </svg>\n",
              "      </button>\n",
              "      \n",
              "  <style>\n",
              "    .colab-df-container {\n",
              "      display:flex;\n",
              "      flex-wrap:wrap;\n",
              "      gap: 12px;\n",
              "    }\n",
              "\n",
              "    .colab-df-convert {\n",
              "      background-color: #E8F0FE;\n",
              "      border: none;\n",
              "      border-radius: 50%;\n",
              "      cursor: pointer;\n",
              "      display: none;\n",
              "      fill: #1967D2;\n",
              "      height: 32px;\n",
              "      padding: 0 0 0 0;\n",
              "      width: 32px;\n",
              "    }\n",
              "\n",
              "    .colab-df-convert:hover {\n",
              "      background-color: #E2EBFA;\n",
              "      box-shadow: 0px 1px 2px rgba(60, 64, 67, 0.3), 0px 1px 3px 1px rgba(60, 64, 67, 0.15);\n",
              "      fill: #174EA6;\n",
              "    }\n",
              "\n",
              "    [theme=dark] .colab-df-convert {\n",
              "      background-color: #3B4455;\n",
              "      fill: #D2E3FC;\n",
              "    }\n",
              "\n",
              "    [theme=dark] .colab-df-convert:hover {\n",
              "      background-color: #434B5C;\n",
              "      box-shadow: 0px 1px 3px 1px rgba(0, 0, 0, 0.15);\n",
              "      filter: drop-shadow(0px 1px 2px rgba(0, 0, 0, 0.3));\n",
              "      fill: #FFFFFF;\n",
              "    }\n",
              "  </style>\n",
              "\n",
              "      <script>\n",
              "        const buttonEl =\n",
              "          document.querySelector('#df-76b3f12c-dc95-466e-8c8a-bf4e7d131618 button.colab-df-convert');\n",
              "        buttonEl.style.display =\n",
              "          google.colab.kernel.accessAllowed ? 'block' : 'none';\n",
              "\n",
              "        async function convertToInteractive(key) {\n",
              "          const element = document.querySelector('#df-76b3f12c-dc95-466e-8c8a-bf4e7d131618');\n",
              "          const dataTable =\n",
              "            await google.colab.kernel.invokeFunction('convertToInteractive',\n",
              "                                                     [key], {});\n",
              "          if (!dataTable) return;\n",
              "\n",
              "          const docLinkHtml = 'Like what you see? Visit the ' +\n",
              "            '<a target=\"_blank\" href=https://colab.research.google.com/notebooks/data_table.ipynb>data table notebook</a>'\n",
              "            + ' to learn more about interactive tables.';\n",
              "          element.innerHTML = '';\n",
              "          dataTable['output_type'] = 'display_data';\n",
              "          await google.colab.output.renderOutput(dataTable, element);\n",
              "          const docLink = document.createElement('div');\n",
              "          docLink.innerHTML = docLinkHtml;\n",
              "          element.appendChild(docLink);\n",
              "        }\n",
              "      </script>\n",
              "    </div>\n",
              "  </div>\n",
              "  "
            ]
          },
          "metadata": {},
          "execution_count": 243
        }
      ]
    },
    {
      "cell_type": "code",
      "source": [
        "data.info()"
      ],
      "metadata": {
        "colab": {
          "base_uri": "https://localhost:8080/"
        },
        "id": "39hYs7ilQ20H",
        "outputId": "5561e54f-684d-4873-df20-53634365f819"
      },
      "execution_count": 241,
      "outputs": [
        {
          "output_type": "stream",
          "name": "stdout",
          "text": [
            "<class 'pandas.core.frame.DataFrame'>\n",
            "RangeIndex: 132822 entries, 0 to 132821\n",
            "Data columns (total 23 columns):\n",
            " #   Column          Non-Null Count   Dtype  \n",
            "---  ------          --------------   -----  \n",
            " 0   index           132822 non-null  int64  \n",
            " 1   assetId         132822 non-null  int64  \n",
            " 2   family          132822 non-null  object \n",
            " 3   color           132822 non-null  object \n",
            " 4   lock            132822 non-null  object \n",
            " 5   version         132822 non-null  object \n",
            " 6   versionType     132822 non-null  object \n",
            " 7   suggestedPrice  132822 non-null  float64\n",
            " 8   salePrice       132822 non-null  float64\n",
            " 9   category        132822 non-null  object \n",
            " 10  subCategory     132822 non-null  object \n",
            " 11  pattern         132822 non-null  int64  \n",
            " 12  finish          132822 non-null  int64  \n",
            " 13  wear            132822 non-null  float64\n",
            " 14  type            132822 non-null  object \n",
            " 15  exterior        132822 non-null  object \n",
            " 16  quality         132822 non-null  object \n",
            " 17  rarity          132822 non-null  object \n",
            " 18  rarityColor     132822 non-null  object \n",
            " 19  collection      132822 non-null  object \n",
            " 20  stickers        132822 non-null  object \n",
            " 21  souvenir        132822 non-null  int64  \n",
            " 22  stattrak        132822 non-null  int64  \n",
            "dtypes: float64(3), int64(6), object(14)\n",
            "memory usage: 23.3+ MB\n"
          ]
        }
      ]
    },
    {
      "cell_type": "code",
      "source": [
        "data.corr()"
      ],
      "metadata": {
        "colab": {
          "base_uri": "https://localhost:8080/",
          "height": 332
        },
        "id": "Fq0dpoCrRRC4",
        "outputId": "61e73fa3-0205-496c-a9f5-84f0b692b0b6"
      },
      "execution_count": 242,
      "outputs": [
        {
          "output_type": "execute_result",
          "data": {
            "text/plain": [
              "                   index   assetId  suggestedPrice  salePrice   pattern  \\\n",
              "index           1.000000 -0.140313       -0.108998  -0.062490  0.000838   \n",
              "assetId        -0.140313  1.000000        0.068147   0.030457  0.002101   \n",
              "suggestedPrice -0.108998  0.068147        1.000000   0.600735 -0.000626   \n",
              "salePrice      -0.062490  0.030457        0.600735   1.000000  0.000718   \n",
              "pattern         0.000838  0.002101       -0.000626   0.000718  1.000000   \n",
              "finish          0.166137  0.148028        0.139426   0.075264 -0.000575   \n",
              "wear            0.083231 -0.134380       -0.093623  -0.059444 -0.000641   \n",
              "souvenir        0.105433  0.049078       -0.029624  -0.013751  0.002937   \n",
              "stattrak       -0.083764  0.145613        0.030637   0.027065 -0.001540   \n",
              "\n",
              "                  finish      wear  souvenir  stattrak  \n",
              "index           0.166137  0.083231  0.105433 -0.083764  \n",
              "assetId         0.148028 -0.134380  0.049078  0.145613  \n",
              "suggestedPrice  0.139426 -0.093623 -0.029624  0.030637  \n",
              "salePrice       0.075264 -0.059444 -0.013751  0.027065  \n",
              "pattern        -0.000575 -0.000641  0.002937 -0.001540  \n",
              "finish          1.000000 -0.007651  0.017879  0.009869  \n",
              "wear           -0.007651  1.000000 -0.079244 -0.020883  \n",
              "souvenir        0.017879 -0.079244  1.000000 -0.087150  \n",
              "stattrak        0.009869 -0.020883 -0.087150  1.000000  "
            ],
            "text/html": [
              "\n",
              "  <div id=\"df-7222d855-957a-4e59-b43a-7dd9b4b29c10\">\n",
              "    <div class=\"colab-df-container\">\n",
              "      <div>\n",
              "<style scoped>\n",
              "    .dataframe tbody tr th:only-of-type {\n",
              "        vertical-align: middle;\n",
              "    }\n",
              "\n",
              "    .dataframe tbody tr th {\n",
              "        vertical-align: top;\n",
              "    }\n",
              "\n",
              "    .dataframe thead th {\n",
              "        text-align: right;\n",
              "    }\n",
              "</style>\n",
              "<table border=\"1\" class=\"dataframe\">\n",
              "  <thead>\n",
              "    <tr style=\"text-align: right;\">\n",
              "      <th></th>\n",
              "      <th>index</th>\n",
              "      <th>assetId</th>\n",
              "      <th>suggestedPrice</th>\n",
              "      <th>salePrice</th>\n",
              "      <th>pattern</th>\n",
              "      <th>finish</th>\n",
              "      <th>wear</th>\n",
              "      <th>souvenir</th>\n",
              "      <th>stattrak</th>\n",
              "    </tr>\n",
              "  </thead>\n",
              "  <tbody>\n",
              "    <tr>\n",
              "      <th>index</th>\n",
              "      <td>1.000000</td>\n",
              "      <td>-0.140313</td>\n",
              "      <td>-0.108998</td>\n",
              "      <td>-0.062490</td>\n",
              "      <td>0.000838</td>\n",
              "      <td>0.166137</td>\n",
              "      <td>0.083231</td>\n",
              "      <td>0.105433</td>\n",
              "      <td>-0.083764</td>\n",
              "    </tr>\n",
              "    <tr>\n",
              "      <th>assetId</th>\n",
              "      <td>-0.140313</td>\n",
              "      <td>1.000000</td>\n",
              "      <td>0.068147</td>\n",
              "      <td>0.030457</td>\n",
              "      <td>0.002101</td>\n",
              "      <td>0.148028</td>\n",
              "      <td>-0.134380</td>\n",
              "      <td>0.049078</td>\n",
              "      <td>0.145613</td>\n",
              "    </tr>\n",
              "    <tr>\n",
              "      <th>suggestedPrice</th>\n",
              "      <td>-0.108998</td>\n",
              "      <td>0.068147</td>\n",
              "      <td>1.000000</td>\n",
              "      <td>0.600735</td>\n",
              "      <td>-0.000626</td>\n",
              "      <td>0.139426</td>\n",
              "      <td>-0.093623</td>\n",
              "      <td>-0.029624</td>\n",
              "      <td>0.030637</td>\n",
              "    </tr>\n",
              "    <tr>\n",
              "      <th>salePrice</th>\n",
              "      <td>-0.062490</td>\n",
              "      <td>0.030457</td>\n",
              "      <td>0.600735</td>\n",
              "      <td>1.000000</td>\n",
              "      <td>0.000718</td>\n",
              "      <td>0.075264</td>\n",
              "      <td>-0.059444</td>\n",
              "      <td>-0.013751</td>\n",
              "      <td>0.027065</td>\n",
              "    </tr>\n",
              "    <tr>\n",
              "      <th>pattern</th>\n",
              "      <td>0.000838</td>\n",
              "      <td>0.002101</td>\n",
              "      <td>-0.000626</td>\n",
              "      <td>0.000718</td>\n",
              "      <td>1.000000</td>\n",
              "      <td>-0.000575</td>\n",
              "      <td>-0.000641</td>\n",
              "      <td>0.002937</td>\n",
              "      <td>-0.001540</td>\n",
              "    </tr>\n",
              "    <tr>\n",
              "      <th>finish</th>\n",
              "      <td>0.166137</td>\n",
              "      <td>0.148028</td>\n",
              "      <td>0.139426</td>\n",
              "      <td>0.075264</td>\n",
              "      <td>-0.000575</td>\n",
              "      <td>1.000000</td>\n",
              "      <td>-0.007651</td>\n",
              "      <td>0.017879</td>\n",
              "      <td>0.009869</td>\n",
              "    </tr>\n",
              "    <tr>\n",
              "      <th>wear</th>\n",
              "      <td>0.083231</td>\n",
              "      <td>-0.134380</td>\n",
              "      <td>-0.093623</td>\n",
              "      <td>-0.059444</td>\n",
              "      <td>-0.000641</td>\n",
              "      <td>-0.007651</td>\n",
              "      <td>1.000000</td>\n",
              "      <td>-0.079244</td>\n",
              "      <td>-0.020883</td>\n",
              "    </tr>\n",
              "    <tr>\n",
              "      <th>souvenir</th>\n",
              "      <td>0.105433</td>\n",
              "      <td>0.049078</td>\n",
              "      <td>-0.029624</td>\n",
              "      <td>-0.013751</td>\n",
              "      <td>0.002937</td>\n",
              "      <td>0.017879</td>\n",
              "      <td>-0.079244</td>\n",
              "      <td>1.000000</td>\n",
              "      <td>-0.087150</td>\n",
              "    </tr>\n",
              "    <tr>\n",
              "      <th>stattrak</th>\n",
              "      <td>-0.083764</td>\n",
              "      <td>0.145613</td>\n",
              "      <td>0.030637</td>\n",
              "      <td>0.027065</td>\n",
              "      <td>-0.001540</td>\n",
              "      <td>0.009869</td>\n",
              "      <td>-0.020883</td>\n",
              "      <td>-0.087150</td>\n",
              "      <td>1.000000</td>\n",
              "    </tr>\n",
              "  </tbody>\n",
              "</table>\n",
              "</div>\n",
              "      <button class=\"colab-df-convert\" onclick=\"convertToInteractive('df-7222d855-957a-4e59-b43a-7dd9b4b29c10')\"\n",
              "              title=\"Convert this dataframe to an interactive table.\"\n",
              "              style=\"display:none;\">\n",
              "        \n",
              "  <svg xmlns=\"http://www.w3.org/2000/svg\" height=\"24px\"viewBox=\"0 0 24 24\"\n",
              "       width=\"24px\">\n",
              "    <path d=\"M0 0h24v24H0V0z\" fill=\"none\"/>\n",
              "    <path d=\"M18.56 5.44l.94 2.06.94-2.06 2.06-.94-2.06-.94-.94-2.06-.94 2.06-2.06.94zm-11 1L8.5 8.5l.94-2.06 2.06-.94-2.06-.94L8.5 2.5l-.94 2.06-2.06.94zm10 10l.94 2.06.94-2.06 2.06-.94-2.06-.94-.94-2.06-.94 2.06-2.06.94z\"/><path d=\"M17.41 7.96l-1.37-1.37c-.4-.4-.92-.59-1.43-.59-.52 0-1.04.2-1.43.59L10.3 9.45l-7.72 7.72c-.78.78-.78 2.05 0 2.83L4 21.41c.39.39.9.59 1.41.59.51 0 1.02-.2 1.41-.59l7.78-7.78 2.81-2.81c.8-.78.8-2.07 0-2.86zM5.41 20L4 18.59l7.72-7.72 1.47 1.35L5.41 20z\"/>\n",
              "  </svg>\n",
              "      </button>\n",
              "      \n",
              "  <style>\n",
              "    .colab-df-container {\n",
              "      display:flex;\n",
              "      flex-wrap:wrap;\n",
              "      gap: 12px;\n",
              "    }\n",
              "\n",
              "    .colab-df-convert {\n",
              "      background-color: #E8F0FE;\n",
              "      border: none;\n",
              "      border-radius: 50%;\n",
              "      cursor: pointer;\n",
              "      display: none;\n",
              "      fill: #1967D2;\n",
              "      height: 32px;\n",
              "      padding: 0 0 0 0;\n",
              "      width: 32px;\n",
              "    }\n",
              "\n",
              "    .colab-df-convert:hover {\n",
              "      background-color: #E2EBFA;\n",
              "      box-shadow: 0px 1px 2px rgba(60, 64, 67, 0.3), 0px 1px 3px 1px rgba(60, 64, 67, 0.15);\n",
              "      fill: #174EA6;\n",
              "    }\n",
              "\n",
              "    [theme=dark] .colab-df-convert {\n",
              "      background-color: #3B4455;\n",
              "      fill: #D2E3FC;\n",
              "    }\n",
              "\n",
              "    [theme=dark] .colab-df-convert:hover {\n",
              "      background-color: #434B5C;\n",
              "      box-shadow: 0px 1px 3px 1px rgba(0, 0, 0, 0.15);\n",
              "      filter: drop-shadow(0px 1px 2px rgba(0, 0, 0, 0.3));\n",
              "      fill: #FFFFFF;\n",
              "    }\n",
              "  </style>\n",
              "\n",
              "      <script>\n",
              "        const buttonEl =\n",
              "          document.querySelector('#df-7222d855-957a-4e59-b43a-7dd9b4b29c10 button.colab-df-convert');\n",
              "        buttonEl.style.display =\n",
              "          google.colab.kernel.accessAllowed ? 'block' : 'none';\n",
              "\n",
              "        async function convertToInteractive(key) {\n",
              "          const element = document.querySelector('#df-7222d855-957a-4e59-b43a-7dd9b4b29c10');\n",
              "          const dataTable =\n",
              "            await google.colab.kernel.invokeFunction('convertToInteractive',\n",
              "                                                     [key], {});\n",
              "          if (!dataTable) return;\n",
              "\n",
              "          const docLinkHtml = 'Like what you see? Visit the ' +\n",
              "            '<a target=\"_blank\" href=https://colab.research.google.com/notebooks/data_table.ipynb>data table notebook</a>'\n",
              "            + ' to learn more about interactive tables.';\n",
              "          element.innerHTML = '';\n",
              "          dataTable['output_type'] = 'display_data';\n",
              "          await google.colab.output.renderOutput(dataTable, element);\n",
              "          const docLink = document.createElement('div');\n",
              "          docLink.innerHTML = docLinkHtml;\n",
              "          element.appendChild(docLink);\n",
              "        }\n",
              "      </script>\n",
              "    </div>\n",
              "  </div>\n",
              "  "
            ]
          },
          "metadata": {},
          "execution_count": 242
        }
      ]
    },
    {
      "cell_type": "markdown",
      "source": [
        "###Visualisierungen"
      ],
      "metadata": {
        "id": "UCNvpFcSRq1u"
      }
    },
    {
      "cell_type": "code",
      "source": [
        "xx"
      ],
      "metadata": {
        "id": "f84ztUMeSUN1"
      },
      "execution_count": null,
      "outputs": []
    },
    {
      "cell_type": "markdown",
      "source": [
        "###Strategie Datenaufbereitung für Modelle:\n"
      ],
      "metadata": {
        "id": "mR7q5sscQoJb"
      }
    },
    {
      "cell_type": "markdown",
      "source": [
        "- assetId: passt\n",
        "- family: eig zu viel\n",
        "- color: Datentyp ändern, auf int64 umstellen, 4 Ausprägungen\n",
        "- lock: passt\n",
        "- version: genauer angucken, villeicht one hot encoding?\n",
        "- versionType: kann man eig rausschmeißen, ist überordnung von version\n",
        "- suggestedPrice: passt\n",
        "- salePrice: passt\n",
        "- Category: One Hot Encoding\n",
        "- subCategory: viele ausprägungen... ohe?\n",
        "- pattern: passt\n",
        "- finish: passt\n",
        "- wear: passt\n",
        "- type: gute allg. Beschreibung, vollständig.. ohe?\n",
        "- exterior: lable encoding\n",
        "- quality: lable encoding\n",
        "- rarity: lable encoding\n",
        "- collection: nochmal angucken, ohe?\n",
        "- stickers: passt\n",
        "- souvenir: passt\n",
        "- stattrack: passt\n",
        "\n",
        "wenn zu viel OHE, dann frequency-encoding probieren?\n",
        "https://medium.com/swlh/stop-one-hot-encoding-your-categorical-features-avoid-curse-of-dimensionality-16743c32cea4\n",
        "\"The frequency distribution of the column Country can be generated using the pandas' function: data[‘country’].value_counts()\n",
        "Now replace each of the categories with their frequency in the data, for example, United States will be replaced by 7768, Russia by 1161. This technique is very each to implement and is a tremendously popular technique amongst Kagglers.\n",
        "The downside of using this technique, if some categories have the same count, then they will be treated similarly by the model, hence losing some information.\""
      ],
      "metadata": {
        "id": "_8xY8TuLJY-O"
      }
    },
    {
      "cell_type": "markdown",
      "source": [
        ""
      ],
      "metadata": {
        "id": "f-upZy35QfLb"
      }
    },
    {
      "cell_type": "markdown",
      "source": [
        "####Daten in richriges Format bringen"
      ],
      "metadata": {
        "id": "_WCAqfgmRW76"
      }
    },
    {
      "cell_type": "code",
      "source": [
        ""
      ],
      "metadata": {
        "id": "Mzzj5zrlQ92z"
      },
      "execution_count": 72,
      "outputs": []
    },
    {
      "cell_type": "code",
      "source": [
        ""
      ],
      "metadata": {
        "colab": {
          "base_uri": "https://localhost:8080/"
        },
        "id": "n5Ql3QzDRRD8",
        "outputId": "6c0e093f-ccad-4950-f9da-81e09744888c"
      },
      "execution_count": 74,
      "outputs": [
        {
          "output_type": "execute_result",
          "data": {
            "text/plain": [
              "numpy.float64"
            ]
          },
          "metadata": {},
          "execution_count": 74
        }
      ]
    },
    {
      "cell_type": "code",
      "source": [
        "data.shape"
      ],
      "metadata": {
        "colab": {
          "base_uri": "https://localhost:8080/"
        },
        "id": "_sTRtMcRGPKj",
        "outputId": "92deebd1-913d-4f54-ce3d-5a31a135d823"
      },
      "execution_count": 23,
      "outputs": [
        {
          "output_type": "execute_result",
          "data": {
            "text/plain": [
              "(133005, 22)"
            ]
          },
          "metadata": {},
          "execution_count": 23
        }
      ]
    },
    {
      "cell_type": "code",
      "source": [
        "data.describe()"
      ],
      "metadata": {
        "colab": {
          "base_uri": "https://localhost:8080/",
          "height": 300
        },
        "id": "dTAwuqG3GUA9",
        "outputId": "0066fdd5-36af-4eff-e8ba-178c0929e790"
      },
      "execution_count": 24,
      "outputs": [
        {
          "output_type": "execute_result",
          "data": {
            "text/plain": [
              "            assetId  suggestedPrice     salePrice        pattern  \\\n",
              "count  1.330050e+05    1.330050e+05  1.330050e+05  132989.000000   \n",
              "mean   4.725580e+07    2.980865e+03  3.474846e+03     500.420666   \n",
              "std    1.329796e+07    2.026899e+04  3.729475e+04     288.741671   \n",
              "min    1.240700e+04    3.000000e+00  2.000000e+00       0.000000   \n",
              "25%    3.879762e+07    3.000000e+00  3.000000e+00     250.000000   \n",
              "50%    5.179799e+07    1.000000e+01  1.200000e+01     500.000000   \n",
              "75%    5.840813e+07    1.620000e+02  3.050000e+02     751.000000   \n",
              "max    6.096650e+07    1.660935e+06  4.999999e+06    1000.000000   \n",
              "\n",
              "              finish           wear  \n",
              "count  132838.000000  133005.000000  \n",
              "mean      647.236386       0.255393  \n",
              "std      1106.231091       0.177147  \n",
              "min         2.000000       0.000007  \n",
              "25%       136.000000       0.125489  \n",
              "50%       611.000000       0.223698  \n",
              "75%       841.000000       0.361605  \n",
              "max     10088.000000       0.999827  "
            ],
            "text/html": [
              "\n",
              "  <div id=\"df-c8d777c5-4013-41b2-bdfb-2f22a4c8b62e\">\n",
              "    <div class=\"colab-df-container\">\n",
              "      <div>\n",
              "<style scoped>\n",
              "    .dataframe tbody tr th:only-of-type {\n",
              "        vertical-align: middle;\n",
              "    }\n",
              "\n",
              "    .dataframe tbody tr th {\n",
              "        vertical-align: top;\n",
              "    }\n",
              "\n",
              "    .dataframe thead th {\n",
              "        text-align: right;\n",
              "    }\n",
              "</style>\n",
              "<table border=\"1\" class=\"dataframe\">\n",
              "  <thead>\n",
              "    <tr style=\"text-align: right;\">\n",
              "      <th></th>\n",
              "      <th>assetId</th>\n",
              "      <th>suggestedPrice</th>\n",
              "      <th>salePrice</th>\n",
              "      <th>pattern</th>\n",
              "      <th>finish</th>\n",
              "      <th>wear</th>\n",
              "    </tr>\n",
              "  </thead>\n",
              "  <tbody>\n",
              "    <tr>\n",
              "      <th>count</th>\n",
              "      <td>1.330050e+05</td>\n",
              "      <td>1.330050e+05</td>\n",
              "      <td>1.330050e+05</td>\n",
              "      <td>132989.000000</td>\n",
              "      <td>132838.000000</td>\n",
              "      <td>133005.000000</td>\n",
              "    </tr>\n",
              "    <tr>\n",
              "      <th>mean</th>\n",
              "      <td>4.725580e+07</td>\n",
              "      <td>2.980865e+03</td>\n",
              "      <td>3.474846e+03</td>\n",
              "      <td>500.420666</td>\n",
              "      <td>647.236386</td>\n",
              "      <td>0.255393</td>\n",
              "    </tr>\n",
              "    <tr>\n",
              "      <th>std</th>\n",
              "      <td>1.329796e+07</td>\n",
              "      <td>2.026899e+04</td>\n",
              "      <td>3.729475e+04</td>\n",
              "      <td>288.741671</td>\n",
              "      <td>1106.231091</td>\n",
              "      <td>0.177147</td>\n",
              "    </tr>\n",
              "    <tr>\n",
              "      <th>min</th>\n",
              "      <td>1.240700e+04</td>\n",
              "      <td>3.000000e+00</td>\n",
              "      <td>2.000000e+00</td>\n",
              "      <td>0.000000</td>\n",
              "      <td>2.000000</td>\n",
              "      <td>0.000007</td>\n",
              "    </tr>\n",
              "    <tr>\n",
              "      <th>25%</th>\n",
              "      <td>3.879762e+07</td>\n",
              "      <td>3.000000e+00</td>\n",
              "      <td>3.000000e+00</td>\n",
              "      <td>250.000000</td>\n",
              "      <td>136.000000</td>\n",
              "      <td>0.125489</td>\n",
              "    </tr>\n",
              "    <tr>\n",
              "      <th>50%</th>\n",
              "      <td>5.179799e+07</td>\n",
              "      <td>1.000000e+01</td>\n",
              "      <td>1.200000e+01</td>\n",
              "      <td>500.000000</td>\n",
              "      <td>611.000000</td>\n",
              "      <td>0.223698</td>\n",
              "    </tr>\n",
              "    <tr>\n",
              "      <th>75%</th>\n",
              "      <td>5.840813e+07</td>\n",
              "      <td>1.620000e+02</td>\n",
              "      <td>3.050000e+02</td>\n",
              "      <td>751.000000</td>\n",
              "      <td>841.000000</td>\n",
              "      <td>0.361605</td>\n",
              "    </tr>\n",
              "    <tr>\n",
              "      <th>max</th>\n",
              "      <td>6.096650e+07</td>\n",
              "      <td>1.660935e+06</td>\n",
              "      <td>4.999999e+06</td>\n",
              "      <td>1000.000000</td>\n",
              "      <td>10088.000000</td>\n",
              "      <td>0.999827</td>\n",
              "    </tr>\n",
              "  </tbody>\n",
              "</table>\n",
              "</div>\n",
              "      <button class=\"colab-df-convert\" onclick=\"convertToInteractive('df-c8d777c5-4013-41b2-bdfb-2f22a4c8b62e')\"\n",
              "              title=\"Convert this dataframe to an interactive table.\"\n",
              "              style=\"display:none;\">\n",
              "        \n",
              "  <svg xmlns=\"http://www.w3.org/2000/svg\" height=\"24px\"viewBox=\"0 0 24 24\"\n",
              "       width=\"24px\">\n",
              "    <path d=\"M0 0h24v24H0V0z\" fill=\"none\"/>\n",
              "    <path d=\"M18.56 5.44l.94 2.06.94-2.06 2.06-.94-2.06-.94-.94-2.06-.94 2.06-2.06.94zm-11 1L8.5 8.5l.94-2.06 2.06-.94-2.06-.94L8.5 2.5l-.94 2.06-2.06.94zm10 10l.94 2.06.94-2.06 2.06-.94-2.06-.94-.94-2.06-.94 2.06-2.06.94z\"/><path d=\"M17.41 7.96l-1.37-1.37c-.4-.4-.92-.59-1.43-.59-.52 0-1.04.2-1.43.59L10.3 9.45l-7.72 7.72c-.78.78-.78 2.05 0 2.83L4 21.41c.39.39.9.59 1.41.59.51 0 1.02-.2 1.41-.59l7.78-7.78 2.81-2.81c.8-.78.8-2.07 0-2.86zM5.41 20L4 18.59l7.72-7.72 1.47 1.35L5.41 20z\"/>\n",
              "  </svg>\n",
              "      </button>\n",
              "      \n",
              "  <style>\n",
              "    .colab-df-container {\n",
              "      display:flex;\n",
              "      flex-wrap:wrap;\n",
              "      gap: 12px;\n",
              "    }\n",
              "\n",
              "    .colab-df-convert {\n",
              "      background-color: #E8F0FE;\n",
              "      border: none;\n",
              "      border-radius: 50%;\n",
              "      cursor: pointer;\n",
              "      display: none;\n",
              "      fill: #1967D2;\n",
              "      height: 32px;\n",
              "      padding: 0 0 0 0;\n",
              "      width: 32px;\n",
              "    }\n",
              "\n",
              "    .colab-df-convert:hover {\n",
              "      background-color: #E2EBFA;\n",
              "      box-shadow: 0px 1px 2px rgba(60, 64, 67, 0.3), 0px 1px 3px 1px rgba(60, 64, 67, 0.15);\n",
              "      fill: #174EA6;\n",
              "    }\n",
              "\n",
              "    [theme=dark] .colab-df-convert {\n",
              "      background-color: #3B4455;\n",
              "      fill: #D2E3FC;\n",
              "    }\n",
              "\n",
              "    [theme=dark] .colab-df-convert:hover {\n",
              "      background-color: #434B5C;\n",
              "      box-shadow: 0px 1px 3px 1px rgba(0, 0, 0, 0.15);\n",
              "      filter: drop-shadow(0px 1px 2px rgba(0, 0, 0, 0.3));\n",
              "      fill: #FFFFFF;\n",
              "    }\n",
              "  </style>\n",
              "\n",
              "      <script>\n",
              "        const buttonEl =\n",
              "          document.querySelector('#df-c8d777c5-4013-41b2-bdfb-2f22a4c8b62e button.colab-df-convert');\n",
              "        buttonEl.style.display =\n",
              "          google.colab.kernel.accessAllowed ? 'block' : 'none';\n",
              "\n",
              "        async function convertToInteractive(key) {\n",
              "          const element = document.querySelector('#df-c8d777c5-4013-41b2-bdfb-2f22a4c8b62e');\n",
              "          const dataTable =\n",
              "            await google.colab.kernel.invokeFunction('convertToInteractive',\n",
              "                                                     [key], {});\n",
              "          if (!dataTable) return;\n",
              "\n",
              "          const docLinkHtml = 'Like what you see? Visit the ' +\n",
              "            '<a target=\"_blank\" href=https://colab.research.google.com/notebooks/data_table.ipynb>data table notebook</a>'\n",
              "            + ' to learn more about interactive tables.';\n",
              "          element.innerHTML = '';\n",
              "          dataTable['output_type'] = 'display_data';\n",
              "          await google.colab.output.renderOutput(dataTable, element);\n",
              "          const docLink = document.createElement('div');\n",
              "          docLink.innerHTML = docLinkHtml;\n",
              "          element.appendChild(docLink);\n",
              "        }\n",
              "      </script>\n",
              "    </div>\n",
              "  </div>\n",
              "  "
            ]
          },
          "metadata": {},
          "execution_count": 24
        }
      ]
    },
    {
      "cell_type": "code",
      "source": [
        "data.category.describe()"
      ],
      "metadata": {
        "colab": {
          "base_uri": "https://localhost:8080/"
        },
        "id": "TyYCxzenGbJ8",
        "outputId": "b0036f41-40d0-4396-fccb-8269690fd42f"
      },
      "execution_count": 25,
      "outputs": [
        {
          "output_type": "execute_result",
          "data": {
            "text/plain": [
              "count     133005\n",
              "unique         6\n",
              "top        Rifle\n",
              "freq       43667\n",
              "Name: category, dtype: object"
            ]
          },
          "metadata": {},
          "execution_count": 25
        }
      ]
    },
    {
      "cell_type": "code",
      "source": [
        "data.category.value_counts()"
      ],
      "metadata": {
        "colab": {
          "base_uri": "https://localhost:8080/"
        },
        "id": "H2uAxSZKGifM",
        "outputId": "2b108c2e-1878-405c-c981-1d6500ccc20f"
      },
      "execution_count": 26,
      "outputs": [
        {
          "output_type": "execute_result",
          "data": {
            "text/plain": [
              "Rifle     43667\n",
              "Pistol    37351\n",
              "SMG       28135\n",
              "Heavy     17467\n",
              "Knife      4771\n",
              "Gloves     1614\n",
              "Name: category, dtype: int64"
            ]
          },
          "metadata": {},
          "execution_count": 26
        }
      ]
    },
    {
      "cell_type": "code",
      "source": [
        "data.corr()\n",
        "'''Die Untersuchung bivariater Beziehungen ist nützlich, wenn Sie ein Ergebnis oder eine abhängige \n",
        "Variable im Auge haben und die Merkmale sehen möchten, die am stärksten mit der Zunahme oder Abnahme \n",
        "des Ergebnisses korrelieren. Sie können bivariate Beziehungen mit Hilfe von Streudiagrammen visuell \n",
        "darstellen (siehe unten im Abschnitt über die Darstellung).'''"
      ],
      "metadata": {
        "colab": {
          "base_uri": "https://localhost:8080/",
          "height": 300
        },
        "id": "DsENOckUGp3A",
        "outputId": "202c4a6f-d6be-4f74-d39a-c7baec9c68a4"
      },
      "execution_count": 27,
      "outputs": [
        {
          "output_type": "execute_result",
          "data": {
            "text/plain": [
              "                 assetId  suggestedPrice  salePrice   pattern    finish  \\\n",
              "assetId         1.000000        0.068925   0.030860  0.002147  0.148031   \n",
              "suggestedPrice  0.068925        1.000000   0.601326 -0.000339  0.139428   \n",
              "salePrice       0.030860        0.601326   1.000000  0.000858  0.075266   \n",
              "pattern         0.002147       -0.000339   0.000858  1.000000 -0.000575   \n",
              "finish          0.148031        0.139428   0.075266 -0.000575  1.000000   \n",
              "wear           -0.133814       -0.092672  -0.059053 -0.000563 -0.007651   \n",
              "souvenir        0.048783       -0.030024  -0.013972  0.002910  0.017888   \n",
              "stattrak        0.145395        0.031478   0.027527 -0.001460  0.009874   \n",
              "\n",
              "                    wear  souvenir  stattrak  \n",
              "assetId        -0.133814  0.048783  0.145395  \n",
              "suggestedPrice -0.092672 -0.030024  0.031478  \n",
              "salePrice      -0.059053 -0.013972  0.027527  \n",
              "pattern        -0.000563  0.002910 -0.001460  \n",
              "finish         -0.007651  0.017888  0.009874  \n",
              "wear            1.000000 -0.079354 -0.021019  \n",
              "souvenir       -0.079354  1.000000 -0.087119  \n",
              "stattrak       -0.021019 -0.087119  1.000000  "
            ],
            "text/html": [
              "\n",
              "  <div id=\"df-4f524835-60c3-4f8d-a600-3b2549dabc99\">\n",
              "    <div class=\"colab-df-container\">\n",
              "      <div>\n",
              "<style scoped>\n",
              "    .dataframe tbody tr th:only-of-type {\n",
              "        vertical-align: middle;\n",
              "    }\n",
              "\n",
              "    .dataframe tbody tr th {\n",
              "        vertical-align: top;\n",
              "    }\n",
              "\n",
              "    .dataframe thead th {\n",
              "        text-align: right;\n",
              "    }\n",
              "</style>\n",
              "<table border=\"1\" class=\"dataframe\">\n",
              "  <thead>\n",
              "    <tr style=\"text-align: right;\">\n",
              "      <th></th>\n",
              "      <th>assetId</th>\n",
              "      <th>suggestedPrice</th>\n",
              "      <th>salePrice</th>\n",
              "      <th>pattern</th>\n",
              "      <th>finish</th>\n",
              "      <th>wear</th>\n",
              "      <th>souvenir</th>\n",
              "      <th>stattrak</th>\n",
              "    </tr>\n",
              "  </thead>\n",
              "  <tbody>\n",
              "    <tr>\n",
              "      <th>assetId</th>\n",
              "      <td>1.000000</td>\n",
              "      <td>0.068925</td>\n",
              "      <td>0.030860</td>\n",
              "      <td>0.002147</td>\n",
              "      <td>0.148031</td>\n",
              "      <td>-0.133814</td>\n",
              "      <td>0.048783</td>\n",
              "      <td>0.145395</td>\n",
              "    </tr>\n",
              "    <tr>\n",
              "      <th>suggestedPrice</th>\n",
              "      <td>0.068925</td>\n",
              "      <td>1.000000</td>\n",
              "      <td>0.601326</td>\n",
              "      <td>-0.000339</td>\n",
              "      <td>0.139428</td>\n",
              "      <td>-0.092672</td>\n",
              "      <td>-0.030024</td>\n",
              "      <td>0.031478</td>\n",
              "    </tr>\n",
              "    <tr>\n",
              "      <th>salePrice</th>\n",
              "      <td>0.030860</td>\n",
              "      <td>0.601326</td>\n",
              "      <td>1.000000</td>\n",
              "      <td>0.000858</td>\n",
              "      <td>0.075266</td>\n",
              "      <td>-0.059053</td>\n",
              "      <td>-0.013972</td>\n",
              "      <td>0.027527</td>\n",
              "    </tr>\n",
              "    <tr>\n",
              "      <th>pattern</th>\n",
              "      <td>0.002147</td>\n",
              "      <td>-0.000339</td>\n",
              "      <td>0.000858</td>\n",
              "      <td>1.000000</td>\n",
              "      <td>-0.000575</td>\n",
              "      <td>-0.000563</td>\n",
              "      <td>0.002910</td>\n",
              "      <td>-0.001460</td>\n",
              "    </tr>\n",
              "    <tr>\n",
              "      <th>finish</th>\n",
              "      <td>0.148031</td>\n",
              "      <td>0.139428</td>\n",
              "      <td>0.075266</td>\n",
              "      <td>-0.000575</td>\n",
              "      <td>1.000000</td>\n",
              "      <td>-0.007651</td>\n",
              "      <td>0.017888</td>\n",
              "      <td>0.009874</td>\n",
              "    </tr>\n",
              "    <tr>\n",
              "      <th>wear</th>\n",
              "      <td>-0.133814</td>\n",
              "      <td>-0.092672</td>\n",
              "      <td>-0.059053</td>\n",
              "      <td>-0.000563</td>\n",
              "      <td>-0.007651</td>\n",
              "      <td>1.000000</td>\n",
              "      <td>-0.079354</td>\n",
              "      <td>-0.021019</td>\n",
              "    </tr>\n",
              "    <tr>\n",
              "      <th>souvenir</th>\n",
              "      <td>0.048783</td>\n",
              "      <td>-0.030024</td>\n",
              "      <td>-0.013972</td>\n",
              "      <td>0.002910</td>\n",
              "      <td>0.017888</td>\n",
              "      <td>-0.079354</td>\n",
              "      <td>1.000000</td>\n",
              "      <td>-0.087119</td>\n",
              "    </tr>\n",
              "    <tr>\n",
              "      <th>stattrak</th>\n",
              "      <td>0.145395</td>\n",
              "      <td>0.031478</td>\n",
              "      <td>0.027527</td>\n",
              "      <td>-0.001460</td>\n",
              "      <td>0.009874</td>\n",
              "      <td>-0.021019</td>\n",
              "      <td>-0.087119</td>\n",
              "      <td>1.000000</td>\n",
              "    </tr>\n",
              "  </tbody>\n",
              "</table>\n",
              "</div>\n",
              "      <button class=\"colab-df-convert\" onclick=\"convertToInteractive('df-4f524835-60c3-4f8d-a600-3b2549dabc99')\"\n",
              "              title=\"Convert this dataframe to an interactive table.\"\n",
              "              style=\"display:none;\">\n",
              "        \n",
              "  <svg xmlns=\"http://www.w3.org/2000/svg\" height=\"24px\"viewBox=\"0 0 24 24\"\n",
              "       width=\"24px\">\n",
              "    <path d=\"M0 0h24v24H0V0z\" fill=\"none\"/>\n",
              "    <path d=\"M18.56 5.44l.94 2.06.94-2.06 2.06-.94-2.06-.94-.94-2.06-.94 2.06-2.06.94zm-11 1L8.5 8.5l.94-2.06 2.06-.94-2.06-.94L8.5 2.5l-.94 2.06-2.06.94zm10 10l.94 2.06.94-2.06 2.06-.94-2.06-.94-.94-2.06-.94 2.06-2.06.94z\"/><path d=\"M17.41 7.96l-1.37-1.37c-.4-.4-.92-.59-1.43-.59-.52 0-1.04.2-1.43.59L10.3 9.45l-7.72 7.72c-.78.78-.78 2.05 0 2.83L4 21.41c.39.39.9.59 1.41.59.51 0 1.02-.2 1.41-.59l7.78-7.78 2.81-2.81c.8-.78.8-2.07 0-2.86zM5.41 20L4 18.59l7.72-7.72 1.47 1.35L5.41 20z\"/>\n",
              "  </svg>\n",
              "      </button>\n",
              "      \n",
              "  <style>\n",
              "    .colab-df-container {\n",
              "      display:flex;\n",
              "      flex-wrap:wrap;\n",
              "      gap: 12px;\n",
              "    }\n",
              "\n",
              "    .colab-df-convert {\n",
              "      background-color: #E8F0FE;\n",
              "      border: none;\n",
              "      border-radius: 50%;\n",
              "      cursor: pointer;\n",
              "      display: none;\n",
              "      fill: #1967D2;\n",
              "      height: 32px;\n",
              "      padding: 0 0 0 0;\n",
              "      width: 32px;\n",
              "    }\n",
              "\n",
              "    .colab-df-convert:hover {\n",
              "      background-color: #E2EBFA;\n",
              "      box-shadow: 0px 1px 2px rgba(60, 64, 67, 0.3), 0px 1px 3px 1px rgba(60, 64, 67, 0.15);\n",
              "      fill: #174EA6;\n",
              "    }\n",
              "\n",
              "    [theme=dark] .colab-df-convert {\n",
              "      background-color: #3B4455;\n",
              "      fill: #D2E3FC;\n",
              "    }\n",
              "\n",
              "    [theme=dark] .colab-df-convert:hover {\n",
              "      background-color: #434B5C;\n",
              "      box-shadow: 0px 1px 3px 1px rgba(0, 0, 0, 0.15);\n",
              "      filter: drop-shadow(0px 1px 2px rgba(0, 0, 0, 0.3));\n",
              "      fill: #FFFFFF;\n",
              "    }\n",
              "  </style>\n",
              "\n",
              "      <script>\n",
              "        const buttonEl =\n",
              "          document.querySelector('#df-4f524835-60c3-4f8d-a600-3b2549dabc99 button.colab-df-convert');\n",
              "        buttonEl.style.display =\n",
              "          google.colab.kernel.accessAllowed ? 'block' : 'none';\n",
              "\n",
              "        async function convertToInteractive(key) {\n",
              "          const element = document.querySelector('#df-4f524835-60c3-4f8d-a600-3b2549dabc99');\n",
              "          const dataTable =\n",
              "            await google.colab.kernel.invokeFunction('convertToInteractive',\n",
              "                                                     [key], {});\n",
              "          if (!dataTable) return;\n",
              "\n",
              "          const docLinkHtml = 'Like what you see? Visit the ' +\n",
              "            '<a target=\"_blank\" href=https://colab.research.google.com/notebooks/data_table.ipynb>data table notebook</a>'\n",
              "            + ' to learn more about interactive tables.';\n",
              "          element.innerHTML = '';\n",
              "          dataTable['output_type'] = 'display_data';\n",
              "          await google.colab.output.renderOutput(dataTable, element);\n",
              "          const docLink = document.createElement('div');\n",
              "          docLink.innerHTML = docLinkHtml;\n",
              "          element.appendChild(docLink);\n",
              "        }\n",
              "      </script>\n",
              "    </div>\n",
              "  </div>\n",
              "  "
            ]
          },
          "metadata": {},
          "execution_count": 27
        }
      ]
    },
    {
      "cell_type": "code",
      "source": [
        "data = data.drop_duplicates()"
      ],
      "metadata": {
        "id": "xQGkI1pqHEWB"
      },
      "execution_count": null,
      "outputs": []
    },
    {
      "cell_type": "code",
      "source": [
        "data.isnull()"
      ],
      "metadata": {
        "colab": {
          "base_uri": "https://localhost:8080/",
          "height": 488
        },
        "id": "hMeomPbuHPIk",
        "outputId": "8947e82f-ef64-475a-be20-b0fa4e6b3fab"
      },
      "execution_count": 28,
      "outputs": [
        {
          "output_type": "execute_result",
          "data": {
            "text/plain": [
              "        assetId  family  color   lock  version  versionType  suggestedPrice  \\\n",
              "0         False   False  False   True    False        False           False   \n",
              "1         False   False  False  False    False        False           False   \n",
              "2         False   False  False   True    False        False           False   \n",
              "3         False   False  False   True    False        False           False   \n",
              "4         False   False  False  False    False        False           False   \n",
              "...         ...     ...    ...    ...      ...          ...             ...   \n",
              "133000    False   False  False  False    False        False           False   \n",
              "133001    False   False  False  False    False        False           False   \n",
              "133002    False   False  False  False    False        False           False   \n",
              "133003    False   False  False  False    False        False           False   \n",
              "133004    False   False  False  False    False        False           False   \n",
              "\n",
              "        salePrice  category  subCategory  ...   wear   type  exterior  \\\n",
              "0           False     False        False  ...  False  False     False   \n",
              "1           False     False        False  ...  False  False     False   \n",
              "2           False     False        False  ...  False  False     False   \n",
              "3           False     False        False  ...  False  False     False   \n",
              "4           False     False        False  ...  False  False     False   \n",
              "...           ...       ...          ...  ...    ...    ...       ...   \n",
              "133000      False     False        False  ...  False  False     False   \n",
              "133001      False     False        False  ...  False  False     False   \n",
              "133002      False     False        False  ...  False  False     False   \n",
              "133003      False     False        False  ...  False  False     False   \n",
              "133004      False     False        False  ...  False  False     False   \n",
              "\n",
              "        quality  rarity  rarityColor  collection  stickers  souvenir  stattrak  \n",
              "0         False   False        False        True     False     False     False  \n",
              "1         False   False        False        True     False     False     False  \n",
              "2         False   False        False        True     False     False     False  \n",
              "3         False   False        False        True     False     False     False  \n",
              "4         False   False        False        True     False     False     False  \n",
              "...         ...     ...          ...         ...       ...       ...       ...  \n",
              "133000    False   False        False        True     False     False     False  \n",
              "133001    False   False        False        True     False     False     False  \n",
              "133002    False   False        False        True     False     False     False  \n",
              "133003    False   False        False        True     False     False     False  \n",
              "133004    False   False        False        True     False     False     False  \n",
              "\n",
              "[133005 rows x 22 columns]"
            ],
            "text/html": [
              "\n",
              "  <div id=\"df-3411fb37-5720-43b2-ad8f-1ded07c62e39\">\n",
              "    <div class=\"colab-df-container\">\n",
              "      <div>\n",
              "<style scoped>\n",
              "    .dataframe tbody tr th:only-of-type {\n",
              "        vertical-align: middle;\n",
              "    }\n",
              "\n",
              "    .dataframe tbody tr th {\n",
              "        vertical-align: top;\n",
              "    }\n",
              "\n",
              "    .dataframe thead th {\n",
              "        text-align: right;\n",
              "    }\n",
              "</style>\n",
              "<table border=\"1\" class=\"dataframe\">\n",
              "  <thead>\n",
              "    <tr style=\"text-align: right;\">\n",
              "      <th></th>\n",
              "      <th>assetId</th>\n",
              "      <th>family</th>\n",
              "      <th>color</th>\n",
              "      <th>lock</th>\n",
              "      <th>version</th>\n",
              "      <th>versionType</th>\n",
              "      <th>suggestedPrice</th>\n",
              "      <th>salePrice</th>\n",
              "      <th>category</th>\n",
              "      <th>subCategory</th>\n",
              "      <th>...</th>\n",
              "      <th>wear</th>\n",
              "      <th>type</th>\n",
              "      <th>exterior</th>\n",
              "      <th>quality</th>\n",
              "      <th>rarity</th>\n",
              "      <th>rarityColor</th>\n",
              "      <th>collection</th>\n",
              "      <th>stickers</th>\n",
              "      <th>souvenir</th>\n",
              "      <th>stattrak</th>\n",
              "    </tr>\n",
              "  </thead>\n",
              "  <tbody>\n",
              "    <tr>\n",
              "      <th>0</th>\n",
              "      <td>False</td>\n",
              "      <td>False</td>\n",
              "      <td>False</td>\n",
              "      <td>True</td>\n",
              "      <td>False</td>\n",
              "      <td>False</td>\n",
              "      <td>False</td>\n",
              "      <td>False</td>\n",
              "      <td>False</td>\n",
              "      <td>False</td>\n",
              "      <td>...</td>\n",
              "      <td>False</td>\n",
              "      <td>False</td>\n",
              "      <td>False</td>\n",
              "      <td>False</td>\n",
              "      <td>False</td>\n",
              "      <td>False</td>\n",
              "      <td>True</td>\n",
              "      <td>False</td>\n",
              "      <td>False</td>\n",
              "      <td>False</td>\n",
              "    </tr>\n",
              "    <tr>\n",
              "      <th>1</th>\n",
              "      <td>False</td>\n",
              "      <td>False</td>\n",
              "      <td>False</td>\n",
              "      <td>False</td>\n",
              "      <td>False</td>\n",
              "      <td>False</td>\n",
              "      <td>False</td>\n",
              "      <td>False</td>\n",
              "      <td>False</td>\n",
              "      <td>False</td>\n",
              "      <td>...</td>\n",
              "      <td>False</td>\n",
              "      <td>False</td>\n",
              "      <td>False</td>\n",
              "      <td>False</td>\n",
              "      <td>False</td>\n",
              "      <td>False</td>\n",
              "      <td>True</td>\n",
              "      <td>False</td>\n",
              "      <td>False</td>\n",
              "      <td>False</td>\n",
              "    </tr>\n",
              "    <tr>\n",
              "      <th>2</th>\n",
              "      <td>False</td>\n",
              "      <td>False</td>\n",
              "      <td>False</td>\n",
              "      <td>True</td>\n",
              "      <td>False</td>\n",
              "      <td>False</td>\n",
              "      <td>False</td>\n",
              "      <td>False</td>\n",
              "      <td>False</td>\n",
              "      <td>False</td>\n",
              "      <td>...</td>\n",
              "      <td>False</td>\n",
              "      <td>False</td>\n",
              "      <td>False</td>\n",
              "      <td>False</td>\n",
              "      <td>False</td>\n",
              "      <td>False</td>\n",
              "      <td>True</td>\n",
              "      <td>False</td>\n",
              "      <td>False</td>\n",
              "      <td>False</td>\n",
              "    </tr>\n",
              "    <tr>\n",
              "      <th>3</th>\n",
              "      <td>False</td>\n",
              "      <td>False</td>\n",
              "      <td>False</td>\n",
              "      <td>True</td>\n",
              "      <td>False</td>\n",
              "      <td>False</td>\n",
              "      <td>False</td>\n",
              "      <td>False</td>\n",
              "      <td>False</td>\n",
              "      <td>False</td>\n",
              "      <td>...</td>\n",
              "      <td>False</td>\n",
              "      <td>False</td>\n",
              "      <td>False</td>\n",
              "      <td>False</td>\n",
              "      <td>False</td>\n",
              "      <td>False</td>\n",
              "      <td>True</td>\n",
              "      <td>False</td>\n",
              "      <td>False</td>\n",
              "      <td>False</td>\n",
              "    </tr>\n",
              "    <tr>\n",
              "      <th>4</th>\n",
              "      <td>False</td>\n",
              "      <td>False</td>\n",
              "      <td>False</td>\n",
              "      <td>False</td>\n",
              "      <td>False</td>\n",
              "      <td>False</td>\n",
              "      <td>False</td>\n",
              "      <td>False</td>\n",
              "      <td>False</td>\n",
              "      <td>False</td>\n",
              "      <td>...</td>\n",
              "      <td>False</td>\n",
              "      <td>False</td>\n",
              "      <td>False</td>\n",
              "      <td>False</td>\n",
              "      <td>False</td>\n",
              "      <td>False</td>\n",
              "      <td>True</td>\n",
              "      <td>False</td>\n",
              "      <td>False</td>\n",
              "      <td>False</td>\n",
              "    </tr>\n",
              "    <tr>\n",
              "      <th>...</th>\n",
              "      <td>...</td>\n",
              "      <td>...</td>\n",
              "      <td>...</td>\n",
              "      <td>...</td>\n",
              "      <td>...</td>\n",
              "      <td>...</td>\n",
              "      <td>...</td>\n",
              "      <td>...</td>\n",
              "      <td>...</td>\n",
              "      <td>...</td>\n",
              "      <td>...</td>\n",
              "      <td>...</td>\n",
              "      <td>...</td>\n",
              "      <td>...</td>\n",
              "      <td>...</td>\n",
              "      <td>...</td>\n",
              "      <td>...</td>\n",
              "      <td>...</td>\n",
              "      <td>...</td>\n",
              "      <td>...</td>\n",
              "      <td>...</td>\n",
              "    </tr>\n",
              "    <tr>\n",
              "      <th>133000</th>\n",
              "      <td>False</td>\n",
              "      <td>False</td>\n",
              "      <td>False</td>\n",
              "      <td>False</td>\n",
              "      <td>False</td>\n",
              "      <td>False</td>\n",
              "      <td>False</td>\n",
              "      <td>False</td>\n",
              "      <td>False</td>\n",
              "      <td>False</td>\n",
              "      <td>...</td>\n",
              "      <td>False</td>\n",
              "      <td>False</td>\n",
              "      <td>False</td>\n",
              "      <td>False</td>\n",
              "      <td>False</td>\n",
              "      <td>False</td>\n",
              "      <td>True</td>\n",
              "      <td>False</td>\n",
              "      <td>False</td>\n",
              "      <td>False</td>\n",
              "    </tr>\n",
              "    <tr>\n",
              "      <th>133001</th>\n",
              "      <td>False</td>\n",
              "      <td>False</td>\n",
              "      <td>False</td>\n",
              "      <td>False</td>\n",
              "      <td>False</td>\n",
              "      <td>False</td>\n",
              "      <td>False</td>\n",
              "      <td>False</td>\n",
              "      <td>False</td>\n",
              "      <td>False</td>\n",
              "      <td>...</td>\n",
              "      <td>False</td>\n",
              "      <td>False</td>\n",
              "      <td>False</td>\n",
              "      <td>False</td>\n",
              "      <td>False</td>\n",
              "      <td>False</td>\n",
              "      <td>True</td>\n",
              "      <td>False</td>\n",
              "      <td>False</td>\n",
              "      <td>False</td>\n",
              "    </tr>\n",
              "    <tr>\n",
              "      <th>133002</th>\n",
              "      <td>False</td>\n",
              "      <td>False</td>\n",
              "      <td>False</td>\n",
              "      <td>False</td>\n",
              "      <td>False</td>\n",
              "      <td>False</td>\n",
              "      <td>False</td>\n",
              "      <td>False</td>\n",
              "      <td>False</td>\n",
              "      <td>False</td>\n",
              "      <td>...</td>\n",
              "      <td>False</td>\n",
              "      <td>False</td>\n",
              "      <td>False</td>\n",
              "      <td>False</td>\n",
              "      <td>False</td>\n",
              "      <td>False</td>\n",
              "      <td>True</td>\n",
              "      <td>False</td>\n",
              "      <td>False</td>\n",
              "      <td>False</td>\n",
              "    </tr>\n",
              "    <tr>\n",
              "      <th>133003</th>\n",
              "      <td>False</td>\n",
              "      <td>False</td>\n",
              "      <td>False</td>\n",
              "      <td>False</td>\n",
              "      <td>False</td>\n",
              "      <td>False</td>\n",
              "      <td>False</td>\n",
              "      <td>False</td>\n",
              "      <td>False</td>\n",
              "      <td>False</td>\n",
              "      <td>...</td>\n",
              "      <td>False</td>\n",
              "      <td>False</td>\n",
              "      <td>False</td>\n",
              "      <td>False</td>\n",
              "      <td>False</td>\n",
              "      <td>False</td>\n",
              "      <td>True</td>\n",
              "      <td>False</td>\n",
              "      <td>False</td>\n",
              "      <td>False</td>\n",
              "    </tr>\n",
              "    <tr>\n",
              "      <th>133004</th>\n",
              "      <td>False</td>\n",
              "      <td>False</td>\n",
              "      <td>False</td>\n",
              "      <td>False</td>\n",
              "      <td>False</td>\n",
              "      <td>False</td>\n",
              "      <td>False</td>\n",
              "      <td>False</td>\n",
              "      <td>False</td>\n",
              "      <td>False</td>\n",
              "      <td>...</td>\n",
              "      <td>False</td>\n",
              "      <td>False</td>\n",
              "      <td>False</td>\n",
              "      <td>False</td>\n",
              "      <td>False</td>\n",
              "      <td>False</td>\n",
              "      <td>True</td>\n",
              "      <td>False</td>\n",
              "      <td>False</td>\n",
              "      <td>False</td>\n",
              "    </tr>\n",
              "  </tbody>\n",
              "</table>\n",
              "<p>133005 rows × 22 columns</p>\n",
              "</div>\n",
              "      <button class=\"colab-df-convert\" onclick=\"convertToInteractive('df-3411fb37-5720-43b2-ad8f-1ded07c62e39')\"\n",
              "              title=\"Convert this dataframe to an interactive table.\"\n",
              "              style=\"display:none;\">\n",
              "        \n",
              "  <svg xmlns=\"http://www.w3.org/2000/svg\" height=\"24px\"viewBox=\"0 0 24 24\"\n",
              "       width=\"24px\">\n",
              "    <path d=\"M0 0h24v24H0V0z\" fill=\"none\"/>\n",
              "    <path d=\"M18.56 5.44l.94 2.06.94-2.06 2.06-.94-2.06-.94-.94-2.06-.94 2.06-2.06.94zm-11 1L8.5 8.5l.94-2.06 2.06-.94-2.06-.94L8.5 2.5l-.94 2.06-2.06.94zm10 10l.94 2.06.94-2.06 2.06-.94-2.06-.94-.94-2.06-.94 2.06-2.06.94z\"/><path d=\"M17.41 7.96l-1.37-1.37c-.4-.4-.92-.59-1.43-.59-.52 0-1.04.2-1.43.59L10.3 9.45l-7.72 7.72c-.78.78-.78 2.05 0 2.83L4 21.41c.39.39.9.59 1.41.59.51 0 1.02-.2 1.41-.59l7.78-7.78 2.81-2.81c.8-.78.8-2.07 0-2.86zM5.41 20L4 18.59l7.72-7.72 1.47 1.35L5.41 20z\"/>\n",
              "  </svg>\n",
              "      </button>\n",
              "      \n",
              "  <style>\n",
              "    .colab-df-container {\n",
              "      display:flex;\n",
              "      flex-wrap:wrap;\n",
              "      gap: 12px;\n",
              "    }\n",
              "\n",
              "    .colab-df-convert {\n",
              "      background-color: #E8F0FE;\n",
              "      border: none;\n",
              "      border-radius: 50%;\n",
              "      cursor: pointer;\n",
              "      display: none;\n",
              "      fill: #1967D2;\n",
              "      height: 32px;\n",
              "      padding: 0 0 0 0;\n",
              "      width: 32px;\n",
              "    }\n",
              "\n",
              "    .colab-df-convert:hover {\n",
              "      background-color: #E2EBFA;\n",
              "      box-shadow: 0px 1px 2px rgba(60, 64, 67, 0.3), 0px 1px 3px 1px rgba(60, 64, 67, 0.15);\n",
              "      fill: #174EA6;\n",
              "    }\n",
              "\n",
              "    [theme=dark] .colab-df-convert {\n",
              "      background-color: #3B4455;\n",
              "      fill: #D2E3FC;\n",
              "    }\n",
              "\n",
              "    [theme=dark] .colab-df-convert:hover {\n",
              "      background-color: #434B5C;\n",
              "      box-shadow: 0px 1px 3px 1px rgba(0, 0, 0, 0.15);\n",
              "      filter: drop-shadow(0px 1px 2px rgba(0, 0, 0, 0.3));\n",
              "      fill: #FFFFFF;\n",
              "    }\n",
              "  </style>\n",
              "\n",
              "      <script>\n",
              "        const buttonEl =\n",
              "          document.querySelector('#df-3411fb37-5720-43b2-ad8f-1ded07c62e39 button.colab-df-convert');\n",
              "        buttonEl.style.display =\n",
              "          google.colab.kernel.accessAllowed ? 'block' : 'none';\n",
              "\n",
              "        async function convertToInteractive(key) {\n",
              "          const element = document.querySelector('#df-3411fb37-5720-43b2-ad8f-1ded07c62e39');\n",
              "          const dataTable =\n",
              "            await google.colab.kernel.invokeFunction('convertToInteractive',\n",
              "                                                     [key], {});\n",
              "          if (!dataTable) return;\n",
              "\n",
              "          const docLinkHtml = 'Like what you see? Visit the ' +\n",
              "            '<a target=\"_blank\" href=https://colab.research.google.com/notebooks/data_table.ipynb>data table notebook</a>'\n",
              "            + ' to learn more about interactive tables.';\n",
              "          element.innerHTML = '';\n",
              "          dataTable['output_type'] = 'display_data';\n",
              "          await google.colab.output.renderOutput(dataTable, element);\n",
              "          const docLink = document.createElement('div');\n",
              "          docLink.innerHTML = docLinkHtml;\n",
              "          element.appendChild(docLink);\n",
              "        }\n",
              "      </script>\n",
              "    </div>\n",
              "  </div>\n",
              "  "
            ]
          },
          "metadata": {},
          "execution_count": 28
        }
      ]
    },
    {
      "cell_type": "code",
      "source": [
        "data.isnull().sum()"
      ],
      "metadata": {
        "colab": {
          "base_uri": "https://localhost:8080/"
        },
        "id": "4u55eLJ9HfKm",
        "outputId": "27289a4b-c83a-4695-92f5-6e5d19f3186f"
      },
      "execution_count": 29,
      "outputs": [
        {
          "output_type": "execute_result",
          "data": {
            "text/plain": [
              "assetId                0\n",
              "family                 0\n",
              "color                  0\n",
              "lock              103601\n",
              "version                0\n",
              "versionType            0\n",
              "suggestedPrice         0\n",
              "salePrice              0\n",
              "category               0\n",
              "subCategory            0\n",
              "pattern               16\n",
              "finish               167\n",
              "wear                   0\n",
              "type                   0\n",
              "exterior               0\n",
              "quality                0\n",
              "rarity                 0\n",
              "rarityColor            0\n",
              "collection          4680\n",
              "stickers               0\n",
              "souvenir               0\n",
              "stattrak               0\n",
              "dtype: int64"
            ]
          },
          "metadata": {},
          "execution_count": 29
        }
      ]
    },
    {
      "cell_type": "code",
      "source": [
        "data = data.dropna()"
      ],
      "metadata": {
        "id": "Z917NHuNHj5Y"
      },
      "execution_count": null,
      "outputs": []
    },
    {
      "cell_type": "code",
      "source": [
        "data.std()"
      ],
      "metadata": {
        "colab": {
          "base_uri": "https://localhost:8080/"
        },
        "id": "Vuzzd4DyH3sU",
        "outputId": "65f601ba-dd03-44c3-80e6-0d477bc29584"
      },
      "execution_count": 30,
      "outputs": [
        {
          "output_type": "stream",
          "name": "stderr",
          "text": [
            "/usr/local/lib/python3.7/dist-packages/ipykernel_launcher.py:1: FutureWarning: Dropping of nuisance columns in DataFrame reductions (with 'numeric_only=None') is deprecated; in a future version this will raise TypeError.  Select only valid columns before calling the reduction.\n",
            "  \"\"\"Entry point for launching an IPython kernel.\n"
          ]
        },
        {
          "output_type": "execute_result",
          "data": {
            "text/plain": [
              "assetId           1.329796e+07\n",
              "suggestedPrice    2.026899e+04\n",
              "salePrice         3.729475e+04\n",
              "pattern           2.887417e+02\n",
              "finish            1.106231e+03\n",
              "wear              1.771472e-01\n",
              "souvenir          2.445888e-01\n",
              "stattrak          3.000663e-01\n",
              "dtype: float64"
            ]
          },
          "metadata": {},
          "execution_count": 30
        }
      ]
    },
    {
      "cell_type": "code",
      "source": [
        "data.groupby('category')['salePrice'].median()"
      ],
      "metadata": {
        "colab": {
          "base_uri": "https://localhost:8080/"
        },
        "id": "VPopQybLIBqb",
        "outputId": "d45c872f-9a6c-4258-dd9f-5e97d2738d17"
      },
      "execution_count": 208,
      "outputs": [
        {
          "output_type": "execute_result",
          "data": {
            "text/plain": [
              "category\n",
              "Gloves    161.915\n",
              "Heavy       0.040\n",
              "Knife     235.000\n",
              "Pistol      0.220\n",
              "Rifle       0.350\n",
              "SMG         0.040\n",
              "Name: salePrice, dtype: float64"
            ]
          },
          "metadata": {},
          "execution_count": 208
        }
      ]
    },
    {
      "cell_type": "markdown",
      "source": [
        "#Ausprobiertes"
      ],
      "metadata": {
        "id": "I_S1x6qjuPYz"
      }
    },
    {
      "cell_type": "code",
      "source": [
        "data.assetId[0]"
      ],
      "metadata": {
        "colab": {
          "base_uri": "https://localhost:8080/"
        },
        "id": "g2_g2yKBCgTC",
        "outputId": "df580063-dd58-400c-ca87-a5d65ac41b2f"
      },
      "execution_count": 124,
      "outputs": [
        {
          "output_type": "execute_result",
          "data": {
            "text/plain": [
              "46917102"
            ]
          },
          "metadata": {},
          "execution_count": 124
        }
      ]
    },
    {
      "cell_type": "code",
      "source": [
        "data.subCategory[0]"
      ],
      "metadata": {
        "colab": {
          "base_uri": "https://localhost:8080/",
          "height": 36
        },
        "id": "nIU0Olu3CeXl",
        "outputId": "c99705ed-476d-4dbf-e964-cd0feb5602b4"
      },
      "execution_count": 17,
      "outputs": [
        {
          "output_type": "execute_result",
          "data": {
            "text/plain": [
              "'Bayonet'"
            ],
            "application/vnd.google.colaboratory.intrinsic+json": {
              "type": "string"
            }
          },
          "metadata": {},
          "execution_count": 17
        }
      ]
    },
    {
      "cell_type": "code",
      "source": [
        "data.family[0]"
      ],
      "metadata": {
        "colab": {
          "base_uri": "https://localhost:8080/",
          "height": 36
        },
        "id": "aKbiS6zZCwoj",
        "outputId": "f93c39c7-4293-4919-94bd-b5b8d84bb9bc"
      },
      "execution_count": 18,
      "outputs": [
        {
          "output_type": "execute_result",
          "data": {
            "text/plain": [
              "'Tiger Tooth'"
            ],
            "application/vnd.google.colaboratory.intrinsic+json": {
              "type": "string"
            }
          },
          "metadata": {},
          "execution_count": 18
        }
      ]
    },
    {
      "cell_type": "code",
      "source": [
        "data.type[0]"
      ],
      "metadata": {
        "colab": {
          "base_uri": "https://localhost:8080/",
          "height": 36
        },
        "id": "KtgQakrRC7cy",
        "outputId": "3627fb5a-79e6-4f4c-bb3f-6f6dc0dc54ea"
      },
      "execution_count": 24,
      "outputs": [
        {
          "output_type": "execute_result",
          "data": {
            "text/plain": [
              "'★ Covert Knife'"
            ],
            "application/vnd.google.colaboratory.intrinsic+json": {
              "type": "string"
            }
          },
          "metadata": {},
          "execution_count": 24
        }
      ]
    },
    {
      "cell_type": "code",
      "source": [
        "data.stickers[11300]"
      ],
      "metadata": {
        "colab": {
          "base_uri": "https://localhost:8080/",
          "height": 88
        },
        "id": "o-owtt_PDKxL",
        "outputId": "a48e8563-d046-470d-c86e-3e67e83d63f1"
      },
      "execution_count": 33,
      "outputs": [
        {
          "output_type": "execute_result",
          "data": {
            "text/plain": [
              "\"[{'sticker_id': None, 'wear': None, 'img': 'https://steamcdn-a.akamaihd.net/apps/730/icons/econ/stickers/community02/thuglife.a74c2a8f127182e257ff19650bb087aeee954bb3.png', 'name': 'Thug Life', 'type': None, 'slot': 1, 'color': None, 'name_localized': 'Thug Life', 'type_localized': None}, {'sticker_id': None, 'wear': None, 'img': 'https://steamcdn-a.akamaihd.net/apps/730/icons/econ/stickers/community02/thuglife.a74c2a8f127182e257ff19650bb087aeee954bb3.png', 'name': 'Thug Life', 'type': None, 'slot': 3, 'color': None, 'name_localized': 'Thug Life', 'type_localized': None}]\""
            ],
            "application/vnd.google.colaboratory.intrinsic+json": {
              "type": "string"
            }
          },
          "metadata": {},
          "execution_count": 33
        }
      ]
    },
    {
      "cell_type": "code",
      "source": [
        "data.stattrak[11300]"
      ],
      "metadata": {
        "colab": {
          "base_uri": "https://localhost:8080/"
        },
        "id": "pbE_FXDLDemj",
        "outputId": "b078d873-0ee5-491d-e996-d01d88fd5142"
      },
      "execution_count": 37,
      "outputs": [
        {
          "output_type": "execute_result",
          "data": {
            "text/plain": [
              "True"
            ]
          },
          "metadata": {},
          "execution_count": 37
        }
      ]
    },
    {
      "cell_type": "code",
      "source": [
        "url = \"https://cdn.skinport.com/images/screenshots/46917102/playside_256x128.png\""
      ],
      "metadata": {
        "id": "_EdaSbLNAe8J"
      },
      "execution_count": 9,
      "outputs": []
    },
    {
      "cell_type": "code",
      "source": [
        ""
      ],
      "metadata": {
        "id": "toVlBMNP_vg-"
      },
      "execution_count": 14,
      "outputs": []
    },
    {
      "cell_type": "code",
      "source": [
        "im = Image.open(requests.get(url, stream=True).raw)"
      ],
      "metadata": {
        "id": "PiYFCMVBErYJ"
      },
      "execution_count": 11,
      "outputs": []
    },
    {
      "cell_type": "code",
      "source": [
        "rgb_image = im.convert('RGB')"
      ],
      "metadata": {
        "id": "RvlT7YqhCmBY"
      },
      "execution_count": 12,
      "outputs": []
    },
    {
      "cell_type": "code",
      "source": [
        "pix = np.array(rgb_image)"
      ],
      "metadata": {
        "id": "gRPIPudiHHbE"
      },
      "execution_count": 15,
      "outputs": []
    },
    {
      "cell_type": "code",
      "source": [
        "pix.shape"
      ],
      "metadata": {
        "colab": {
          "base_uri": "https://localhost:8080/"
        },
        "id": "he-oxPjHHWYK",
        "outputId": "2f4ae57f-5739-4dec-a415-c31e89c986f9"
      },
      "execution_count": 16,
      "outputs": [
        {
          "output_type": "execute_result",
          "data": {
            "text/plain": [
              "(128, 256, 3)"
            ]
          },
          "metadata": {},
          "execution_count": 16
        }
      ]
    },
    {
      "cell_type": "code",
      "source": [
        ""
      ],
      "metadata": {
        "id": "fEWyij8yEx-G"
      },
      "execution_count": 71,
      "outputs": []
    },
    {
      "cell_type": "code",
      "source": [
        "def image_colorfulness(image):\n",
        "\t# split the image into its respective RGB components\n",
        "\t(B, G, R) = cv2.split(image.astype(\"float\"))\n",
        "\t# compute rg = R - G\n",
        "\trg = np.absolute(R - G)\n",
        "\t# compute yb = 0.5 * (R + G) - B\n",
        "\tyb = np.absolute(0.5 * (R + G) - B)\n",
        "\t# compute the mean and standard deviation of both `rg` and `yb`\n",
        "\t(rbMean, rbStd) = (np.mean(rg), np.std(rg))\n",
        "\t(ybMean, ybStd) = (np.mean(yb), np.std(yb))\n",
        "\t# combine the mean and standard deviations\n",
        "\tstdRoot = np.sqrt((rbStd ** 2) + (ybStd ** 2))\n",
        "\tmeanRoot = np.sqrt((rbMean ** 2) + (ybMean ** 2))\n",
        "\t# derive the \"colorfulness\" metric and return it\n",
        "\treturn stdRoot + (0.3 * meanRoot)"
      ],
      "metadata": {
        "id": "VfM05UJZEylK"
      },
      "execution_count": 17,
      "outputs": []
    },
    {
      "cell_type": "code",
      "source": [
        "result = image_colorfulness(pix)"
      ],
      "metadata": {
        "id": "8nGQurTM9jpy"
      },
      "execution_count": 18,
      "outputs": []
    },
    {
      "cell_type": "code",
      "source": [
        "result"
      ],
      "metadata": {
        "colab": {
          "base_uri": "https://localhost:8080/"
        },
        "id": "iUf8htyRHbFX",
        "outputId": "8f2496c9-7abc-45f3-bfbc-b1c701e7826f"
      },
      "execution_count": 19,
      "outputs": [
        {
          "output_type": "execute_result",
          "data": {
            "text/plain": [
              "59.79024317069133"
            ]
          },
          "metadata": {},
          "execution_count": 19
        }
      ]
    },
    {
      "cell_type": "code",
      "source": [
        ""
      ],
      "metadata": {
        "id": "hJjhWfLlD3vm"
      },
      "execution_count": null,
      "outputs": []
    }
  ]
}
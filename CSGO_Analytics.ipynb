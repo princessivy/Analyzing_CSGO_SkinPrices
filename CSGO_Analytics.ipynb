{
  "nbformat": 4,
  "nbformat_minor": 0,
  "metadata": {
    "colab": {
      "name": "CSGO_Analytics.ipynb",
      "provenance": [],
      "mount_file_id": "1G6HqfuHyG6dx6wCuWIYE-6pI64xCmaqW",
      "authorship_tag": "ABX9TyORMfNi+os/WnSQ0U127qEH",
      "include_colab_link": true
    },
    "kernelspec": {
      "name": "python3",
      "display_name": "Python 3"
    },
    "language_info": {
      "name": "python"
    }
  },
  "cells": [
    {
      "cell_type": "markdown",
      "metadata": {
        "id": "view-in-github",
        "colab_type": "text"
      },
      "source": [
        "<a href=\"https://colab.research.google.com/github/princessivy/Analyzing_CSGO_SkinPrices/blob/main/CSGO_Analytics.ipynb\" target=\"_parent\"><img src=\"https://colab.research.google.com/assets/colab-badge.svg\" alt=\"Open In Colab\"/></a>"
      ]
    },
    {
      "cell_type": "markdown",
      "source": [
        "#Import & Installs"
      ],
      "metadata": {
        "id": "e3Wp-ca8A9sa"
      }
    },
    {
      "cell_type": "code",
      "execution_count": 37,
      "metadata": {
        "id": "3Oe4ZWnF_N0h"
      },
      "outputs": [],
      "source": [
        "import pandas as pd\n",
        "import requests\n",
        "import json\n",
        "\n",
        "from google.colab import drive\n",
        "from pathlib import Path"
      ]
    },
    {
      "cell_type": "markdown",
      "source": [
        "#Read Data"
      ],
      "metadata": {
        "id": "OEFbJhpaBA65"
      }
    },
    {
      "cell_type": "code",
      "source": [
        "data = pd.read_csv(r'/content/drive/MyDrive/SA_BA/Data/allitems.csv')"
      ],
      "metadata": {
        "colab": {
          "base_uri": "https://localhost:8080/"
        },
        "id": "QYsCiHzrBT3f",
        "outputId": "c7251842-419d-4466-99ec-b983364c0c34"
      },
      "execution_count": 38,
      "outputs": [
        {
          "output_type": "stream",
          "name": "stderr",
          "text": [
            "/usr/local/lib/python3.7/dist-packages/IPython/core/interactiveshell.py:2882: DtypeWarning: Columns (35) have mixed types.Specify dtype option on import or set low_memory=False.\n",
            "  exec(code_obj, self.user_global_ns, self.user_ns)\n"
          ]
        }
      ]
    },
    {
      "cell_type": "code",
      "source": [
        "data.rarityColor.unique()"
      ],
      "metadata": {
        "colab": {
          "base_uri": "https://localhost:8080/"
        },
        "id": "q78ahNZS_SiJ",
        "outputId": "dbdd2e0d-c56b-49ee-c7fc-c9691ff28d2e"
      },
      "execution_count": 23,
      "outputs": [
        {
          "output_type": "execute_result",
          "data": {
            "text/plain": [
              "array(['#eb4b4b', '#8847ff', '#4b69ff', '#d32ee6', '#5e98d9', '#b0c3d9'],\n",
              "      dtype=object)"
            ]
          },
          "metadata": {},
          "execution_count": 23
        }
      ]
    },
    {
      "cell_type": "code",
      "source": [
        "list(data)"
      ],
      "metadata": {
        "colab": {
          "base_uri": "https://localhost:8080/"
        },
        "id": "bXSPClrTB7A_",
        "outputId": "6c29946f-0aad-4b02-e592-3b4796f1666b"
      },
      "execution_count": null,
      "outputs": [
        {
          "output_type": "execute_result",
          "data": {
            "text/plain": [
              "['id',\n",
              " 'saleId',\n",
              " 'productId',\n",
              " 'assetId',\n",
              " 'itemId',\n",
              " 'appid',\n",
              " 'steamid',\n",
              " 'url',\n",
              " 'family',\n",
              " 'family_localized',\n",
              " 'name',\n",
              " 'title',\n",
              " 'text',\n",
              " 'marketName',\n",
              " 'marketHashName',\n",
              " 'color',\n",
              " 'bgColor',\n",
              " 'image',\n",
              " 'classid',\n",
              " 'assetid',\n",
              " 'lock',\n",
              " 'version',\n",
              " 'versionType',\n",
              " 'stackAble',\n",
              " 'suggestedPrice',\n",
              " 'salePrice',\n",
              " 'currency',\n",
              " 'saleStatus',\n",
              " 'saleType',\n",
              " 'category',\n",
              " 'category_localized',\n",
              " 'subCategory',\n",
              " 'subCategory_localized',\n",
              " 'pattern',\n",
              " 'finish',\n",
              " 'customName',\n",
              " 'wear',\n",
              " 'link',\n",
              " 'type',\n",
              " 'exterior',\n",
              " 'quality',\n",
              " 'rarity',\n",
              " 'rarity_localized',\n",
              " 'rarityColor',\n",
              " 'collection',\n",
              " 'collection_localized',\n",
              " 'stickers',\n",
              " 'canHaveScreenshots',\n",
              " 'screenshots',\n",
              " 'souvenir',\n",
              " 'stattrak',\n",
              " 'tags',\n",
              " 'ownItem']"
            ]
          },
          "metadata": {},
          "execution_count": 9
        }
      ]
    },
    {
      "cell_type": "code",
      "source": [
        "data.assetid[10000] == data.assetid[10003]"
      ],
      "metadata": {
        "colab": {
          "base_uri": "https://localhost:8080/"
        },
        "id": "g2_g2yKBCgTC",
        "outputId": "e6b3d4a0-4850-4050-b0bc-6fe5ea92e008"
      },
      "execution_count": 44,
      "outputs": [
        {
          "output_type": "execute_result",
          "data": {
            "text/plain": [
              "False"
            ]
          },
          "metadata": {},
          "execution_count": 44
        }
      ]
    },
    {
      "cell_type": "code",
      "source": [
        "len(data.assetid.unique())"
      ],
      "metadata": {
        "colab": {
          "base_uri": "https://localhost:8080/"
        },
        "id": "_EdaSbLNAe8J",
        "outputId": "71931e0b-a0b5-489b-a4a2-bc45f83ed78c"
      },
      "execution_count": 46,
      "outputs": [
        {
          "output_type": "execute_result",
          "data": {
            "text/plain": [
              "133005"
            ]
          },
          "metadata": {},
          "execution_count": 46
        }
      ]
    },
    {
      "cell_type": "code",
      "source": [
        "data.canHaveScreenshots[10001]"
      ],
      "metadata": {
        "colab": {
          "base_uri": "https://localhost:8080/"
        },
        "id": "toVlBMNP_vg-",
        "outputId": "41d30b6f-a176-47fc-d7b9-c3c3bbda54d3"
      },
      "execution_count": 36,
      "outputs": [
        {
          "output_type": "execute_result",
          "data": {
            "text/plain": [
              "True"
            ]
          },
          "metadata": {},
          "execution_count": 36
        }
      ]
    },
    {
      "cell_type": "code",
      "source": [
        "https://steamcommunity-a.akamaihd.net/economy/image/-9a81dlWLwJ2UUGcVs_nsVtzdOEdtWwKGZZLQHTxDZ7I56KU0Zwwo4NUX4oFJZEHLbXH5ApeO4YmlhxYQknCRvCo04DEVlxkKgposr-kLAtl7ODYTi5S7d-zhoGIksj2P67UqWdY781lteXA54vwxlHt-BZlajyicNXEJwc9NFyGrFPtk7vm05-5tMnOy3IyuSQi5XiMmUGpwUYbUWGLOR8"
      ],
      "metadata": {
        "id": "RvlT7YqhCmBY"
      },
      "execution_count": null,
      "outputs": []
    },
    {
      "cell_type": "code",
      "source": [
        "data.name[10001]"
      ],
      "metadata": {
        "id": "fEWyij8yEx-G",
        "outputId": "a1954901-4b9f-4875-91f9-3824ef6f73cb",
        "colab": {
          "base_uri": "https://localhost:8080/",
          "height": 36
        }
      },
      "execution_count": 32,
      "outputs": [
        {
          "output_type": "execute_result",
          "data": {
            "text/plain": [
              "'Sputnik'"
            ],
            "application/vnd.google.colaboratory.intrinsic+json": {
              "type": "string"
            }
          },
          "metadata": {},
          "execution_count": 32
        }
      ]
    },
    {
      "cell_type": "code",
      "source": [
        "data.image[0]"
      ],
      "metadata": {
        "id": "VfM05UJZEylK",
        "colab": {
          "base_uri": "https://localhost:8080/",
          "height": 53
        },
        "outputId": "7ca071a7-dcef-4e4a-e1d1-e64ef4bac2bf"
      },
      "execution_count": 26,
      "outputs": [
        {
          "output_type": "execute_result",
          "data": {
            "text/plain": [
              "'-9a81dlWLwJ2UUGcVs_nsVtzdOEdtWwKGZZLQHTxDZ7I56KU0Zwwo4NUX4oFJZEHLbXH5ApeO4YmlhxYQknCRvCo04DEVlxkKgpotLu8JAllx8zJfwJW5duzhr-Ehfb6NL7ummJW4NFOhujT8om73wzkrRVvMmz7cIaUIwE9NVyE_QW5xOu-0cTo78zNz3ZruXQj5imMyQv330-wFnub9Q'"
            ],
            "application/vnd.google.colaboratory.intrinsic+json": {
              "type": "string"
            }
          },
          "metadata": {},
          "execution_count": 26
        }
      ]
    },
    {
      "cell_type": "code",
      "source": [
        ""
      ],
      "metadata": {
        "id": "8nGQurTM9jpy"
      },
      "execution_count": null,
      "outputs": []
    }
  ]
}